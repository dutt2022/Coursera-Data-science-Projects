{
  "cells": [
    {
      "cell_type": "markdown",
      "metadata": {
        "id": "view-in-github",
        "colab_type": "text"
      },
      "source": [
        "<a href=\"https://colab.research.google.com/github/dutt2022/Coursera-Data-science-Projects/blob/main/sentiment_analysis_classify_text_with_bert.ipynb\" target=\"_parent\"><img src=\"https://colab.research.google.com/assets/colab-badge.svg\" alt=\"Open In Colab\"/></a>"
      ]
    },
    {
      "cell_type": "markdown",
      "metadata": {
        "id": "Cb4espuLKJiA"
      },
      "source": [
        "\n",
        "##### Copyright 2020 The TensorFlow Hub Authors.\n"
      ]
    },
    {
      "cell_type": "code",
      "execution_count": null,
      "metadata": {
        "cellView": "form",
        "id": "jM3hCI1UUzar"
      },
      "outputs": [],
      "source": [
        "#@title Licensed under the Apache License, Version 2.0 (the \"License\");\n",
        "# you may not use this file except in compliance with the License.\n",
        "# You may obtain a copy of the License at\n",
        "#\n",
        "# https://www.apache.org/licenses/LICENSE-2.0\n",
        "#\n",
        "# Unless required by applicable law or agreed to in writing, software\n",
        "# distributed under the License is distributed on an \"AS IS\" BASIS,\n",
        "# WITHOUT WARRANTIES OR CONDITIONS OF ANY KIND, either express or implied.\n",
        "# See the License for the specific language governing permissions and\n",
        "# limitations under the License."
      ]
    },
    {
      "cell_type": "markdown",
      "metadata": {
        "id": "4_NEJlxKKjyI"
      },
      "source": [
        "<table class=\"tfo-notebook-buttons\" align=\"left\">\n",
        "  <td>\n",
        "    <a target=\"_blank\" href=\"https://www.tensorflow.org/text/tutorials/classify_text_with_bert\"><img src=\"https://www.tensorflow.org/images/tf_logo_32px.png\" />View on TensorFlow.org</a>\n",
        "  </td>\n",
        "  <td>\n",
        "    <a target=\"_blank\" href=\"https://colab.research.google.com/github/tensorflow/text/blob/master/docs/tutorials/classify_text_with_bert.ipynb\"><img src=\"https://www.tensorflow.org/images/colab_logo_32px.png\" />Run in Google Colab</a>\n",
        "  </td>\n",
        "  <td>\n",
        "    <a target=\"_blank\" href=\"https://github.com/tensorflow/text/blob/master/docs/tutorials/classify_text_with_bert.ipynb\"><img src=\"https://www.tensorflow.org/images/GitHub-Mark-32px.png\" />View on GitHub</a>\n",
        "  </td>\n",
        "  <td>\n",
        "    <a href=\"https://storage.googleapis.com/tensorflow_docs/text/docs/tutorials/classify_text_with_bert.ipynb\"><img src=\"https://www.tensorflow.org/images/download_logo_32px.png\" />Download notebook</a>\n",
        "  </td>\n",
        "  <td>\n",
        "    <a href=\"https://tfhub.dev/google/collections/bert/1\"><img src=\"https://www.tensorflow.org/images/hub_logo_32px.png\" />See TF Hub model</a>\n",
        "  </td>\n",
        "</table>"
      ]
    },
    {
      "cell_type": "markdown",
      "metadata": {
        "id": "IZ6SNYq_tVVC"
      },
      "source": [
        "# Classify text with BERT\n",
        "\n",
        "This tutorial contains complete code to fine-tune BERT to perform sentiment analysis on a dataset of plain-text IMDB movie reviews.\n",
        "In addition to training a model, you will learn how to preprocess text into an appropriate format.\n",
        "\n",
        "In this notebook, you will:\n",
        "\n",
        "- Load the IMDB dataset\n",
        "- Load a BERT model from TensorFlow Hub\n",
        "- Build your own model by combining BERT with a classifier\n",
        "- Train your own model, fine-tuning BERT as part of that\n",
        "- Save your model and use it to classify sentences\n",
        "\n",
        "If you're new to working with the IMDB dataset, please see [Basic text classification](https://www.tensorflow.org/tutorials/keras/text_classification) for more details."
      ]
    },
    {
      "cell_type": "markdown",
      "metadata": {
        "id": "2PHBpLPuQdmK"
      },
      "source": [
        "## About BERT\n",
        "\n",
        "[BERT](https://arxiv.org/abs/1810.04805) and other Transformer encoder architectures have been wildly successful on a variety of tasks in NLP (natural language processing). They compute vector-space representations of natural language that are suitable for use in deep learning models. The BERT family of models uses the Transformer encoder architecture to process each token of input text in the full context of all tokens before and after, hence the name: Bidirectional Encoder Representations from Transformers. \n",
        "\n",
        "BERT models are usually pre-trained on a large corpus of text, then fine-tuned for specific tasks.\n"
      ]
    },
    {
      "cell_type": "markdown",
      "metadata": {
        "id": "SCjmX4zTCkRK"
      },
      "source": [
        "## Setup\n"
      ]
    },
    {
      "cell_type": "code",
      "execution_count": null,
      "metadata": {
        "id": "q-YbjCkzw0yU",
        "colab": {
          "base_uri": "https://localhost:8080/"
        },
        "outputId": "6ad6a0f4-6292-44db-9dd8-af7618614808"
      },
      "outputs": [
        {
          "output_type": "stream",
          "name": "stdout",
          "text": [
            "\u001b[K     |████████████████████████████████| 4.9 MB 4.7 MB/s \n",
            "\u001b[?25h"
          ]
        }
      ],
      "source": [
        "# A dependency of the preprocessing for BERT inputs\n",
        "!pip install -q -U \"tensorflow-text==2.8.*\""
      ]
    },
    {
      "cell_type": "markdown",
      "metadata": {
        "id": "5w_XlxN1IsRJ"
      },
      "source": [
        "You will use the AdamW optimizer from [tensorflow/models](https://github.com/tensorflow/models)."
      ]
    },
    {
      "cell_type": "code",
      "execution_count": null,
      "metadata": {
        "id": "b-P1ZOA0FkVJ",
        "colab": {
          "base_uri": "https://localhost:8080/"
        },
        "outputId": "0dd7146d-be5b-4152-9ad6-9af0123177b6"
      },
      "outputs": [
        {
          "output_type": "stream",
          "name": "stdout",
          "text": [
            "\u001b[K     |████████████████████████████████| 1.8 MB 4.6 MB/s \n",
            "\u001b[K     |████████████████████████████████| 352 kB 57.0 MB/s \n",
            "\u001b[K     |████████████████████████████████| 1.1 MB 55.2 MB/s \n",
            "\u001b[K     |████████████████████████████████| 116 kB 74.7 MB/s \n",
            "\u001b[K     |████████████████████████████████| 99 kB 11.4 MB/s \n",
            "\u001b[K     |████████████████████████████████| 238 kB 66.2 MB/s \n",
            "\u001b[K     |████████████████████████████████| 1.3 MB 47.5 MB/s \n",
            "\u001b[K     |████████████████████████████████| 596 kB 73.9 MB/s \n",
            "\u001b[K     |████████████████████████████████| 43 kB 2.5 MB/s \n",
            "\u001b[?25h  Building wheel for py-cpuinfo (setup.py) ... \u001b[?25l\u001b[?25hdone\n",
            "  Building wheel for seqeval (setup.py) ... \u001b[?25l\u001b[?25hdone\n"
          ]
        }
      ],
      "source": [
        "!pip install -q tf-models-official==2.7.0"
      ]
    },
    {
      "cell_type": "code",
      "execution_count": null,
      "metadata": {
        "id": "_XgTpm9ZxoN9"
      },
      "outputs": [],
      "source": [
        "import os\n",
        "import shutil\n",
        "\n",
        "import tensorflow as tf\n",
        "import tensorflow_hub as hub\n",
        "import tensorflow_text as text\n",
        "from official.nlp import optimization  # to create AdamW optimizer\n",
        "\n",
        "import matplotlib.pyplot as plt\n",
        "\n",
        "tf.get_logger().setLevel('ERROR')"
      ]
    },
    {
      "cell_type": "markdown",
      "metadata": {
        "id": "q6MugfEgDRpY"
      },
      "source": [
        "## Sentiment analysis\n",
        "\n",
        "This notebook trains a sentiment analysis model to classify movie reviews as *positive* or *negative*, based on the text of the review.\n",
        "\n",
        "You'll use the [Large Movie Review Dataset](https://ai.stanford.edu/~amaas/data/sentiment/) that contains the text of 50,000 movie reviews from the [Internet Movie Database](https://www.imdb.com/)."
      ]
    },
    {
      "cell_type": "markdown",
      "metadata": {
        "id": "Vnvd4mrtPHHV"
      },
      "source": [
        "### Download the IMDB dataset\n",
        "\n",
        "Let's download and extract the dataset, then explore the directory structure.\n"
      ]
    },
    {
      "cell_type": "code",
      "execution_count": null,
      "metadata": {
        "id": "pOdqCMoQDRJL",
        "colab": {
          "base_uri": "https://localhost:8080/"
        },
        "outputId": "302797d6-8fc2-4bf6-f304-4354fc281476"
      },
      "outputs": [
        {
          "output_type": "stream",
          "name": "stdout",
          "text": [
            "Downloading data from https://ai.stanford.edu/~amaas/data/sentiment/aclImdb_v1.tar.gz\n",
            "84131840/84125825 [==============================] - 2s 0us/step\n",
            "84140032/84125825 [==============================] - 2s 0us/step\n"
          ]
        }
      ],
      "source": [
        "url = 'https://ai.stanford.edu/~amaas/data/sentiment/aclImdb_v1.tar.gz'\n",
        "\n",
        "dataset = tf.keras.utils.get_file('aclImdb_v1.tar.gz', url,\n",
        "                                  untar=True, cache_dir='.',\n",
        "                                  cache_subdir='')\n",
        "\n",
        "dataset_dir = os.path.join(os.path.dirname(dataset), 'aclImdb')\n",
        "\n",
        "train_dir = os.path.join(dataset_dir, 'train')\n",
        "\n",
        "# remove unused folders to make it easier to load the data\n",
        "remove_dir = os.path.join(train_dir, 'unsup')\n",
        "shutil.rmtree(remove_dir)"
      ]
    },
    {
      "cell_type": "markdown",
      "metadata": {
        "id": "lN9lWCYfPo7b"
      },
      "source": [
        "Next, you will use the `text_dataset_from_directory` utility to create a labeled `tf.data.Dataset`.\n",
        "\n",
        "The IMDB dataset has already been divided into train and test, but it lacks a validation set. Let's create a validation set using an 80:20 split of the training data by using the `validation_split` argument below.\n",
        "\n",
        "Note:  When using the `validation_split` and `subset` arguments, make sure to either specify a random seed, or to pass `shuffle=False`, so that the validation and training splits have no overlap."
      ]
    },
    {
      "cell_type": "code",
      "execution_count": null,
      "metadata": {
        "id": "6IwI_2bcIeX8",
        "colab": {
          "base_uri": "https://localhost:8080/"
        },
        "outputId": "bb7418d7-be61-4c27-d306-e687c3276ba9"
      },
      "outputs": [
        {
          "output_type": "stream",
          "name": "stdout",
          "text": [
            "Found 25000 files belonging to 2 classes.\n",
            "Using 20000 files for training.\n",
            "Found 25000 files belonging to 2 classes.\n",
            "Using 5000 files for validation.\n",
            "Found 25000 files belonging to 2 classes.\n"
          ]
        }
      ],
      "source": [
        "AUTOTUNE = tf.data.AUTOTUNE\n",
        "batch_size = 32\n",
        "seed = 42\n",
        "\n",
        "raw_train_ds = tf.keras.utils.text_dataset_from_directory(\n",
        "    'aclImdb/train',\n",
        "    batch_size=batch_size,\n",
        "    validation_split=0.2,\n",
        "    subset='training',\n",
        "    seed=seed)\n",
        "\n",
        "class_names = raw_train_ds.class_names\n",
        "train_ds = raw_train_ds.cache().prefetch(buffer_size=AUTOTUNE)\n",
        "\n",
        "val_ds = tf.keras.utils.text_dataset_from_directory(\n",
        "    'aclImdb/train',\n",
        "    batch_size=batch_size,\n",
        "    validation_split=0.2,\n",
        "    subset='validation',\n",
        "    seed=seed)\n",
        "\n",
        "val_ds = val_ds.cache().prefetch(buffer_size=AUTOTUNE)\n",
        "\n",
        "test_ds = tf.keras.utils.text_dataset_from_directory(\n",
        "    'aclImdb/test',batch_size=batch_size)\n",
        "\n",
        "test_ds = test_ds.cache().prefetch(buffer_size=AUTOTUNE)"
      ]
    },
    {
      "cell_type": "markdown",
      "metadata": {
        "id": "HGm10A5HRGXp"
      },
      "source": [
        "Let's take a look at a few reviews."
      ]
    },
    {
      "cell_type": "code",
      "execution_count": null,
      "metadata": {
        "id": "JuxDkcvVIoev",
        "colab": {
          "base_uri": "https://localhost:8080/"
        },
        "outputId": "ce998ba1-f422-47d3-ec66-a1180c5fb01e"
      },
      "outputs": [
        {
          "output_type": "stream",
          "name": "stdout",
          "text": [
            "Review: b'\"Pandemonium\" is a horror movie spoof that comes off more stupid than funny. Believe me when I tell you, I love comedies. Especially comedy spoofs. \"Airplane\", \"The Naked Gun\" trilogy, \"Blazing Saddles\", \"High Anxiety\", and \"Spaceballs\" are some of my favorite comedies that spoof a particular genre. \"Pandemonium\" is not up there with those films. Most of the scenes in this movie had me sitting there in stunned silence because the movie wasn\\'t all that funny. There are a few laughs in the film, but when you watch a comedy, you expect to laugh a lot more than a few times and that\\'s all this film has going for it. Geez, \"Scream\" had more laughs than this film and that was more of a horror film. How bizarre is that?<br /><br />*1/2 (out of four)'\n",
            "Label : 0 (neg)\n",
            "Review: b\"David Mamet is a very interesting and a very un-equal director. His first movie 'House of Games' was the one I liked best, and it set a series of films with characters whose perspective of life changes as they get into complicated situations, and so does the perspective of the viewer.<br /><br />So is 'Homicide' which from the title tries to set the mind of the viewer to the usual crime drama. The principal characters are two cops, one Jewish and one Irish who deal with a racially charged area. The murder of an old Jewish shop owner who proves to be an ancient veteran of the Israeli Independence war triggers the Jewish identity in the mind and heart of the Jewish detective.<br /><br />This is were the flaws of the film are the more obvious. The process of awakening is theatrical and hard to believe, the group of Jewish militants is operatic, and the way the detective eventually walks to the final violent confrontation is pathetic. The end of the film itself is Mamet-like smart, but disappoints from a human emotional perspective.<br /><br />Joe Mantegna and William Macy give strong performances, but the flaws of the story are too evident to be easily compensated.\"\n",
            "Label : 0 (neg)\n",
            "Review: b'Great documentary about the lives of NY firefighters during the worst terrorist attack of all time.. That reason alone is why this should be a must see collectors item.. What shocked me was not only the attacks, but the\"High Fat Diet\" and physical appearance of some of these firefighters. I think a lot of Doctors would agree with me that,in the physical shape they were in, some of these firefighters would NOT of made it to the 79th floor carrying over 60 lbs of gear. Having said that i now have a greater respect for firefighters and i realize becoming a firefighter is a life altering job. The French have a history of making great documentary\\'s and that is what this is, a Great Documentary.....'\n",
            "Label : 1 (pos)\n"
          ]
        }
      ],
      "source": [
        "for text_batch, label_batch in train_ds.take(1):\n",
        "  for i in range(3):\n",
        "    print(f'Review: {text_batch.numpy()[i]}')\n",
        "    label = label_batch.numpy()[i]\n",
        "    print(f'Label : {label} ({class_names[label]})')"
      ]
    },
    {
      "cell_type": "code",
      "source": [
        "for text_batch, label_batch in val_ds.take(1):\n",
        "  for i in range(3):\n",
        "    print(f'Review: {text_batch.numpy()[i]}')\n",
        "    label = label_batch.numpy()[i]\n",
        "    print(f'Label : {label} ({class_names[label]})')"
      ],
      "metadata": {
        "colab": {
          "base_uri": "https://localhost:8080/"
        },
        "id": "tWDLh-BTO0ZX",
        "outputId": "ed0671eb-607d-4fb7-a702-83bbe89609cd"
      },
      "execution_count": null,
      "outputs": [
        {
          "output_type": "stream",
          "name": "stdout",
          "text": [
            "Review: b\"(spoilers)<br /><br />I shoulda figured. The dvd didn't even show the time or how long it was. I thought Wild Cardz was the worst anime movie I'd ever seen. This one is much worse. Makes no sense. Thrown together plot. All so we can see oversized breasts on a figure that doesn't support them. <br /><br />It had to of been a student film. That musta gotten a C grade<br /><br />2/10<br /><br />Quality: 1/10 Entertainment: 6/10 (until I found out it wasn't going to end.) the ending made no darn sense<br /><br />Replayable: 0/10\"\n",
            "Label : 0 (neg)\n",
            "Review: b\"What this movie fails from answering is how wrong this war is (and most US wars recently made only to get some oil).<br /><br />How many innocent civilian casualties there has been, how many lives perished and how blatantly stupid the perpetrators are.<br /><br />So, let me ask you - if American soldier kills women and children apart from enemy, its OK, but if government accidentally kills their own forces by deadly chemicals while killing many civilians as well, it is not? Your logic fails, gentleman.<br /><br />I'll give it 5 for the solid performance and 1 to everything else, 3 in total.\"\n",
            "Label : 0 (neg)\n",
            "Review: b\"I don't know who got the idea that orcas go around killing people and bashing and destroying things for revenge but my god is it absurd. Orcas are most definitely not the cold-blooded killer this movie makes them out to be...its silly. Orcas are extremely intelligent, don't get me wrong, but I highly doubt they know and understand a concept such as revenge. So I have to say all I got out of this movie was the entertainment of how preposterous it was. So I was at least somewhat amused by it. Personally, I'd recommend going and seeing Jaws if you're wanting to see an Animal-Killing-Humans type of movie. But if you're like me and want to laugh at something this far from realism then I'd say go ahead. :D\"\n",
            "Label : 0 (neg)\n"
          ]
        }
      ]
    },
    {
      "cell_type": "code",
      "source": [
        "for text_batch, label_batch in test_ds.take(1):\n",
        "  for i in range(3):\n",
        "    print(f'Review: {text_batch.numpy()[i]}')\n",
        "    label = label_batch.numpy()[i]\n",
        "    print(f'Label : {label} ({class_names[label]})')"
      ],
      "metadata": {
        "colab": {
          "base_uri": "https://localhost:8080/"
        },
        "id": "Xfi1q619O9H3",
        "outputId": "42b6cbe7-703b-40fd-d0c6-f58fc082a1ec"
      },
      "execution_count": null,
      "outputs": [
        {
          "output_type": "stream",
          "name": "stdout",
          "text": [
            "Review: b'I would hate to have anyone watch this \"inspired by a true story\" movie and draw any conclusions about the true event. Few things they did get right were overshadowed by the things that were just not true. Ed Gein never dragged anyone behind a car, never met up with anyone at the graveyard and killed them, no proof he returned body parts to the graveyard. The things he did were awful enough, why try to make it worse? <br /><br />This movie ranks among my 10 worst wastes of eye strain. \"In the Light of the Moon\" is a much better film on the subject, it is more factual and the acting is superior in contrast to this one.'\n",
            "Label : 0 (neg)\n",
            "Review: b\"Before I took a job as a reviewer, I never went to films like this, and thus remained blissfully unaware that at the soul of the Hollywood film lies a deeply woman-hating spirit that thrives on putting its knocking little knees on the silver screen for all to either empathize with or revile. Or is this just a particularly bad year? An ugly trend? <br /><br />Here we have yet another seemingly sweet, innocent, beautiful woman turned lethal weapon. The kind that cautions us that beneath every pair of batting eyes and nesting instincts lies a wild-eyed beast guaranteed to make everyone's life within 50 miles a living hell.<br /><br />This month's specimen is Jewel Valentine's (Liv Tyler), whose simple dreams include having her own little house, a backyard fountain, and a mondo home entertainment system. Unfortunately, Randy (Matt Dillon, in his first film in 3 years), the dim-bulb bartender she picks up at McCool's one night intending to rob, is less materially oriented. The kind of guy who drinks beer out of a toilet plunger, he prefers to hunker down in his dead mother's house with few creature comforts save his snowglobe collection.<br /><br />In that same low-rent bar, the Devil in the Red Dress also bumps into Randy's cousin, Carl (the highly amusing Paul Reiser), a lawyer with an ego the size of St. Louis. When things go south within hours, enter the widowed detective with a heart of gold (John Goodman). The result? Three men sustain big, bad crushes on the leopard-clad progeny of Steven Tyler and Bebe Buell-crushes that make them do things that common sense would normally contraindicate. Like get involved in the first place.<br /><br />Multiple points of view and flashbacks patch together the front-page news about how easy it is to fall victim to one's libido, especially if you're male. As each of these men relates his perspective to a confidant, his desire to possess The Jewel colors the `truth' of the situation. About 70 minutes later, things come together in a reasonably amusing way. But it's amusement from the same source that tells you that the stuff on the popcorn actually tastes like butter.<br /><br />MCCOOL'S is the first film by Norwegian commercial and music-video director Harald Zwart, and his pedigree is clear during some of the fantasy segments, including one about a car wash, soap and a hose that you can probably extrapolate. It's also the debut project from the production company owned by Michael Douglas, who's found his niche as a toupeed sleezeball in a bingo parlor.<br /><br />Dillon and Tyler are unlikely to win any gold statues for this one, though given the one-dimensionality of their overdone film noir-type characters, you can't really fault them. Several minor roles drag out unexpected guests--Reba McEntire plays Carl's psychiatrist, and Andrew Dice Clay doubles as both the hoodlum Utah and his even-scarier brother. (Finally, an outlet for all that aggression.)<br /><br />This film unwittingly speaks volumes about the dynamics between men and women--or men and their mommies. But ultimately you'd probably find more lasting psychological truths in a Bugs Bunny episode. I will say that it's better, funnier, more sophisticated than other recent gems like TOMCATS, but should we really have to choose what to see based on what ranks lowest on the misogynism scale?\"\n",
            "Label : 0 (neg)\n",
            "Review: b\"If you ever plan on renting (hopefully not buying) this movie, think again. It was as if Gary Busey had a gun to his head and was forced to act or die. I only wonder if Busey was arrested for something and was sentenced to play in this movie because I just don't see the guy that acted so much better with Keanu Reeves in Point Break play in this disaster. It was a feel-good movie, but there are thousands of other feel-good movies that make you laugh without wanting you to get your money back.<br /><br />The only reason I would ever tell someone to rent this movie is to watch this movie is to see Gary Busey jump up and down like a monkey. If you want a good funny movie, pass up Quigley and go rent Spongebob or something.\"\n",
            "Label : 0 (neg)\n"
          ]
        }
      ]
    },
    {
      "cell_type": "code",
      "source": [
        "test_ds"
      ],
      "metadata": {
        "colab": {
          "base_uri": "https://localhost:8080/"
        },
        "id": "XWMDHHxXPlb4",
        "outputId": "4903e361-24ae-48d5-8bc0-eeb64567bcc3"
      },
      "execution_count": null,
      "outputs": [
        {
          "output_type": "execute_result",
          "data": {
            "text/plain": [
              "<PrefetchDataset element_spec=(TensorSpec(shape=(None,), dtype=tf.string, name=None), TensorSpec(shape=(None,), dtype=tf.int32, name=None))>"
            ]
          },
          "metadata": {},
          "execution_count": 50
        }
      ]
    },
    {
      "cell_type": "markdown",
      "metadata": {
        "id": "dX8FtlpGJRE6"
      },
      "source": [
        "## Loading models from TensorFlow Hub\n",
        "\n",
        "Here you can choose which BERT model you will load from TensorFlow Hub and fine-tune. There are multiple BERT models available.\n",
        "\n",
        "  - [BERT-Base](https://tfhub.dev/tensorflow/bert_en_uncased_L-12_H-768_A-12/3), [Uncased](https://tfhub.dev/tensorflow/bert_en_uncased_L-12_H-768_A-12/3) and [seven more models](https://tfhub.dev/google/collections/bert/1) with trained weights released by the original BERT authors.\n",
        "  - [Small BERTs](https://tfhub.dev/google/collections/bert/1) have the same general architecture but fewer and/or smaller Transformer blocks, which lets you explore tradeoffs between speed, size and quality.\n",
        "  - [ALBERT](https://tfhub.dev/google/collections/albert/1): four different sizes of \"A Lite BERT\" that reduces model size (but not computation time) by sharing parameters between layers.\n",
        "  - [BERT Experts](https://tfhub.dev/google/collections/experts/bert/1): eight models that all have the BERT-base architecture but offer a choice between different pre-training domains, to align more closely with the target task.\n",
        "  - [Electra](https://tfhub.dev/google/collections/electra/1) has the same architecture as BERT (in three different sizes), but gets pre-trained as a discriminator in a set-up that resembles a Generative Adversarial Network (GAN).\n",
        "  - BERT with Talking-Heads Attention and Gated GELU [[base](https://tfhub.dev/tensorflow/talkheads_ggelu_bert_en_base/1), [large](https://tfhub.dev/tensorflow/talkheads_ggelu_bert_en_large/1)] has two improvements to the core of the Transformer architecture.\n",
        "\n",
        "The model documentation on TensorFlow Hub has more details and references to the\n",
        "research literature. Follow the links above, or click on the [`tfhub.dev`](http://tfhub.dev) URL\n",
        "printed after the next cell execution.\n",
        "\n",
        "The suggestion is to start with a Small BERT (with fewer parameters) since they are faster to fine-tune. If you like a small model but with higher accuracy, ALBERT might be your next option. If you want even better accuracy, choose\n",
        "one of the classic BERT sizes or their recent refinements like Electra, Talking Heads, or a BERT Expert.\n",
        "\n",
        "Aside from the models available below, there are [multiple versions](https://tfhub.dev/google/collections/transformer_encoders_text/1) of the models that are larger and can yield even better accuracy, but they are too big to be fine-tuned on a single GPU. You will be able to do that on the [Solve GLUE tasks using BERT on a TPU colab](https://www.tensorflow.org/text/tutorials/bert_glue).\n",
        "\n",
        "You'll see in the code below that switching the tfhub.dev URL is enough to try any of these models, because all the differences between them are encapsulated in the SavedModels from TF Hub."
      ]
    },
    {
      "cell_type": "code",
      "execution_count": null,
      "metadata": {
        "id": "y8_ctG55-uTX"
      },
      "outputs": [],
      "source": [
        "#@title Choose a BERT model to fine-tune\n",
        "\n",
        "bert_model_name = 'small_bert/bert_en_uncased_L-4_H-512_A-8'  #@param [\"bert_en_uncased_L-12_H-768_A-12\", \"bert_en_cased_L-12_H-768_A-12\", \"bert_multi_cased_L-12_H-768_A-12\", \"small_bert/bert_en_uncased_L-2_H-128_A-2\", \"small_bert/bert_en_uncased_L-2_H-256_A-4\", \"small_bert/bert_en_uncased_L-2_H-512_A-8\", \"small_bert/bert_en_uncased_L-2_H-768_A-12\", \"small_bert/bert_en_uncased_L-4_H-128_A-2\", \"small_bert/bert_en_uncased_L-4_H-256_A-4\", \"small_bert/bert_en_uncased_L-4_H-512_A-8\", \"small_bert/bert_en_uncased_L-4_H-768_A-12\", \"small_bert/bert_en_uncased_L-6_H-128_A-2\", \"small_bert/bert_en_uncased_L-6_H-256_A-4\", \"small_bert/bert_en_uncased_L-6_H-512_A-8\", \"small_bert/bert_en_uncased_L-6_H-768_A-12\", \"small_bert/bert_en_uncased_L-8_H-128_A-2\", \"small_bert/bert_en_uncased_L-8_H-256_A-4\", \"small_bert/bert_en_uncased_L-8_H-512_A-8\", \"small_bert/bert_en_uncased_L-8_H-768_A-12\", \"small_bert/bert_en_uncased_L-10_H-128_A-2\", \"small_bert/bert_en_uncased_L-10_H-256_A-4\", \"small_bert/bert_en_uncased_L-10_H-512_A-8\", \"small_bert/bert_en_uncased_L-10_H-768_A-12\", \"small_bert/bert_en_uncased_L-12_H-128_A-2\", \"small_bert/bert_en_uncased_L-12_H-256_A-4\", \"small_bert/bert_en_uncased_L-12_H-512_A-8\", \"small_bert/bert_en_uncased_L-12_H-768_A-12\", \"albert_en_base\", \"electra_small\", \"electra_base\", \"experts_pubmed\", \"experts_wiki_books\", \"talking-heads_base\"]\n",
        "\n",
        "map_name_to_handle = {\n",
        "    'bert_en_uncased_L-12_H-768_A-12':\n",
        "        'https://tfhub.dev/tensorflow/bert_en_uncased_L-12_H-768_A-12/3',\n",
        "    'bert_en_cased_L-12_H-768_A-12':\n",
        "        'https://tfhub.dev/tensorflow/bert_en_cased_L-12_H-768_A-12/3',\n",
        "    'bert_multi_cased_L-12_H-768_A-12':\n",
        "        'https://tfhub.dev/tensorflow/bert_multi_cased_L-12_H-768_A-12/3',\n",
        "    'small_bert/bert_en_uncased_L-2_H-128_A-2':\n",
        "        'https://tfhub.dev/tensorflow/small_bert/bert_en_uncased_L-2_H-128_A-2/1',\n",
        "    'small_bert/bert_en_uncased_L-2_H-256_A-4':\n",
        "        'https://tfhub.dev/tensorflow/small_bert/bert_en_uncased_L-2_H-256_A-4/1',\n",
        "    'small_bert/bert_en_uncased_L-2_H-512_A-8':\n",
        "        'https://tfhub.dev/tensorflow/small_bert/bert_en_uncased_L-2_H-512_A-8/1',\n",
        "    'small_bert/bert_en_uncased_L-2_H-768_A-12':\n",
        "        'https://tfhub.dev/tensorflow/small_bert/bert_en_uncased_L-2_H-768_A-12/1',\n",
        "    'small_bert/bert_en_uncased_L-4_H-128_A-2':\n",
        "        'https://tfhub.dev/tensorflow/small_bert/bert_en_uncased_L-4_H-128_A-2/1',\n",
        "    'small_bert/bert_en_uncased_L-4_H-256_A-4':\n",
        "        'https://tfhub.dev/tensorflow/small_bert/bert_en_uncased_L-4_H-256_A-4/1',\n",
        "    'small_bert/bert_en_uncased_L-4_H-512_A-8':\n",
        "        'https://tfhub.dev/tensorflow/small_bert/bert_en_uncased_L-4_H-512_A-8/1',\n",
        "    'small_bert/bert_en_uncased_L-4_H-768_A-12':\n",
        "        'https://tfhub.dev/tensorflow/small_bert/bert_en_uncased_L-4_H-768_A-12/1',\n",
        "    'small_bert/bert_en_uncased_L-6_H-128_A-2':\n",
        "        'https://tfhub.dev/tensorflow/small_bert/bert_en_uncased_L-6_H-128_A-2/1',\n",
        "    'small_bert/bert_en_uncased_L-6_H-256_A-4':\n",
        "        'https://tfhub.dev/tensorflow/small_bert/bert_en_uncased_L-6_H-256_A-4/1',\n",
        "    'small_bert/bert_en_uncased_L-6_H-512_A-8':\n",
        "        'https://tfhub.dev/tensorflow/small_bert/bert_en_uncased_L-6_H-512_A-8/1',\n",
        "    'small_bert/bert_en_uncased_L-6_H-768_A-12':\n",
        "        'https://tfhub.dev/tensorflow/small_bert/bert_en_uncased_L-6_H-768_A-12/1',\n",
        "    'small_bert/bert_en_uncased_L-8_H-128_A-2':\n",
        "        'https://tfhub.dev/tensorflow/small_bert/bert_en_uncased_L-8_H-128_A-2/1',\n",
        "    'small_bert/bert_en_uncased_L-8_H-256_A-4':\n",
        "        'https://tfhub.dev/tensorflow/small_bert/bert_en_uncased_L-8_H-256_A-4/1',\n",
        "    'small_bert/bert_en_uncased_L-8_H-512_A-8':\n",
        "        'https://tfhub.dev/tensorflow/small_bert/bert_en_uncased_L-8_H-512_A-8/1',\n",
        "    'small_bert/bert_en_uncased_L-8_H-768_A-12':\n",
        "        'https://tfhub.dev/tensorflow/small_bert/bert_en_uncased_L-8_H-768_A-12/1',\n",
        "    'small_bert/bert_en_uncased_L-10_H-128_A-2':\n",
        "        'https://tfhub.dev/tensorflow/small_bert/bert_en_uncased_L-10_H-128_A-2/1',\n",
        "    'small_bert/bert_en_uncased_L-10_H-256_A-4':\n",
        "        'https://tfhub.dev/tensorflow/small_bert/bert_en_uncased_L-10_H-256_A-4/1',\n",
        "    'small_bert/bert_en_uncased_L-10_H-512_A-8':\n",
        "        'https://tfhub.dev/tensorflow/small_bert/bert_en_uncased_L-10_H-512_A-8/1',\n",
        "    'small_bert/bert_en_uncased_L-10_H-768_A-12':\n",
        "        'https://tfhub.dev/tensorflow/small_bert/bert_en_uncased_L-10_H-768_A-12/1',\n",
        "    'small_bert/bert_en_uncased_L-12_H-128_A-2':\n",
        "        'https://tfhub.dev/tensorflow/small_bert/bert_en_uncased_L-12_H-128_A-2/1',\n",
        "    'small_bert/bert_en_uncased_L-12_H-256_A-4':\n",
        "        'https://tfhub.dev/tensorflow/small_bert/bert_en_uncased_L-12_H-256_A-4/1',\n",
        "    'small_bert/bert_en_uncased_L-12_H-512_A-8':\n",
        "        'https://tfhub.dev/tensorflow/small_bert/bert_en_uncased_L-12_H-512_A-8/1',\n",
        "    'small_bert/bert_en_uncased_L-12_H-768_A-12':\n",
        "        'https://tfhub.dev/tensorflow/small_bert/bert_en_uncased_L-12_H-768_A-12/1',\n",
        "    'albert_en_base':\n",
        "        'https://tfhub.dev/tensorflow/albert_en_base/2',\n",
        "    'electra_small':\n",
        "        'https://tfhub.dev/google/electra_small/2',\n",
        "    'electra_base':\n",
        "        'https://tfhub.dev/google/electra_base/2',\n",
        "    'experts_pubmed':\n",
        "        'https://tfhub.dev/google/experts/bert/pubmed/2',\n",
        "    'experts_wiki_books':\n",
        "        'https://tfhub.dev/google/experts/bert/wiki_books/2',\n",
        "    'talking-heads_base':\n",
        "        'https://tfhub.dev/tensorflow/talkheads_ggelu_bert_en_base/1',\n",
        "}\n",
        "\n",
        "map_model_to_preprocess = {\n",
        "    'bert_en_uncased_L-12_H-768_A-12':\n",
        "        'https://tfhub.dev/tensorflow/bert_en_uncased_preprocess/3',\n",
        "    'bert_en_cased_L-12_H-768_A-12':\n",
        "        'https://tfhub.dev/tensorflow/bert_en_cased_preprocess/3',\n",
        "    'small_bert/bert_en_uncased_L-2_H-128_A-2':\n",
        "        'https://tfhub.dev/tensorflow/bert_en_uncased_preprocess/3',\n",
        "    'small_bert/bert_en_uncased_L-2_H-256_A-4':\n",
        "        'https://tfhub.dev/tensorflow/bert_en_uncased_preprocess/3',\n",
        "    'small_bert/bert_en_uncased_L-2_H-512_A-8':\n",
        "        'https://tfhub.dev/tensorflow/bert_en_uncased_preprocess/3',\n",
        "    'small_bert/bert_en_uncased_L-2_H-768_A-12':\n",
        "        'https://tfhub.dev/tensorflow/bert_en_uncased_preprocess/3',\n",
        "    'small_bert/bert_en_uncased_L-4_H-128_A-2':\n",
        "        'https://tfhub.dev/tensorflow/bert_en_uncased_preprocess/3',\n",
        "    'small_bert/bert_en_uncased_L-4_H-256_A-4':\n",
        "        'https://tfhub.dev/tensorflow/bert_en_uncased_preprocess/3',\n",
        "    'small_bert/bert_en_uncased_L-4_H-512_A-8':\n",
        "        'https://tfhub.dev/tensorflow/bert_en_uncased_preprocess/3',\n",
        "    'small_bert/bert_en_uncased_L-4_H-768_A-12':\n",
        "        'https://tfhub.dev/tensorflow/bert_en_uncased_preprocess/3',\n",
        "    'small_bert/bert_en_uncased_L-6_H-128_A-2':\n",
        "        'https://tfhub.dev/tensorflow/bert_en_uncased_preprocess/3',\n",
        "    'small_bert/bert_en_uncased_L-6_H-256_A-4':\n",
        "        'https://tfhub.dev/tensorflow/bert_en_uncased_preprocess/3',\n",
        "    'small_bert/bert_en_uncased_L-6_H-512_A-8':\n",
        "        'https://tfhub.dev/tensorflow/bert_en_uncased_preprocess/3',\n",
        "    'small_bert/bert_en_uncased_L-6_H-768_A-12':\n",
        "        'https://tfhub.dev/tensorflow/bert_en_uncased_preprocess/3',\n",
        "    'small_bert/bert_en_uncased_L-8_H-128_A-2':\n",
        "        'https://tfhub.dev/tensorflow/bert_en_uncased_preprocess/3',\n",
        "    'small_bert/bert_en_uncased_L-8_H-256_A-4':\n",
        "        'https://tfhub.dev/tensorflow/bert_en_uncased_preprocess/3',\n",
        "    'small_bert/bert_en_uncased_L-8_H-512_A-8':\n",
        "        'https://tfhub.dev/tensorflow/bert_en_uncased_preprocess/3',\n",
        "    'small_bert/bert_en_uncased_L-8_H-768_A-12':\n",
        "        'https://tfhub.dev/tensorflow/bert_en_uncased_preprocess/3',\n",
        "    'small_bert/bert_en_uncased_L-10_H-128_A-2':\n",
        "        'https://tfhub.dev/tensorflow/bert_en_uncased_preprocess/3',\n",
        "    'small_bert/bert_en_uncased_L-10_H-256_A-4':\n",
        "        'https://tfhub.dev/tensorflow/bert_en_uncased_preprocess/3',\n",
        "    'small_bert/bert_en_uncased_L-10_H-512_A-8':\n",
        "        'https://tfhub.dev/tensorflow/bert_en_uncased_preprocess/3',\n",
        "    'small_bert/bert_en_uncased_L-10_H-768_A-12':\n",
        "        'https://tfhub.dev/tensorflow/bert_en_uncased_preprocess/3',\n",
        "    'small_bert/bert_en_uncased_L-12_H-128_A-2':\n",
        "        'https://tfhub.dev/tensorflow/bert_en_uncased_preprocess/3',\n",
        "    'small_bert/bert_en_uncased_L-12_H-256_A-4':\n",
        "        'https://tfhub.dev/tensorflow/bert_en_uncased_preprocess/3',\n",
        "    'small_bert/bert_en_uncased_L-12_H-512_A-8':\n",
        "        'https://tfhub.dev/tensorflow/bert_en_uncased_preprocess/3',\n",
        "    'small_bert/bert_en_uncased_L-12_H-768_A-12':\n",
        "        'https://tfhub.dev/tensorflow/bert_en_uncased_preprocess/3',\n",
        "    'bert_multi_cased_L-12_H-768_A-12':\n",
        "        'https://tfhub.dev/tensorflow/bert_multi_cased_preprocess/3',\n",
        "    'albert_en_base':\n",
        "        'https://tfhub.dev/tensorflow/albert_en_preprocess/3',\n",
        "    'electra_small':\n",
        "        'https://tfhub.dev/tensorflow/bert_en_uncased_preprocess/3',\n",
        "    'electra_base':\n",
        "        'https://tfhub.dev/tensorflow/bert_en_uncased_preprocess/3',\n",
        "    'experts_pubmed':\n",
        "        'https://tfhub.dev/tensorflow/bert_en_uncased_preprocess/3',\n",
        "    'experts_wiki_books':\n",
        "        'https://tfhub.dev/tensorflow/bert_en_uncased_preprocess/3',\n",
        "    'talking-heads_base':\n",
        "        'https://tfhub.dev/tensorflow/bert_en_uncased_preprocess/3',\n",
        "}\n",
        "\n",
        "tfhub_handle_encoder = map_name_to_handle[bert_model_name]\n",
        "tfhub_handle_preprocess = map_model_to_preprocess[bert_model_name]\n",
        "\n",
        "print(f'BERT model selected           : {tfhub_handle_encoder}')\n",
        "print(f'Preprocess model auto-selected: {tfhub_handle_preprocess}')"
      ]
    },
    {
      "cell_type": "markdown",
      "metadata": {
        "id": "7WrcxxTRDdHi"
      },
      "source": [
        "## The preprocessing model\n",
        "\n",
        "Text inputs need to be transformed to numeric token ids and arranged in several Tensors before being input to BERT. TensorFlow Hub provides a matching preprocessing model for each of the BERT models discussed above, which implements this transformation using TF ops from the TF.text library. It is not necessary to run pure Python code outside your TensorFlow model to preprocess text.\n",
        "\n",
        "The preprocessing model must be the one referenced by the documentation of the BERT model, which you can read at the URL printed above. For BERT models from the drop-down above, the preprocessing model is selected automatically.\n",
        "\n",
        "Note: You will load the preprocessing model into a [hub.KerasLayer](https://www.tensorflow.org/hub/api_docs/python/hub/KerasLayer) to compose your fine-tuned model. This is the preferred API to load a TF2-style SavedModel from TF Hub into a Keras model."
      ]
    },
    {
      "cell_type": "code",
      "execution_count": null,
      "metadata": {
        "id": "0SQi-jWd_jzq"
      },
      "outputs": [],
      "source": [
        "bert_preprocess_model = hub.KerasLayer(tfhub_handle_preprocess)"
      ]
    },
    {
      "cell_type": "markdown",
      "metadata": {
        "id": "x4naBiEE_cZX"
      },
      "source": [
        "Let's try the preprocessing model on some text and see the output:"
      ]
    },
    {
      "cell_type": "code",
      "execution_count": null,
      "metadata": {
        "id": "r9-zCzJpnuwS",
        "colab": {
          "base_uri": "https://localhost:8080/"
        },
        "outputId": "3c0f0041-a211-4928-81a1-826beb21469b"
      },
      "outputs": [
        {
          "output_type": "stream",
          "name": "stdout",
          "text": [
            "Keys       : ['input_word_ids', 'input_type_ids', 'input_mask']\n",
            "Shape      : (1, 128)\n",
            "Word Ids   : [ 101 2023 2003 2107 2019 6429 3185  999  102    0    0    0]\n",
            "Input Mask : [1 1 1 1 1 1 1 1 1 0 0 0]\n",
            "Type Ids   : [0 0 0 0 0 0 0 0 0 0 0 0]\n"
          ]
        }
      ],
      "source": [
        "text_test = ['this is such an amazing movie!']\n",
        "text_preprocessed = bert_preprocess_model(text_test)\n",
        "\n",
        "print(f'Keys       : {list(text_preprocessed.keys())}')\n",
        "print(f'Shape      : {text_preprocessed[\"input_word_ids\"].shape}')\n",
        "print(f'Word Ids   : {text_preprocessed[\"input_word_ids\"][0, :12]}')\n",
        "print(f'Input Mask : {text_preprocessed[\"input_mask\"][0, :12]}')\n",
        "print(f'Type Ids   : {text_preprocessed[\"input_type_ids\"][0, :12]}')"
      ]
    },
    {
      "cell_type": "markdown",
      "metadata": {
        "id": "EqL7ihkN_862"
      },
      "source": [
        "As you can see, now you have the 3 outputs from the preprocessing that a BERT model would use (`input_words_id`, `input_mask` and `input_type_ids`).\n",
        "\n",
        "Some other important points:\n",
        "- The input is truncated to 128 tokens. The number of tokens can be customized, and you can see more details on the [Solve GLUE tasks using BERT on a TPU colab](https://www.tensorflow.org/text/tutorials/bert_glue).\n",
        "- The `input_type_ids` only have one value (0) because this is a single sentence input. For a multiple sentence input, it would have one number for each input.\n",
        "\n",
        "Since this text preprocessor is a TensorFlow model, It can be included in your model directly."
      ]
    },
    {
      "cell_type": "markdown",
      "metadata": {
        "id": "DKnLPSEmtp9i"
      },
      "source": [
        "## Using the BERT model\n",
        "\n",
        "Before putting BERT into your own model, let's take a look at its outputs. You will load it from TF Hub and see the returned values."
      ]
    },
    {
      "cell_type": "code",
      "execution_count": null,
      "metadata": {
        "id": "tXxYpK8ixL34"
      },
      "outputs": [],
      "source": [
        "bert_model = hub.KerasLayer(tfhub_handle_encoder)"
      ]
    },
    {
      "cell_type": "code",
      "execution_count": null,
      "metadata": {
        "id": "_OoF9mebuSZc",
        "colab": {
          "base_uri": "https://localhost:8080/"
        },
        "outputId": "82b74901-1555-4e22-f7fe-32e8c7d1230b"
      },
      "outputs": [
        {
          "output_type": "stream",
          "name": "stdout",
          "text": [
            "Loaded BERT: https://tfhub.dev/tensorflow/small_bert/bert_en_uncased_L-4_H-512_A-8/1\n",
            "Pooled Outputs Shape:(1, 512)\n",
            "Pooled Outputs Values:[ 0.76262903  0.99280983 -0.18611853  0.3667385   0.15233739  0.6550446\n",
            "  0.9681154  -0.9486271   0.00216157 -0.9877732   0.06842728 -0.97630596]\n",
            "Sequence Outputs Shape:(1, 128, 512)\n",
            "Sequence Outputs Values:[[-0.28946295  0.34321263  0.33231527 ...  0.2130087   0.71020836\n",
            "  -0.05771071]\n",
            " [-0.2874208   0.31981027 -0.23018518 ...  0.5845508  -0.21329744\n",
            "   0.7269212 ]\n",
            " [-0.66157013  0.6887687  -0.8743292  ...  0.10877226 -0.26173285\n",
            "   0.47855547]\n",
            " ...\n",
            " [-0.22561097 -0.2892568  -0.07064426 ...  0.47566074  0.83277184\n",
            "   0.40025318]\n",
            " [-0.29824227 -0.27473107 -0.05450526 ...  0.488498    1.0955358\n",
            "   0.18163362]\n",
            " [-0.4437815   0.00930744  0.07223801 ...  0.17290124  1.1833242\n",
            "   0.07898009]]\n"
          ]
        }
      ],
      "source": [
        "bert_results = bert_model(text_preprocessed)\n",
        "\n",
        "print(f'Loaded BERT: {tfhub_handle_encoder}')\n",
        "print(f'Pooled Outputs Shape:{bert_results[\"pooled_output\"].shape}')\n",
        "print(f'Pooled Outputs Values:{bert_results[\"pooled_output\"][0, :12]}')\n",
        "print(f'Sequence Outputs Shape:{bert_results[\"sequence_output\"].shape}')\n",
        "print(f'Sequence Outputs Values:{bert_results[\"sequence_output\"][0, :12]}')"
      ]
    },
    {
      "cell_type": "markdown",
      "metadata": {
        "id": "sm61jDrezAll"
      },
      "source": [
        "The BERT models return a map with 3 important keys: `pooled_output`, `sequence_output`, `encoder_outputs`:\n",
        "\n",
        "- `pooled_output` represents each input sequence as a whole. The shape is `[batch_size, H]`. You can think of this as an embedding for the entire movie review.\n",
        "- `sequence_output` represents each input token in the context. The shape is `[batch_size, seq_length, H]`. You can think of this as a contextual embedding for every token in the movie review.\n",
        "- `encoder_outputs` are the intermediate activations of the `L` Transformer blocks. `outputs[\"encoder_outputs\"][i]` is a Tensor of shape `[batch_size, seq_length, 1024]` with the outputs of the i-th Transformer block, for `0 <= i < L`. The last value of the list is equal to `sequence_output`.\n",
        "\n",
        "For the fine-tuning you are going to use the `pooled_output` array."
      ]
    },
    {
      "cell_type": "markdown",
      "metadata": {
        "id": "pDNKfAXbDnJH"
      },
      "source": [
        "## Define your model\n",
        "\n",
        "You will create a very simple fine-tuned model, with the preprocessing model, the selected BERT model, one Dense and a Dropout layer.\n",
        "\n",
        "Note: for more information about the base model's input and output you can follow the model's URL for documentation. Here specifically, you don't need to worry about it because the preprocessing model will take care of that for you.\n"
      ]
    },
    {
      "cell_type": "code",
      "execution_count": null,
      "metadata": {
        "id": "aksj743St9ga"
      },
      "outputs": [],
      "source": [
        "def build_classifier_model():\n",
        "  text_input = tf.keras.layers.Input(shape=(), dtype=tf.string, name='text')\n",
        "  preprocessing_layer = hub.KerasLayer(tfhub_handle_preprocess, name='preprocessing')\n",
        "  encoder_inputs = preprocessing_layer(text_input)\n",
        "  encoder = hub.KerasLayer(tfhub_handle_encoder, trainable=True, name='BERT_encoder')\n",
        "  outputs = encoder(encoder_inputs)\n",
        "  net = outputs['pooled_output']\n",
        "  net = tf.keras.layers.Dropout(0.1)(net)\n",
        "  net = tf.keras.layers.Dense(1, activation=None, name='classifier')(net)\n",
        "  return tf.keras.Model(text_input, net)"
      ]
    },
    {
      "cell_type": "markdown",
      "metadata": {
        "id": "Zs4yhFraBuGQ"
      },
      "source": [
        "Let's check that the model runs with the output of the preprocessing model."
      ]
    },
    {
      "cell_type": "code",
      "execution_count": null,
      "metadata": {
        "id": "mGMF8AZcB2Zy",
        "colab": {
          "base_uri": "https://localhost:8080/"
        },
        "outputId": "53a57440-2f63-49d2-bb2e-70ce4ba7b409"
      },
      "outputs": [
        {
          "output_type": "stream",
          "name": "stdout",
          "text": [
            "tf.Tensor([[0.31487367]], shape=(1, 1), dtype=float32)\n"
          ]
        }
      ],
      "source": [
        "classifier_model = build_classifier_model()\n",
        "bert_raw_result = classifier_model(tf.constant(text_test))\n",
        "print(tf.sigmoid(bert_raw_result))"
      ]
    },
    {
      "cell_type": "markdown",
      "metadata": {
        "id": "ZTUzNV2JE2G3"
      },
      "source": [
        "The output is meaningless, of course, because the model has not been trained yet.\n",
        "\n",
        "Let's take a look at the model's structure."
      ]
    },
    {
      "cell_type": "code",
      "execution_count": null,
      "metadata": {
        "id": "0EmzyHZXKIpm",
        "colab": {
          "base_uri": "https://localhost:8080/",
          "height": 466
        },
        "outputId": "f7f3e694-2fd5-45bc-b8b9-998b63f4f30e"
      },
      "outputs": [
        {
          "output_type": "execute_result",
          "data": {
            "text/plain": [
              "<IPython.core.display.Image object>"
            ],
            "image/png": "[encoded data removed]"
          },
          "metadata": {},
          "execution_count": 18
        }
      ],
      "source": [
        "tf.keras.utils.plot_model(classifier_model)"
      ]
    },
    {
      "cell_type": "markdown",
      "metadata": {
        "id": "WbUWoZMwc302"
      },
      "source": [
        "## Model training\n",
        "\n",
        "You now have all the pieces to train a model, including the preprocessing module, BERT encoder, data, and classifier."
      ]
    },
    {
      "cell_type": "markdown",
      "metadata": {
        "id": "WpJ3xcwDT56v"
      },
      "source": [
        "### Loss function\n",
        "\n",
        "Since this is a binary classification problem and the model outputs a probability (a single-unit layer), you'll use `losses.BinaryCrossentropy` loss function.\n"
      ]
    },
    {
      "cell_type": "code",
      "execution_count": null,
      "metadata": {
        "id": "OWPOZE-L3AgE"
      },
      "outputs": [],
      "source": [
        "loss = tf.keras.losses.BinaryCrossentropy(from_logits=True)\n",
        "metrics = tf.metrics.BinaryAccuracy()"
      ]
    },
    {
      "cell_type": "markdown",
      "metadata": {
        "id": "77psrpfzbxtp"
      },
      "source": [
        "### Optimizer\n",
        "\n",
        "For fine-tuning, let's use the same optimizer that BERT was originally trained with: the \"Adaptive Moments\" (Adam). This optimizer minimizes the prediction loss and does regularization by weight decay (not using moments), which is also known as [AdamW](https://arxiv.org/abs/1711.05101).\n",
        "\n",
        "For the learning rate (`init_lr`), you will use the same schedule as BERT pre-training: linear decay of a notional initial learning rate, prefixed with a linear warm-up phase over the first 10% of training steps (`num_warmup_steps`). In line with the BERT paper, the initial learning rate is smaller for fine-tuning (best of 5e-5, 3e-5, 2e-5)."
      ]
    },
    {
      "cell_type": "code",
      "execution_count": null,
      "metadata": {
        "id": "P9eP2y9dbw32"
      },
      "outputs": [],
      "source": [
        "epochs = 5\n",
        "steps_per_epoch = tf.data.experimental.cardinality(train_ds).numpy()\n",
        "num_train_steps = steps_per_epoch * epochs\n",
        "num_warmup_steps = int(0.1*num_train_steps)\n",
        "\n",
        "init_lr = 3e-5\n",
        "optimizer = optimization.create_optimizer(init_lr=init_lr,\n",
        "                                          num_train_steps=num_train_steps,\n",
        "                                          num_warmup_steps=num_warmup_steps,\n",
        "                                          optimizer_type='adamw')"
      ]
    },
    {
      "cell_type": "markdown",
      "metadata": {
        "id": "SqlarlpC_v0g"
      },
      "source": [
        "### Loading the BERT model and training\n",
        "\n",
        "Using the `classifier_model` you created earlier, you can compile the model with the loss, metric and optimizer."
      ]
    },
    {
      "cell_type": "code",
      "execution_count": null,
      "metadata": {
        "id": "-7GPDhR98jsD"
      },
      "outputs": [],
      "source": [
        "classifier_model.compile(optimizer=optimizer,\n",
        "                         loss=loss,\n",
        "                         metrics=metrics)"
      ]
    },
    {
      "cell_type": "markdown",
      "metadata": {
        "id": "CpBuV5j2cS_b"
      },
      "source": [
        "Note: training time will vary depending on the complexity of the BERT model you have selected."
      ]
    },
    {
      "cell_type": "code",
      "execution_count": null,
      "metadata": {
        "id": "HtfDFAnN_Neu",
        "colab": {
          "base_uri": "https://localhost:8080/"
        },
        "outputId": "430e71f2-e724-4ae2-b3b6-cd1bdebc0fde"
      },
      "outputs": [
        {
          "output_type": "stream",
          "name": "stdout",
          "text": [
            "Training model with https://tfhub.dev/tensorflow/small_bert/bert_en_uncased_L-4_H-512_A-8/1\n",
            "Epoch 1/5\n",
            "625/625 [==============================] - 171s 262ms/step - loss: 0.4868 - binary_accuracy: 0.7449 - val_loss: 0.3956 - val_binary_accuracy: 0.8324\n",
            "Epoch 2/5\n",
            "625/625 [==============================] - 164s 263ms/step - loss: 0.3292 - binary_accuracy: 0.8537 - val_loss: 0.3656 - val_binary_accuracy: 0.8466\n",
            "Epoch 3/5\n",
            "625/625 [==============================] - 159s 255ms/step - loss: 0.2489 - binary_accuracy: 0.8981 - val_loss: 0.3807 - val_binary_accuracy: 0.8492\n",
            "Epoch 4/5\n",
            "625/625 [==============================] - 160s 256ms/step - loss: 0.1880 - binary_accuracy: 0.9262 - val_loss: 0.4541 - val_binary_accuracy: 0.8514\n",
            "Epoch 5/5\n",
            "625/625 [==============================] - 160s 255ms/step - loss: 0.1465 - binary_accuracy: 0.9439 - val_loss: 0.4829 - val_binary_accuracy: 0.8546\n"
          ]
        }
      ],
      "source": [
        "print(f'Training model with {tfhub_handle_encoder}')\n",
        "history = classifier_model.fit(x=train_ds,\n",
        "                               validation_data=val_ds,\n",
        "                               epochs=epochs)"
      ]
    },
    {
      "cell_type": "markdown",
      "metadata": {
        "id": "uBthMlTSV8kn"
      },
      "source": [
        "### Evaluate the model\n",
        "\n",
        "Let's see how the model performs. Two values will be returned. Loss (a number which represents the error, lower values are better), and accuracy."
      ]
    },
    {
      "cell_type": "code",
      "execution_count": null,
      "metadata": {
        "id": "slqB-urBV9sP",
        "colab": {
          "base_uri": "https://localhost:8080/"
        },
        "outputId": "b2d6aa8f-3679-47c7-d19f-deb451d39193"
      },
      "outputs": [
        {
          "output_type": "stream",
          "name": "stdout",
          "text": [
            "782/782 [==============================] - 91s 116ms/step - loss: 0.4618 - binary_accuracy: 0.8579\n",
            "Loss: 0.46184420585632324\n",
            "Accuracy: 0.8579199910163879\n"
          ]
        }
      ],
      "source": [
        "loss, accuracy = classifier_model.evaluate(test_ds)\n",
        "\n",
        "print(f'Loss: {loss}')\n",
        "print(f'Accuracy: {accuracy}')"
      ]
    },
    {
      "cell_type": "markdown",
      "metadata": {
        "id": "uttWpgmSfzq9"
      },
      "source": [
        "### Plot the accuracy and loss over time\n",
        "\n",
        "Based on the `History` object returned by `model.fit()`. You can plot the training and validation loss for comparison, as well as the training and validation accuracy:"
      ]
    },
    {
      "cell_type": "code",
      "execution_count": null,
      "metadata": {
        "id": "fiythcODf0xo",
        "colab": {
          "base_uri": "https://localhost:8080/",
          "height": 439
        },
        "outputId": "2efb75c2-58cb-4c42-8215-2c75fe343b7f"
      },
      "outputs": [
        {
          "output_type": "stream",
          "name": "stdout",
          "text": [
            "dict_keys(['loss', 'binary_accuracy', 'val_loss', 'val_binary_accuracy'])\n"
          ]
        },
        {
          "output_type": "execute_result",
          "data": {
            "text/plain": [
              "<matplotlib.legend.Legend at 0x7f5a6c499d50>"
            ]
          },
          "metadata": {},
          "execution_count": 24
        },
        {
          "output_type": "display_data",
          "data": {
            "text/plain": [
              "<Figure size 720x432 with 2 Axes>"
            ],
            "image/png": "[encoded data removed]"
          },
          "metadata": {
            "needs_background": "light"
          }
        }
      ],
      "source": [
        "history_dict = history.history\n",
        "print(history_dict.keys())\n",
        "\n",
        "acc = history_dict['binary_accuracy']\n",
        "val_acc = history_dict['val_binary_accuracy']\n",
        "loss = history_dict['loss']\n",
        "val_loss = history_dict['val_loss']\n",
        "\n",
        "epochs = range(1, len(acc) + 1)\n",
        "fig = plt.figure(figsize=(10, 6))\n",
        "fig.tight_layout()\n",
        "\n",
        "plt.subplot(2, 1, 1)\n",
        "# r is for \"solid red line\"\n",
        "plt.plot(epochs, loss, 'r', label='Training loss')\n",
        "# b is for \"solid blue line\"\n",
        "plt.plot(epochs, val_loss, 'b', label='Validation loss')\n",
        "plt.title('Training and validation loss')\n",
        "# plt.xlabel('Epochs')\n",
        "plt.ylabel('Loss')\n",
        "plt.legend()\n",
        "\n",
        "plt.subplot(2, 1, 2)\n",
        "plt.plot(epochs, acc, 'r', label='Training acc')\n",
        "plt.plot(epochs, val_acc, 'b', label='Validation acc')\n",
        "plt.title('Training and validation accuracy')\n",
        "plt.xlabel('Epochs')\n",
        "plt.ylabel('Accuracy')\n",
        "plt.legend(loc='lower right')"
      ]
    },
    {
      "cell_type": "markdown",
      "metadata": {
        "id": "WzJZCo-cf-Jf"
      },
      "source": [
        "In this plot, the red lines represent the training loss and accuracy, and the blue lines are the validation loss and accuracy."
      ]
    },
    {
      "cell_type": "markdown",
      "metadata": {
        "id": "Rtn7jewb6dg4"
      },
      "source": [
        "## Export for inference\n",
        "\n",
        "Now you just save your fine-tuned model for later use."
      ]
    },
    {
      "cell_type": "code",
      "execution_count": null,
      "metadata": {
        "id": "ShcvqJAgVera",
        "colab": {
          "base_uri": "https://localhost:8080/"
        },
        "outputId": "f9b07786-89cc-480d-c6ff-7cbee7e9c499"
      },
      "outputs": [
        {
          "output_type": "stream",
          "name": "stderr",
          "text": [
            "WARNING:absl:Found untraced functions such as restored_function_body, restored_function_body, restored_function_body, restored_function_body, restored_function_body while saving (showing 5 of 124). These functions will not be directly callable after loading.\n"
          ]
        }
      ],
      "source": [
        "dataset_name = 'imdb'\n",
        "saved_model_path = './{}_bert'.format(dataset_name.replace('/', '_'))\n",
        "\n",
        "classifier_model.save(saved_model_path, include_optimizer=False)"
      ]
    },
    {
      "cell_type": "markdown",
      "metadata": {
        "id": "PbI25bS1vD7s"
      },
      "source": [
        "Let's reload the model, so you can try it side by side with the model that is still in memory."
      ]
    },
    {
      "cell_type": "code",
      "execution_count": null,
      "metadata": {
        "id": "gUEWVskZjEF0"
      },
      "outputs": [],
      "source": [
        "reloaded_model = tf.saved_model.load(saved_model_path)"
      ]
    },
    {
      "cell_type": "markdown",
      "metadata": {
        "id": "oyTappHTvNCz"
      },
      "source": [
        "Here you can test your model on any sentence you want, just add to the examples variable below."
      ]
    },
    {
      "cell_type": "code",
      "execution_count": null,
      "metadata": {
        "id": "VBWzH6exlCPS",
        "colab": {
          "base_uri": "https://localhost:8080/"
        },
        "outputId": "ce8d1e2c-6962-4c3b-8f9c-9b9385c37057"
      },
      "outputs": [
        {
          "output_type": "stream",
          "name": "stdout",
          "text": [
            "Results from the saved model:\n",
            "input: this is such an amazing movie! : score: 0.999376\n",
            "input: The movie was great!           : score: 0.992414\n",
            "input: The movie was meh.             : score: 0.678403\n",
            "input: The movie was okish.           : score: 0.016605\n",
            "input: The movie was terrible...      : score: 0.000625\n",
            "input: The movie was amazing ..       : score: 0.998781\n",
            "\n",
            "Results from the model in memory:\n",
            "input: this is such an amazing movie! : score: 0.999376\n",
            "input: The movie was great!           : score: 0.992414\n",
            "input: The movie was meh.             : score: 0.678403\n",
            "input: The movie was okish.           : score: 0.016605\n",
            "input: The movie was terrible...      : score: 0.000625\n",
            "input: The movie was amazing ..       : score: 0.998781\n",
            "\n"
          ]
        }
      ],
      "source": [
        "def print_my_examples(inputs, results):\n",
        "  result_for_printing = \\\n",
        "    [f'input: {inputs[i]:<30} : score: {results[i][0]:.6f}'\n",
        "                         for i in range(len(inputs))]\n",
        "  print(*result_for_printing, sep='\\n')\n",
        "  print()\n",
        "\n",
        "\n",
        "examples = [\n",
        "    'this is such an amazing movie!',  # this is the same sentence tried earlier\n",
        "    'The movie was great!',\n",
        "    'The movie was meh.',\n",
        "    'The movie was okish.',\n",
        "    'The movie was terrible...'  , 'The movie was amazing ..'\n",
        "]\n",
        "\n",
        "reloaded_results = tf.sigmoid(reloaded_model(tf.constant(examples)))\n",
        "original_results = tf.sigmoid(classifier_model(tf.constant(examples)))\n",
        "\n",
        "print('Results from the saved model:')\n",
        "print_my_examples(examples, reloaded_results)\n",
        "print('Results from the model in memory:')\n",
        "print_my_examples(examples, original_results)"
      ]
    },
    {
      "cell_type": "markdown",
      "metadata": {
        "id": "3cOmih754Y_M"
      },
      "source": [
        "If you want to use your model on [TF Serving](https://www.tensorflow.org/tfx/guide/serving), remember that it will call your SavedModel through one of its named signatures. In Python, you can test them as follows:"
      ]
    },
    {
      "cell_type": "code",
      "execution_count": null,
      "metadata": {
        "id": "0FdVD3973S-O",
        "colab": {
          "base_uri": "https://localhost:8080/"
        },
        "outputId": "8edc103e-3a5d-4988-9c0f-6ca31ed11774"
      },
      "outputs": [
        {
          "output_type": "stream",
          "name": "stdout",
          "text": [
            "input: this is such an amazing movie! : score: 0.999376\n",
            "input: The movie was great!           : score: 0.992414\n",
            "input: The movie was meh.             : score: 0.678403\n",
            "input: The movie was okish.           : score: 0.016605\n",
            "input: The movie was terrible...      : score: 0.000625\n",
            "\n"
          ]
        }
      ],
      "source": [
        "serving_results = reloaded_model \\\n",
        "            .signatures['serving_default'](tf.constant(examples))\n",
        "\n",
        "serving_results = tf.sigmoid(serving_results['classifier'])\n",
        "\n",
        "print_my_examples(examples, serving_results)"
      ]
    },
    {
      "cell_type": "code",
      "source": [
        "for t_text, t_label in test_ds.take(1):\n",
        "    print(t_text)\n",
        "    print(t_label)"
      ],
      "metadata": {
        "colab": {
          "base_uri": "https://localhost:8080/"
        },
        "id": "E0MJgEj_GVp-",
        "outputId": "20d22854-ebcf-409c-9bd9-e8e4c8da2e7d"
      },
      "execution_count": null,
      "outputs": [
        {
          "output_type": "stream",
          "name": "stdout",
          "text": [
            "tf.Tensor(\n",
            "[b\"This movie is bad.<br /><br />This movie is REALLY bad.<br /><br />This movie is might as well be half a minute long and shown 200 times in a row, because you'd get the same effect.<br /><br />The phone rings. Man A answers the phone and gets annoyed by Man B. Man A curses off Man B, and then hangs up the phone. Repeat.<br /><br />This is the entire movie.<br /><br />DO NOT WATCH THIS MOVIE. TRUST ME.\"\n",
            " b'OUCH, No real need to say anything else. This movie actually had me contemplating suicide. As a huge fan of the wonderful genre that is zombie movies I found this to quite possibly be the worst attempt I have ever been privy too. The film never actually seemed to go ANYWHERE! What was the point to it all, I am left feeling hopeless and lost. Hell this was so bad i cant even justify bashing it anymore. I\\'m just gonna go hang myself in the closet. OK now I tried to submit my comment but the server will only accept comments that are ten lines or more. So here it goes... Bad, horrible, no where near enough gore. NO TITS!!!!!!How can you have a Zombie movie without tits. As a matter of fact the female lead had one hell of a rack and the only reason I watched the film to completion was in order to maybe by chance get a glimpse. NOPE! Of course there was one line that does deserve mentioning, a line I am looking forward to using myself someday (when i just feel the need to get my face smacked) \"This hog isn\\'t going to smoke itself\" This movie is bad, so bad.'\n",
            " b'Tipping the Velvet has just three weeks ago been released in the UK and already I watch as countless letters flood to the national papers and TV guides, claiming that it possesses a thin plot, weak performances and an even weaker script.<br /><br />You find me incensed. This is heresy.<br /><br />I would really like to dispel all doubt by first congratulating Andrew Davies on enabling Geoffrey Sax to create this wonderful dramatization of Sarah Waters\\' novel by cushioning him with such a fantastic script. Kudos. But I fear I must now change tack.<br /><br />I saw one of the premiere TV guides here in the UK (which shall remain nameless) relentlessly describing Tipping the Velvet as a \"lesbian love story\". If they are, and I assume they are, trying to promote interest in the film, then this is completely the wrong way to go about it (aside from the phrase being a disappointingly inaccurate description). By saying such a thing, they are either a) turning away those who would instinctively be repelled by \"that\" subject matter or b) attracting a class of people who will only watch to see some \"serious girl-on-girl action\". Buy a video! Through this display of serious inconsideration, this and other magazines are cheapening what is a brilliant adaptation of one of recent literature\\'s greatest works. Tipping the Velvet is a story of love, of passion, of moving on, of loss, and of heartbreak. It\\'s not a lesbian love story. No siree.<br /><br />The end result is a stylish affair, with excellent performances all round (particularly from Stirling, Hawes, Chancellor and May). Direction-wise, it\\'s intoxicating and immersive - sometimes, fast-paced, sometimes not - but it never ceases to be anything less than compelling. As a whole, it\\'s polished and well delivered, the sex is undertaken with tenderness and delicacy - and although many will not class it as a real \"film\", it will remain among my favourites for some time to come.'\n",
            " b'In this episode, Locke and Eko go searching for the \"?\" symbol that we saw during the lock-down on a previous episode. Michael, having shot Ana Lucia and Libby, struggles with his actions as Libby inches closer to death.<br /><br />The most interesting thing about this episode (I think). Is during the commercial break. Locke and Eko find a hatch under the plane that killed Boone in season one, and a new training video ends with \"Copyright, The Hanso Foundation, 1989\" In a following commercial break, a rather bizarre and nondescript commercial advertises \"The Hanso Foundation\" (a planted commercial), and the website advertised (www.sublymonal.com) leads the visitor through a world of information about life on the outside of LOST\\'s storyline. A must see for all fans!'\n",
            " b'It is great to see a film starring kids whose idea of \"acting adult\" is not engaging in sensuality. Instead, these kids see a problem in their community and take responsibility for helping to solve it. Hoot is a film aimed squarely at families looking for a fun day at the cinema. The production values are good, especially sweeping shots of Montana and Florida. The soundtrack by Jimmy Buffet is a perfect fit. The young actors are spirited and refreshing.<br /><br />The plot, about a trio of kids who work together to save some burrowing owls from death at the hands of an unscrupulous pancake house empire builder, will engage kids. So many films make children appear powerless, it is nice to see a movie that shows children working hard to make a difference. And even though parents are absent or temporarily distracted, it was pleasant to see kids who want to follow in their parents footsteps and try to right injustices.<br /><br />If you are tired of all of the self-indulgent story lines about children that fill the cinema, give Hoot a shot. Then take some time to talk to your kids about the adventure of serving others and caring about the world they live in. A positive message from a positive film.'\n",
            " b'I had to watch this one for my Canadian cinema course and I was told that it was considered to be the \"best Canadian film.\" When I watched this I really did not agree, considering I\\'ve seen a lot better ones. I understand that there were Canadian themes and messages, but the fact that the characters and the plot were so disconnected with me (as a spectator) it made me not really care what the film was trying to tell me. The plot was too dry. The characters did not have many positive personality traits, but this is to emphasize the messages, not to tick off spectators. This film shows a little about the history of Quebec. Not a very interesting film; it definitely does not deserve to be put on such a high pedestal.'\n",
            " b\"It's rare that I get the opportunity to review a film for IMDb that relates to my own life in such a close way. However, as someone living with cerebral palsy (albeit less severe than Michael, one of the main characters in the film) I don't wish to give this film a 'free pass' just because it tackles a subject that's rarely approached; and when it is, is normally treated with po-faced seriousness. There WERE minor problems I had with the film; and I'd like to address those first, so that people are clear that it isn't my situation which has clouded my judgement of this overall excellent film! <br /><br />* Parts of it I felt were unashamedly crowd-pleasing, at the expense of realism. If I had a pound for every time a well-meaning member of the public has mentioned electric-wheelchair racing to me, I'd be much the richer man; but speaking personally, that fits more into the public perception of how we deal with our disadvantages, rather than the reality of what actually goes on. Same thing with spending time watching disabled people go to the pub - it's not a big deal to those of us who actually do it, as much as it might be admirable for outsiders looking in. I appreciate that this is from the previously sheltered perspective of Michael; but I still think he'd be concentrating more on enjoying the experience, rather than reflecting on what a big deal it was that he was actually there, in the first place. As such, the amount of time we spend seeing them have fun felt like a bit too much.<br /><br />* I felt that the terminal nature of Rory's illness was brought to our attention far too late; meaning that it was just used as a cheap sentimental device to come between the pair, rather than something everybody knew all along was going to have to be dealt with.<br /><br />To balance those criticisms, I have to dish out a heap of praise, as well. Although I thought some scenes showing them getting to grips with normal life were a touch overdone; the script also ventured into some tricky places I wouldn't have expected, and comes out with a lot of credit for doing so. For instance raising the issue of love and relationships; and showing the daily apparatus often used to aid and assist the lives of non able-bodied people. Also, despite the blunt emotional shock tactic of death being sprung upon us, the movie as a whole is far less sappy than anyone has a right to expect these type of films to be.<br /><br />Brenda Fricker can and has been performing variations of her role capably on autopilot for what seems like years; but Robertson and McAvoy share a special interaction that must be noted. Inside, I'm doing cartwheels that a group of people somewhere have finally made a film doing justice to the lust for life of many disabled persons.\"\n",
            " b\"I had always eyed Italian horror maestro Dario Argento's efforts as producer with a certain suspicion and these were only confirmed after my fairly recent viewing of Lamberto Bava's terrible DEMONS (1985); the fact that this was supposed to be its third installment did not sound promising at all but I decided to give the film a rental regardless now that we're in full Halloween swing. I checked out the theatrical trailer on the Anchor Bay DVD prior to viewing the main feature \\xc2\\x96 the undeniably striking visuals had me intrigued to be sure but, then, the film proper (which makes no more sense than what's presented in that frenzied two-minute montage and, in retrospect, can be seen to have wisely compiled most of its highlights) proved a definite let-down!<br /><br />Opening promisingly enough with a medieval prologue straight out of Alexander NEVSKY (1938), it goes downhill fast because it relies too much on surreal imagery at the expense of narrative. Consequently, several characters randomly take center-stage throughout \\xc2\\x96 with the insufferable male lead succumbing to the dark forces early on, the sinister-looking Bishop (Feodor Chaliapin) resulting a mere red herring, the mysterious black priest gradually assuming heroic qualities, the leading lady is for whatever reason preyed upon by a goat-shaped demon (culminating in a sexual rite conducted in front of the other cultists lifted all-too-obviously from ROSEMARY'S BABY [1968]) and a reasonably impressive 13-year old Asia Argento as the rebellious but likable sacristan's daughter (who emerges as the only survivor by the end). Incidentally, the older Argento also co-wrote the film's story and screenplay along with director Soavi and (under a pseudonym after they apparently fell out with Dario in the early stages of production) original helmer Lamberto Bava and prolific genre scribe Dardano Sacchetti (whom I met at the 61st Venice Film Festival in 2004).<br /><br />The extremely muddled second half of the film, then, sees a group of people \\xc2\\x96 including the inevitable teenagers but also a doddering English couple (whose constant bickering is given an amusingly nasty punchline) \\xc2\\x96 similarly shut inside a building in the grip of evil spirits (the church being the burial ground of a satanic cult)\\xc2\\x85not that this horror outing is likely to dispel memories of Luis Bunuel's sublimely surreal THE EXTERMINATING ANGEL (1962) you see! In the end, the film is all the more disappointing (though Sergio Stivaletti's gruesome effects, at least, are notable) given that I had thoroughly enjoyed the only other Soavi title I'd watched \\xc2\\x96 CEMETERY MAN (1994), which I own via the R2 SE DVD. That said, I'd still like to catch his debut feature \\xc2\\x96 STAGE FRIGHT (1987) \\xc2\\x96 and the director's follow-up effort to THE CHURCH, entitled THE SECT (1991)...\"\n",
            " b'This is just a very bad film. Miles looks as if she is in pain during the sex scenes and the acting is wooden. It also drags on slowly and never really finds a point to it all. One of the worst films that I have ever seen!'\n",
            " b'This is not your typical Indian film. There is some great sense of humanity, and the characters are pretty realistic. There is great dynamism in the interpersonal relationships, and there is a sense of guilt, grief, passion, passivity among the many characters. While seeing this, one gets a feel for the heavy burden of the 5000 years of layers and layers of history of social existence of one of the oldest civilizations. The final scene of an elephant walking away in the rural area was a great footnote to such a ancient civilization, and yet, human relations are still preserved and nurtured. Saw it on DVD, the two interviews with the director and the main actress are very interesting. Was surprised to learn that the movie has not done well (or not being shown) in India (... but maybe not too surprised). The artistic patrimony of rural societies is being slowly lost and its inheritance not picked up by younger generations, as some of the older musicians in the movie are no longer living today. Great film.'\n",
            " b\"This type of show is not supposed to happen on television. This is the type of edginess usually reserved for independent film. This is what only HBO is supposed to do. Fact is that Denis Leary has managed to come up with one of the best television shows ever, easily joining the ranks of THE SOPRANOS, OZ, ED etc.. Kudos the gang at ABC for showing that NYPD Blue was not a fluke, and to Mr. Leary and his gang for creating a truly unique viewing experience. My only complaint is that the show is not long enough ... an hour would make it better, but I can't wait for the next episode!\"\n",
            " b\"I consider myself a huge horror movie fan. One night I wanted to just rent some newer horror movies to make fun of. Then, I rented Milo. I was so surprised by this movie. It scared the hell outta me. That's not something I can say very often. Usually Halloween only scares me.<br /><br />Two other friends watched it with me, and were left with a disturbed feeling. A good feeling, if you ask me, after watching a horror movie. If you are unaffected, then what's the point.<br /><br />This movie was original. It didn't follow the normal guidelines of a horror movie. That's why movies like Valentine bombed for me.<br /><br />Of course, many are left with unanswered questions, as most horror movies do. It is worth the rent though.\"\n",
            " b\"Dictated by thin experience (of both life and industry) and no cash Sofia Coppola's early short is almost by necessity an observational piece set on a high school campus. The cast are rather weak and do not benefit from being shot in b&w (it's difficult to tell the characters apart). The sound editing does little to help a simple story of fickle teenage allegiance.<br /><br />Yet there are one or two things to note. Inamongst the inconsistent editing the high school campus is filmed with a balance of aspirant wide and intimate close-up shots. The editing-to-music also creates an interest and momentum (without descent into the netherworld of the Music Video). Coppola clearly made an attempt to vary the pace of the film. The dramatic turn is cut fast and to-the-point and the second act is almost non-existent; we recognise it's actually been played out in tandem with the first, which is the point of the narrator-on-crutches trope (who is an otherwise curiously appended character in that first act).<br /><br />Despite these notes it's an awkward short. 2/10\"\n",
            " b\"GoldenEye is a masterpiece. The storyline is amazingly depicted, the characters beautifully animated and the weapons are tyte. The storyline is so interesting, even when you complete every single mission, to get more levels you have to beat them on a higher difficulty. And the multiplayer mode is so tyte. You pick the weapons you want to play with, then play. Me and the three of my friends, along with my brother, always play Goldeneye. If you don't have this game, I suggest you buy it.\"\n",
            " b'I really don\\'t think producer George Lucas didn\\'t really set out to make such a horrible sequel as \"More American Graffiti\" turned out to be. But in retrospect it was the first crack in his then-seemingly impenetrable armor. Coming straight off the huge success of \"American Graffiti\" and produced basically at the same time as \"Star Wars\", this film was the first that Lucas successfully took away from Coppola without having to bother directing it himself. The result is typical Lucas -- far more interesting in terms of its structure and the way it\\'s edited than the actual material. The writer/director Bill Norton has been allowed to use a variety of different screen ratios and split screens to produce odd associations in the images. While it\\'s interesting to see ironic juxtapositions of the 4 story lines, the style ultimately only epitomizes the fractured nature of the film itself.<br /><br />Lucas\\' brilliant original film was all about a group of friends on the archetypical \"last big night\" before school ends and Kurt (Ron Dreyfuss) and Steve (Ron Howard) are supposed to go off to college. One thing that made that film work, despite the fact that it\\'s very episodic, is that you had the core characters together at the beginning and they come back together at the end. There\\'s a disposition of time, like in Nick Ray\\'s \"Rebel Without a Cause\" where a certain period of time becomes very elastic and takes on more meaning than such a specific time really would in actual life, but everything takes place in a static space. \"More American Graffiti\" is basically the opposite -- the space is very dynamic, with Toad (Charles Martin Smith) off in Vietnam, his former girlfriend Debbie (Candy Clark) partying with hippies in San Francisco, Steve and Laurie (Cindy Williams) involved in student protests in Berkeley, and John Miler (Paul Le Mat) drag racing on the semi-pro circuit. In a contrived meeting early in the film all the principles are brought together to watch John race, but after that the threads don\\'t come back together and weave apart the way they do in the original. Instead they split off and we follow the characters through about 3 years\\' of time, just seeing various events on New Years Eve in what seems to be 1967, 68 and 69. It\\'s easy for the audience to become confused, and I think it\\'s fair to say that we do. While the original film seemed to condense important events and rites of passages into unreal theatrical time that produced an experience of nostalgia even for those who never experienced those events, this sequel drags and stretches the few plot points from the epilogue of the original and attempts to make them into a coherent film.<br /><br />The best parts of the movie to me are the ones with Candy Clark in SF and Charles Martin Smith in Nam. Some of the jokes do fall flat but the style of those sections is interesting and they form a neat contrast with each other. A good movie could maybe have been made if these parts were just a bit better, and if the other parts weren\\'t such a drag. Speaking of drag racing, the whole plot with Milner talking to a foreign exchange student was really lame, unfunny, and throwing in Mackenzie Phillips for a cameo didn\\'t help at all. It was just another contrived moment, like when they briefly explain why Curt isn\\'t in the movie because he\\'s already in Canada. Instead Laurie just has another brother who is basically identical to Curt but has a different name and is now played by a very boring actor. There\\'s a black kind of satire to some of the Vietnam stuff, very similar to what I would imagine Lucas and John Milius\\' original idea for \"Apocalypse Now\" would have been like. And there\\'s some of that manic fun in the San Francisco scenes that made the first movie fun. But still along with that fun stuff, you have the rest of the movie dragging it down, as if anyone wants to see Steve and Laurie argue in their horrible suburban abode as if they were auditioning for a Spielberg movie about divorce and child abandonment. I think even if those parts of the movie weren\\'t so painful, it still wouldn\\'t really be comparable to the first movie because there\\'s no closure and no sense of coming back together or of anybody having learned anything. It just sort of ends at the point when they ran out of money or something, a cheap freeze frame imitation of \"Two-Lane Blacktop\" and so many better films.<br /><br />Like the original however, this film has a great soundtrack of period hits that is probably worth owning for its own sake and almost makes the movie itself palatable. The performances by Country Joe and the Fish are great, and Scott Glenn all duded up as a hippie in love with Candy Clark is a sight to see -- I wonder if even back then he had to use a wig? I couldn\\'t possibly recommend this movie, and yet it has some small affection in my heart because I love the original so much. Every couple of decades I guess I have to give this movie a try just to make sure that it\\'s really as worthless as I remember it being. It\\'s a party killer but it\\'s something that every fan of \"American Graffiti\" or George Lucas in general will want to see at least once or twice. It shows how a lot of effort can go into something and it can still turn out pretty half baked. It makes you reflect on how much of a miracle it is that Lucas actually made such a good movie as \"American Graffiti\" in the first place, as if all the elements were in place and all the appropriate gods had been placated. Unfortunately such was not the case for this film or for Bill Norton.'\n",
            " b'This is an incredible piece of drama and powerful which hits you. I found the film was great and getting to grips with the two main characters disability, this was represented in a great performance by both two Michael and Rory. Whether the story is based around a true story I feel the story was trying to giving the audience a message that as a whole the general public should respect and feel for the needs of disabled people and that they should be given the same chance as any other human. On the whole this film reach into my soul and I too felt touched by the actors and the director sending out there creativity. The whole picture is that some actors take it beyond their character the play and only show part of the character that is believable to the audience, but I feel that theses two certainly made great use as their gifted talent to portray a masterpiece piece of drama. Certainly one not to be missed!'\n",
            " b\"This film was so well-paced that I don't think I actually blinked while watching. One intense situation after another kept me glued to the set. However, I would have liked to have seen Corey Feldman a lot more in this picture. He just steals every scene that he is in. This could be my favorite grown up Corey performance. The ending was clever and unlike other films which back away from severing body parts of likeable supporting characters, this film goes for it! I liked that it was not graphic blood and gore but left more to the viewer's imagination. Bravo. I literally had to wipe sweat from my forehead during this particular torture scene with a paper cutter. Ultimately, the film works because of its likeable lead character and the awesome presence of my all-time favorite bad guy, James Remar(48 Hours, remember?) I strongly recommend this film for anyone looking to break a sweat.<br /><br />\"\n",
            " b'Good to see I\\'m not the only person who remembers this great film. I have very fond memories of this movie - seem to vaguely remember back to when I was about 8 and I\\'d watch the kids TV shows after school (Broom Cupboard anyone?). This was the first and last film to scare me - and the images of the boy surrounded by mist on a hill will stay with me forever! Like most films of this era, it has a happy ending - aimed at children, but with a definite ability to capture an adults attention. The lovely Cornish scenery really sets the film up to feel isolated - and the \"ghostly\" scenes are simple but very, very effective! I\\'d love to try and find this movie again - see if it still hits home!'\n",
            " b\"Shirley Knight plays Sara Ravenna, a Long Island housewife who runs away from her marriage when she discovers she is pregnant. She plans to drive into America's heartland and start anew. Along the way she picks up a friendly hitchhiker (James Caan) who calls himself 'Killer.' Soon she discovers that the good natured 'Killer' is actually brain damaged, and by picking him up she has unknowingly taken on a huge responsibility. The two of them drive all the way to Nebraska, where Sara gets Killer a job helping out at a roadside reptile farm. It is here that Sara meets Gordon, a local cop, and soon things go horribly wrong for everyone.<br /><br />This is a powerful drama about people disconnected from society, alienated by the choices they make or by the limits imposed on them by others. Even with such a low budget and a very freewheeling attitude, the film is able to capture everything that needs to be said through these clearly defined characters. Shirley Knight has a complex, diverging role and there are moments of some awe-inspiring acting by her. One of my favorites is when she is on the telephone calling her home to her worried husband the first time. It is such a tense scene on both ends, and in every small gesture and inflection of a word, so much about her is spoken with so little. Then comes in the character of 'Killer' played by James Caan. This character is unlike any I've ever seen him play, and he performs wonderfully. It's one of his best performances as he is very restrained and moving.<br /><br />The way Coppola develops the characters by using short, dream-like flashbacks is very clever, adding a fragmented kind of view onto it all. The quick flashbacks that are graphic and self-contained contrast well with the longer shots in some crucial scenes. Also, because this film was shot on location all over the Eastern U.S., it offers an interesting, authentic look at America in the late 1960's.<br /><br />I haven't seen many other films starring Ms. Knight, I'm only familiar with her more recent work on television, usually playing a nagging mother in law or a dotty old woman. It was great seeing her so young, beautiful, and so wonderfully subtle in this movie. It's also kind of a shame that James Caan went on to be typecast as the 'tough guy' for the rest of his career, because this film evidenced that he is capable of so much more than that.\"\n",
            " b'Acolytes presents an interesting mix of original concepts in \"screaming teen\" clich\\xc3\\xa9 horror with a more thriller-like pacing. In some ways Acolytes is very successful, but in many other ways the film fails miserably.<br /><br />Overall Acolytes avoided the typical archetypes of the naivety and innocence of youth of endless horror films in the like of Cabin Fever, Texas Chainsaw Massacre, and countless other films where unsuspecting and relatively naive and innocent teenagers, have sex, run around screaming and one-by-one are plucked off by some sort of monster. Instead this innocence is replaced with pride, retaliation, and arrogance. The characters had several opportunities to save themselves from immanent death and despair, but failed to do so due to their own personal demons. In the end you were left with the feeling that there were no (and perhaps are no) innocent victims.<br /><br />As the name implies, the film also touches greatly on following a leader or authority. This was used in a direct sense of if the main character would become like the serial killer and was also used less directly throughout the film. Following a central figure is a reoccurring theme throughout the film.<br /><br />Through all this, the film makers also incorporated a lot of clich\\xc3\\xa9, which I suspect was intentional and gave the film a unique mixture of depth as well as shallowness which I found intriguing. This, perhaps inadvertently, plays well with the characters who are, at first appearance very shallow but as the story unfolds it becomes obvious that they are, at least the two main male characters, quite complex.<br /><br />Technically the film has a lot of problems however. The cinematography, which is typically regarded highly, I find rather sophomoric and over-stylized, utilizing formulaic 2/3 approaches far too rigidly. Many transitions I felt were also over-stylized. The use of symbolism was not only vague, but also greatly over used.<br /><br />The plot was poorly planned and relied exclusively on misinformation in order to achieve a rather hokey twist ending, which was poorly resolved and leaves viewers confused. Methods used to resolve the climax are cheap and ill-prepared, motivations are routinely unclear, and major plot points remain untied in the end.<br /><br />Overall, the film\\'s relative originality, themes and thesis are lost in a maze of poor technical execution, over-stylized imagery, unclear motives, obtuse and unnecessary symbolism and cheap twists maintained only by a lack of or entirely incorrect information.<br /><br />If the film were better executed, it would have been excellent. However, Acolytes receives only two stars in my opinion.'\n",
            " b'I don\\'t care what some of the reviews said, this movie was funny. The thing with this film is that you can\\'t expect anything else except to be entertained. This is not some intellectual comedy, this is a clever popcorn movie. The three main cast members are great and work very well with each other. Shatner is a standout in the supporting cast as himself, a former TV cop, brought in by Russo\\'s character to coach the cops on how to be \"TV cops.\" Those are by far the funniest scenes. If you want to be entertained and just sit back for a laugh, then watch this movie.'\n",
            " b'They are hunted and starving. They are completely demoralized and yet they press on through sheer inertia. This film tries to answer the question \"How far will human beings go to survive?\" Hopelessness emanates from every of this film and like so many japanese films of this time, it condemns the blind military loyalty that pressed the japanese people into war.'\n",
            " b\"Ni\\xc3\\xb1as Mal is not a movie is a bad episode of a cheesy badly conceived soap opera. <br /><br />The acting is not a bit better of that in soap operas, I guess the writer and director has seen too many Mexican soap operas and can't conceive anything remotely different. <br /><br />Give it up, go back to your soap operas so that you have an audience to please. <br /><br />Stop waisting our time and money and giving a bad name to the once respectable Mexican film industry. <br /><br />It is NOT an OK or good movie, it's a mediocre soap opera!\"\n",
            " b\"Just watched it on the Hallmark Channel. I was surprised to John Denver! This movie was full of clich\\xc3\\xa9s, but that is to be expected (a made for TV Christmas movie- come on!) The acting is as good as any other '80's made for TV movie. The story is, as I said before, predictable and clich\\xc3\\xa9, but still good. If you are looking for a campy Christmas movie, it will certainly scratch your itch.<br /><br />I was also pleased when I learned that it took place in Georgetown, Colorado. It is a real mountain town west of Denver. Very cool as this is my home region.<br /><br />I was never a big John Denver fan (I always found him to be pretty foney) but he was a decent actor. He is very good as the good old boy like he played in this film.<br /><br />If you get the chance to watch it, than do. I'm sure it will be on again in 2007.\"\n",
            " b'If you want to see how to ruin a film, study this one very closely. In fact, it is so bad that people should buy it for that reason alone. Especially note how most of the scenes look as if they were knocked up in about 5 minutes. Realism escapes this movie on every level. The overall impression is that someone was given a below average script, wannabe actors, an average director and absolutely no budget whatsoever. With a formula like that, it just had to be doomed.<br /><br />I rented this once, and I swear I got stupider watching it. If you are a humanitarian, buy this horrible, horrible movie, and burn it-UNWATCHED- as a favor to the world. It has no discernible plot, bad acting, and then tosses in something about evil ugly women just to really cap the whole thing off. I would suggest watching paint dry before this stupid waste of a tape! Seriously. The paint would be better. I wish I could give this negative 10 stars.'\n",
            " b'This movie was, perhaps, one of the most unoriginal and unfunny films I\\'ve seen in a long, long while. To be fair, I was not expecting some revolutionary comic formula, but I was anticipating to at least be entertained. With such low expectations, how could I manage to be disappointed? <br /><br />Jim Carrey, possibly my favorite actor (not sarcasm), did little more than tread water in this film. He seems to have temporarily returned to his funny-face-making roots and created a character no different from his Fletcher Reede from Liar Liar. This new character, Dick Harper (a.k.a. Fletcher 2.0) is a poorly rendered and miserably written whelp. If you find yourself smiling while watching this pitiful and essentially boring character, it is most likely because Carrey is trying so hard to bring a third dimension to him. Carrey\\'s outlandish posing becomes humorously awkward--and, ultimately, sad.<br /><br />Tea Leoni as Jane does little more than provide the Abbott to Carrey\\'s Costello. I typically find Tea Leoni refreshing and underused, but not in this case. Jane Harper could have been easily played by any actress from age thirty to forty-five, and it is in that non-specificity that the character of Jane becomes uninteresting to watch. She simply has no defining trait other than her following of the movie\\'s general theme, which seems to be that... Wait, no, this movie has no theme. Unless you count \"Big Business Is Evil\" as a theme. I thought that was more of a given.<br /><br />Richard Jenkins and Alec Baldwin both deliver believable (though tired) supporting performances, but neither man seems truly invested in the role they\\'re playing. It\\'s very clear that Alec Baldwin was putting about as much effort into playing his role as the sinister C.E.O. as he puts into eating a sandwich (which he seems to be doing a lot of lately).<br /><br />Slight tangent, but has Alec Baldwin played any roles in the past few years that hasn\\'t required him to be a powerful jerk in a suit? <br /><br />Anyway, take my advice if you haven\\'t already witnessed the horror for yourself: save your money. This is the one to catch on HBO in a few months. Dick and Jane are present, but there\\'s no fun to be had.'\n",
            " b\"I had to call my mother (a WASP) to ask her about this. Was it really that bad in the 40s in New York? Surprise, she couldn't remember. So I told her to see the movie. Arthur Miller, in not a screen play but a NOVEL for a change, was 30 when he wrote this in 1945. It is a painful depiction of anti-Semitism. Yet oddly enough, there is a tender story of human relationships (Finkelstein, the Jew, with Newman, the non-Jew, primarily) underlying the cruel story. The acting is competent and the cinematography is very good.<br /><br />The only reason I can think of for this not making it big in the theatre is that it's >>aaagh<< controversial.<br /><br />I actually give it ten of ten. Maybe a bit high, but it's so worth seeing.\"\n",
            " b\"For Estoninans Finland sometimes seems like a land of dreams. A land where many of us want to go and work there or start a business. Find love, start a new life etc. But... Aku Louhimies has made this brilliant piece which shows that everything is not so good in Finland as well. That Finland can be just as Paha maa (The Bad Land) than any other country. It shows that people there can be just as miserable in their lives than we in everywhere else. That sometimes there's nothing good. This movie nicely shows why Finland is one of the top suicidal countries. It's not easy to live in North. Cold climate changes us. I've become more and more attracted to Finnish movies and this one is very good. The acting is great as well. Jasper P\\xc3\\xa4\\xc3\\xa4kk\\xc3\\xb6nnen has become one of the top Finnish stars. Beware of the sex scene (if you have little children) and a little depression that might come afterwards the movie! 8/10\"\n",
            " b'I sincerely wonder why this film was ever made. A Bulgarian-Italian co-production set in a version of Berlin where all Germans speak English with a German accent and all Turks speak English with some Turkish words in between, is hardly credible. The English vocabulary is basically limited to \"fuck you, bastard\" and the acting is worse than anyone can imagine. Apart from this, racial tensions in Germany can be an interesting subject but in the Germany I know there are no gangs shooting each other in the middle of the street in clear daylight. And if all that is not enough, there is also a serial killer going around who kills Turkish children and paints them white. In order to create some tension, we see the serial killer and hear him hum Schubert\\'s lullaby but we won\\'t see his face. <br /><br />I don\\'t even believe they actually shot it in Germany. There are some street shots that are quite obviously in Berlin, but the actors are not seen in those shot. It\\'s probably Bulgaria with some German signs added here and there.'\n",
            " b'I have been a fan of Amanda\\'s since All That, and she is still funny. Too me, it\\'s as simple as that. If you like the Bynes, you will like this film. It\\'s harmless fun and quite funny in parts. Vi\\'s wacky Sebastian accent and mannerisms are entirely unrealistic but made me laugh so hard at some points I almost choked on my popcorn. <br /><br />And anything that gets teens reading Shakespeare (maybe) is a good thing for me. <br /><br />On a shallow note, Tatum Channing is quite *ahem* freaking hot. He also does a good job with some of the film\\'s tougher scenes. <br /><br />Some of the side characters are VERY broad, but they are broad in \"Twelfth Night\" so it\\'s cool.'\n",
            " b\"I was really geared up to watch when two of best movie critics tagged this movie as a 'laugh riot'. But the movie turned out be disappointing.<br /><br />You will be advised to watch this movie keeping your brains at home but you simply can't ignore the flaws and the shortcomings.<br /><br />1. The missile scene was total stupidity.<br /><br />2. Katrina Kaif and Govinda pair looked awful. (He's 49 and she's just 24... more than double of her age) 3. Salman's comedy is less of acting and more of overacting.<br /><br />4. Songs are good but interrupts the pace of the movie.<br /><br />5. Some scenes were deliberately attempted by the movie makers to be funny, and 6. Poor and flawed story.<br /><br />However, there are few pluses- 1. Govinda. Great Individual Performance.<br /><br />2. Some scenes are actually quite funny.<br /><br />3. Kattrina Kaif. Looks and Acting keeps on improving with every film.<br /><br />4. Rajpal Yadav's Don sequences. Though under-utilized but hilarious.<br /><br />So 4 good points, 6 bad ones.. this one gets 4/10.\"\n",
            " b'Art imitates life imitates art. Atticus Finch is reincarnated into the D.A. in this tragic and suspenseful gripping documentary that plays more like a who-done-it and how did it happen. The authenticity and sometimes reluctant honesty of the individuals make this a compelling story in many layers. Although racism is one of the themes there are other elements such as work ethic, integrity, and coping with grief that have drawn me back to view and review this film again and again. The music is driving but not obtrusive; the pacing and visuals are such that there is no mistaking the fact that these are real people going through an authentic experience.'], shape=(32,), dtype=string)\n",
            "tf.Tensor([0 0 1 1 1 0 1 0 0 1 1 1 0 1 0 1 1 1 1 0 1 1 0 1 0 0 1 1 0 1 0 1], shape=(32,), dtype=int32)\n"
          ]
        }
      ]
    },
    {
      "cell_type": "code",
      "source": [],
      "metadata": {
        "id": "y8vni1duWLX7"
      },
      "execution_count": null,
      "outputs": []
    },
    {
      "cell_type": "code",
      "source": [
        "import numpy as np\n",
        "y_pred=np.argmax(classifier_model.predict(t_text),axis=-1)"
      ],
      "metadata": {
        "id": "riu22fjqTwi1"
      },
      "execution_count": null,
      "outputs": []
    },
    {
      "cell_type": "code",
      "source": [
        "from sklearn.metrics import classification_report,confusion_matrix\n",
        "print(classification_report(t_label,y_pred))\n",
        "cm=confusion_matrix(t_label,y_pred)\n",
        "print(cm)"
      ],
      "metadata": {
        "colab": {
          "base_uri": "https://localhost:8080/"
        },
        "id": "Du4hY6COTwm_",
        "outputId": "5f4d5301-7c37-4329-b66a-6a6d4c1c0742"
      },
      "execution_count": null,
      "outputs": [
        {
          "output_type": "stream",
          "name": "stdout",
          "text": [
            "              precision    recall  f1-score   support\n",
            "\n",
            "           0       0.41      1.00      0.58        13\n",
            "           1       0.00      0.00      0.00        19\n",
            "\n",
            "    accuracy                           0.41        32\n",
            "   macro avg       0.20      0.50      0.29        32\n",
            "weighted avg       0.17      0.41      0.23        32\n",
            "\n",
            "[[13  0]\n",
            " [19  0]]\n"
          ]
        },
        {
          "output_type": "stream",
          "name": "stderr",
          "text": [
            "/usr/local/lib/python3.7/dist-packages/sklearn/metrics/_classification.py:1318: UndefinedMetricWarning: Precision and F-score are ill-defined and being set to 0.0 in labels with no predicted samples. Use `zero_division` parameter to control this behavior.\n",
            "  _warn_prf(average, modifier, msg_start, len(result))\n",
            "/usr/local/lib/python3.7/dist-packages/sklearn/metrics/_classification.py:1318: UndefinedMetricWarning: Precision and F-score are ill-defined and being set to 0.0 in labels with no predicted samples. Use `zero_division` parameter to control this behavior.\n",
            "  _warn_prf(average, modifier, msg_start, len(result))\n",
            "/usr/local/lib/python3.7/dist-packages/sklearn/metrics/_classification.py:1318: UndefinedMetricWarning: Precision and F-score are ill-defined and being set to 0.0 in labels with no predicted samples. Use `zero_division` parameter to control this behavior.\n",
            "  _warn_prf(average, modifier, msg_start, len(result))\n"
          ]
        }
      ]
    },
    {
      "cell_type": "code",
      "source": [
        "for tr_text, tr_label in train_ds.take(1):\n",
        "  print(tr_text)\n"
      ],
      "metadata": {
        "colab": {
          "base_uri": "https://localhost:8080/"
        },
        "id": "G61CbImgWN9X",
        "outputId": "e1ccde0e-a95d-43d7-aa97-18ae2292b2af"
      },
      "execution_count": null,
      "outputs": [
        {
          "output_type": "stream",
          "name": "stdout",
          "text": [
            "tf.Tensor(\n",
            "[b\"Having seen most of Ringo Lam's films, I can say that this is his best film to date, and the most unusual. It's a ancient china period piece cranked full of kick-ass martial arts, where the location of an underground lair full of traps and dungeons plays as big a part as any of the characters. The action is fantastic, the story is tense and entertaining, and the set design is truely memorable. Sadly, Burning Paradise has not been made available on DVD and vhs is next-to-impossible to get your mitts on, even if you near the second biggest china-town in North America (like I do). If you can find it, don't pass it up.\"\n",
            " b'Caution: May contain spoilers...<br /><br />I\\'ve seen this movie 3 times & I\\'ve liked it every time. Upon seeing it again, I\\'m always reminded of how good it is. An HBO TV movie- very well done like most of their movies are- this would\\'ve gotten Oscars for it\\'s performances had it been released for general distribution instead of made for TV.<br /><br />As I\\'m sure anyone knows from reading other reviews here, this is the story of serial murderer, Andrei Chikatilo. He murdered 56 people over 8 years in the former Soviet Union. (3 victims were buried & couldn\\'t be found so he was only convicted of 52 out of 53 of his murders.) The story actually focuses more on the forensic analyst, Victor Burakov played to perfection by Stephen Rea. A man that becomes tortured and obsessed with finding this killer despite the additional obstacles placed by party hacks, his part is essential to be sure. There is a very touching scene towards the end of the movie that mentions how in America, investigators are routinely taken off serial killer cases after 18 months whether they want to or not due to the mental strain & frustration. According to this acct, Burakov worked for over 5 years before getting his first break from it. He followed the case to its conclusion, 3 years later. In this scene, his superior, General Fetisov, played by Donald Sutherland, actually tells him he admires his dedication and apologizes for not knowing he should\\'ve given him a break sooner.<br /><br />Rea\\'s performance is so well done, he doesn\\'t overact, chew up the scenery or do anything that distracts from his portrayal of a man who is hell bent on finding his killer. He is a man with passion, but doesn\\'t show it in the same manner as is so usually portrayed in detective movies. He only occasionally gives outbursts after quietly putting up with more than most could stand under such circumstances. Rea does so much with his face, his eyes, he doesn\\'t need to overact. He just *is* - His character, so frustrated after so long, at one point, driven to frustration, he actually says he\\'d rather find 3 at one time than none in a year. Of course what he means is not that he wants more people to die, he just wants some clues to catch this man. Rea makes us feel for this man. He makes us understand but a glimpse of what it is to live with such horror and futility.<br /><br />A mutant to be sure, Chikatilo\\'s childhood was one which produces such \"monsters.\" The character of Chikatilo is very well done by Jeffrey DeMunn. He somehow (impossible though it may seem) elicits some modicum of sympathy for himself. Perhaps he is the worst of us gone terribly wrong? Either way, his performance is very well done.<br /><br />Donald Sutherland as Colonel Fetisov (later promoted to General) also does a great job. He starts out seeming to be a cynical worldly official that doesn\\'t seem much more interested in helping the investigation than anyone else blocking Burakov. But he eventually becomes more than just an assistant, he actually actively participates in helping Burakov. There is also a very nice turn by Max Von Sydow as the psychiatrist brought in to help profile and figure out what kind of deviant they are looking for.<br /><br />Although this movie deals with a morbid, grotesque and violent story, it really is more about what it takes to catch a killer than the killer himself. All around a very well done movie with fine performances and a great screenplay. The screenplay manages to do what the best of this type of movie does: give factual events & place them meaningfully inside a dramatic framework that makes you feel like you know the people *behind* the facts.<br /><br />9 out of 10 stars'\n",
            " b\"from the view of a NASCAR Maniac like I am, the movie is interesting. You can see many race cars from 1983. Even tough, the racing scenes are not that much realistic. But I have to admit, that I haven't seen any race before 1995, because before that time, they didn't show any NASCAR races in Germany)<br /><br />from the view of a Burt Reynolds fan like I am, the movie basically is what we are used to see from Reynolds in the 80's: Burt behind the wheel of a fast car, like in his Bandit Movies.<br /><br />If you love NASCAR and Burt Reynolds, this movie is a must-see. If you only love one of this 2 things, I also recommend to watch it. If you like neither NASCAR nor Burt Reynolds, you still should give it a chance, but remember, this movie was far away from winning an Oscar Academy Award.<br /><br />It is the typical humor of the 80's. If you like movies like the Cannonball Movies, and Police Academy, you will also like that one.\"\n",
            " b'When it first came out, this work by the Meysels brothers was much criticized and even judged to be exploitation. Luckily, it is now hailed as a masterpiece of documentary cinema, especially now that society has been exposed to real exploitation in what is reality television, and the bad evolution of most direct cinema.<br /><br />Really, at first, we must say that this isn\\'t really direct cinema, it is more cinema verit\\xc3\\xa9. The difference between the two is very slight, but it mainly is the fact that in this documentary, we are made to feel the presence of the Meysels brothers, and they do interact with the characters filmed. This as well makes it clear that it is not exploitation. The Meysels have been allowed in the house, and they are included in what is a very eccentric situation of a very eccentric household. And both Edith and Edie just love the idea of being filmed.<br /><br />It would have been very disappointing had very been shown only a voice of God narration and shallow interviews. Here, we are given a full portrait of the madness of the house, a madness that does seem to go down well with both Edie and her mother Edith. Their house is a mess, litter and animals everywhere, faded colors and furniture all over the house, and the constant fights that are constant interactions of reality. These two people have lived with each other their whole life, and are not fighting in front of the camera because they want the attention, but rather because they can\\'t help talking to each other this way. They know each other too well to hide their inner feelings, there is no need. In the end, though, even as they blame each other for their lives, they really love each other deeply. Edie says she doesn\\'t want her mother to die, because she loves her very much, and Edith says that she doesn\\'t want Edie to leave her because she doesn\\'t want to be alone.<br /><br />But the most interesting aspect of the film is that regardless of their old age, the two women can\\'t help be girls. They cannot help being one the singer, the other the dancer. Exhibit all their artistic skills in front of their camera. When Edie asks David Meysels rhetorically \"Where have you been all my life?\" she is really very happy that she finally gets to show the whole world herself and her wonderful showgirls skills. A beautiful portrait of stylistic importance and a charm that is highly unlikely to be ever seen again, the way only the Meysels and few others could do.'\n",
            " b\"I thought that this was an absolutely charming movie centering around the lives of Mary-Kate's and Ashley's characters Sam and Emma Stanton! They are both trying to make both themselves and their parents happy but; unfortunately, it's just not that easy for them to actually do! I thought that this was an utterly charming and sweet movie and if you are a real fan of these marvelous young ladies then I'm sure that you'll agree with me here! If you haven't seen this movie yet then I say you really missed-out; big time, and that you should definitely take the time out to see it now! This movie is a real winner! Sincerely, Rick Morris\"\n",
            " b\"The filming is pleasant and the environment is keenly realistic. I liked that it boldly redresses conceptions of the many difficult moral and social morays of the 1930's Chinese-mainland countryside as well as more basic human questions - I felt I could get a real sense of the times, recreated even in splendid shots of traditional Chinese theatre and in purist depictions of street living. It seemed worthwhile to experience. The interwoven role which Buddhism plays is probably the most true-to-form - both in its menial and in its philosophic aspect, perhaps the most effective that I've seen in Chinese film. Casting is great. Images are memorable. Acting is solid enough. Thematically puerile but still rich enough to compliment the vehicle of its expression.\"\n",
            " b\"This is one of those cheaply made TV Movies were the characters seem to lose all sense. The premise of the story, the kidnapping of a son by the boy's father,is very good. But the story just seems to beggar belief. Whenever the mother is advised not to do anything you know fine well she is going to do it. It is a bit far fetched and not worthy of a viewing.\"\n",
            " b'Great movie - especially the music - Etta James - \"At Last\". This speaks volumes when you have finally found that special someone.'\n",
            " b'This film is not even worth walking to the movie theatre. No jokes, but stupid and boring laughing on repeated disgusting stuff. The music and the girls are great, unfortunately you have to watch the whole movie to enjoy them. It was weak, very very weak.'\n",
            " b\"For me, this movie just seemed to fall on its face. The main problem for me was the casting of Glover as a serial killer. I don't know whether this grows out of type-casting or simply his demeanor, but I doubt Glover could ever portray a convincing villain. He's a good guy, and that's always obvious in his performances. Other than that the film is your run of the mill serial killer story. Nothing very innovative .\"\n",
            " b'William Powell is a doctor dealing with a murder and an ex-wife in \"The Ex-Mrs. Bradford,\" also starring Jean Arthur, Eric Blore, and James Gleason. It seems that Powell had chemistry going with just about any woman with whom he was teamed. Though he and Myrna Loy were the perfect screen couple, the actor made a couple of other \"Thin Man\" type movies, one with Ginger Rogers and this one with Arthur, both to very good effect.<br /><br />Somehow one never gets tired of seeing Powell as a witty, debonair professional and \"The Ex-Mrs. Bradford\" is no exception. The ex-Mrs. B has Mr. B served with a subpoena for back alimony and then moves back in to help him solve a mystery that she\\'s dragged him into. And this isn\\'t the first time she\\'s done that! It almost seems as though there was a \"Bradford\" film before this one or that this was intended to be the first of a series of films - Mr. B complains that his mystery-writer ex is constantly bringing him into cases. This time, a jockey riding the favorite horse in a raise mysteriously falls off the horse and dies right before the finish line.<br /><br />The solution of the case is kind of outlandish but it\\'s beside the point. The point is the banter between the couple and the interference of the ex-Mrs. B. Jean Arthur is quite glamorous in her role and very funny. However, with an actress who comes off as brainy as Arthur does, the humor seems intentional rather than featherbrained. I suspect the writer had something else in mind - say, the wacky side of Carole Lombard. When Arthur hears that the police have arrived, she says, \"Ah, it\\'s probably about my alimony. I\\'ve been waiting for the police to take a hand in it,\" it\\'s more of a rib to Powell rather than a serious statement. It still works well, and it shows how a good actress can make a part her own.<br /><br />Definitely worth watching, as William Powell and Jean Arthur always were.'\n",
            " b\"I agree with the above comment, I love the realism in this, and in many movies (not just movies on eating disorders) the producers seem to forget that. They take an every day problem and create a hugely dramatic scene and then come the end of the movie everything is perfect again, which I dislike because its not reality. Not meaning to say things can't get better, and not meaning to say things don't in this movie, but it doesn't spend most of the movie creating all these problems, and come the end of the movie everything is perfect again. When people have eating disorders people don't just admit it and want to get better, and then life is peachy, it takes time, and I like how in this movie we grow with the characters, we go through the difficulties with them, getting better and worse, because it is a very important part of the movie. It gets into the minds of people with eating disorders, and shows the complications and pain, in a very realistic way, and I loved that. I also love how it shows The secrecy and betrayal people feel when suffering from eating disorders, it is scary to see how people react when they find out, especially if they approve of it. I thought this movie was very touching and beautiful and well told, and defiantly one of my favourites.\"\n",
            " b'I vaguely remember Ben from my Sci-Fi fandom days of the \\'60s, I was doing several interviews & bios of obscure actors/actresses, most notably Ben, actress Fay Spain, and Jody Fair, who played Angela in 1961\\'s The Young Savages. Ben was one of the people at a low-key Sci-Fi con in Chicago, about 1970, when I had a nice chat with him and his \"career\" and life. All these were published in some now-long-forgotten fanzine of the day. Wish I still had copies of those interviews, but time marches on, and any of those people surely wouldn\\'t\\' remember me at all so many years later. Ben was a really nice fellow, ekeing out a living (The cons of those days didn\\'t even pay their guest, unless, of course they were big-name stars, and even then the pay was a couple hundred dollars, at most! Good to know Ben\\'s still alive & kicking! How \\'bout a remake of Creature, but 50 years older! Ugly then, uglier now!'\n",
            " b'Every scene was put together perfectly.This movie had a wonderful cast and crew. I mean, how can you have a bad movie with Robert Downey Jr. in it,none have and ever will exist. He has the ability to brighten up any movie with his amazing talent.This movie was perfect! I saw this movie sitting all alone on a movie shelf in \"Blockbuster\" and like it was calling out to me,I couldn\\'t resist picking it up and bringing it home with me. You can call me a sappy romantic, but this movie just touched my heart, not to mention made me laugh with pleasure at the same time. Even though it made me cry,I admit, at the end, the whole movie just brightened up my outlook on life thereafter.I suggested to my horror, action, and pure humor movie buff of a brother,who absolutely adored this movie. This is a movie with a good sense of feeling.It could make you laugh out loud, touch your heart, make you fall in love,and enjoy your life.Every time you purposefully walk past this movie, just be aware that you are consciously making the choice to live and feel this inspiring movie.Who knows? What if it could really happen to you?, and keep your mind open to the mystical wonders of life.'\n",
            " b'Definitely the worst movie I have ever seen... Can somebody tell me where should have I laughed? There\\'s not a single hint or shadow of an idea. The three leading actors are pestilential, especially the one (I think it\\'s Aldo) from Sicily who _can\\'t_ make a Sicilian accent!!! Not to say about the dream-like insertion about Dracula... just another expedient, drawn from the worst cabaret tradition, to make this \"film\" last a little longer. Massironi and Littizzetto do what they can, but this so-called movie was really too, too hard to rescue. I would have given it \"0\"/10, but the lowest mark was 1/10 and so I had to overestimate it by one mark.'\n",
            " b'Silent Night, Deadly Night 5 is the very last of the series, and like part 4, it\\'s unrelated to the first three except by title and the fact that it\\'s a Christmas-themed horror flick.<br /><br />Except to the oblivious, there\\'s some obvious things going on here...Mickey Rooney plays a toymaker named Joe Petto and his creepy son\\'s name is Pino. Ring a bell, anyone? Now, a little boy named Derek heard a knock at the door one evening, and opened it to find a present on the doorstep for him. Even though it said \"don\\'t open till Christmas\", he begins to open it anyway but is stopped by his dad, who scolds him and sends him to bed, and opens the gift himself. Inside is a little red ball that sprouts Santa arms and a head, and proceeds to kill dad. Oops, maybe he should have left well-enough alone. Of course Derek is then traumatized by the incident since he watched it from the stairs, but he doesn\\'t grow up to be some killer Santa, he just stops talking.<br /><br />There\\'s a mysterious stranger lurking around, who seems very interested in the toys that Joe Petto makes. We even see him buying a bunch when Derek\\'s mom takes him to the store to find a gift for him to bring him out of his trauma. And what exactly is this guy doing? Well, we\\'re not sure but he does seem to be taking these toys apart to see what makes them tick. He does keep his landlord from evicting him by promising him to pay him in cash the next day and presents him with a \"Larry the Larvae\" toy for his kid, but of course \"Larry\" is not a good toy and gets out of the box in the car and of course, well, things aren\\'t pretty.<br /><br />Anyway, eventually what\\'s going on with Joe Petto and Pino is of course revealed, and as with the old story, Pino is not a \"real boy\". Pino is probably even more agitated and naughty because he suffers from \"Kenitalia\" (a smooth plastic crotch) so that could account for his evil ways. And the identity of the lurking stranger is revealed too, and there\\'s even kind of a happy ending of sorts. Whee.<br /><br />A step up from part 4, but not much of one. Again, Brian Yuzna is involved, and Screaming Mad George, so some decent special effects, but not enough to make this great. A few leftovers from part 4 are hanging around too, like Clint Howard and Neith Hunter, but that doesn\\'t really make any difference. Anyway, I now have seeing the whole series out of my system. Now if I could get some of it out of my brain. 4 out of 5.'\n",
            " b'Great documentary about the lives of NY firefighters during the worst terrorist attack of all time.. That reason alone is why this should be a must see collectors item.. What shocked me was not only the attacks, but the\"High Fat Diet\" and physical appearance of some of these firefighters. I think a lot of Doctors would agree with me that,in the physical shape they were in, some of these firefighters would NOT of made it to the 79th floor carrying over 60 lbs of gear. Having said that i now have a greater respect for firefighters and i realize becoming a firefighter is a life altering job. The French have a history of making great documentary\\'s and that is what this is, a Great Documentary.....'\n",
            " b'The Western society has been fed ideas about India being a poor country. Movies like these only make those beliefs stronger. Such illustrations make it all the more difficult for Indians to be accepted abroad. Agreed there are poor and homeless in India, but why is there no representation of educated people if not the successful ones.<br /><br />I totally hated the idea of the movie portraying Patrick Swayze as another Mother Teressa. In my opinion this movie has shown India in a very bad light giving wrong notions. It is unjust to discuss only one aspect of the society. Exactly the reason why people ask me, \"When we go to India, can we hire an elephant right outside the airport so we do not have to walk on the roads so full of filth and snakes?\"<br /><br />Those who want a second opinion on contemporary Indian society should watch \"Monsoon Wedding\".'\n",
            " b\"What else can you say about this movie,except that it's plain awful.Tina Louise and Adam West are the reasons why to see this,but,that's it,but their talents are wasted in this junk.I think that they used a double in some of Adam's scenes,like when he's running because you can't see his face.If Adam was embarrassed in being in Zombie Nightmare,just think what he must've felt about appearing in this??? If it was before or after,I'm not sure,but,still,Zombie Nightmare is a classic(check out the Mystery Science Theater 3000 version first and last)compared to this.The gang is very annoying and over-acting by some of the actors.A rip-off of The Wild One starring Marlon Brando,of course.Tina looks stunning though.I hope her and Adam got a good paycheck!! Pass!\"\n",
            " b'I saw the description of the movie on TCM and only let it run because I like both Peter Ustinov and Maggie Smith, so I was delightfully surprised to find that I really liked the movie and found it quite exceptional. Of course, it is seriously dated, but as a period piece it is well worth watching just for the subtle humour in insight into life and lifestyle almost forty years ago. Now the only problem is trying to find it on DVD so I can watch it more often. I also was quite taken with the performances of Smith and Ustinov as the leads, and of Karl Malden, Bob Newhart, and the cameo appearances by Robert Morley and Cesar Romero.'\n",
            " b\"Like most people, i was drawn to buy this film because of the pictures of the mighty Bolo Yeung plastered all over the box, and the assumption (from the aforementioned pictures and the title of the film) that this film is all about the Beast from the East kickin' ass for 90 minutes.<br /><br />However, to my disappointment, Chinese Hercules is to Bolo Yeung what No Retreat No Surrender was to Jean Claude Van Damme and Fearless Tiger was to... erm, Bolo Yeung - maximum exposure on video box, minimum actual screen-time! Oh well! <br /><br />The storyline is pretty basic stuff, but it was well done - peaceful kung fu fighter (played by Chen Hui Min) accidentally kills a man and promises never to fight again. He then runs away to work as a labourer on a pier where he impresses his co-workers with his heavy sack lifting prowess, causing them to suspect him to be a formidable fighter (dont quite know how that works but never mind). Meanwhile, the corrupt boss of the pier does a deal with gangsters, giving them exclusive use of the pier. As a result, the workers are thrown out on their ear and forced to live on the beach, where they unite against their boss, the gangster boss, and his hulking henchman Bolo Yeung.<br /><br />While the film was quite watchable (mainly through waiting for the next glimpse of Bolo), i had a few problems with it - firstly, the bad dubbing, but of course thats a given in old kung fu films. But also, the film tended to drag between the various fight-scenes. And as for the fight scenes themselves, i found them to be over-long, badly choreographed (apparently by Jackie Chan!), badly shot and at times performed by people who didn't seem to have any martial arts ability.... in fact, most of the fights in this film weren't 'fights' at all, just people getting beaten up without offering any resistance!<br /><br />Finally, the hero - played by Chen Hui Min. I've never seen any other films with this guy in, but at no point was i rooting for him. Not only did he look wimpy and on the verge of tears at all times, but i found his insistence on not fighting infuriating! I understood his reasoning, but he could have saved a lot of people a lot of pain if he had done earlier what we all knew he was gonna do eventually, and fight! A bigger mystery was why this entire community of people were pinning their hopes on a guy they've never even seen fight! <br /><br />Really, the big saving grace in this film was the presence of Bolo Yeung. Not only is he as huge and brutal as ever, he has some great, funny lines and gives the rest of the cast a master-class on how to fight on film. The guy oozes screen presence and you can easily see how he became a star. The guy scares the life out of me, but i'm sure i wasn't the only person to have watched this film who was rooting for Bolo all through the end fight! <br /><br />All in all then, a below-average kung-fu film lifted several huge notches due to you-know-who. I've never met a person who didn't think Bolo Yeung was great. The man's a legend!!\"\n",
            " b'I had numerous problems with this film.<br /><br />It contains some basic factual information concerning quantum mechanics, which is fine. Although quantum physics has been around for over 50 years, the film presents this information in a grandiose way that seems to be saying: \"Aren\\'t you just blown away by this!\" Well, not really. These aren\\'t earth shattering revelations anymore. At any rate, I was already familiar with quantum theory, and the fact that particles have to be described by wave equations, etc. is not new.<br /><br />The main problem I have with this movie, however, is the way these people use quantum theory as a way of providing a scientific basis for mysticism and spiritualism. I don\\'t have any serious problem with mysticism and spiritualism, but quantum mechanics doesn\\'t really have anything to do with these things, and it should be kept separate. The people they interviewed for this movie start with the ideas of quantum theory and then make the leap to say that simply by thinking about something you can alter the matter around you, hence we should think positively so as to have a positive impact on the world and make our lives better. The reasoning is completely ridiculous, and the conclusions do not logically follow from quantum theory. For every so called \"expert\" that they interviewed for this film, there are scores of theoretically physicists who would completely disagree. They would point out, quite rightly, that the unpredictability of the subatomic world does not lend support to mystical notions about our spiritual connectedness.<br /><br />It disturbs me that people are going to see this film and completely eat it up because it leaves them with a nice positive feeling. The main thrust of the film is based on a total misinterpretation of quantum theory, and it is as bad in its reasoning as any attempt to justify organized religion with similar pseudo-scientific arguments.<br /><br />Avoid this film.<br /><br />Oh yeah. At one point, one of the \"experts\" says that since throughout history most of the assumptions people have made about the world turned out to be false, therefore the assumptions we currently hold about the world are also likely to be false. Huh? That totally does not follow. And even if it did, I don\\'t see how that helps his argument. I mean, if his ideas ever became common assumptions then I guess we would have to assume that they are false too, based on his own reasoning.'\n",
            " b\"This movie makes Canadians and Brits out to be asinine, moronic idiots. The men get stoned/drunk, and then they yell/beat each other up in almost every scene. The women are superfluous to the story \\xc2\\x96 I do not understand what they are there for \\xc2\\x96 they spend every scene causing a ruckus, or worse, milling around like mesmerized cattle. Apparently, Canadian women are either quarrelsome vulgar tramps or hulking hippie chicks. It's the standard knocked-up girlfriend, her loser boyfriend and his wicked mother ludicrousness that we have seen in countless movies before.<br /><br />Every character here is a carping, infantile stereotype. Not to mention that they all looked like they need a shower! And the idea of any kind of scene implying sex with George Wendt \\xc2\\x96 shudder \\xc2\\x96 is enough to make anyone gag! I watched the movie because Samuel West was in it \\xc2\\x96 but I cannot understand why he would have accepted a role like this. Maybe he needed the money. Ian Tracey is a superb actor - the only one with a vague redeeming moment, but his talent is wasted here.<br /><br />As for the rest of the plot \\xc2\\x96 the three imbeciles trying to get their dope back \\xc2\\x96 yawn - or Karl \\xc2\\x96 who is dead, but who is actually a character very much alive in the minds of those left behind (almost like Rebecca in Alfred Hitchcock's masterpiece \\xc2\\x96 although I am ashamed to even have thought to compare these two films), why even bother? Karl is so galling that you find the circumstances of his death gratifying.<br /><br />By the end of this wretched movie, I thought they would all have been better off going down with him on that boat!\"\n",
            " b\"This is comedy as it once was and comparing this with the two remakes, THE MONEY PIT and ARE WE DONE YET?, only points out all the more how the 40's movie makers had a flair for comedy which has since, regretfully, been lost.<br /><br />I was 15 when I first saw this and even at that tender age, there was much I could laugh at. Now of course being familiar with adult frustrations, I see a whole lot that I missed as a youth.<br /><br />The three main actors...Cary Grant, Myrna Loy, and Melvyn Douglas...interacted perfectly, but the core of the movie lies in the frustrations encountered in achieving a dream. It's never as easy and free of unseen complications as one envisions.<br /><br />All in all, this is a classic comedy which still stands above the attempts to remake it.\"\n",
            " b\"I'm a Jean Harlow fan, because she had star quality. I don't think her movies are good and I don't even think that she was a good actress, but she certainly was Great in comedies. Every bit of comedy in The Girl from Missouri is very good. But this movie is perhaps more like a love story. Jean Harlow is wonderful in this one and you can forget the rest of the cast - their performances bring nothing new. It always impresses me much to think that Harlow's beautiful body was that of an ill woman. Well, in this movie she does look beautiful.\"\n",
            " b\"I'm probably one of the biggest Nancy Drew fans out there. I've read every book three times over and I've played a lot of the Nancy drew games. I Loved this movie. It kept you entertained the whole time you watched it. I went with about 10 of my friends and everyone LOVED it. There were three woman sitting behind us who appeared to be in their late 30's to early 40's and I asked them how they liked it, they said they loved it! So you see it will be an entertainment to all ages. You just have to give it a chance. And it teaches a lesson too, just be yourself even if everyone around you is exactly alike. So overall, this move was great. I'm going to see it a second time now! So stop bashing it please. Its a really good movie!\"\n",
            " b\"1st watched 12/7/2002 - 3 out of 10(Dir-Steve Purcell): Typical Mary Kate & Ashley fare with a few more kisses. It looks to me like the girls are getting pretty tired of this stuff and it will be interesting what happens to them if they ever decide to split up and go there own ways. In this episode of their adventures they are interns in Rome for a `fashion' designer who puts them right into the mailroom to learn what working hard is all about(I guess..). Besides the typical flirtations with boys there is nothing much else except the Rome scenario until about \\xc2\\xbe way into the movie when it's finally revealed why they are getting fired, then re-hired, then fired again, then re-hired again. This is definetly made by people who don't understand the corporate world and it shows in their interpretation of it. Maybe the real world will be their next adventure(if there is one.). Even my kids didn't seem to care for this boring `adventure' in the make-believe. Let's see they probably only have a couple of years till their legal adults. We'll see what happens then.\"\n",
            " b\"I am shocked. Shocked and dismayed that the 428 of you IMDB users who voted before me have not given this film a rating of higher than 7. 7?!?? - that's a C!. If I could give FOBH a 20, I'd gladly do it. This film ranks high atop the pantheon of modern comedy, alongside Half Baked and Mallrats, as one of the most hilarious films of all time. If you know _anything_ about rap music - YOU MUST SEE THIS!! If you know nothing about rap music - learn something!, and then see this! Comparisons to 'Spinal Tap' fail to appreciate the inspired genius of this unique film. If you liked Bob Roberts, you'll love this. Watch it and vote it a 10!\"\n",
            " b'I can see why this film was Oscar-nominated for Best Live Action Short, as it was constructed masterfully. Even if you don\\'t particularly like the Blues (though to me, this sounded much more like jazz), you can easily appreciate this film. It is simply very well made, though for the life of me, I can\\'t see why director Gjon Mili only got to direct one film--this one. In other words, the film is nominated and yet the director didn\\'t get any sort of career boost. As for the black performers, I could understand this not causing their careers to shift into high gear, as unfortunately most of white society have indifference (or worse) for blacks or \"that kind of music\".<br /><br />If you do watch this film, if you aren\\'t particularly enjoying the earlier portion, skip ahead to about the 5:50 mark--where it picks up considerably. When the lady stopped singing and the performers began to improvise, the pace improved quite a bit.'\n",
            " b\"This is a very engrossing BBC-TV mini-series which is loosely based upon a mysterious disappearance of a young mother, but the series is really more of a study of the assorted characters in the story, which lasts for five hours. It is thus very much an ensemble piece, where the wide variety of brilliant British actors and actresses can show off their talents. The actual characters portrayed are really 'the kind of people one does not normally meet', people so boring and nondescript that it is difficult to admire them. For instance, the lead character is a young husband (the one whose wife disappears) who has no job and no apparent interest in finding any. He lives off handouts from his parents-in-law. He was once in the Army but does not appear to have the slightest flicker of any ambition or any interests in life apart from doting on his small family. He is played by David Oyelowo, who is brilliant at the part, coming across as a totally sympathetic person, although his only activities for five hours are loving and grieving, which he does superbly, so that one wants to comfort him, as he is so obviously a nice guy. The standout performance of the whole series is unquestionably Penelope Wilton, who acts circles round everyone else in the story. She is simply incredible. She portrays a very unsympathetic woman, indeed the only character in the story who is all too familiar to everyone, namely an irrational, hysterical, self-centred, dense, querulous, blindly loving and blindly hating, elderly idiot-woman. Alas, alas, we know them too well. Wilton is one of Britain's finest actresses (see my review of her in 'Half Broken Things'). She takes a character who could have been two-dimensional and makes her four-dimensional. She is wonderfully supported by old pro Patrick Malahide, who plays her exasperated husband, and the pair of them set a high standard indeed for all the younger players. Janet McTeer, a spectacular actress when younger, has become a much less sympathetic type of person now that she is older, has coarsened in some way, and puts one off, but she redeems herself in the latter stages of the story by showing how brilliant an actress she can be when she has a chance by pulling off one of the most convincing and original drunk scenes I have ever seen on film. The big surprise is the enigmatic character Sarah, played with great depth and originality by actress Sarah Smart. She takes a character who could have been insufferably tedious and by sheer acting magic turns her into a deeply mysterious and intriguing person, about whom we wonder tirelessly for the entire five hours. She is so good at it that we end up wondering about Sarah Smart, frankly. I guess that's what happens when you really do your job properly, that people wonder where the character ends and the actress begins, if she knows herself, that is, and many do not. She has some deeply unnerving tricks with her eyes, which wobble and let us know she is unhinged, but we are not sure how or why, though we eventually learn that she had an extremely violent and traumatic childhood. Her mastery of ambiguous facial expressions is extraordinary. Rory Kinnear is amazingly convincing as an apparently hopeless fellow who lives with his mum and isn't up to much, but who turns out to have hidden depths. (I suppose most people have hidden depths, but do we want to plumb them, that is the question.) His mum is played very well indeed by Margot Leicester. A superb performance is given by Lucinda Dryzek, who plays a snotty, revolting teenage girl of the sort we all dread to meet, but who at crucial moments collapses in helpless tears and turns out to be pathetic, with all her arrogance just a pose. Three other children are also very good, Lucinda's friend, and her younger half-brother and half-sister. The younger siblings may be very dim indeed as characters in the story (they seem unable to say anything particularly articulate, being hopeless witnesses to the disappearance), with little to recommend them but their sweet natures, but that is conveyed to wonderful effect by Lee Massey as the boy and Tyler Anthony as the girl. Harriet Walter has a small role, but we do not get to see much of her, which is a shame, as she is such a fine actress that she was wasted here. One could go on, but one must draw a line somewhere. The series manages to be strangely fascinating because of the depth of portrayal of all these essentially uninteresting people caught up in a web of intense anxiety and suspense.\"\n",
            " b'Wow. The only people reviewing this positively are the Carpenter apologists. I know a lot of those. The guys that\\'ll watch John Carpenter squat on celluloid and pinch out a movie and proclaim it a masterwork of horror. This \"movie\" is utter crap. It looks and sounds like a porno (good lord, the soundtrack is awful...), and has sub-par porn acting, which is shocking, because normally Ron Perlman is really a very good actor. I honestly have no idea what Carpenter was thinking when making this. Most likely \"Beans, beans, beans..\" until somebody fed him and rolled him up into a blanket for the day... They say nothing about the abortion debate whatsoever, when they could have had a very interesting central theme (how do religious zealot anti-abortionists feel when it\\'s the devil\\'s baby?) but instead they chose to have Ron Perlman and his terribly acted kids kill a bunch of people and have the horribly cast doctors try to calm the hysterically bad pregnant girl. Not a single person from this episode or what have you should come away unscathed. It\\'s just awful. Like, Plan 9 From Outerspace awful. Like, good god please would somebody turn it off before I soil myself awful. Try watching this and The Thing in the same day and your mind will implode.'\n",
            " b'This British film is truly awful, and it\\'s hard to believe that Glenn Ford is in it, although he pretty much sleepwalks through it. The idea of a bomb on a train sounds good...but it turns out this train ends up parked for the majority of the film! No action, no movement, just a static train. The area where the train is parked is evacuated, so it\\'s not like there\\'s any danger to anyone either. In fact, this film could be used in a film class to show how NOT to make a suspense film. True suspense is generated by letting the audience know things that the characters don\\'t, a fact apparently unknown to the director. SPOILER: the train actually has two bombs on it, but we are led to believe there is only one. After the first bomb is defused, it feels as if there is no longer a reason to watch the film any more. But at the last minute, the villain, who has no apparent motivation for his actions, reveals there are two. Nor are we certain WHEN the bombs will go off, so we don\\'t even have a classic \"ticking bomb\" tension sequence. A good 10 minutes or more are spent watching Glenn Ford\\'s French wife thinking about leaving him, and then wondering where he is . She\\'s such an annoying character that we don\\'t care whether she reconciles with him, so when she does, there\\'s nothing emotional about it. Most of the other characters are fairly devoid of personality, and none have any problems or issues. It\\'s only 72 minutes, but it feels long because it\\'s tedious and dull. Don\\'t waste your time.'], shape=(32,), dtype=string)\n"
          ]
        }
      ]
    },
    {
      "cell_type": "code",
      "source": [],
      "metadata": {
        "id": "1PmdePNRXr8l"
      },
      "execution_count": null,
      "outputs": []
    },
    {
      "cell_type": "code",
      "source": [
        "import numpy as np\n",
        "ty_pred=np.argmax(classifier_model.predict(tr_text),axis=-1)"
      ],
      "metadata": {
        "id": "GXk70c9bWTRW"
      },
      "execution_count": null,
      "outputs": []
    },
    {
      "cell_type": "code",
      "source": [
        "from sklearn.metrics import classification_report,confusion_matrix\n",
        "print(classification_report(tr_label,ty_pred))\n",
        "cm=confusion_matrix(tr_label,ty_pred)\n",
        "print(cm)"
      ],
      "metadata": {
        "colab": {
          "base_uri": "https://localhost:8080/"
        },
        "id": "eyzrRGC0WTVO",
        "outputId": "14b7c33c-5bb0-4405-add9-6e9d50d874a2"
      },
      "execution_count": null,
      "outputs": [
        {
          "output_type": "stream",
          "name": "stdout",
          "text": [
            "              precision    recall  f1-score   support\n",
            "\n",
            "           0       0.50      1.00      0.67        16\n",
            "           1       0.00      0.00      0.00        16\n",
            "\n",
            "    accuracy                           0.50        32\n",
            "   macro avg       0.25      0.50      0.33        32\n",
            "weighted avg       0.25      0.50      0.33        32\n",
            "\n",
            "[[16  0]\n",
            " [16  0]]\n"
          ]
        },
        {
          "output_type": "stream",
          "name": "stderr",
          "text": [
            "/usr/local/lib/python3.7/dist-packages/sklearn/metrics/_classification.py:1318: UndefinedMetricWarning: Precision and F-score are ill-defined and being set to 0.0 in labels with no predicted samples. Use `zero_division` parameter to control this behavior.\n",
            "  _warn_prf(average, modifier, msg_start, len(result))\n",
            "/usr/local/lib/python3.7/dist-packages/sklearn/metrics/_classification.py:1318: UndefinedMetricWarning: Precision and F-score are ill-defined and being set to 0.0 in labels with no predicted samples. Use `zero_division` parameter to control this behavior.\n",
            "  _warn_prf(average, modifier, msg_start, len(result))\n",
            "/usr/local/lib/python3.7/dist-packages/sklearn/metrics/_classification.py:1318: UndefinedMetricWarning: Precision and F-score are ill-defined and being set to 0.0 in labels with no predicted samples. Use `zero_division` parameter to control this behavior.\n",
            "  _warn_prf(average, modifier, msg_start, len(result))\n"
          ]
        }
      ]
    },
    {
      "cell_type": "code",
      "source": [
        "import seaborn as sms\n",
        "sms.heatmap(cm,annot=True)"
      ],
      "metadata": {
        "colab": {
          "base_uri": "https://localhost:8080/",
          "height": 286
        },
        "id": "6ABEayYQWTlL",
        "outputId": "5a3428e1-a70c-4c19-a805-5c5d3c6605a4"
      },
      "execution_count": null,
      "outputs": [
        {
          "output_type": "execute_result",
          "data": {
            "text/plain": [
              "<matplotlib.axes._subplots.AxesSubplot at 0x7f5a3d2a5e50>"
            ]
          },
          "metadata": {},
          "execution_count": 80
        },
        {
          "output_type": "display_data",
          "data": {
            "text/plain": [
              "<Figure size 432x288 with 2 Axes>"
            ],
            "image/png": "[encoded data removed]"
          },
          "metadata": {
            "needs_background": "light"
          }
        }
      ]
    },
    {
      "cell_type": "code",
      "source": [],
      "metadata": {
        "id": "Pt0LiXQRXtgH"
      },
      "execution_count": null,
      "outputs": []
    },
    {
      "cell_type": "code",
      "source": [],
      "metadata": {
        "id": "e6C_VA0zXtmR"
      },
      "execution_count": null,
      "outputs": []
    },
    {
      "cell_type": "code",
      "source": [],
      "metadata": {
        "id": "MfCpHL0SXtwn"
      },
      "execution_count": null,
      "outputs": []
    },
    {
      "cell_type": "markdown",
      "metadata": {
        "id": "B4gN1KwReLPN"
      },
      "source": [
        "## Next steps\n",
        "\n",
        "As a next step, you can try [Solve GLUE tasks using BERT on a TPU tutorial](https://www.tensorflow.org/text/tutorials/bert_glue), which runs on a TPU and shows you how to work with multiple inputs."
      ]
    }
  ],
  "metadata": {
    "colab": {
      "provenance": [],
      "include_colab_link": true
    },
    "kernelspec": {
      "display_name": "Python 3",
      "name": "python3"
    },
    "accelerator": "GPU",
    "gpuClass": "standard"
  },
  "nbformat": 4,
  "nbformat_minor": 0
}