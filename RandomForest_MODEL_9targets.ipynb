{
  "metadata": {
    "kaggle": {
      "accelerator": "nvidiaTeslaT4",
      "dataSources": [
        {
          "sourceId": 70781,
          "databundleVersionId": 7733789,
          "sourceType": "competition"
        }
      ],
      "dockerImageVersionId": 30665,
      "isInternetEnabled": true,
      "language": "python",
      "sourceType": "notebook",
      "isGpuEnabled": true
    },
    "kernelspec": {
      "display_name": "Python 3",
      "name": "python3"
    },
    "language_info": {
      "codemirror_mode": {
        "name": "ipython",
        "version": 3
      },
      "file_extension": ".py",
      "mimetype": "text/x-python",
      "name": "python",
      "nbconvert_exporter": "python",
      "pygments_lexer": "ipython3",
      "version": "3.10.13"
    },
    "papermill": {
      "default_parameters": {},
      "duration": 96.042567,
      "end_time": "2024-02-22T09:25:17.83608",
      "environment_variables": {},
      "exception": null,
      "input_path": "__notebook__.ipynb",
      "output_path": "__notebook__.ipynb",
      "parameters": {},
      "start_time": "2024-02-22T09:23:41.793513",
      "version": "2.5.0"
    },
    "colab": {
      "provenance": [],
      "gpuType": "T4",
      "include_colab_link": true
    },
    "accelerator": "GPU"
  },
  "nbformat_minor": 0,
  "nbformat": 4,
  "cells": [
    {
      "cell_type": "markdown",
      "metadata": {
        "id": "view-in-github",
        "colab_type": "text"
      },
      "source": [
        "<a href=\"https://colab.research.google.com/github/dutt2022/Coursera-Data-science-Projects/blob/main/RandomForest_MODEL_9targets.ipynb\" target=\"_parent\"><img src=\"https://colab.research.google.com/assets/colab-badge.svg\" alt=\"Open In Colab\"/></a>"
      ]
    },
    {
      "source": [
        "\n",
        "# IMPORTANT: RUN THIS CELL IN ORDER TO IMPORT YOUR KAGGLE DATA SOURCES\n",
        "# TO THE CORRECT LOCATION (/kaggle/input) IN YOUR NOTEBOOK,\n",
        "# THEN FEEL FREE TO DELETE THIS CELL.\n",
        "# NOTE: THIS NOTEBOOK ENVIRONMENT DIFFERS FROM KAGGLE'S PYTHON\n",
        "# ENVIRONMENT SO THERE MAY BE MISSING LIBRARIES USED BY YOUR\n",
        "# NOTEBOOK.\n",
        "\n",
        "import os\n",
        "import sys\n",
        "from tempfile import NamedTemporaryFile\n",
        "from urllib.request import urlopen\n",
        "from urllib.parse import unquote, urlparse\n",
        "from urllib.error import HTTPError\n",
        "from zipfile import ZipFile\n",
        "import tarfile\n",
        "import shutil\n",
        "\n",
        "CHUNK_SIZE = 40960\n",
        "DATA_SOURCE_MAPPING = 'financial-performance-prediction:https%3A%2F%2Fstorage.googleapis.com%2Fkaggle-competitions-data%2Fkaggle-v2%2F70781%2F7733789%2Fbundle%2Farchive.zip%3FX-Goog-Algorithm%3DGOOG4-RSA-SHA256%26X-Goog-Credential%3Dgcp-kaggle-com%2540kaggle-161607.iam.gserviceaccount.com%252F20240307%252Fauto%252Fstorage%252Fgoog4_request%26X-Goog-Date%3D20240307T121637Z%26X-Goog-Expires%3D259200%26X-Goog-SignedHeaders%3Dhost%26X-Goog-Signature%3D579cefc8eda7d0373cfd1ce905744030e71d84a41655b02824d3932ef47a1da79f7b94df80f81d849b80f025cd3be7e16efd8afe91fd7054beb3f1b4e30de73da5dc09087e18eed0eedfde1b2aba5804639030bcfaafe8e0342d7e7539558cf08667132ac5196af1b3bb3c530ba434442c1026295bbb6fe1555a8a6aedce2d7a345c157f14ca8a3b8c449f1cd77642a9df45700c3eebb72d2272f28361ded2dfd352d7ec6b66127a019a48dffdbd268e497fb3ed9ac302a1a723434f8e066f1b3f8c71bfd7d94b81096c135e4fd688842cd0da91181f1e74604245920b4ad91203e870338dda741c057619e9f9c2039d381e7de215f21746a78f6996ea281325'\n",
        "\n",
        "KAGGLE_INPUT_PATH='/kaggle/input'\n",
        "KAGGLE_WORKING_PATH='/kaggle/working'\n",
        "KAGGLE_SYMLINK='kaggle'\n",
        "\n",
        "!umount /kaggle/input/ 2> /dev/null\n",
        "shutil.rmtree('/kaggle/input', ignore_errors=True)\n",
        "os.makedirs(KAGGLE_INPUT_PATH, 0o777, exist_ok=True)\n",
        "os.makedirs(KAGGLE_WORKING_PATH, 0o777, exist_ok=True)\n",
        "\n",
        "try:\n",
        "  os.symlink(KAGGLE_INPUT_PATH, os.path.join(\"..\", 'input'), target_is_directory=True)\n",
        "except FileExistsError:\n",
        "  pass\n",
        "try:\n",
        "  os.symlink(KAGGLE_WORKING_PATH, os.path.join(\"..\", 'working'), target_is_directory=True)\n",
        "except FileExistsError:\n",
        "  pass\n",
        "\n",
        "for data_source_mapping in DATA_SOURCE_MAPPING.split(','):\n",
        "    directory, download_url_encoded = data_source_mapping.split(':')\n",
        "    download_url = unquote(download_url_encoded)\n",
        "    filename = urlparse(download_url).path\n",
        "    destination_path = os.path.join(KAGGLE_INPUT_PATH, directory)\n",
        "    try:\n",
        "        with urlopen(download_url) as fileres, NamedTemporaryFile() as tfile:\n",
        "            total_length = fileres.headers['content-length']\n",
        "            print(f'Downloading {directory}, {total_length} bytes compressed')\n",
        "            dl = 0\n",
        "            data = fileres.read(CHUNK_SIZE)\n",
        "            while len(data) > 0:\n",
        "                dl += len(data)\n",
        "                tfile.write(data)\n",
        "                done = int(50 * dl / int(total_length))\n",
        "                sys.stdout.write(f\"\\r[{'=' * done}{' ' * (50-done)}] {dl} bytes downloaded\")\n",
        "                sys.stdout.flush()\n",
        "                data = fileres.read(CHUNK_SIZE)\n",
        "            if filename.endswith('.zip'):\n",
        "              with ZipFile(tfile) as zfile:\n",
        "                zfile.extractall(destination_path)\n",
        "            else:\n",
        "              with tarfile.open(tfile.name) as tarfile:\n",
        "                tarfile.extractall(destination_path)\n",
        "            print(f'\\nDownloaded and uncompressed: {directory}')\n",
        "    except HTTPError as e:\n",
        "        print(f'Failed to load (likely expired) {download_url} to path {destination_path}')\n",
        "        continue\n",
        "    except OSError as e:\n",
        "        print(f'Failed to load {download_url} to path {destination_path}')\n",
        "        continue\n",
        "\n",
        "print('Data source import complete.')\n"
      ],
      "metadata": {
        "id": "Y9adsp9Z2Cam",
        "outputId": "34b43860-29e2-4349-a3ee-3dfafa544c17",
        "colab": {
          "base_uri": "https://localhost:8080/"
        }
      },
      "cell_type": "code",
      "outputs": [
        {
          "output_type": "stream",
          "name": "stdout",
          "text": [
            "Downloading financial-performance-prediction, 1436515 bytes compressed\n",
            "[==================================================] 1436515 bytes downloaded\n",
            "Downloaded and uncompressed: financial-performance-prediction\n",
            "Data source import complete.\n"
          ]
        }
      ],
      "execution_count": null
    },
    {
      "cell_type": "code",
      "source": [
        "import numpy as np # linear algebra\n",
        "import pandas as pd # data processing, CSV file I/O (e.g. pd.read_csv)\n",
        "import warnings\n",
        "warnings.simplefilter(action='ignore', category=FutureWarning)\n",
        "from sklearn.model_selection import cross_val_score as cvs\n",
        "from xgboost import XGBRegressor\n",
        "\n",
        "import os\n",
        "for dirname, _, filenames in os.walk('/kaggle/input'):\n",
        "    for filename in filenames:\n",
        "        print(os.path.join(dirname, filename))"
      ],
      "metadata": {
        "_cell_guid": "b1076dfc-b9ad-4769-8c92-a6c4dae69d19",
        "_uuid": "8f2839f25d086af736a60e9eeb907d3b93b6e0e5",
        "papermill": {
          "duration": 2.544822,
          "end_time": "2024-02-22T09:23:47.48314",
          "exception": false,
          "start_time": "2024-02-22T09:23:44.938318",
          "status": "completed"
        },
        "tags": [],
        "execution": {
          "iopub.status.busy": "2024-03-06T19:17:54.746165Z",
          "iopub.execute_input": "2024-03-06T19:17:54.747047Z",
          "iopub.status.idle": "2024-03-06T19:17:54.755778Z",
          "shell.execute_reply.started": "2024-03-06T19:17:54.747011Z",
          "shell.execute_reply": "2024-03-06T19:17:54.75478Z"
        },
        "trusted": true,
        "id": "wAmGIZAc2Cau",
        "outputId": "0326a2ab-aed4-4e04-ef4a-815d5c910f77",
        "colab": {
          "base_uri": "https://localhost:8080/"
        }
      },
      "execution_count": null,
      "outputs": [
        {
          "output_type": "stream",
          "name": "stdout",
          "text": [
            "/kaggle/input/financial-performance-prediction/data_dictionary.txt\n",
            "/kaggle/input/financial-performance-prediction/sample_submission.csv\n",
            "/kaggle/input/financial-performance-prediction/test.csv\n",
            "/kaggle/input/financial-performance-prediction/train.csv\n"
          ]
        }
      ]
    },
    {
      "cell_type": "code",
      "source": [
        "train = pd.read_csv('/kaggle/input/financial-performance-prediction/train.csv')\n",
        "test = pd.read_csv('/kaggle/input/financial-performance-prediction/test.csv')"
      ],
      "metadata": {
        "papermill": {
          "duration": 0.216004,
          "end_time": "2024-02-22T09:23:47.712913",
          "exception": false,
          "start_time": "2024-02-22T09:23:47.496909",
          "status": "completed"
        },
        "tags": [],
        "execution": {
          "iopub.status.busy": "2024-03-06T19:17:54.944111Z",
          "iopub.execute_input": "2024-03-06T19:17:54.944984Z",
          "iopub.status.idle": "2024-03-06T19:17:55.054969Z",
          "shell.execute_reply.started": "2024-03-06T19:17:54.944948Z",
          "shell.execute_reply": "2024-03-06T19:17:55.053902Z"
        },
        "trusted": true,
        "id": "df1DGoRq2Caw"
      },
      "execution_count": null,
      "outputs": []
    },
    {
      "cell_type": "markdown",
      "source": [
        "## Look at data shape, dtypes and unite train & test into a single DF"
      ],
      "metadata": {
        "papermill": {
          "duration": 0.013307,
          "end_time": "2024-02-22T09:23:47.73998",
          "exception": false,
          "start_time": "2024-02-22T09:23:47.726673",
          "status": "completed"
        },
        "tags": [],
        "id": "CeF1d83l2Cax"
      }
    },
    {
      "cell_type": "code",
      "source": [
        "print(f'Train shape: {train.shape}')\n",
        "print(f'Test shape: {test.shape}')"
      ],
      "metadata": {
        "papermill": {
          "duration": 0.023496,
          "end_time": "2024-02-22T09:23:47.776922",
          "exception": false,
          "start_time": "2024-02-22T09:23:47.753426",
          "status": "completed"
        },
        "tags": [],
        "execution": {
          "iopub.status.busy": "2024-03-06T19:17:55.144114Z",
          "iopub.execute_input": "2024-03-06T19:17:55.144934Z",
          "iopub.status.idle": "2024-03-06T19:17:55.149427Z",
          "shell.execute_reply.started": "2024-03-06T19:17:55.144902Z",
          "shell.execute_reply": "2024-03-06T19:17:55.148363Z"
        },
        "trusted": true,
        "id": "pcpOV3pP2Ca3",
        "outputId": "a23b2445-b813-4e4c-a5f4-547fd53cbdfc",
        "colab": {
          "base_uri": "https://localhost:8080/"
        }
      },
      "execution_count": null,
      "outputs": [
        {
          "output_type": "stream",
          "name": "stdout",
          "text": [
            "Train shape: (1624, 212)\n",
            "Test shape: (406, 203)\n"
          ]
        }
      ]
    },
    {
      "cell_type": "code",
      "source": [
        "targets_names = [col for col in train if col not in test]\n",
        "print(f'Target columns: {targets_names}')"
      ],
      "metadata": {
        "papermill": {
          "duration": 0.026347,
          "end_time": "2024-02-22T09:23:47.816546",
          "exception": false,
          "start_time": "2024-02-22T09:23:47.790199",
          "status": "completed"
        },
        "tags": [],
        "execution": {
          "iopub.status.busy": "2024-03-06T19:17:55.343943Z",
          "iopub.execute_input": "2024-03-06T19:17:55.344793Z",
          "iopub.status.idle": "2024-03-06T19:17:55.350274Z",
          "shell.execute_reply.started": "2024-03-06T19:17:55.344758Z",
          "shell.execute_reply": "2024-03-06T19:17:55.34937Z"
        },
        "trusted": true,
        "id": "YxyU4tQo2Ca-",
        "outputId": "44ec8ae2-8591-467a-906a-a0b02f1abd70",
        "colab": {
          "base_uri": "https://localhost:8080/"
        }
      },
      "execution_count": null,
      "outputs": [
        {
          "output_type": "stream",
          "name": "stdout",
          "text": [
            "Target columns: ['Q0_TOTAL_ASSETS', 'Q0_TOTAL_LIABILITIES', 'Q0_TOTAL_STOCKHOLDERS_EQUITY', 'Q0_GROSS_PROFIT', 'Q0_COST_OF_REVENUES', 'Q0_REVENUES', 'Q0_OPERATING_INCOME', 'Q0_OPERATING_EXPENSES', 'Q0_EBITDA']\n"
          ]
        }
      ]
    },
    {
      "cell_type": "code",
      "source": [
        "train.dtypes.value_counts()"
      ],
      "metadata": {
        "papermill": {
          "duration": 0.032318,
          "end_time": "2024-02-22T09:23:47.8622",
          "exception": false,
          "start_time": "2024-02-22T09:23:47.829882",
          "status": "completed"
        },
        "tags": [],
        "execution": {
          "iopub.status.busy": "2024-03-06T19:17:55.5159Z",
          "iopub.execute_input": "2024-03-06T19:17:55.516256Z",
          "iopub.status.idle": "2024-03-06T19:17:55.524679Z",
          "shell.execute_reply.started": "2024-03-06T19:17:55.516227Z",
          "shell.execute_reply": "2024-03-06T19:17:55.523631Z"
        },
        "trusted": true,
        "id": "m8mOcFgd2CbD",
        "outputId": "2b6b2ff9-9edb-4004-d2da-3e3532743cd9",
        "colab": {
          "base_uri": "https://localhost:8080/"
        }
      },
      "execution_count": null,
      "outputs": [
        {
          "output_type": "execute_result",
          "data": {
            "text/plain": [
              "float64    207\n",
              "object       4\n",
              "int64        1\n",
              "dtype: int64"
            ]
          },
          "metadata": {},
          "execution_count": 6
        }
      ]
    },
    {
      "cell_type": "code",
      "source": [
        "test.dtypes.value_counts()"
      ],
      "metadata": {
        "papermill": {
          "duration": 0.027912,
          "end_time": "2024-02-22T09:23:47.903646",
          "exception": false,
          "start_time": "2024-02-22T09:23:47.875734",
          "status": "completed"
        },
        "tags": [],
        "execution": {
          "iopub.status.busy": "2024-03-06T19:17:55.731736Z",
          "iopub.execute_input": "2024-03-06T19:17:55.732535Z",
          "iopub.status.idle": "2024-03-06T19:17:55.740056Z",
          "shell.execute_reply.started": "2024-03-06T19:17:55.732505Z",
          "shell.execute_reply": "2024-03-06T19:17:55.739088Z"
        },
        "trusted": true,
        "id": "0SmCFfZU2CbH",
        "outputId": "02136e68-d847-49d4-c2e9-66945c4a459a",
        "colab": {
          "base_uri": "https://localhost:8080/"
        }
      },
      "execution_count": null,
      "outputs": [
        {
          "output_type": "execute_result",
          "data": {
            "text/plain": [
              "float64    198\n",
              "object       4\n",
              "int64        1\n",
              "dtype: int64"
            ]
          },
          "metadata": {},
          "execution_count": 7
        }
      ]
    },
    {
      "cell_type": "code",
      "source": [
        "# make an easy col to split back the train and test sets\n",
        "train['is_train'] = True\n",
        "test['is_train'] = False\n",
        "df = pd.concat([train, test], axis = 0, ignore_index = True)"
      ],
      "metadata": {
        "papermill": {
          "duration": 0.042288,
          "end_time": "2024-02-22T09:23:47.960277",
          "exception": false,
          "start_time": "2024-02-22T09:23:47.917989",
          "status": "completed"
        },
        "tags": [],
        "execution": {
          "iopub.status.busy": "2024-03-06T19:17:55.942357Z",
          "iopub.execute_input": "2024-03-06T19:17:55.942699Z",
          "iopub.status.idle": "2024-03-06T19:17:55.952629Z",
          "shell.execute_reply.started": "2024-03-06T19:17:55.942674Z",
          "shell.execute_reply": "2024-03-06T19:17:55.951675Z"
        },
        "trusted": true,
        "id": "dnQGfu3a2CbI"
      },
      "execution_count": null,
      "outputs": []
    },
    {
      "cell_type": "markdown",
      "source": [
        "## Deal with string/categoric columns"
      ],
      "metadata": {
        "papermill": {
          "duration": 0.013575,
          "end_time": "2024-02-22T09:23:47.989331",
          "exception": false,
          "start_time": "2024-02-22T09:23:47.975756",
          "status": "completed"
        },
        "tags": [],
        "id": "TbfX3yY62CbK"
      }
    },
    {
      "cell_type": "code",
      "source": [
        "df.select_dtypes(include = 'O')"
      ],
      "metadata": {
        "papermill": {
          "duration": 0.040147,
          "end_time": "2024-02-22T09:23:48.043848",
          "exception": false,
          "start_time": "2024-02-22T09:23:48.003701",
          "status": "completed"
        },
        "tags": [],
        "execution": {
          "iopub.status.busy": "2024-03-06T19:17:56.189297Z",
          "iopub.execute_input": "2024-03-06T19:17:56.189708Z",
          "iopub.status.idle": "2024-03-06T19:17:56.203765Z",
          "shell.execute_reply.started": "2024-03-06T19:17:56.189678Z",
          "shell.execute_reply": "2024-03-06T19:17:56.202854Z"
        },
        "trusted": true,
        "id": "q7raZHz52CbL",
        "outputId": "bb14228d-1207-4315-d35a-c728e33df58a",
        "colab": {
          "base_uri": "https://localhost:8080/",
          "height": 424
        }
      },
      "execution_count": null,
      "outputs": [
        {
          "output_type": "execute_result",
          "data": {
            "text/plain": [
              "                                      industry              sector  \\\n",
              "0                            Personal Services   Consumer Cyclical   \n",
              "1                Building Products & Equipment         Industrials   \n",
              "2                                          NaN             Unknown   \n",
              "3           Scientific & Technical Instruments          Technology   \n",
              "4     Drug Manufacturers - Specialty & Generic          Healthcare   \n",
              "...                                        ...                 ...   \n",
              "2025                            Packaged Foods  Consumer Defensive   \n",
              "2026                                       NaN             Unknown   \n",
              "2027                           Medical Devices          Healthcare   \n",
              "2028  Drug Manufacturers - Specialty & Generic          Healthcare   \n",
              "2029                       Specialty Chemicals     Basic Materials   \n",
              "\n",
              "     recommendationKey financialCurrency  \n",
              "0           strong_buy               USD  \n",
              "1                  buy               USD  \n",
              "2                  NaN               NaN  \n",
              "3                 hold               USD  \n",
              "4                  buy               USD  \n",
              "...                ...               ...  \n",
              "2025              hold               USD  \n",
              "2026               NaN               NaN  \n",
              "2027               buy               USD  \n",
              "2028               buy               USD  \n",
              "2029               buy               USD  \n",
              "\n",
              "[2030 rows x 4 columns]"
            ],
            "text/html": [
              "\n",
              "  <div id=\"df-9f36d608-d8a6-4ae7-9d9e-b8c7b59be7e5\" class=\"colab-df-container\">\n",
              "    <div>\n",
              "<style scoped>\n",
              "    .dataframe tbody tr th:only-of-type {\n",
              "        vertical-align: middle;\n",
              "    }\n",
              "\n",
              "    .dataframe tbody tr th {\n",
              "        vertical-align: top;\n",
              "    }\n",
              "\n",
              "    .dataframe thead th {\n",
              "        text-align: right;\n",
              "    }\n",
              "</style>\n",
              "<table border=\"1\" class=\"dataframe\">\n",
              "  <thead>\n",
              "    <tr style=\"text-align: right;\">\n",
              "      <th></th>\n",
              "      <th>industry</th>\n",
              "      <th>sector</th>\n",
              "      <th>recommendationKey</th>\n",
              "      <th>financialCurrency</th>\n",
              "    </tr>\n",
              "  </thead>\n",
              "  <tbody>\n",
              "    <tr>\n",
              "      <th>0</th>\n",
              "      <td>Personal Services</td>\n",
              "      <td>Consumer Cyclical</td>\n",
              "      <td>strong_buy</td>\n",
              "      <td>USD</td>\n",
              "    </tr>\n",
              "    <tr>\n",
              "      <th>1</th>\n",
              "      <td>Building Products &amp; Equipment</td>\n",
              "      <td>Industrials</td>\n",
              "      <td>buy</td>\n",
              "      <td>USD</td>\n",
              "    </tr>\n",
              "    <tr>\n",
              "      <th>2</th>\n",
              "      <td>NaN</td>\n",
              "      <td>Unknown</td>\n",
              "      <td>NaN</td>\n",
              "      <td>NaN</td>\n",
              "    </tr>\n",
              "    <tr>\n",
              "      <th>3</th>\n",
              "      <td>Scientific &amp; Technical Instruments</td>\n",
              "      <td>Technology</td>\n",
              "      <td>hold</td>\n",
              "      <td>USD</td>\n",
              "    </tr>\n",
              "    <tr>\n",
              "      <th>4</th>\n",
              "      <td>Drug Manufacturers - Specialty &amp; Generic</td>\n",
              "      <td>Healthcare</td>\n",
              "      <td>buy</td>\n",
              "      <td>USD</td>\n",
              "    </tr>\n",
              "    <tr>\n",
              "      <th>...</th>\n",
              "      <td>...</td>\n",
              "      <td>...</td>\n",
              "      <td>...</td>\n",
              "      <td>...</td>\n",
              "    </tr>\n",
              "    <tr>\n",
              "      <th>2025</th>\n",
              "      <td>Packaged Foods</td>\n",
              "      <td>Consumer Defensive</td>\n",
              "      <td>hold</td>\n",
              "      <td>USD</td>\n",
              "    </tr>\n",
              "    <tr>\n",
              "      <th>2026</th>\n",
              "      <td>NaN</td>\n",
              "      <td>Unknown</td>\n",
              "      <td>NaN</td>\n",
              "      <td>NaN</td>\n",
              "    </tr>\n",
              "    <tr>\n",
              "      <th>2027</th>\n",
              "      <td>Medical Devices</td>\n",
              "      <td>Healthcare</td>\n",
              "      <td>buy</td>\n",
              "      <td>USD</td>\n",
              "    </tr>\n",
              "    <tr>\n",
              "      <th>2028</th>\n",
              "      <td>Drug Manufacturers - Specialty &amp; Generic</td>\n",
              "      <td>Healthcare</td>\n",
              "      <td>buy</td>\n",
              "      <td>USD</td>\n",
              "    </tr>\n",
              "    <tr>\n",
              "      <th>2029</th>\n",
              "      <td>Specialty Chemicals</td>\n",
              "      <td>Basic Materials</td>\n",
              "      <td>buy</td>\n",
              "      <td>USD</td>\n",
              "    </tr>\n",
              "  </tbody>\n",
              "</table>\n",
              "<p>2030 rows × 4 columns</p>\n",
              "</div>\n",
              "    <div class=\"colab-df-buttons\">\n",
              "\n",
              "  <div class=\"colab-df-container\">\n",
              "    <button class=\"colab-df-convert\" onclick=\"convertToInteractive('df-9f36d608-d8a6-4ae7-9d9e-b8c7b59be7e5')\"\n",
              "            title=\"Convert this dataframe to an interactive table.\"\n",
              "            style=\"display:none;\">\n",
              "\n",
              "  <svg xmlns=\"http://www.w3.org/2000/svg\" height=\"24px\" viewBox=\"0 -960 960 960\">\n",
              "    <path d=\"M120-120v-720h720v720H120Zm60-500h600v-160H180v160Zm220 220h160v-160H400v160Zm0 220h160v-160H400v160ZM180-400h160v-160H180v160Zm440 0h160v-160H620v160ZM180-180h160v-160H180v160Zm440 0h160v-160H620v160Z\"/>\n",
              "  </svg>\n",
              "    </button>\n",
              "\n",
              "  <style>\n",
              "    .colab-df-container {\n",
              "      display:flex;\n",
              "      gap: 12px;\n",
              "    }\n",
              "\n",
              "    .colab-df-convert {\n",
              "      background-color: #E8F0FE;\n",
              "      border: none;\n",
              "      border-radius: 50%;\n",
              "      cursor: pointer;\n",
              "      display: none;\n",
              "      fill: #1967D2;\n",
              "      height: 32px;\n",
              "      padding: 0 0 0 0;\n",
              "      width: 32px;\n",
              "    }\n",
              "\n",
              "    .colab-df-convert:hover {\n",
              "      background-color: #E2EBFA;\n",
              "      box-shadow: 0px 1px 2px rgba(60, 64, 67, 0.3), 0px 1px 3px 1px rgba(60, 64, 67, 0.15);\n",
              "      fill: #174EA6;\n",
              "    }\n",
              "\n",
              "    .colab-df-buttons div {\n",
              "      margin-bottom: 4px;\n",
              "    }\n",
              "\n",
              "    [theme=dark] .colab-df-convert {\n",
              "      background-color: #3B4455;\n",
              "      fill: #D2E3FC;\n",
              "    }\n",
              "\n",
              "    [theme=dark] .colab-df-convert:hover {\n",
              "      background-color: #434B5C;\n",
              "      box-shadow: 0px 1px 3px 1px rgba(0, 0, 0, 0.15);\n",
              "      filter: drop-shadow(0px 1px 2px rgba(0, 0, 0, 0.3));\n",
              "      fill: #FFFFFF;\n",
              "    }\n",
              "  </style>\n",
              "\n",
              "    <script>\n",
              "      const buttonEl =\n",
              "        document.querySelector('#df-9f36d608-d8a6-4ae7-9d9e-b8c7b59be7e5 button.colab-df-convert');\n",
              "      buttonEl.style.display =\n",
              "        google.colab.kernel.accessAllowed ? 'block' : 'none';\n",
              "\n",
              "      async function convertToInteractive(key) {\n",
              "        const element = document.querySelector('#df-9f36d608-d8a6-4ae7-9d9e-b8c7b59be7e5');\n",
              "        const dataTable =\n",
              "          await google.colab.kernel.invokeFunction('convertToInteractive',\n",
              "                                                    [key], {});\n",
              "        if (!dataTable) return;\n",
              "\n",
              "        const docLinkHtml = 'Like what you see? Visit the ' +\n",
              "          '<a target=\"_blank\" href=https://colab.research.google.com/notebooks/data_table.ipynb>data table notebook</a>'\n",
              "          + ' to learn more about interactive tables.';\n",
              "        element.innerHTML = '';\n",
              "        dataTable['output_type'] = 'display_data';\n",
              "        await google.colab.output.renderOutput(dataTable, element);\n",
              "        const docLink = document.createElement('div');\n",
              "        docLink.innerHTML = docLinkHtml;\n",
              "        element.appendChild(docLink);\n",
              "      }\n",
              "    </script>\n",
              "  </div>\n",
              "\n",
              "\n",
              "<div id=\"df-7a6f7870-569f-49a6-9ee5-8031fbc0d23d\">\n",
              "  <button class=\"colab-df-quickchart\" onclick=\"quickchart('df-7a6f7870-569f-49a6-9ee5-8031fbc0d23d')\"\n",
              "            title=\"Suggest charts\"\n",
              "            style=\"display:none;\">\n",
              "\n",
              "<svg xmlns=\"http://www.w3.org/2000/svg\" height=\"24px\"viewBox=\"0 0 24 24\"\n",
              "     width=\"24px\">\n",
              "    <g>\n",
              "        <path d=\"M19 3H5c-1.1 0-2 .9-2 2v14c0 1.1.9 2 2 2h14c1.1 0 2-.9 2-2V5c0-1.1-.9-2-2-2zM9 17H7v-7h2v7zm4 0h-2V7h2v10zm4 0h-2v-4h2v4z\"/>\n",
              "    </g>\n",
              "</svg>\n",
              "  </button>\n",
              "\n",
              "<style>\n",
              "  .colab-df-quickchart {\n",
              "      --bg-color: #E8F0FE;\n",
              "      --fill-color: #1967D2;\n",
              "      --hover-bg-color: #E2EBFA;\n",
              "      --hover-fill-color: #174EA6;\n",
              "      --disabled-fill-color: #AAA;\n",
              "      --disabled-bg-color: #DDD;\n",
              "  }\n",
              "\n",
              "  [theme=dark] .colab-df-quickchart {\n",
              "      --bg-color: #3B4455;\n",
              "      --fill-color: #D2E3FC;\n",
              "      --hover-bg-color: #434B5C;\n",
              "      --hover-fill-color: #FFFFFF;\n",
              "      --disabled-bg-color: #3B4455;\n",
              "      --disabled-fill-color: #666;\n",
              "  }\n",
              "\n",
              "  .colab-df-quickchart {\n",
              "    background-color: var(--bg-color);\n",
              "    border: none;\n",
              "    border-radius: 50%;\n",
              "    cursor: pointer;\n",
              "    display: none;\n",
              "    fill: var(--fill-color);\n",
              "    height: 32px;\n",
              "    padding: 0;\n",
              "    width: 32px;\n",
              "  }\n",
              "\n",
              "  .colab-df-quickchart:hover {\n",
              "    background-color: var(--hover-bg-color);\n",
              "    box-shadow: 0 1px 2px rgba(60, 64, 67, 0.3), 0 1px 3px 1px rgba(60, 64, 67, 0.15);\n",
              "    fill: var(--button-hover-fill-color);\n",
              "  }\n",
              "\n",
              "  .colab-df-quickchart-complete:disabled,\n",
              "  .colab-df-quickchart-complete:disabled:hover {\n",
              "    background-color: var(--disabled-bg-color);\n",
              "    fill: var(--disabled-fill-color);\n",
              "    box-shadow: none;\n",
              "  }\n",
              "\n",
              "  .colab-df-spinner {\n",
              "    border: 2px solid var(--fill-color);\n",
              "    border-color: transparent;\n",
              "    border-bottom-color: var(--fill-color);\n",
              "    animation:\n",
              "      spin 1s steps(1) infinite;\n",
              "  }\n",
              "\n",
              "  @keyframes spin {\n",
              "    0% {\n",
              "      border-color: transparent;\n",
              "      border-bottom-color: var(--fill-color);\n",
              "      border-left-color: var(--fill-color);\n",
              "    }\n",
              "    20% {\n",
              "      border-color: transparent;\n",
              "      border-left-color: var(--fill-color);\n",
              "      border-top-color: var(--fill-color);\n",
              "    }\n",
              "    30% {\n",
              "      border-color: transparent;\n",
              "      border-left-color: var(--fill-color);\n",
              "      border-top-color: var(--fill-color);\n",
              "      border-right-color: var(--fill-color);\n",
              "    }\n",
              "    40% {\n",
              "      border-color: transparent;\n",
              "      border-right-color: var(--fill-color);\n",
              "      border-top-color: var(--fill-color);\n",
              "    }\n",
              "    60% {\n",
              "      border-color: transparent;\n",
              "      border-right-color: var(--fill-color);\n",
              "    }\n",
              "    80% {\n",
              "      border-color: transparent;\n",
              "      border-right-color: var(--fill-color);\n",
              "      border-bottom-color: var(--fill-color);\n",
              "    }\n",
              "    90% {\n",
              "      border-color: transparent;\n",
              "      border-bottom-color: var(--fill-color);\n",
              "    }\n",
              "  }\n",
              "</style>\n",
              "\n",
              "  <script>\n",
              "    async function quickchart(key) {\n",
              "      const quickchartButtonEl =\n",
              "        document.querySelector('#' + key + ' button');\n",
              "      quickchartButtonEl.disabled = true;  // To prevent multiple clicks.\n",
              "      quickchartButtonEl.classList.add('colab-df-spinner');\n",
              "      try {\n",
              "        const charts = await google.colab.kernel.invokeFunction(\n",
              "            'suggestCharts', [key], {});\n",
              "      } catch (error) {\n",
              "        console.error('Error during call to suggestCharts:', error);\n",
              "      }\n",
              "      quickchartButtonEl.classList.remove('colab-df-spinner');\n",
              "      quickchartButtonEl.classList.add('colab-df-quickchart-complete');\n",
              "    }\n",
              "    (() => {\n",
              "      let quickchartButtonEl =\n",
              "        document.querySelector('#df-7a6f7870-569f-49a6-9ee5-8031fbc0d23d button');\n",
              "      quickchartButtonEl.style.display =\n",
              "        google.colab.kernel.accessAllowed ? 'block' : 'none';\n",
              "    })();\n",
              "  </script>\n",
              "</div>\n",
              "\n",
              "    </div>\n",
              "  </div>\n"
            ],
            "application/vnd.google.colaboratory.intrinsic+json": {
              "type": "dataframe",
              "summary": "{\n  \"name\": \"df\",\n  \"rows\": 2030,\n  \"fields\": [\n    {\n      \"column\": \"industry\",\n      \"properties\": {\n        \"dtype\": \"category\",\n        \"num_unique_values\": 113,\n        \"samples\": [\n          \"Security & Protection Services\",\n          \"Tools & Accessories\",\n          \"Utilities - Independent Power Producers\"\n        ],\n        \"semantic_type\": \"\",\n        \"description\": \"\"\n      }\n    },\n    {\n      \"column\": \"sector\",\n      \"properties\": {\n        \"dtype\": \"category\",\n        \"num_unique_values\": 10,\n        \"samples\": [\n          \"Basic Materials\",\n          \"Industrials\",\n          \"Energy\"\n        ],\n        \"semantic_type\": \"\",\n        \"description\": \"\"\n      }\n    },\n    {\n      \"column\": \"recommendationKey\",\n      \"properties\": {\n        \"dtype\": \"category\",\n        \"num_unique_values\": 6,\n        \"samples\": [\n          \"strong_buy\",\n          \"buy\",\n          \"sell\"\n        ],\n        \"semantic_type\": \"\",\n        \"description\": \"\"\n      }\n    },\n    {\n      \"column\": \"financialCurrency\",\n      \"properties\": {\n        \"dtype\": \"category\",\n        \"num_unique_values\": 2,\n        \"samples\": [\n          \"CAD\",\n          \"USD\"\n        ],\n        \"semantic_type\": \"\",\n        \"description\": \"\"\n      }\n    }\n  ]\n}"
            }
          },
          "metadata": {},
          "execution_count": 9
        }
      ]
    },
    {
      "cell_type": "code",
      "source": [
        "for col in df.select_dtypes(include = 'O'):\n",
        "    print(f'{col} unique values num: {df[col].nunique()}')\n",
        "    print('-'*50)"
      ],
      "metadata": {
        "papermill": {
          "duration": 0.031918,
          "end_time": "2024-02-22T09:23:48.08989",
          "exception": false,
          "start_time": "2024-02-22T09:23:48.057972",
          "status": "completed"
        },
        "tags": [],
        "execution": {
          "iopub.status.busy": "2024-03-06T19:17:56.382583Z",
          "iopub.execute_input": "2024-03-06T19:17:56.382901Z",
          "iopub.status.idle": "2024-03-06T19:17:56.391172Z",
          "shell.execute_reply.started": "2024-03-06T19:17:56.382876Z",
          "shell.execute_reply": "2024-03-06T19:17:56.3903Z"
        },
        "trusted": true,
        "id": "szXmLZ9J2CbM",
        "outputId": "e8ce1b85-d8ef-4251-ae25-d8ff21146723",
        "colab": {
          "base_uri": "https://localhost:8080/"
        }
      },
      "execution_count": null,
      "outputs": [
        {
          "output_type": "stream",
          "name": "stdout",
          "text": [
            "industry unique values num: 113\n",
            "--------------------------------------------------\n",
            "sector unique values num: 10\n",
            "--------------------------------------------------\n",
            "recommendationKey unique values num: 6\n",
            "--------------------------------------------------\n",
            "financialCurrency unique values num: 2\n",
            "--------------------------------------------------\n"
          ]
        }
      ]
    },
    {
      "cell_type": "markdown",
      "source": [
        "Looks like it is best have to label encode the `industry` with 113 unique categories.\n",
        "`sector` and `recommendationKey` can safely be one-hot-encoded as it will expand the dataset by only 16 columns.\n",
        "And we will just binarize the `financialCurrency` column"
      ],
      "metadata": {
        "execution": {
          "iopub.execute_input": "2024-02-21T11:38:43.966027Z",
          "iopub.status.busy": "2024-02-21T11:38:43.965735Z",
          "iopub.status.idle": "2024-02-21T11:38:43.970975Z",
          "shell.execute_reply": "2024-02-21T11:38:43.969976Z",
          "shell.execute_reply.started": "2024-02-21T11:38:43.966006Z"
        },
        "papermill": {
          "duration": 0.014362,
          "end_time": "2024-02-22T09:23:48.11873",
          "exception": false,
          "start_time": "2024-02-22T09:23:48.104368",
          "status": "completed"
        },
        "tags": [],
        "id": "EdQ8Qvqn2CbN"
      }
    },
    {
      "cell_type": "code",
      "source": [
        "def binarize(df, col):\n",
        "    uniques = list(df[col].dropna().unique())\n",
        "    df[col] = [1 if val == uniques[0] else 0 for val in df[col]]\n",
        "    return df"
      ],
      "metadata": {
        "papermill": {
          "duration": 0.026863,
          "end_time": "2024-02-22T09:23:48.160784",
          "exception": false,
          "start_time": "2024-02-22T09:23:48.133921",
          "status": "completed"
        },
        "tags": [],
        "execution": {
          "iopub.status.busy": "2024-03-06T19:17:56.453959Z",
          "iopub.execute_input": "2024-03-06T19:17:56.454507Z",
          "iopub.status.idle": "2024-03-06T19:17:56.461051Z",
          "shell.execute_reply.started": "2024-03-06T19:17:56.454479Z",
          "shell.execute_reply": "2024-03-06T19:17:56.460374Z"
        },
        "trusted": true,
        "id": "r0xkFHSh2CbO"
      },
      "execution_count": null,
      "outputs": []
    },
    {
      "cell_type": "code",
      "source": [
        "def one_hot_encode(df, col):\n",
        "    dummies = pd.get_dummies(df[col], prefix = col).astype(int)\n",
        "    df.drop(col, axis = 1, inplace = True)\n",
        "    df = pd.concat([df, dummies], axis = 1)\n",
        "    return df"
      ],
      "metadata": {
        "papermill": {
          "duration": 0.023901,
          "end_time": "2024-02-22T09:23:48.199713",
          "exception": false,
          "start_time": "2024-02-22T09:23:48.175812",
          "status": "completed"
        },
        "tags": [],
        "execution": {
          "iopub.status.busy": "2024-03-06T19:17:56.542607Z",
          "iopub.execute_input": "2024-03-06T19:17:56.54295Z",
          "iopub.status.idle": "2024-03-06T19:17:56.549094Z",
          "shell.execute_reply.started": "2024-03-06T19:17:56.542921Z",
          "shell.execute_reply": "2024-03-06T19:17:56.548159Z"
        },
        "trusted": true,
        "id": "r-peWqqd2CbP"
      },
      "execution_count": null,
      "outputs": []
    },
    {
      "cell_type": "code",
      "source": [
        "def factorize(df, col):\n",
        "    mapping = {name: ix for ix, name in enumerate(df[col].unique())}\n",
        "    df[col] = df[col].map(mapping)\n",
        "    return df"
      ],
      "metadata": {
        "papermill": {
          "duration": 0.025012,
          "end_time": "2024-02-22T09:23:48.238738",
          "exception": false,
          "start_time": "2024-02-22T09:23:48.213726",
          "status": "completed"
        },
        "tags": [],
        "execution": {
          "iopub.status.busy": "2024-03-06T19:17:56.631981Z",
          "iopub.execute_input": "2024-03-06T19:17:56.632301Z",
          "iopub.status.idle": "2024-03-06T19:17:56.637209Z",
          "shell.execute_reply.started": "2024-03-06T19:17:56.632273Z",
          "shell.execute_reply": "2024-03-06T19:17:56.636167Z"
        },
        "trusted": true,
        "id": "ARC1ceXD2CbR"
      },
      "execution_count": null,
      "outputs": []
    },
    {
      "cell_type": "code",
      "source": [
        "df = binarize(df, 'financialCurrency')\n",
        "print(df['financialCurrency'].head())"
      ],
      "metadata": {
        "papermill": {
          "duration": 0.029814,
          "end_time": "2024-02-22T09:23:48.283233",
          "exception": false,
          "start_time": "2024-02-22T09:23:48.253419",
          "status": "completed"
        },
        "tags": [],
        "execution": {
          "iopub.status.busy": "2024-03-06T19:17:56.724017Z",
          "iopub.execute_input": "2024-03-06T19:17:56.725068Z",
          "iopub.status.idle": "2024-03-06T19:17:56.733209Z",
          "shell.execute_reply.started": "2024-03-06T19:17:56.725026Z",
          "shell.execute_reply": "2024-03-06T19:17:56.732202Z"
        },
        "trusted": true,
        "id": "7coxv0V82CbU",
        "outputId": "43944d15-49d9-48ac-f740-8b93b79ec93d",
        "colab": {
          "base_uri": "https://localhost:8080/"
        }
      },
      "execution_count": null,
      "outputs": [
        {
          "output_type": "stream",
          "name": "stdout",
          "text": [
            "0    1\n",
            "1    1\n",
            "2    0\n",
            "3    1\n",
            "4    1\n",
            "Name: financialCurrency, dtype: int64\n"
          ]
        }
      ]
    },
    {
      "cell_type": "code",
      "source": [
        "print(df.shape)\n",
        "df = one_hot_encode(df, 'sector')\n",
        "df = one_hot_encode(df, 'recommendationKey')\n",
        "print(df.shape)"
      ],
      "metadata": {
        "papermill": {
          "duration": 0.051345,
          "end_time": "2024-02-22T09:23:48.348876",
          "exception": false,
          "start_time": "2024-02-22T09:23:48.297531",
          "status": "completed"
        },
        "tags": [],
        "execution": {
          "iopub.status.busy": "2024-03-06T19:17:56.807344Z",
          "iopub.execute_input": "2024-03-06T19:17:56.807679Z",
          "iopub.status.idle": "2024-03-06T19:17:56.826193Z",
          "shell.execute_reply.started": "2024-03-06T19:17:56.807651Z",
          "shell.execute_reply": "2024-03-06T19:17:56.825328Z"
        },
        "trusted": true,
        "id": "jBRyW_5W2CbW",
        "outputId": "db0915d1-b904-4c0b-bf86-20518b88c8b6",
        "colab": {
          "base_uri": "https://localhost:8080/"
        }
      },
      "execution_count": null,
      "outputs": [
        {
          "output_type": "stream",
          "name": "stdout",
          "text": [
            "(2030, 213)\n",
            "(2030, 227)\n"
          ]
        }
      ]
    },
    {
      "cell_type": "code",
      "source": [
        "df = factorize(df, 'industry')\n",
        "print(df.dtypes.value_counts())"
      ],
      "metadata": {
        "papermill": {
          "duration": 0.028683,
          "end_time": "2024-02-22T09:23:48.391994",
          "exception": false,
          "start_time": "2024-02-22T09:23:48.363311",
          "status": "completed"
        },
        "tags": [],
        "execution": {
          "iopub.status.busy": "2024-03-06T19:17:56.926111Z",
          "iopub.execute_input": "2024-03-06T19:17:56.926466Z",
          "iopub.status.idle": "2024-03-06T19:17:56.934198Z",
          "shell.execute_reply.started": "2024-03-06T19:17:56.926437Z",
          "shell.execute_reply": "2024-03-06T19:17:56.933341Z"
        },
        "trusted": true,
        "id": "hUaG_Vba2CbX",
        "outputId": "54d38548-289a-4193-def4-e82af941dbd2",
        "colab": {
          "base_uri": "https://localhost:8080/"
        }
      },
      "execution_count": null,
      "outputs": [
        {
          "output_type": "stream",
          "name": "stdout",
          "text": [
            "float64    207\n",
            "int64       19\n",
            "bool         1\n",
            "dtype: int64\n"
          ]
        }
      ]
    },
    {
      "cell_type": "code",
      "source": [
        "import warnings\n",
        "warnings.simplefilter(action='ignore', category=FutureWarning)"
      ],
      "metadata": {
        "papermill": {
          "duration": 0.023799,
          "end_time": "2024-02-22T09:23:48.430584",
          "exception": false,
          "start_time": "2024-02-22T09:23:48.406785",
          "status": "completed"
        },
        "tags": [],
        "execution": {
          "iopub.status.busy": "2024-03-06T19:17:57.047265Z",
          "iopub.execute_input": "2024-03-06T19:17:57.04792Z",
          "iopub.status.idle": "2024-03-06T19:17:57.052052Z",
          "shell.execute_reply.started": "2024-03-06T19:17:57.047889Z",
          "shell.execute_reply": "2024-03-06T19:17:57.051155Z"
        },
        "trusted": true,
        "id": "PI3OIovg2CbY"
      },
      "execution_count": null,
      "outputs": []
    },
    {
      "cell_type": "markdown",
      "source": [
        "## Deal with missing values"
      ],
      "metadata": {
        "papermill": {
          "duration": 0.01419,
          "end_time": "2024-02-22T09:23:48.459658",
          "exception": false,
          "start_time": "2024-02-22T09:23:48.445468",
          "status": "completed"
        },
        "tags": [],
        "id": "SeUCE7Ly2CbZ"
      }
    },
    {
      "cell_type": "code",
      "source": [
        "df.isnull().sum()"
      ],
      "metadata": {
        "papermill": {
          "duration": 0.030298,
          "end_time": "2024-02-22T09:23:48.50518",
          "exception": false,
          "start_time": "2024-02-22T09:23:48.474882",
          "status": "completed"
        },
        "tags": [],
        "execution": {
          "iopub.status.busy": "2024-03-06T19:17:57.176249Z",
          "iopub.execute_input": "2024-03-06T19:17:57.176594Z",
          "iopub.status.idle": "2024-03-06T19:17:57.185817Z",
          "shell.execute_reply.started": "2024-03-06T19:17:57.176567Z",
          "shell.execute_reply": "2024-03-06T19:17:57.18488Z"
        },
        "trusted": true,
        "id": "g4XerwI-2CbZ",
        "outputId": "6251cb84-d122-436b-ab6c-ae221a232f16",
        "colab": {
          "base_uri": "https://localhost:8080/"
        }
      },
      "execution_count": null,
      "outputs": [
        {
          "output_type": "execute_result",
          "data": {
            "text/plain": [
              "Id                                  0\n",
              "industry                            0\n",
              "fullTimeEmployees                 102\n",
              "auditRisk                         625\n",
              "boardRisk                         625\n",
              "                                 ... \n",
              "recommendationKey_hold              0\n",
              "recommendationKey_none              0\n",
              "recommendationKey_sell              0\n",
              "recommendationKey_strong_buy        0\n",
              "recommendationKey_underperform      0\n",
              "Length: 227, dtype: int64"
            ]
          },
          "metadata": {},
          "execution_count": 18
        }
      ]
    },
    {
      "cell_type": "code",
      "source": [
        "print('Missing data stats:\\n')\n",
        "under_10_percent = 0\n",
        "ten_to_20_percent = 0\n",
        "twenty_to_50_percent = 0\n",
        "over_50_percent = 0\n",
        "for col in df:\n",
        "    if np.any(df[col].isnull()):\n",
        "        percent_missing = np.round(100*df[col].isnull().sum()/len(df),2)\n",
        "        if percent_missing < 10:\n",
        "            under_10_percent+=1\n",
        "        elif 10 <= percent_missing < 20:\n",
        "            ten_to_20_percent+=1\n",
        "        elif 20 <= percent_missing < 50:\n",
        "            twenty_to_50_percent+=1\n",
        "        else:\n",
        "            over_50_percent+=1\n",
        "\n",
        "print(f'ncols with under 10% missing data:\\t{under_10_percent}')\n",
        "print(f'ncols with 10-20% missing data:\\t\\t{ten_to_20_percent}')\n",
        "print(f'ncols with 20-50% missing data:\\t\\t{twenty_to_50_percent}')\n",
        "print(f'ncols with over 50% missing data:\\t{over_50_percent}')"
      ],
      "metadata": {
        "papermill": {
          "duration": 0.094265,
          "end_time": "2024-02-22T09:23:48.614622",
          "exception": false,
          "start_time": "2024-02-22T09:23:48.520357",
          "status": "completed"
        },
        "tags": [],
        "execution": {
          "iopub.status.busy": "2024-03-06T19:17:57.244757Z",
          "iopub.execute_input": "2024-03-06T19:17:57.245028Z",
          "iopub.status.idle": "2024-03-06T19:17:57.324555Z",
          "shell.execute_reply.started": "2024-03-06T19:17:57.245004Z",
          "shell.execute_reply": "2024-03-06T19:17:57.323036Z"
        },
        "trusted": true,
        "id": "JODi5BZU2Cba",
        "outputId": "4474672f-e392-4aea-d815-c47016bd65cf",
        "colab": {
          "base_uri": "https://localhost:8080/"
        }
      },
      "execution_count": null,
      "outputs": [
        {
          "output_type": "stream",
          "name": "stdout",
          "text": [
            "Missing data stats:\n",
            "\n",
            "ncols with under 10% missing data:\t134\n",
            "ncols with 10-20% missing data:\t\t44\n",
            "ncols with 20-50% missing data:\t\t16\n",
            "ncols with over 50% missing data:\t1\n"
          ]
        }
      ]
    },
    {
      "cell_type": "markdown",
      "source": [
        "Many columns have missing data, but the majority of cols with NaNs have under 10% missing values. It's safe to fill all missing values by median."
      ],
      "metadata": {
        "papermill": {
          "duration": 0.014673,
          "end_time": "2024-02-22T09:23:48.644595",
          "exception": false,
          "start_time": "2024-02-22T09:23:48.629922",
          "status": "completed"
        },
        "tags": [],
        "id": "GYX90e-V2Cbb"
      }
    },
    {
      "cell_type": "code",
      "source": [
        "# check if there are any inf values in data\n",
        "df[df == np.inf].count().sum()"
      ],
      "metadata": {
        "papermill": {
          "duration": 0.041706,
          "end_time": "2024-02-22T09:23:48.701223",
          "exception": false,
          "start_time": "2024-02-22T09:23:48.659517",
          "status": "completed"
        },
        "tags": [],
        "execution": {
          "iopub.status.busy": "2024-03-06T19:17:57.333484Z",
          "iopub.execute_input": "2024-03-06T19:17:57.334145Z",
          "iopub.status.idle": "2024-03-06T19:17:57.351343Z",
          "shell.execute_reply.started": "2024-03-06T19:17:57.334119Z",
          "shell.execute_reply": "2024-03-06T19:17:57.350522Z"
        },
        "trusted": true,
        "id": "-ajhleCU2Cbb",
        "outputId": "8d7b9f20-c345-4efb-9bbf-baee8c8dc881",
        "colab": {
          "base_uri": "https://localhost:8080/"
        }
      },
      "execution_count": null,
      "outputs": [
        {
          "output_type": "execute_result",
          "data": {
            "text/plain": [
              "17"
            ]
          },
          "metadata": {},
          "execution_count": 20
        }
      ]
    },
    {
      "cell_type": "code",
      "source": [
        "# check for missing values in the target columns\n",
        "train[targets_names].isnull().sum()"
      ],
      "metadata": {
        "papermill": {
          "duration": 0.028304,
          "end_time": "2024-02-22T09:23:48.744568",
          "exception": false,
          "start_time": "2024-02-22T09:23:48.716264",
          "status": "completed"
        },
        "tags": [],
        "execution": {
          "iopub.status.busy": "2024-03-06T19:17:57.430281Z",
          "iopub.execute_input": "2024-03-06T19:17:57.43062Z",
          "iopub.status.idle": "2024-03-06T19:17:57.439116Z",
          "shell.execute_reply.started": "2024-03-06T19:17:57.430594Z",
          "shell.execute_reply": "2024-03-06T19:17:57.438224Z"
        },
        "trusted": true,
        "id": "M5LQ7s2J2Cbc",
        "outputId": "ea35ceb7-7a2d-45ec-a7e2-234ab14ae63e",
        "colab": {
          "base_uri": "https://localhost:8080/"
        }
      },
      "execution_count": null,
      "outputs": [
        {
          "output_type": "execute_result",
          "data": {
            "text/plain": [
              "Q0_TOTAL_ASSETS                 0\n",
              "Q0_TOTAL_LIABILITIES            0\n",
              "Q0_TOTAL_STOCKHOLDERS_EQUITY    0\n",
              "Q0_GROSS_PROFIT                 0\n",
              "Q0_COST_OF_REVENUES             0\n",
              "Q0_REVENUES                     0\n",
              "Q0_OPERATING_INCOME             0\n",
              "Q0_OPERATING_EXPENSES           0\n",
              "Q0_EBITDA                       0\n",
              "dtype: int64"
            ]
          },
          "metadata": {},
          "execution_count": 21
        }
      ]
    },
    {
      "cell_type": "code",
      "source": [
        "def impute_missing_by_median(df):\n",
        "    print(f'Missing values before imputation: {sum(df.isnull().sum())}')\n",
        "    # first replace inf and -inf with nan\n",
        "    df.replace([np.inf, -np.inf], np.nan, inplace=True)\n",
        "    # then impute nan by median\n",
        "    for col in df:\n",
        "        if np.any(df[col].isnull()):\n",
        "            df[col].fillna(df[col].median(), inplace = True)\n",
        "    print(f'Missing values after imputation: {sum(df.isnull().sum())}')\n",
        "    return df"
      ],
      "metadata": {
        "papermill": {
          "duration": 0.027342,
          "end_time": "2024-02-22T09:23:48.787209",
          "exception": false,
          "start_time": "2024-02-22T09:23:48.759867",
          "status": "completed"
        },
        "tags": [],
        "execution": {
          "iopub.status.busy": "2024-03-06T19:17:57.516143Z",
          "iopub.execute_input": "2024-03-06T19:17:57.516483Z",
          "iopub.status.idle": "2024-03-06T19:17:57.52266Z",
          "shell.execute_reply.started": "2024-03-06T19:17:57.516457Z",
          "shell.execute_reply": "2024-03-06T19:17:57.52178Z"
        },
        "trusted": true,
        "id": "jUwWJETT2Cbd"
      },
      "execution_count": null,
      "outputs": []
    },
    {
      "cell_type": "code",
      "source": [
        "df = impute_missing_by_median(df)"
      ],
      "metadata": {
        "papermill": {
          "duration": 0.242599,
          "end_time": "2024-02-22T09:23:49.045138",
          "exception": false,
          "start_time": "2024-02-22T09:23:48.802539",
          "status": "completed"
        },
        "tags": [],
        "execution": {
          "iopub.status.busy": "2024-03-06T19:17:57.606896Z",
          "iopub.execute_input": "2024-03-06T19:17:57.607202Z",
          "iopub.status.idle": "2024-03-06T19:17:57.735899Z",
          "shell.execute_reply.started": "2024-03-06T19:17:57.607175Z",
          "shell.execute_reply": "2024-03-06T19:17:57.734875Z"
        },
        "trusted": true,
        "id": "jLG_kxu32Cbe",
        "outputId": "351e2c50-7cb0-4f71-d412-c04bca17ba2d",
        "colab": {
          "base_uri": "https://localhost:8080/"
        }
      },
      "execution_count": null,
      "outputs": [
        {
          "output_type": "stream",
          "name": "stdout",
          "text": [
            "Missing values before imputation: 28653\n",
            "Missing values after imputation: 0\n"
          ]
        }
      ]
    },
    {
      "cell_type": "markdown",
      "source": [
        "## Extract train & test without target cols and separate tartgets df with 9 target cols"
      ],
      "metadata": {
        "papermill": {
          "duration": 0.015032,
          "end_time": "2024-02-22T09:23:49.075854",
          "exception": false,
          "start_time": "2024-02-22T09:23:49.060822",
          "status": "completed"
        },
        "tags": [],
        "id": "T1bOxT992Cbf"
      }
    },
    {
      "cell_type": "code",
      "source": [
        "train = df[df['is_train'] == True]\n",
        "test = df[df['is_train'] == False]\n",
        "train.drop('is_train', axis = 1, inplace=True)\n",
        "test.drop('is_train', axis = 1, inplace=True)\n",
        "test.reset_index(drop = True, inplace = True)\n",
        "\n",
        "test.drop(targets_names, axis = 1, inplace = True)\n",
        "targets = train[targets_names].copy()\n",
        "train.drop(targets_names, axis = 1, inplace = True)"
      ],
      "metadata": {
        "papermill": {
          "duration": 0.039554,
          "end_time": "2024-02-22T09:23:49.13061",
          "exception": false,
          "start_time": "2024-02-22T09:23:49.091056",
          "status": "completed"
        },
        "tags": [],
        "execution": {
          "iopub.status.busy": "2024-03-06T19:17:57.73797Z",
          "iopub.execute_input": "2024-03-06T19:17:57.738703Z",
          "iopub.status.idle": "2024-03-06T19:17:57.753215Z",
          "shell.execute_reply.started": "2024-03-06T19:17:57.738661Z",
          "shell.execute_reply": "2024-03-06T19:17:57.75222Z"
        },
        "trusted": true,
        "id": "AnEv8qBg2Cbg",
        "outputId": "04c3d724-d974-4e1e-ea83-e9aa10dce8a1",
        "colab": {
          "base_uri": "https://localhost:8080/"
        }
      },
      "execution_count": null,
      "outputs": [
        {
          "output_type": "stream",
          "name": "stderr",
          "text": [
            "<ipython-input-24-996949eefa5f>:3: SettingWithCopyWarning: \n",
            "A value is trying to be set on a copy of a slice from a DataFrame\n",
            "\n",
            "See the caveats in the documentation: https://pandas.pydata.org/pandas-docs/stable/user_guide/indexing.html#returning-a-view-versus-a-copy\n",
            "  train.drop('is_train', axis = 1, inplace=True)\n",
            "<ipython-input-24-996949eefa5f>:4: SettingWithCopyWarning: \n",
            "A value is trying to be set on a copy of a slice from a DataFrame\n",
            "\n",
            "See the caveats in the documentation: https://pandas.pydata.org/pandas-docs/stable/user_guide/indexing.html#returning-a-view-versus-a-copy\n",
            "  test.drop('is_train', axis = 1, inplace=True)\n",
            "<ipython-input-24-996949eefa5f>:7: SettingWithCopyWarning: \n",
            "A value is trying to be set on a copy of a slice from a DataFrame\n",
            "\n",
            "See the caveats in the documentation: https://pandas.pydata.org/pandas-docs/stable/user_guide/indexing.html#returning-a-view-versus-a-copy\n",
            "  test.drop(targets_names, axis = 1, inplace = True)\n",
            "<ipython-input-24-996949eefa5f>:9: SettingWithCopyWarning: \n",
            "A value is trying to be set on a copy of a slice from a DataFrame\n",
            "\n",
            "See the caveats in the documentation: https://pandas.pydata.org/pandas-docs/stable/user_guide/indexing.html#returning-a-view-versus-a-copy\n",
            "  train.drop(targets_names, axis = 1, inplace = True)\n"
          ]
        }
      ]
    },
    {
      "cell_type": "markdown",
      "source": [
        "## Validate XGB model on train data\n",
        "### Since we have 9 independent target columns, I will train 9 separate separate models on train features to predict each target."
      ],
      "metadata": {
        "execution": {
          "iopub.execute_input": "2024-02-21T11:22:12.4504Z",
          "iopub.status.busy": "2024-02-21T11:22:12.450098Z",
          "iopub.status.idle": "2024-02-21T11:22:12.454644Z",
          "shell.execute_reply": "2024-02-21T11:22:12.453791Z",
          "shell.execute_reply.started": "2024-02-21T11:22:12.450379Z"
        },
        "papermill": {
          "duration": 0.015517,
          "end_time": "2024-02-22T09:23:49.161625",
          "exception": false,
          "start_time": "2024-02-22T09:23:49.146108",
          "status": "completed"
        },
        "tags": [],
        "id": "xkuPFJhV2Cbj"
      }
    },
    {
      "cell_type": "code",
      "source": [
        "targets"
      ],
      "metadata": {
        "papermill": {
          "duration": 0.048259,
          "end_time": "2024-02-22T09:23:49.225403",
          "exception": false,
          "start_time": "2024-02-22T09:23:49.177144",
          "status": "completed"
        },
        "tags": [],
        "execution": {
          "iopub.status.busy": "2024-03-06T19:17:57.782054Z",
          "iopub.execute_input": "2024-03-06T19:17:57.782362Z",
          "iopub.status.idle": "2024-03-06T19:17:57.807496Z",
          "shell.execute_reply.started": "2024-03-06T19:17:57.782329Z",
          "shell.execute_reply": "2024-03-06T19:17:57.806382Z"
        },
        "trusted": true,
        "id": "cYHUh_EX2Cbm",
        "outputId": "eacc6d0c-6b65-4a83-b999-ef7165f2b15e",
        "colab": {
          "base_uri": "https://localhost:8080/",
          "height": 444
        }
      },
      "execution_count": null,
      "outputs": [
        {
          "output_type": "execute_result",
          "data": {
            "text/plain": [
              "      Q0_TOTAL_ASSETS  Q0_TOTAL_LIABILITIES  Q0_TOTAL_STOCKHOLDERS_EQUITY  \\\n",
              "0        1.192950e+09          1.055816e+09                  1.371340e+08   \n",
              "1        1.219954e+09          8.350460e+08                  3.849080e+08   \n",
              "2       -1.358200e+11         -3.797200e+10                 -9.784800e+10   \n",
              "3        8.329800e+07          1.604000e+07                 -3.163300e+07   \n",
              "4        1.485460e+08          5.655500e+07                  9.199100e+07   \n",
              "...               ...                   ...                           ...   \n",
              "1619     3.539600e+08          1.997590e+08                  1.542010e+08   \n",
              "1620     1.061530e+08          3.949300e+07                  6.811700e+07   \n",
              "1621     5.203150e+08          3.807960e+08                  3.233080e+08   \n",
              "1622     1.997210e+08          2.692100e+07                  1.728000e+08   \n",
              "1623     1.333626e+10          1.504531e+10                 -8.217640e+08   \n",
              "\n",
              "      Q0_GROSS_PROFIT  Q0_COST_OF_REVENUES   Q0_REVENUES  Q0_OPERATING_INCOME  \\\n",
              "0          25598000.0         6.189900e+07  4.299200e+07         1.522200e+07   \n",
              "1         111786000.0         2.177960e+08  3.295820e+08         2.890800e+07   \n",
              "2        -435000000.0         4.445000e+09  4.010000e+09        -1.472000e+09   \n",
              "3            494000.0         3.339000e+06  3.833000e+06        -1.234800e+07   \n",
              "4           1761000.0        -2.375000e+06 -6.140000e+05        -1.009800e+07   \n",
              "...               ...                  ...           ...                  ...   \n",
              "1619       48741000.0         4.569300e+07  9.443400e+07         2.616000e+06   \n",
              "1620        1077000.0         1.690000e+05  1.246000e+06        -6.705000e+06   \n",
              "1621       27808000.0         1.123840e+08  1.401920e+08         7.061000e+06   \n",
              "1622              0.0         0.000000e+00  0.000000e+00        -3.391900e+07   \n",
              "1623      394720000.0         5.777330e+08  9.724530e+08         6.259500e+07   \n",
              "\n",
              "      Q0_OPERATING_EXPENSES    Q0_EBITDA  \n",
              "0                10383000.0   15215000.0  \n",
              "1                85522000.0   26264000.0  \n",
              "2               219000000.0 -654000000.0  \n",
              "3                12842000.0  -12348000.0  \n",
              "4                11859000.0  -10098000.0  \n",
              "...                     ...          ...  \n",
              "1619             46125000.0    2616000.0  \n",
              "1620              7782000.0   -6705000.0  \n",
              "1621              9417000.0   18391000.0  \n",
              "1622             33919000.0  -33919000.0  \n",
              "1623            268445000.0  126275000.0  \n",
              "\n",
              "[1624 rows x 9 columns]"
            ],
            "text/html": [
              "\n",
              "  <div id=\"df-135bd930-d9ea-4b5c-a69d-33e08017f0ba\" class=\"colab-df-container\">\n",
              "    <div>\n",
              "<style scoped>\n",
              "    .dataframe tbody tr th:only-of-type {\n",
              "        vertical-align: middle;\n",
              "    }\n",
              "\n",
              "    .dataframe tbody tr th {\n",
              "        vertical-align: top;\n",
              "    }\n",
              "\n",
              "    .dataframe thead th {\n",
              "        text-align: right;\n",
              "    }\n",
              "</style>\n",
              "<table border=\"1\" class=\"dataframe\">\n",
              "  <thead>\n",
              "    <tr style=\"text-align: right;\">\n",
              "      <th></th>\n",
              "      <th>Q0_TOTAL_ASSETS</th>\n",
              "      <th>Q0_TOTAL_LIABILITIES</th>\n",
              "      <th>Q0_TOTAL_STOCKHOLDERS_EQUITY</th>\n",
              "      <th>Q0_GROSS_PROFIT</th>\n",
              "      <th>Q0_COST_OF_REVENUES</th>\n",
              "      <th>Q0_REVENUES</th>\n",
              "      <th>Q0_OPERATING_INCOME</th>\n",
              "      <th>Q0_OPERATING_EXPENSES</th>\n",
              "      <th>Q0_EBITDA</th>\n",
              "    </tr>\n",
              "  </thead>\n",
              "  <tbody>\n",
              "    <tr>\n",
              "      <th>0</th>\n",
              "      <td>1.192950e+09</td>\n",
              "      <td>1.055816e+09</td>\n",
              "      <td>1.371340e+08</td>\n",
              "      <td>25598000.0</td>\n",
              "      <td>6.189900e+07</td>\n",
              "      <td>4.299200e+07</td>\n",
              "      <td>1.522200e+07</td>\n",
              "      <td>10383000.0</td>\n",
              "      <td>15215000.0</td>\n",
              "    </tr>\n",
              "    <tr>\n",
              "      <th>1</th>\n",
              "      <td>1.219954e+09</td>\n",
              "      <td>8.350460e+08</td>\n",
              "      <td>3.849080e+08</td>\n",
              "      <td>111786000.0</td>\n",
              "      <td>2.177960e+08</td>\n",
              "      <td>3.295820e+08</td>\n",
              "      <td>2.890800e+07</td>\n",
              "      <td>85522000.0</td>\n",
              "      <td>26264000.0</td>\n",
              "    </tr>\n",
              "    <tr>\n",
              "      <th>2</th>\n",
              "      <td>-1.358200e+11</td>\n",
              "      <td>-3.797200e+10</td>\n",
              "      <td>-9.784800e+10</td>\n",
              "      <td>-435000000.0</td>\n",
              "      <td>4.445000e+09</td>\n",
              "      <td>4.010000e+09</td>\n",
              "      <td>-1.472000e+09</td>\n",
              "      <td>219000000.0</td>\n",
              "      <td>-654000000.0</td>\n",
              "    </tr>\n",
              "    <tr>\n",
              "      <th>3</th>\n",
              "      <td>8.329800e+07</td>\n",
              "      <td>1.604000e+07</td>\n",
              "      <td>-3.163300e+07</td>\n",
              "      <td>494000.0</td>\n",
              "      <td>3.339000e+06</td>\n",
              "      <td>3.833000e+06</td>\n",
              "      <td>-1.234800e+07</td>\n",
              "      <td>12842000.0</td>\n",
              "      <td>-12348000.0</td>\n",
              "    </tr>\n",
              "    <tr>\n",
              "      <th>4</th>\n",
              "      <td>1.485460e+08</td>\n",
              "      <td>5.655500e+07</td>\n",
              "      <td>9.199100e+07</td>\n",
              "      <td>1761000.0</td>\n",
              "      <td>-2.375000e+06</td>\n",
              "      <td>-6.140000e+05</td>\n",
              "      <td>-1.009800e+07</td>\n",
              "      <td>11859000.0</td>\n",
              "      <td>-10098000.0</td>\n",
              "    </tr>\n",
              "    <tr>\n",
              "      <th>...</th>\n",
              "      <td>...</td>\n",
              "      <td>...</td>\n",
              "      <td>...</td>\n",
              "      <td>...</td>\n",
              "      <td>...</td>\n",
              "      <td>...</td>\n",
              "      <td>...</td>\n",
              "      <td>...</td>\n",
              "      <td>...</td>\n",
              "    </tr>\n",
              "    <tr>\n",
              "      <th>1619</th>\n",
              "      <td>3.539600e+08</td>\n",
              "      <td>1.997590e+08</td>\n",
              "      <td>1.542010e+08</td>\n",
              "      <td>48741000.0</td>\n",
              "      <td>4.569300e+07</td>\n",
              "      <td>9.443400e+07</td>\n",
              "      <td>2.616000e+06</td>\n",
              "      <td>46125000.0</td>\n",
              "      <td>2616000.0</td>\n",
              "    </tr>\n",
              "    <tr>\n",
              "      <th>1620</th>\n",
              "      <td>1.061530e+08</td>\n",
              "      <td>3.949300e+07</td>\n",
              "      <td>6.811700e+07</td>\n",
              "      <td>1077000.0</td>\n",
              "      <td>1.690000e+05</td>\n",
              "      <td>1.246000e+06</td>\n",
              "      <td>-6.705000e+06</td>\n",
              "      <td>7782000.0</td>\n",
              "      <td>-6705000.0</td>\n",
              "    </tr>\n",
              "    <tr>\n",
              "      <th>1621</th>\n",
              "      <td>5.203150e+08</td>\n",
              "      <td>3.807960e+08</td>\n",
              "      <td>3.233080e+08</td>\n",
              "      <td>27808000.0</td>\n",
              "      <td>1.123840e+08</td>\n",
              "      <td>1.401920e+08</td>\n",
              "      <td>7.061000e+06</td>\n",
              "      <td>9417000.0</td>\n",
              "      <td>18391000.0</td>\n",
              "    </tr>\n",
              "    <tr>\n",
              "      <th>1622</th>\n",
              "      <td>1.997210e+08</td>\n",
              "      <td>2.692100e+07</td>\n",
              "      <td>1.728000e+08</td>\n",
              "      <td>0.0</td>\n",
              "      <td>0.000000e+00</td>\n",
              "      <td>0.000000e+00</td>\n",
              "      <td>-3.391900e+07</td>\n",
              "      <td>33919000.0</td>\n",
              "      <td>-33919000.0</td>\n",
              "    </tr>\n",
              "    <tr>\n",
              "      <th>1623</th>\n",
              "      <td>1.333626e+10</td>\n",
              "      <td>1.504531e+10</td>\n",
              "      <td>-8.217640e+08</td>\n",
              "      <td>394720000.0</td>\n",
              "      <td>5.777330e+08</td>\n",
              "      <td>9.724530e+08</td>\n",
              "      <td>6.259500e+07</td>\n",
              "      <td>268445000.0</td>\n",
              "      <td>126275000.0</td>\n",
              "    </tr>\n",
              "  </tbody>\n",
              "</table>\n",
              "<p>1624 rows × 9 columns</p>\n",
              "</div>\n",
              "    <div class=\"colab-df-buttons\">\n",
              "\n",
              "  <div class=\"colab-df-container\">\n",
              "    <button class=\"colab-df-convert\" onclick=\"convertToInteractive('df-135bd930-d9ea-4b5c-a69d-33e08017f0ba')\"\n",
              "            title=\"Convert this dataframe to an interactive table.\"\n",
              "            style=\"display:none;\">\n",
              "\n",
              "  <svg xmlns=\"http://www.w3.org/2000/svg\" height=\"24px\" viewBox=\"0 -960 960 960\">\n",
              "    <path d=\"M120-120v-720h720v720H120Zm60-500h600v-160H180v160Zm220 220h160v-160H400v160Zm0 220h160v-160H400v160ZM180-400h160v-160H180v160Zm440 0h160v-160H620v160ZM180-180h160v-160H180v160Zm440 0h160v-160H620v160Z\"/>\n",
              "  </svg>\n",
              "    </button>\n",
              "\n",
              "  <style>\n",
              "    .colab-df-container {\n",
              "      display:flex;\n",
              "      gap: 12px;\n",
              "    }\n",
              "\n",
              "    .colab-df-convert {\n",
              "      background-color: #E8F0FE;\n",
              "      border: none;\n",
              "      border-radius: 50%;\n",
              "      cursor: pointer;\n",
              "      display: none;\n",
              "      fill: #1967D2;\n",
              "      height: 32px;\n",
              "      padding: 0 0 0 0;\n",
              "      width: 32px;\n",
              "    }\n",
              "\n",
              "    .colab-df-convert:hover {\n",
              "      background-color: #E2EBFA;\n",
              "      box-shadow: 0px 1px 2px rgba(60, 64, 67, 0.3), 0px 1px 3px 1px rgba(60, 64, 67, 0.15);\n",
              "      fill: #174EA6;\n",
              "    }\n",
              "\n",
              "    .colab-df-buttons div {\n",
              "      margin-bottom: 4px;\n",
              "    }\n",
              "\n",
              "    [theme=dark] .colab-df-convert {\n",
              "      background-color: #3B4455;\n",
              "      fill: #D2E3FC;\n",
              "    }\n",
              "\n",
              "    [theme=dark] .colab-df-convert:hover {\n",
              "      background-color: #434B5C;\n",
              "      box-shadow: 0px 1px 3px 1px rgba(0, 0, 0, 0.15);\n",
              "      filter: drop-shadow(0px 1px 2px rgba(0, 0, 0, 0.3));\n",
              "      fill: #FFFFFF;\n",
              "    }\n",
              "  </style>\n",
              "\n",
              "    <script>\n",
              "      const buttonEl =\n",
              "        document.querySelector('#df-135bd930-d9ea-4b5c-a69d-33e08017f0ba button.colab-df-convert');\n",
              "      buttonEl.style.display =\n",
              "        google.colab.kernel.accessAllowed ? 'block' : 'none';\n",
              "\n",
              "      async function convertToInteractive(key) {\n",
              "        const element = document.querySelector('#df-135bd930-d9ea-4b5c-a69d-33e08017f0ba');\n",
              "        const dataTable =\n",
              "          await google.colab.kernel.invokeFunction('convertToInteractive',\n",
              "                                                    [key], {});\n",
              "        if (!dataTable) return;\n",
              "\n",
              "        const docLinkHtml = 'Like what you see? Visit the ' +\n",
              "          '<a target=\"_blank\" href=https://colab.research.google.com/notebooks/data_table.ipynb>data table notebook</a>'\n",
              "          + ' to learn more about interactive tables.';\n",
              "        element.innerHTML = '';\n",
              "        dataTable['output_type'] = 'display_data';\n",
              "        await google.colab.output.renderOutput(dataTable, element);\n",
              "        const docLink = document.createElement('div');\n",
              "        docLink.innerHTML = docLinkHtml;\n",
              "        element.appendChild(docLink);\n",
              "      }\n",
              "    </script>\n",
              "  </div>\n",
              "\n",
              "\n",
              "<div id=\"df-1cc6aca4-2972-4f2a-b83e-82df92ceba56\">\n",
              "  <button class=\"colab-df-quickchart\" onclick=\"quickchart('df-1cc6aca4-2972-4f2a-b83e-82df92ceba56')\"\n",
              "            title=\"Suggest charts\"\n",
              "            style=\"display:none;\">\n",
              "\n",
              "<svg xmlns=\"http://www.w3.org/2000/svg\" height=\"24px\"viewBox=\"0 0 24 24\"\n",
              "     width=\"24px\">\n",
              "    <g>\n",
              "        <path d=\"M19 3H5c-1.1 0-2 .9-2 2v14c0 1.1.9 2 2 2h14c1.1 0 2-.9 2-2V5c0-1.1-.9-2-2-2zM9 17H7v-7h2v7zm4 0h-2V7h2v10zm4 0h-2v-4h2v4z\"/>\n",
              "    </g>\n",
              "</svg>\n",
              "  </button>\n",
              "\n",
              "<style>\n",
              "  .colab-df-quickchart {\n",
              "      --bg-color: #E8F0FE;\n",
              "      --fill-color: #1967D2;\n",
              "      --hover-bg-color: #E2EBFA;\n",
              "      --hover-fill-color: #174EA6;\n",
              "      --disabled-fill-color: #AAA;\n",
              "      --disabled-bg-color: #DDD;\n",
              "  }\n",
              "\n",
              "  [theme=dark] .colab-df-quickchart {\n",
              "      --bg-color: #3B4455;\n",
              "      --fill-color: #D2E3FC;\n",
              "      --hover-bg-color: #434B5C;\n",
              "      --hover-fill-color: #FFFFFF;\n",
              "      --disabled-bg-color: #3B4455;\n",
              "      --disabled-fill-color: #666;\n",
              "  }\n",
              "\n",
              "  .colab-df-quickchart {\n",
              "    background-color: var(--bg-color);\n",
              "    border: none;\n",
              "    border-radius: 50%;\n",
              "    cursor: pointer;\n",
              "    display: none;\n",
              "    fill: var(--fill-color);\n",
              "    height: 32px;\n",
              "    padding: 0;\n",
              "    width: 32px;\n",
              "  }\n",
              "\n",
              "  .colab-df-quickchart:hover {\n",
              "    background-color: var(--hover-bg-color);\n",
              "    box-shadow: 0 1px 2px rgba(60, 64, 67, 0.3), 0 1px 3px 1px rgba(60, 64, 67, 0.15);\n",
              "    fill: var(--button-hover-fill-color);\n",
              "  }\n",
              "\n",
              "  .colab-df-quickchart-complete:disabled,\n",
              "  .colab-df-quickchart-complete:disabled:hover {\n",
              "    background-color: var(--disabled-bg-color);\n",
              "    fill: var(--disabled-fill-color);\n",
              "    box-shadow: none;\n",
              "  }\n",
              "\n",
              "  .colab-df-spinner {\n",
              "    border: 2px solid var(--fill-color);\n",
              "    border-color: transparent;\n",
              "    border-bottom-color: var(--fill-color);\n",
              "    animation:\n",
              "      spin 1s steps(1) infinite;\n",
              "  }\n",
              "\n",
              "  @keyframes spin {\n",
              "    0% {\n",
              "      border-color: transparent;\n",
              "      border-bottom-color: var(--fill-color);\n",
              "      border-left-color: var(--fill-color);\n",
              "    }\n",
              "    20% {\n",
              "      border-color: transparent;\n",
              "      border-left-color: var(--fill-color);\n",
              "      border-top-color: var(--fill-color);\n",
              "    }\n",
              "    30% {\n",
              "      border-color: transparent;\n",
              "      border-left-color: var(--fill-color);\n",
              "      border-top-color: var(--fill-color);\n",
              "      border-right-color: var(--fill-color);\n",
              "    }\n",
              "    40% {\n",
              "      border-color: transparent;\n",
              "      border-right-color: var(--fill-color);\n",
              "      border-top-color: var(--fill-color);\n",
              "    }\n",
              "    60% {\n",
              "      border-color: transparent;\n",
              "      border-right-color: var(--fill-color);\n",
              "    }\n",
              "    80% {\n",
              "      border-color: transparent;\n",
              "      border-right-color: var(--fill-color);\n",
              "      border-bottom-color: var(--fill-color);\n",
              "    }\n",
              "    90% {\n",
              "      border-color: transparent;\n",
              "      border-bottom-color: var(--fill-color);\n",
              "    }\n",
              "  }\n",
              "</style>\n",
              "\n",
              "  <script>\n",
              "    async function quickchart(key) {\n",
              "      const quickchartButtonEl =\n",
              "        document.querySelector('#' + key + ' button');\n",
              "      quickchartButtonEl.disabled = true;  // To prevent multiple clicks.\n",
              "      quickchartButtonEl.classList.add('colab-df-spinner');\n",
              "      try {\n",
              "        const charts = await google.colab.kernel.invokeFunction(\n",
              "            'suggestCharts', [key], {});\n",
              "      } catch (error) {\n",
              "        console.error('Error during call to suggestCharts:', error);\n",
              "      }\n",
              "      quickchartButtonEl.classList.remove('colab-df-spinner');\n",
              "      quickchartButtonEl.classList.add('colab-df-quickchart-complete');\n",
              "    }\n",
              "    (() => {\n",
              "      let quickchartButtonEl =\n",
              "        document.querySelector('#df-1cc6aca4-2972-4f2a-b83e-82df92ceba56 button');\n",
              "      quickchartButtonEl.style.display =\n",
              "        google.colab.kernel.accessAllowed ? 'block' : 'none';\n",
              "    })();\n",
              "  </script>\n",
              "</div>\n",
              "\n",
              "  <div id=\"id_5b1ebb12-ff4c-4289-b54f-db233ebf0b8b\">\n",
              "    <style>\n",
              "      .colab-df-generate {\n",
              "        background-color: #E8F0FE;\n",
              "        border: none;\n",
              "        border-radius: 50%;\n",
              "        cursor: pointer;\n",
              "        display: none;\n",
              "        fill: #1967D2;\n",
              "        height: 32px;\n",
              "        padding: 0 0 0 0;\n",
              "        width: 32px;\n",
              "      }\n",
              "\n",
              "      .colab-df-generate:hover {\n",
              "        background-color: #E2EBFA;\n",
              "        box-shadow: 0px 1px 2px rgba(60, 64, 67, 0.3), 0px 1px 3px 1px rgba(60, 64, 67, 0.15);\n",
              "        fill: #174EA6;\n",
              "      }\n",
              "\n",
              "      [theme=dark] .colab-df-generate {\n",
              "        background-color: #3B4455;\n",
              "        fill: #D2E3FC;\n",
              "      }\n",
              "\n",
              "      [theme=dark] .colab-df-generate:hover {\n",
              "        background-color: #434B5C;\n",
              "        box-shadow: 0px 1px 3px 1px rgba(0, 0, 0, 0.15);\n",
              "        filter: drop-shadow(0px 1px 2px rgba(0, 0, 0, 0.3));\n",
              "        fill: #FFFFFF;\n",
              "      }\n",
              "    </style>\n",
              "    <button class=\"colab-df-generate\" onclick=\"generateWithVariable('targets')\"\n",
              "            title=\"Generate code using this dataframe.\"\n",
              "            style=\"display:none;\">\n",
              "\n",
              "  <svg xmlns=\"http://www.w3.org/2000/svg\" height=\"24px\"viewBox=\"0 0 24 24\"\n",
              "       width=\"24px\">\n",
              "    <path d=\"M7,19H8.4L18.45,9,17,7.55,7,17.6ZM5,21V16.75L18.45,3.32a2,2,0,0,1,2.83,0l1.4,1.43a1.91,1.91,0,0,1,.58,1.4,1.91,1.91,0,0,1-.58,1.4L9.25,21ZM18.45,9,17,7.55Zm-12,3A5.31,5.31,0,0,0,4.9,8.1,5.31,5.31,0,0,0,1,6.5,5.31,5.31,0,0,0,4.9,4.9,5.31,5.31,0,0,0,6.5,1,5.31,5.31,0,0,0,8.1,4.9,5.31,5.31,0,0,0,12,6.5,5.46,5.46,0,0,0,6.5,12Z\"/>\n",
              "  </svg>\n",
              "    </button>\n",
              "    <script>\n",
              "      (() => {\n",
              "      const buttonEl =\n",
              "        document.querySelector('#id_5b1ebb12-ff4c-4289-b54f-db233ebf0b8b button.colab-df-generate');\n",
              "      buttonEl.style.display =\n",
              "        google.colab.kernel.accessAllowed ? 'block' : 'none';\n",
              "\n",
              "      buttonEl.onclick = () => {\n",
              "        google.colab.notebook.generateWithVariable('targets');\n",
              "      }\n",
              "      })();\n",
              "    </script>\n",
              "  </div>\n",
              "\n",
              "    </div>\n",
              "  </div>\n"
            ],
            "application/vnd.google.colaboratory.intrinsic+json": {
              "type": "dataframe",
              "variable_name": "targets",
              "summary": "{\n  \"name\": \"targets\",\n  \"rows\": 1624,\n  \"fields\": [\n    {\n      \"column\": \"Q0_TOTAL_ASSETS\",\n      \"properties\": {\n        \"dtype\": \"number\",\n        \"std\": 26366381533.242573,\n        \"min\": -195331000000.0,\n        \"max\": 384830000000.0,\n        \"num_unique_values\": 1605,\n        \"samples\": [\n          104633000.0,\n          123749000000.0,\n          84073.0\n        ],\n        \"semantic_type\": \"\",\n        \"description\": \"\"\n      }\n    },\n    {\n      \"column\": \"Q0_TOTAL_LIABILITIES\",\n      \"properties\": {\n        \"dtype\": \"number\",\n        \"std\": 16243727637.119396,\n        \"min\": -139965000000.0,\n        \"max\": 212717000000.0,\n        \"num_unique_values\": 1605,\n        \"samples\": [\n          213515000.0,\n          77607000000.0,\n          2814055.0\n        ],\n        \"semantic_type\": \"\",\n        \"description\": \"\"\n      }\n    },\n    {\n      \"column\": \"Q0_TOTAL_STOCKHOLDERS_EQUITY\",\n      \"properties\": {\n        \"dtype\": \"number\",\n        \"std\": 11691092662.952324,\n        \"min\": -97848000000.0,\n        \"max\": 180718140097.6792,\n        \"num_unique_values\": 1603,\n        \"samples\": [\n          3852913.0,\n          119471000.0,\n          -2729982.0\n        ],\n        \"semantic_type\": \"\",\n        \"description\": \"\"\n      }\n    },\n    {\n      \"column\": \"Q0_GROSS_PROFIT\",\n      \"properties\": {\n        \"dtype\": \"number\",\n        \"std\": 1817922670.362002,\n        \"min\": -917000000.0,\n        \"max\": 37186000000.0,\n        \"num_unique_values\": 1545,\n        \"samples\": [\n          1264169.0,\n          25259000.0,\n          127287000.0\n        ],\n        \"semantic_type\": \"\",\n        \"description\": \"\"\n      }\n    },\n    {\n      \"column\": \"Q0_COST_OF_REVENUES\",\n      \"properties\": {\n        \"dtype\": \"number\",\n        \"std\": 3085667452.705768,\n        \"min\": -15873000000.0,\n        \"max\": 50749000000.0,\n        \"num_unique_values\": 1397,\n        \"samples\": [\n          464081000.0,\n          24619000.0,\n          1043000000.0\n        ],\n        \"semantic_type\": \"\",\n        \"description\": \"\"\n      }\n    },\n    {\n      \"column\": \"Q0_REVENUES\",\n      \"properties\": {\n        \"dtype\": \"number\",\n        \"std\": 4041766682.6571074,\n        \"min\": -385000000.0,\n        \"max\": 49048000000.0,\n        \"num_unique_values\": 1542,\n        \"samples\": [\n          211369000.0,\n          140000.0,\n          53201000.0\n        ],\n        \"semantic_type\": \"\",\n        \"description\": \"\"\n      }\n    },\n    {\n      \"column\": \"Q0_OPERATING_INCOME\",\n      \"properties\": {\n        \"dtype\": \"number\",\n        \"std\": 631054263.9453919,\n        \"min\": -2654000000.0,\n        \"max\": 13748000000.0,\n        \"num_unique_values\": 1583,\n        \"samples\": [\n          1916394000.0,\n          19006000.0,\n          -1482000.0\n        ],\n        \"semantic_type\": \"\",\n        \"description\": \"\"\n      }\n    },\n    {\n      \"column\": \"Q0_OPERATING_EXPENSES\",\n      \"properties\": {\n        \"dtype\": \"number\",\n        \"std\": 1553039099.421891,\n        \"min\": -24030000.0,\n        \"max\": 41118000000.0,\n        \"num_unique_values\": 1594,\n        \"samples\": [\n          118830000.0,\n          955990.0,\n          17527879.0\n        ],\n        \"semantic_type\": \"\",\n        \"description\": \"\"\n      }\n    },\n    {\n      \"column\": \"Q0_EBITDA\",\n      \"properties\": {\n        \"dtype\": \"number\",\n        \"std\": 1438215965.4134254,\n        \"min\": -32829000000.0,\n        \"max\": 34138000000.0,\n        \"num_unique_values\": 1584,\n        \"samples\": [\n          234800000.0,\n          444977000.0,\n          11983000.0\n        ],\n        \"semantic_type\": \"\",\n        \"description\": \"\"\n      }\n    }\n  ]\n}"
            }
          },
          "metadata": {},
          "execution_count": 25
        }
      ]
    },
    {
      "cell_type": "code",
      "source": [
        "#model = XGBRegressor()\n",
        "from sklearn.svm import SVC,SVR\n",
        "\n",
        "from sklearn.tree import DecisionTreeClassifier,DecisionTreeRegressor\n",
        "from sklearn.ensemble import RandomForestClassifier,RandomForestRegressor\n",
        "REG_svm = SVR(kernel='rbf',C= 1.0, gamma='auto')\n",
        "\n",
        "rfc=RandomForestClassifier()\n",
        "dfc=DecisionTreeClassifier()\n",
        "d_tree=DecisionTreeRegressor(criterion='squared_error',splitter='random',max_depth=4)\n",
        "rf_forest=RandomForestRegressor(n_estimators=100,criterion='squared_error',max_features='sqrt',max_depth=4)\n",
        "from sklearn.model_selection import StratifiedKFold, cross_val_score, GridSearchCV, RandomizedSearchCV\n",
        "#rfc_param={\"n_estimators\":range(5,150,10),\"max_features\":['sqrt'] ,'max_depth':range(2,50,1) ,\"min_samples_leaf\":range(2,15,1) ,\"min_samples_split\":range(2,25,1)  }\n",
        "#model = XGBRegressor()\n",
        "#reg_tree=RandomizedSearchCV(estimator= d_tree,scoring='r2', param_distributions= rfc_param,cv=2,n_jobs=-1,random_state=42)"
      ],
      "metadata": {
        "papermill": {
          "duration": 0.02542,
          "end_time": "2024-02-22T09:23:49.33112",
          "exception": false,
          "start_time": "2024-02-22T09:23:49.3057",
          "status": "completed"
        },
        "tags": [],
        "execution": {
          "iopub.status.busy": "2024-03-06T19:17:57.862798Z",
          "iopub.execute_input": "2024-03-06T19:17:57.863269Z",
          "iopub.status.idle": "2024-03-06T19:17:57.963678Z",
          "shell.execute_reply.started": "2024-03-06T19:17:57.863229Z",
          "shell.execute_reply": "2024-03-06T19:17:57.962871Z"
        },
        "trusted": true,
        "id": "DkD6NLZt2Cbo"
      },
      "execution_count": null,
      "outputs": []
    },
    {
      "cell_type": "code",
      "source": [
        "print('Cross validation R2 scores for each target:\\n')\n",
        "cross_val_score_results = {}\n",
        "for target in targets:\n",
        "    score = np.round(np.mean(cvs(rf_forest, train, targets[target], cv=12, scoring='r2')),2)\n",
        "    cross_val_score_results[target] = score\n",
        "    print(f'{target} -> {score}')\n",
        "print(f'\\nMean R2 score across all targets: {np.mean(list(cross_val_score_results.values()))}')"
      ],
      "metadata": {
        "papermill": {
          "duration": 64.521823,
          "end_time": "2024-02-22T09:24:53.869062",
          "exception": false,
          "start_time": "2024-02-22T09:23:49.347239",
          "status": "completed"
        },
        "tags": [],
        "execution": {
          "iopub.status.busy": "2024-03-06T19:17:57.965119Z",
          "iopub.execute_input": "2024-03-06T19:17:57.965429Z",
          "iopub.status.idle": "2024-03-06T19:40:12.756867Z",
          "shell.execute_reply.started": "2024-03-06T19:17:57.965403Z",
          "shell.execute_reply": "2024-03-06T19:40:12.755975Z"
        },
        "trusted": true,
        "id": "koGJyly-2Cbp",
        "outputId": "f3102bdf-bc75-4359-e3a9-3e5ae1c94a5c",
        "colab": {
          "base_uri": "https://localhost:8080/"
        }
      },
      "execution_count": null,
      "outputs": [
        {
          "output_type": "stream",
          "name": "stdout",
          "text": [
            "Cross validation R2 scores for each target:\n",
            "\n",
            "Q0_TOTAL_ASSETS -> 0.79\n",
            "Q0_TOTAL_LIABILITIES -> 0.73\n",
            "Q0_TOTAL_STOCKHOLDERS_EQUITY -> 0.74\n",
            "Q0_GROSS_PROFIT -> 0.84\n",
            "Q0_COST_OF_REVENUES -> 0.71\n",
            "Q0_REVENUES -> 0.92\n",
            "Q0_OPERATING_INCOME -> 0.68\n",
            "Q0_OPERATING_EXPENSES -> 0.77\n",
            "Q0_EBITDA -> 0.4\n",
            "\n",
            "Mean R2 score across all targets: 0.7311111111111112\n"
          ]
        }
      ]
    },
    {
      "cell_type": "markdown",
      "source": [
        "Arbitrary results. EBITDA R2 is negative, but the rest are not bad. Let's try to upload a first submission."
      ],
      "metadata": {
        "papermill": {
          "duration": 0.017663,
          "end_time": "2024-02-22T09:24:53.905657",
          "exception": false,
          "start_time": "2024-02-22T09:24:53.887994",
          "status": "completed"
        },
        "tags": [],
        "id": "5zjLNQ7_2Cbq"
      }
    },
    {
      "cell_type": "markdown",
      "source": [
        "## Train same model on the whole trains set, predict on test, save to dictionary"
      ],
      "metadata": {
        "papermill": {
          "duration": 0.017472,
          "end_time": "2024-02-22T09:24:53.940244",
          "exception": false,
          "start_time": "2024-02-22T09:24:53.922772",
          "status": "completed"
        },
        "tags": [],
        "id": "3v5xbpXW2Cbq"
      }
    },
    {
      "cell_type": "code",
      "source": [
        "preds = {}\n",
        "for target in targets:\n",
        "    rf_forest.fit(train, targets[target])\n",
        "    pred = rf_forest.predict(test)\n",
        "    preds[target] = pred\n",
        "    print(f'Finished train/predict for: {target}')"
      ],
      "metadata": {
        "papermill": {
          "duration": 22.850306,
          "end_time": "2024-02-22T09:25:16.80756",
          "exception": false,
          "start_time": "2024-02-22T09:24:53.957254",
          "status": "completed"
        },
        "tags": [],
        "execution": {
          "iopub.status.busy": "2024-03-06T19:40:12.7586Z",
          "iopub.execute_input": "2024-03-06T19:40:12.759136Z",
          "iopub.status.idle": "2024-03-06T19:42:03.180926Z",
          "shell.execute_reply.started": "2024-03-06T19:40:12.759104Z",
          "shell.execute_reply": "2024-03-06T19:42:03.179998Z"
        },
        "trusted": true,
        "id": "KvaqFTvw2Cbr",
        "outputId": "be96616e-7243-4d72-a3da-41b44151cc01",
        "colab": {
          "base_uri": "https://localhost:8080/"
        }
      },
      "execution_count": null,
      "outputs": [
        {
          "output_type": "stream",
          "name": "stdout",
          "text": [
            "Finished train/predict for: Q0_TOTAL_ASSETS\n",
            "Finished train/predict for: Q0_TOTAL_LIABILITIES\n",
            "Finished train/predict for: Q0_TOTAL_STOCKHOLDERS_EQUITY\n",
            "Finished train/predict for: Q0_GROSS_PROFIT\n",
            "Finished train/predict for: Q0_COST_OF_REVENUES\n",
            "Finished train/predict for: Q0_REVENUES\n",
            "Finished train/predict for: Q0_OPERATING_INCOME\n",
            "Finished train/predict for: Q0_OPERATING_EXPENSES\n",
            "Finished train/predict for: Q0_EBITDA\n"
          ]
        }
      ]
    },
    {
      "cell_type": "markdown",
      "source": [
        "## Make submission"
      ],
      "metadata": {
        "papermill": {
          "duration": 0.017542,
          "end_time": "2024-02-22T09:25:16.844707",
          "exception": false,
          "start_time": "2024-02-22T09:25:16.827165",
          "status": "completed"
        },
        "tags": [],
        "id": "scQptVI32Cbs"
      }
    },
    {
      "cell_type": "code",
      "source": [
        "sub = pd.read_csv('/kaggle/input/financial-performance-prediction/sample_submission.csv')"
      ],
      "metadata": {
        "papermill": {
          "duration": 0.03566,
          "end_time": "2024-02-22T09:25:16.898193",
          "exception": false,
          "start_time": "2024-02-22T09:25:16.862533",
          "status": "completed"
        },
        "tags": [],
        "execution": {
          "iopub.status.busy": "2024-03-06T19:42:03.18227Z",
          "iopub.execute_input": "2024-03-06T19:42:03.182865Z",
          "iopub.status.idle": "2024-03-06T19:42:03.19769Z",
          "shell.execute_reply.started": "2024-03-06T19:42:03.18283Z",
          "shell.execute_reply": "2024-03-06T19:42:03.196652Z"
        },
        "trusted": true,
        "id": "uOHE6sLn2Cbs"
      },
      "execution_count": null,
      "outputs": []
    },
    {
      "cell_type": "code",
      "source": [
        "# sanity check\n",
        "sub.Id == test.Id"
      ],
      "metadata": {
        "papermill": {
          "duration": 0.031672,
          "end_time": "2024-02-22T09:25:16.948839",
          "exception": false,
          "start_time": "2024-02-22T09:25:16.917167",
          "status": "completed"
        },
        "tags": [],
        "execution": {
          "iopub.status.busy": "2024-03-06T19:42:03.200032Z",
          "iopub.execute_input": "2024-03-06T19:42:03.201208Z",
          "iopub.status.idle": "2024-03-06T19:42:03.2109Z",
          "shell.execute_reply.started": "2024-03-06T19:42:03.201175Z",
          "shell.execute_reply": "2024-03-06T19:42:03.209974Z"
        },
        "trusted": true,
        "id": "rtFKmTOP2CcE",
        "outputId": "d65ed4aa-edf1-4611-e61a-e2c6296fbcfd",
        "colab": {
          "base_uri": "https://localhost:8080/"
        }
      },
      "execution_count": null,
      "outputs": [
        {
          "output_type": "execute_result",
          "data": {
            "text/plain": [
              "0      True\n",
              "1      True\n",
              "2      True\n",
              "3      True\n",
              "4      True\n",
              "       ... \n",
              "401    True\n",
              "402    True\n",
              "403    True\n",
              "404    True\n",
              "405    True\n",
              "Name: Id, Length: 406, dtype: bool"
            ]
          },
          "metadata": {},
          "execution_count": 35
        }
      ]
    },
    {
      "cell_type": "code",
      "source": [
        "for target in preds:\n",
        "    sub[target] = preds[target]\n",
        "sub.head()"
      ],
      "metadata": {
        "papermill": {
          "duration": 0.044316,
          "end_time": "2024-02-22T09:25:17.010967",
          "exception": false,
          "start_time": "2024-02-22T09:25:16.966651",
          "status": "completed"
        },
        "tags": [],
        "execution": {
          "iopub.status.busy": "2024-03-06T19:42:03.21433Z",
          "iopub.execute_input": "2024-03-06T19:42:03.214635Z",
          "iopub.status.idle": "2024-03-06T19:42:03.240904Z",
          "shell.execute_reply.started": "2024-03-06T19:42:03.214608Z",
          "shell.execute_reply": "2024-03-06T19:42:03.240129Z"
        },
        "trusted": true,
        "id": "ZpZeW1vs2CcG",
        "outputId": "a8da5a93-31d1-40d1-9ccb-62edd9878b98",
        "colab": {
          "base_uri": "https://localhost:8080/",
          "height": 226
        }
      },
      "execution_count": null,
      "outputs": [
        {
          "output_type": "execute_result",
          "data": {
            "text/plain": [
              "     Id   Q0_REVENUES  Q0_COST_OF_REVENUES  Q0_GROSS_PROFIT  \\\n",
              "0   480  9.001853e+07         6.825200e+07     4.257313e+07   \n",
              "1   573  6.635007e+08         2.726721e+08     2.187720e+08   \n",
              "2  1967  9.001853e+07         6.825200e+07     4.257313e+07   \n",
              "3    57  5.336543e+08         2.365506e+08     1.928885e+08   \n",
              "4   131  9.962814e+08         5.923204e+08     2.274750e+08   \n",
              "\n",
              "   Q0_OPERATING_EXPENSES     Q0_EBITDA  Q0_OPERATING_INCOME  Q0_TOTAL_ASSETS  \\\n",
              "0           5.602620e+07  1.813353e+07         9.851067e+06     1.511322e+09   \n",
              "1           1.451013e+08  2.114276e+07         1.865113e+07     2.005438e+09   \n",
              "2           5.602620e+07  1.813353e+07         9.851067e+06     1.511322e+09   \n",
              "3           1.463315e+08  1.813353e+07         1.289893e+07     3.425588e+09   \n",
              "4           1.440662e+08  1.813353e+07         2.316970e+07     2.087821e+09   \n",
              "\n",
              "   Q0_TOTAL_LIABILITIES  Q0_TOTAL_STOCKHOLDERS_EQUITY  \n",
              "0          1.009448e+09                  5.232890e+08  \n",
              "1          1.182925e+09                  6.781016e+08  \n",
              "2          1.009448e+09                  5.232890e+08  \n",
              "3          1.591641e+09                  1.639058e+09  \n",
              "4          1.416102e+09                  7.727620e+08  "
            ],
            "text/html": [
              "\n",
              "  <div id=\"df-ea967ce5-1f3a-4638-bd22-a401bd8095cb\" class=\"colab-df-container\">\n",
              "    <div>\n",
              "<style scoped>\n",
              "    .dataframe tbody tr th:only-of-type {\n",
              "        vertical-align: middle;\n",
              "    }\n",
              "\n",
              "    .dataframe tbody tr th {\n",
              "        vertical-align: top;\n",
              "    }\n",
              "\n",
              "    .dataframe thead th {\n",
              "        text-align: right;\n",
              "    }\n",
              "</style>\n",
              "<table border=\"1\" class=\"dataframe\">\n",
              "  <thead>\n",
              "    <tr style=\"text-align: right;\">\n",
              "      <th></th>\n",
              "      <th>Id</th>\n",
              "      <th>Q0_REVENUES</th>\n",
              "      <th>Q0_COST_OF_REVENUES</th>\n",
              "      <th>Q0_GROSS_PROFIT</th>\n",
              "      <th>Q0_OPERATING_EXPENSES</th>\n",
              "      <th>Q0_EBITDA</th>\n",
              "      <th>Q0_OPERATING_INCOME</th>\n",
              "      <th>Q0_TOTAL_ASSETS</th>\n",
              "      <th>Q0_TOTAL_LIABILITIES</th>\n",
              "      <th>Q0_TOTAL_STOCKHOLDERS_EQUITY</th>\n",
              "    </tr>\n",
              "  </thead>\n",
              "  <tbody>\n",
              "    <tr>\n",
              "      <th>0</th>\n",
              "      <td>480</td>\n",
              "      <td>9.001853e+07</td>\n",
              "      <td>6.825200e+07</td>\n",
              "      <td>4.257313e+07</td>\n",
              "      <td>5.602620e+07</td>\n",
              "      <td>1.813353e+07</td>\n",
              "      <td>9.851067e+06</td>\n",
              "      <td>1.511322e+09</td>\n",
              "      <td>1.009448e+09</td>\n",
              "      <td>5.232890e+08</td>\n",
              "    </tr>\n",
              "    <tr>\n",
              "      <th>1</th>\n",
              "      <td>573</td>\n",
              "      <td>6.635007e+08</td>\n",
              "      <td>2.726721e+08</td>\n",
              "      <td>2.187720e+08</td>\n",
              "      <td>1.451013e+08</td>\n",
              "      <td>2.114276e+07</td>\n",
              "      <td>1.865113e+07</td>\n",
              "      <td>2.005438e+09</td>\n",
              "      <td>1.182925e+09</td>\n",
              "      <td>6.781016e+08</td>\n",
              "    </tr>\n",
              "    <tr>\n",
              "      <th>2</th>\n",
              "      <td>1967</td>\n",
              "      <td>9.001853e+07</td>\n",
              "      <td>6.825200e+07</td>\n",
              "      <td>4.257313e+07</td>\n",
              "      <td>5.602620e+07</td>\n",
              "      <td>1.813353e+07</td>\n",
              "      <td>9.851067e+06</td>\n",
              "      <td>1.511322e+09</td>\n",
              "      <td>1.009448e+09</td>\n",
              "      <td>5.232890e+08</td>\n",
              "    </tr>\n",
              "    <tr>\n",
              "      <th>3</th>\n",
              "      <td>57</td>\n",
              "      <td>5.336543e+08</td>\n",
              "      <td>2.365506e+08</td>\n",
              "      <td>1.928885e+08</td>\n",
              "      <td>1.463315e+08</td>\n",
              "      <td>1.813353e+07</td>\n",
              "      <td>1.289893e+07</td>\n",
              "      <td>3.425588e+09</td>\n",
              "      <td>1.591641e+09</td>\n",
              "      <td>1.639058e+09</td>\n",
              "    </tr>\n",
              "    <tr>\n",
              "      <th>4</th>\n",
              "      <td>131</td>\n",
              "      <td>9.962814e+08</td>\n",
              "      <td>5.923204e+08</td>\n",
              "      <td>2.274750e+08</td>\n",
              "      <td>1.440662e+08</td>\n",
              "      <td>1.813353e+07</td>\n",
              "      <td>2.316970e+07</td>\n",
              "      <td>2.087821e+09</td>\n",
              "      <td>1.416102e+09</td>\n",
              "      <td>7.727620e+08</td>\n",
              "    </tr>\n",
              "  </tbody>\n",
              "</table>\n",
              "</div>\n",
              "    <div class=\"colab-df-buttons\">\n",
              "\n",
              "  <div class=\"colab-df-container\">\n",
              "    <button class=\"colab-df-convert\" onclick=\"convertToInteractive('df-ea967ce5-1f3a-4638-bd22-a401bd8095cb')\"\n",
              "            title=\"Convert this dataframe to an interactive table.\"\n",
              "            style=\"display:none;\">\n",
              "\n",
              "  <svg xmlns=\"http://www.w3.org/2000/svg\" height=\"24px\" viewBox=\"0 -960 960 960\">\n",
              "    <path d=\"M120-120v-720h720v720H120Zm60-500h600v-160H180v160Zm220 220h160v-160H400v160Zm0 220h160v-160H400v160ZM180-400h160v-160H180v160Zm440 0h160v-160H620v160ZM180-180h160v-160H180v160Zm440 0h160v-160H620v160Z\"/>\n",
              "  </svg>\n",
              "    </button>\n",
              "\n",
              "  <style>\n",
              "    .colab-df-container {\n",
              "      display:flex;\n",
              "      gap: 12px;\n",
              "    }\n",
              "\n",
              "    .colab-df-convert {\n",
              "      background-color: #E8F0FE;\n",
              "      border: none;\n",
              "      border-radius: 50%;\n",
              "      cursor: pointer;\n",
              "      display: none;\n",
              "      fill: #1967D2;\n",
              "      height: 32px;\n",
              "      padding: 0 0 0 0;\n",
              "      width: 32px;\n",
              "    }\n",
              "\n",
              "    .colab-df-convert:hover {\n",
              "      background-color: #E2EBFA;\n",
              "      box-shadow: 0px 1px 2px rgba(60, 64, 67, 0.3), 0px 1px 3px 1px rgba(60, 64, 67, 0.15);\n",
              "      fill: #174EA6;\n",
              "    }\n",
              "\n",
              "    .colab-df-buttons div {\n",
              "      margin-bottom: 4px;\n",
              "    }\n",
              "\n",
              "    [theme=dark] .colab-df-convert {\n",
              "      background-color: #3B4455;\n",
              "      fill: #D2E3FC;\n",
              "    }\n",
              "\n",
              "    [theme=dark] .colab-df-convert:hover {\n",
              "      background-color: #434B5C;\n",
              "      box-shadow: 0px 1px 3px 1px rgba(0, 0, 0, 0.15);\n",
              "      filter: drop-shadow(0px 1px 2px rgba(0, 0, 0, 0.3));\n",
              "      fill: #FFFFFF;\n",
              "    }\n",
              "  </style>\n",
              "\n",
              "    <script>\n",
              "      const buttonEl =\n",
              "        document.querySelector('#df-ea967ce5-1f3a-4638-bd22-a401bd8095cb button.colab-df-convert');\n",
              "      buttonEl.style.display =\n",
              "        google.colab.kernel.accessAllowed ? 'block' : 'none';\n",
              "\n",
              "      async function convertToInteractive(key) {\n",
              "        const element = document.querySelector('#df-ea967ce5-1f3a-4638-bd22-a401bd8095cb');\n",
              "        const dataTable =\n",
              "          await google.colab.kernel.invokeFunction('convertToInteractive',\n",
              "                                                    [key], {});\n",
              "        if (!dataTable) return;\n",
              "\n",
              "        const docLinkHtml = 'Like what you see? Visit the ' +\n",
              "          '<a target=\"_blank\" href=https://colab.research.google.com/notebooks/data_table.ipynb>data table notebook</a>'\n",
              "          + ' to learn more about interactive tables.';\n",
              "        element.innerHTML = '';\n",
              "        dataTable['output_type'] = 'display_data';\n",
              "        await google.colab.output.renderOutput(dataTable, element);\n",
              "        const docLink = document.createElement('div');\n",
              "        docLink.innerHTML = docLinkHtml;\n",
              "        element.appendChild(docLink);\n",
              "      }\n",
              "    </script>\n",
              "  </div>\n",
              "\n",
              "\n",
              "<div id=\"df-ccaf9822-cea3-4758-82ec-3bb577ff90dd\">\n",
              "  <button class=\"colab-df-quickchart\" onclick=\"quickchart('df-ccaf9822-cea3-4758-82ec-3bb577ff90dd')\"\n",
              "            title=\"Suggest charts\"\n",
              "            style=\"display:none;\">\n",
              "\n",
              "<svg xmlns=\"http://www.w3.org/2000/svg\" height=\"24px\"viewBox=\"0 0 24 24\"\n",
              "     width=\"24px\">\n",
              "    <g>\n",
              "        <path d=\"M19 3H5c-1.1 0-2 .9-2 2v14c0 1.1.9 2 2 2h14c1.1 0 2-.9 2-2V5c0-1.1-.9-2-2-2zM9 17H7v-7h2v7zm4 0h-2V7h2v10zm4 0h-2v-4h2v4z\"/>\n",
              "    </g>\n",
              "</svg>\n",
              "  </button>\n",
              "\n",
              "<style>\n",
              "  .colab-df-quickchart {\n",
              "      --bg-color: #E8F0FE;\n",
              "      --fill-color: #1967D2;\n",
              "      --hover-bg-color: #E2EBFA;\n",
              "      --hover-fill-color: #174EA6;\n",
              "      --disabled-fill-color: #AAA;\n",
              "      --disabled-bg-color: #DDD;\n",
              "  }\n",
              "\n",
              "  [theme=dark] .colab-df-quickchart {\n",
              "      --bg-color: #3B4455;\n",
              "      --fill-color: #D2E3FC;\n",
              "      --hover-bg-color: #434B5C;\n",
              "      --hover-fill-color: #FFFFFF;\n",
              "      --disabled-bg-color: #3B4455;\n",
              "      --disabled-fill-color: #666;\n",
              "  }\n",
              "\n",
              "  .colab-df-quickchart {\n",
              "    background-color: var(--bg-color);\n",
              "    border: none;\n",
              "    border-radius: 50%;\n",
              "    cursor: pointer;\n",
              "    display: none;\n",
              "    fill: var(--fill-color);\n",
              "    height: 32px;\n",
              "    padding: 0;\n",
              "    width: 32px;\n",
              "  }\n",
              "\n",
              "  .colab-df-quickchart:hover {\n",
              "    background-color: var(--hover-bg-color);\n",
              "    box-shadow: 0 1px 2px rgba(60, 64, 67, 0.3), 0 1px 3px 1px rgba(60, 64, 67, 0.15);\n",
              "    fill: var(--button-hover-fill-color);\n",
              "  }\n",
              "\n",
              "  .colab-df-quickchart-complete:disabled,\n",
              "  .colab-df-quickchart-complete:disabled:hover {\n",
              "    background-color: var(--disabled-bg-color);\n",
              "    fill: var(--disabled-fill-color);\n",
              "    box-shadow: none;\n",
              "  }\n",
              "\n",
              "  .colab-df-spinner {\n",
              "    border: 2px solid var(--fill-color);\n",
              "    border-color: transparent;\n",
              "    border-bottom-color: var(--fill-color);\n",
              "    animation:\n",
              "      spin 1s steps(1) infinite;\n",
              "  }\n",
              "\n",
              "  @keyframes spin {\n",
              "    0% {\n",
              "      border-color: transparent;\n",
              "      border-bottom-color: var(--fill-color);\n",
              "      border-left-color: var(--fill-color);\n",
              "    }\n",
              "    20% {\n",
              "      border-color: transparent;\n",
              "      border-left-color: var(--fill-color);\n",
              "      border-top-color: var(--fill-color);\n",
              "    }\n",
              "    30% {\n",
              "      border-color: transparent;\n",
              "      border-left-color: var(--fill-color);\n",
              "      border-top-color: var(--fill-color);\n",
              "      border-right-color: var(--fill-color);\n",
              "    }\n",
              "    40% {\n",
              "      border-color: transparent;\n",
              "      border-right-color: var(--fill-color);\n",
              "      border-top-color: var(--fill-color);\n",
              "    }\n",
              "    60% {\n",
              "      border-color: transparent;\n",
              "      border-right-color: var(--fill-color);\n",
              "    }\n",
              "    80% {\n",
              "      border-color: transparent;\n",
              "      border-right-color: var(--fill-color);\n",
              "      border-bottom-color: var(--fill-color);\n",
              "    }\n",
              "    90% {\n",
              "      border-color: transparent;\n",
              "      border-bottom-color: var(--fill-color);\n",
              "    }\n",
              "  }\n",
              "</style>\n",
              "\n",
              "  <script>\n",
              "    async function quickchart(key) {\n",
              "      const quickchartButtonEl =\n",
              "        document.querySelector('#' + key + ' button');\n",
              "      quickchartButtonEl.disabled = true;  // To prevent multiple clicks.\n",
              "      quickchartButtonEl.classList.add('colab-df-spinner');\n",
              "      try {\n",
              "        const charts = await google.colab.kernel.invokeFunction(\n",
              "            'suggestCharts', [key], {});\n",
              "      } catch (error) {\n",
              "        console.error('Error during call to suggestCharts:', error);\n",
              "      }\n",
              "      quickchartButtonEl.classList.remove('colab-df-spinner');\n",
              "      quickchartButtonEl.classList.add('colab-df-quickchart-complete');\n",
              "    }\n",
              "    (() => {\n",
              "      let quickchartButtonEl =\n",
              "        document.querySelector('#df-ccaf9822-cea3-4758-82ec-3bb577ff90dd button');\n",
              "      quickchartButtonEl.style.display =\n",
              "        google.colab.kernel.accessAllowed ? 'block' : 'none';\n",
              "    })();\n",
              "  </script>\n",
              "</div>\n",
              "\n",
              "    </div>\n",
              "  </div>\n"
            ],
            "application/vnd.google.colaboratory.intrinsic+json": {
              "type": "dataframe",
              "variable_name": "sub",
              "summary": "{\n  \"name\": \"sub\",\n  \"rows\": 406,\n  \"fields\": [\n    {\n      \"column\": \"Id\",\n      \"properties\": {\n        \"dtype\": \"number\",\n        \"std\": 590,\n        \"min\": 2,\n        \"max\": 2026,\n        \"num_unique_values\": 406,\n        \"samples\": [\n          1300,\n          1914,\n          519\n        ],\n        \"semantic_type\": \"\",\n        \"description\": \"\"\n      }\n    },\n    {\n      \"column\": \"Q0_REVENUES\",\n      \"properties\": {\n        \"dtype\": \"number\",\n        \"std\": 3780727837.508665,\n        \"min\": 90018530.26274282,\n        \"max\": 41730788537.51804,\n        \"num_unique_values\": 187,\n        \"samples\": [\n          1675412080.7605405,\n          5106057692.455826,\n          544459734.6556607\n        ],\n        \"semantic_type\": \"\",\n        \"description\": \"\"\n      }\n    },\n    {\n      \"column\": \"Q0_COST_OF_REVENUES\",\n      \"properties\": {\n        \"dtype\": \"number\",\n        \"std\": 2692849021.5245194,\n        \"min\": 68252004.69952889,\n        \"max\": 34378416803.088005,\n        \"num_unique_values\": 196,\n        \"samples\": [\n          79684209.26975001,\n          305964673.7968686,\n          3103513125.0184627\n        ],\n        \"semantic_type\": \"\",\n        \"description\": \"\"\n      }\n    },\n    {\n      \"column\": \"Q0_GROSS_PROFIT\",\n      \"properties\": {\n        \"dtype\": \"number\",\n        \"std\": 1864258361.1578825,\n        \"min\": 42573129.50379623,\n        \"max\": 24000505329.365078,\n        \"num_unique_values\": 203,\n        \"samples\": [\n          1977946033.5428793,\n          638000474.0718616,\n          57588353.303374626\n        ],\n        \"semantic_type\": \"\",\n        \"description\": \"\"\n      }\n    },\n    {\n      \"column\": \"Q0_OPERATING_EXPENSES\",\n      \"properties\": {\n        \"dtype\": \"number\",\n        \"std\": 1452939884.5313115,\n        \"min\": 56026197.80843446,\n        \"max\": 20174460220.265957,\n        \"num_unique_values\": 203,\n        \"samples\": [\n          345267632.93548167,\n          105239422.20234403,\n          59225764.05736638\n        ],\n        \"semantic_type\": \"\",\n        \"description\": \"\"\n      }\n    },\n    {\n      \"column\": \"Q0_EBITDA\",\n      \"properties\": {\n        \"dtype\": \"number\",\n        \"std\": 1101263844.362607,\n        \"min\": -2946279966.9678698,\n        \"max\": 20865408651.40637,\n        \"num_unique_values\": 90,\n        \"samples\": [\n          300469018.93941176,\n          23158861.491248187,\n          723416021.8689669\n        ],\n        \"semantic_type\": \"\",\n        \"description\": \"\"\n      }\n    },\n    {\n      \"column\": \"Q0_OPERATING_INCOME\",\n      \"properties\": {\n        \"dtype\": \"number\",\n        \"std\": 552984394.4196707,\n        \"min\": -1465811583.399215,\n        \"max\": 7781506822.222223,\n        \"num_unique_values\": 138,\n        \"samples\": [\n          85985618.98603575,\n          2202523138.7950597,\n          425954444.0111694\n        ],\n        \"semantic_type\": \"\",\n        \"description\": \"\"\n      }\n    },\n    {\n      \"column\": \"Q0_TOTAL_ASSETS\",\n      \"properties\": {\n        \"dtype\": \"number\",\n        \"std\": 27240157590.303688,\n        \"min\": -136775380620.57387,\n        \"max\": 251470664833.33337,\n        \"num_unique_values\": 122,\n        \"samples\": [\n          4179379345.9925356,\n          12277509623.901411,\n          52128880528.87977\n        ],\n        \"semantic_type\": \"\",\n        \"description\": \"\"\n      }\n    },\n    {\n      \"column\": \"Q0_TOTAL_LIABILITIES\",\n      \"properties\": {\n        \"dtype\": \"number\",\n        \"std\": 17582123437.971508,\n        \"min\": -35629353332.747986,\n        \"max\": 209134208599.0232,\n        \"num_unique_values\": 123,\n        \"samples\": [\n          1769865365.2149198,\n          2312507641.5003686,\n          5116716963.473129\n        ],\n        \"semantic_type\": \"\",\n        \"description\": \"\"\n      }\n    },\n    {\n      \"column\": \"Q0_TOTAL_STOCKHOLDERS_EQUITY\",\n      \"properties\": {\n        \"dtype\": \"number\",\n        \"std\": 10139368896.012495,\n        \"min\": -97848000000.0,\n        \"max\": 99655472586.87596,\n        \"num_unique_values\": 146,\n        \"samples\": [\n          -750681275.6099472,\n          534157490.4459353,\n          588642456.5210661\n        ],\n        \"semantic_type\": \"\",\n        \"description\": \"\"\n      }\n    }\n  ]\n}"
            }
          },
          "metadata": {},
          "execution_count": 36
        }
      ]
    },
    {
      "cell_type": "code",
      "source": [
        "sub.to_csv('submission.csv', index = False)"
      ],
      "metadata": {
        "papermill": {
          "duration": 0.036792,
          "end_time": "2024-02-22T09:25:17.066324",
          "exception": false,
          "start_time": "2024-02-22T09:25:17.029532",
          "status": "completed"
        },
        "tags": [],
        "execution": {
          "iopub.status.busy": "2024-03-06T19:42:03.242268Z",
          "iopub.execute_input": "2024-03-06T19:42:03.242905Z",
          "iopub.status.idle": "2024-03-06T19:42:03.260181Z",
          "shell.execute_reply.started": "2024-03-06T19:42:03.242873Z",
          "shell.execute_reply": "2024-03-06T19:42:03.259377Z"
        },
        "trusted": true,
        "id": "dcQWSLSk2CcH"
      },
      "execution_count": null,
      "outputs": []
    },
    {
      "cell_type": "code",
      "source": [
        "#ids = np.array(sub.Id)\n",
        "#preds.keys()"
      ],
      "metadata": {
        "papermill": {
          "duration": 0.027094,
          "end_time": "2024-02-22T09:25:17.111951",
          "exception": false,
          "start_time": "2024-02-22T09:25:17.084857",
          "status": "completed"
        },
        "tags": [],
        "execution": {
          "iopub.status.busy": "2024-03-06T19:42:03.261548Z",
          "iopub.execute_input": "2024-03-06T19:42:03.262122Z",
          "iopub.status.idle": "2024-03-06T19:42:03.267726Z",
          "shell.execute_reply.started": "2024-03-06T19:42:03.262092Z",
          "shell.execute_reply": "2024-03-06T19:42:03.266596Z"
        },
        "trusted": true,
        "id": "SauFGnqb2CcI"
      },
      "execution_count": null,
      "outputs": []
    },
    {
      "cell_type": "code",
      "source": [
        "# Write the submission file\n",
        "#np.savetxt(\n",
        "#    'submission.csv',\n",
        "#    np.rec.fromarrays([ids] + [pred for pred in list(preds.values())]),\n",
        "#    fmt=['%s', '%d', '%d', '%d', '%d', '%d', '%d', '%d', '%d', '%d'],\n",
        "#    delimiter=',',\n",
        "#    header='Id,Q0_TOTAL_ASSETS,Q0_TOTAL_LIABILITIES,Q0_TOTAL_STOCKHOLDERS_EQUITY,Q0_GROSS_PROFIT,Q0_COST_OF_REVENUES,Q0_REVENUES,Q0_OPERATING_INCOME,Q0_OPERATING_EXPENSES,Q0_EBITDA',\n",
        "#    comments='submission description from code',\n",
        "#)"
      ],
      "metadata": {
        "papermill": {
          "duration": 0.027425,
          "end_time": "2024-02-22T09:25:17.157558",
          "exception": false,
          "start_time": "2024-02-22T09:25:17.130133",
          "status": "completed"
        },
        "tags": [],
        "execution": {
          "iopub.status.busy": "2024-03-06T19:42:03.270687Z",
          "iopub.execute_input": "2024-03-06T19:42:03.271026Z",
          "iopub.status.idle": "2024-03-06T19:42:03.279237Z",
          "shell.execute_reply.started": "2024-03-06T19:42:03.270999Z",
          "shell.execute_reply": "2024-03-06T19:42:03.278346Z"
        },
        "trusted": true,
        "id": "ykzVcjD62CcJ"
      },
      "execution_count": null,
      "outputs": []
    },
    {
      "cell_type": "code",
      "source": [],
      "metadata": {
        "papermill": {
          "duration": 0.018005,
          "end_time": "2024-02-22T09:25:17.195709",
          "exception": false,
          "start_time": "2024-02-22T09:25:17.177704",
          "status": "completed"
        },
        "tags": [],
        "id": "cTW88tTT2CcK"
      },
      "execution_count": null,
      "outputs": []
    }
  ]
}