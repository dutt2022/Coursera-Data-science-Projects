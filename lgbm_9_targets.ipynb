{
  "metadata": {
    "kaggle": {
      "accelerator": "gpu",
      "dataSources": [
        {
          "sourceId": 70781,
          "databundleVersionId": 7733789,
          "sourceType": "competition"
        }
      ],
      "dockerImageVersionId": 30665,
      "isInternetEnabled": true,
      "language": "python",
      "sourceType": "notebook",
      "isGpuEnabled": true
    },
    "kernelspec": {
      "display_name": "Python 3",
      "name": "python3"
    },
    "language_info": {
      "codemirror_mode": {
        "name": "ipython",
        "version": 3
      },
      "file_extension": ".py",
      "mimetype": "text/x-python",
      "name": "python",
      "nbconvert_exporter": "python",
      "pygments_lexer": "ipython3",
      "version": "3.10.13"
    },
    "papermill": {
      "default_parameters": {},
      "duration": 96.042567,
      "end_time": "2024-02-22T09:25:17.83608",
      "environment_variables": {},
      "exception": null,
      "input_path": "__notebook__.ipynb",
      "output_path": "__notebook__.ipynb",
      "parameters": {},
      "start_time": "2024-02-22T09:23:41.793513",
      "version": "2.5.0"
    },
    "colab": {
      "name": "lgbm_9 targets",
      "provenance": [],
      "gpuType": "T4",
      "include_colab_link": true
    },
    "accelerator": "GPU"
  },
  "nbformat_minor": 0,
  "nbformat": 4,
  "cells": [
    {
      "cell_type": "markdown",
      "metadata": {
        "id": "view-in-github",
        "colab_type": "text"
      },
      "source": [
        "<a href=\"https://colab.research.google.com/github/dutt2022/Coursera-Data-science-Projects/blob/main/lgbm_9_targets.ipynb\" target=\"_parent\"><img src=\"https://colab.research.google.com/assets/colab-badge.svg\" alt=\"Open In Colab\"/></a>"
      ]
    },
    {
      "source": [
        "\n",
        "# IMPORTANT: RUN THIS CELL IN ORDER TO IMPORT YOUR KAGGLE DATA SOURCES\n",
        "# TO THE CORRECT LOCATION (/kaggle/input) IN YOUR NOTEBOOK,\n",
        "# THEN FEEL FREE TO DELETE THIS CELL.\n",
        "# NOTE: THIS NOTEBOOK ENVIRONMENT DIFFERS FROM KAGGLE'S PYTHON\n",
        "# ENVIRONMENT SO THERE MAY BE MISSING LIBRARIES USED BY YOUR\n",
        "# NOTEBOOK.\n",
        "\n",
        "import os\n",
        "import sys\n",
        "from tempfile import NamedTemporaryFile\n",
        "from urllib.request import urlopen\n",
        "from urllib.parse import unquote, urlparse\n",
        "from urllib.error import HTTPError\n",
        "from zipfile import ZipFile\n",
        "import tarfile\n",
        "import shutil\n",
        "\n",
        "CHUNK_SIZE = 40960\n",
        "DATA_SOURCE_MAPPING = 'financial-performance-prediction:https%3A%2F%2Fstorage.googleapis.com%2Fkaggle-competitions-data%2Fkaggle-v2%2F70781%2F7733789%2Fbundle%2Farchive.zip%3FX-Goog-Algorithm%3DGOOG4-RSA-SHA256%26X-Goog-Credential%3Dgcp-kaggle-com%2540kaggle-161607.iam.gserviceaccount.com%252F20240307%252Fauto%252Fstorage%252Fgoog4_request%26X-Goog-Date%3D20240307T122440Z%26X-Goog-Expires%3D259200%26X-Goog-SignedHeaders%3Dhost%26X-Goog-Signature%3D7fc584059c41e575ba0f44f74051ef83ec229d23b402ba0c622b3a5e45868335511b1f4a9aabdf04cc78f3bce274e788516a2fa69df0e4ed3de8c512fbc6dda17e4e452b15fd86e73f60cc0aeba050abbbea9b08fd73fa080fe7a23a56283684bbb796274a321f86155c442f3f43b41bd24d7d3e565717daac3a35c6ef510039683dadf687f5449618ed86e22350ce2166f3c7e7260012bd14eaca878cb55c4f24e1b6c7f6386941b3d6ceff300dc219ccb40d3b74e45e7631ac79e3c94c5671fa7ccd88fb1a1e059a723603b7c7ea42755498af789d270794ddd990fb00ec18bef20b89618882578a7d95ec66f6d0ddd0872504bacf52ee1111922012a439be'\n",
        "\n",
        "KAGGLE_INPUT_PATH='/kaggle/input'\n",
        "KAGGLE_WORKING_PATH='/kaggle/working'\n",
        "KAGGLE_SYMLINK='kaggle'\n",
        "\n",
        "!umount /kaggle/input/ 2> /dev/null\n",
        "shutil.rmtree('/kaggle/input', ignore_errors=True)\n",
        "os.makedirs(KAGGLE_INPUT_PATH, 0o777, exist_ok=True)\n",
        "os.makedirs(KAGGLE_WORKING_PATH, 0o777, exist_ok=True)\n",
        "\n",
        "try:\n",
        "  os.symlink(KAGGLE_INPUT_PATH, os.path.join(\"..\", 'input'), target_is_directory=True)\n",
        "except FileExistsError:\n",
        "  pass\n",
        "try:\n",
        "  os.symlink(KAGGLE_WORKING_PATH, os.path.join(\"..\", 'working'), target_is_directory=True)\n",
        "except FileExistsError:\n",
        "  pass\n",
        "\n",
        "for data_source_mapping in DATA_SOURCE_MAPPING.split(','):\n",
        "    directory, download_url_encoded = data_source_mapping.split(':')\n",
        "    download_url = unquote(download_url_encoded)\n",
        "    filename = urlparse(download_url).path\n",
        "    destination_path = os.path.join(KAGGLE_INPUT_PATH, directory)\n",
        "    try:\n",
        "        with urlopen(download_url) as fileres, NamedTemporaryFile() as tfile:\n",
        "            total_length = fileres.headers['content-length']\n",
        "            print(f'Downloading {directory}, {total_length} bytes compressed')\n",
        "            dl = 0\n",
        "            data = fileres.read(CHUNK_SIZE)\n",
        "            while len(data) > 0:\n",
        "                dl += len(data)\n",
        "                tfile.write(data)\n",
        "                done = int(50 * dl / int(total_length))\n",
        "                sys.stdout.write(f\"\\r[{'=' * done}{' ' * (50-done)}] {dl} bytes downloaded\")\n",
        "                sys.stdout.flush()\n",
        "                data = fileres.read(CHUNK_SIZE)\n",
        "            if filename.endswith('.zip'):\n",
        "              with ZipFile(tfile) as zfile:\n",
        "                zfile.extractall(destination_path)\n",
        "            else:\n",
        "              with tarfile.open(tfile.name) as tarfile:\n",
        "                tarfile.extractall(destination_path)\n",
        "            print(f'\\nDownloaded and uncompressed: {directory}')\n",
        "    except HTTPError as e:\n",
        "        print(f'Failed to load (likely expired) {download_url} to path {destination_path}')\n",
        "        continue\n",
        "    except OSError as e:\n",
        "        print(f'Failed to load {download_url} to path {destination_path}')\n",
        "        continue\n",
        "\n",
        "print('Data source import complete.')\n"
      ],
      "metadata": {
        "colab": {
          "base_uri": "https://localhost:8080/"
        },
        "id": "6EgabowG34ax",
        "outputId": "003487eb-9f31-4d9d-9c24-5b108dc93dde"
      },
      "cell_type": "code",
      "outputs": [
        {
          "output_type": "stream",
          "name": "stdout",
          "text": [
            "Downloading financial-performance-prediction, 1436515 bytes compressed\n",
            "[==================================================] 1436515 bytes downloaded\n",
            "Downloaded and uncompressed: financial-performance-prediction\n",
            "Data source import complete.\n"
          ]
        }
      ],
      "execution_count": 1
    },
    {
      "cell_type": "code",
      "source": [
        "\n",
        "import numpy as np # linear algebra\n",
        "import pandas as pd # data processing, CSV file I/O (e.g. pd.read_csv)\n",
        "import warnings\n",
        "warnings.simplefilter(action='ignore', category=FutureWarning)\n",
        "from sklearn.model_selection import cross_val_score as cvs\n",
        "from xgboost import XGBRegressor\n",
        "from lightgbm import LGBMRegressor\n",
        "import os\n",
        "for dirname, _, filenames in os.walk('/kaggle/input'):\n",
        "    for filename in filenames:\n",
        "        print(os.path.join(dirname, filename))"
      ],
      "metadata": {
        "_cell_guid": "b1076dfc-b9ad-4769-8c92-a6c4dae69d19",
        "_uuid": "8f2839f25d086af736a60e9eeb907d3b93b6e0e5",
        "papermill": {
          "duration": 2.544822,
          "end_time": "2024-02-22T09:23:47.48314",
          "exception": false,
          "start_time": "2024-02-22T09:23:44.938318",
          "status": "completed"
        },
        "tags": [],
        "execution": {
          "iopub.status.busy": "2024-03-07T08:53:46.459833Z",
          "iopub.execute_input": "2024-03-07T08:53:46.460187Z",
          "iopub.status.idle": "2024-03-07T08:53:49.455628Z",
          "shell.execute_reply.started": "2024-03-07T08:53:46.460156Z",
          "shell.execute_reply": "2024-03-07T08:53:49.454548Z"
        },
        "trusted": true,
        "colab": {
          "base_uri": "https://localhost:8080/"
        },
        "id": "DlG0hUc434a6",
        "outputId": "8b062be6-8d4f-48ca-96e8-02b543f9f372"
      },
      "execution_count": 2,
      "outputs": [
        {
          "output_type": "stream",
          "name": "stdout",
          "text": [
            "/kaggle/input/financial-performance-prediction/data_dictionary.txt\n",
            "/kaggle/input/financial-performance-prediction/sample_submission.csv\n",
            "/kaggle/input/financial-performance-prediction/test.csv\n",
            "/kaggle/input/financial-performance-prediction/train.csv\n"
          ]
        }
      ]
    },
    {
      "cell_type": "code",
      "source": [
        "train = pd.read_csv('/kaggle/input/financial-performance-prediction/train.csv')\n",
        "test = pd.read_csv('/kaggle/input/financial-performance-prediction/test.csv')"
      ],
      "metadata": {
        "papermill": {
          "duration": 0.216004,
          "end_time": "2024-02-22T09:23:47.712913",
          "exception": false,
          "start_time": "2024-02-22T09:23:47.496909",
          "status": "completed"
        },
        "tags": [],
        "execution": {
          "iopub.status.busy": "2024-03-07T08:53:49.457299Z",
          "iopub.execute_input": "2024-03-07T08:53:49.457589Z",
          "iopub.status.idle": "2024-03-07T08:53:49.578681Z",
          "shell.execute_reply.started": "2024-03-07T08:53:49.457565Z",
          "shell.execute_reply": "2024-03-07T08:53:49.577654Z"
        },
        "trusted": true,
        "id": "qq00G6zz34a9"
      },
      "execution_count": 3,
      "outputs": []
    },
    {
      "cell_type": "markdown",
      "source": [
        "## Look at data shape, dtypes and unite train & test into a single DF"
      ],
      "metadata": {
        "papermill": {
          "duration": 0.013307,
          "end_time": "2024-02-22T09:23:47.73998",
          "exception": false,
          "start_time": "2024-02-22T09:23:47.726673",
          "status": "completed"
        },
        "tags": [],
        "id": "zs7WS6s734a_"
      }
    },
    {
      "cell_type": "code",
      "source": [
        "print(f'Train shape: {train.shape}')\n",
        "print(f'Test shape: {test.shape}')"
      ],
      "metadata": {
        "papermill": {
          "duration": 0.023496,
          "end_time": "2024-02-22T09:23:47.776922",
          "exception": false,
          "start_time": "2024-02-22T09:23:47.753426",
          "status": "completed"
        },
        "tags": [],
        "execution": {
          "iopub.status.busy": "2024-03-07T08:53:49.579974Z",
          "iopub.execute_input": "2024-03-07T08:53:49.580307Z",
          "iopub.status.idle": "2024-03-07T08:53:49.585901Z",
          "shell.execute_reply.started": "2024-03-07T08:53:49.580281Z",
          "shell.execute_reply": "2024-03-07T08:53:49.584774Z"
        },
        "trusted": true,
        "colab": {
          "base_uri": "https://localhost:8080/"
        },
        "id": "izruc_3s34bE",
        "outputId": "bad659c5-9a6f-4e72-c10c-5d058dd24ae6"
      },
      "execution_count": 4,
      "outputs": [
        {
          "output_type": "stream",
          "name": "stdout",
          "text": [
            "Train shape: (1624, 212)\n",
            "Test shape: (406, 203)\n"
          ]
        }
      ]
    },
    {
      "cell_type": "code",
      "source": [
        "targets_names = [col for col in train if col not in test]\n",
        "print(f'Target columns: {targets_names}')"
      ],
      "metadata": {
        "papermill": {
          "duration": 0.026347,
          "end_time": "2024-02-22T09:23:47.816546",
          "exception": false,
          "start_time": "2024-02-22T09:23:47.790199",
          "status": "completed"
        },
        "tags": [],
        "execution": {
          "iopub.status.busy": "2024-03-07T08:53:49.587947Z",
          "iopub.execute_input": "2024-03-07T08:53:49.588311Z",
          "iopub.status.idle": "2024-03-07T08:53:49.597349Z",
          "shell.execute_reply.started": "2024-03-07T08:53:49.588285Z",
          "shell.execute_reply": "2024-03-07T08:53:49.59638Z"
        },
        "trusted": true,
        "colab": {
          "base_uri": "https://localhost:8080/"
        },
        "id": "fALOusk534bG",
        "outputId": "84cf327d-b916-420f-b514-11edfe2bfd09"
      },
      "execution_count": 5,
      "outputs": [
        {
          "output_type": "stream",
          "name": "stdout",
          "text": [
            "Target columns: ['Q0_TOTAL_ASSETS', 'Q0_TOTAL_LIABILITIES', 'Q0_TOTAL_STOCKHOLDERS_EQUITY', 'Q0_GROSS_PROFIT', 'Q0_COST_OF_REVENUES', 'Q0_REVENUES', 'Q0_OPERATING_INCOME', 'Q0_OPERATING_EXPENSES', 'Q0_EBITDA']\n"
          ]
        }
      ]
    },
    {
      "cell_type": "code",
      "source": [
        "train.dtypes.value_counts()"
      ],
      "metadata": {
        "papermill": {
          "duration": 0.032318,
          "end_time": "2024-02-22T09:23:47.8622",
          "exception": false,
          "start_time": "2024-02-22T09:23:47.829882",
          "status": "completed"
        },
        "tags": [],
        "execution": {
          "iopub.status.busy": "2024-03-07T08:53:49.599124Z",
          "iopub.execute_input": "2024-03-07T08:53:49.599389Z",
          "iopub.status.idle": "2024-03-07T08:53:49.61316Z",
          "shell.execute_reply.started": "2024-03-07T08:53:49.599367Z",
          "shell.execute_reply": "2024-03-07T08:53:49.612111Z"
        },
        "trusted": true,
        "colab": {
          "base_uri": "https://localhost:8080/"
        },
        "id": "a6fT0FfL34bH",
        "outputId": "ac2868c0-4b8d-40ae-b9fc-2cd2062de4d3"
      },
      "execution_count": 6,
      "outputs": [
        {
          "output_type": "execute_result",
          "data": {
            "text/plain": [
              "float64    207\n",
              "object       4\n",
              "int64        1\n",
              "dtype: int64"
            ]
          },
          "metadata": {},
          "execution_count": 6
        }
      ]
    },
    {
      "cell_type": "code",
      "source": [
        "test.dtypes.value_counts()"
      ],
      "metadata": {
        "papermill": {
          "duration": 0.027912,
          "end_time": "2024-02-22T09:23:47.903646",
          "exception": false,
          "start_time": "2024-02-22T09:23:47.875734",
          "status": "completed"
        },
        "tags": [],
        "execution": {
          "iopub.status.busy": "2024-03-07T08:53:49.614525Z",
          "iopub.execute_input": "2024-03-07T08:53:49.615Z",
          "iopub.status.idle": "2024-03-07T08:53:49.624446Z",
          "shell.execute_reply.started": "2024-03-07T08:53:49.614967Z",
          "shell.execute_reply": "2024-03-07T08:53:49.623577Z"
        },
        "trusted": true,
        "colab": {
          "base_uri": "https://localhost:8080/"
        },
        "id": "iiR6jqa_34bJ",
        "outputId": "e724508a-b195-4434-e08b-a660c87f3ebb"
      },
      "execution_count": 7,
      "outputs": [
        {
          "output_type": "execute_result",
          "data": {
            "text/plain": [
              "float64    198\n",
              "object       4\n",
              "int64        1\n",
              "dtype: int64"
            ]
          },
          "metadata": {},
          "execution_count": 7
        }
      ]
    },
    {
      "cell_type": "code",
      "source": [
        "# make an easy col to split back the train and test sets\n",
        "train['is_train'] = True\n",
        "test['is_train'] = False\n",
        "df = pd.concat([train, test], axis = 0, ignore_index = True)"
      ],
      "metadata": {
        "papermill": {
          "duration": 0.042288,
          "end_time": "2024-02-22T09:23:47.960277",
          "exception": false,
          "start_time": "2024-02-22T09:23:47.917989",
          "status": "completed"
        },
        "tags": [],
        "execution": {
          "iopub.status.busy": "2024-03-07T08:53:49.625517Z",
          "iopub.execute_input": "2024-03-07T08:53:49.625874Z",
          "iopub.status.idle": "2024-03-07T08:53:49.637703Z",
          "shell.execute_reply.started": "2024-03-07T08:53:49.625843Z",
          "shell.execute_reply": "2024-03-07T08:53:49.636931Z"
        },
        "trusted": true,
        "id": "iCEhUz7m34bK"
      },
      "execution_count": 8,
      "outputs": []
    },
    {
      "cell_type": "markdown",
      "source": [
        "## Deal with string/categoric columns"
      ],
      "metadata": {
        "papermill": {
          "duration": 0.013575,
          "end_time": "2024-02-22T09:23:47.989331",
          "exception": false,
          "start_time": "2024-02-22T09:23:47.975756",
          "status": "completed"
        },
        "tags": [],
        "id": "w6_Z-nXh34bM"
      }
    },
    {
      "cell_type": "code",
      "source": [
        "df.select_dtypes(include = 'O')"
      ],
      "metadata": {
        "papermill": {
          "duration": 0.040147,
          "end_time": "2024-02-22T09:23:48.043848",
          "exception": false,
          "start_time": "2024-02-22T09:23:48.003701",
          "status": "completed"
        },
        "tags": [],
        "execution": {
          "iopub.status.busy": "2024-03-07T08:53:49.638766Z",
          "iopub.execute_input": "2024-03-07T08:53:49.639077Z",
          "iopub.status.idle": "2024-03-07T08:53:49.65378Z",
          "shell.execute_reply.started": "2024-03-07T08:53:49.639053Z",
          "shell.execute_reply": "2024-03-07T08:53:49.652934Z"
        },
        "trusted": true,
        "colab": {
          "base_uri": "https://localhost:8080/",
          "height": 424
        },
        "id": "OM9TLkwY34bO",
        "outputId": "1f3962e3-0492-40c4-cbab-be10845e3e0e"
      },
      "execution_count": 9,
      "outputs": [
        {
          "output_type": "execute_result",
          "data": {
            "text/plain": [
              "                                      industry              sector  \\\n",
              "0                            Personal Services   Consumer Cyclical   \n",
              "1                Building Products & Equipment         Industrials   \n",
              "2                                          NaN             Unknown   \n",
              "3           Scientific & Technical Instruments          Technology   \n",
              "4     Drug Manufacturers - Specialty & Generic          Healthcare   \n",
              "...                                        ...                 ...   \n",
              "2025                            Packaged Foods  Consumer Defensive   \n",
              "2026                                       NaN             Unknown   \n",
              "2027                           Medical Devices          Healthcare   \n",
              "2028  Drug Manufacturers - Specialty & Generic          Healthcare   \n",
              "2029                       Specialty Chemicals     Basic Materials   \n",
              "\n",
              "     recommendationKey financialCurrency  \n",
              "0           strong_buy               USD  \n",
              "1                  buy               USD  \n",
              "2                  NaN               NaN  \n",
              "3                 hold               USD  \n",
              "4                  buy               USD  \n",
              "...                ...               ...  \n",
              "2025              hold               USD  \n",
              "2026               NaN               NaN  \n",
              "2027               buy               USD  \n",
              "2028               buy               USD  \n",
              "2029               buy               USD  \n",
              "\n",
              "[2030 rows x 4 columns]"
            ],
            "text/html": [
              "\n",
              "  <div id=\"df-465bcbbf-ad98-4bac-a3eb-68785be0209b\" class=\"colab-df-container\">\n",
              "    <div>\n",
              "<style scoped>\n",
              "    .dataframe tbody tr th:only-of-type {\n",
              "        vertical-align: middle;\n",
              "    }\n",
              "\n",
              "    .dataframe tbody tr th {\n",
              "        vertical-align: top;\n",
              "    }\n",
              "\n",
              "    .dataframe thead th {\n",
              "        text-align: right;\n",
              "    }\n",
              "</style>\n",
              "<table border=\"1\" class=\"dataframe\">\n",
              "  <thead>\n",
              "    <tr style=\"text-align: right;\">\n",
              "      <th></th>\n",
              "      <th>industry</th>\n",
              "      <th>sector</th>\n",
              "      <th>recommendationKey</th>\n",
              "      <th>financialCurrency</th>\n",
              "    </tr>\n",
              "  </thead>\n",
              "  <tbody>\n",
              "    <tr>\n",
              "      <th>0</th>\n",
              "      <td>Personal Services</td>\n",
              "      <td>Consumer Cyclical</td>\n",
              "      <td>strong_buy</td>\n",
              "      <td>USD</td>\n",
              "    </tr>\n",
              "    <tr>\n",
              "      <th>1</th>\n",
              "      <td>Building Products &amp; Equipment</td>\n",
              "      <td>Industrials</td>\n",
              "      <td>buy</td>\n",
              "      <td>USD</td>\n",
              "    </tr>\n",
              "    <tr>\n",
              "      <th>2</th>\n",
              "      <td>NaN</td>\n",
              "      <td>Unknown</td>\n",
              "      <td>NaN</td>\n",
              "      <td>NaN</td>\n",
              "    </tr>\n",
              "    <tr>\n",
              "      <th>3</th>\n",
              "      <td>Scientific &amp; Technical Instruments</td>\n",
              "      <td>Technology</td>\n",
              "      <td>hold</td>\n",
              "      <td>USD</td>\n",
              "    </tr>\n",
              "    <tr>\n",
              "      <th>4</th>\n",
              "      <td>Drug Manufacturers - Specialty &amp; Generic</td>\n",
              "      <td>Healthcare</td>\n",
              "      <td>buy</td>\n",
              "      <td>USD</td>\n",
              "    </tr>\n",
              "    <tr>\n",
              "      <th>...</th>\n",
              "      <td>...</td>\n",
              "      <td>...</td>\n",
              "      <td>...</td>\n",
              "      <td>...</td>\n",
              "    </tr>\n",
              "    <tr>\n",
              "      <th>2025</th>\n",
              "      <td>Packaged Foods</td>\n",
              "      <td>Consumer Defensive</td>\n",
              "      <td>hold</td>\n",
              "      <td>USD</td>\n",
              "    </tr>\n",
              "    <tr>\n",
              "      <th>2026</th>\n",
              "      <td>NaN</td>\n",
              "      <td>Unknown</td>\n",
              "      <td>NaN</td>\n",
              "      <td>NaN</td>\n",
              "    </tr>\n",
              "    <tr>\n",
              "      <th>2027</th>\n",
              "      <td>Medical Devices</td>\n",
              "      <td>Healthcare</td>\n",
              "      <td>buy</td>\n",
              "      <td>USD</td>\n",
              "    </tr>\n",
              "    <tr>\n",
              "      <th>2028</th>\n",
              "      <td>Drug Manufacturers - Specialty &amp; Generic</td>\n",
              "      <td>Healthcare</td>\n",
              "      <td>buy</td>\n",
              "      <td>USD</td>\n",
              "    </tr>\n",
              "    <tr>\n",
              "      <th>2029</th>\n",
              "      <td>Specialty Chemicals</td>\n",
              "      <td>Basic Materials</td>\n",
              "      <td>buy</td>\n",
              "      <td>USD</td>\n",
              "    </tr>\n",
              "  </tbody>\n",
              "</table>\n",
              "<p>2030 rows × 4 columns</p>\n",
              "</div>\n",
              "    <div class=\"colab-df-buttons\">\n",
              "\n",
              "  <div class=\"colab-df-container\">\n",
              "    <button class=\"colab-df-convert\" onclick=\"convertToInteractive('df-465bcbbf-ad98-4bac-a3eb-68785be0209b')\"\n",
              "            title=\"Convert this dataframe to an interactive table.\"\n",
              "            style=\"display:none;\">\n",
              "\n",
              "  <svg xmlns=\"http://www.w3.org/2000/svg\" height=\"24px\" viewBox=\"0 -960 960 960\">\n",
              "    <path d=\"M120-120v-720h720v720H120Zm60-500h600v-160H180v160Zm220 220h160v-160H400v160Zm0 220h160v-160H400v160ZM180-400h160v-160H180v160Zm440 0h160v-160H620v160ZM180-180h160v-160H180v160Zm440 0h160v-160H620v160Z\"/>\n",
              "  </svg>\n",
              "    </button>\n",
              "\n",
              "  <style>\n",
              "    .colab-df-container {\n",
              "      display:flex;\n",
              "      gap: 12px;\n",
              "    }\n",
              "\n",
              "    .colab-df-convert {\n",
              "      background-color: #E8F0FE;\n",
              "      border: none;\n",
              "      border-radius: 50%;\n",
              "      cursor: pointer;\n",
              "      display: none;\n",
              "      fill: #1967D2;\n",
              "      height: 32px;\n",
              "      padding: 0 0 0 0;\n",
              "      width: 32px;\n",
              "    }\n",
              "\n",
              "    .colab-df-convert:hover {\n",
              "      background-color: #E2EBFA;\n",
              "      box-shadow: 0px 1px 2px rgba(60, 64, 67, 0.3), 0px 1px 3px 1px rgba(60, 64, 67, 0.15);\n",
              "      fill: #174EA6;\n",
              "    }\n",
              "\n",
              "    .colab-df-buttons div {\n",
              "      margin-bottom: 4px;\n",
              "    }\n",
              "\n",
              "    [theme=dark] .colab-df-convert {\n",
              "      background-color: #3B4455;\n",
              "      fill: #D2E3FC;\n",
              "    }\n",
              "\n",
              "    [theme=dark] .colab-df-convert:hover {\n",
              "      background-color: #434B5C;\n",
              "      box-shadow: 0px 1px 3px 1px rgba(0, 0, 0, 0.15);\n",
              "      filter: drop-shadow(0px 1px 2px rgba(0, 0, 0, 0.3));\n",
              "      fill: #FFFFFF;\n",
              "    }\n",
              "  </style>\n",
              "\n",
              "    <script>\n",
              "      const buttonEl =\n",
              "        document.querySelector('#df-465bcbbf-ad98-4bac-a3eb-68785be0209b button.colab-df-convert');\n",
              "      buttonEl.style.display =\n",
              "        google.colab.kernel.accessAllowed ? 'block' : 'none';\n",
              "\n",
              "      async function convertToInteractive(key) {\n",
              "        const element = document.querySelector('#df-465bcbbf-ad98-4bac-a3eb-68785be0209b');\n",
              "        const dataTable =\n",
              "          await google.colab.kernel.invokeFunction('convertToInteractive',\n",
              "                                                    [key], {});\n",
              "        if (!dataTable) return;\n",
              "\n",
              "        const docLinkHtml = 'Like what you see? Visit the ' +\n",
              "          '<a target=\"_blank\" href=https://colab.research.google.com/notebooks/data_table.ipynb>data table notebook</a>'\n",
              "          + ' to learn more about interactive tables.';\n",
              "        element.innerHTML = '';\n",
              "        dataTable['output_type'] = 'display_data';\n",
              "        await google.colab.output.renderOutput(dataTable, element);\n",
              "        const docLink = document.createElement('div');\n",
              "        docLink.innerHTML = docLinkHtml;\n",
              "        element.appendChild(docLink);\n",
              "      }\n",
              "    </script>\n",
              "  </div>\n",
              "\n",
              "\n",
              "<div id=\"df-7ce628d9-2803-4088-ab07-07fee1f5fca7\">\n",
              "  <button class=\"colab-df-quickchart\" onclick=\"quickchart('df-7ce628d9-2803-4088-ab07-07fee1f5fca7')\"\n",
              "            title=\"Suggest charts\"\n",
              "            style=\"display:none;\">\n",
              "\n",
              "<svg xmlns=\"http://www.w3.org/2000/svg\" height=\"24px\"viewBox=\"0 0 24 24\"\n",
              "     width=\"24px\">\n",
              "    <g>\n",
              "        <path d=\"M19 3H5c-1.1 0-2 .9-2 2v14c0 1.1.9 2 2 2h14c1.1 0 2-.9 2-2V5c0-1.1-.9-2-2-2zM9 17H7v-7h2v7zm4 0h-2V7h2v10zm4 0h-2v-4h2v4z\"/>\n",
              "    </g>\n",
              "</svg>\n",
              "  </button>\n",
              "\n",
              "<style>\n",
              "  .colab-df-quickchart {\n",
              "      --bg-color: #E8F0FE;\n",
              "      --fill-color: #1967D2;\n",
              "      --hover-bg-color: #E2EBFA;\n",
              "      --hover-fill-color: #174EA6;\n",
              "      --disabled-fill-color: #AAA;\n",
              "      --disabled-bg-color: #DDD;\n",
              "  }\n",
              "\n",
              "  [theme=dark] .colab-df-quickchart {\n",
              "      --bg-color: #3B4455;\n",
              "      --fill-color: #D2E3FC;\n",
              "      --hover-bg-color: #434B5C;\n",
              "      --hover-fill-color: #FFFFFF;\n",
              "      --disabled-bg-color: #3B4455;\n",
              "      --disabled-fill-color: #666;\n",
              "  }\n",
              "\n",
              "  .colab-df-quickchart {\n",
              "    background-color: var(--bg-color);\n",
              "    border: none;\n",
              "    border-radius: 50%;\n",
              "    cursor: pointer;\n",
              "    display: none;\n",
              "    fill: var(--fill-color);\n",
              "    height: 32px;\n",
              "    padding: 0;\n",
              "    width: 32px;\n",
              "  }\n",
              "\n",
              "  .colab-df-quickchart:hover {\n",
              "    background-color: var(--hover-bg-color);\n",
              "    box-shadow: 0 1px 2px rgba(60, 64, 67, 0.3), 0 1px 3px 1px rgba(60, 64, 67, 0.15);\n",
              "    fill: var(--button-hover-fill-color);\n",
              "  }\n",
              "\n",
              "  .colab-df-quickchart-complete:disabled,\n",
              "  .colab-df-quickchart-complete:disabled:hover {\n",
              "    background-color: var(--disabled-bg-color);\n",
              "    fill: var(--disabled-fill-color);\n",
              "    box-shadow: none;\n",
              "  }\n",
              "\n",
              "  .colab-df-spinner {\n",
              "    border: 2px solid var(--fill-color);\n",
              "    border-color: transparent;\n",
              "    border-bottom-color: var(--fill-color);\n",
              "    animation:\n",
              "      spin 1s steps(1) infinite;\n",
              "  }\n",
              "\n",
              "  @keyframes spin {\n",
              "    0% {\n",
              "      border-color: transparent;\n",
              "      border-bottom-color: var(--fill-color);\n",
              "      border-left-color: var(--fill-color);\n",
              "    }\n",
              "    20% {\n",
              "      border-color: transparent;\n",
              "      border-left-color: var(--fill-color);\n",
              "      border-top-color: var(--fill-color);\n",
              "    }\n",
              "    30% {\n",
              "      border-color: transparent;\n",
              "      border-left-color: var(--fill-color);\n",
              "      border-top-color: var(--fill-color);\n",
              "      border-right-color: var(--fill-color);\n",
              "    }\n",
              "    40% {\n",
              "      border-color: transparent;\n",
              "      border-right-color: var(--fill-color);\n",
              "      border-top-color: var(--fill-color);\n",
              "    }\n",
              "    60% {\n",
              "      border-color: transparent;\n",
              "      border-right-color: var(--fill-color);\n",
              "    }\n",
              "    80% {\n",
              "      border-color: transparent;\n",
              "      border-right-color: var(--fill-color);\n",
              "      border-bottom-color: var(--fill-color);\n",
              "    }\n",
              "    90% {\n",
              "      border-color: transparent;\n",
              "      border-bottom-color: var(--fill-color);\n",
              "    }\n",
              "  }\n",
              "</style>\n",
              "\n",
              "  <script>\n",
              "    async function quickchart(key) {\n",
              "      const quickchartButtonEl =\n",
              "        document.querySelector('#' + key + ' button');\n",
              "      quickchartButtonEl.disabled = true;  // To prevent multiple clicks.\n",
              "      quickchartButtonEl.classList.add('colab-df-spinner');\n",
              "      try {\n",
              "        const charts = await google.colab.kernel.invokeFunction(\n",
              "            'suggestCharts', [key], {});\n",
              "      } catch (error) {\n",
              "        console.error('Error during call to suggestCharts:', error);\n",
              "      }\n",
              "      quickchartButtonEl.classList.remove('colab-df-spinner');\n",
              "      quickchartButtonEl.classList.add('colab-df-quickchart-complete');\n",
              "    }\n",
              "    (() => {\n",
              "      let quickchartButtonEl =\n",
              "        document.querySelector('#df-7ce628d9-2803-4088-ab07-07fee1f5fca7 button');\n",
              "      quickchartButtonEl.style.display =\n",
              "        google.colab.kernel.accessAllowed ? 'block' : 'none';\n",
              "    })();\n",
              "  </script>\n",
              "</div>\n",
              "\n",
              "    </div>\n",
              "  </div>\n"
            ],
            "application/vnd.google.colaboratory.intrinsic+json": {
              "type": "dataframe",
              "summary": "{\n  \"name\": \"df\",\n  \"rows\": 2030,\n  \"fields\": [\n    {\n      \"column\": \"industry\",\n      \"properties\": {\n        \"dtype\": \"category\",\n        \"num_unique_values\": 113,\n        \"samples\": [\n          \"Security & Protection Services\",\n          \"Tools & Accessories\",\n          \"Utilities - Independent Power Producers\"\n        ],\n        \"semantic_type\": \"\",\n        \"description\": \"\"\n      }\n    },\n    {\n      \"column\": \"sector\",\n      \"properties\": {\n        \"dtype\": \"category\",\n        \"num_unique_values\": 10,\n        \"samples\": [\n          \"Basic Materials\",\n          \"Industrials\",\n          \"Energy\"\n        ],\n        \"semantic_type\": \"\",\n        \"description\": \"\"\n      }\n    },\n    {\n      \"column\": \"recommendationKey\",\n      \"properties\": {\n        \"dtype\": \"category\",\n        \"num_unique_values\": 6,\n        \"samples\": [\n          \"strong_buy\",\n          \"buy\",\n          \"sell\"\n        ],\n        \"semantic_type\": \"\",\n        \"description\": \"\"\n      }\n    },\n    {\n      \"column\": \"financialCurrency\",\n      \"properties\": {\n        \"dtype\": \"category\",\n        \"num_unique_values\": 2,\n        \"samples\": [\n          \"CAD\",\n          \"USD\"\n        ],\n        \"semantic_type\": \"\",\n        \"description\": \"\"\n      }\n    }\n  ]\n}"
            }
          },
          "metadata": {},
          "execution_count": 9
        }
      ]
    },
    {
      "cell_type": "code",
      "source": [
        "for col in df.select_dtypes(include = 'O'):\n",
        "    print(f'{col} unique values num: {df[col].nunique()}')\n",
        "    print('-'*50)"
      ],
      "metadata": {
        "papermill": {
          "duration": 0.031918,
          "end_time": "2024-02-22T09:23:48.08989",
          "exception": false,
          "start_time": "2024-02-22T09:23:48.057972",
          "status": "completed"
        },
        "tags": [],
        "execution": {
          "iopub.status.busy": "2024-03-07T08:53:49.654893Z",
          "iopub.execute_input": "2024-03-07T08:53:49.655168Z",
          "iopub.status.idle": "2024-03-07T08:53:49.662887Z",
          "shell.execute_reply.started": "2024-03-07T08:53:49.655144Z",
          "shell.execute_reply": "2024-03-07T08:53:49.661873Z"
        },
        "trusted": true,
        "colab": {
          "base_uri": "https://localhost:8080/"
        },
        "id": "m0jzkn3O34bR",
        "outputId": "55be574a-682f-4d4f-8149-a33e1b4b58a5"
      },
      "execution_count": 10,
      "outputs": [
        {
          "output_type": "stream",
          "name": "stdout",
          "text": [
            "industry unique values num: 113\n",
            "--------------------------------------------------\n",
            "sector unique values num: 10\n",
            "--------------------------------------------------\n",
            "recommendationKey unique values num: 6\n",
            "--------------------------------------------------\n",
            "financialCurrency unique values num: 2\n",
            "--------------------------------------------------\n"
          ]
        }
      ]
    },
    {
      "cell_type": "markdown",
      "source": [
        "Looks like it is best have to label encode the `industry` with 113 unique categories.\n",
        "`sector` and `recommendationKey` can safely be one-hot-encoded as it will expand the dataset by only 16 columns.\n",
        "And we will just binarize the `financialCurrency` column"
      ],
      "metadata": {
        "execution": {
          "iopub.execute_input": "2024-02-21T11:38:43.966027Z",
          "iopub.status.busy": "2024-02-21T11:38:43.965735Z",
          "iopub.status.idle": "2024-02-21T11:38:43.970975Z",
          "shell.execute_reply": "2024-02-21T11:38:43.969976Z",
          "shell.execute_reply.started": "2024-02-21T11:38:43.966006Z"
        },
        "papermill": {
          "duration": 0.014362,
          "end_time": "2024-02-22T09:23:48.11873",
          "exception": false,
          "start_time": "2024-02-22T09:23:48.104368",
          "status": "completed"
        },
        "tags": [],
        "id": "vF4gSXow34bT"
      }
    },
    {
      "cell_type": "code",
      "source": [
        "def binarize(df, col):\n",
        "    uniques = list(df[col].dropna().unique())\n",
        "    df[col] = [1 if val == uniques[0] else 0 for val in df[col]]\n",
        "    return df"
      ],
      "metadata": {
        "papermill": {
          "duration": 0.026863,
          "end_time": "2024-02-22T09:23:48.160784",
          "exception": false,
          "start_time": "2024-02-22T09:23:48.133921",
          "status": "completed"
        },
        "tags": [],
        "execution": {
          "iopub.status.busy": "2024-03-07T08:53:49.667594Z",
          "iopub.execute_input": "2024-03-07T08:53:49.667861Z",
          "iopub.status.idle": "2024-03-07T08:53:49.67267Z",
          "shell.execute_reply.started": "2024-03-07T08:53:49.66784Z",
          "shell.execute_reply": "2024-03-07T08:53:49.671689Z"
        },
        "trusted": true,
        "id": "fKCuF3Nu34bV"
      },
      "execution_count": 11,
      "outputs": []
    },
    {
      "cell_type": "code",
      "source": [
        "def one_hot_encode(df, col):\n",
        "    dummies = pd.get_dummies(df[col], prefix = col).astype(int)\n",
        "    df.drop(col, axis = 1, inplace = True)\n",
        "    df = pd.concat([df, dummies], axis = 1)\n",
        "    return df"
      ],
      "metadata": {
        "papermill": {
          "duration": 0.023901,
          "end_time": "2024-02-22T09:23:48.199713",
          "exception": false,
          "start_time": "2024-02-22T09:23:48.175812",
          "status": "completed"
        },
        "tags": [],
        "execution": {
          "iopub.status.busy": "2024-03-07T08:53:49.673933Z",
          "iopub.execute_input": "2024-03-07T08:53:49.674208Z",
          "iopub.status.idle": "2024-03-07T08:53:49.681652Z",
          "shell.execute_reply.started": "2024-03-07T08:53:49.674185Z",
          "shell.execute_reply": "2024-03-07T08:53:49.680661Z"
        },
        "trusted": true,
        "id": "HKRCx02L34bY"
      },
      "execution_count": 12,
      "outputs": []
    },
    {
      "cell_type": "code",
      "source": [
        "def factorize(df, col):\n",
        "    mapping = {name: ix for ix, name in enumerate(df[col].unique())}\n",
        "    df[col] = df[col].map(mapping)\n",
        "    return df"
      ],
      "metadata": {
        "papermill": {
          "duration": 0.025012,
          "end_time": "2024-02-22T09:23:48.238738",
          "exception": false,
          "start_time": "2024-02-22T09:23:48.213726",
          "status": "completed"
        },
        "tags": [],
        "execution": {
          "iopub.status.busy": "2024-03-07T08:53:49.682905Z",
          "iopub.execute_input": "2024-03-07T08:53:49.683397Z",
          "iopub.status.idle": "2024-03-07T08:53:49.690212Z",
          "shell.execute_reply.started": "2024-03-07T08:53:49.683364Z",
          "shell.execute_reply": "2024-03-07T08:53:49.68942Z"
        },
        "trusted": true,
        "id": "CKhY_-FH34bZ"
      },
      "execution_count": 13,
      "outputs": []
    },
    {
      "cell_type": "code",
      "source": [
        "df = binarize(df, 'financialCurrency')\n",
        "print(df['financialCurrency'].head())"
      ],
      "metadata": {
        "papermill": {
          "duration": 0.029814,
          "end_time": "2024-02-22T09:23:48.283233",
          "exception": false,
          "start_time": "2024-02-22T09:23:48.253419",
          "status": "completed"
        },
        "tags": [],
        "execution": {
          "iopub.status.busy": "2024-03-07T08:53:49.691153Z",
          "iopub.execute_input": "2024-03-07T08:53:49.691386Z",
          "iopub.status.idle": "2024-03-07T08:53:49.702517Z",
          "shell.execute_reply.started": "2024-03-07T08:53:49.691365Z",
          "shell.execute_reply": "2024-03-07T08:53:49.701726Z"
        },
        "trusted": true,
        "colab": {
          "base_uri": "https://localhost:8080/"
        },
        "id": "rP_OpWZR34bb",
        "outputId": "070a4521-8385-40ad-9739-5ec1d581fa0c"
      },
      "execution_count": 14,
      "outputs": [
        {
          "output_type": "stream",
          "name": "stdout",
          "text": [
            "0    1\n",
            "1    1\n",
            "2    0\n",
            "3    1\n",
            "4    1\n",
            "Name: financialCurrency, dtype: int64\n"
          ]
        }
      ]
    },
    {
      "cell_type": "code",
      "source": [
        "print(df.shape)\n",
        "df = one_hot_encode(df, 'sector')\n",
        "df = one_hot_encode(df, 'recommendationKey')\n",
        "print(df.shape)"
      ],
      "metadata": {
        "papermill": {
          "duration": 0.051345,
          "end_time": "2024-02-22T09:23:48.348876",
          "exception": false,
          "start_time": "2024-02-22T09:23:48.297531",
          "status": "completed"
        },
        "tags": [],
        "execution": {
          "iopub.status.busy": "2024-03-07T08:53:49.703448Z",
          "iopub.execute_input": "2024-03-07T08:53:49.703739Z",
          "iopub.status.idle": "2024-03-07T08:53:49.728195Z",
          "shell.execute_reply.started": "2024-03-07T08:53:49.703709Z",
          "shell.execute_reply": "2024-03-07T08:53:49.727288Z"
        },
        "trusted": true,
        "colab": {
          "base_uri": "https://localhost:8080/"
        },
        "id": "KOjlzsPn34bc",
        "outputId": "55ffa173-c581-4cb1-c247-c2df006183cf"
      },
      "execution_count": 15,
      "outputs": [
        {
          "output_type": "stream",
          "name": "stdout",
          "text": [
            "(2030, 213)\n",
            "(2030, 227)\n"
          ]
        }
      ]
    },
    {
      "cell_type": "code",
      "source": [
        "df = factorize(df, 'industry')\n",
        "print(df.dtypes.value_counts())"
      ],
      "metadata": {
        "papermill": {
          "duration": 0.028683,
          "end_time": "2024-02-22T09:23:48.391994",
          "exception": false,
          "start_time": "2024-02-22T09:23:48.363311",
          "status": "completed"
        },
        "tags": [],
        "execution": {
          "iopub.status.busy": "2024-03-07T08:53:49.729321Z",
          "iopub.execute_input": "2024-03-07T08:53:49.729629Z",
          "iopub.status.idle": "2024-03-07T08:53:49.73728Z",
          "shell.execute_reply.started": "2024-03-07T08:53:49.729604Z",
          "shell.execute_reply": "2024-03-07T08:53:49.736351Z"
        },
        "trusted": true,
        "colab": {
          "base_uri": "https://localhost:8080/"
        },
        "id": "l63GDz0x34bf",
        "outputId": "85ddacb7-27b8-4b3f-e129-d8671021faa4"
      },
      "execution_count": 16,
      "outputs": [
        {
          "output_type": "stream",
          "name": "stdout",
          "text": [
            "float64    207\n",
            "int64       19\n",
            "bool         1\n",
            "dtype: int64\n"
          ]
        }
      ]
    },
    {
      "cell_type": "code",
      "source": [
        "import warnings\n",
        "warnings.simplefilter(action='ignore', category=FutureWarning)"
      ],
      "metadata": {
        "papermill": {
          "duration": 0.023799,
          "end_time": "2024-02-22T09:23:48.430584",
          "exception": false,
          "start_time": "2024-02-22T09:23:48.406785",
          "status": "completed"
        },
        "tags": [],
        "execution": {
          "iopub.status.busy": "2024-03-07T08:53:49.738482Z",
          "iopub.execute_input": "2024-03-07T08:53:49.738817Z",
          "iopub.status.idle": "2024-03-07T08:53:49.745564Z",
          "shell.execute_reply.started": "2024-03-07T08:53:49.738784Z",
          "shell.execute_reply": "2024-03-07T08:53:49.744471Z"
        },
        "trusted": true,
        "id": "DOK4D19134bj"
      },
      "execution_count": 17,
      "outputs": []
    },
    {
      "cell_type": "markdown",
      "source": [
        "## Deal with missing values"
      ],
      "metadata": {
        "papermill": {
          "duration": 0.01419,
          "end_time": "2024-02-22T09:23:48.459658",
          "exception": false,
          "start_time": "2024-02-22T09:23:48.445468",
          "status": "completed"
        },
        "tags": [],
        "id": "qf38XzzD34bk"
      }
    },
    {
      "cell_type": "code",
      "source": [
        "df.isnull().sum()"
      ],
      "metadata": {
        "papermill": {
          "duration": 0.030298,
          "end_time": "2024-02-22T09:23:48.50518",
          "exception": false,
          "start_time": "2024-02-22T09:23:48.474882",
          "status": "completed"
        },
        "tags": [],
        "execution": {
          "iopub.status.busy": "2024-03-07T08:53:49.746708Z",
          "iopub.execute_input": "2024-03-07T08:53:49.747018Z",
          "iopub.status.idle": "2024-03-07T08:53:49.763543Z",
          "shell.execute_reply.started": "2024-03-07T08:53:49.746988Z",
          "shell.execute_reply": "2024-03-07T08:53:49.762567Z"
        },
        "trusted": true,
        "colab": {
          "base_uri": "https://localhost:8080/"
        },
        "id": "uGIlJfkK34bl",
        "outputId": "3f073a8e-73f3-45f0-aed7-9b86d343d52c"
      },
      "execution_count": 18,
      "outputs": [
        {
          "output_type": "execute_result",
          "data": {
            "text/plain": [
              "Id                                  0\n",
              "industry                            0\n",
              "fullTimeEmployees                 102\n",
              "auditRisk                         625\n",
              "boardRisk                         625\n",
              "                                 ... \n",
              "recommendationKey_hold              0\n",
              "recommendationKey_none              0\n",
              "recommendationKey_sell              0\n",
              "recommendationKey_strong_buy        0\n",
              "recommendationKey_underperform      0\n",
              "Length: 227, dtype: int64"
            ]
          },
          "metadata": {},
          "execution_count": 18
        }
      ]
    },
    {
      "cell_type": "code",
      "source": [
        "print('Missing data stats:\\n')\n",
        "under_10_percent = 0\n",
        "ten_to_20_percent = 0\n",
        "twenty_to_50_percent = 0\n",
        "over_50_percent = 0\n",
        "for col in df:\n",
        "    if np.any(df[col].isnull()):\n",
        "        percent_missing = np.round(100*df[col].isnull().sum()/len(df),2)\n",
        "        if percent_missing < 10:\n",
        "            under_10_percent+=1\n",
        "        elif 10 <= percent_missing < 20:\n",
        "            ten_to_20_percent+=1\n",
        "        elif 20 <= percent_missing < 50:\n",
        "            twenty_to_50_percent+=1\n",
        "        else:\n",
        "            over_50_percent+=1\n",
        "\n",
        "print(f'ncols with under 10% missing data:\\t{under_10_percent}')\n",
        "print(f'ncols with 10-20% missing data:\\t\\t{ten_to_20_percent}')\n",
        "print(f'ncols with 20-50% missing data:\\t\\t{twenty_to_50_percent}')\n",
        "print(f'ncols with over 50% missing data:\\t{over_50_percent}')"
      ],
      "metadata": {
        "papermill": {
          "duration": 0.094265,
          "end_time": "2024-02-22T09:23:48.614622",
          "exception": false,
          "start_time": "2024-02-22T09:23:48.520357",
          "status": "completed"
        },
        "tags": [],
        "execution": {
          "iopub.status.busy": "2024-03-07T08:53:49.764655Z",
          "iopub.execute_input": "2024-03-07T08:53:49.764922Z",
          "iopub.status.idle": "2024-03-07T08:53:49.835619Z",
          "shell.execute_reply.started": "2024-03-07T08:53:49.764898Z",
          "shell.execute_reply": "2024-03-07T08:53:49.834579Z"
        },
        "trusted": true,
        "colab": {
          "base_uri": "https://localhost:8080/"
        },
        "id": "eEH0FgMW34bm",
        "outputId": "70abedec-b2e8-44c3-ce75-a5aab97cb87f"
      },
      "execution_count": 19,
      "outputs": [
        {
          "output_type": "stream",
          "name": "stdout",
          "text": [
            "Missing data stats:\n",
            "\n",
            "ncols with under 10% missing data:\t134\n",
            "ncols with 10-20% missing data:\t\t44\n",
            "ncols with 20-50% missing data:\t\t16\n",
            "ncols with over 50% missing data:\t1\n"
          ]
        }
      ]
    },
    {
      "cell_type": "markdown",
      "source": [
        "Many columns have missing data, but the majority of cols with NaNs have under 10% missing values. It's safe to fill all missing values by median."
      ],
      "metadata": {
        "papermill": {
          "duration": 0.014673,
          "end_time": "2024-02-22T09:23:48.644595",
          "exception": false,
          "start_time": "2024-02-22T09:23:48.629922",
          "status": "completed"
        },
        "tags": [],
        "id": "dh6pY9Zg34bn"
      }
    },
    {
      "cell_type": "code",
      "source": [
        "# check if there are any inf values in data\n",
        "df[df == np.inf].count().sum()"
      ],
      "metadata": {
        "papermill": {
          "duration": 0.041706,
          "end_time": "2024-02-22T09:23:48.701223",
          "exception": false,
          "start_time": "2024-02-22T09:23:48.659517",
          "status": "completed"
        },
        "tags": [],
        "execution": {
          "iopub.status.busy": "2024-03-07T08:53:49.836962Z",
          "iopub.execute_input": "2024-03-07T08:53:49.837322Z",
          "iopub.status.idle": "2024-03-07T08:53:49.857485Z",
          "shell.execute_reply.started": "2024-03-07T08:53:49.837289Z",
          "shell.execute_reply": "2024-03-07T08:53:49.856569Z"
        },
        "trusted": true,
        "colab": {
          "base_uri": "https://localhost:8080/"
        },
        "id": "4NUXb9bo34bo",
        "outputId": "7ca06f03-bc95-4bac-8940-58c2687cb2c6"
      },
      "execution_count": 20,
      "outputs": [
        {
          "output_type": "execute_result",
          "data": {
            "text/plain": [
              "17"
            ]
          },
          "metadata": {},
          "execution_count": 20
        }
      ]
    },
    {
      "cell_type": "code",
      "source": [
        "# check for missing values in the target columns\n",
        "train[targets_names].isnull().sum()"
      ],
      "metadata": {
        "papermill": {
          "duration": 0.028304,
          "end_time": "2024-02-22T09:23:48.744568",
          "exception": false,
          "start_time": "2024-02-22T09:23:48.716264",
          "status": "completed"
        },
        "tags": [],
        "execution": {
          "iopub.status.busy": "2024-03-07T08:53:49.858698Z",
          "iopub.execute_input": "2024-03-07T08:53:49.858983Z",
          "iopub.status.idle": "2024-03-07T08:53:49.867091Z",
          "shell.execute_reply.started": "2024-03-07T08:53:49.858958Z",
          "shell.execute_reply": "2024-03-07T08:53:49.866119Z"
        },
        "trusted": true,
        "colab": {
          "base_uri": "https://localhost:8080/"
        },
        "id": "RcXE_Djo34bp",
        "outputId": "e00ad9c8-57d2-4cf6-c7bb-7f68aba83bf3"
      },
      "execution_count": 21,
      "outputs": [
        {
          "output_type": "execute_result",
          "data": {
            "text/plain": [
              "Q0_TOTAL_ASSETS                 0\n",
              "Q0_TOTAL_LIABILITIES            0\n",
              "Q0_TOTAL_STOCKHOLDERS_EQUITY    0\n",
              "Q0_GROSS_PROFIT                 0\n",
              "Q0_COST_OF_REVENUES             0\n",
              "Q0_REVENUES                     0\n",
              "Q0_OPERATING_INCOME             0\n",
              "Q0_OPERATING_EXPENSES           0\n",
              "Q0_EBITDA                       0\n",
              "dtype: int64"
            ]
          },
          "metadata": {},
          "execution_count": 21
        }
      ]
    },
    {
      "cell_type": "code",
      "source": [
        "def impute_missing_by_median(df):\n",
        "    print(f'Missing values before imputation: {sum(df.isnull().sum())}')\n",
        "    # first replace inf and -inf with nan\n",
        "    df.replace([np.inf, -np.inf], np.nan, inplace=True)\n",
        "    # then impute nan by median\n",
        "    for col in df:\n",
        "        if np.any(df[col].isnull()):\n",
        "            df[col].fillna(df[col].median(), inplace = True)\n",
        "    print(f'Missing values after imputation: {sum(df.isnull().sum())}')\n",
        "    return df"
      ],
      "metadata": {
        "papermill": {
          "duration": 0.027342,
          "end_time": "2024-02-22T09:23:48.787209",
          "exception": false,
          "start_time": "2024-02-22T09:23:48.759867",
          "status": "completed"
        },
        "tags": [],
        "execution": {
          "iopub.status.busy": "2024-03-07T08:53:49.868191Z",
          "iopub.execute_input": "2024-03-07T08:53:49.868469Z",
          "iopub.status.idle": "2024-03-07T08:53:49.877319Z",
          "shell.execute_reply.started": "2024-03-07T08:53:49.868446Z",
          "shell.execute_reply": "2024-03-07T08:53:49.876301Z"
        },
        "trusted": true,
        "id": "nIV6mMh734bq"
      },
      "execution_count": 22,
      "outputs": []
    },
    {
      "cell_type": "code",
      "source": [
        "df = impute_missing_by_median(df)"
      ],
      "metadata": {
        "papermill": {
          "duration": 0.242599,
          "end_time": "2024-02-22T09:23:49.045138",
          "exception": false,
          "start_time": "2024-02-22T09:23:48.802539",
          "status": "completed"
        },
        "tags": [],
        "execution": {
          "iopub.status.busy": "2024-03-07T08:53:49.878667Z",
          "iopub.execute_input": "2024-03-07T08:53:49.879309Z",
          "iopub.status.idle": "2024-03-07T08:53:50.010825Z",
          "shell.execute_reply.started": "2024-03-07T08:53:49.879277Z",
          "shell.execute_reply": "2024-03-07T08:53:50.009824Z"
        },
        "trusted": true,
        "colab": {
          "base_uri": "https://localhost:8080/"
        },
        "id": "mFyxNtyR34br",
        "outputId": "c967be07-7846-4092-aac2-2ee7796effc9"
      },
      "execution_count": 23,
      "outputs": [
        {
          "output_type": "stream",
          "name": "stdout",
          "text": [
            "Missing values before imputation: 28653\n",
            "Missing values after imputation: 0\n"
          ]
        }
      ]
    },
    {
      "cell_type": "markdown",
      "source": [
        "## Extract train & test without target cols and separate tartgets df with 9 target cols"
      ],
      "metadata": {
        "papermill": {
          "duration": 0.015032,
          "end_time": "2024-02-22T09:23:49.075854",
          "exception": false,
          "start_time": "2024-02-22T09:23:49.060822",
          "status": "completed"
        },
        "tags": [],
        "id": "sFyQa0Kz34bs"
      }
    },
    {
      "cell_type": "code",
      "source": [
        "train = df[df['is_train'] == True]\n",
        "test = df[df['is_train'] == False]\n",
        "train.drop('is_train', axis = 1, inplace=True)\n",
        "test.drop('is_train', axis = 1, inplace=True)\n",
        "test.reset_index(drop = True, inplace = True)\n",
        "\n",
        "test.drop(targets_names, axis = 1, inplace = True)\n",
        "targets = train[targets_names].copy()\n",
        "train.drop(targets_names, axis = 1, inplace = True)"
      ],
      "metadata": {
        "papermill": {
          "duration": 0.039554,
          "end_time": "2024-02-22T09:23:49.13061",
          "exception": false,
          "start_time": "2024-02-22T09:23:49.091056",
          "status": "completed"
        },
        "tags": [],
        "execution": {
          "iopub.status.busy": "2024-03-07T08:53:50.012099Z",
          "iopub.execute_input": "2024-03-07T08:53:50.012404Z",
          "iopub.status.idle": "2024-03-07T08:53:50.027569Z",
          "shell.execute_reply.started": "2024-03-07T08:53:50.012378Z",
          "shell.execute_reply": "2024-03-07T08:53:50.026561Z"
        },
        "trusted": true,
        "colab": {
          "base_uri": "https://localhost:8080/"
        },
        "id": "V5uD7g__34bu",
        "outputId": "666c40af-11f8-48e8-c9a9-0f6e9df0d6c1"
      },
      "execution_count": 24,
      "outputs": [
        {
          "output_type": "stream",
          "name": "stderr",
          "text": [
            "<ipython-input-24-996949eefa5f>:3: SettingWithCopyWarning: \n",
            "A value is trying to be set on a copy of a slice from a DataFrame\n",
            "\n",
            "See the caveats in the documentation: https://pandas.pydata.org/pandas-docs/stable/user_guide/indexing.html#returning-a-view-versus-a-copy\n",
            "  train.drop('is_train', axis = 1, inplace=True)\n",
            "<ipython-input-24-996949eefa5f>:4: SettingWithCopyWarning: \n",
            "A value is trying to be set on a copy of a slice from a DataFrame\n",
            "\n",
            "See the caveats in the documentation: https://pandas.pydata.org/pandas-docs/stable/user_guide/indexing.html#returning-a-view-versus-a-copy\n",
            "  test.drop('is_train', axis = 1, inplace=True)\n",
            "<ipython-input-24-996949eefa5f>:7: SettingWithCopyWarning: \n",
            "A value is trying to be set on a copy of a slice from a DataFrame\n",
            "\n",
            "See the caveats in the documentation: https://pandas.pydata.org/pandas-docs/stable/user_guide/indexing.html#returning-a-view-versus-a-copy\n",
            "  test.drop(targets_names, axis = 1, inplace = True)\n",
            "<ipython-input-24-996949eefa5f>:9: SettingWithCopyWarning: \n",
            "A value is trying to be set on a copy of a slice from a DataFrame\n",
            "\n",
            "See the caveats in the documentation: https://pandas.pydata.org/pandas-docs/stable/user_guide/indexing.html#returning-a-view-versus-a-copy\n",
            "  train.drop(targets_names, axis = 1, inplace = True)\n"
          ]
        }
      ]
    },
    {
      "cell_type": "markdown",
      "source": [
        "## Validate XGB model on train data\n",
        "### Since we have 9 independent target columns, I will train 9 separate separate models on train features to predict each target."
      ],
      "metadata": {
        "execution": {
          "iopub.execute_input": "2024-02-21T11:22:12.4504Z",
          "iopub.status.busy": "2024-02-21T11:22:12.450098Z",
          "iopub.status.idle": "2024-02-21T11:22:12.454644Z",
          "shell.execute_reply": "2024-02-21T11:22:12.453791Z",
          "shell.execute_reply.started": "2024-02-21T11:22:12.450379Z"
        },
        "papermill": {
          "duration": 0.015517,
          "end_time": "2024-02-22T09:23:49.161625",
          "exception": false,
          "start_time": "2024-02-22T09:23:49.146108",
          "status": "completed"
        },
        "tags": [],
        "id": "h1FN58SE34bz"
      }
    },
    {
      "cell_type": "code",
      "source": [
        "targets"
      ],
      "metadata": {
        "papermill": {
          "duration": 0.048259,
          "end_time": "2024-02-22T09:23:49.225403",
          "exception": false,
          "start_time": "2024-02-22T09:23:49.177144",
          "status": "completed"
        },
        "tags": [],
        "execution": {
          "iopub.status.busy": "2024-03-07T08:53:50.028732Z",
          "iopub.execute_input": "2024-03-07T08:53:50.029079Z",
          "iopub.status.idle": "2024-03-07T08:53:50.056252Z",
          "shell.execute_reply.started": "2024-03-07T08:53:50.029047Z",
          "shell.execute_reply": "2024-03-07T08:53:50.055353Z"
        },
        "trusted": true,
        "colab": {
          "base_uri": "https://localhost:8080/",
          "height": 444
        },
        "id": "3PgoyBIp34b0",
        "outputId": "27f26394-6221-4b5c-e834-bb7fa43e69b2"
      },
      "execution_count": 25,
      "outputs": [
        {
          "output_type": "execute_result",
          "data": {
            "text/plain": [
              "      Q0_TOTAL_ASSETS  Q0_TOTAL_LIABILITIES  Q0_TOTAL_STOCKHOLDERS_EQUITY  \\\n",
              "0        1.192950e+09          1.055816e+09                  1.371340e+08   \n",
              "1        1.219954e+09          8.350460e+08                  3.849080e+08   \n",
              "2       -1.358200e+11         -3.797200e+10                 -9.784800e+10   \n",
              "3        8.329800e+07          1.604000e+07                 -3.163300e+07   \n",
              "4        1.485460e+08          5.655500e+07                  9.199100e+07   \n",
              "...               ...                   ...                           ...   \n",
              "1619     3.539600e+08          1.997590e+08                  1.542010e+08   \n",
              "1620     1.061530e+08          3.949300e+07                  6.811700e+07   \n",
              "1621     5.203150e+08          3.807960e+08                  3.233080e+08   \n",
              "1622     1.997210e+08          2.692100e+07                  1.728000e+08   \n",
              "1623     1.333626e+10          1.504531e+10                 -8.217640e+08   \n",
              "\n",
              "      Q0_GROSS_PROFIT  Q0_COST_OF_REVENUES   Q0_REVENUES  Q0_OPERATING_INCOME  \\\n",
              "0          25598000.0         6.189900e+07  4.299200e+07         1.522200e+07   \n",
              "1         111786000.0         2.177960e+08  3.295820e+08         2.890800e+07   \n",
              "2        -435000000.0         4.445000e+09  4.010000e+09        -1.472000e+09   \n",
              "3            494000.0         3.339000e+06  3.833000e+06        -1.234800e+07   \n",
              "4           1761000.0        -2.375000e+06 -6.140000e+05        -1.009800e+07   \n",
              "...               ...                  ...           ...                  ...   \n",
              "1619       48741000.0         4.569300e+07  9.443400e+07         2.616000e+06   \n",
              "1620        1077000.0         1.690000e+05  1.246000e+06        -6.705000e+06   \n",
              "1621       27808000.0         1.123840e+08  1.401920e+08         7.061000e+06   \n",
              "1622              0.0         0.000000e+00  0.000000e+00        -3.391900e+07   \n",
              "1623      394720000.0         5.777330e+08  9.724530e+08         6.259500e+07   \n",
              "\n",
              "      Q0_OPERATING_EXPENSES    Q0_EBITDA  \n",
              "0                10383000.0   15215000.0  \n",
              "1                85522000.0   26264000.0  \n",
              "2               219000000.0 -654000000.0  \n",
              "3                12842000.0  -12348000.0  \n",
              "4                11859000.0  -10098000.0  \n",
              "...                     ...          ...  \n",
              "1619             46125000.0    2616000.0  \n",
              "1620              7782000.0   -6705000.0  \n",
              "1621              9417000.0   18391000.0  \n",
              "1622             33919000.0  -33919000.0  \n",
              "1623            268445000.0  126275000.0  \n",
              "\n",
              "[1624 rows x 9 columns]"
            ],
            "text/html": [
              "\n",
              "  <div id=\"df-522f952e-8544-4af5-a11e-93e85a8abe53\" class=\"colab-df-container\">\n",
              "    <div>\n",
              "<style scoped>\n",
              "    .dataframe tbody tr th:only-of-type {\n",
              "        vertical-align: middle;\n",
              "    }\n",
              "\n",
              "    .dataframe tbody tr th {\n",
              "        vertical-align: top;\n",
              "    }\n",
              "\n",
              "    .dataframe thead th {\n",
              "        text-align: right;\n",
              "    }\n",
              "</style>\n",
              "<table border=\"1\" class=\"dataframe\">\n",
              "  <thead>\n",
              "    <tr style=\"text-align: right;\">\n",
              "      <th></th>\n",
              "      <th>Q0_TOTAL_ASSETS</th>\n",
              "      <th>Q0_TOTAL_LIABILITIES</th>\n",
              "      <th>Q0_TOTAL_STOCKHOLDERS_EQUITY</th>\n",
              "      <th>Q0_GROSS_PROFIT</th>\n",
              "      <th>Q0_COST_OF_REVENUES</th>\n",
              "      <th>Q0_REVENUES</th>\n",
              "      <th>Q0_OPERATING_INCOME</th>\n",
              "      <th>Q0_OPERATING_EXPENSES</th>\n",
              "      <th>Q0_EBITDA</th>\n",
              "    </tr>\n",
              "  </thead>\n",
              "  <tbody>\n",
              "    <tr>\n",
              "      <th>0</th>\n",
              "      <td>1.192950e+09</td>\n",
              "      <td>1.055816e+09</td>\n",
              "      <td>1.371340e+08</td>\n",
              "      <td>25598000.0</td>\n",
              "      <td>6.189900e+07</td>\n",
              "      <td>4.299200e+07</td>\n",
              "      <td>1.522200e+07</td>\n",
              "      <td>10383000.0</td>\n",
              "      <td>15215000.0</td>\n",
              "    </tr>\n",
              "    <tr>\n",
              "      <th>1</th>\n",
              "      <td>1.219954e+09</td>\n",
              "      <td>8.350460e+08</td>\n",
              "      <td>3.849080e+08</td>\n",
              "      <td>111786000.0</td>\n",
              "      <td>2.177960e+08</td>\n",
              "      <td>3.295820e+08</td>\n",
              "      <td>2.890800e+07</td>\n",
              "      <td>85522000.0</td>\n",
              "      <td>26264000.0</td>\n",
              "    </tr>\n",
              "    <tr>\n",
              "      <th>2</th>\n",
              "      <td>-1.358200e+11</td>\n",
              "      <td>-3.797200e+10</td>\n",
              "      <td>-9.784800e+10</td>\n",
              "      <td>-435000000.0</td>\n",
              "      <td>4.445000e+09</td>\n",
              "      <td>4.010000e+09</td>\n",
              "      <td>-1.472000e+09</td>\n",
              "      <td>219000000.0</td>\n",
              "      <td>-654000000.0</td>\n",
              "    </tr>\n",
              "    <tr>\n",
              "      <th>3</th>\n",
              "      <td>8.329800e+07</td>\n",
              "      <td>1.604000e+07</td>\n",
              "      <td>-3.163300e+07</td>\n",
              "      <td>494000.0</td>\n",
              "      <td>3.339000e+06</td>\n",
              "      <td>3.833000e+06</td>\n",
              "      <td>-1.234800e+07</td>\n",
              "      <td>12842000.0</td>\n",
              "      <td>-12348000.0</td>\n",
              "    </tr>\n",
              "    <tr>\n",
              "      <th>4</th>\n",
              "      <td>1.485460e+08</td>\n",
              "      <td>5.655500e+07</td>\n",
              "      <td>9.199100e+07</td>\n",
              "      <td>1761000.0</td>\n",
              "      <td>-2.375000e+06</td>\n",
              "      <td>-6.140000e+05</td>\n",
              "      <td>-1.009800e+07</td>\n",
              "      <td>11859000.0</td>\n",
              "      <td>-10098000.0</td>\n",
              "    </tr>\n",
              "    <tr>\n",
              "      <th>...</th>\n",
              "      <td>...</td>\n",
              "      <td>...</td>\n",
              "      <td>...</td>\n",
              "      <td>...</td>\n",
              "      <td>...</td>\n",
              "      <td>...</td>\n",
              "      <td>...</td>\n",
              "      <td>...</td>\n",
              "      <td>...</td>\n",
              "    </tr>\n",
              "    <tr>\n",
              "      <th>1619</th>\n",
              "      <td>3.539600e+08</td>\n",
              "      <td>1.997590e+08</td>\n",
              "      <td>1.542010e+08</td>\n",
              "      <td>48741000.0</td>\n",
              "      <td>4.569300e+07</td>\n",
              "      <td>9.443400e+07</td>\n",
              "      <td>2.616000e+06</td>\n",
              "      <td>46125000.0</td>\n",
              "      <td>2616000.0</td>\n",
              "    </tr>\n",
              "    <tr>\n",
              "      <th>1620</th>\n",
              "      <td>1.061530e+08</td>\n",
              "      <td>3.949300e+07</td>\n",
              "      <td>6.811700e+07</td>\n",
              "      <td>1077000.0</td>\n",
              "      <td>1.690000e+05</td>\n",
              "      <td>1.246000e+06</td>\n",
              "      <td>-6.705000e+06</td>\n",
              "      <td>7782000.0</td>\n",
              "      <td>-6705000.0</td>\n",
              "    </tr>\n",
              "    <tr>\n",
              "      <th>1621</th>\n",
              "      <td>5.203150e+08</td>\n",
              "      <td>3.807960e+08</td>\n",
              "      <td>3.233080e+08</td>\n",
              "      <td>27808000.0</td>\n",
              "      <td>1.123840e+08</td>\n",
              "      <td>1.401920e+08</td>\n",
              "      <td>7.061000e+06</td>\n",
              "      <td>9417000.0</td>\n",
              "      <td>18391000.0</td>\n",
              "    </tr>\n",
              "    <tr>\n",
              "      <th>1622</th>\n",
              "      <td>1.997210e+08</td>\n",
              "      <td>2.692100e+07</td>\n",
              "      <td>1.728000e+08</td>\n",
              "      <td>0.0</td>\n",
              "      <td>0.000000e+00</td>\n",
              "      <td>0.000000e+00</td>\n",
              "      <td>-3.391900e+07</td>\n",
              "      <td>33919000.0</td>\n",
              "      <td>-33919000.0</td>\n",
              "    </tr>\n",
              "    <tr>\n",
              "      <th>1623</th>\n",
              "      <td>1.333626e+10</td>\n",
              "      <td>1.504531e+10</td>\n",
              "      <td>-8.217640e+08</td>\n",
              "      <td>394720000.0</td>\n",
              "      <td>5.777330e+08</td>\n",
              "      <td>9.724530e+08</td>\n",
              "      <td>6.259500e+07</td>\n",
              "      <td>268445000.0</td>\n",
              "      <td>126275000.0</td>\n",
              "    </tr>\n",
              "  </tbody>\n",
              "</table>\n",
              "<p>1624 rows × 9 columns</p>\n",
              "</div>\n",
              "    <div class=\"colab-df-buttons\">\n",
              "\n",
              "  <div class=\"colab-df-container\">\n",
              "    <button class=\"colab-df-convert\" onclick=\"convertToInteractive('df-522f952e-8544-4af5-a11e-93e85a8abe53')\"\n",
              "            title=\"Convert this dataframe to an interactive table.\"\n",
              "            style=\"display:none;\">\n",
              "\n",
              "  <svg xmlns=\"http://www.w3.org/2000/svg\" height=\"24px\" viewBox=\"0 -960 960 960\">\n",
              "    <path d=\"M120-120v-720h720v720H120Zm60-500h600v-160H180v160Zm220 220h160v-160H400v160Zm0 220h160v-160H400v160ZM180-400h160v-160H180v160Zm440 0h160v-160H620v160ZM180-180h160v-160H180v160Zm440 0h160v-160H620v160Z\"/>\n",
              "  </svg>\n",
              "    </button>\n",
              "\n",
              "  <style>\n",
              "    .colab-df-container {\n",
              "      display:flex;\n",
              "      gap: 12px;\n",
              "    }\n",
              "\n",
              "    .colab-df-convert {\n",
              "      background-color: #E8F0FE;\n",
              "      border: none;\n",
              "      border-radius: 50%;\n",
              "      cursor: pointer;\n",
              "      display: none;\n",
              "      fill: #1967D2;\n",
              "      height: 32px;\n",
              "      padding: 0 0 0 0;\n",
              "      width: 32px;\n",
              "    }\n",
              "\n",
              "    .colab-df-convert:hover {\n",
              "      background-color: #E2EBFA;\n",
              "      box-shadow: 0px 1px 2px rgba(60, 64, 67, 0.3), 0px 1px 3px 1px rgba(60, 64, 67, 0.15);\n",
              "      fill: #174EA6;\n",
              "    }\n",
              "\n",
              "    .colab-df-buttons div {\n",
              "      margin-bottom: 4px;\n",
              "    }\n",
              "\n",
              "    [theme=dark] .colab-df-convert {\n",
              "      background-color: #3B4455;\n",
              "      fill: #D2E3FC;\n",
              "    }\n",
              "\n",
              "    [theme=dark] .colab-df-convert:hover {\n",
              "      background-color: #434B5C;\n",
              "      box-shadow: 0px 1px 3px 1px rgba(0, 0, 0, 0.15);\n",
              "      filter: drop-shadow(0px 1px 2px rgba(0, 0, 0, 0.3));\n",
              "      fill: #FFFFFF;\n",
              "    }\n",
              "  </style>\n",
              "\n",
              "    <script>\n",
              "      const buttonEl =\n",
              "        document.querySelector('#df-522f952e-8544-4af5-a11e-93e85a8abe53 button.colab-df-convert');\n",
              "      buttonEl.style.display =\n",
              "        google.colab.kernel.accessAllowed ? 'block' : 'none';\n",
              "\n",
              "      async function convertToInteractive(key) {\n",
              "        const element = document.querySelector('#df-522f952e-8544-4af5-a11e-93e85a8abe53');\n",
              "        const dataTable =\n",
              "          await google.colab.kernel.invokeFunction('convertToInteractive',\n",
              "                                                    [key], {});\n",
              "        if (!dataTable) return;\n",
              "\n",
              "        const docLinkHtml = 'Like what you see? Visit the ' +\n",
              "          '<a target=\"_blank\" href=https://colab.research.google.com/notebooks/data_table.ipynb>data table notebook</a>'\n",
              "          + ' to learn more about interactive tables.';\n",
              "        element.innerHTML = '';\n",
              "        dataTable['output_type'] = 'display_data';\n",
              "        await google.colab.output.renderOutput(dataTable, element);\n",
              "        const docLink = document.createElement('div');\n",
              "        docLink.innerHTML = docLinkHtml;\n",
              "        element.appendChild(docLink);\n",
              "      }\n",
              "    </script>\n",
              "  </div>\n",
              "\n",
              "\n",
              "<div id=\"df-95316f38-2adc-46e5-9d38-26c3e66c6c1e\">\n",
              "  <button class=\"colab-df-quickchart\" onclick=\"quickchart('df-95316f38-2adc-46e5-9d38-26c3e66c6c1e')\"\n",
              "            title=\"Suggest charts\"\n",
              "            style=\"display:none;\">\n",
              "\n",
              "<svg xmlns=\"http://www.w3.org/2000/svg\" height=\"24px\"viewBox=\"0 0 24 24\"\n",
              "     width=\"24px\">\n",
              "    <g>\n",
              "        <path d=\"M19 3H5c-1.1 0-2 .9-2 2v14c0 1.1.9 2 2 2h14c1.1 0 2-.9 2-2V5c0-1.1-.9-2-2-2zM9 17H7v-7h2v7zm4 0h-2V7h2v10zm4 0h-2v-4h2v4z\"/>\n",
              "    </g>\n",
              "</svg>\n",
              "  </button>\n",
              "\n",
              "<style>\n",
              "  .colab-df-quickchart {\n",
              "      --bg-color: #E8F0FE;\n",
              "      --fill-color: #1967D2;\n",
              "      --hover-bg-color: #E2EBFA;\n",
              "      --hover-fill-color: #174EA6;\n",
              "      --disabled-fill-color: #AAA;\n",
              "      --disabled-bg-color: #DDD;\n",
              "  }\n",
              "\n",
              "  [theme=dark] .colab-df-quickchart {\n",
              "      --bg-color: #3B4455;\n",
              "      --fill-color: #D2E3FC;\n",
              "      --hover-bg-color: #434B5C;\n",
              "      --hover-fill-color: #FFFFFF;\n",
              "      --disabled-bg-color: #3B4455;\n",
              "      --disabled-fill-color: #666;\n",
              "  }\n",
              "\n",
              "  .colab-df-quickchart {\n",
              "    background-color: var(--bg-color);\n",
              "    border: none;\n",
              "    border-radius: 50%;\n",
              "    cursor: pointer;\n",
              "    display: none;\n",
              "    fill: var(--fill-color);\n",
              "    height: 32px;\n",
              "    padding: 0;\n",
              "    width: 32px;\n",
              "  }\n",
              "\n",
              "  .colab-df-quickchart:hover {\n",
              "    background-color: var(--hover-bg-color);\n",
              "    box-shadow: 0 1px 2px rgba(60, 64, 67, 0.3), 0 1px 3px 1px rgba(60, 64, 67, 0.15);\n",
              "    fill: var(--button-hover-fill-color);\n",
              "  }\n",
              "\n",
              "  .colab-df-quickchart-complete:disabled,\n",
              "  .colab-df-quickchart-complete:disabled:hover {\n",
              "    background-color: var(--disabled-bg-color);\n",
              "    fill: var(--disabled-fill-color);\n",
              "    box-shadow: none;\n",
              "  }\n",
              "\n",
              "  .colab-df-spinner {\n",
              "    border: 2px solid var(--fill-color);\n",
              "    border-color: transparent;\n",
              "    border-bottom-color: var(--fill-color);\n",
              "    animation:\n",
              "      spin 1s steps(1) infinite;\n",
              "  }\n",
              "\n",
              "  @keyframes spin {\n",
              "    0% {\n",
              "      border-color: transparent;\n",
              "      border-bottom-color: var(--fill-color);\n",
              "      border-left-color: var(--fill-color);\n",
              "    }\n",
              "    20% {\n",
              "      border-color: transparent;\n",
              "      border-left-color: var(--fill-color);\n",
              "      border-top-color: var(--fill-color);\n",
              "    }\n",
              "    30% {\n",
              "      border-color: transparent;\n",
              "      border-left-color: var(--fill-color);\n",
              "      border-top-color: var(--fill-color);\n",
              "      border-right-color: var(--fill-color);\n",
              "    }\n",
              "    40% {\n",
              "      border-color: transparent;\n",
              "      border-right-color: var(--fill-color);\n",
              "      border-top-color: var(--fill-color);\n",
              "    }\n",
              "    60% {\n",
              "      border-color: transparent;\n",
              "      border-right-color: var(--fill-color);\n",
              "    }\n",
              "    80% {\n",
              "      border-color: transparent;\n",
              "      border-right-color: var(--fill-color);\n",
              "      border-bottom-color: var(--fill-color);\n",
              "    }\n",
              "    90% {\n",
              "      border-color: transparent;\n",
              "      border-bottom-color: var(--fill-color);\n",
              "    }\n",
              "  }\n",
              "</style>\n",
              "\n",
              "  <script>\n",
              "    async function quickchart(key) {\n",
              "      const quickchartButtonEl =\n",
              "        document.querySelector('#' + key + ' button');\n",
              "      quickchartButtonEl.disabled = true;  // To prevent multiple clicks.\n",
              "      quickchartButtonEl.classList.add('colab-df-spinner');\n",
              "      try {\n",
              "        const charts = await google.colab.kernel.invokeFunction(\n",
              "            'suggestCharts', [key], {});\n",
              "      } catch (error) {\n",
              "        console.error('Error during call to suggestCharts:', error);\n",
              "      }\n",
              "      quickchartButtonEl.classList.remove('colab-df-spinner');\n",
              "      quickchartButtonEl.classList.add('colab-df-quickchart-complete');\n",
              "    }\n",
              "    (() => {\n",
              "      let quickchartButtonEl =\n",
              "        document.querySelector('#df-95316f38-2adc-46e5-9d38-26c3e66c6c1e button');\n",
              "      quickchartButtonEl.style.display =\n",
              "        google.colab.kernel.accessAllowed ? 'block' : 'none';\n",
              "    })();\n",
              "  </script>\n",
              "</div>\n",
              "\n",
              "  <div id=\"id_6953f68f-cc31-4680-b267-58d67a13f8b8\">\n",
              "    <style>\n",
              "      .colab-df-generate {\n",
              "        background-color: #E8F0FE;\n",
              "        border: none;\n",
              "        border-radius: 50%;\n",
              "        cursor: pointer;\n",
              "        display: none;\n",
              "        fill: #1967D2;\n",
              "        height: 32px;\n",
              "        padding: 0 0 0 0;\n",
              "        width: 32px;\n",
              "      }\n",
              "\n",
              "      .colab-df-generate:hover {\n",
              "        background-color: #E2EBFA;\n",
              "        box-shadow: 0px 1px 2px rgba(60, 64, 67, 0.3), 0px 1px 3px 1px rgba(60, 64, 67, 0.15);\n",
              "        fill: #174EA6;\n",
              "      }\n",
              "\n",
              "      [theme=dark] .colab-df-generate {\n",
              "        background-color: #3B4455;\n",
              "        fill: #D2E3FC;\n",
              "      }\n",
              "\n",
              "      [theme=dark] .colab-df-generate:hover {\n",
              "        background-color: #434B5C;\n",
              "        box-shadow: 0px 1px 3px 1px rgba(0, 0, 0, 0.15);\n",
              "        filter: drop-shadow(0px 1px 2px rgba(0, 0, 0, 0.3));\n",
              "        fill: #FFFFFF;\n",
              "      }\n",
              "    </style>\n",
              "    <button class=\"colab-df-generate\" onclick=\"generateWithVariable('targets')\"\n",
              "            title=\"Generate code using this dataframe.\"\n",
              "            style=\"display:none;\">\n",
              "\n",
              "  <svg xmlns=\"http://www.w3.org/2000/svg\" height=\"24px\"viewBox=\"0 0 24 24\"\n",
              "       width=\"24px\">\n",
              "    <path d=\"M7,19H8.4L18.45,9,17,7.55,7,17.6ZM5,21V16.75L18.45,3.32a2,2,0,0,1,2.83,0l1.4,1.43a1.91,1.91,0,0,1,.58,1.4,1.91,1.91,0,0,1-.58,1.4L9.25,21ZM18.45,9,17,7.55Zm-12,3A5.31,5.31,0,0,0,4.9,8.1,5.31,5.31,0,0,0,1,6.5,5.31,5.31,0,0,0,4.9,4.9,5.31,5.31,0,0,0,6.5,1,5.31,5.31,0,0,0,8.1,4.9,5.31,5.31,0,0,0,12,6.5,5.46,5.46,0,0,0,6.5,12Z\"/>\n",
              "  </svg>\n",
              "    </button>\n",
              "    <script>\n",
              "      (() => {\n",
              "      const buttonEl =\n",
              "        document.querySelector('#id_6953f68f-cc31-4680-b267-58d67a13f8b8 button.colab-df-generate');\n",
              "      buttonEl.style.display =\n",
              "        google.colab.kernel.accessAllowed ? 'block' : 'none';\n",
              "\n",
              "      buttonEl.onclick = () => {\n",
              "        google.colab.notebook.generateWithVariable('targets');\n",
              "      }\n",
              "      })();\n",
              "    </script>\n",
              "  </div>\n",
              "\n",
              "    </div>\n",
              "  </div>\n"
            ],
            "application/vnd.google.colaboratory.intrinsic+json": {
              "type": "dataframe",
              "variable_name": "targets",
              "summary": "{\n  \"name\": \"targets\",\n  \"rows\": 1624,\n  \"fields\": [\n    {\n      \"column\": \"Q0_TOTAL_ASSETS\",\n      \"properties\": {\n        \"dtype\": \"number\",\n        \"std\": 26366381533.242573,\n        \"min\": -195331000000.0,\n        \"max\": 384830000000.0,\n        \"num_unique_values\": 1605,\n        \"samples\": [\n          104633000.0,\n          123749000000.0,\n          84073.0\n        ],\n        \"semantic_type\": \"\",\n        \"description\": \"\"\n      }\n    },\n    {\n      \"column\": \"Q0_TOTAL_LIABILITIES\",\n      \"properties\": {\n        \"dtype\": \"number\",\n        \"std\": 16243727637.119396,\n        \"min\": -139965000000.0,\n        \"max\": 212717000000.0,\n        \"num_unique_values\": 1605,\n        \"samples\": [\n          213515000.0,\n          77607000000.0,\n          2814055.0\n        ],\n        \"semantic_type\": \"\",\n        \"description\": \"\"\n      }\n    },\n    {\n      \"column\": \"Q0_TOTAL_STOCKHOLDERS_EQUITY\",\n      \"properties\": {\n        \"dtype\": \"number\",\n        \"std\": 11691092662.952324,\n        \"min\": -97848000000.0,\n        \"max\": 180718140097.6792,\n        \"num_unique_values\": 1603,\n        \"samples\": [\n          3852913.0,\n          119471000.0,\n          -2729982.0\n        ],\n        \"semantic_type\": \"\",\n        \"description\": \"\"\n      }\n    },\n    {\n      \"column\": \"Q0_GROSS_PROFIT\",\n      \"properties\": {\n        \"dtype\": \"number\",\n        \"std\": 1817922670.362002,\n        \"min\": -917000000.0,\n        \"max\": 37186000000.0,\n        \"num_unique_values\": 1545,\n        \"samples\": [\n          1264169.0,\n          25259000.0,\n          127287000.0\n        ],\n        \"semantic_type\": \"\",\n        \"description\": \"\"\n      }\n    },\n    {\n      \"column\": \"Q0_COST_OF_REVENUES\",\n      \"properties\": {\n        \"dtype\": \"number\",\n        \"std\": 3085667452.705768,\n        \"min\": -15873000000.0,\n        \"max\": 50749000000.0,\n        \"num_unique_values\": 1397,\n        \"samples\": [\n          464081000.0,\n          24619000.0,\n          1043000000.0\n        ],\n        \"semantic_type\": \"\",\n        \"description\": \"\"\n      }\n    },\n    {\n      \"column\": \"Q0_REVENUES\",\n      \"properties\": {\n        \"dtype\": \"number\",\n        \"std\": 4041766682.6571074,\n        \"min\": -385000000.0,\n        \"max\": 49048000000.0,\n        \"num_unique_values\": 1542,\n        \"samples\": [\n          211369000.0,\n          140000.0,\n          53201000.0\n        ],\n        \"semantic_type\": \"\",\n        \"description\": \"\"\n      }\n    },\n    {\n      \"column\": \"Q0_OPERATING_INCOME\",\n      \"properties\": {\n        \"dtype\": \"number\",\n        \"std\": 631054263.9453919,\n        \"min\": -2654000000.0,\n        \"max\": 13748000000.0,\n        \"num_unique_values\": 1583,\n        \"samples\": [\n          1916394000.0,\n          19006000.0,\n          -1482000.0\n        ],\n        \"semantic_type\": \"\",\n        \"description\": \"\"\n      }\n    },\n    {\n      \"column\": \"Q0_OPERATING_EXPENSES\",\n      \"properties\": {\n        \"dtype\": \"number\",\n        \"std\": 1553039099.421891,\n        \"min\": -24030000.0,\n        \"max\": 41118000000.0,\n        \"num_unique_values\": 1594,\n        \"samples\": [\n          118830000.0,\n          955990.0,\n          17527879.0\n        ],\n        \"semantic_type\": \"\",\n        \"description\": \"\"\n      }\n    },\n    {\n      \"column\": \"Q0_EBITDA\",\n      \"properties\": {\n        \"dtype\": \"number\",\n        \"std\": 1438215965.4134254,\n        \"min\": -32829000000.0,\n        \"max\": 34138000000.0,\n        \"num_unique_values\": 1584,\n        \"samples\": [\n          234800000.0,\n          444977000.0,\n          11983000.0\n        ],\n        \"semantic_type\": \"\",\n        \"description\": \"\"\n      }\n    }\n  ]\n}"
            }
          },
          "metadata": {},
          "execution_count": 25
        }
      ]
    },
    {
      "cell_type": "code",
      "source": [
        "model = XGBRegressor()\n",
        "model = LGBMRegressor()"
      ],
      "metadata": {
        "papermill": {
          "duration": 0.02542,
          "end_time": "2024-02-22T09:23:49.33112",
          "exception": false,
          "start_time": "2024-02-22T09:23:49.3057",
          "status": "completed"
        },
        "tags": [],
        "execution": {
          "iopub.status.busy": "2024-03-07T08:53:50.057405Z",
          "iopub.execute_input": "2024-03-07T08:53:50.057706Z",
          "iopub.status.idle": "2024-03-07T08:53:50.062268Z",
          "shell.execute_reply.started": "2024-03-07T08:53:50.05768Z",
          "shell.execute_reply": "2024-03-07T08:53:50.061322Z"
        },
        "trusted": true,
        "id": "Z9E6rubm34b2"
      },
      "execution_count": 26,
      "outputs": []
    },
    {
      "cell_type": "code",
      "source": [
        "print('Cross validation R2 scores for each target:\\n')\n",
        "cross_val_score_results = {}\n",
        "for target in targets:\n",
        "    score = np.round(np.mean(cvs(model, train, targets[target], cv=3, scoring='r2')),2)\n",
        "    cross_val_score_results[target] = score\n",
        "    print(f'{target} -> {score}')\n",
        "print(f'\\nMean R2 score across all targets: {np.mean(list(cross_val_score_results.values()))}')"
      ],
      "metadata": {
        "papermill": {
          "duration": 64.521823,
          "end_time": "2024-02-22T09:24:53.869062",
          "exception": false,
          "start_time": "2024-02-22T09:23:49.347239",
          "status": "completed"
        },
        "tags": [],
        "execution": {
          "iopub.status.busy": "2024-03-07T08:53:50.064276Z",
          "iopub.execute_input": "2024-03-07T08:53:50.064657Z",
          "iopub.status.idle": "2024-03-07T08:54:16.661751Z",
          "shell.execute_reply.started": "2024-03-07T08:53:50.064623Z",
          "shell.execute_reply": "2024-03-07T08:54:16.660766Z"
        },
        "trusted": true,
        "colab": {
          "base_uri": "https://localhost:8080/"
        },
        "id": "C_Ux2KjD34b3",
        "outputId": "9b9c28f3-4a6d-471c-9aaa-cc0dc91e0eca"
      },
      "execution_count": 27,
      "outputs": [
        {
          "output_type": "stream",
          "name": "stdout",
          "text": [
            "Cross validation R2 scores for each target:\n",
            "\n",
            "[LightGBM] [Warning] Found whitespace in feature_names, replace with underlines\n",
            "[LightGBM] [Info] Auto-choosing col-wise multi-threading, the overhead of testing was 0.004842 seconds.\n",
            "You can set `force_col_wise=true` to remove the overhead.\n",
            "[LightGBM] [Info] Total Bins 45063\n",
            "[LightGBM] [Info] Number of data points in the train set: 1082, number of used features: 205\n",
            "[LightGBM] [Info] Start training from score 5048789590.150647\n",
            "[LightGBM] [Warning] Found whitespace in feature_names, replace with underlines\n",
            "[LightGBM] [Info] Auto-choosing col-wise multi-threading, the overhead of testing was 0.002907 seconds.\n",
            "You can set `force_col_wise=true` to remove the overhead.\n",
            "[LightGBM] [Info] Total Bins 44990\n",
            "[LightGBM] [Info] Number of data points in the train set: 1083, number of used features: 205\n",
            "[LightGBM] [Info] Start training from score 5424062528.641736\n",
            "[LightGBM] [Warning] Found whitespace in feature_names, replace with underlines\n",
            "[LightGBM] [Info] Auto-choosing col-wise multi-threading, the overhead of testing was 0.002629 seconds.\n",
            "You can set `force_col_wise=true` to remove the overhead.\n",
            "[LightGBM] [Info] Total Bins 44949\n",
            "[LightGBM] [Info] Number of data points in the train set: 1083, number of used features: 204\n",
            "[LightGBM] [Info] Start training from score 3920451715.235457\n",
            "Q0_TOTAL_ASSETS -> 0.62\n",
            "[LightGBM] [Warning] Found whitespace in feature_names, replace with underlines\n",
            "[LightGBM] [Info] Auto-choosing col-wise multi-threading, the overhead of testing was 0.002510 seconds.\n",
            "You can set `force_col_wise=true` to remove the overhead.\n",
            "[LightGBM] [Info] Total Bins 45063\n",
            "[LightGBM] [Info] Number of data points in the train set: 1082, number of used features: 205\n",
            "[LightGBM] [Info] Start training from score 3513044586.740643\n",
            "[LightGBM] [Warning] Found whitespace in feature_names, replace with underlines\n",
            "[LightGBM] [Info] Auto-choosing col-wise multi-threading, the overhead of testing was 0.002548 seconds.\n",
            "You can set `force_col_wise=true` to remove the overhead.\n",
            "[LightGBM] [Info] Total Bins 44990\n",
            "[LightGBM] [Info] Number of data points in the train set: 1083, number of used features: 205\n",
            "[LightGBM] [Info] Start training from score 3617933385.028047\n",
            "[LightGBM] [Warning] Found whitespace in feature_names, replace with underlines\n",
            "[LightGBM] [Info] Auto-choosing col-wise multi-threading, the overhead of testing was 0.002544 seconds.\n",
            "You can set `force_col_wise=true` to remove the overhead.\n",
            "[LightGBM] [Info] Total Bins 44949\n",
            "[LightGBM] [Info] Number of data points in the train set: 1083, number of used features: 204\n",
            "[LightGBM] [Info] Start training from score 2469524126.275162\n",
            "Q0_TOTAL_LIABILITIES -> 0.53\n",
            "[LightGBM] [Warning] Found whitespace in feature_names, replace with underlines\n",
            "[LightGBM] [Info] Auto-choosing col-wise multi-threading, the overhead of testing was 0.004518 seconds.\n",
            "You can set `force_col_wise=true` to remove the overhead.\n",
            "[LightGBM] [Info] Total Bins 45063\n",
            "[LightGBM] [Info] Number of data points in the train set: 1082, number of used features: 205\n",
            "[LightGBM] [Info] Start training from score 1176052860.571388\n",
            "[LightGBM] [Warning] Found whitespace in feature_names, replace with underlines\n",
            "[LightGBM] [Info] Auto-choosing col-wise multi-threading, the overhead of testing was 0.004622 seconds.\n",
            "You can set `force_col_wise=true` to remove the overhead.\n",
            "[LightGBM] [Info] Total Bins 44990\n",
            "[LightGBM] [Info] Number of data points in the train set: 1083, number of used features: 205\n",
            "[LightGBM] [Info] Start training from score 1498411737.876693\n",
            "[LightGBM] [Warning] Found whitespace in feature_names, replace with underlines\n",
            "[LightGBM] [Info] Auto-choosing col-wise multi-threading, the overhead of testing was 0.002716 seconds.\n",
            "You can set `force_col_wise=true` to remove the overhead.\n",
            "[LightGBM] [Info] Total Bins 44949\n",
            "[LightGBM] [Info] Number of data points in the train set: 1083, number of used features: 204\n",
            "[LightGBM] [Info] Start training from score 1195074887.516589\n",
            "Q0_TOTAL_STOCKHOLDERS_EQUITY -> 0.76\n",
            "[LightGBM] [Warning] Found whitespace in feature_names, replace with underlines\n",
            "[LightGBM] [Info] Auto-choosing col-wise multi-threading, the overhead of testing was 0.002969 seconds.\n",
            "You can set `force_col_wise=true` to remove the overhead.\n",
            "[LightGBM] [Info] Total Bins 45063\n",
            "[LightGBM] [Info] Number of data points in the train set: 1082, number of used features: 205\n",
            "[LightGBM] [Info] Start training from score 440918638.332717\n",
            "[LightGBM] [Warning] Found whitespace in feature_names, replace with underlines\n",
            "[LightGBM] [Info] Auto-choosing col-wise multi-threading, the overhead of testing was 0.002580 seconds.\n",
            "You can set `force_col_wise=true` to remove the overhead.\n",
            "[LightGBM] [Info] Total Bins 44990\n",
            "[LightGBM] [Info] Number of data points in the train set: 1083, number of used features: 205\n",
            "[LightGBM] [Info] Start training from score 466391580.339797\n",
            "[LightGBM] [Warning] Found whitespace in feature_names, replace with underlines\n",
            "[LightGBM] [Info] Auto-choosing col-wise multi-threading, the overhead of testing was 0.002538 seconds.\n",
            "You can set `force_col_wise=true` to remove the overhead.\n",
            "[LightGBM] [Info] Total Bins 44949\n",
            "[LightGBM] [Info] Number of data points in the train set: 1083, number of used features: 204\n",
            "[LightGBM] [Info] Start training from score 364952218.428439\n",
            "Q0_GROSS_PROFIT -> 0.76\n",
            "[LightGBM] [Warning] Found whitespace in feature_names, replace with underlines\n",
            "[LightGBM] [Info] Auto-choosing col-wise multi-threading, the overhead of testing was 0.004256 seconds.\n",
            "You can set `force_col_wise=true` to remove the overhead.\n",
            "[LightGBM] [Info] Total Bins 45063\n",
            "[LightGBM] [Info] Number of data points in the train set: 1082, number of used features: 205\n",
            "[LightGBM] [Info] Start training from score 763799173.273567\n",
            "[LightGBM] [Warning] Found whitespace in feature_names, replace with underlines\n",
            "[LightGBM] [Info] Auto-choosing col-wise multi-threading, the overhead of testing was 0.002556 seconds.\n",
            "You can set `force_col_wise=true` to remove the overhead.\n",
            "[LightGBM] [Info] Total Bins 44990\n",
            "[LightGBM] [Info] Number of data points in the train set: 1083, number of used features: 205\n",
            "[LightGBM] [Info] Start training from score 677562083.158818\n",
            "[LightGBM] [Warning] Found whitespace in feature_names, replace with underlines\n",
            "[LightGBM] [Info] Auto-choosing col-wise multi-threading, the overhead of testing was 0.002550 seconds.\n",
            "You can set `force_col_wise=true` to remove the overhead.\n",
            "[LightGBM] [Info] Total Bins 44949\n",
            "[LightGBM] [Info] Number of data points in the train set: 1083, number of used features: 204\n",
            "[LightGBM] [Info] Start training from score 534206019.908587\n",
            "Q0_COST_OF_REVENUES -> 0.78\n",
            "[LightGBM] [Warning] Found whitespace in feature_names, replace with underlines\n",
            "[LightGBM] [Info] Auto-choosing col-wise multi-threading, the overhead of testing was 0.002539 seconds.\n",
            "You can set `force_col_wise=true` to remove the overhead.\n",
            "[LightGBM] [Info] Total Bins 45063\n",
            "[LightGBM] [Info] Number of data points in the train set: 1082, number of used features: 205\n",
            "[LightGBM] [Info] Start training from score 1184603562.032347\n",
            "[LightGBM] [Warning] Found whitespace in feature_names, replace with underlines\n",
            "[LightGBM] [Info] Auto-choosing col-wise multi-threading, the overhead of testing was 0.002830 seconds.\n",
            "You can set `force_col_wise=true` to remove the overhead.\n",
            "[LightGBM] [Info] Total Bins 44990\n",
            "[LightGBM] [Info] Number of data points in the train set: 1083, number of used features: 205\n",
            "[LightGBM] [Info] Start training from score 1123507973.955679\n",
            "[LightGBM] [Warning] Found whitespace in feature_names, replace with underlines\n",
            "[LightGBM] [Info] Auto-choosing col-wise multi-threading, the overhead of testing was 0.002644 seconds.\n",
            "You can set `force_col_wise=true` to remove the overhead.\n",
            "[LightGBM] [Info] Total Bins 44949\n",
            "[LightGBM] [Info] Number of data points in the train set: 1083, number of used features: 204\n",
            "[LightGBM] [Info] Start training from score 880794174.569714\n",
            "Q0_REVENUES -> 0.88\n",
            "[LightGBM] [Warning] Found whitespace in feature_names, replace with underlines\n",
            "[LightGBM] [Info] Auto-choosing col-wise multi-threading, the overhead of testing was 0.002638 seconds.\n",
            "You can set `force_col_wise=true` to remove the overhead.\n",
            "[LightGBM] [Info] Total Bins 45063\n",
            "[LightGBM] [Info] Number of data points in the train set: 1082, number of used features: 205\n",
            "[LightGBM] [Info] Start training from score 104276117.547135\n",
            "[LightGBM] [Warning] Found whitespace in feature_names, replace with underlines\n",
            "[LightGBM] [Info] Auto-choosing col-wise multi-threading, the overhead of testing was 0.004665 seconds.\n",
            "You can set `force_col_wise=true` to remove the overhead.\n",
            "[LightGBM] [Info] Total Bins 44990\n",
            "[LightGBM] [Info] Number of data points in the train set: 1083, number of used features: 205\n",
            "[LightGBM] [Info] Start training from score 106101283.993536\n",
            "[LightGBM] [Warning] Found whitespace in feature_names, replace with underlines\n",
            "[LightGBM] [Info] Auto-choosing col-wise multi-threading, the overhead of testing was 0.002651 seconds.\n",
            "You can set `force_col_wise=true` to remove the overhead.\n",
            "[LightGBM] [Info] Total Bins 44949\n",
            "[LightGBM] [Info] Number of data points in the train set: 1083, number of used features: 204\n",
            "[LightGBM] [Info] Start training from score 84904064.252078\n",
            "Q0_OPERATING_INCOME -> 0.67\n",
            "[LightGBM] [Warning] Found whitespace in feature_names, replace with underlines\n",
            "[LightGBM] [Info] Auto-choosing col-wise multi-threading, the overhead of testing was 0.002514 seconds.\n",
            "You can set `force_col_wise=true` to remove the overhead.\n",
            "[LightGBM] [Info] Total Bins 45063\n",
            "[LightGBM] [Info] Number of data points in the train set: 1082, number of used features: 205\n",
            "[LightGBM] [Info] Start training from score 395609142.573937\n",
            "[LightGBM] [Warning] Found whitespace in feature_names, replace with underlines\n",
            "[LightGBM] [Info] Auto-choosing col-wise multi-threading, the overhead of testing was 0.002622 seconds.\n",
            "You can set `force_col_wise=true` to remove the overhead.\n",
            "[LightGBM] [Info] Total Bins 44990\n",
            "[LightGBM] [Info] Number of data points in the train set: 1083, number of used features: 205\n",
            "[LightGBM] [Info] Start training from score 378742748.787627\n",
            "[LightGBM] [Warning] Found whitespace in feature_names, replace with underlines\n",
            "[LightGBM] [Info] Auto-choosing col-wise multi-threading, the overhead of testing was 0.002784 seconds.\n",
            "You can set `force_col_wise=true` to remove the overhead.\n",
            "[LightGBM] [Info] Total Bins 44949\n",
            "[LightGBM] [Info] Number of data points in the train set: 1083, number of used features: 204\n",
            "[LightGBM] [Info] Start training from score 293007329.831948\n",
            "Q0_OPERATING_EXPENSES -> 0.71\n",
            "[LightGBM] [Warning] Found whitespace in feature_names, replace with underlines\n",
            "[LightGBM] [Info] Auto-choosing col-wise multi-threading, the overhead of testing was 0.002659 seconds.\n",
            "You can set `force_col_wise=true` to remove the overhead.\n",
            "[LightGBM] [Info] Total Bins 45063\n",
            "[LightGBM] [Info] Number of data points in the train set: 1082, number of used features: 205\n",
            "[LightGBM] [Info] Start training from score 45309497.095194\n",
            "[LightGBM] [Warning] Found whitespace in feature_names, replace with underlines\n",
            "[LightGBM] [Info] Auto-choosing col-wise multi-threading, the overhead of testing was 0.004279 seconds.\n",
            "You can set `force_col_wise=true` to remove the overhead.\n",
            "[LightGBM] [Info] Total Bins 44990\n",
            "[LightGBM] [Info] Number of data points in the train set: 1083, number of used features: 205\n",
            "[LightGBM] [Info] Start training from score 87648833.433056\n",
            "[LightGBM] [Warning] Found whitespace in feature_names, replace with underlines\n",
            "[LightGBM] [Info] Auto-choosing col-wise multi-threading, the overhead of testing was 0.002638 seconds.\n",
            "You can set `force_col_wise=true` to remove the overhead.\n",
            "[LightGBM] [Info] Total Bins 44949\n",
            "[LightGBM] [Info] Number of data points in the train set: 1083, number of used features: 204\n",
            "[LightGBM] [Info] Start training from score 71944890.277932\n",
            "Q0_EBITDA -> 0.4\n",
            "\n",
            "Mean R2 score across all targets: 0.6788888888888889\n"
          ]
        }
      ]
    },
    {
      "cell_type": "markdown",
      "source": [
        "Arbitrary results. EBITDA R2 is negative, but the rest are not bad. Let's try to upload a first submission."
      ],
      "metadata": {
        "papermill": {
          "duration": 0.017663,
          "end_time": "2024-02-22T09:24:53.905657",
          "exception": false,
          "start_time": "2024-02-22T09:24:53.887994",
          "status": "completed"
        },
        "tags": [],
        "id": "8_RT4ySR34b4"
      }
    },
    {
      "cell_type": "markdown",
      "source": [
        "## Train same model on the whole trains set, predict on test, save to dictionary"
      ],
      "metadata": {
        "papermill": {
          "duration": 0.017472,
          "end_time": "2024-02-22T09:24:53.940244",
          "exception": false,
          "start_time": "2024-02-22T09:24:53.922772",
          "status": "completed"
        },
        "tags": [],
        "id": "XERUBZv_34b6"
      }
    },
    {
      "cell_type": "code",
      "source": [
        "preds = {}\n",
        "for target in targets:\n",
        "    model.fit(train, targets[target])\n",
        "    pred = model.predict(test)\n",
        "    preds[target] = pred\n",
        "    print(f'Finished train/predict for: {target}')"
      ],
      "metadata": {
        "papermill": {
          "duration": 22.850306,
          "end_time": "2024-02-22T09:25:16.80756",
          "exception": false,
          "start_time": "2024-02-22T09:24:53.957254",
          "status": "completed"
        },
        "tags": [],
        "execution": {
          "iopub.status.busy": "2024-03-07T08:54:16.663194Z",
          "iopub.execute_input": "2024-03-07T08:54:16.663699Z",
          "iopub.status.idle": "2024-03-07T08:54:25.827236Z",
          "shell.execute_reply.started": "2024-03-07T08:54:16.663654Z",
          "shell.execute_reply": "2024-03-07T08:54:25.826279Z"
        },
        "trusted": true,
        "colab": {
          "base_uri": "https://localhost:8080/"
        },
        "id": "NRPEK7jy34b6",
        "outputId": "92a02e18-24e9-420c-f5d0-745344588d48"
      },
      "execution_count": 28,
      "outputs": [
        {
          "output_type": "stream",
          "name": "stdout",
          "text": [
            "[LightGBM] [Warning] Found whitespace in feature_names, replace with underlines\n",
            "[LightGBM] [Info] Auto-choosing col-wise multi-threading, the overhead of testing was 0.004121 seconds.\n",
            "You can set `force_col_wise=true` to remove the overhead.\n",
            "[LightGBM] [Info] Total Bins 45880\n",
            "[LightGBM] [Info] Number of data points in the train set: 1624, number of used features: 208\n",
            "[LightGBM] [Info] Start training from score 4797690659.686576\n",
            "Finished train/predict for: Q0_TOTAL_ASSETS\n",
            "[LightGBM] [Warning] Found whitespace in feature_names, replace with underlines\n",
            "[LightGBM] [Info] Auto-choosing col-wise multi-threading, the overhead of testing was 0.003877 seconds.\n",
            "You can set `force_col_wise=true` to remove the overhead.\n",
            "[LightGBM] [Info] Total Bins 45880\n",
            "[LightGBM] [Info] Number of data points in the train set: 1624, number of used features: 208\n",
            "[LightGBM] [Info] Start training from score 3200071036.821043\n",
            "Finished train/predict for: Q0_TOTAL_LIABILITIES\n",
            "[LightGBM] [Warning] Found whitespace in feature_names, replace with underlines\n",
            "[LightGBM] [Info] Auto-choosing col-wise multi-threading, the overhead of testing was 0.003891 seconds.\n",
            "You can set `force_col_wise=true` to remove the overhead.\n",
            "[LightGBM] [Info] Total Bins 45880\n",
            "[LightGBM] [Info] Number of data points in the train set: 1624, number of used features: 208\n",
            "[LightGBM] [Info] Start training from score 1289881530.307625\n",
            "Finished train/predict for: Q0_TOTAL_STOCKHOLDERS_EQUITY\n",
            "[LightGBM] [Warning] Found whitespace in feature_names, replace with underlines\n",
            "[LightGBM] [Info] Auto-choosing col-wise multi-threading, the overhead of testing was 0.003872 seconds.\n",
            "You can set `force_col_wise=true` to remove the overhead.\n",
            "[LightGBM] [Info] Total Bins 45880\n",
            "[LightGBM] [Info] Number of data points in the train set: 1624, number of used features: 208\n",
            "[LightGBM] [Info] Start training from score 424082297.026478\n",
            "Finished train/predict for: Q0_GROSS_PROFIT\n",
            "[LightGBM] [Warning] Found whitespace in feature_names, replace with underlines\n",
            "[LightGBM] [Info] Auto-choosing col-wise multi-threading, the overhead of testing was 0.003967 seconds.\n",
            "You can set `force_col_wise=true` to remove the overhead.\n",
            "[LightGBM] [Info] Total Bins 45880\n",
            "[LightGBM] [Info] Number of data points in the train set: 1624, number of used features: 208\n",
            "[LightGBM] [Info] Start training from score 658490012.655172\n",
            "Finished train/predict for: Q0_COST_OF_REVENUES\n",
            "[LightGBM] [Warning] Found whitespace in feature_names, replace with underlines\n",
            "[LightGBM] [Info] Auto-choosing col-wise multi-threading, the overhead of testing was 0.006773 seconds.\n",
            "You can set `force_col_wise=true` to remove the overhead.\n",
            "[LightGBM] [Info] Total Bins 45880\n",
            "[LightGBM] [Info] Number of data points in the train set: 1624, number of used features: 208\n",
            "[LightGBM] [Info] Start training from score 1062931120.988916\n",
            "Finished train/predict for: Q0_REVENUES\n",
            "[LightGBM] [Warning] Found whitespace in feature_names, replace with underlines\n",
            "[LightGBM] [Info] Auto-choosing col-wise multi-threading, the overhead of testing was 0.003840 seconds.\n",
            "You can set `force_col_wise=true` to remove the overhead.\n",
            "[LightGBM] [Info] Total Bins 45880\n",
            "[LightGBM] [Info] Number of data points in the train set: 1624, number of used features: 208\n",
            "[LightGBM] [Info] Start training from score 98425354.475369\n",
            "Finished train/predict for: Q0_OPERATING_INCOME\n",
            "[LightGBM] [Warning] Found whitespace in feature_names, replace with underlines\n",
            "[LightGBM] [Info] Auto-choosing col-wise multi-threading, the overhead of testing was 0.003869 seconds.\n",
            "You can set `force_col_wise=true` to remove the overhead.\n",
            "[LightGBM] [Info] Total Bins 45880\n",
            "[LightGBM] [Info] Number of data points in the train set: 1624, number of used features: 208\n",
            "[LightGBM] [Info] Start training from score 355774146.370074\n",
            "Finished train/predict for: Q0_OPERATING_EXPENSES\n",
            "[LightGBM] [Warning] Found whitespace in feature_names, replace with underlines\n",
            "[LightGBM] [Info] Auto-choosing col-wise multi-threading, the overhead of testing was 0.003934 seconds.\n",
            "You can set `force_col_wise=true` to remove the overhead.\n",
            "[LightGBM] [Info] Total Bins 45880\n",
            "[LightGBM] [Info] Number of data points in the train set: 1624, number of used features: 208\n",
            "[LightGBM] [Info] Start training from score 68308152.289409\n",
            "Finished train/predict for: Q0_EBITDA\n"
          ]
        }
      ]
    },
    {
      "cell_type": "markdown",
      "source": [
        "## Make submission"
      ],
      "metadata": {
        "papermill": {
          "duration": 0.017542,
          "end_time": "2024-02-22T09:25:16.844707",
          "exception": false,
          "start_time": "2024-02-22T09:25:16.827165",
          "status": "completed"
        },
        "tags": [],
        "id": "eCEH-L6U34b7"
      }
    },
    {
      "cell_type": "code",
      "source": [
        "sub = pd.read_csv('/kaggle/input/financial-performance-prediction/sample_submission.csv')"
      ],
      "metadata": {
        "papermill": {
          "duration": 0.03566,
          "end_time": "2024-02-22T09:25:16.898193",
          "exception": false,
          "start_time": "2024-02-22T09:25:16.862533",
          "status": "completed"
        },
        "tags": [],
        "execution": {
          "iopub.status.busy": "2024-03-07T08:54:25.83159Z",
          "iopub.execute_input": "2024-03-07T08:54:25.831879Z",
          "iopub.status.idle": "2024-03-07T08:54:25.83883Z",
          "shell.execute_reply.started": "2024-03-07T08:54:25.831855Z",
          "shell.execute_reply": "2024-03-07T08:54:25.8379Z"
        },
        "trusted": true,
        "id": "AsKh2grn34b7"
      },
      "execution_count": 29,
      "outputs": []
    },
    {
      "cell_type": "code",
      "source": [
        "# sanity check\n",
        "sub.Id == test.Id"
      ],
      "metadata": {
        "papermill": {
          "duration": 0.031672,
          "end_time": "2024-02-22T09:25:16.948839",
          "exception": false,
          "start_time": "2024-02-22T09:25:16.917167",
          "status": "completed"
        },
        "tags": [],
        "execution": {
          "iopub.status.busy": "2024-03-07T08:54:25.839832Z",
          "iopub.execute_input": "2024-03-07T08:54:25.840071Z",
          "iopub.status.idle": "2024-03-07T08:54:25.851869Z",
          "shell.execute_reply.started": "2024-03-07T08:54:25.84005Z",
          "shell.execute_reply": "2024-03-07T08:54:25.850815Z"
        },
        "trusted": true,
        "colab": {
          "base_uri": "https://localhost:8080/"
        },
        "id": "QP52s-R134cf",
        "outputId": "783bbb4d-bdf6-4fe6-b470-c91f583374f7"
      },
      "execution_count": 30,
      "outputs": [
        {
          "output_type": "execute_result",
          "data": {
            "text/plain": [
              "0      True\n",
              "1      True\n",
              "2      True\n",
              "3      True\n",
              "4      True\n",
              "       ... \n",
              "401    True\n",
              "402    True\n",
              "403    True\n",
              "404    True\n",
              "405    True\n",
              "Name: Id, Length: 406, dtype: bool"
            ]
          },
          "metadata": {},
          "execution_count": 30
        }
      ]
    },
    {
      "cell_type": "code",
      "source": [
        "for target in preds:\n",
        "    sub[target] = preds[target]\n",
        "sub.head()"
      ],
      "metadata": {
        "papermill": {
          "duration": 0.044316,
          "end_time": "2024-02-22T09:25:17.010967",
          "exception": false,
          "start_time": "2024-02-22T09:25:16.966651",
          "status": "completed"
        },
        "tags": [],
        "execution": {
          "iopub.status.busy": "2024-03-07T08:54:25.853108Z",
          "iopub.execute_input": "2024-03-07T08:54:25.853426Z",
          "iopub.status.idle": "2024-03-07T08:54:25.875676Z",
          "shell.execute_reply.started": "2024-03-07T08:54:25.853401Z",
          "shell.execute_reply": "2024-03-07T08:54:25.874391Z"
        },
        "trusted": true,
        "colab": {
          "base_uri": "https://localhost:8080/",
          "height": 226
        },
        "id": "RtoHcCaK34cg",
        "outputId": "1bfc8b62-e9c0-4054-9c71-a7ce58fc08e6"
      },
      "execution_count": 31,
      "outputs": [
        {
          "output_type": "execute_result",
          "data": {
            "text/plain": [
              "     Id   Q0_REVENUES  Q0_COST_OF_REVENUES  Q0_GROSS_PROFIT  \\\n",
              "0   480 -6.187177e+05         1.382839e+05     2.224780e+05   \n",
              "1   573  6.029293e+08         3.338840e+08     2.172746e+08   \n",
              "2  1967  1.710460e+05         1.130393e+07    -2.109272e+06   \n",
              "3    57  4.095904e+08         2.968707e+08     2.032447e+08   \n",
              "4   131  1.067059e+09         8.781635e+08     2.218356e+08   \n",
              "\n",
              "   Q0_OPERATING_EXPENSES     Q0_EBITDA  Q0_OPERATING_INCOME  Q0_TOTAL_ASSETS  \\\n",
              "0           2.032713e+06 -8.455949e+05        -9.602231e+06    -1.438615e+08   \n",
              "1           9.607030e+07  1.226482e+08         7.534886e+07     3.867914e+09   \n",
              "2           1.503264e+06 -3.982340e+06        -1.055372e+06     2.889506e+08   \n",
              "3           7.799436e+07  8.585428e+07         1.201527e+07     5.533261e+09   \n",
              "4           6.908814e+07  9.562196e+07         4.055163e+07     4.226292e+09   \n",
              "\n",
              "   Q0_TOTAL_LIABILITIES  Q0_TOTAL_STOCKHOLDERS_EQUITY  \n",
              "0          1.032924e+08                 -2.374146e+08  \n",
              "1          1.316313e+09                  2.026199e+08  \n",
              "2          1.168301e+08                  1.270107e+08  \n",
              "3          2.747471e+09                  3.204832e+09  \n",
              "4          2.887732e+09                  1.192888e+09  "
            ],
            "text/html": [
              "\n",
              "  <div id=\"df-a0e87913-5d46-4cb6-bc34-e4c92db1c9a6\" class=\"colab-df-container\">\n",
              "    <div>\n",
              "<style scoped>\n",
              "    .dataframe tbody tr th:only-of-type {\n",
              "        vertical-align: middle;\n",
              "    }\n",
              "\n",
              "    .dataframe tbody tr th {\n",
              "        vertical-align: top;\n",
              "    }\n",
              "\n",
              "    .dataframe thead th {\n",
              "        text-align: right;\n",
              "    }\n",
              "</style>\n",
              "<table border=\"1\" class=\"dataframe\">\n",
              "  <thead>\n",
              "    <tr style=\"text-align: right;\">\n",
              "      <th></th>\n",
              "      <th>Id</th>\n",
              "      <th>Q0_REVENUES</th>\n",
              "      <th>Q0_COST_OF_REVENUES</th>\n",
              "      <th>Q0_GROSS_PROFIT</th>\n",
              "      <th>Q0_OPERATING_EXPENSES</th>\n",
              "      <th>Q0_EBITDA</th>\n",
              "      <th>Q0_OPERATING_INCOME</th>\n",
              "      <th>Q0_TOTAL_ASSETS</th>\n",
              "      <th>Q0_TOTAL_LIABILITIES</th>\n",
              "      <th>Q0_TOTAL_STOCKHOLDERS_EQUITY</th>\n",
              "    </tr>\n",
              "  </thead>\n",
              "  <tbody>\n",
              "    <tr>\n",
              "      <th>0</th>\n",
              "      <td>480</td>\n",
              "      <td>-6.187177e+05</td>\n",
              "      <td>1.382839e+05</td>\n",
              "      <td>2.224780e+05</td>\n",
              "      <td>2.032713e+06</td>\n",
              "      <td>-8.455949e+05</td>\n",
              "      <td>-9.602231e+06</td>\n",
              "      <td>-1.438615e+08</td>\n",
              "      <td>1.032924e+08</td>\n",
              "      <td>-2.374146e+08</td>\n",
              "    </tr>\n",
              "    <tr>\n",
              "      <th>1</th>\n",
              "      <td>573</td>\n",
              "      <td>6.029293e+08</td>\n",
              "      <td>3.338840e+08</td>\n",
              "      <td>2.172746e+08</td>\n",
              "      <td>9.607030e+07</td>\n",
              "      <td>1.226482e+08</td>\n",
              "      <td>7.534886e+07</td>\n",
              "      <td>3.867914e+09</td>\n",
              "      <td>1.316313e+09</td>\n",
              "      <td>2.026199e+08</td>\n",
              "    </tr>\n",
              "    <tr>\n",
              "      <th>2</th>\n",
              "      <td>1967</td>\n",
              "      <td>1.710460e+05</td>\n",
              "      <td>1.130393e+07</td>\n",
              "      <td>-2.109272e+06</td>\n",
              "      <td>1.503264e+06</td>\n",
              "      <td>-3.982340e+06</td>\n",
              "      <td>-1.055372e+06</td>\n",
              "      <td>2.889506e+08</td>\n",
              "      <td>1.168301e+08</td>\n",
              "      <td>1.270107e+08</td>\n",
              "    </tr>\n",
              "    <tr>\n",
              "      <th>3</th>\n",
              "      <td>57</td>\n",
              "      <td>4.095904e+08</td>\n",
              "      <td>2.968707e+08</td>\n",
              "      <td>2.032447e+08</td>\n",
              "      <td>7.799436e+07</td>\n",
              "      <td>8.585428e+07</td>\n",
              "      <td>1.201527e+07</td>\n",
              "      <td>5.533261e+09</td>\n",
              "      <td>2.747471e+09</td>\n",
              "      <td>3.204832e+09</td>\n",
              "    </tr>\n",
              "    <tr>\n",
              "      <th>4</th>\n",
              "      <td>131</td>\n",
              "      <td>1.067059e+09</td>\n",
              "      <td>8.781635e+08</td>\n",
              "      <td>2.218356e+08</td>\n",
              "      <td>6.908814e+07</td>\n",
              "      <td>9.562196e+07</td>\n",
              "      <td>4.055163e+07</td>\n",
              "      <td>4.226292e+09</td>\n",
              "      <td>2.887732e+09</td>\n",
              "      <td>1.192888e+09</td>\n",
              "    </tr>\n",
              "  </tbody>\n",
              "</table>\n",
              "</div>\n",
              "    <div class=\"colab-df-buttons\">\n",
              "\n",
              "  <div class=\"colab-df-container\">\n",
              "    <button class=\"colab-df-convert\" onclick=\"convertToInteractive('df-a0e87913-5d46-4cb6-bc34-e4c92db1c9a6')\"\n",
              "            title=\"Convert this dataframe to an interactive table.\"\n",
              "            style=\"display:none;\">\n",
              "\n",
              "  <svg xmlns=\"http://www.w3.org/2000/svg\" height=\"24px\" viewBox=\"0 -960 960 960\">\n",
              "    <path d=\"M120-120v-720h720v720H120Zm60-500h600v-160H180v160Zm220 220h160v-160H400v160Zm0 220h160v-160H400v160ZM180-400h160v-160H180v160Zm440 0h160v-160H620v160ZM180-180h160v-160H180v160Zm440 0h160v-160H620v160Z\"/>\n",
              "  </svg>\n",
              "    </button>\n",
              "\n",
              "  <style>\n",
              "    .colab-df-container {\n",
              "      display:flex;\n",
              "      gap: 12px;\n",
              "    }\n",
              "\n",
              "    .colab-df-convert {\n",
              "      background-color: #E8F0FE;\n",
              "      border: none;\n",
              "      border-radius: 50%;\n",
              "      cursor: pointer;\n",
              "      display: none;\n",
              "      fill: #1967D2;\n",
              "      height: 32px;\n",
              "      padding: 0 0 0 0;\n",
              "      width: 32px;\n",
              "    }\n",
              "\n",
              "    .colab-df-convert:hover {\n",
              "      background-color: #E2EBFA;\n",
              "      box-shadow: 0px 1px 2px rgba(60, 64, 67, 0.3), 0px 1px 3px 1px rgba(60, 64, 67, 0.15);\n",
              "      fill: #174EA6;\n",
              "    }\n",
              "\n",
              "    .colab-df-buttons div {\n",
              "      margin-bottom: 4px;\n",
              "    }\n",
              "\n",
              "    [theme=dark] .colab-df-convert {\n",
              "      background-color: #3B4455;\n",
              "      fill: #D2E3FC;\n",
              "    }\n",
              "\n",
              "    [theme=dark] .colab-df-convert:hover {\n",
              "      background-color: #434B5C;\n",
              "      box-shadow: 0px 1px 3px 1px rgba(0, 0, 0, 0.15);\n",
              "      filter: drop-shadow(0px 1px 2px rgba(0, 0, 0, 0.3));\n",
              "      fill: #FFFFFF;\n",
              "    }\n",
              "  </style>\n",
              "\n",
              "    <script>\n",
              "      const buttonEl =\n",
              "        document.querySelector('#df-a0e87913-5d46-4cb6-bc34-e4c92db1c9a6 button.colab-df-convert');\n",
              "      buttonEl.style.display =\n",
              "        google.colab.kernel.accessAllowed ? 'block' : 'none';\n",
              "\n",
              "      async function convertToInteractive(key) {\n",
              "        const element = document.querySelector('#df-a0e87913-5d46-4cb6-bc34-e4c92db1c9a6');\n",
              "        const dataTable =\n",
              "          await google.colab.kernel.invokeFunction('convertToInteractive',\n",
              "                                                    [key], {});\n",
              "        if (!dataTable) return;\n",
              "\n",
              "        const docLinkHtml = 'Like what you see? Visit the ' +\n",
              "          '<a target=\"_blank\" href=https://colab.research.google.com/notebooks/data_table.ipynb>data table notebook</a>'\n",
              "          + ' to learn more about interactive tables.';\n",
              "        element.innerHTML = '';\n",
              "        dataTable['output_type'] = 'display_data';\n",
              "        await google.colab.output.renderOutput(dataTable, element);\n",
              "        const docLink = document.createElement('div');\n",
              "        docLink.innerHTML = docLinkHtml;\n",
              "        element.appendChild(docLink);\n",
              "      }\n",
              "    </script>\n",
              "  </div>\n",
              "\n",
              "\n",
              "<div id=\"df-2986c8c9-65fd-453d-b41b-34fee21330f6\">\n",
              "  <button class=\"colab-df-quickchart\" onclick=\"quickchart('df-2986c8c9-65fd-453d-b41b-34fee21330f6')\"\n",
              "            title=\"Suggest charts\"\n",
              "            style=\"display:none;\">\n",
              "\n",
              "<svg xmlns=\"http://www.w3.org/2000/svg\" height=\"24px\"viewBox=\"0 0 24 24\"\n",
              "     width=\"24px\">\n",
              "    <g>\n",
              "        <path d=\"M19 3H5c-1.1 0-2 .9-2 2v14c0 1.1.9 2 2 2h14c1.1 0 2-.9 2-2V5c0-1.1-.9-2-2-2zM9 17H7v-7h2v7zm4 0h-2V7h2v10zm4 0h-2v-4h2v4z\"/>\n",
              "    </g>\n",
              "</svg>\n",
              "  </button>\n",
              "\n",
              "<style>\n",
              "  .colab-df-quickchart {\n",
              "      --bg-color: #E8F0FE;\n",
              "      --fill-color: #1967D2;\n",
              "      --hover-bg-color: #E2EBFA;\n",
              "      --hover-fill-color: #174EA6;\n",
              "      --disabled-fill-color: #AAA;\n",
              "      --disabled-bg-color: #DDD;\n",
              "  }\n",
              "\n",
              "  [theme=dark] .colab-df-quickchart {\n",
              "      --bg-color: #3B4455;\n",
              "      --fill-color: #D2E3FC;\n",
              "      --hover-bg-color: #434B5C;\n",
              "      --hover-fill-color: #FFFFFF;\n",
              "      --disabled-bg-color: #3B4455;\n",
              "      --disabled-fill-color: #666;\n",
              "  }\n",
              "\n",
              "  .colab-df-quickchart {\n",
              "    background-color: var(--bg-color);\n",
              "    border: none;\n",
              "    border-radius: 50%;\n",
              "    cursor: pointer;\n",
              "    display: none;\n",
              "    fill: var(--fill-color);\n",
              "    height: 32px;\n",
              "    padding: 0;\n",
              "    width: 32px;\n",
              "  }\n",
              "\n",
              "  .colab-df-quickchart:hover {\n",
              "    background-color: var(--hover-bg-color);\n",
              "    box-shadow: 0 1px 2px rgba(60, 64, 67, 0.3), 0 1px 3px 1px rgba(60, 64, 67, 0.15);\n",
              "    fill: var(--button-hover-fill-color);\n",
              "  }\n",
              "\n",
              "  .colab-df-quickchart-complete:disabled,\n",
              "  .colab-df-quickchart-complete:disabled:hover {\n",
              "    background-color: var(--disabled-bg-color);\n",
              "    fill: var(--disabled-fill-color);\n",
              "    box-shadow: none;\n",
              "  }\n",
              "\n",
              "  .colab-df-spinner {\n",
              "    border: 2px solid var(--fill-color);\n",
              "    border-color: transparent;\n",
              "    border-bottom-color: var(--fill-color);\n",
              "    animation:\n",
              "      spin 1s steps(1) infinite;\n",
              "  }\n",
              "\n",
              "  @keyframes spin {\n",
              "    0% {\n",
              "      border-color: transparent;\n",
              "      border-bottom-color: var(--fill-color);\n",
              "      border-left-color: var(--fill-color);\n",
              "    }\n",
              "    20% {\n",
              "      border-color: transparent;\n",
              "      border-left-color: var(--fill-color);\n",
              "      border-top-color: var(--fill-color);\n",
              "    }\n",
              "    30% {\n",
              "      border-color: transparent;\n",
              "      border-left-color: var(--fill-color);\n",
              "      border-top-color: var(--fill-color);\n",
              "      border-right-color: var(--fill-color);\n",
              "    }\n",
              "    40% {\n",
              "      border-color: transparent;\n",
              "      border-right-color: var(--fill-color);\n",
              "      border-top-color: var(--fill-color);\n",
              "    }\n",
              "    60% {\n",
              "      border-color: transparent;\n",
              "      border-right-color: var(--fill-color);\n",
              "    }\n",
              "    80% {\n",
              "      border-color: transparent;\n",
              "      border-right-color: var(--fill-color);\n",
              "      border-bottom-color: var(--fill-color);\n",
              "    }\n",
              "    90% {\n",
              "      border-color: transparent;\n",
              "      border-bottom-color: var(--fill-color);\n",
              "    }\n",
              "  }\n",
              "</style>\n",
              "\n",
              "  <script>\n",
              "    async function quickchart(key) {\n",
              "      const quickchartButtonEl =\n",
              "        document.querySelector('#' + key + ' button');\n",
              "      quickchartButtonEl.disabled = true;  // To prevent multiple clicks.\n",
              "      quickchartButtonEl.classList.add('colab-df-spinner');\n",
              "      try {\n",
              "        const charts = await google.colab.kernel.invokeFunction(\n",
              "            'suggestCharts', [key], {});\n",
              "      } catch (error) {\n",
              "        console.error('Error during call to suggestCharts:', error);\n",
              "      }\n",
              "      quickchartButtonEl.classList.remove('colab-df-spinner');\n",
              "      quickchartButtonEl.classList.add('colab-df-quickchart-complete');\n",
              "    }\n",
              "    (() => {\n",
              "      let quickchartButtonEl =\n",
              "        document.querySelector('#df-2986c8c9-65fd-453d-b41b-34fee21330f6 button');\n",
              "      quickchartButtonEl.style.display =\n",
              "        google.colab.kernel.accessAllowed ? 'block' : 'none';\n",
              "    })();\n",
              "  </script>\n",
              "</div>\n",
              "\n",
              "    </div>\n",
              "  </div>\n"
            ],
            "application/vnd.google.colaboratory.intrinsic+json": {
              "type": "dataframe",
              "variable_name": "sub",
              "summary": "{\n  \"name\": \"sub\",\n  \"rows\": 406,\n  \"fields\": [\n    {\n      \"column\": \"Id\",\n      \"properties\": {\n        \"dtype\": \"number\",\n        \"std\": 590,\n        \"min\": 2,\n        \"max\": 2026,\n        \"num_unique_values\": 406,\n        \"samples\": [\n          1300,\n          1914,\n          519\n        ],\n        \"semantic_type\": \"\",\n        \"description\": \"\"\n      }\n    },\n    {\n      \"column\": \"Q0_REVENUES\",\n      \"properties\": {\n        \"dtype\": \"number\",\n        \"std\": 3971752171.261304,\n        \"min\": -17301074.854570113,\n        \"max\": 39629897607.13152,\n        \"num_unique_values\": 404,\n        \"samples\": [\n          6282621555.379574,\n          214801820.92746544,\n          317439614.3550573\n        ],\n        \"semantic_type\": \"\",\n        \"description\": \"\"\n      }\n    },\n    {\n      \"column\": \"Q0_COST_OF_REVENUES\",\n      \"properties\": {\n        \"dtype\": \"number\",\n        \"std\": 2769516994.315727,\n        \"min\": -426142381.1518235,\n        \"max\": 33912546605.225674,\n        \"num_unique_values\": 404,\n        \"samples\": [\n          63261123.895818554,\n          1289329407.641226,\n          237883831.45952252\n        ],\n        \"semantic_type\": \"\",\n        \"description\": \"\"\n      }\n    },\n    {\n      \"column\": \"Q0_GROSS_PROFIT\",\n      \"properties\": {\n        \"dtype\": \"number\",\n        \"std\": 1766498592.7912266,\n        \"min\": -289610320.0898487,\n        \"max\": 19779922891.83578,\n        \"num_unique_values\": 403,\n        \"samples\": [\n          8279976560.104837,\n          1357788.8449944884,\n          52139948.944273494\n        ],\n        \"semantic_type\": \"\",\n        \"description\": \"\"\n      }\n    },\n    {\n      \"column\": \"Q0_OPERATING_EXPENSES\",\n      \"properties\": {\n        \"dtype\": \"number\",\n        \"std\": 1342268770.0542598,\n        \"min\": -315054317.11221933,\n        \"max\": 15679830785.54243,\n        \"num_unique_values\": 405,\n        \"samples\": [\n          5356385452.105021,\n          35606343.96894797,\n          78882943.63211116\n        ],\n        \"semantic_type\": \"\",\n        \"description\": \"\"\n      }\n    },\n    {\n      \"column\": \"Q0_EBITDA\",\n      \"properties\": {\n        \"dtype\": \"number\",\n        \"std\": 905736105.854445,\n        \"min\": -6108947042.71541,\n        \"max\": 12660986693.048685,\n        \"num_unique_values\": 402,\n        \"samples\": [\n          -371558.3046475057,\n          -959612.0311764856,\n          -28616059.985163365\n        ],\n        \"semantic_type\": \"\",\n        \"description\": \"\"\n      }\n    },\n    {\n      \"column\": \"Q0_OPERATING_INCOME\",\n      \"properties\": {\n        \"dtype\": \"number\",\n        \"std\": 535718865.82289827,\n        \"min\": -1459163019.1445477,\n        \"max\": 5966210729.07585,\n        \"num_unique_values\": 405,\n        \"samples\": [\n          2997031040.059107,\n          40830472.05278716,\n          29419481.75188889\n        ],\n        \"semantic_type\": \"\",\n        \"description\": \"\"\n      }\n    },\n    {\n      \"column\": \"Q0_TOTAL_ASSETS\",\n      \"properties\": {\n        \"dtype\": \"number\",\n        \"std\": 28438995445.577793,\n        \"min\": -133459407667.08888,\n        \"max\": 250319694575.27875,\n        \"num_unique_values\": 404,\n        \"samples\": [\n          22002096280.621284,\n          1619169391.7873752,\n          2398209139.6448436\n        ],\n        \"semantic_type\": \"\",\n        \"description\": \"\"\n      }\n    },\n    {\n      \"column\": \"Q0_TOTAL_LIABILITIES\",\n      \"properties\": {\n        \"dtype\": \"number\",\n        \"std\": 17263822938.30728,\n        \"min\": -37763114643.665855,\n        \"max\": 184732514371.91055,\n        \"num_unique_values\": 401,\n        \"samples\": [\n          555376311.9771653,\n          461045234.9339738,\n          15998091.265354522\n        ],\n        \"semantic_type\": \"\",\n        \"description\": \"\"\n      }\n    },\n    {\n      \"column\": \"Q0_TOTAL_STOCKHOLDERS_EQUITY\",\n      \"properties\": {\n        \"dtype\": \"number\",\n        \"std\": 10991886513.435333,\n        \"min\": -96401456998.58252,\n        \"max\": 99520017648.5619,\n        \"num_unique_values\": 404,\n        \"samples\": [\n          13384521588.917786,\n          1049961654.5082237,\n          1343209753.016529\n        ],\n        \"semantic_type\": \"\",\n        \"description\": \"\"\n      }\n    }\n  ]\n}"
            }
          },
          "metadata": {},
          "execution_count": 31
        }
      ]
    },
    {
      "cell_type": "code",
      "source": [
        "sub.to_csv('submission.csv', index = False)"
      ],
      "metadata": {
        "papermill": {
          "duration": 0.036792,
          "end_time": "2024-02-22T09:25:17.066324",
          "exception": false,
          "start_time": "2024-02-22T09:25:17.029532",
          "status": "completed"
        },
        "tags": [],
        "execution": {
          "iopub.status.busy": "2024-03-07T08:54:25.877154Z",
          "iopub.execute_input": "2024-03-07T08:54:25.877524Z",
          "iopub.status.idle": "2024-03-07T08:54:25.898Z",
          "shell.execute_reply.started": "2024-03-07T08:54:25.877491Z",
          "shell.execute_reply": "2024-03-07T08:54:25.896863Z"
        },
        "trusted": true,
        "id": "_o_iqxED34cj"
      },
      "execution_count": 32,
      "outputs": []
    },
    {
      "cell_type": "code",
      "source": [],
      "metadata": {
        "papermill": {
          "duration": 0.018005,
          "end_time": "2024-02-22T09:25:17.195709",
          "exception": false,
          "start_time": "2024-02-22T09:25:17.177704",
          "status": "completed"
        },
        "tags": [],
        "id": "IfmpL0G034cl"
      },
      "execution_count": 32,
      "outputs": []
    }
  ]
}