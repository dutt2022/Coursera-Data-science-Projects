{
  "cells": [
    {
      "cell_type": "markdown",
      "metadata": {
        "id": "view-in-github",
        "colab_type": "text"
      },
      "source": [
        "<a href=\"https://colab.research.google.com/github/dutt2022/Coursera-Data-science-Projects/blob/main/tf_time_sereis_forecasr_finance.ipynb\" target=\"_parent\"><img src=\"https://colab.research.google.com/assets/colab-badge.svg\" alt=\"Open In Colab\"/></a>"
      ]
    },
    {
      "cell_type": "code",
      "source": [
        "from google.colab import drive\n",
        "drive.mount('/content/drive')"
      ],
      "metadata": {
        "colab": {
          "base_uri": "https://localhost:8080/"
        },
        "id": "i-JW-OTm3Mgu",
        "outputId": "1d74a845-83d0-4c1a-b48a-c91de70f3aa8"
      },
      "id": "i-JW-OTm3Mgu",
      "execution_count": 5,
      "outputs": [
        {
          "output_type": "stream",
          "name": "stdout",
          "text": [
            "Drive already mounted at /content/drive; to attempt to forcibly remount, call drive.mount(\"/content/drive\", force_remount=True).\n"
          ]
        }
      ]
    },
    {
      "cell_type": "code",
      "execution_count": 6,
      "id": "9d47f821",
      "metadata": {
        "_cell_guid": "b1076dfc-b9ad-4769-8c92-a6c4dae69d19",
        "_uuid": "8f2839f25d086af736a60e9eeb907d3b93b6e0e5",
        "execution": {
          "iopub.execute_input": "2024-03-22T10:19:06.435925Z",
          "iopub.status.busy": "2024-03-22T10:19:06.435500Z",
          "iopub.status.idle": "2024-03-22T10:19:08.834207Z",
          "shell.execute_reply": "2024-03-22T10:19:08.833081Z"
        },
        "papermill": {
          "duration": 2.412155,
          "end_time": "2024-03-22T10:19:08.836642",
          "exception": false,
          "start_time": "2024-03-22T10:19:06.424487",
          "status": "completed"
        },
        "tags": [],
        "id": "9d47f821"
      },
      "outputs": [],
      "source": [
        "import numpy as np\n",
        "import pandas as pd\n",
        "import matplotlib.pyplot as plt\n",
        "from statsmodels.tsa.arima.model import ARIMA\n",
        "import warnings\n",
        "warnings.filterwarnings('ignore')\n",
        "from tqdm import tqdm\n",
        "import os\n",
        "\n"
      ]
    },
    {
      "cell_type": "code",
      "source": [],
      "metadata": {
        "id": "V9-MObcV0mpD"
      },
      "id": "V9-MObcV0mpD",
      "execution_count": 6,
      "outputs": []
    },
    {
      "cell_type": "code",
      "execution_count": 7,
      "id": "77bf8c68",
      "metadata": {
        "execution": {
          "iopub.execute_input": "2024-03-22T10:19:08.855490Z",
          "iopub.status.busy": "2024-03-22T10:19:08.855082Z",
          "iopub.status.idle": "2024-03-22T10:19:09.020740Z",
          "shell.execute_reply": "2024-03-22T10:19:09.019407Z"
        },
        "papermill": {
          "duration": 0.177612,
          "end_time": "2024-03-22T10:19:09.023035",
          "exception": false,
          "start_time": "2024-03-22T10:19:08.845423",
          "status": "completed"
        },
        "tags": [],
        "colab": {
          "base_uri": "https://localhost:8080/"
        },
        "id": "77bf8c68",
        "outputId": "9f4a3783-1038-42e9-d248-d5ebeee812df"
      },
      "outputs": [
        {
          "output_type": "stream",
          "name": "stdout",
          "text": [
            "['Q0_TOTAL_ASSETS', 'Q0_TOTAL_LIABILITIES', 'Q0_TOTAL_STOCKHOLDERS_EQUITY', 'Q0_GROSS_PROFIT', 'Q0_COST_OF_REVENUES', 'Q0_REVENUES', 'Q0_OPERATING_INCOME', 'Q0_OPERATING_EXPENSES', 'Q0_EBITDA']\n"
          ]
        }
      ],
      "source": [
        "train= pd.read_csv('/content/drive/MyDrive/Coding_Machine_Learning/TIME-SERIES-SYNNAX/train.csv')\n",
        "test = pd.read_csv('/content/drive/MyDrive/Coding_Machine_Learning/TIME-SERIES-SYNNAX/test.csv')\n",
        "targets_names = [col for col in train if col not in test]\n",
        "print(targets_names)"
      ]
    },
    {
      "cell_type": "code",
      "execution_count": 8,
      "id": "809fb1de",
      "metadata": {
        "execution": {
          "iopub.execute_input": "2024-03-22T10:19:09.042598Z",
          "iopub.status.busy": "2024-03-22T10:19:09.041972Z",
          "iopub.status.idle": "2024-03-22T10:19:09.046792Z",
          "shell.execute_reply": "2024-03-22T10:19:09.045805Z"
        },
        "papermill": {
          "duration": 0.016941,
          "end_time": "2024-03-22T10:19:09.048890",
          "exception": false,
          "start_time": "2024-03-22T10:19:09.031949",
          "status": "completed"
        },
        "tags": [],
        "id": "809fb1de"
      },
      "outputs": [],
      "source": [
        "quarters = ['Q1', 'Q2', 'Q3', 'Q4', 'Q5', 'Q6', 'Q7', 'Q8', 'Q9', 'Q10']"
      ]
    },
    {
      "cell_type": "code",
      "execution_count": 9,
      "id": "17df81b3",
      "metadata": {
        "execution": {
          "iopub.execute_input": "2024-03-22T10:19:09.068091Z",
          "iopub.status.busy": "2024-03-22T10:19:09.067406Z",
          "iopub.status.idle": "2024-03-22T10:19:09.073987Z",
          "shell.execute_reply": "2024-03-22T10:19:09.073077Z"
        },
        "papermill": {
          "duration": 0.018214,
          "end_time": "2024-03-22T10:19:09.076021",
          "exception": false,
          "start_time": "2024-03-22T10:19:09.057807",
          "status": "completed"
        },
        "tags": [],
        "id": "17df81b3",
        "colab": {
          "base_uri": "https://localhost:8080/"
        },
        "outputId": "ee0ff437-92be-4d93-e97b-d880baea5f70"
      },
      "outputs": [
        {
          "output_type": "execute_result",
          "data": {
            "text/plain": [
              "(1624, 212)"
            ]
          },
          "metadata": {},
          "execution_count": 9
        }
      ],
      "source": [
        "train.shape"
      ]
    },
    {
      "cell_type": "code",
      "execution_count": 10,
      "id": "06478753",
      "metadata": {
        "execution": {
          "iopub.execute_input": "2024-03-22T10:19:09.095061Z",
          "iopub.status.busy": "2024-03-22T10:19:09.094769Z",
          "iopub.status.idle": "2024-03-22T10:19:09.202696Z",
          "shell.execute_reply": "2024-03-22T10:19:09.201113Z"
        },
        "papermill": {
          "duration": 0.120036,
          "end_time": "2024-03-22T10:19:09.205252",
          "exception": false,
          "start_time": "2024-03-22T10:19:09.085216",
          "status": "completed"
        },
        "tags": [],
        "id": "06478753",
        "colab": {
          "base_uri": "https://localhost:8080/"
        },
        "outputId": "ce85fc53-916d-4919-b741-0fc1457da000"
      },
      "outputs": [
        {
          "output_type": "stream",
          "name": "stdout",
          "text": [
            "Q1_TOTAL_ASSETS 1\n",
            "Q2_TOTAL_ASSETS 1\n",
            "Q3_TOTAL_ASSETS 8\n",
            "Q4_TOTAL_ASSETS 4\n",
            "Q5_TOTAL_ASSETS 5\n",
            "Q6_TOTAL_ASSETS 13\n",
            "Q7_TOTAL_ASSETS 148\n",
            "Q8_TOTAL_ASSETS 31\n",
            "Q9_TOTAL_ASSETS 98\n",
            "Q10_TOTAL_ASSETS 178\n",
            "Q3_TOTAL_LIABILITIES 5\n",
            "Q4_TOTAL_LIABILITIES 1\n",
            "Q5_TOTAL_LIABILITIES 2\n",
            "Q6_TOTAL_LIABILITIES 13\n",
            "Q7_TOTAL_LIABILITIES 139\n",
            "Q8_TOTAL_LIABILITIES 25\n",
            "Q9_TOTAL_LIABILITIES 95\n",
            "Q10_TOTAL_LIABILITIES 175\n",
            "Q2_TOTAL_STOCKHOLDERS_EQUITY 1\n",
            "Q3_TOTAL_STOCKHOLDERS_EQUITY 5\n",
            "Q4_TOTAL_STOCKHOLDERS_EQUITY 2\n",
            "Q5_TOTAL_STOCKHOLDERS_EQUITY 3\n",
            "Q6_TOTAL_STOCKHOLDERS_EQUITY 12\n",
            "Q7_TOTAL_STOCKHOLDERS_EQUITY 140\n",
            "Q8_TOTAL_STOCKHOLDERS_EQUITY 25\n",
            "Q9_TOTAL_STOCKHOLDERS_EQUITY 96\n",
            "Q10_TOTAL_STOCKHOLDERS_EQUITY 175\n",
            "Q1_GROSS_PROFIT 7\n",
            "Q2_GROSS_PROFIT 10\n",
            "Q3_GROSS_PROFIT 35\n",
            "Q4_GROSS_PROFIT 11\n",
            "Q5_GROSS_PROFIT 19\n",
            "Q6_GROSS_PROFIT 29\n",
            "Q7_GROSS_PROFIT 179\n",
            "Q8_GROSS_PROFIT 49\n",
            "Q9_GROSS_PROFIT 118\n",
            "Q10_GROSS_PROFIT 201\n",
            "Q1_COST_OF_REVENUES 19\n",
            "Q2_COST_OF_REVENUES 36\n",
            "Q3_COST_OF_REVENUES 102\n",
            "Q4_COST_OF_REVENUES 56\n",
            "Q5_COST_OF_REVENUES 73\n",
            "Q6_COST_OF_REVENUES 96\n",
            "Q7_COST_OF_REVENUES 296\n",
            "Q8_COST_OF_REVENUES 140\n",
            "Q9_COST_OF_REVENUES 226\n",
            "Q10_COST_OF_REVENUES 303\n",
            "Q1_REVENUES 19\n",
            "Q2_REVENUES 35\n",
            "Q3_REVENUES 102\n",
            "Q4_REVENUES 56\n",
            "Q5_REVENUES 76\n",
            "Q6_REVENUES 97\n",
            "Q7_REVENUES 291\n",
            "Q8_REVENUES 136\n",
            "Q9_REVENUES 223\n",
            "Q10_REVENUES 299\n",
            "Q1_OPERATING_INCOME 7\n",
            "Q2_OPERATING_INCOME 11\n",
            "Q3_OPERATING_INCOME 40\n",
            "Q4_OPERATING_INCOME 13\n",
            "Q5_OPERATING_INCOME 23\n",
            "Q6_OPERATING_INCOME 34\n",
            "Q7_OPERATING_INCOME 181\n",
            "Q8_OPERATING_INCOME 55\n",
            "Q9_OPERATING_INCOME 116\n",
            "Q10_OPERATING_INCOME 197\n",
            "Q1_OPERATING_EXPENSES 8\n",
            "Q2_OPERATING_EXPENSES 9\n",
            "Q3_OPERATING_EXPENSES 31\n",
            "Q4_OPERATING_EXPENSES 11\n",
            "Q5_OPERATING_EXPENSES 16\n",
            "Q6_OPERATING_EXPENSES 25\n",
            "Q7_OPERATING_EXPENSES 173\n",
            "Q8_OPERATING_EXPENSES 43\n",
            "Q9_OPERATING_EXPENSES 111\n",
            "Q10_OPERATING_EXPENSES 194\n",
            "Q1_EBITDA 8\n",
            "Q2_EBITDA 10\n",
            "Q3_EBITDA 37\n",
            "Q4_EBITDA 13\n",
            "Q5_EBITDA 21\n",
            "Q6_EBITDA 30\n",
            "Q7_EBITDA 182\n",
            "Q8_EBITDA 53\n",
            "Q9_EBITDA 120\n",
            "Q10_EBITDA 203\n"
          ]
        }
      ],
      "source": [
        "for target in targets_names:\n",
        "    name = target.split('Q0_')[1]\n",
        "    for quarter in quarters:\n",
        "        quarter_target = f'{quarter}_{name}'\n",
        "        if np.any(train[quarter_target].isnull()):\n",
        "            print(quarter_target, train[quarter_target].isnull().sum())"
      ]
    },
    {
      "cell_type": "markdown",
      "id": "e0865343",
      "metadata": {
        "papermill": {
          "duration": 0.009431,
          "end_time": "2024-03-22T10:19:09.226468",
          "exception": false,
          "start_time": "2024-03-22T10:19:09.217037",
          "status": "completed"
        },
        "tags": [],
        "id": "e0865343"
      },
      "source": [
        "### Imputing Missing Values"
      ]
    },
    {
      "cell_type": "code",
      "execution_count": 11,
      "id": "e0d7166d",
      "metadata": {
        "execution": {
          "iopub.execute_input": "2024-03-22T10:19:09.245893Z",
          "iopub.status.busy": "2024-03-22T10:19:09.245596Z",
          "iopub.status.idle": "2024-03-22T10:19:09.251757Z",
          "shell.execute_reply": "2024-03-22T10:19:09.250933Z"
        },
        "papermill": {
          "duration": 0.018293,
          "end_time": "2024-03-22T10:19:09.253856",
          "exception": false,
          "start_time": "2024-03-22T10:19:09.235563",
          "status": "completed"
        },
        "tags": [],
        "id": "e0d7166d"
      },
      "outputs": [],
      "source": [
        "def impute_missing(df):\n",
        "    df.replace([np.inf, -np.inf], np.nan, inplace=True)\n",
        "    for col in df.select_dtypes(exclude = 'O'):\n",
        "        if np.any(df[col].isnull()):\n",
        "            df[col].fillna(df[col].median(), inplace = True)\n",
        "    assert df.select_dtypes(exclude = 'O').isnull().sum().sum() == 0\n",
        "    return df"
      ]
    },
    {
      "cell_type": "code",
      "execution_count": 12,
      "id": "47f25e2f",
      "metadata": {
        "execution": {
          "iopub.execute_input": "2024-03-22T10:19:09.273950Z",
          "iopub.status.busy": "2024-03-22T10:19:09.273325Z",
          "iopub.status.idle": "2024-03-22T10:19:09.286712Z",
          "shell.execute_reply": "2024-03-22T10:19:09.285633Z"
        },
        "papermill": {
          "duration": 0.025794,
          "end_time": "2024-03-22T10:19:09.288908",
          "exception": false,
          "start_time": "2024-03-22T10:19:09.263114",
          "status": "completed"
        },
        "tags": [],
        "id": "47f25e2f"
      },
      "outputs": [],
      "source": [
        "train['train'] = True\n",
        "test['train'] = False\n",
        "df = pd.concat([train, test], axis = 0, ignore_index = True)"
      ]
    },
    {
      "cell_type": "code",
      "execution_count": 13,
      "id": "68241f75",
      "metadata": {
        "execution": {
          "iopub.execute_input": "2024-03-22T10:19:09.308767Z",
          "iopub.status.busy": "2024-03-22T10:19:09.308458Z",
          "iopub.status.idle": "2024-03-22T10:19:09.450047Z",
          "shell.execute_reply": "2024-03-22T10:19:09.448985Z"
        },
        "papermill": {
          "duration": 0.154599,
          "end_time": "2024-03-22T10:19:09.452575",
          "exception": false,
          "start_time": "2024-03-22T10:19:09.297976",
          "status": "completed"
        },
        "tags": [],
        "id": "68241f75"
      },
      "outputs": [],
      "source": [
        "df = impute_missing(df)"
      ]
    },
    {
      "cell_type": "markdown",
      "id": "415f75d2",
      "metadata": {
        "papermill": {
          "duration": 0.009087,
          "end_time": "2024-03-22T10:19:09.471314",
          "exception": false,
          "start_time": "2024-03-22T10:19:09.462227",
          "status": "completed"
        },
        "tags": [],
        "id": "415f75d2"
      },
      "source": [
        "### Converting Categorical Columns"
      ]
    },
    {
      "cell_type": "code",
      "execution_count": 14,
      "id": "abf0bb46",
      "metadata": {
        "execution": {
          "iopub.execute_input": "2024-03-22T10:19:09.491111Z",
          "iopub.status.busy": "2024-03-22T10:19:09.490782Z",
          "iopub.status.idle": "2024-03-22T10:19:09.501216Z",
          "shell.execute_reply": "2024-03-22T10:19:09.500241Z"
        },
        "papermill": {
          "duration": 0.022701,
          "end_time": "2024-03-22T10:19:09.503280",
          "exception": false,
          "start_time": "2024-03-22T10:19:09.480579",
          "status": "completed"
        },
        "tags": [],
        "id": "abf0bb46",
        "colab": {
          "base_uri": "https://localhost:8080/"
        },
        "outputId": "9fa3e298-232f-482b-89fb-8f90cf5f0e7e"
      },
      "outputs": [
        {
          "output_type": "stream",
          "name": "stdout",
          "text": [
            "industry unique values num: 113\n",
            "--------------------------------------------------\n",
            "sector unique values num: 10\n",
            "--------------------------------------------------\n",
            "recommendationKey unique values num: 6\n",
            "--------------------------------------------------\n",
            "financialCurrency unique values num: 2\n",
            "--------------------------------------------------\n"
          ]
        }
      ],
      "source": [
        "for col in df.select_dtypes(include = 'O'):\n",
        "    print(f'{col} unique values num: {df[col].nunique()}')\n",
        "    print('-'*50)"
      ]
    },
    {
      "cell_type": "code",
      "execution_count": 15,
      "id": "6d7cfd64",
      "metadata": {
        "execution": {
          "iopub.execute_input": "2024-03-22T10:19:09.522976Z",
          "iopub.status.busy": "2024-03-22T10:19:09.522692Z",
          "iopub.status.idle": "2024-03-22T10:19:09.527812Z",
          "shell.execute_reply": "2024-03-22T10:19:09.526855Z"
        },
        "papermill": {
          "duration": 0.017093,
          "end_time": "2024-03-22T10:19:09.529748",
          "exception": false,
          "start_time": "2024-03-22T10:19:09.512655",
          "status": "completed"
        },
        "tags": [],
        "id": "6d7cfd64"
      },
      "outputs": [],
      "source": [
        "def binarize(df, col):\n",
        "    uniques = list(df[col].dropna().unique())\n",
        "    df[col] = [1 if val == uniques[0] else 0 for val in df[col]]\n",
        "    return df"
      ]
    },
    {
      "cell_type": "code",
      "execution_count": 16,
      "id": "4a1c0cd7",
      "metadata": {
        "execution": {
          "iopub.execute_input": "2024-03-22T10:19:09.549692Z",
          "iopub.status.busy": "2024-03-22T10:19:09.549404Z",
          "iopub.status.idle": "2024-03-22T10:19:09.554566Z",
          "shell.execute_reply": "2024-03-22T10:19:09.553804Z"
        },
        "papermill": {
          "duration": 0.017559,
          "end_time": "2024-03-22T10:19:09.556579",
          "exception": false,
          "start_time": "2024-03-22T10:19:09.539020",
          "status": "completed"
        },
        "tags": [],
        "id": "4a1c0cd7"
      },
      "outputs": [],
      "source": [
        "def one_hot_encode(df, col):\n",
        "    dummies = pd.get_dummies(df[col], prefix = col).astype(int)\n",
        "    df.drop(col, axis = 1, inplace = True)\n",
        "    df = pd.concat([df, dummies], axis = 1)\n",
        "    return df"
      ]
    },
    {
      "cell_type": "code",
      "execution_count": 17,
      "id": "1ce7dc4d",
      "metadata": {
        "execution": {
          "iopub.execute_input": "2024-03-22T10:19:09.575304Z",
          "iopub.status.busy": "2024-03-22T10:19:09.575032Z",
          "iopub.status.idle": "2024-03-22T10:19:09.579881Z",
          "shell.execute_reply": "2024-03-22T10:19:09.578993Z"
        },
        "papermill": {
          "duration": 0.016274,
          "end_time": "2024-03-22T10:19:09.581806",
          "exception": false,
          "start_time": "2024-03-22T10:19:09.565532",
          "status": "completed"
        },
        "tags": [],
        "id": "1ce7dc4d"
      },
      "outputs": [],
      "source": [
        "def factorize(df, col):\n",
        "    mapping = {name: ix for ix, name in enumerate(df[col].unique())}\n",
        "    df[col] = df[col].map(mapping)\n",
        "    return df"
      ]
    },
    {
      "cell_type": "code",
      "execution_count": 18,
      "id": "b05e70a6",
      "metadata": {
        "execution": {
          "iopub.execute_input": "2024-03-22T10:19:09.601238Z",
          "iopub.status.busy": "2024-03-22T10:19:09.600918Z",
          "iopub.status.idle": "2024-03-22T10:19:09.610519Z",
          "shell.execute_reply": "2024-03-22T10:19:09.609387Z"
        },
        "papermill": {
          "duration": 0.022058,
          "end_time": "2024-03-22T10:19:09.612623",
          "exception": false,
          "start_time": "2024-03-22T10:19:09.590565",
          "status": "completed"
        },
        "tags": [],
        "id": "b05e70a6",
        "colab": {
          "base_uri": "https://localhost:8080/"
        },
        "outputId": "7d97b864-acdb-4623-a9f7-904510d1167b"
      },
      "outputs": [
        {
          "output_type": "stream",
          "name": "stdout",
          "text": [
            "0    1\n",
            "1    1\n",
            "2    0\n",
            "3    1\n",
            "4    1\n",
            "Name: financialCurrency, dtype: int64\n"
          ]
        }
      ],
      "source": [
        "df = binarize(df, 'financialCurrency')\n",
        "print(df['financialCurrency'].head())"
      ]
    },
    {
      "cell_type": "code",
      "execution_count": 19,
      "id": "2429c8f0",
      "metadata": {
        "execution": {
          "iopub.execute_input": "2024-03-22T10:19:09.632571Z",
          "iopub.status.busy": "2024-03-22T10:19:09.632250Z",
          "iopub.status.idle": "2024-03-22T10:19:09.650760Z",
          "shell.execute_reply": "2024-03-22T10:19:09.649665Z"
        },
        "papermill": {
          "duration": 0.031206,
          "end_time": "2024-03-22T10:19:09.653073",
          "exception": false,
          "start_time": "2024-03-22T10:19:09.621867",
          "status": "completed"
        },
        "tags": [],
        "id": "2429c8f0",
        "colab": {
          "base_uri": "https://localhost:8080/"
        },
        "outputId": "3e7614e5-0852-4ac3-b34a-4d67bb2d4aa4"
      },
      "outputs": [
        {
          "output_type": "stream",
          "name": "stdout",
          "text": [
            "(2030, 213)\n",
            "(2030, 227)\n"
          ]
        }
      ],
      "source": [
        "print(df.shape)\n",
        "df = one_hot_encode(df, 'sector')\n",
        "df = one_hot_encode(df, 'recommendationKey')\n",
        "print(df.shape)"
      ]
    },
    {
      "cell_type": "code",
      "execution_count": 20,
      "id": "93f00055",
      "metadata": {
        "execution": {
          "iopub.execute_input": "2024-03-22T10:19:09.682300Z",
          "iopub.status.busy": "2024-03-22T10:19:09.681991Z",
          "iopub.status.idle": "2024-03-22T10:19:09.692218Z",
          "shell.execute_reply": "2024-03-22T10:19:09.691456Z"
        },
        "papermill": {
          "duration": 0.027361,
          "end_time": "2024-03-22T10:19:09.694657",
          "exception": false,
          "start_time": "2024-03-22T10:19:09.667296",
          "status": "completed"
        },
        "tags": [],
        "id": "93f00055",
        "colab": {
          "base_uri": "https://localhost:8080/"
        },
        "outputId": "2f2e56e8-5463-4678-be28-8349dd5051a2"
      },
      "outputs": [
        {
          "output_type": "stream",
          "name": "stdout",
          "text": [
            "float64    207\n",
            "int64       19\n",
            "bool         1\n",
            "dtype: int64\n"
          ]
        }
      ],
      "source": [
        "df = factorize(df, 'industry')\n",
        "print(df.dtypes.value_counts())"
      ]
    },
    {
      "cell_type": "markdown",
      "id": "41d6e4dd",
      "metadata": {
        "papermill": {
          "duration": 0.009912,
          "end_time": "2024-03-22T10:19:09.716276",
          "exception": false,
          "start_time": "2024-03-22T10:19:09.706364",
          "status": "completed"
        },
        "tags": [],
        "id": "41d6e4dd"
      },
      "source": [
        "### Splitting into Train Test"
      ]
    },
    {
      "cell_type": "code",
      "execution_count": 21,
      "id": "db855f31",
      "metadata": {
        "execution": {
          "iopub.execute_input": "2024-03-22T10:19:09.736302Z",
          "iopub.status.busy": "2024-03-22T10:19:09.736007Z",
          "iopub.status.idle": "2024-03-22T10:19:09.747845Z",
          "shell.execute_reply": "2024-03-22T10:19:09.746872Z"
        },
        "papermill": {
          "duration": 0.024001,
          "end_time": "2024-03-22T10:19:09.749884",
          "exception": false,
          "start_time": "2024-03-22T10:19:09.725883",
          "status": "completed"
        },
        "tags": [],
        "id": "db855f31"
      },
      "outputs": [],
      "source": [
        "train = df[df['train'] == True]\n",
        "test = df[df['train'] == False]\n",
        "train.drop('train', axis = 1, inplace=True)\n",
        "test.drop('train', axis = 1, inplace=True)\n",
        "test.reset_index(drop = True, inplace = True)"
      ]
    },
    {
      "cell_type": "code",
      "execution_count": 22,
      "id": "bd2d953e",
      "metadata": {
        "execution": {
          "iopub.execute_input": "2024-03-22T10:19:09.769961Z",
          "iopub.status.busy": "2024-03-22T10:19:09.769339Z",
          "iopub.status.idle": "2024-03-22T10:19:09.775102Z",
          "shell.execute_reply": "2024-03-22T10:19:09.774218Z"
        },
        "papermill": {
          "duration": 0.017936,
          "end_time": "2024-03-22T10:19:09.777121",
          "exception": false,
          "start_time": "2024-03-22T10:19:09.759185",
          "status": "completed"
        },
        "tags": [],
        "id": "bd2d953e"
      },
      "outputs": [],
      "source": [
        "targets = train[targets_names].copy()"
      ]
    },
    {
      "cell_type": "code",
      "execution_count": 23,
      "id": "ca302db5",
      "metadata": {
        "execution": {
          "iopub.execute_input": "2024-03-22T10:19:09.796388Z",
          "iopub.status.busy": "2024-03-22T10:19:09.796066Z",
          "iopub.status.idle": "2024-03-22T10:19:09.803375Z",
          "shell.execute_reply": "2024-03-22T10:19:09.802534Z"
        },
        "papermill": {
          "duration": 0.019177,
          "end_time": "2024-03-22T10:19:09.805290",
          "exception": false,
          "start_time": "2024-03-22T10:19:09.786113",
          "status": "completed"
        },
        "tags": [],
        "id": "ca302db5"
      },
      "outputs": [],
      "source": [
        "def transform_data_to_target_time_series(df):\n",
        "    time_series_dict = {}\n",
        "    for ix in tqdm(df.index):\n",
        "        if str(ix) not in time_series_dict:\n",
        "            time_series_dict[str(ix)] = {}\n",
        "        for target in targets_names:\n",
        "            if target not in time_series_dict[str(ix)]:\n",
        "                time_series_dict[str(ix)][target] = []\n",
        "            time_series_for_ix_target = []\n",
        "            for quarter in quarters:\n",
        "                retrospect_target = f'{quarter}_{target.split(\"Q0_\")[1]}'\n",
        "                time_series_for_ix_target.append(df.loc[ix, retrospect_target])\n",
        "            time_series_dict[str(ix)][target] = time_series_for_ix_target\n",
        "    for ix, company_time_series in time_series_dict.items():\n",
        "        for target, time_series in company_time_series.items():\n",
        "            time_series_dict[ix][target] = time_series[::-1]\n",
        "    return time_series_dict"
      ]
    },
    {
      "cell_type": "code",
      "execution_count": 24,
      "id": "b402bb50",
      "metadata": {
        "execution": {
          "iopub.execute_input": "2024-03-22T10:19:09.829971Z",
          "iopub.status.busy": "2024-03-22T10:19:09.829687Z",
          "iopub.status.idle": "2024-03-22T10:19:10.511981Z",
          "shell.execute_reply": "2024-03-22T10:19:10.510991Z"
        },
        "papermill": {
          "duration": 0.696547,
          "end_time": "2024-03-22T10:19:10.514220",
          "exception": false,
          "start_time": "2024-03-22T10:19:09.817673",
          "status": "completed"
        },
        "tags": [],
        "id": "b402bb50",
        "colab": {
          "base_uri": "https://localhost:8080/"
        },
        "outputId": "de4de09c-bd31-4978-dfa9-b232d05272e7"
      },
      "outputs": [
        {
          "output_type": "stream",
          "name": "stderr",
          "text": [
            "100%|██████████| 406/406 [00:00<00:00, 1265.34it/s]\n"
          ]
        }
      ],
      "source": [
        "time_series_dict = transform_data_to_target_time_series(test)"
      ]
    },
    {
      "cell_type": "code",
      "execution_count": 25,
      "id": "4a076715",
      "metadata": {
        "execution": {
          "iopub.execute_input": "2024-03-22T10:19:10.536067Z",
          "iopub.status.busy": "2024-03-22T10:19:10.535751Z",
          "iopub.status.idle": "2024-03-22T10:19:10.545841Z",
          "shell.execute_reply": "2024-03-22T10:19:10.545034Z"
        },
        "papermill": {
          "duration": 0.023134,
          "end_time": "2024-03-22T10:19:10.547897",
          "exception": false,
          "start_time": "2024-03-22T10:19:10.524763",
          "status": "completed"
        },
        "tags": [],
        "id": "4a076715",
        "colab": {
          "base_uri": "https://localhost:8080/"
        },
        "outputId": "58a1a10e-1813-4092-d17b-b04329e80185"
      },
      "outputs": [
        {
          "output_type": "execute_result",
          "data": {
            "text/plain": [
              "{'Q0_TOTAL_ASSETS': [660818000.0,\n",
              "  613224500.0,\n",
              "  3807886.0,\n",
              "  -601997799.0,\n",
              "  4666476.0,\n",
              "  4665296.0,\n",
              "  3127364.0,\n",
              "  -9291429.0,\n",
              "  3474103.0,\n",
              "  3246148.0],\n",
              " 'Q0_TOTAL_LIABILITIES': [290163000.0,\n",
              "  259555000.0,\n",
              "  1531665.0,\n",
              "  -174354387.5,\n",
              "  4048731.0,\n",
              "  4719074.0,\n",
              "  3652504.0,\n",
              "  -8201194.0,\n",
              "  4336123.0,\n",
              "  4410785.0],\n",
              " 'Q0_TOTAL_STOCKHOLDERS_EQUITY': [242431000.0,\n",
              "  233196732.4440296,\n",
              "  2366105.44748958,\n",
              "  -219738422.10035214,\n",
              "  2899607.3632927523,\n",
              "  2898874.146902336,\n",
              "  1943249.613219199,\n",
              "  -5773413.587450534,\n",
              "  2158702.764063812,\n",
              "  2017058.406201605],\n",
              " 'Q0_GROSS_PROFIT': [34239000.0,\n",
              "  33205000.0,\n",
              "  787.0,\n",
              "  43967000.0,\n",
              "  191.0,\n",
              "  12024.0,\n",
              "  9404.0,\n",
              "  -196714.0,\n",
              "  1134.0,\n",
              "  -57.0],\n",
              " 'Q0_COST_OF_REVENUES': [29579500.0,\n",
              "  27879000.0,\n",
              "  7058.0,\n",
              "  39439073.5,\n",
              "  9956.0,\n",
              "  20840.0,\n",
              "  23969.0,\n",
              "  245992.0,\n",
              "  967.0,\n",
              "  132.0],\n",
              " 'Q0_REVENUES': [103181000.0,\n",
              "  100216000.0,\n",
              "  7845.0,\n",
              "  124887000.0,\n",
              "  10147.0,\n",
              "  32864.0,\n",
              "  33373.0,\n",
              "  49278.0,\n",
              "  2101.0,\n",
              "  75.0],\n",
              " 'Q0_OPERATING_INCOME': [-38304.0,\n",
              "  75933.0,\n",
              "  -518018.0,\n",
              "  481055.0,\n",
              "  -564727.0,\n",
              "  -501760.0,\n",
              "  -475335.0,\n",
              "  -694314.0,\n",
              "  -457868.0,\n",
              "  -500002.0],\n",
              " 'Q0_OPERATING_EXPENSES': [39633000.0,\n",
              "  38250500.0,\n",
              "  518805.0,\n",
              "  48713000.0,\n",
              "  564918.0,\n",
              "  513784.0,\n",
              "  484739.0,\n",
              "  497600.0,\n",
              "  459002.0,\n",
              "  499945.0],\n",
              " 'Q0_EBITDA': [-268440.0,\n",
              "  -102367.0,\n",
              "  -518018.0,\n",
              "  -116268.0,\n",
              "  -564727.0,\n",
              "  -501760.0,\n",
              "  -475335.0,\n",
              "  -694314.0,\n",
              "  -457868.0,\n",
              "  -500002.0]}"
            ]
          },
          "metadata": {},
          "execution_count": 25
        }
      ],
      "source": [
        "company_Id = list(time_series_dict.keys())[0]\n",
        "time_series_dict[company_Id]"
      ]
    },
    {
      "cell_type": "code",
      "execution_count": 26,
      "id": "97b6b585",
      "metadata": {
        "execution": {
          "iopub.execute_input": "2024-03-22T10:19:10.569784Z",
          "iopub.status.busy": "2024-03-22T10:19:10.569488Z",
          "iopub.status.idle": "2024-03-22T10:19:12.946257Z",
          "shell.execute_reply": "2024-03-22T10:19:12.945367Z"
        },
        "papermill": {
          "duration": 2.3905,
          "end_time": "2024-03-22T10:19:12.948673",
          "exception": false,
          "start_time": "2024-03-22T10:19:10.558173",
          "status": "completed"
        },
        "tags": [],
        "id": "97b6b585",
        "colab": {
          "base_uri": "https://localhost:8080/",
          "height": 1000
        },
        "outputId": "0034531d-3a28-4312-bd39-d410b5d12013"
      },
      "outputs": [
        {
          "output_type": "display_data",
          "data": {
            "text/plain": [
              "<Figure size 640x480 with 1 Axes>"
            ],
            "image/png": "[encoded data removed]"
          },
          "metadata": {}
        },
        {
          "output_type": "display_data",
          "data": {
            "text/plain": [
              "<Figure size 640x480 with 1 Axes>"
            ],
            "image/png": "[encoded data removed]"
          },
          "metadata": {}
        },
        {
          "output_type": "display_data",
          "data": {
            "text/plain": [
              "<Figure size 640x480 with 1 Axes>"
            ],
            "image/png": "[encoded data removed]"
          },
          "metadata": {}
        },
        {
          "output_type": "display_data",
          "data": {
            "text/plain": [
              "<Figure size 640x480 with 1 Axes>"
            ],
            "image/png": "[encoded data removed]"
          },
          "metadata": {}
        },
        {
          "output_type": "display_data",
          "data": {
            "text/plain": [
              "<Figure size 640x480 with 1 Axes>"
            ],
            "image/png": "[encoded data removed]"
          },
          "metadata": {}
        },
        {
          "output_type": "display_data",
          "data": {
            "text/plain": [
              "<Figure size 640x480 with 1 Axes>"
            ],
            "image/png": "[encoded data removed]"
          },
          "metadata": {}
        },
        {
          "output_type": "display_data",
          "data": {
            "text/plain": [
              "<Figure size 640x480 with 1 Axes>"
            ],
            "image/png": "[encoded data removed]"
          },
          "metadata": {}
        },
        {
          "output_type": "display_data",
          "data": {
            "text/plain": [
              "<Figure size 640x480 with 1 Axes>"
            ],
            "image/png": "[encoded data removed]"
          },
          "metadata": {}
        },
        {
          "output_type": "display_data",
          "data": {
            "text/plain": [
              "<Figure size 640x480 with 1 Axes>"
            ],
            "image/png": "[encoded data removed]"
          },
          "metadata": {}
        }
      ],
      "source": [
        "for feature, time_series in time_series_dict['0'].items():\n",
        "    pd.Series(time_series).plot(title = feature)\n",
        "    plt.show()"
      ]
    },
    {
      "cell_type": "code",
      "execution_count": 27,
      "id": "2ecc00fc",
      "metadata": {
        "execution": {
          "iopub.execute_input": "2024-03-22T10:19:12.978380Z",
          "iopub.status.busy": "2024-03-22T10:19:12.978072Z",
          "iopub.status.idle": "2024-03-22T10:19:12.983249Z",
          "shell.execute_reply": "2024-03-22T10:19:12.982381Z"
        },
        "papermill": {
          "duration": 0.022002,
          "end_time": "2024-03-22T10:19:12.985117",
          "exception": false,
          "start_time": "2024-03-22T10:19:12.963115",
          "status": "completed"
        },
        "tags": [],
        "id": "2ecc00fc"
      },
      "outputs": [],
      "source": [
        "def fit_arima_make_forecast(time_series):\n",
        "    # fit model\n",
        "    model = ARIMA(time_series, order=(0,1,0))\n",
        "    try:\n",
        "        model_fit = model.fit()\n",
        "    except:\n",
        "        model.initialize_approximate_diffuse() # to handle potential LinAlgError\n",
        "        model_fit = model.fit()\n",
        "    pred = model_fit.forecast()\n",
        "    return pred"
      ]
    },
    {
      "cell_type": "code",
      "execution_count": 28,
      "id": "f5706a43",
      "metadata": {
        "execution": {
          "iopub.execute_input": "2024-03-22T10:19:13.015074Z",
          "iopub.status.busy": "2024-03-22T10:19:13.014557Z",
          "iopub.status.idle": "2024-03-22T10:20:07.030620Z",
          "shell.execute_reply": "2024-03-22T10:20:07.029485Z"
        },
        "papermill": {
          "duration": 54.033936,
          "end_time": "2024-03-22T10:20:07.033283",
          "exception": false,
          "start_time": "2024-03-22T10:19:12.999347",
          "status": "completed"
        },
        "tags": [],
        "id": "f5706a43",
        "colab": {
          "base_uri": "https://localhost:8080/"
        },
        "outputId": "033fb70c-b5ec-40a3-d109-f25d4079a53c"
      },
      "outputs": [
        {
          "output_type": "stream",
          "name": "stderr",
          "text": [
            "100%|██████████| 406/406 [00:44<00:00,  9.21it/s]\n"
          ]
        }
      ],
      "source": [
        "# make predictions for each ix\n",
        "forecast_dict = {}\n",
        "for ix in tqdm(time_series_dict):\n",
        "    if str(ix) not in forecast_dict:\n",
        "        forecast_dict[str(ix)] = {}\n",
        "    for target, time_series in time_series_dict[ix].items():\n",
        "        if target not in forecast_dict[str(ix)]:\n",
        "            forecast_dict[str(ix)][target] = []\n",
        "            time_series = [np.log1p(val) for val in time_series]\n",
        "        forecast = fit_arima_make_forecast(time_series)\n",
        "        forecast = np.expm1(forecast)\n",
        "        forecast_dict[str(ix)][target] = forecast"
      ]
    },
    {
      "cell_type": "code",
      "execution_count": 29,
      "id": "e9781c0a",
      "metadata": {
        "execution": {
          "iopub.execute_input": "2024-03-22T10:20:07.122710Z",
          "iopub.status.busy": "2024-03-22T10:20:07.122041Z",
          "iopub.status.idle": "2024-03-22T10:20:08.229848Z",
          "shell.execute_reply": "2024-03-22T10:20:08.228888Z"
        },
        "papermill": {
          "duration": 1.154697,
          "end_time": "2024-03-22T10:20:08.233389",
          "exception": false,
          "start_time": "2024-03-22T10:20:07.078692",
          "status": "completed"
        },
        "tags": [],
        "id": "e9781c0a"
      },
      "outputs": [],
      "source": [
        "sub = pd.read_csv('/content/drive/MyDrive/Coding_Machine_Learning/TIME-SERIES-SYNNAX/sample_submission.csv')\n",
        "for ix in forecast_dict:\n",
        "    for target in forecast_dict[ix]:\n",
        "        sub.loc[int(ix), target] = forecast_dict[ix][target]"
      ]
    },
    {
      "cell_type": "code",
      "execution_count": 30,
      "id": "3115b1b9",
      "metadata": {
        "execution": {
          "iopub.execute_input": "2024-03-22T10:20:08.350500Z",
          "iopub.status.busy": "2024-03-22T10:20:08.350097Z",
          "iopub.status.idle": "2024-03-22T10:20:08.358818Z",
          "shell.execute_reply": "2024-03-22T10:20:08.357753Z"
        },
        "papermill": {
          "duration": 0.074069,
          "end_time": "2024-03-22T10:20:08.361275",
          "exception": false,
          "start_time": "2024-03-22T10:20:08.287206",
          "status": "completed"
        },
        "tags": [],
        "id": "3115b1b9",
        "colab": {
          "base_uri": "https://localhost:8080/"
        },
        "outputId": "564c2f60-0782-4701-ae68-514cffdcd8dc"
      },
      "outputs": [
        {
          "output_type": "execute_result",
          "data": {
            "text/plain": [
              "Id                              0\n",
              "Q0_REVENUES                     0\n",
              "Q0_COST_OF_REVENUES             0\n",
              "Q0_GROSS_PROFIT                 0\n",
              "Q0_OPERATING_EXPENSES           0\n",
              "Q0_EBITDA                       0\n",
              "Q0_OPERATING_INCOME             0\n",
              "Q0_TOTAL_ASSETS                 0\n",
              "Q0_TOTAL_LIABILITIES            0\n",
              "Q0_TOTAL_STOCKHOLDERS_EQUITY    0\n",
              "dtype: int64"
            ]
          },
          "metadata": {},
          "execution_count": 30
        }
      ],
      "source": [
        "sub.isnull().sum()"
      ]
    },
    {
      "cell_type": "code",
      "execution_count": 31,
      "id": "8d253eb1",
      "metadata": {
        "execution": {
          "iopub.execute_input": "2024-03-22T10:20:08.456126Z",
          "iopub.status.busy": "2024-03-22T10:20:08.455750Z",
          "iopub.status.idle": "2024-03-22T10:20:08.473540Z",
          "shell.execute_reply": "2024-03-22T10:20:08.472360Z"
        },
        "papermill": {
          "duration": 0.065048,
          "end_time": "2024-03-22T10:20:08.476029",
          "exception": false,
          "start_time": "2024-03-22T10:20:08.410981",
          "status": "completed"
        },
        "tags": [],
        "id": "8d253eb1"
      },
      "outputs": [],
      "source": [
        "sub.fillna(sub.mean(), inplace = True)"
      ]
    },
    {
      "cell_type": "code",
      "execution_count": 32,
      "id": "a520e437",
      "metadata": {
        "execution": {
          "iopub.execute_input": "2024-03-22T10:20:08.570106Z",
          "iopub.status.busy": "2024-03-22T10:20:08.569749Z",
          "iopub.status.idle": "2024-03-22T10:20:08.584380Z",
          "shell.execute_reply": "2024-03-22T10:20:08.583453Z"
        },
        "papermill": {
          "duration": 0.062366,
          "end_time": "2024-03-22T10:20:08.586432",
          "exception": false,
          "start_time": "2024-03-22T10:20:08.524066",
          "status": "completed"
        },
        "tags": [],
        "id": "a520e437"
      },
      "outputs": [],
      "source": [
        "sub.to_csv('submission.csv', index = False)"
      ]
    },
    {
      "cell_type": "code",
      "execution_count": 33,
      "id": "8b61fb61",
      "metadata": {
        "execution": {
          "iopub.execute_input": "2024-03-22T10:20:08.728864Z",
          "iopub.status.busy": "2024-03-22T10:20:08.728072Z",
          "iopub.status.idle": "2024-03-22T10:20:08.763273Z",
          "shell.execute_reply": "2024-03-22T10:20:08.762338Z"
        },
        "papermill": {
          "duration": 0.129655,
          "end_time": "2024-03-22T10:20:08.765677",
          "exception": false,
          "start_time": "2024-03-22T10:20:08.636022",
          "status": "completed"
        },
        "tags": [],
        "id": "8b61fb61",
        "colab": {
          "base_uri": "https://localhost:8080/",
          "height": 540
        },
        "outputId": "d06db6fd-919a-42a9-f0ed-15c54089170e"
      },
      "outputs": [
        {
          "output_type": "execute_result",
          "data": {
            "text/plain": [
              "      Id   Q0_REVENUES  Q0_COST_OF_REVENUES  Q0_GROSS_PROFIT  \\\n",
              "0    480  7.500000e+01         1.320000e+02     1.134000e+03   \n",
              "1    573  5.990460e+08         3.790250e+08     2.200210e+08   \n",
              "2   1967  9.021600e+07         2.493450e+07     0.000000e+00   \n",
              "3     57  4.269620e+08         2.567660e+08     1.701960e+08   \n",
              "4    131  1.046000e+09         8.369000e+08     2.091000e+08   \n",
              "5    853  0.000000e+00         0.000000e+00     0.000000e+00   \n",
              "6     78  1.952100e+09         1.507400e+09     4.447000e+08   \n",
              "7   1630  1.922100e+07         2.236000e+06     1.698500e+07   \n",
              "8    963  4.860561e+06         4.330655e+06     5.299060e+05   \n",
              "9   1377  3.251000e+09         2.609000e+09     6.420000e+08   \n",
              "10  1958  2.055910e+08         1.075760e+08     9.801500e+07   \n",
              "11   249  2.733810e+08         1.958360e+08     7.754500e+07   \n",
              "12   172  1.703496e+06         0.000000e+00     1.703496e+06   \n",
              "13   239  2.612380e+08         2.761930e+08     1.364500e+07   \n",
              "14   224  1.646111e+09         1.053190e+09     5.929210e+08   \n",
              "\n",
              "    Q0_OPERATING_EXPENSES    Q0_EBITDA  Q0_OPERATING_INCOME  Q0_TOTAL_ASSETS  \\\n",
              "0                499945.0          0.0             481055.0     3.246148e+06   \n",
              "1             105570000.0  114451000.0           80084000.0     3.700886e+09   \n",
              "2                105915.0          0.0             481055.0     1.318184e+07   \n",
              "3              82896000.0   87300000.0           87300000.0     5.574579e+09   \n",
              "4              85400000.0  123700000.0          120300000.0     4.434700e+09   \n",
              "5              28955000.0          0.0             481055.0     2.690260e+08   \n",
              "6             145600000.0  299100000.0          284400000.0     8.106500e+09   \n",
              "7              30046000.0          0.0                  0.0     3.099430e+08   \n",
              "8               4049216.0          0.0                  0.0     1.403528e+07   \n",
              "9             213000000.0  429000000.0          396000000.0     2.098100e+10   \n",
              "10             41886000.0   56129000.0           23106000.0     1.407254e+09   \n",
              "11             23565000.0   53980000.0             544000.0     8.651560e+08   \n",
              "12              2501587.0          0.0                  0.0     5.525116e+06   \n",
              "13            118564000.0          0.0                  0.0     3.125890e+09   \n",
              "14            174130000.0  418791000.0          418791000.0     1.283985e+10   \n",
              "\n",
              "    Q0_TOTAL_LIABILITIES  Q0_TOTAL_STOCKHOLDERS_EQUITY  \n",
              "0           4.410785e+06                  2.017058e+06  \n",
              "1           1.401267e+09                  3.181690e+08  \n",
              "2           5.586564e+06                  6.941350e+06  \n",
              "3           2.812815e+09                  3.110644e+09  \n",
              "4           3.125500e+09                  1.194000e+09  \n",
              "5           2.130400e+07                  2.477220e+08  \n",
              "6           4.760741e+09                  3.848600e+09  \n",
              "7           1.276580e+08                  1.822850e+08  \n",
              "8           5.409407e+06                  8.625875e+06  \n",
              "9           9.904000e+09                  1.054400e+10  \n",
              "10          6.706080e+08                  7.366460e+08  \n",
              "11          5.839490e+08                  2.339190e+08  \n",
              "12          3.953296e+06                  1.571820e+06  \n",
              "13          2.384479e+09                  7.414110e+08  \n",
              "14          4.758480e+09                  8.081371e+09  "
            ],
            "text/html": [
              "\n",
              "  <div id=\"df-1f875822-7d1c-4aca-8a1d-82a86bc2d935\" class=\"colab-df-container\">\n",
              "    <div>\n",
              "<style scoped>\n",
              "    .dataframe tbody tr th:only-of-type {\n",
              "        vertical-align: middle;\n",
              "    }\n",
              "\n",
              "    .dataframe tbody tr th {\n",
              "        vertical-align: top;\n",
              "    }\n",
              "\n",
              "    .dataframe thead th {\n",
              "        text-align: right;\n",
              "    }\n",
              "</style>\n",
              "<table border=\"1\" class=\"dataframe\">\n",
              "  <thead>\n",
              "    <tr style=\"text-align: right;\">\n",
              "      <th></th>\n",
              "      <th>Id</th>\n",
              "      <th>Q0_REVENUES</th>\n",
              "      <th>Q0_COST_OF_REVENUES</th>\n",
              "      <th>Q0_GROSS_PROFIT</th>\n",
              "      <th>Q0_OPERATING_EXPENSES</th>\n",
              "      <th>Q0_EBITDA</th>\n",
              "      <th>Q0_OPERATING_INCOME</th>\n",
              "      <th>Q0_TOTAL_ASSETS</th>\n",
              "      <th>Q0_TOTAL_LIABILITIES</th>\n",
              "      <th>Q0_TOTAL_STOCKHOLDERS_EQUITY</th>\n",
              "    </tr>\n",
              "  </thead>\n",
              "  <tbody>\n",
              "    <tr>\n",
              "      <th>0</th>\n",
              "      <td>480</td>\n",
              "      <td>7.500000e+01</td>\n",
              "      <td>1.320000e+02</td>\n",
              "      <td>1.134000e+03</td>\n",
              "      <td>499945.0</td>\n",
              "      <td>0.0</td>\n",
              "      <td>481055.0</td>\n",
              "      <td>3.246148e+06</td>\n",
              "      <td>4.410785e+06</td>\n",
              "      <td>2.017058e+06</td>\n",
              "    </tr>\n",
              "    <tr>\n",
              "      <th>1</th>\n",
              "      <td>573</td>\n",
              "      <td>5.990460e+08</td>\n",
              "      <td>3.790250e+08</td>\n",
              "      <td>2.200210e+08</td>\n",
              "      <td>105570000.0</td>\n",
              "      <td>114451000.0</td>\n",
              "      <td>80084000.0</td>\n",
              "      <td>3.700886e+09</td>\n",
              "      <td>1.401267e+09</td>\n",
              "      <td>3.181690e+08</td>\n",
              "    </tr>\n",
              "    <tr>\n",
              "      <th>2</th>\n",
              "      <td>1967</td>\n",
              "      <td>9.021600e+07</td>\n",
              "      <td>2.493450e+07</td>\n",
              "      <td>0.000000e+00</td>\n",
              "      <td>105915.0</td>\n",
              "      <td>0.0</td>\n",
              "      <td>481055.0</td>\n",
              "      <td>1.318184e+07</td>\n",
              "      <td>5.586564e+06</td>\n",
              "      <td>6.941350e+06</td>\n",
              "    </tr>\n",
              "    <tr>\n",
              "      <th>3</th>\n",
              "      <td>57</td>\n",
              "      <td>4.269620e+08</td>\n",
              "      <td>2.567660e+08</td>\n",
              "      <td>1.701960e+08</td>\n",
              "      <td>82896000.0</td>\n",
              "      <td>87300000.0</td>\n",
              "      <td>87300000.0</td>\n",
              "      <td>5.574579e+09</td>\n",
              "      <td>2.812815e+09</td>\n",
              "      <td>3.110644e+09</td>\n",
              "    </tr>\n",
              "    <tr>\n",
              "      <th>4</th>\n",
              "      <td>131</td>\n",
              "      <td>1.046000e+09</td>\n",
              "      <td>8.369000e+08</td>\n",
              "      <td>2.091000e+08</td>\n",
              "      <td>85400000.0</td>\n",
              "      <td>123700000.0</td>\n",
              "      <td>120300000.0</td>\n",
              "      <td>4.434700e+09</td>\n",
              "      <td>3.125500e+09</td>\n",
              "      <td>1.194000e+09</td>\n",
              "    </tr>\n",
              "    <tr>\n",
              "      <th>5</th>\n",
              "      <td>853</td>\n",
              "      <td>0.000000e+00</td>\n",
              "      <td>0.000000e+00</td>\n",
              "      <td>0.000000e+00</td>\n",
              "      <td>28955000.0</td>\n",
              "      <td>0.0</td>\n",
              "      <td>481055.0</td>\n",
              "      <td>2.690260e+08</td>\n",
              "      <td>2.130400e+07</td>\n",
              "      <td>2.477220e+08</td>\n",
              "    </tr>\n",
              "    <tr>\n",
              "      <th>6</th>\n",
              "      <td>78</td>\n",
              "      <td>1.952100e+09</td>\n",
              "      <td>1.507400e+09</td>\n",
              "      <td>4.447000e+08</td>\n",
              "      <td>145600000.0</td>\n",
              "      <td>299100000.0</td>\n",
              "      <td>284400000.0</td>\n",
              "      <td>8.106500e+09</td>\n",
              "      <td>4.760741e+09</td>\n",
              "      <td>3.848600e+09</td>\n",
              "    </tr>\n",
              "    <tr>\n",
              "      <th>7</th>\n",
              "      <td>1630</td>\n",
              "      <td>1.922100e+07</td>\n",
              "      <td>2.236000e+06</td>\n",
              "      <td>1.698500e+07</td>\n",
              "      <td>30046000.0</td>\n",
              "      <td>0.0</td>\n",
              "      <td>0.0</td>\n",
              "      <td>3.099430e+08</td>\n",
              "      <td>1.276580e+08</td>\n",
              "      <td>1.822850e+08</td>\n",
              "    </tr>\n",
              "    <tr>\n",
              "      <th>8</th>\n",
              "      <td>963</td>\n",
              "      <td>4.860561e+06</td>\n",
              "      <td>4.330655e+06</td>\n",
              "      <td>5.299060e+05</td>\n",
              "      <td>4049216.0</td>\n",
              "      <td>0.0</td>\n",
              "      <td>0.0</td>\n",
              "      <td>1.403528e+07</td>\n",
              "      <td>5.409407e+06</td>\n",
              "      <td>8.625875e+06</td>\n",
              "    </tr>\n",
              "    <tr>\n",
              "      <th>9</th>\n",
              "      <td>1377</td>\n",
              "      <td>3.251000e+09</td>\n",
              "      <td>2.609000e+09</td>\n",
              "      <td>6.420000e+08</td>\n",
              "      <td>213000000.0</td>\n",
              "      <td>429000000.0</td>\n",
              "      <td>396000000.0</td>\n",
              "      <td>2.098100e+10</td>\n",
              "      <td>9.904000e+09</td>\n",
              "      <td>1.054400e+10</td>\n",
              "    </tr>\n",
              "    <tr>\n",
              "      <th>10</th>\n",
              "      <td>1958</td>\n",
              "      <td>2.055910e+08</td>\n",
              "      <td>1.075760e+08</td>\n",
              "      <td>9.801500e+07</td>\n",
              "      <td>41886000.0</td>\n",
              "      <td>56129000.0</td>\n",
              "      <td>23106000.0</td>\n",
              "      <td>1.407254e+09</td>\n",
              "      <td>6.706080e+08</td>\n",
              "      <td>7.366460e+08</td>\n",
              "    </tr>\n",
              "    <tr>\n",
              "      <th>11</th>\n",
              "      <td>249</td>\n",
              "      <td>2.733810e+08</td>\n",
              "      <td>1.958360e+08</td>\n",
              "      <td>7.754500e+07</td>\n",
              "      <td>23565000.0</td>\n",
              "      <td>53980000.0</td>\n",
              "      <td>544000.0</td>\n",
              "      <td>8.651560e+08</td>\n",
              "      <td>5.839490e+08</td>\n",
              "      <td>2.339190e+08</td>\n",
              "    </tr>\n",
              "    <tr>\n",
              "      <th>12</th>\n",
              "      <td>172</td>\n",
              "      <td>1.703496e+06</td>\n",
              "      <td>0.000000e+00</td>\n",
              "      <td>1.703496e+06</td>\n",
              "      <td>2501587.0</td>\n",
              "      <td>0.0</td>\n",
              "      <td>0.0</td>\n",
              "      <td>5.525116e+06</td>\n",
              "      <td>3.953296e+06</td>\n",
              "      <td>1.571820e+06</td>\n",
              "    </tr>\n",
              "    <tr>\n",
              "      <th>13</th>\n",
              "      <td>239</td>\n",
              "      <td>2.612380e+08</td>\n",
              "      <td>2.761930e+08</td>\n",
              "      <td>1.364500e+07</td>\n",
              "      <td>118564000.0</td>\n",
              "      <td>0.0</td>\n",
              "      <td>0.0</td>\n",
              "      <td>3.125890e+09</td>\n",
              "      <td>2.384479e+09</td>\n",
              "      <td>7.414110e+08</td>\n",
              "    </tr>\n",
              "    <tr>\n",
              "      <th>14</th>\n",
              "      <td>224</td>\n",
              "      <td>1.646111e+09</td>\n",
              "      <td>1.053190e+09</td>\n",
              "      <td>5.929210e+08</td>\n",
              "      <td>174130000.0</td>\n",
              "      <td>418791000.0</td>\n",
              "      <td>418791000.0</td>\n",
              "      <td>1.283985e+10</td>\n",
              "      <td>4.758480e+09</td>\n",
              "      <td>8.081371e+09</td>\n",
              "    </tr>\n",
              "  </tbody>\n",
              "</table>\n",
              "</div>\n",
              "    <div class=\"colab-df-buttons\">\n",
              "\n",
              "  <div class=\"colab-df-container\">\n",
              "    <button class=\"colab-df-convert\" onclick=\"convertToInteractive('df-1f875822-7d1c-4aca-8a1d-82a86bc2d935')\"\n",
              "            title=\"Convert this dataframe to an interactive table.\"\n",
              "            style=\"display:none;\">\n",
              "\n",
              "  <svg xmlns=\"http://www.w3.org/2000/svg\" height=\"24px\" viewBox=\"0 -960 960 960\">\n",
              "    <path d=\"M120-120v-720h720v720H120Zm60-500h600v-160H180v160Zm220 220h160v-160H400v160Zm0 220h160v-160H400v160ZM180-400h160v-160H180v160Zm440 0h160v-160H620v160ZM180-180h160v-160H180v160Zm440 0h160v-160H620v160Z\"/>\n",
              "  </svg>\n",
              "    </button>\n",
              "\n",
              "  <style>\n",
              "    .colab-df-container {\n",
              "      display:flex;\n",
              "      gap: 12px;\n",
              "    }\n",
              "\n",
              "    .colab-df-convert {\n",
              "      background-color: #E8F0FE;\n",
              "      border: none;\n",
              "      border-radius: 50%;\n",
              "      cursor: pointer;\n",
              "      display: none;\n",
              "      fill: #1967D2;\n",
              "      height: 32px;\n",
              "      padding: 0 0 0 0;\n",
              "      width: 32px;\n",
              "    }\n",
              "\n",
              "    .colab-df-convert:hover {\n",
              "      background-color: #E2EBFA;\n",
              "      box-shadow: 0px 1px 2px rgba(60, 64, 67, 0.3), 0px 1px 3px 1px rgba(60, 64, 67, 0.15);\n",
              "      fill: #174EA6;\n",
              "    }\n",
              "\n",
              "    .colab-df-buttons div {\n",
              "      margin-bottom: 4px;\n",
              "    }\n",
              "\n",
              "    [theme=dark] .colab-df-convert {\n",
              "      background-color: #3B4455;\n",
              "      fill: #D2E3FC;\n",
              "    }\n",
              "\n",
              "    [theme=dark] .colab-df-convert:hover {\n",
              "      background-color: #434B5C;\n",
              "      box-shadow: 0px 1px 3px 1px rgba(0, 0, 0, 0.15);\n",
              "      filter: drop-shadow(0px 1px 2px rgba(0, 0, 0, 0.3));\n",
              "      fill: #FFFFFF;\n",
              "    }\n",
              "  </style>\n",
              "\n",
              "    <script>\n",
              "      const buttonEl =\n",
              "        document.querySelector('#df-1f875822-7d1c-4aca-8a1d-82a86bc2d935 button.colab-df-convert');\n",
              "      buttonEl.style.display =\n",
              "        google.colab.kernel.accessAllowed ? 'block' : 'none';\n",
              "\n",
              "      async function convertToInteractive(key) {\n",
              "        const element = document.querySelector('#df-1f875822-7d1c-4aca-8a1d-82a86bc2d935');\n",
              "        const dataTable =\n",
              "          await google.colab.kernel.invokeFunction('convertToInteractive',\n",
              "                                                    [key], {});\n",
              "        if (!dataTable) return;\n",
              "\n",
              "        const docLinkHtml = 'Like what you see? Visit the ' +\n",
              "          '<a target=\"_blank\" href=https://colab.research.google.com/notebooks/data_table.ipynb>data table notebook</a>'\n",
              "          + ' to learn more about interactive tables.';\n",
              "        element.innerHTML = '';\n",
              "        dataTable['output_type'] = 'display_data';\n",
              "        await google.colab.output.renderOutput(dataTable, element);\n",
              "        const docLink = document.createElement('div');\n",
              "        docLink.innerHTML = docLinkHtml;\n",
              "        element.appendChild(docLink);\n",
              "      }\n",
              "    </script>\n",
              "  </div>\n",
              "\n",
              "\n",
              "<div id=\"df-d160f021-ebe5-4b23-b0b9-4cebfda97bde\">\n",
              "  <button class=\"colab-df-quickchart\" onclick=\"quickchart('df-d160f021-ebe5-4b23-b0b9-4cebfda97bde')\"\n",
              "            title=\"Suggest charts\"\n",
              "            style=\"display:none;\">\n",
              "\n",
              "<svg xmlns=\"http://www.w3.org/2000/svg\" height=\"24px\"viewBox=\"0 0 24 24\"\n",
              "     width=\"24px\">\n",
              "    <g>\n",
              "        <path d=\"M19 3H5c-1.1 0-2 .9-2 2v14c0 1.1.9 2 2 2h14c1.1 0 2-.9 2-2V5c0-1.1-.9-2-2-2zM9 17H7v-7h2v7zm4 0h-2V7h2v10zm4 0h-2v-4h2v4z\"/>\n",
              "    </g>\n",
              "</svg>\n",
              "  </button>\n",
              "\n",
              "<style>\n",
              "  .colab-df-quickchart {\n",
              "      --bg-color: #E8F0FE;\n",
              "      --fill-color: #1967D2;\n",
              "      --hover-bg-color: #E2EBFA;\n",
              "      --hover-fill-color: #174EA6;\n",
              "      --disabled-fill-color: #AAA;\n",
              "      --disabled-bg-color: #DDD;\n",
              "  }\n",
              "\n",
              "  [theme=dark] .colab-df-quickchart {\n",
              "      --bg-color: #3B4455;\n",
              "      --fill-color: #D2E3FC;\n",
              "      --hover-bg-color: #434B5C;\n",
              "      --hover-fill-color: #FFFFFF;\n",
              "      --disabled-bg-color: #3B4455;\n",
              "      --disabled-fill-color: #666;\n",
              "  }\n",
              "\n",
              "  .colab-df-quickchart {\n",
              "    background-color: var(--bg-color);\n",
              "    border: none;\n",
              "    border-radius: 50%;\n",
              "    cursor: pointer;\n",
              "    display: none;\n",
              "    fill: var(--fill-color);\n",
              "    height: 32px;\n",
              "    padding: 0;\n",
              "    width: 32px;\n",
              "  }\n",
              "\n",
              "  .colab-df-quickchart:hover {\n",
              "    background-color: var(--hover-bg-color);\n",
              "    box-shadow: 0 1px 2px rgba(60, 64, 67, 0.3), 0 1px 3px 1px rgba(60, 64, 67, 0.15);\n",
              "    fill: var(--button-hover-fill-color);\n",
              "  }\n",
              "\n",
              "  .colab-df-quickchart-complete:disabled,\n",
              "  .colab-df-quickchart-complete:disabled:hover {\n",
              "    background-color: var(--disabled-bg-color);\n",
              "    fill: var(--disabled-fill-color);\n",
              "    box-shadow: none;\n",
              "  }\n",
              "\n",
              "  .colab-df-spinner {\n",
              "    border: 2px solid var(--fill-color);\n",
              "    border-color: transparent;\n",
              "    border-bottom-color: var(--fill-color);\n",
              "    animation:\n",
              "      spin 1s steps(1) infinite;\n",
              "  }\n",
              "\n",
              "  @keyframes spin {\n",
              "    0% {\n",
              "      border-color: transparent;\n",
              "      border-bottom-color: var(--fill-color);\n",
              "      border-left-color: var(--fill-color);\n",
              "    }\n",
              "    20% {\n",
              "      border-color: transparent;\n",
              "      border-left-color: var(--fill-color);\n",
              "      border-top-color: var(--fill-color);\n",
              "    }\n",
              "    30% {\n",
              "      border-color: transparent;\n",
              "      border-left-color: var(--fill-color);\n",
              "      border-top-color: var(--fill-color);\n",
              "      border-right-color: var(--fill-color);\n",
              "    }\n",
              "    40% {\n",
              "      border-color: transparent;\n",
              "      border-right-color: var(--fill-color);\n",
              "      border-top-color: var(--fill-color);\n",
              "    }\n",
              "    60% {\n",
              "      border-color: transparent;\n",
              "      border-right-color: var(--fill-color);\n",
              "    }\n",
              "    80% {\n",
              "      border-color: transparent;\n",
              "      border-right-color: var(--fill-color);\n",
              "      border-bottom-color: var(--fill-color);\n",
              "    }\n",
              "    90% {\n",
              "      border-color: transparent;\n",
              "      border-bottom-color: var(--fill-color);\n",
              "    }\n",
              "  }\n",
              "</style>\n",
              "\n",
              "  <script>\n",
              "    async function quickchart(key) {\n",
              "      const quickchartButtonEl =\n",
              "        document.querySelector('#' + key + ' button');\n",
              "      quickchartButtonEl.disabled = true;  // To prevent multiple clicks.\n",
              "      quickchartButtonEl.classList.add('colab-df-spinner');\n",
              "      try {\n",
              "        const charts = await google.colab.kernel.invokeFunction(\n",
              "            'suggestCharts', [key], {});\n",
              "      } catch (error) {\n",
              "        console.error('Error during call to suggestCharts:', error);\n",
              "      }\n",
              "      quickchartButtonEl.classList.remove('colab-df-spinner');\n",
              "      quickchartButtonEl.classList.add('colab-df-quickchart-complete');\n",
              "    }\n",
              "    (() => {\n",
              "      let quickchartButtonEl =\n",
              "        document.querySelector('#df-d160f021-ebe5-4b23-b0b9-4cebfda97bde button');\n",
              "      quickchartButtonEl.style.display =\n",
              "        google.colab.kernel.accessAllowed ? 'block' : 'none';\n",
              "    })();\n",
              "  </script>\n",
              "</div>\n",
              "\n",
              "    </div>\n",
              "  </div>\n"
            ],
            "application/vnd.google.colaboratory.intrinsic+json": {
              "type": "dataframe",
              "variable_name": "sub",
              "summary": "{\n  \"name\": \"sub\",\n  \"rows\": 406,\n  \"fields\": [\n    {\n      \"column\": \"Id\",\n      \"properties\": {\n        \"dtype\": \"number\",\n        \"std\": 590,\n        \"min\": 2,\n        \"max\": 2026,\n        \"num_unique_values\": 406,\n        \"samples\": [\n          1300,\n          1914,\n          519\n        ],\n        \"semantic_type\": \"\",\n        \"description\": \"\"\n      }\n    },\n    {\n      \"column\": \"Q0_REVENUES\",\n      \"properties\": {\n        \"dtype\": \"number\",\n        \"std\": 6835352420.429105,\n        \"min\": -1.7763568394002489e-15,\n        \"max\": 92902999999.99991,\n        \"num_unique_values\": 386,\n        \"samples\": [\n          1967957.0000000014,\n          1890999999.9999974,\n          309557999.9999995\n        ],\n        \"semantic_type\": \"\",\n        \"description\": \"\"\n      }\n    },\n    {\n      \"column\": \"Q0_COST_OF_REVENUES\",\n      \"properties\": {\n        \"dtype\": \"number\",\n        \"std\": 3345211198.2257214,\n        \"min\": 0.0,\n        \"max\": 53535999999.99999,\n        \"num_unique_values\": 333,\n        \"samples\": [\n          3185999999.999997,\n          3079999.999999997,\n          185108.00000000012\n        ],\n        \"semantic_type\": \"\",\n        \"description\": \"\"\n      }\n    },\n    {\n      \"column\": \"Q0_GROSS_PROFIT\",\n      \"properties\": {\n        \"dtype\": \"number\",\n        \"std\": 4565824783.633702,\n        \"min\": 0.0,\n        \"max\": 83155000000.00012,\n        \"num_unique_values\": 383,\n        \"samples\": [\n          2234700000.000001,\n          42315999.99999998,\n          7666900.0\n        ],\n        \"semantic_type\": \"\",\n        \"description\": \"\"\n      }\n    },\n    {\n      \"column\": \"Q0_OPERATING_EXPENSES\",\n      \"properties\": {\n        \"dtype\": \"number\",\n        \"std\": 4358952685.739882,\n        \"min\": 50781.00000000001,\n        \"max\": 85687000000.00006,\n        \"num_unique_values\": 400,\n        \"samples\": [\n          136000000.00000012,\n          3233700.000000001,\n          24411000.00000003\n        ],\n        \"semantic_type\": \"\",\n        \"description\": \"\"\n      }\n    },\n    {\n      \"column\": \"Q0_EBITDA\",\n      \"properties\": {\n        \"dtype\": \"number\",\n        \"std\": 3637319192.473594,\n        \"min\": -1.7763568394002489e-15,\n        \"max\": 69346000000.00009,\n        \"num_unique_values\": 250,\n        \"samples\": [\n          289987.000001376,\n          56129000.0,\n          1908000.0000000019\n        ],\n        \"semantic_type\": \"\",\n        \"description\": \"\"\n      }\n    },\n    {\n      \"column\": \"Q0_OPERATING_INCOME\",\n      \"properties\": {\n        \"dtype\": \"number\",\n        \"std\": 899241303.8897254,\n        \"min\": 0.0,\n        \"max\": 9701999999.999987,\n        \"num_unique_values\": 274,\n        \"samples\": [\n          21538999.999999963,\n          48498000.00000006,\n          419700000.0000007\n        ],\n        \"semantic_type\": \"\",\n        \"description\": \"\"\n      }\n    },\n    {\n      \"column\": \"Q0_TOTAL_ASSETS\",\n      \"properties\": {\n        \"dtype\": \"number\",\n        \"std\": 28742412332.166397,\n        \"min\": 54103.999999999956,\n        \"max\": 280164000000.00006,\n        \"num_unique_values\": 403,\n        \"samples\": [\n          41486999999.99993,\n          24387485.000000015,\n          23108600000.000023\n        ],\n        \"semantic_type\": \"\",\n        \"description\": \"\"\n      }\n    },\n    {\n      \"column\": \"Q0_TOTAL_LIABILITIES\",\n      \"properties\": {\n        \"dtype\": \"number\",\n        \"std\": 19282267062.171795,\n        \"min\": 188000.00000000012,\n        \"max\": 212717000000.00034,\n        \"num_unique_values\": 402,\n        \"samples\": [\n          8052636.9999999935,\n          3910813.999999997,\n          37580000.000000045\n        ],\n        \"semantic_type\": \"\",\n        \"description\": \"\"\n      }\n    },\n    {\n      \"column\": \"Q0_TOTAL_STOCKHOLDERS_EQUITY\",\n      \"properties\": {\n        \"dtype\": \"number\",\n        \"std\": 13016539051.73117,\n        \"min\": 5000.000000000003,\n        \"max\": 174085454919.20493,\n        \"num_unique_values\": 403,\n        \"samples\": [\n          26257000000.000023,\n          12842062.11622569,\n          8899700000.000004\n        ],\n        \"semantic_type\": \"\",\n        \"description\": \"\"\n      }\n    }\n  ]\n}"
            }
          },
          "metadata": {},
          "execution_count": 33
        }
      ],
      "source": [
        "sub.head(15)"
      ]
    }
  ],
  "metadata": {
    "kaggle": {
      "accelerator": "gpu",
      "dataSources": [
        {
          "databundleVersionId": 7733789,
          "sourceId": 70781,
          "sourceType": "competition"
        }
      ],
      "dockerImageVersionId": 30674,
      "isGpuEnabled": true,
      "isInternetEnabled": true,
      "language": "python",
      "sourceType": "notebook"
    },
    "kernelspec": {
      "display_name": "Python 3",
      "name": "python3"
    },
    "language_info": {
      "codemirror_mode": {
        "name": "ipython",
        "version": 3
      },
      "file_extension": ".py",
      "mimetype": "text/x-python",
      "name": "python",
      "nbconvert_exporter": "python",
      "pygments_lexer": "ipython3",
      "version": "3.10.13"
    },
    "papermill": {
      "default_parameters": {},
      "duration": 66.060205,
      "end_time": "2024-03-22T10:20:09.335313",
      "environment_variables": {},
      "exception": null,
      "input_path": "__notebook__.ipynb",
      "output_path": "__notebook__.ipynb",
      "parameters": {},
      "start_time": "2024-03-22T10:19:03.275108",
      "version": "2.5.0"
    },
    "colab": {
      "provenance": [],
      "gpuType": "T4",
      "include_colab_link": true
    },
    "accelerator": "GPU"
  },
  "nbformat": 4,
  "nbformat_minor": 5
}