{
  "cells": [
    {
      "cell_type": "markdown",
      "metadata": {
        "id": "view-in-github",
        "colab_type": "text"
      },
      "source": [
        "<a href=\"https://colab.research.google.com/github/dutt2022/Coursera-Data-science-Projects/blob/main/4_1_resnet18_PyTorch_(2).ipynb\" target=\"_parent\"><img src=\"https://colab.research.google.com/assets/colab-badge.svg\" alt=\"Open In Colab\"/></a>"
      ]
    },
    {
      "cell_type": "markdown",
      "metadata": {
        "id": "kzeyOOiRcdUS"
      },
      "source": [
        "<a href=\"http://cocl.us/pytorch_link_top?utm_medium=Exinfluencer&utm_source=Exinfluencer&utm_content=000026UJ&utm_term=10006555&utm_id=NA-SkillsNetwork-Channel-SkillsNetworkCoursesIBMDeveloperSkillsNetworkDL0321ENSkillsNetwork20647850-2022-01-01\">\n",
        "    <img src=\"https://s3-api.us-geo.objectstorage.softlayer.net/cf-courses-data/CognitiveClass/DL0110EN/notebook_images%20/Pytochtop.png\" width=\"750\" alt=\"IBM Product \" />\n",
        "</a> \n"
      ]
    },
    {
      "cell_type": "markdown",
      "metadata": {
        "id": "raw9kaOucdUS"
      },
      "source": [
        "<img src=\"https://s3-api.us-geo.objectstorage.softlayer.net/cf-courses-data/CognitiveClass/DL0110EN/notebook_images%20/cc-logo-square.png\" width=\"200\" alt=\"cognitiveclass.ai logo\" />\n"
      ]
    },
    {
      "cell_type": "markdown",
      "metadata": {
        "id": "imr9usEbcdUS"
      },
      "source": [
        "<h1><h1>Pre-trained-Models with PyTorch </h1>\n"
      ]
    },
    {
      "cell_type": "code",
      "source": [
        "from google.colab import  drive\n",
        "drive.mount('/content/drive')"
      ],
      "metadata": {
        "id": "E4xXkoeFkLp6",
        "colab": {
          "base_uri": "https://localhost:8080/"
        },
        "outputId": "e8131251-1274-49e5-ef8e-9280a8f1824c"
      },
      "execution_count": null,
      "outputs": [
        {
          "output_type": "stream",
          "name": "stdout",
          "text": [
            "Drive already mounted at /content/drive; to attempt to forcibly remount, call drive.mount(\"/content/drive\", force_remount=True).\n"
          ]
        }
      ]
    },
    {
      "cell_type": "markdown",
      "metadata": {
        "id": "RYvh2KNzcdUS"
      },
      "source": [
        "In this lab, you will use pre-trained models to classify between the negative and positive samples; you will be provided with the dataset object. The particular pre-trained model will be resnet18; you will have three questions:\n",
        "\n",
        "<ul>\n",
        "<li>change the output layer</li>\n",
        "<li> train the model</li> \n",
        "<li>  identify  several  misclassified samples</li> \n",
        " </ul>\n",
        "You will take several screenshots of your work and share your notebook. \n"
      ]
    },
    {
      "cell_type": "markdown",
      "metadata": {
        "id": "xrBDCEKocdUi"
      },
      "source": [
        "<h2>Table of Contents</h2>\n"
      ]
    },
    {
      "cell_type": "markdown",
      "metadata": {
        "id": "YslGd1PBcdUi"
      },
      "source": [
        "<div class=\"alert alert-block alert-info\" style=\"margin-top: 20px\">\n",
        "\n",
        "<ul>\n",
        "    <li><a href=\"https://#download_data\"> Download Data</a></li>\n",
        "    <li><a href=\"https://#auxiliary\"> Imports and Auxiliary Functions </a></li>\n",
        "    <li><a href=\"https://#data_class\"> Dataset Class</a></li>\n",
        "    <li><a href=\"https://#Question_1\">Question 1</a></li>\n",
        "    <li><a href=\"https://#Question_2\">Question 2</a></li>\n",
        "    <li><a href=\"https://#Question_3\">Question 3</a></li>\n",
        "</ul>\n",
        "<p>Estimated Time Needed: <strong>120 min</strong></p>\n",
        " </div>\n",
        "<hr>\n"
      ]
    },
    {
      "cell_type": "markdown",
      "metadata": {
        "id": "viBH4zKKcdUi"
      },
      "source": [
        "<h2 id=\"download_data\">Download Data</h2>\n"
      ]
    },
    {
      "cell_type": "markdown",
      "metadata": {
        "id": "NU1mCZfgcdUi"
      },
      "source": [
        "Download the dataset and unzip the files in your data directory, unlike the other labs, all the data will be deleted after you close  the lab, this may take some time:\n"
      ]
    },
    {
      "cell_type": "code",
      "execution_count": null,
      "metadata": {
        "id": "oGF2qHOGcdUi"
      },
      "outputs": [],
      "source": [
        "#!wget https://s3-api.us-geo.objectstorage.softlayer.net/cf-courses-data/CognitiveClass/DL0321EN/data/images/Positive_tensors.zip "
      ]
    },
    {
      "cell_type": "code",
      "execution_count": null,
      "metadata": {
        "id": "t1dui_rfcdUi"
      },
      "outputs": [],
      "source": [
        "#!unzip -q Positive_tensors.zip "
      ]
    },
    {
      "cell_type": "code",
      "execution_count": null,
      "metadata": {
        "id": "v9ASNtCHcdUi"
      },
      "outputs": [],
      "source": [
        "#! wget https://s3-api.us-geo.objectstorage.softlayer.net/cf-courses-data/CognitiveClass/DL0321EN/data/images/Negative_tensors.zip\n"
      ]
    },
    {
      "cell_type": "code",
      "source": [
        "#!unzip -q Negative_tensors.zip"
      ],
      "metadata": {
        "id": "91LrBHSCn0hW"
      },
      "execution_count": null,
      "outputs": []
    },
    {
      "cell_type": "markdown",
      "metadata": {
        "id": "8xPbVFp9cdUi"
      },
      "source": [
        "We will install torchvision:\n"
      ]
    },
    {
      "cell_type": "code",
      "execution_count": null,
      "metadata": {
        "id": "XlzVotFKcdUi",
        "colab": {
          "base_uri": "https://localhost:8080/"
        },
        "outputId": "81fd679d-0fcd-47ea-9b7a-f7cc39077008"
      },
      "outputs": [
        {
          "output_type": "stream",
          "name": "stdout",
          "text": [
            "Looking in indexes: https://pypi.org/simple, https://us-python.pkg.dev/colab-wheels/public/simple/\n",
            "Requirement already satisfied: torchvision in /usr/local/lib/python3.7/dist-packages (0.13.0+cu113)\n",
            "Requirement already satisfied: numpy in /usr/local/lib/python3.7/dist-packages (from torchvision) (1.21.6)\n",
            "Requirement already satisfied: typing-extensions in /usr/local/lib/python3.7/dist-packages (from torchvision) (4.1.1)\n",
            "Requirement already satisfied: pillow!=8.3.*,>=5.3.0 in /usr/local/lib/python3.7/dist-packages (from torchvision) (7.1.2)\n",
            "Requirement already satisfied: requests in /usr/local/lib/python3.7/dist-packages (from torchvision) (2.23.0)\n",
            "Requirement already satisfied: torch==1.12.0 in /usr/local/lib/python3.7/dist-packages (from torchvision) (1.12.0+cu113)\n",
            "Requirement already satisfied: idna<3,>=2.5 in /usr/local/lib/python3.7/dist-packages (from requests->torchvision) (2.10)\n",
            "Requirement already satisfied: certifi>=2017.4.17 in /usr/local/lib/python3.7/dist-packages (from requests->torchvision) (2022.6.15)\n",
            "Requirement already satisfied: urllib3!=1.25.0,!=1.25.1,<1.26,>=1.21.1 in /usr/local/lib/python3.7/dist-packages (from requests->torchvision) (1.24.3)\n",
            "Requirement already satisfied: chardet<4,>=3.0.2 in /usr/local/lib/python3.7/dist-packages (from requests->torchvision) (3.0.4)\n"
          ]
        }
      ],
      "source": [
        "!pip install torchvision"
      ]
    },
    {
      "cell_type": "markdown",
      "metadata": {
        "id": "1zenz5y9cdUi"
      },
      "source": [
        "<h2 id=\"auxiliary\">Imports and Auxiliary Functions</h2>\n"
      ]
    },
    {
      "cell_type": "markdown",
      "metadata": {
        "id": "idf6DmKQcdUi"
      },
      "source": [
        "The following are the libraries we are going to use for this lab. The <code>torch.manual_seed()</code> is for forcing the random function to give the same number every time we try to recompile it.\n"
      ]
    },
    {
      "cell_type": "code",
      "execution_count": null,
      "metadata": {
        "id": "4Xhe1D3QcdUi",
        "colab": {
          "base_uri": "https://localhost:8080/"
        },
        "outputId": "67b8cea5-32be-466f-f198-8df589feeb2d"
      },
      "outputs": [
        {
          "output_type": "execute_result",
          "data": {
            "text/plain": [
              "<torch._C.Generator at 0x7f82eb685b50>"
            ]
          },
          "metadata": {},
          "execution_count": 7
        }
      ],
      "source": [
        "# These are the libraries will be used for this lab.\n",
        "import torchvision.models as models\n",
        "from PIL import Image\n",
        "import pandas\n",
        "from torchvision import transforms\n",
        "import torch.nn as nn\n",
        "import time\n",
        "import torch \n",
        "import matplotlib.pylab as plt\n",
        "import numpy as np\n",
        "from torch.utils.data import Dataset, DataLoader\n",
        "import h5py\n",
        "import os\n",
        "import glob\n",
        "torch.manual_seed(0)"
      ]
    },
    {
      "cell_type": "code",
      "execution_count": null,
      "metadata": {
        "id": "rarWr838cdUz"
      },
      "outputs": [],
      "source": [
        "from matplotlib.pyplot import imshow\n",
        "import matplotlib.pylab as plt\n",
        "from PIL import Image\n",
        "import pandas as pd\n",
        "import os"
      ]
    },
    {
      "cell_type": "code",
      "source": [
        "import os\n",
        "\n",
        "current_directory_path = os.getcwd()\n",
        "current_directory_path\n",
        "\n",
        "# Path in local machine\n",
        "# full input corpus\n",
        "data_path = current_directory_path + '/'\n",
        "#model_path = \"./model/\"\n",
        "\n",
        "#data_path = \"./data-capstone/\"  # small dataset\n",
        "\n",
        "#os.path.exists(data_path)\n",
        "!ls $data_path"
      ],
      "metadata": {
        "id": "ueFr7n5kjN__",
        "colab": {
          "base_uri": "https://localhost:8080/"
        },
        "outputId": "2463f019-e5f1-418f-cc19-a9ba73aafb9b"
      },
      "execution_count": null,
      "outputs": [
        {
          "output_type": "stream",
          "name": "stdout",
          "text": [
            "drive\t\t  Negative_tensors.zip\tPositive_tensors.zip\n",
            "Negative_tensors  Positive_tensors\tsample_data\n"
          ]
        }
      ]
    },
    {
      "cell_type": "code",
      "source": [
        "#data_path = \"/content/drive/My Drive/Colab Notebooks/data/\"\n",
        "#model_path = \"/content/drive/My Drive/Colab Notebooks/model/\"\n",
        "\n",
        "output_dir = data_path + \"/Positive_tensors\"\n",
        "if os.path.exists(output_dir):\n",
        "    print(\"Number of files in directory '{}' : {}\".format(output_dir, len([name for name in os.listdir(output_dir)])))\n",
        "\n",
        "output_dir = data_path + \"/Negative_tensors\"\n",
        "if os.path.exists(output_dir):\n",
        "    print(\"Number of files in directory '{}' : {}\".format(output_dir, len([name for name in os.listdir(output_dir)])))"
      ],
      "metadata": {
        "id": "5W1AAStwjRvd",
        "colab": {
          "base_uri": "https://localhost:8080/"
        },
        "outputId": "939c3061-e99b-4007-bff9-71bc2d17f2fc"
      },
      "execution_count": null,
      "outputs": [
        {
          "output_type": "stream",
          "name": "stdout",
          "text": [
            "Number of files in directory '/content//Positive_tensors' : 20000\n",
            "Number of files in directory '/content//Negative_tensors' : 20000\n"
          ]
        }
      ]
    },
    {
      "cell_type": "code",
      "source": [
        "def get_default_device():\n",
        "  \"\"\" Pick GPU if available else CPU. In Google Colab, we should change parameter \"Hardware Accelerator\" in menu item \"Edit > Notebook Settings\"\n",
        "  \"\"\"\n",
        "  if torch.cuda.is_available():  \n",
        "    print(\"Using GPU\")\n",
        "    return torch.device(\"cuda\")  \n",
        "\n",
        "  print(\"Using CPU\")\n",
        "  return torch.device(\"cpu\")\n",
        "# end def\n",
        "\n",
        "use_cuda = True  # Use GPU\n",
        "device = torch.device(\"cpu\")\n",
        "if use_cuda:\n",
        "  device = get_default_device()"
      ],
      "metadata": {
        "id": "W2Jwz1-ijYEx",
        "colab": {
          "base_uri": "https://localhost:8080/"
        },
        "outputId": "9c9761e3-dcd8-4147-e00b-4ab9d8e2858b"
      },
      "execution_count": null,
      "outputs": [
        {
          "output_type": "stream",
          "name": "stdout",
          "text": [
            "Using CPU\n"
          ]
        }
      ]
    },
    {
      "cell_type": "markdown",
      "metadata": {
        "id": "pYrQGh3qcdUz"
      },
      "source": [
        "<!--Empty Space for separating topics-->\n"
      ]
    },
    {
      "cell_type": "markdown",
      "metadata": {
        "id": "BFp0rBVBcdU0"
      },
      "source": [
        "<h2 id=\"data_class\">Dataset Class</h2>\n"
      ]
    },
    {
      "cell_type": "markdown",
      "metadata": {
        "id": "ZIAFXrK7cdU0"
      },
      "source": [
        "This dataset class is essentially the same dataset you build in the previous section, but to speed things up, we are going to use tensors instead of jpeg images. Therefor for each iteration, you will skip the reshape step, conversion step to tensors and normalization step.\n"
      ]
    },
    {
      "cell_type": "code",
      "execution_count": null,
      "metadata": {
        "id": "GCppO79TcdU2",
        "colab": {
          "base_uri": "https://localhost:8080/"
        },
        "outputId": "c53eea69-7229-46ed-862d-b63e80082c40"
      },
      "outputs": [
        {
          "output_type": "stream",
          "name": "stdout",
          "text": [
            "done\n"
          ]
        }
      ],
      "source": [
        "# Create your own dataset object\n",
        "\n",
        "class Dataset(Dataset):\n",
        "\n",
        "    # Constructor\n",
        "    def __init__(self, transform=None, train=True):\n",
        "        directory = '/content/'\n",
        "        positive = \"Positive_tensors\"\n",
        "        negative = \"Negative_tensors\"\n",
        "\n",
        "        positive_file_path = os.path.join(directory, positive)\n",
        "        negative_file_path = os.path.join(directory, negative)\n",
        "        positive_files = [os.path.join(positive_file_path, file) for file in os.listdir(positive_file_path) if file.endswith(\".pt\")]\n",
        "        negative_files = [os.path.join(negative_file_path, file) for file in os.listdir(negative_file_path) if file.endswith(\".pt\")]\n",
        "        \n",
        "        number_of_samples = len(positive_files)+len(negative_files)\n",
        "        \n",
        "        self.all_files = [None]*number_of_samples\n",
        "        self.all_files[::2] = positive_files\n",
        "        self.all_files[1::2] = negative_files \n",
        "        \n",
        "        # The transform is goint to be used on image\n",
        "        self.transform = transform\n",
        "        \n",
        "        #torch.LongTensor\n",
        "        self.Y = torch.zeros([number_of_samples]).type(torch.LongTensor)\n",
        "        self.Y[::2] = 1\n",
        "        self.Y[1::2] = 0\n",
        "        \n",
        "        NUM_OF_ITEMS_FOR_SPLITTING = 30000\n",
        "        if train:\n",
        "            self.all_files = self.all_files[:NUM_OF_ITEMS_FOR_SPLITTING]\n",
        "            self.Y = self.Y[:NUM_OF_ITEMS_FOR_SPLITTING]\n",
        "            self.len = len(self.all_files)\n",
        "        else:\n",
        "            self.all_files = self.all_files[NUM_OF_ITEMS_FOR_SPLITTING:]\n",
        "            self.Y = self.Y[NUM_OF_ITEMS_FOR_SPLITTING:]\n",
        "            self.len = len(self.all_files)     \n",
        "       \n",
        "    # Get the length\n",
        "    def __len__(self):\n",
        "        return self.len\n",
        "    \n",
        "    # Getter\n",
        "    def __getitem__(self, idx):               \n",
        "        image = torch.load(self.all_files[idx])\n",
        "        y = self.Y[idx]\n",
        "                  \n",
        "        # If there is any transform method, apply it onto the image\n",
        "        if self.transform:\n",
        "            image = self.transform(image)\n",
        "        return image, y\n",
        "    \n",
        "print(\"done\")"
      ]
    },
    {
      "cell_type": "markdown",
      "metadata": {
        "id": "t-cEmsTFcdU3"
      },
      "source": [
        "We create two dataset objects, one for the training data and one for the validation data.\n"
      ]
    },
    {
      "cell_type": "code",
      "execution_count": null,
      "metadata": {
        "id": "MwRv5ti5cdU4",
        "colab": {
          "base_uri": "https://localhost:8080/"
        },
        "outputId": "6adbe0f5-9ae0-4d67-f51f-082fe53f9f23"
      },
      "outputs": [
        {
          "output_type": "stream",
          "name": "stdout",
          "text": [
            "done\n"
          ]
        }
      ],
      "source": [
        "train_dataset = Dataset(train=True)\n",
        "validation_dataset = Dataset(train=False)\n",
        "print(\"done\")"
      ]
    },
    {
      "cell_type": "code",
      "source": [
        "# Step 1: Load the pre-trained model resnet18\n",
        "import torchvision.models as models\n",
        "\n",
        "model = models.resnet18(pretrained=True)"
      ],
      "metadata": {
        "id": "Ke9pM7mWorGR",
        "colab": {
          "base_uri": "https://localhost:8080/"
        },
        "outputId": "fd3c6786-03a6-4869-f951-b5481de310bb"
      },
      "execution_count": null,
      "outputs": [
        {
          "output_type": "stream",
          "name": "stderr",
          "text": [
            "/usr/local/lib/python3.7/dist-packages/torchvision/models/_utils.py:209: UserWarning: The parameter 'pretrained' is deprecated since 0.13 and will be removed in 0.15, please use 'weights' instead.\n",
            "  f\"The parameter '{pretrained_param}' is deprecated since 0.13 and will be removed in 0.15, \"\n",
            "/usr/local/lib/python3.7/dist-packages/torchvision/models/_utils.py:223: UserWarning: Arguments other than a weight enum or `None` for 'weights' are deprecated since 0.13 and will be removed in 0.15. The current behavior is equivalent to passing `weights=ResNet18_Weights.IMAGENET1K_V1`. You can also use `weights=ResNet18_Weights.DEFAULT` to get the most up-to-date weights.\n",
            "  warnings.warn(msg)\n"
          ]
        }
      ]
    },
    {
      "cell_type": "markdown",
      "metadata": {
        "id": "MwpEPdZJcdU5"
      },
      "source": [
        "<h2 id=\"Question_1\">Question 1</h2>\n"
      ]
    },
    {
      "cell_type": "markdown",
      "metadata": {
        "id": "21DWxn4NcdU5"
      },
      "source": [
        "<b>Prepare a pre-trained resnet18 model :</b>\n"
      ]
    },
    {
      "cell_type": "markdown",
      "metadata": {
        "id": "7WU2-0jTcdU6"
      },
      "source": [
        "<b>Step 1</b>: Load the pre-trained model <code>resnet18</code> Set the parameter <code>pretrained</code> to true:\n"
      ]
    },
    {
      "cell_type": "code",
      "execution_count": null,
      "metadata": {
        "id": "pHoBIazOcdU6",
        "colab": {
          "base_uri": "https://localhost:8080/"
        },
        "outputId": "b09e140d-638c-48f8-87e8-a805434b3ec7"
      },
      "outputs": [
        {
          "output_type": "execute_result",
          "data": {
            "text/plain": [
              "ResNet(\n",
              "  (conv1): Conv2d(3, 64, kernel_size=(7, 7), stride=(2, 2), padding=(3, 3), bias=False)\n",
              "  (bn1): BatchNorm2d(64, eps=1e-05, momentum=0.1, affine=True, track_running_stats=True)\n",
              "  (relu): ReLU(inplace=True)\n",
              "  (maxpool): MaxPool2d(kernel_size=3, stride=2, padding=1, dilation=1, ceil_mode=False)\n",
              "  (layer1): Sequential(\n",
              "    (0): BasicBlock(\n",
              "      (conv1): Conv2d(64, 64, kernel_size=(3, 3), stride=(1, 1), padding=(1, 1), bias=False)\n",
              "      (bn1): BatchNorm2d(64, eps=1e-05, momentum=0.1, affine=True, track_running_stats=True)\n",
              "      (relu): ReLU(inplace=True)\n",
              "      (conv2): Conv2d(64, 64, kernel_size=(3, 3), stride=(1, 1), padding=(1, 1), bias=False)\n",
              "      (bn2): BatchNorm2d(64, eps=1e-05, momentum=0.1, affine=True, track_running_stats=True)\n",
              "    )\n",
              "    (1): BasicBlock(\n",
              "      (conv1): Conv2d(64, 64, kernel_size=(3, 3), stride=(1, 1), padding=(1, 1), bias=False)\n",
              "      (bn1): BatchNorm2d(64, eps=1e-05, momentum=0.1, affine=True, track_running_stats=True)\n",
              "      (relu): ReLU(inplace=True)\n",
              "      (conv2): Conv2d(64, 64, kernel_size=(3, 3), stride=(1, 1), padding=(1, 1), bias=False)\n",
              "      (bn2): BatchNorm2d(64, eps=1e-05, momentum=0.1, affine=True, track_running_stats=True)\n",
              "    )\n",
              "  )\n",
              "  (layer2): Sequential(\n",
              "    (0): BasicBlock(\n",
              "      (conv1): Conv2d(64, 128, kernel_size=(3, 3), stride=(2, 2), padding=(1, 1), bias=False)\n",
              "      (bn1): BatchNorm2d(128, eps=1e-05, momentum=0.1, affine=True, track_running_stats=True)\n",
              "      (relu): ReLU(inplace=True)\n",
              "      (conv2): Conv2d(128, 128, kernel_size=(3, 3), stride=(1, 1), padding=(1, 1), bias=False)\n",
              "      (bn2): BatchNorm2d(128, eps=1e-05, momentum=0.1, affine=True, track_running_stats=True)\n",
              "      (downsample): Sequential(\n",
              "        (0): Conv2d(64, 128, kernel_size=(1, 1), stride=(2, 2), bias=False)\n",
              "        (1): BatchNorm2d(128, eps=1e-05, momentum=0.1, affine=True, track_running_stats=True)\n",
              "      )\n",
              "    )\n",
              "    (1): BasicBlock(\n",
              "      (conv1): Conv2d(128, 128, kernel_size=(3, 3), stride=(1, 1), padding=(1, 1), bias=False)\n",
              "      (bn1): BatchNorm2d(128, eps=1e-05, momentum=0.1, affine=True, track_running_stats=True)\n",
              "      (relu): ReLU(inplace=True)\n",
              "      (conv2): Conv2d(128, 128, kernel_size=(3, 3), stride=(1, 1), padding=(1, 1), bias=False)\n",
              "      (bn2): BatchNorm2d(128, eps=1e-05, momentum=0.1, affine=True, track_running_stats=True)\n",
              "    )\n",
              "  )\n",
              "  (layer3): Sequential(\n",
              "    (0): BasicBlock(\n",
              "      (conv1): Conv2d(128, 256, kernel_size=(3, 3), stride=(2, 2), padding=(1, 1), bias=False)\n",
              "      (bn1): BatchNorm2d(256, eps=1e-05, momentum=0.1, affine=True, track_running_stats=True)\n",
              "      (relu): ReLU(inplace=True)\n",
              "      (conv2): Conv2d(256, 256, kernel_size=(3, 3), stride=(1, 1), padding=(1, 1), bias=False)\n",
              "      (bn2): BatchNorm2d(256, eps=1e-05, momentum=0.1, affine=True, track_running_stats=True)\n",
              "      (downsample): Sequential(\n",
              "        (0): Conv2d(128, 256, kernel_size=(1, 1), stride=(2, 2), bias=False)\n",
              "        (1): BatchNorm2d(256, eps=1e-05, momentum=0.1, affine=True, track_running_stats=True)\n",
              "      )\n",
              "    )\n",
              "    (1): BasicBlock(\n",
              "      (conv1): Conv2d(256, 256, kernel_size=(3, 3), stride=(1, 1), padding=(1, 1), bias=False)\n",
              "      (bn1): BatchNorm2d(256, eps=1e-05, momentum=0.1, affine=True, track_running_stats=True)\n",
              "      (relu): ReLU(inplace=True)\n",
              "      (conv2): Conv2d(256, 256, kernel_size=(3, 3), stride=(1, 1), padding=(1, 1), bias=False)\n",
              "      (bn2): BatchNorm2d(256, eps=1e-05, momentum=0.1, affine=True, track_running_stats=True)\n",
              "    )\n",
              "  )\n",
              "  (layer4): Sequential(\n",
              "    (0): BasicBlock(\n",
              "      (conv1): Conv2d(256, 512, kernel_size=(3, 3), stride=(2, 2), padding=(1, 1), bias=False)\n",
              "      (bn1): BatchNorm2d(512, eps=1e-05, momentum=0.1, affine=True, track_running_stats=True)\n",
              "      (relu): ReLU(inplace=True)\n",
              "      (conv2): Conv2d(512, 512, kernel_size=(3, 3), stride=(1, 1), padding=(1, 1), bias=False)\n",
              "      (bn2): BatchNorm2d(512, eps=1e-05, momentum=0.1, affine=True, track_running_stats=True)\n",
              "      (downsample): Sequential(\n",
              "        (0): Conv2d(256, 512, kernel_size=(1, 1), stride=(2, 2), bias=False)\n",
              "        (1): BatchNorm2d(512, eps=1e-05, momentum=0.1, affine=True, track_running_stats=True)\n",
              "      )\n",
              "    )\n",
              "    (1): BasicBlock(\n",
              "      (conv1): Conv2d(512, 512, kernel_size=(3, 3), stride=(1, 1), padding=(1, 1), bias=False)\n",
              "      (bn1): BatchNorm2d(512, eps=1e-05, momentum=0.1, affine=True, track_running_stats=True)\n",
              "      (relu): ReLU(inplace=True)\n",
              "      (conv2): Conv2d(512, 512, kernel_size=(3, 3), stride=(1, 1), padding=(1, 1), bias=False)\n",
              "      (bn2): BatchNorm2d(512, eps=1e-05, momentum=0.1, affine=True, track_running_stats=True)\n",
              "    )\n",
              "  )\n",
              "  (avgpool): AdaptiveAvgPool2d(output_size=(1, 1))\n",
              "  (fc): Linear(in_features=512, out_features=1000, bias=True)\n",
              ")"
            ]
          },
          "metadata": {},
          "execution_count": 15
        }
      ],
      "source": [
        "# Step 1: Load the pre-trained model resnet18\n",
        "\n",
        "# Type your code here\n",
        "model = model.to(device)\n",
        "model"
      ]
    },
    {
      "cell_type": "markdown",
      "metadata": {
        "id": "X2muso2GcdU6"
      },
      "source": [
        "<b>Step 2</b>: Set the attribute <code>requires_grad</code> to <code>False</code>. As a result, the parameters will not be affected by training.\n"
      ]
    },
    {
      "cell_type": "code",
      "execution_count": null,
      "metadata": {
        "id": "tBCbRjIBcdU7"
      },
      "outputs": [],
      "source": [
        "# Step 2: Set the parameter cannot be trained for the pre-trained model\n",
        "\n",
        "\n",
        "# Type your code here\n",
        "# Step 2: Set the parameter cannot be trained for the pre-trained model\n",
        "for param in model.parameters():\n",
        "    param.requires_grad = False"
      ]
    },
    {
      "cell_type": "markdown",
      "metadata": {
        "id": "ZrwfBjpBcdU7"
      },
      "source": [
        "<code>resnet18</code> is used to classify 1000 different objects; as a result, the last layer has 1000 outputs.  The 512 inputs come from the fact that the previously hidden layer has 512 outputs.\n"
      ]
    },
    {
      "cell_type": "markdown",
      "metadata": {
        "id": "jOdbGbtqcdU8"
      },
      "source": [
        "<b>Step 3</b>: Replace the output layer <code>model.fc</code> of the neural network with a <code>nn.Linear</code> object, to classify 2 different classes. For the parameters <code>in_features </code> remember the last hidden layer has 512 neurons.\n"
      ]
    },
    {
      "cell_type": "code",
      "execution_count": null,
      "metadata": {
        "id": "UdO3ffKccdU8"
      },
      "outputs": [],
      "source": [
        "# Dimension of last layer\n",
        "d_hidden = 512\n",
        "d_out = 2\n",
        "\n",
        "model.fc = nn.Linear(d_hidden, d_out)  # replace the output layer"
      ]
    },
    {
      "cell_type": "markdown",
      "source": [
        ""
      ],
      "metadata": {
        "id": "z1sqhUjn1msS"
      }
    },
    {
      "cell_type": "markdown",
      "metadata": {
        "id": "U_Ic491bcdU8"
      },
      "source": [
        "Print out the model in order to show whether you get the correct answer.<br> <b>(Your peer reviewer is going to mark based on what you print here.)</b>\n"
      ]
    },
    {
      "cell_type": "code",
      "execution_count": null,
      "metadata": {
        "id": "L_sNrEK_cdU8",
        "colab": {
          "base_uri": "https://localhost:8080/"
        },
        "outputId": "60473018-b566-4820-d066-d11d11ef9e8b"
      },
      "outputs": [
        {
          "output_type": "stream",
          "name": "stdout",
          "text": [
            "ResNet(\n",
            "  (conv1): Conv2d(3, 64, kernel_size=(7, 7), stride=(2, 2), padding=(3, 3), bias=False)\n",
            "  (bn1): BatchNorm2d(64, eps=1e-05, momentum=0.1, affine=True, track_running_stats=True)\n",
            "  (relu): ReLU(inplace=True)\n",
            "  (maxpool): MaxPool2d(kernel_size=3, stride=2, padding=1, dilation=1, ceil_mode=False)\n",
            "  (layer1): Sequential(\n",
            "    (0): BasicBlock(\n",
            "      (conv1): Conv2d(64, 64, kernel_size=(3, 3), stride=(1, 1), padding=(1, 1), bias=False)\n",
            "      (bn1): BatchNorm2d(64, eps=1e-05, momentum=0.1, affine=True, track_running_stats=True)\n",
            "      (relu): ReLU(inplace=True)\n",
            "      (conv2): Conv2d(64, 64, kernel_size=(3, 3), stride=(1, 1), padding=(1, 1), bias=False)\n",
            "      (bn2): BatchNorm2d(64, eps=1e-05, momentum=0.1, affine=True, track_running_stats=True)\n",
            "    )\n",
            "    (1): BasicBlock(\n",
            "      (conv1): Conv2d(64, 64, kernel_size=(3, 3), stride=(1, 1), padding=(1, 1), bias=False)\n",
            "      (bn1): BatchNorm2d(64, eps=1e-05, momentum=0.1, affine=True, track_running_stats=True)\n",
            "      (relu): ReLU(inplace=True)\n",
            "      (conv2): Conv2d(64, 64, kernel_size=(3, 3), stride=(1, 1), padding=(1, 1), bias=False)\n",
            "      (bn2): BatchNorm2d(64, eps=1e-05, momentum=0.1, affine=True, track_running_stats=True)\n",
            "    )\n",
            "  )\n",
            "  (layer2): Sequential(\n",
            "    (0): BasicBlock(\n",
            "      (conv1): Conv2d(64, 128, kernel_size=(3, 3), stride=(2, 2), padding=(1, 1), bias=False)\n",
            "      (bn1): BatchNorm2d(128, eps=1e-05, momentum=0.1, affine=True, track_running_stats=True)\n",
            "      (relu): ReLU(inplace=True)\n",
            "      (conv2): Conv2d(128, 128, kernel_size=(3, 3), stride=(1, 1), padding=(1, 1), bias=False)\n",
            "      (bn2): BatchNorm2d(128, eps=1e-05, momentum=0.1, affine=True, track_running_stats=True)\n",
            "      (downsample): Sequential(\n",
            "        (0): Conv2d(64, 128, kernel_size=(1, 1), stride=(2, 2), bias=False)\n",
            "        (1): BatchNorm2d(128, eps=1e-05, momentum=0.1, affine=True, track_running_stats=True)\n",
            "      )\n",
            "    )\n",
            "    (1): BasicBlock(\n",
            "      (conv1): Conv2d(128, 128, kernel_size=(3, 3), stride=(1, 1), padding=(1, 1), bias=False)\n",
            "      (bn1): BatchNorm2d(128, eps=1e-05, momentum=0.1, affine=True, track_running_stats=True)\n",
            "      (relu): ReLU(inplace=True)\n",
            "      (conv2): Conv2d(128, 128, kernel_size=(3, 3), stride=(1, 1), padding=(1, 1), bias=False)\n",
            "      (bn2): BatchNorm2d(128, eps=1e-05, momentum=0.1, affine=True, track_running_stats=True)\n",
            "    )\n",
            "  )\n",
            "  (layer3): Sequential(\n",
            "    (0): BasicBlock(\n",
            "      (conv1): Conv2d(128, 256, kernel_size=(3, 3), stride=(2, 2), padding=(1, 1), bias=False)\n",
            "      (bn1): BatchNorm2d(256, eps=1e-05, momentum=0.1, affine=True, track_running_stats=True)\n",
            "      (relu): ReLU(inplace=True)\n",
            "      (conv2): Conv2d(256, 256, kernel_size=(3, 3), stride=(1, 1), padding=(1, 1), bias=False)\n",
            "      (bn2): BatchNorm2d(256, eps=1e-05, momentum=0.1, affine=True, track_running_stats=True)\n",
            "      (downsample): Sequential(\n",
            "        (0): Conv2d(128, 256, kernel_size=(1, 1), stride=(2, 2), bias=False)\n",
            "        (1): BatchNorm2d(256, eps=1e-05, momentum=0.1, affine=True, track_running_stats=True)\n",
            "      )\n",
            "    )\n",
            "    (1): BasicBlock(\n",
            "      (conv1): Conv2d(256, 256, kernel_size=(3, 3), stride=(1, 1), padding=(1, 1), bias=False)\n",
            "      (bn1): BatchNorm2d(256, eps=1e-05, momentum=0.1, affine=True, track_running_stats=True)\n",
            "      (relu): ReLU(inplace=True)\n",
            "      (conv2): Conv2d(256, 256, kernel_size=(3, 3), stride=(1, 1), padding=(1, 1), bias=False)\n",
            "      (bn2): BatchNorm2d(256, eps=1e-05, momentum=0.1, affine=True, track_running_stats=True)\n",
            "    )\n",
            "  )\n",
            "  (layer4): Sequential(\n",
            "    (0): BasicBlock(\n",
            "      (conv1): Conv2d(256, 512, kernel_size=(3, 3), stride=(2, 2), padding=(1, 1), bias=False)\n",
            "      (bn1): BatchNorm2d(512, eps=1e-05, momentum=0.1, affine=True, track_running_stats=True)\n",
            "      (relu): ReLU(inplace=True)\n",
            "      (conv2): Conv2d(512, 512, kernel_size=(3, 3), stride=(1, 1), padding=(1, 1), bias=False)\n",
            "      (bn2): BatchNorm2d(512, eps=1e-05, momentum=0.1, affine=True, track_running_stats=True)\n",
            "      (downsample): Sequential(\n",
            "        (0): Conv2d(256, 512, kernel_size=(1, 1), stride=(2, 2), bias=False)\n",
            "        (1): BatchNorm2d(512, eps=1e-05, momentum=0.1, affine=True, track_running_stats=True)\n",
            "      )\n",
            "    )\n",
            "    (1): BasicBlock(\n",
            "      (conv1): Conv2d(512, 512, kernel_size=(3, 3), stride=(1, 1), padding=(1, 1), bias=False)\n",
            "      (bn1): BatchNorm2d(512, eps=1e-05, momentum=0.1, affine=True, track_running_stats=True)\n",
            "      (relu): ReLU(inplace=True)\n",
            "      (conv2): Conv2d(512, 512, kernel_size=(3, 3), stride=(1, 1), padding=(1, 1), bias=False)\n",
            "      (bn2): BatchNorm2d(512, eps=1e-05, momentum=0.1, affine=True, track_running_stats=True)\n",
            "    )\n",
            "  )\n",
            "  (avgpool): AdaptiveAvgPool2d(output_size=(1, 1))\n",
            "  (fc): Linear(in_features=512, out_features=2, bias=True)\n",
            ")\n"
          ]
        }
      ],
      "source": [
        "print(model)"
      ]
    },
    {
      "cell_type": "markdown",
      "metadata": {
        "id": "8vusuOf8cdU8"
      },
      "source": [
        "<h2 id=\"Question_2\">Question 2: Train the Model</h2>\n"
      ]
    },
    {
      "cell_type": "markdown",
      "metadata": {
        "id": "oMKrxxojcdU8"
      },
      "source": [
        "In this question you will train your, model:\n"
      ]
    },
    {
      "cell_type": "markdown",
      "metadata": {
        "id": "OBRne_40cdU8"
      },
      "source": [
        "<b>Step 1</b>: Create a cross entropy criterion function\n"
      ]
    },
    {
      "cell_type": "code",
      "execution_count": null,
      "metadata": {
        "id": "Gpbp-dyccdU8"
      },
      "outputs": [],
      "source": [
        "# Step 1: Create the loss function\n",
        "\n",
        "# Type your code here\n",
        "# Step 1: Create the loss function\n",
        "criterion = nn.CrossEntropyLoss()"
      ]
    },
    {
      "cell_type": "markdown",
      "metadata": {
        "id": "O_8aIrvdcdU8"
      },
      "source": [
        "<b>Step 2</b>: Create a training loader and validation loader object, the batch size should have 100 samples each.\n"
      ]
    },
    {
      "cell_type": "code",
      "execution_count": null,
      "metadata": {
        "id": "uTcsr3sFcdU8"
      },
      "outputs": [],
      "source": [
        "batch_size = 100\n",
        "\n",
        "train_loader = torch.utils.data.DataLoader(dataset=train_dataset, batch_size=batch_size)\n",
        "validation_loader = torch.utils.data.DataLoader(dataset=validation_dataset, batch_size=batch_size)"
      ]
    },
    {
      "cell_type": "code",
      "source": [
        "# Verify the parameters whose requires_grad are True\n",
        "for param in model.parameters():\n",
        "  if param.requires_grad:\n",
        "    print(param)"
      ],
      "metadata": {
        "id": "1vmPAeX5gN2R",
        "colab": {
          "base_uri": "https://localhost:8080/"
        },
        "outputId": "7208435e-0295-4e72-db4e-322cdc691382"
      },
      "execution_count": null,
      "outputs": [
        {
          "output_type": "stream",
          "name": "stdout",
          "text": [
            "Parameter containing:\n",
            "tensor([[ 0.0342, -0.0255,  0.0249,  ...,  0.0130, -0.0365, -0.0426],\n",
            "        [ 0.0411, -0.0204,  0.0384,  ...,  0.0156, -0.0340,  0.0069]],\n",
            "       requires_grad=True)\n",
            "Parameter containing:\n",
            "tensor([0.0074, 0.0091], requires_grad=True)\n"
          ]
        }
      ]
    },
    {
      "cell_type": "markdown",
      "metadata": {
        "id": "TDK3gDNPcdU8"
      },
      "source": [
        "<b>Step 3</b>: Use the following optimizer to minimize the loss\n"
      ]
    },
    {
      "cell_type": "code",
      "execution_count": null,
      "metadata": {
        "id": "6pXDYsjscdU8"
      },
      "outputs": [],
      "source": [
        "optimizer = torch.optim.Adam([parameters  for parameters in model.parameters() if parameters.requires_grad],lr=0.001)"
      ]
    },
    {
      "cell_type": "markdown",
      "metadata": {
        "id": "N6J0eJQFcdU8"
      },
      "source": [
        "<!--Empty Space for separating topics-->\n"
      ]
    },
    {
      "cell_type": "markdown",
      "metadata": {
        "id": "7zmx4OEecdU8"
      },
      "source": [
        "**Complete the following code to calculate  the accuracy on the validation data for one epoch; this should take about 45 minutes. Make sure you calculate the accuracy on the validation data.**\n"
      ]
    },
    {
      "cell_type": "code",
      "execution_count": null,
      "metadata": {
        "id": "D_ho8bPMcdU8",
        "colab": {
          "base_uri": "https://localhost:8080/"
        },
        "outputId": "46cb5f69-418f-4fcd-9129-8e3f5351f03a"
      },
      "outputs": [
        {
          "output_type": "stream",
          "name": "stdout",
          "text": [
            "Number of items in training set :  30000\n",
            "Number of items in testing set :  10000\n",
            "------------------------------\n",
            "Iteration (train phase) 1/300\n",
            "Finished in 9.643123149871826 (s)\n",
            "------------------------------\n",
            "Iteration (train phase) 2/300\n",
            "Finished in 8.60773515701294 (s)\n",
            "------------------------------\n",
            "Iteration (train phase) 3/300\n",
            "Finished in 8.667081117630005 (s)\n",
            "------------------------------\n",
            "Iteration (train phase) 4/300\n",
            "Finished in 8.62197756767273 (s)\n",
            "------------------------------\n",
            "Iteration (train phase) 5/300\n",
            "Finished in 8.900668382644653 (s)\n",
            "------------------------------\n",
            "Iteration (train phase) 6/300\n",
            "Finished in 8.518131971359253 (s)\n",
            "------------------------------\n",
            "Iteration (train phase) 7/300\n",
            "Finished in 8.752585649490356 (s)\n",
            "------------------------------\n",
            "Iteration (train phase) 8/300\n",
            "Finished in 8.630770444869995 (s)\n",
            "------------------------------\n",
            "Iteration (train phase) 9/300\n",
            "Finished in 8.579963445663452 (s)\n",
            "------------------------------\n",
            "Iteration (train phase) 10/300\n",
            "Finished in 8.597354888916016 (s)\n",
            "------------------------------\n",
            "Iteration (train phase) 11/300\n",
            "Finished in 8.520383358001709 (s)\n",
            "------------------------------\n",
            "Iteration (train phase) 12/300\n",
            "Finished in 8.526066064834595 (s)\n",
            "------------------------------\n",
            "Iteration (train phase) 13/300\n",
            "Finished in 8.782681703567505 (s)\n",
            "------------------------------\n",
            "Iteration (train phase) 14/300\n",
            "Finished in 8.659118175506592 (s)\n",
            "------------------------------\n",
            "Iteration (train phase) 15/300\n",
            "Finished in 8.592376470565796 (s)\n",
            "------------------------------\n",
            "Iteration (train phase) 16/300\n",
            "Finished in 8.585759401321411 (s)\n",
            "------------------------------\n",
            "Iteration (train phase) 17/300\n",
            "Finished in 9.028573513031006 (s)\n",
            "------------------------------\n",
            "Iteration (train phase) 18/300\n",
            "Finished in 8.521942138671875 (s)\n",
            "------------------------------\n",
            "Iteration (train phase) 19/300\n",
            "Finished in 8.656947135925293 (s)\n",
            "------------------------------\n",
            "Iteration (train phase) 20/300\n",
            "Finished in 8.700860738754272 (s)\n",
            "------------------------------\n",
            "Iteration (train phase) 21/300\n",
            "Finished in 8.509612798690796 (s)\n",
            "------------------------------\n",
            "Iteration (train phase) 22/300\n",
            "Finished in 8.456502676010132 (s)\n",
            "------------------------------\n",
            "Iteration (train phase) 23/300\n",
            "Finished in 8.46041488647461 (s)\n",
            "------------------------------\n",
            "Iteration (train phase) 24/300\n",
            "Finished in 8.497486352920532 (s)\n",
            "------------------------------\n",
            "Iteration (train phase) 25/300\n",
            "Finished in 8.456691265106201 (s)\n",
            "------------------------------\n",
            "Iteration (train phase) 26/300\n",
            "Finished in 8.675066232681274 (s)\n",
            "------------------------------\n",
            "Iteration (train phase) 27/300\n",
            "Finished in 8.558822870254517 (s)\n",
            "------------------------------\n",
            "Iteration (train phase) 28/300\n",
            "Finished in 8.5757315158844 (s)\n",
            "------------------------------\n",
            "Iteration (train phase) 29/300\n",
            "Finished in 8.58618688583374 (s)\n",
            "------------------------------\n",
            "Iteration (train phase) 30/300\n",
            "Finished in 8.58057975769043 (s)\n",
            "------------------------------\n",
            "Iteration (train phase) 31/300\n",
            "Finished in 8.608165740966797 (s)\n",
            "------------------------------\n",
            "Iteration (train phase) 32/300\n",
            "Finished in 8.729857206344604 (s)\n",
            "------------------------------\n",
            "Iteration (train phase) 33/300\n",
            "Finished in 8.5642991065979 (s)\n",
            "------------------------------\n",
            "Iteration (train phase) 34/300\n",
            "Finished in 8.561540126800537 (s)\n",
            "------------------------------\n",
            "Iteration (train phase) 35/300\n",
            "Finished in 8.532177448272705 (s)\n",
            "------------------------------\n",
            "Iteration (train phase) 36/300\n",
            "Finished in 8.556659936904907 (s)\n",
            "------------------------------\n",
            "Iteration (train phase) 37/300\n",
            "Finished in 8.643111944198608 (s)\n",
            "------------------------------\n",
            "Iteration (train phase) 38/300\n",
            "Finished in 8.57544493675232 (s)\n",
            "------------------------------\n",
            "Iteration (train phase) 39/300\n",
            "Finished in 8.62707233428955 (s)\n",
            "------------------------------\n",
            "Iteration (train phase) 40/300\n",
            "Finished in 8.653718948364258 (s)\n",
            "------------------------------\n",
            "Iteration (train phase) 41/300\n",
            "Finished in 8.579870462417603 (s)\n",
            "------------------------------\n",
            "Iteration (train phase) 42/300\n",
            "Finished in 9.264500617980957 (s)\n",
            "------------------------------\n",
            "Iteration (train phase) 43/300\n",
            "Finished in 9.82918643951416 (s)\n",
            "------------------------------\n",
            "Iteration (train phase) 44/300\n",
            "Finished in 8.545090198516846 (s)\n",
            "------------------------------\n",
            "Iteration (train phase) 45/300\n",
            "Finished in 8.671947240829468 (s)\n",
            "------------------------------\n",
            "Iteration (train phase) 46/300\n",
            "Finished in 8.59407091140747 (s)\n",
            "------------------------------\n",
            "Iteration (train phase) 47/300\n",
            "Finished in 8.486241102218628 (s)\n",
            "------------------------------\n",
            "Iteration (train phase) 48/300\n",
            "Finished in 8.466452360153198 (s)\n",
            "------------------------------\n",
            "Iteration (train phase) 49/300\n",
            "Finished in 8.505910158157349 (s)\n",
            "------------------------------\n",
            "Iteration (train phase) 50/300\n",
            "Finished in 8.496505498886108 (s)\n",
            "------------------------------\n",
            "Iteration (train phase) 51/300\n",
            "Finished in 8.591785907745361 (s)\n",
            "------------------------------\n",
            "Iteration (train phase) 52/300\n",
            "Finished in 8.673865795135498 (s)\n",
            "------------------------------\n",
            "Iteration (train phase) 53/300\n",
            "Finished in 14.15530014038086 (s)\n",
            "------------------------------\n",
            "Iteration (train phase) 54/300\n",
            "Finished in 8.734838247299194 (s)\n",
            "------------------------------\n",
            "Iteration (train phase) 55/300\n",
            "Finished in 8.68142294883728 (s)\n",
            "------------------------------\n",
            "Iteration (train phase) 56/300\n",
            "Finished in 8.595701217651367 (s)\n",
            "------------------------------\n",
            "Iteration (train phase) 57/300\n",
            "Finished in 8.821322202682495 (s)\n",
            "------------------------------\n",
            "Iteration (train phase) 58/300\n",
            "Finished in 8.576128721237183 (s)\n",
            "------------------------------\n",
            "Iteration (train phase) 59/300\n",
            "Finished in 8.541338682174683 (s)\n",
            "------------------------------\n",
            "Iteration (train phase) 60/300\n",
            "Finished in 8.513075351715088 (s)\n",
            "------------------------------\n",
            "Iteration (train phase) 61/300\n",
            "Finished in 8.550865173339844 (s)\n",
            "------------------------------\n",
            "Iteration (train phase) 62/300\n",
            "Finished in 8.475974321365356 (s)\n",
            "------------------------------\n",
            "Iteration (train phase) 63/300\n",
            "Finished in 8.642114877700806 (s)\n",
            "------------------------------\n",
            "Iteration (train phase) 64/300\n",
            "Finished in 8.578272819519043 (s)\n",
            "------------------------------\n",
            "Iteration (train phase) 65/300\n",
            "Finished in 8.60911774635315 (s)\n",
            "------------------------------\n",
            "Iteration (train phase) 66/300\n",
            "Finished in 8.589871168136597 (s)\n",
            "------------------------------\n",
            "Iteration (train phase) 67/300\n",
            "Finished in 8.618352174758911 (s)\n",
            "------------------------------\n",
            "Iteration (train phase) 68/300\n",
            "Finished in 9.426606178283691 (s)\n",
            "------------------------------\n",
            "Iteration (train phase) 69/300\n",
            "Finished in 8.520931005477905 (s)\n",
            "------------------------------\n",
            "Iteration (train phase) 70/300\n",
            "Finished in 8.820858716964722 (s)\n",
            "------------------------------\n",
            "Iteration (train phase) 71/300\n",
            "Finished in 8.589065313339233 (s)\n",
            "------------------------------\n",
            "Iteration (train phase) 72/300\n",
            "Finished in 8.474048852920532 (s)\n",
            "------------------------------\n",
            "Iteration (train phase) 73/300\n",
            "Finished in 8.458575248718262 (s)\n",
            "------------------------------\n",
            "Iteration (train phase) 74/300\n",
            "Finished in 8.480214595794678 (s)\n",
            "------------------------------\n",
            "Iteration (train phase) 75/300\n",
            "Finished in 8.457172155380249 (s)\n",
            "------------------------------\n",
            "Iteration (train phase) 76/300\n",
            "Finished in 8.587927341461182 (s)\n",
            "------------------------------\n",
            "Iteration (train phase) 77/300\n",
            "Finished in 8.57884168624878 (s)\n",
            "------------------------------\n",
            "Iteration (train phase) 78/300\n",
            "Finished in 8.680504083633423 (s)\n",
            "------------------------------\n",
            "Iteration (train phase) 79/300\n",
            "Finished in 8.655320644378662 (s)\n",
            "------------------------------\n",
            "Iteration (train phase) 80/300\n",
            "Finished in 8.730805397033691 (s)\n",
            "------------------------------\n",
            "Iteration (train phase) 81/300\n",
            "Finished in 8.614371299743652 (s)\n",
            "------------------------------\n",
            "Iteration (train phase) 82/300\n",
            "Finished in 8.577252864837646 (s)\n",
            "------------------------------\n",
            "Iteration (train phase) 83/300\n",
            "Finished in 8.639274597167969 (s)\n",
            "------------------------------\n",
            "Iteration (train phase) 84/300\n",
            "Finished in 8.645062923431396 (s)\n",
            "------------------------------\n",
            "Iteration (train phase) 85/300\n",
            "Finished in 8.579710006713867 (s)\n",
            "------------------------------\n",
            "Iteration (train phase) 86/300\n",
            "Finished in 8.629786014556885 (s)\n",
            "------------------------------\n",
            "Iteration (train phase) 87/300\n",
            "Finished in 8.501272678375244 (s)\n",
            "------------------------------\n",
            "Iteration (train phase) 88/300\n",
            "Finished in 8.555280923843384 (s)\n",
            "------------------------------\n",
            "Iteration (train phase) 89/300\n",
            "Finished in 8.627588272094727 (s)\n",
            "------------------------------\n",
            "Iteration (train phase) 90/300\n",
            "Finished in 8.558311223983765 (s)\n",
            "------------------------------\n",
            "Iteration (train phase) 91/300\n",
            "Finished in 8.532210111618042 (s)\n",
            "------------------------------\n",
            "Iteration (train phase) 92/300\n",
            "Finished in 8.60022497177124 (s)\n",
            "------------------------------\n",
            "Iteration (train phase) 93/300\n",
            "Finished in 8.613667488098145 (s)\n",
            "------------------------------\n",
            "Iteration (train phase) 94/300\n",
            "Finished in 9.429861545562744 (s)\n",
            "------------------------------\n",
            "Iteration (train phase) 95/300\n",
            "Finished in 8.658870220184326 (s)\n",
            "------------------------------\n",
            "Iteration (train phase) 96/300\n",
            "Finished in 8.717719793319702 (s)\n",
            "------------------------------\n",
            "Iteration (train phase) 97/300\n",
            "Finished in 8.527501344680786 (s)\n",
            "------------------------------\n",
            "Iteration (train phase) 98/300\n",
            "Finished in 8.533329963684082 (s)\n",
            "------------------------------\n",
            "Iteration (train phase) 99/300\n",
            "Finished in 8.514936447143555 (s)\n",
            "------------------------------\n",
            "Iteration (train phase) 100/300\n",
            "Finished in 8.49440860748291 (s)\n",
            "------------------------------\n",
            "Iteration (train phase) 101/300\n",
            "Finished in 8.461000204086304 (s)\n",
            "------------------------------\n",
            "Iteration (train phase) 102/300\n",
            "Finished in 8.722917318344116 (s)\n",
            "------------------------------\n",
            "Iteration (train phase) 103/300\n",
            "Finished in 8.729640483856201 (s)\n",
            "------------------------------\n",
            "Iteration (train phase) 104/300\n",
            "Finished in 8.692487716674805 (s)\n",
            "------------------------------\n",
            "Iteration (train phase) 105/300\n",
            "Finished in 8.637314796447754 (s)\n",
            "------------------------------\n",
            "Iteration (train phase) 106/300\n",
            "Finished in 8.669215679168701 (s)\n",
            "------------------------------\n",
            "Iteration (train phase) 107/300\n",
            "Finished in 8.614685535430908 (s)\n",
            "------------------------------\n",
            "Iteration (train phase) 108/300\n",
            "Finished in 8.733119487762451 (s)\n",
            "------------------------------\n",
            "Iteration (train phase) 109/300\n",
            "Finished in 8.649712324142456 (s)\n",
            "------------------------------\n",
            "Iteration (train phase) 110/300\n",
            "Finished in 8.598089456558228 (s)\n",
            "------------------------------\n",
            "Iteration (train phase) 111/300\n",
            "Finished in 8.60613465309143 (s)\n",
            "------------------------------\n",
            "Iteration (train phase) 112/300\n",
            "Finished in 8.608949422836304 (s)\n",
            "------------------------------\n",
            "Iteration (train phase) 113/300\n",
            "Finished in 8.594721794128418 (s)\n",
            "------------------------------\n",
            "Iteration (train phase) 114/300\n",
            "Finished in 8.580201387405396 (s)\n",
            "------------------------------\n",
            "Iteration (train phase) 115/300\n",
            "Finished in 8.59875750541687 (s)\n",
            "------------------------------\n",
            "Iteration (train phase) 116/300\n",
            "Finished in 8.601603507995605 (s)\n",
            "------------------------------\n",
            "Iteration (train phase) 117/300\n",
            "Finished in 8.559775829315186 (s)\n",
            "------------------------------\n",
            "Iteration (train phase) 118/300\n",
            "Finished in 13.438127756118774 (s)\n",
            "------------------------------\n",
            "Iteration (train phase) 119/300\n",
            "Finished in 8.602909564971924 (s)\n",
            "------------------------------\n",
            "Iteration (train phase) 120/300\n",
            "Finished in 8.510293960571289 (s)\n",
            "------------------------------\n",
            "Iteration (train phase) 121/300\n",
            "Finished in 8.702131271362305 (s)\n",
            "------------------------------\n",
            "Iteration (train phase) 122/300\n",
            "Finished in 8.517910242080688 (s)\n",
            "------------------------------\n",
            "Iteration (train phase) 123/300\n",
            "Finished in 8.508414268493652 (s)\n",
            "------------------------------\n",
            "Iteration (train phase) 124/300\n",
            "Finished in 8.479255199432373 (s)\n",
            "------------------------------\n",
            "Iteration (train phase) 125/300\n",
            "Finished in 8.58519721031189 (s)\n",
            "------------------------------\n",
            "Iteration (train phase) 126/300\n",
            "Finished in 8.494831323623657 (s)\n",
            "------------------------------\n",
            "Iteration (train phase) 127/300\n",
            "Finished in 8.666032552719116 (s)\n",
            "------------------------------\n",
            "Iteration (train phase) 128/300\n",
            "Finished in 8.602403163909912 (s)\n",
            "------------------------------\n",
            "Iteration (train phase) 129/300\n",
            "Finished in 8.594643592834473 (s)\n",
            "------------------------------\n",
            "Iteration (train phase) 130/300\n",
            "Finished in 8.573342084884644 (s)\n",
            "------------------------------\n",
            "Iteration (train phase) 131/300\n",
            "Finished in 8.627283573150635 (s)\n",
            "------------------------------\n",
            "Iteration (train phase) 132/300\n",
            "Finished in 8.620790004730225 (s)\n",
            "------------------------------\n",
            "Iteration (train phase) 133/300\n",
            "Finished in 8.644368410110474 (s)\n",
            "------------------------------\n",
            "Iteration (train phase) 134/300\n",
            "Finished in 8.609973192214966 (s)\n",
            "------------------------------\n",
            "Iteration (train phase) 135/300\n",
            "Finished in 8.597140312194824 (s)\n",
            "------------------------------\n",
            "Iteration (train phase) 136/300\n",
            "Finished in 8.674604654312134 (s)\n",
            "------------------------------\n",
            "Iteration (train phase) 137/300\n",
            "Finished in 8.601430177688599 (s)\n",
            "------------------------------\n",
            "Iteration (train phase) 138/300\n",
            "Finished in 8.563560485839844 (s)\n",
            "------------------------------\n",
            "Iteration (train phase) 139/300\n",
            "Finished in 8.551765441894531 (s)\n",
            "------------------------------\n",
            "Iteration (train phase) 140/300\n",
            "Finished in 8.628530979156494 (s)\n",
            "------------------------------\n",
            "Iteration (train phase) 141/300\n",
            "Finished in 8.535634756088257 (s)\n",
            "------------------------------\n",
            "Iteration (train phase) 142/300\n",
            "Finished in 8.553027391433716 (s)\n",
            "------------------------------\n",
            "Iteration (train phase) 143/300\n",
            "Finished in 8.559316396713257 (s)\n",
            "------------------------------\n",
            "Iteration (train phase) 144/300\n",
            "Finished in 8.516755104064941 (s)\n",
            "------------------------------\n",
            "Iteration (train phase) 145/300\n",
            "Finished in 9.508699655532837 (s)\n",
            "------------------------------\n",
            "Iteration (train phase) 146/300\n",
            "Finished in 8.664661645889282 (s)\n",
            "------------------------------\n",
            "Iteration (train phase) 147/300\n",
            "Finished in 8.608134984970093 (s)\n",
            "------------------------------\n",
            "Iteration (train phase) 148/300\n",
            "Finished in 8.686116218566895 (s)\n",
            "------------------------------\n",
            "Iteration (train phase) 149/300\n",
            "Finished in 8.456362009048462 (s)\n",
            "------------------------------\n",
            "Iteration (train phase) 150/300\n",
            "Finished in 8.548107147216797 (s)\n",
            "------------------------------\n",
            "Iteration (train phase) 151/300\n",
            "Finished in 8.507462501525879 (s)\n",
            "------------------------------\n",
            "Iteration (train phase) 152/300\n",
            "Finished in 8.567953824996948 (s)\n",
            "------------------------------\n",
            "Iteration (train phase) 153/300\n",
            "Finished in 8.647108793258667 (s)\n",
            "------------------------------\n",
            "Iteration (train phase) 154/300\n",
            "Finished in 8.652841567993164 (s)\n",
            "------------------------------\n",
            "Iteration (train phase) 155/300\n",
            "Finished in 8.58652114868164 (s)\n",
            "------------------------------\n",
            "Iteration (train phase) 156/300\n",
            "Finished in 8.656849145889282 (s)\n",
            "------------------------------\n",
            "Iteration (train phase) 157/300\n",
            "Finished in 8.551795721054077 (s)\n",
            "------------------------------\n",
            "Iteration (train phase) 158/300\n",
            "Finished in 8.52386474609375 (s)\n",
            "------------------------------\n",
            "Iteration (train phase) 159/300\n",
            "Finished in 8.655648469924927 (s)\n",
            "------------------------------\n",
            "Iteration (train phase) 160/300\n",
            "Finished in 8.646761655807495 (s)\n",
            "------------------------------\n",
            "Iteration (train phase) 161/300\n",
            "Finished in 8.587303638458252 (s)\n",
            "------------------------------\n",
            "Iteration (train phase) 162/300\n",
            "Finished in 8.621269464492798 (s)\n",
            "------------------------------\n",
            "Iteration (train phase) 163/300\n",
            "Finished in 8.547420978546143 (s)\n",
            "------------------------------\n",
            "Iteration (train phase) 164/300\n",
            "Finished in 8.581795454025269 (s)\n",
            "------------------------------\n",
            "Iteration (train phase) 165/300\n",
            "Finished in 8.601255893707275 (s)\n",
            "------------------------------\n",
            "Iteration (train phase) 166/300\n",
            "Finished in 8.647071361541748 (s)\n",
            "------------------------------\n",
            "Iteration (train phase) 167/300\n",
            "Finished in 8.591465711593628 (s)\n",
            "------------------------------\n",
            "Iteration (train phase) 168/300\n",
            "Finished in 8.570950269699097 (s)\n",
            "------------------------------\n",
            "Iteration (train phase) 169/300\n",
            "Finished in 8.53719186782837 (s)\n",
            "------------------------------\n",
            "Iteration (train phase) 170/300\n",
            "Finished in 8.612648725509644 (s)\n",
            "------------------------------\n",
            "Iteration (train phase) 171/300\n",
            "Finished in 9.975893497467041 (s)\n",
            "------------------------------\n",
            "Iteration (train phase) 172/300\n",
            "Finished in 8.65921950340271 (s)\n",
            "------------------------------\n",
            "Iteration (train phase) 173/300\n",
            "Finished in 8.554485559463501 (s)\n",
            "------------------------------\n",
            "Iteration (train phase) 174/300\n",
            "Finished in 8.52569031715393 (s)\n",
            "------------------------------\n",
            "Iteration (train phase) 175/300\n",
            "Finished in 8.495202779769897 (s)\n",
            "------------------------------\n",
            "Iteration (train phase) 176/300\n",
            "Finished in 8.482317447662354 (s)\n",
            "------------------------------\n",
            "Iteration (train phase) 177/300\n",
            "Finished in 8.466889142990112 (s)\n",
            "------------------------------\n",
            "Iteration (train phase) 178/300\n",
            "Finished in 8.577080011367798 (s)\n",
            "------------------------------\n",
            "Iteration (train phase) 179/300\n",
            "Finished in 8.573978424072266 (s)\n",
            "------------------------------\n",
            "Iteration (train phase) 180/300\n",
            "Finished in 8.584348917007446 (s)\n",
            "------------------------------\n",
            "Iteration (train phase) 181/300\n",
            "Finished in 8.58451795578003 (s)\n",
            "------------------------------\n",
            "Iteration (train phase) 182/300\n",
            "Finished in 12.694213151931763 (s)\n",
            "------------------------------\n",
            "Iteration (train phase) 183/300\n",
            "Finished in 9.125357151031494 (s)\n",
            "------------------------------\n",
            "Iteration (train phase) 184/300\n",
            "Finished in 8.641402959823608 (s)\n",
            "------------------------------\n",
            "Iteration (train phase) 185/300\n",
            "Finished in 8.496224164962769 (s)\n",
            "------------------------------\n",
            "Iteration (train phase) 186/300\n",
            "Finished in 8.520064115524292 (s)\n",
            "------------------------------\n",
            "Iteration (train phase) 187/300\n",
            "Finished in 8.468700170516968 (s)\n",
            "------------------------------\n",
            "Iteration (train phase) 188/300\n",
            "Finished in 8.506030321121216 (s)\n",
            "------------------------------\n",
            "Iteration (train phase) 189/300\n",
            "Finished in 8.585330486297607 (s)\n",
            "------------------------------\n",
            "Iteration (train phase) 190/300\n",
            "Finished in 8.588650703430176 (s)\n",
            "------------------------------\n",
            "Iteration (train phase) 191/300\n",
            "Finished in 8.915153503417969 (s)\n",
            "------------------------------\n",
            "Iteration (train phase) 192/300\n",
            "Finished in 8.67053771018982 (s)\n",
            "------------------------------\n",
            "Iteration (train phase) 193/300\n",
            "Finished in 8.651336908340454 (s)\n",
            "------------------------------\n",
            "Iteration (train phase) 194/300\n",
            "Finished in 8.622539758682251 (s)\n",
            "------------------------------\n",
            "Iteration (train phase) 195/300\n",
            "Finished in 8.496694564819336 (s)\n",
            "------------------------------\n",
            "Iteration (train phase) 196/300\n",
            "Finished in 8.51367712020874 (s)\n",
            "------------------------------\n",
            "Iteration (train phase) 197/300\n",
            "Finished in 8.775991439819336 (s)\n",
            "------------------------------\n",
            "Iteration (train phase) 198/300\n",
            "Finished in 8.539978981018066 (s)\n",
            "------------------------------\n",
            "Iteration (train phase) 199/300\n",
            "Finished in 8.501972675323486 (s)\n",
            "------------------------------\n",
            "Iteration (train phase) 200/300\n",
            "Finished in 8.455732345581055 (s)\n",
            "------------------------------\n",
            "Iteration (train phase) 201/300\n",
            "Finished in 8.466936826705933 (s)\n",
            "------------------------------\n",
            "Iteration (train phase) 202/300\n",
            "Finished in 8.477591276168823 (s)\n",
            "------------------------------\n",
            "Iteration (train phase) 203/300\n",
            "Finished in 8.491567611694336 (s)\n",
            "------------------------------\n",
            "Iteration (train phase) 204/300\n",
            "Finished in 8.64471173286438 (s)\n",
            "------------------------------\n",
            "Iteration (train phase) 205/300\n",
            "Finished in 8.523257732391357 (s)\n",
            "------------------------------\n",
            "Iteration (train phase) 206/300\n",
            "Finished in 8.58378267288208 (s)\n",
            "------------------------------\n",
            "Iteration (train phase) 207/300\n",
            "Finished in 8.638866901397705 (s)\n",
            "------------------------------\n",
            "Iteration (train phase) 208/300\n",
            "Finished in 8.664911985397339 (s)\n",
            "------------------------------\n",
            "Iteration (train phase) 209/300\n",
            "Finished in 8.579235076904297 (s)\n",
            "------------------------------\n",
            "Iteration (train phase) 210/300\n",
            "Finished in 8.643477201461792 (s)\n",
            "------------------------------\n",
            "Iteration (train phase) 211/300\n",
            "Finished in 8.562854766845703 (s)\n",
            "------------------------------\n",
            "Iteration (train phase) 212/300\n",
            "Finished in 8.508479833602905 (s)\n",
            "------------------------------\n",
            "Iteration (train phase) 213/300\n",
            "Finished in 8.480331182479858 (s)\n",
            "------------------------------\n",
            "Iteration (train phase) 214/300\n",
            "Finished in 8.508124113082886 (s)\n",
            "------------------------------\n",
            "Iteration (train phase) 215/300\n",
            "Finished in 8.517167568206787 (s)\n",
            "------------------------------\n",
            "Iteration (train phase) 216/300\n",
            "Finished in 8.57609248161316 (s)\n",
            "------------------------------\n",
            "Iteration (train phase) 217/300\n",
            "Finished in 8.544193744659424 (s)\n",
            "------------------------------\n",
            "Iteration (train phase) 218/300\n",
            "Finished in 8.611270904541016 (s)\n",
            "------------------------------\n",
            "Iteration (train phase) 219/300\n",
            "Finished in 8.555947303771973 (s)\n",
            "------------------------------\n",
            "Iteration (train phase) 220/300\n",
            "Finished in 8.627699375152588 (s)\n",
            "------------------------------\n",
            "Iteration (train phase) 221/300\n",
            "Finished in 8.549220323562622 (s)\n",
            "------------------------------\n",
            "Iteration (train phase) 222/300\n",
            "Finished in 8.890503883361816 (s)\n",
            "------------------------------\n",
            "Iteration (train phase) 223/300\n",
            "Finished in 9.142678260803223 (s)\n",
            "------------------------------\n",
            "Iteration (train phase) 224/300\n",
            "Finished in 8.512741804122925 (s)\n",
            "------------------------------\n",
            "Iteration (train phase) 225/300\n",
            "Finished in 8.529043436050415 (s)\n",
            "------------------------------\n",
            "Iteration (train phase) 226/300\n",
            "Finished in 8.475541591644287 (s)\n",
            "------------------------------\n",
            "Iteration (train phase) 227/300\n",
            "Finished in 8.463324785232544 (s)\n",
            "------------------------------\n",
            "Iteration (train phase) 228/300\n",
            "Finished in 8.531144618988037 (s)\n",
            "------------------------------\n",
            "Iteration (train phase) 229/300\n",
            "Finished in 8.574460744857788 (s)\n",
            "------------------------------\n",
            "Iteration (train phase) 230/300\n",
            "Finished in 8.631484508514404 (s)\n",
            "------------------------------\n",
            "Iteration (train phase) 231/300\n",
            "Finished in 8.628554582595825 (s)\n",
            "------------------------------\n",
            "Iteration (train phase) 232/300\n",
            "Finished in 8.635854721069336 (s)\n",
            "------------------------------\n",
            "Iteration (train phase) 233/300\n",
            "Finished in 8.594887971878052 (s)\n",
            "------------------------------\n",
            "Iteration (train phase) 234/300\n",
            "Finished in 8.586201190948486 (s)\n",
            "------------------------------\n",
            "Iteration (train phase) 235/300\n",
            "Finished in 8.575929164886475 (s)\n",
            "------------------------------\n",
            "Iteration (train phase) 236/300\n",
            "Finished in 8.578012704849243 (s)\n",
            "------------------------------\n",
            "Iteration (train phase) 237/300\n",
            "Finished in 8.765636205673218 (s)\n",
            "------------------------------\n",
            "Iteration (train phase) 238/300\n",
            "Finished in 8.645367860794067 (s)\n",
            "------------------------------\n",
            "Iteration (train phase) 239/300\n",
            "Finished in 8.560909271240234 (s)\n",
            "------------------------------\n",
            "Iteration (train phase) 240/300\n",
            "Finished in 8.552361965179443 (s)\n",
            "------------------------------\n",
            "Iteration (train phase) 241/300\n",
            "Finished in 8.570032835006714 (s)\n",
            "------------------------------\n",
            "Iteration (train phase) 242/300\n",
            "Finished in 8.592340469360352 (s)\n",
            "------------------------------\n",
            "Iteration (train phase) 243/300\n",
            "Finished in 8.546783208847046 (s)\n",
            "------------------------------\n",
            "Iteration (train phase) 244/300\n",
            "Finished in 8.554426908493042 (s)\n",
            "------------------------------\n",
            "Iteration (train phase) 245/300\n",
            "Finished in 8.545209169387817 (s)\n",
            "------------------------------\n",
            "Iteration (train phase) 246/300\n",
            "Finished in 8.616899728775024 (s)\n",
            "------------------------------\n",
            "Iteration (train phase) 247/300\n",
            "Finished in 13.886601448059082 (s)\n",
            "------------------------------\n",
            "Iteration (train phase) 248/300\n",
            "Finished in 9.78714394569397 (s)\n",
            "------------------------------\n",
            "Iteration (train phase) 249/300\n",
            "Finished in 8.585604429244995 (s)\n",
            "------------------------------\n",
            "Iteration (train phase) 250/300\n",
            "Finished in 8.448237895965576 (s)\n",
            "------------------------------\n",
            "Iteration (train phase) 251/300\n",
            "Finished in 8.471145868301392 (s)\n",
            "------------------------------\n",
            "Iteration (train phase) 252/300\n",
            "Finished in 8.482722043991089 (s)\n",
            "------------------------------\n",
            "Iteration (train phase) 253/300\n",
            "Finished in 8.48825979232788 (s)\n",
            "------------------------------\n",
            "Iteration (train phase) 254/300\n",
            "Finished in 8.58610987663269 (s)\n",
            "------------------------------\n",
            "Iteration (train phase) 255/300\n",
            "Finished in 8.557589769363403 (s)\n",
            "------------------------------\n",
            "Iteration (train phase) 256/300\n",
            "Finished in 8.587140560150146 (s)\n",
            "------------------------------\n",
            "Iteration (train phase) 257/300\n",
            "Finished in 8.562328100204468 (s)\n",
            "------------------------------\n",
            "Iteration (train phase) 258/300\n",
            "Finished in 8.59824538230896 (s)\n",
            "------------------------------\n",
            "Iteration (train phase) 259/300\n",
            "Finished in 8.569929122924805 (s)\n",
            "------------------------------\n",
            "Iteration (train phase) 260/300\n",
            "Finished in 8.709965229034424 (s)\n",
            "------------------------------\n",
            "Iteration (train phase) 261/300\n",
            "Finished in 8.556206464767456 (s)\n",
            "------------------------------\n",
            "Iteration (train phase) 262/300\n",
            "Finished in 8.699973821640015 (s)\n",
            "------------------------------\n",
            "Iteration (train phase) 263/300\n",
            "Finished in 8.54563593864441 (s)\n",
            "------------------------------\n",
            "Iteration (train phase) 264/300\n",
            "Finished in 8.518980741500854 (s)\n",
            "------------------------------\n",
            "Iteration (train phase) 265/300\n",
            "Finished in 8.527043104171753 (s)\n",
            "------------------------------\n",
            "Iteration (train phase) 266/300\n",
            "Finished in 8.565356731414795 (s)\n",
            "------------------------------\n",
            "Iteration (train phase) 267/300\n",
            "Finished in 8.729870080947876 (s)\n",
            "------------------------------\n",
            "Iteration (train phase) 268/300\n",
            "Finished in 8.534210205078125 (s)\n",
            "------------------------------\n",
            "Iteration (train phase) 269/300\n",
            "Finished in 8.61020541191101 (s)\n",
            "------------------------------\n",
            "Iteration (train phase) 270/300\n",
            "Finished in 8.663740873336792 (s)\n",
            "------------------------------\n",
            "Iteration (train phase) 271/300\n",
            "Finished in 8.651726007461548 (s)\n",
            "------------------------------\n",
            "Iteration (train phase) 272/300\n",
            "Finished in 8.55620288848877 (s)\n",
            "------------------------------\n",
            "Iteration (train phase) 273/300\n",
            "Finished in 8.58512830734253 (s)\n",
            "------------------------------\n",
            "Iteration (train phase) 274/300\n",
            "Finished in 9.111455202102661 (s)\n",
            "------------------------------\n",
            "Iteration (train phase) 275/300\n",
            "Finished in 8.481663942337036 (s)\n",
            "------------------------------\n",
            "Iteration (train phase) 276/300\n",
            "Finished in 8.47671127319336 (s)\n",
            "------------------------------\n",
            "Iteration (train phase) 277/300\n",
            "Finished in 8.544507026672363 (s)\n",
            "------------------------------\n",
            "Iteration (train phase) 278/300\n",
            "Finished in 8.463422536849976 (s)\n",
            "------------------------------\n",
            "Iteration (train phase) 279/300\n",
            "Finished in 8.494424819946289 (s)\n",
            "------------------------------\n",
            "Iteration (train phase) 280/300\n",
            "Finished in 8.591797590255737 (s)\n",
            "------------------------------\n",
            "Iteration (train phase) 281/300\n",
            "Finished in 8.585307836532593 (s)\n",
            "------------------------------\n",
            "Iteration (train phase) 282/300\n",
            "Finished in 8.593004703521729 (s)\n",
            "------------------------------\n",
            "Iteration (train phase) 283/300\n",
            "Finished in 8.582034587860107 (s)\n",
            "------------------------------\n",
            "Iteration (train phase) 284/300\n",
            "Finished in 8.593279600143433 (s)\n",
            "------------------------------\n",
            "Iteration (train phase) 285/300\n",
            "Finished in 8.587886571884155 (s)\n",
            "------------------------------\n",
            "Iteration (train phase) 286/300\n",
            "Finished in 8.83807921409607 (s)\n",
            "------------------------------\n",
            "Iteration (train phase) 287/300\n",
            "Finished in 8.626410722732544 (s)\n",
            "------------------------------\n",
            "Iteration (train phase) 288/300\n",
            "Finished in 8.536638021469116 (s)\n",
            "------------------------------\n",
            "Iteration (train phase) 289/300\n",
            "Finished in 8.542529344558716 (s)\n",
            "------------------------------\n",
            "Iteration (train phase) 290/300\n",
            "Finished in 8.558302879333496 (s)\n",
            "------------------------------\n",
            "Iteration (train phase) 291/300\n",
            "Finished in 8.477056503295898 (s)\n",
            "------------------------------\n",
            "Iteration (train phase) 292/300\n",
            "Finished in 8.496815204620361 (s)\n",
            "------------------------------\n",
            "Iteration (train phase) 293/300\n",
            "Finished in 8.667599439620972 (s)\n",
            "------------------------------\n",
            "Iteration (train phase) 294/300\n",
            "Finished in 8.641197681427002 (s)\n",
            "------------------------------\n",
            "Iteration (train phase) 295/300\n",
            "Finished in 8.61560606956482 (s)\n",
            "------------------------------\n",
            "Iteration (train phase) 296/300\n",
            "Finished in 8.673622846603394 (s)\n",
            "------------------------------\n",
            "Iteration (train phase) 297/300\n",
            "Finished in 8.562444686889648 (s)\n",
            "------------------------------\n",
            "Iteration (train phase) 298/300\n",
            "Finished in 8.571413516998291 (s)\n",
            "------------------------------\n",
            "Iteration (train phase) 299/300\n",
            "Finished in 8.632562637329102 (s)\n",
            "------------------------------\n",
            "Iteration (train phase) 300/300\n",
            "Finished in 9.860798835754395 (s)\n",
            "------------------------------\n",
            "Iteration (validation phase) 1/100\n",
            "Finished in 8.072470664978027 (s)\n",
            "------------------------------\n",
            "Iteration (validation phase) 2/100\n",
            "Finished in 7.71335768699646 (s)\n",
            "------------------------------\n",
            "Iteration (validation phase) 3/100\n",
            "Finished in 7.699646472930908 (s)\n",
            "------------------------------\n",
            "Iteration (validation phase) 4/100\n",
            "Finished in 7.701200246810913 (s)\n",
            "------------------------------\n",
            "Iteration (validation phase) 5/100\n",
            "Finished in 7.750569820404053 (s)\n",
            "------------------------------\n",
            "Iteration (validation phase) 6/100\n",
            "Finished in 7.804256916046143 (s)\n",
            "------------------------------\n",
            "Iteration (validation phase) 7/100\n",
            "Finished in 7.770662069320679 (s)\n",
            "------------------------------\n",
            "Iteration (validation phase) 8/100\n",
            "Finished in 7.820063352584839 (s)\n",
            "------------------------------\n",
            "Iteration (validation phase) 9/100\n",
            "Finished in 7.713271617889404 (s)\n",
            "------------------------------\n",
            "Iteration (validation phase) 10/100\n",
            "Finished in 7.827613353729248 (s)\n",
            "------------------------------\n",
            "Iteration (validation phase) 11/100\n",
            "Finished in 7.795783281326294 (s)\n",
            "------------------------------\n",
            "Iteration (validation phase) 12/100\n",
            "Finished in 7.766607284545898 (s)\n",
            "------------------------------\n",
            "Iteration (validation phase) 13/100\n",
            "Finished in 12.318285703659058 (s)\n",
            "------------------------------\n",
            "Iteration (validation phase) 14/100\n",
            "Finished in 7.7822182178497314 (s)\n",
            "------------------------------\n",
            "Iteration (validation phase) 15/100\n",
            "Finished in 7.758009672164917 (s)\n",
            "------------------------------\n",
            "Iteration (validation phase) 16/100\n",
            "Finished in 7.789011478424072 (s)\n",
            "------------------------------\n",
            "Iteration (validation phase) 17/100\n",
            "Finished in 7.65491247177124 (s)\n",
            "------------------------------\n",
            "Iteration (validation phase) 18/100\n",
            "Finished in 7.666836738586426 (s)\n",
            "------------------------------\n",
            "Iteration (validation phase) 19/100\n",
            "Finished in 7.689413070678711 (s)\n",
            "------------------------------\n",
            "Iteration (validation phase) 20/100\n",
            "Finished in 7.717622995376587 (s)\n",
            "------------------------------\n",
            "Iteration (validation phase) 21/100\n",
            "Finished in 7.715158462524414 (s)\n",
            "------------------------------\n",
            "Iteration (validation phase) 22/100\n",
            "Finished in 7.700341463088989 (s)\n",
            "------------------------------\n",
            "Iteration (validation phase) 23/100\n",
            "Finished in 7.703073978424072 (s)\n",
            "------------------------------\n",
            "Iteration (validation phase) 24/100\n",
            "Finished in 7.725214242935181 (s)\n",
            "------------------------------\n",
            "Iteration (validation phase) 25/100\n",
            "Finished in 7.686291933059692 (s)\n",
            "------------------------------\n",
            "Iteration (validation phase) 26/100\n",
            "Finished in 7.771094799041748 (s)\n",
            "------------------------------\n",
            "Iteration (validation phase) 27/100\n",
            "Finished in 7.782989501953125 (s)\n",
            "------------------------------\n",
            "Iteration (validation phase) 28/100\n",
            "Finished in 8.925449132919312 (s)\n",
            "------------------------------\n",
            "Iteration (validation phase) 29/100\n",
            "Finished in 7.700530529022217 (s)\n",
            "------------------------------\n",
            "Iteration (validation phase) 30/100\n",
            "Finished in 7.6736814975738525 (s)\n",
            "------------------------------\n",
            "Iteration (validation phase) 31/100\n",
            "Finished in 7.664474010467529 (s)\n",
            "------------------------------\n",
            "Iteration (validation phase) 32/100\n",
            "Finished in 7.702427625656128 (s)\n",
            "------------------------------\n",
            "Iteration (validation phase) 33/100\n",
            "Finished in 7.7255473136901855 (s)\n",
            "------------------------------\n",
            "Iteration (validation phase) 34/100\n",
            "Finished in 7.760936498641968 (s)\n",
            "------------------------------\n",
            "Iteration (validation phase) 35/100\n",
            "Finished in 7.829894542694092 (s)\n",
            "------------------------------\n",
            "Iteration (validation phase) 36/100\n",
            "Finished in 7.775898694992065 (s)\n",
            "------------------------------\n",
            "Iteration (validation phase) 37/100\n",
            "Finished in 7.789035797119141 (s)\n",
            "------------------------------\n",
            "Iteration (validation phase) 38/100\n",
            "Finished in 7.793874263763428 (s)\n",
            "------------------------------\n",
            "Iteration (validation phase) 39/100\n",
            "Finished in 7.874657869338989 (s)\n",
            "------------------------------\n",
            "Iteration (validation phase) 40/100\n",
            "Finished in 7.9132726192474365 (s)\n",
            "------------------------------\n",
            "Iteration (validation phase) 41/100\n",
            "Finished in 7.758071422576904 (s)\n",
            "------------------------------\n",
            "Iteration (validation phase) 42/100\n",
            "Finished in 7.739796876907349 (s)\n",
            "------------------------------\n",
            "Iteration (validation phase) 43/100\n",
            "Finished in 7.728440761566162 (s)\n",
            "------------------------------\n",
            "Iteration (validation phase) 44/100\n",
            "Finished in 7.705839157104492 (s)\n",
            "------------------------------\n",
            "Iteration (validation phase) 45/100\n",
            "Finished in 7.688141345977783 (s)\n",
            "------------------------------\n",
            "Iteration (validation phase) 46/100\n",
            "Finished in 7.747999429702759 (s)\n",
            "------------------------------\n",
            "Iteration (validation phase) 47/100\n",
            "Finished in 7.724184036254883 (s)\n",
            "------------------------------\n",
            "Iteration (validation phase) 48/100\n",
            "Finished in 7.721369028091431 (s)\n",
            "------------------------------\n",
            "Iteration (validation phase) 49/100\n",
            "Finished in 7.7314324378967285 (s)\n",
            "------------------------------\n",
            "Iteration (validation phase) 50/100\n",
            "Finished in 7.739723443984985 (s)\n",
            "------------------------------\n",
            "Iteration (validation phase) 51/100\n",
            "Finished in 7.716617107391357 (s)\n",
            "------------------------------\n",
            "Iteration (validation phase) 52/100\n",
            "Finished in 7.753790378570557 (s)\n",
            "------------------------------\n",
            "Iteration (validation phase) 53/100\n",
            "Finished in 7.683662414550781 (s)\n",
            "------------------------------\n",
            "Iteration (validation phase) 54/100\n",
            "Finished in 7.767117738723755 (s)\n",
            "------------------------------\n",
            "Iteration (validation phase) 55/100\n",
            "Finished in 7.805342197418213 (s)\n",
            "------------------------------\n",
            "Iteration (validation phase) 56/100\n",
            "Finished in 8.057318687438965 (s)\n",
            "------------------------------\n",
            "Iteration (validation phase) 57/100\n",
            "Finished in 7.6462273597717285 (s)\n",
            "------------------------------\n",
            "Iteration (validation phase) 58/100\n",
            "Finished in 7.653500556945801 (s)\n",
            "------------------------------\n",
            "Iteration (validation phase) 59/100\n",
            "Finished in 7.658587217330933 (s)\n",
            "------------------------------\n",
            "Iteration (validation phase) 60/100\n",
            "Finished in 7.653029680252075 (s)\n",
            "------------------------------\n",
            "Iteration (validation phase) 61/100\n",
            "Finished in 7.647505760192871 (s)\n",
            "------------------------------\n",
            "Iteration (validation phase) 62/100\n",
            "Finished in 7.7820351123809814 (s)\n",
            "------------------------------\n",
            "Iteration (validation phase) 63/100\n",
            "Finished in 7.74353551864624 (s)\n",
            "------------------------------\n",
            "Iteration (validation phase) 64/100\n",
            "Finished in 7.759773254394531 (s)\n",
            "------------------------------\n",
            "Iteration (validation phase) 65/100\n",
            "Finished in 7.830628395080566 (s)\n",
            "------------------------------\n",
            "Iteration (validation phase) 66/100\n",
            "Finished in 7.831197500228882 (s)\n",
            "------------------------------\n",
            "Iteration (validation phase) 67/100\n",
            "Finished in 7.735992908477783 (s)\n",
            "------------------------------\n",
            "Iteration (validation phase) 68/100\n",
            "Finished in 7.733977556228638 (s)\n",
            "------------------------------\n",
            "Iteration (validation phase) 69/100\n",
            "Finished in 7.823046922683716 (s)\n",
            "------------------------------\n",
            "Iteration (validation phase) 70/100\n",
            "Finished in 7.705070734024048 (s)\n",
            "------------------------------\n",
            "Iteration (validation phase) 71/100\n",
            "Finished in 7.72110652923584 (s)\n",
            "------------------------------\n",
            "Iteration (validation phase) 72/100\n",
            "Finished in 7.679885625839233 (s)\n",
            "------------------------------\n",
            "Iteration (validation phase) 73/100\n",
            "Finished in 7.738863706588745 (s)\n",
            "------------------------------\n",
            "Iteration (validation phase) 74/100\n",
            "Finished in 7.699926853179932 (s)\n",
            "------------------------------\n",
            "Iteration (validation phase) 75/100\n",
            "Finished in 7.708224773406982 (s)\n",
            "------------------------------\n",
            "Iteration (validation phase) 76/100\n",
            "Finished in 7.8989012241363525 (s)\n",
            "------------------------------\n",
            "Iteration (validation phase) 77/100\n",
            "Finished in 7.877033233642578 (s)\n",
            "------------------------------\n",
            "Iteration (validation phase) 78/100\n",
            "Finished in 7.86801290512085 (s)\n",
            "------------------------------\n",
            "Iteration (validation phase) 79/100\n",
            "Finished in 7.822904109954834 (s)\n",
            "------------------------------\n",
            "Iteration (validation phase) 80/100\n",
            "Finished in 7.8194286823272705 (s)\n",
            "------------------------------\n",
            "Iteration (validation phase) 81/100\n",
            "Finished in 7.736199140548706 (s)\n",
            "------------------------------\n",
            "Iteration (validation phase) 82/100\n",
            "Finished in 7.7634055614471436 (s)\n",
            "------------------------------\n",
            "Iteration (validation phase) 83/100\n",
            "Finished in 7.841974973678589 (s)\n",
            "------------------------------\n",
            "Iteration (validation phase) 84/100\n",
            "Finished in 13.61567234992981 (s)\n",
            "------------------------------\n",
            "Iteration (validation phase) 85/100\n",
            "Finished in 8.37758207321167 (s)\n",
            "------------------------------\n",
            "Iteration (validation phase) 86/100\n",
            "Finished in 7.70933723449707 (s)\n",
            "------------------------------\n",
            "Iteration (validation phase) 87/100\n",
            "Finished in 7.6759514808654785 (s)\n",
            "------------------------------\n",
            "Iteration (validation phase) 88/100\n",
            "Finished in 7.73422908782959 (s)\n",
            "------------------------------\n",
            "Iteration (validation phase) 89/100\n",
            "Finished in 7.8268373012542725 (s)\n",
            "------------------------------\n",
            "Iteration (validation phase) 90/100\n",
            "Finished in 7.810461759567261 (s)\n",
            "------------------------------\n",
            "Iteration (validation phase) 91/100\n",
            "Finished in 7.80424690246582 (s)\n",
            "------------------------------\n",
            "Iteration (validation phase) 92/100\n",
            "Finished in 7.826990127563477 (s)\n",
            "------------------------------\n",
            "Iteration (validation phase) 93/100\n",
            "Finished in 7.805015802383423 (s)\n",
            "------------------------------\n",
            "Iteration (validation phase) 94/100\n",
            "Finished in 7.770318508148193 (s)\n",
            "------------------------------\n",
            "Iteration (validation phase) 95/100\n",
            "Finished in 7.743312835693359 (s)\n",
            "------------------------------\n",
            "Iteration (validation phase) 96/100\n",
            "Finished in 7.844108819961548 (s)\n",
            "------------------------------\n",
            "Iteration (validation phase) 97/100\n",
            "Finished in 7.708391904830933 (s)\n",
            "------------------------------\n",
            "Iteration (validation phase) 98/100\n",
            "Finished in 7.743228197097778 (s)\n",
            "------------------------------\n",
            "Iteration (validation phase) 99/100\n",
            "Finished in 7.74175238609314 (s)\n",
            "------------------------------\n",
            "Iteration (validation phase) 100/100\n",
            "Finished in 7.797953844070435 (s)\n",
            "Epoch 1 - accuracy: 0.995\n",
            "------------------------------------------------------------------------\n",
            "Finished epoch 1 in 3695.1648337841034 (s).\n"
          ]
        }
      ],
      "source": [
        "n_epochs = 1\n",
        "loss_list = []\n",
        "accuracy_list = []\n",
        "accuracy = 0\n",
        "correct = 0\n",
        "N_test = len(validation_dataset)\n",
        "N_train = len(train_dataset)\n",
        "start_time = time.time()\n",
        "#n_epochs\n",
        "\n",
        "print(\"Number of items in training set : \", N_train)\n",
        "print(\"Number of items in testing set : \", N_test)\n",
        "\n",
        "running_loss = 0\n",
        "start_time = time.time()\n",
        "for epoch in range(n_epochs):\n",
        "    for i, (x, y) in enumerate(train_loader):        \n",
        "        print('-' * 30)\n",
        "        print('Iteration (train phase) {}/{}'.format(i+1, int(N_train/batch_size)))\n",
        "        i_start_time = time.time()\n",
        "        \n",
        "        x = x.to(device)\n",
        "        y = y.to(device)\n",
        "            \n",
        "        # set model to train \n",
        "        model.train() \n",
        "        \n",
        "        # clear gradient \n",
        "        optimizer.zero_grad()\n",
        "     \n",
        "        # make a prediction \n",
        "        z = model(x)\n",
        "   \n",
        "        # calculate loss \n",
        "        loss = criterion(z, y) \n",
        "        # loss.requires_grad = True\n",
        "    \n",
        "        # calculate gradients of parameters \n",
        "        loss.backward()\n",
        "        \n",
        "        # update parameters \n",
        "        optimizer.step()\n",
        "        \n",
        "        loss_list.append(loss.data)\n",
        "        print(\"Finished in {} (s)\".format(time.time()-i_start_time))\n",
        "    # end for\n",
        "        \n",
        "    correct=0\n",
        "    for i, (x_test, y_test) in enumerate(validation_loader):\n",
        "        print('-' * 30)\n",
        "        print('Iteration (validation phase) {}/{}'.format(i+1, int(N_test/batch_size)))\n",
        "        i_start_time = time.time()\n",
        "        \n",
        "        x_test = x_test.to(device)\n",
        "        y_test = y_test.to(device)\n",
        "        \n",
        "        # set model to eval \n",
        "        model.eval()\n",
        "       \n",
        "        # make a prediction \n",
        "        z = model(x_test)\n",
        "        \n",
        "        # find max \n",
        "        _, yhat = torch.max(z.data, 1)\n",
        "       \n",
        "       \n",
        "        #Calculate misclassified  samples in mini-batch \n",
        "        #hint +=(yhat==y_test).sum().item()\n",
        "        correct += (yhat==y_test).sum().item()  \n",
        "        \n",
        "        print(\"Finished in {} (s)\".format(time.time()-i_start_time))\n",
        "    # end for\n",
        "    \n",
        "    accuracy=correct/N_test\n",
        "    print(\"Epoch %d - accuracy: %.3f\" % (epoch+1, accuracy))\n",
        "    \n",
        "    accuracy_list.append(accuracy)\n",
        "    print(\"-\" * 72)\n",
        "    \n",
        "    # Save model\n",
        "  #  model_file_path = model_path + \"resnet18_trained_model_epoch_{}.pth\".format(epoch+1)\n",
        "   # torch.save(model.state_dict(), model_file_path)\n",
        "    \n",
        "    # Duration for epoch\n",
        "    print(\"Finished epoch {} in {} (s).\".format(epoch+1, time.time()-start_time))\n",
        "# end for"
      ]
    },
    {
      "cell_type": "markdown",
      "metadata": {
        "id": "1OtAbnKZcdVL"
      },
      "source": [
        "<b>Print out the Accuracy and plot the loss stored in the list <code>loss_list</code> for every iteration and take a screen shot.</b>\n"
      ]
    },
    {
      "cell_type": "code",
      "execution_count": null,
      "metadata": {
        "id": "faewxrWNcdVL",
        "colab": {
          "base_uri": "https://localhost:8080/"
        },
        "outputId": "dd0930f1-6a33-416f-b705-645dc5d39e19"
      },
      "outputs": [
        {
          "output_type": "execute_result",
          "data": {
            "text/plain": [
              "0.995"
            ]
          },
          "metadata": {},
          "execution_count": 25
        }
      ],
      "source": [
        "accuracy"
      ]
    },
    {
      "cell_type": "code",
      "execution_count": null,
      "metadata": {
        "id": "OdJpF2WIcdVL",
        "colab": {
          "base_uri": "https://localhost:8080/",
          "height": 279
        },
        "outputId": "66a6d7a1-db03-481e-e47f-a2d6d67b554c"
      },
      "outputs": [
        {
          "output_type": "display_data",
          "data": {
            "text/plain": [
              "<Figure size 432x288 with 1 Axes>"
            ],
            "image/png": "[encoded data removed]"
          },
          "metadata": {
            "needs_background": "light"
          }
        }
      ],
      "source": [
        "plt.plot(loss_list)\n",
        "\n",
        "plt.xlabel(\"iteration\")\n",
        "plt.ylabel(\"loss\")\n",
        "plt.show()\n"
      ]
    },
    {
      "cell_type": "code",
      "source": [
        "fig, ax1 = plt.subplots()\n",
        "color = 'tab:red'\n",
        "ax1.plot(loss_list,color=color)\n",
        "ax1.set_xlabel('epoch',color=color)\n",
        "ax1.set_ylabel('total loss',color=color)\n",
        "ax1.tick_params(axis='y', color=color)\n",
        "    \n"
      ],
      "metadata": {
        "colab": {
          "base_uri": "https://localhost:8080/",
          "height": 279
        },
        "id": "N28D11AnmSsp",
        "outputId": "7010e61d-2f09-416d-fa3a-a4726e9cf9d5"
      },
      "execution_count": null,
      "outputs": [
        {
          "output_type": "display_data",
          "data": {
            "text/plain": [
              "<Figure size 432x288 with 1 Axes>"
            ],
            "image/png": "[encoded data removed]"
          },
          "metadata": {
            "needs_background": "light"
          }
        }
      ]
    },
    {
      "cell_type": "markdown",
      "metadata": {
        "id": "YKwsN6j5cdVL"
      },
      "source": [
        "<h2 id=\"Question_3\">Question 3:Find the misclassified samples</h2> \n"
      ]
    },
    {
      "cell_type": "markdown",
      "metadata": {
        "id": "bYvQNKircdVL"
      },
      "source": [
        "<b>Identify the first four misclassified samples using the validation data:</b>\n"
      ]
    },
    {
      "cell_type": "code",
      "execution_count": null,
      "metadata": {
        "id": "4DpYeQcucdVL",
        "colab": {
          "base_uri": "https://localhost:8080/"
        },
        "outputId": "192958a9-f3e4-49e8-fa50-24230da8ea60"
      },
      "outputs": [
        {
          "output_type": "stream",
          "name": "stdout",
          "text": [
            "Sample : 286; Expected Label: tensor([1]); Obtained Label: tensor([0])\n",
            "Sample : 288; Expected Label: tensor([1]); Obtained Label: tensor([0])\n",
            "Sample : 418; Expected Label: tensor([1]); Obtained Label: tensor([0])\n",
            "Sample : 482; Expected Label: tensor([1]); Obtained Label: tensor([0])\n"
          ]
        }
      ],
      "source": [
        "count = 0\n",
        "max_num_of_items = 4  # first four mis-classified samples\n",
        "validation_loader_batch_one = torch.utils.data.DataLoader(dataset=validation_dataset, batch_size=1)\n",
        "\n",
        "for i, (x_test, y_test) in enumerate(validation_loader_batch_one):\n",
        "    # set model to eval\n",
        "    model.eval()\n",
        "    \n",
        "    # make a prediction\n",
        "    z = model(x_test)\n",
        "    \n",
        "    # find max\n",
        "    _, yhat = torch.max(z.data, 1)\n",
        "    \n",
        "    # print mis-classified samples\n",
        "    if yhat != y_test:\n",
        "        print(\"Sample : {}; Expected Label: {}; Obtained Label: {}\".format(str(i), str(y_test), str(yhat)))\n",
        "        count += 1\n",
        "        if count >= max_num_of_items:\n",
        "            break\n",
        "    # end if\n",
        "# end for       "
      ]
    },
    {
      "cell_type": "markdown",
      "metadata": {
        "id": "yGM68svEcdVL"
      },
      "source": [
        "## Change Log\n",
        "\n",
        "| Date (YYYY-MM-DD) | Version | Changed By | Change Description                                          |\n",
        "| ----------------- | ------- | ---------- | ----------------------------------------------------------- |\n",
        "| 2020-09-21        | 2.0     | Shubham    | Migrated Lab to Markdown and added to course repo in GitLab |\n",
        "\n",
        "<hr>\n",
        "\n",
        "## <h3 align=\"center\"> © IBM Corporation 2020. All rights reserved. <h3/>\n"
      ]
    },
    {
      "cell_type": "markdown",
      "metadata": {
        "id": "kQ6xxjsScdVL"
      },
      "source": [
        "Copyright © 2018 <a href=\"https://cognitiveclass.ai/?utm_medium=dswb&utm_source=bducopyrightlink&utm_content=000026UJ&utm_term=10006555&utm_id=NA-SkillsNetwork-Channel-SkillsNetworkCoursesIBMDeveloperSkillsNetworkDL0321ENSkillsNetwork20647850-2022-01-01&utm_campaign=bdu\">cognitiveclass.ai</a>. This notebook and its source code are released under the terms of the <a href=\"https://bigdatauniversity.com/mit-license/?utm_medium=Exinfluencer&utm_source=Exinfluencer&utm_content=000026UJ&utm_term=10006555&utm_id=NA-SkillsNetwork-Channel-SkillsNetworkCoursesIBMDeveloperSkillsNetworkDL0321ENSkillsNetwork20647850-2022-01-01\">MIT License</a>.\n"
      ]
    }
  ],
  "metadata": {
    "kernelspec": {
      "display_name": "Python 3",
      "language": "python",
      "name": "python3"
    },
    "language_info": {
      "codemirror_mode": {
        "name": "ipython",
        "version": 3
      },
      "file_extension": ".py",
      "mimetype": "text/x-python",
      "name": "python",
      "nbconvert_exporter": "python",
      "pygments_lexer": "ipython3",
      "version": "3.6.8"
    },
    "colab": {
      "name": "4.1_resnet18_PyTorch (2).ipynb",
      "provenance": [],
      "collapsed_sections": [],
      "include_colab_link": true
    },
    "accelerator": "GPU",
    "gpuClass": "standard"
  },
  "nbformat": 4,
  "nbformat_minor": 0
}