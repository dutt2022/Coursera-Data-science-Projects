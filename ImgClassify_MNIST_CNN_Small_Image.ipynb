{
  "cells": [
    {
      "cell_type": "markdown",
      "metadata": {
        "id": "view-in-github",
        "colab_type": "text"
      },
      "source": [
        "<a href=\"https://colab.research.google.com/github/dutt2022/Coursera-Data-science-Projects/blob/main/ImgClassify_MNIST_CNN_Small_Image.ipynb\" target=\"_parent\"><img src=\"https://colab.research.google.com/assets/colab-badge.svg\" alt=\"Open In Colab\"/></a>"
      ]
    },
    {
      "cell_type": "markdown",
      "metadata": {
        "id": "g4HzGmgBmXaA"
      },
      "source": [
        "<p style=\"text-align:center\">\n",
        "    <a href=\"https://skills.network/?utm_medium=Exinfluencer&utm_source=Exinfluencer&utm_content=000026UJ&utm_term=10006555&utm_id=NA-SkillsNetwork-Channel-SkillsNetworkCoursesIBMDeveloperSkillsNetworkDL0110ENSkillsNetwork20647811-2022-01-01\" target=\"_blank\">\n",
        "    <img src=\"https://cf-courses-data.s3.us.cloud-object-storage.appdomain.cloud/assets/logos/SN_web_lightmode.png\" width=\"200\" alt=\"Skills Network Logo\"  />\n",
        "    </a>\n",
        "</p>\n"
      ]
    },
    {
      "cell_type": "markdown",
      "metadata": {
        "id": "GNh6qLQnmXaP"
      },
      "source": [
        "<h1>Convolutional Neural Network with Small Images</h1> \n"
      ]
    },
    {
      "cell_type": "markdown",
      "metadata": {
        "id": "PqKtmxTXmXaP"
      },
      "source": [
        "<h3>Objective for this Notebook<h3>    \n",
        "<h5> 1. Learn how to use a Convolutional Neural Network to classify handwritten digits from the MNIST database</h5>\n",
        "<h5> 2. Learn hot to reshape the images to make them faster to process </h5>     \n"
      ]
    },
    {
      "cell_type": "markdown",
      "metadata": {
        "id": "imVYdoWImXaP"
      },
      "source": [
        "<h2>Table of Contents</h2>\n",
        "<p>In this lab, we will use a Convolutional Neural Network to classify handwritten digits from the MNIST database. We will reshape the images to make them faster to process </p>\n",
        "\n",
        "<ul>\n",
        "<li><a href=\"https://#Makeup_Data\">Get Some Data</a></li>\n",
        "<li><a href=\"https://#CNN\">Convolutional Neural Network</a></li>\n",
        "<li><a href=\"https://#Train\">Define Softmax, Criterion function, Optimizer and Train the Model</a></li>\n",
        "<li><a href=\"https://#Result\">Analyze Results</a></li>\n",
        "</ul>\n",
        "<p>Estimated Time Needed: <strong>25 min</strong> 14 min to train model </p>\n",
        "\n",
        "<hr>\n"
      ]
    },
    {
      "cell_type": "markdown",
      "metadata": {
        "id": "huQeCF8KmXaP"
      },
      "source": [
        "<h2>Preparation</h2>\n"
      ]
    },
    {
      "cell_type": "code",
      "execution_count": 1,
      "metadata": {
        "jupyter": {
          "outputs_hidden": false
        },
        "colab": {
          "base_uri": "https://localhost:8080/"
        },
        "id": "62twI1pBmXaP",
        "outputId": "702741e9-12e0-4f01-bb7d-a3768ef575a8"
      },
      "outputs": [
        {
          "output_type": "stream",
          "name": "stdout",
          "text": [
            "Looking in indexes: https://pypi.org/simple, https://us-python.pkg.dev/colab-wheels/public/simple/\n",
            "Requirement already satisfied: torchvision==0.9.1 in /usr/local/lib/python3.7/dist-packages (0.9.1)\n",
            "Requirement already satisfied: torch==1.8.1 in /usr/local/lib/python3.7/dist-packages (1.8.1)\n",
            "Requirement already satisfied: numpy in /usr/local/lib/python3.7/dist-packages (from torchvision==0.9.1) (1.21.6)\n",
            "Requirement already satisfied: pillow>=4.1.1 in /usr/local/lib/python3.7/dist-packages (from torchvision==0.9.1) (7.1.2)\n",
            "Requirement already satisfied: typing-extensions in /usr/local/lib/python3.7/dist-packages (from torch==1.8.1) (4.1.1)\n"
          ]
        }
      ],
      "source": [
        "\n",
        "\n",
        "# Import the libraries we need to use in this lab\n",
        "\n",
        "# Using the following line code to install the torchvision library\n",
        "# !mamba install -y torchvision\n",
        "\n",
        "!pip install torchvision==0.9.1 torch==1.8.1 \n",
        "import torch \n",
        "import torch.nn as nn\n",
        "import torchvision.transforms as transforms\n",
        "import torchvision.datasets as dsets\n",
        "import matplotlib.pylab as plt\n",
        "import numpy as np"
      ]
    },
    {
      "cell_type": "markdown",
      "metadata": {
        "id": "H0m18x55mXaP"
      },
      "source": [
        "Define the function <code>plot_channels</code> to plot out the kernel parameters of  each channel\n"
      ]
    },
    {
      "cell_type": "code",
      "execution_count": 2,
      "metadata": {
        "jupyter": {
          "outputs_hidden": false
        },
        "id": "kckQyYXrmXaf"
      },
      "outputs": [],
      "source": [
        "# Define the function for plotting the channels\n",
        "\n",
        "def plot_channels(W):\n",
        "    n_out = W.shape[0]\n",
        "    n_in = W.shape[1]\n",
        "    w_min = W.min().item()\n",
        "    w_max = W.max().item()\n",
        "    fig, axes = plt.subplots(n_out, n_in)\n",
        "    fig.subplots_adjust(hspace=0.1)\n",
        "    out_index = 0\n",
        "    in_index = 0\n",
        "    \n",
        "    #plot outputs as rows inputs as columns \n",
        "    for ax in axes.flat:\n",
        "        if in_index > n_in-1:\n",
        "            out_index = out_index + 1\n",
        "            in_index = 0\n",
        "        ax.imshow(W[out_index, in_index, :, :], vmin=w_min, vmax=w_max, cmap='seismic')\n",
        "        ax.set_yticklabels([])\n",
        "        ax.set_xticklabels([])\n",
        "        in_index = in_index + 1\n",
        "\n",
        "    plt.show()"
      ]
    },
    {
      "cell_type": "markdown",
      "metadata": {
        "id": "iCzY_Hw3mXaf"
      },
      "source": [
        "Define the function <code>plot_parameters</code> to plot out the kernel parameters of each channel with Multiple outputs .\n"
      ]
    },
    {
      "cell_type": "code",
      "execution_count": 3,
      "metadata": {
        "jupyter": {
          "outputs_hidden": false
        },
        "id": "qn_50lGWmXaf"
      },
      "outputs": [],
      "source": [
        "# Define the function for plotting the parameters\n",
        "\n",
        "def plot_parameters(W, number_rows=1, name=\"\", i=0):\n",
        "    W = W.data[:, i, :, :]\n",
        "    n_filters = W.shape[0]\n",
        "    w_min = W.min().item()\n",
        "    w_max = W.max().item()\n",
        "    fig, axes = plt.subplots(number_rows, n_filters // number_rows)\n",
        "    fig.subplots_adjust(hspace=0.4)\n",
        "\n",
        "    for i, ax in enumerate(axes.flat):\n",
        "        if i < n_filters:\n",
        "            # Set the label for the sub-plot.\n",
        "            ax.set_xlabel(\"kernel:{0}\".format(i + 1))\n",
        "\n",
        "            # Plot the image.\n",
        "            ax.imshow(W[i, :], vmin=w_min, vmax=w_max, cmap='seismic')\n",
        "            ax.set_xticks([])\n",
        "            ax.set_yticks([])\n",
        "    plt.suptitle(name, fontsize=10)    \n",
        "    plt.show()"
      ]
    },
    {
      "cell_type": "markdown",
      "metadata": {
        "id": "9zQkpqG0mXaf"
      },
      "source": [
        "Define the function <code>plot_activation</code> to plot out the activations of the Convolutional layers\n"
      ]
    },
    {
      "cell_type": "code",
      "execution_count": 4,
      "metadata": {
        "id": "KN3RqTlZmXaf"
      },
      "outputs": [],
      "source": [
        "# Define the function for plotting the activations\n",
        "\n",
        "def plot_activations(A, number_rows=1, name=\"\", i=0):\n",
        "    A = A[0, :, :, :].detach().numpy()\n",
        "    n_activations = A.shape[0]\n",
        "    A_min = A.min().item()\n",
        "    A_max = A.max().item()\n",
        "    fig, axes = plt.subplots(number_rows, n_activations // number_rows)\n",
        "    fig.subplots_adjust(hspace = 0.4)\n",
        "\n",
        "    for i, ax in enumerate(axes.flat):\n",
        "        if i < n_activations:\n",
        "            # Set the label for the sub-plot.\n",
        "            ax.set_xlabel(\"activation:{0}\".format(i + 1))\n",
        "\n",
        "            # Plot the image.\n",
        "            ax.imshow(A[i, :], vmin=A_min, vmax=A_max, cmap='seismic')\n",
        "            ax.set_xticks([])\n",
        "            ax.set_yticks([])\n",
        "    plt.show()"
      ]
    },
    {
      "cell_type": "markdown",
      "metadata": {
        "id": "amZWsSNimXaf"
      },
      "source": [
        "Define the function <code>show_data</code> to plot out data samples as images.\n"
      ]
    },
    {
      "cell_type": "code",
      "execution_count": 5,
      "metadata": {
        "jupyter": {
          "outputs_hidden": false
        },
        "id": "deVTA92zmXaf"
      },
      "outputs": [],
      "source": [
        "def show_data(data_sample):\n",
        "    plt.imshow(data_sample[0].numpy().reshape(IMAGE_SIZE, IMAGE_SIZE), cmap='gray')\n",
        "    plt.title('y = '+ str(data_sample[1]))"
      ]
    },
    {
      "cell_type": "markdown",
      "metadata": {
        "id": "jR9A71oxmXaf"
      },
      "source": [
        "<!--Empty Space for separating topics-->\n"
      ]
    },
    {
      "cell_type": "markdown",
      "metadata": {
        "id": "KLAfhyZ5mXaf"
      },
      "source": [
        "<h2 id=\"Makeup_Data\">Get the Data</h2> \n"
      ]
    },
    {
      "cell_type": "markdown",
      "metadata": {
        "id": "lbXMILJfmXaf"
      },
      "source": [
        "we create a transform to resize the image and convert it to a tensor .\n"
      ]
    },
    {
      "cell_type": "code",
      "execution_count": 6,
      "metadata": {
        "id": "mpKoIg6lmXaf"
      },
      "outputs": [],
      "source": [
        "\n",
        "\n",
        "IMAGE_SIZE = 16\n",
        "\n",
        "\n",
        "composed = transforms.Compose([transforms.Resize((IMAGE_SIZE, IMAGE_SIZE)), transforms.ToTensor()])"
      ]
    },
    {
      "cell_type": "markdown",
      "metadata": {
        "id": "3Ja7Z_1lmXaf"
      },
      "source": [
        "Load the training dataset by setting the parameters <code>train </code> to <code>True</code>. We use the transform defined above.\n"
      ]
    },
    {
      "cell_type": "code",
      "execution_count": 7,
      "metadata": {
        "jupyter": {
          "outputs_hidden": false
        },
        "id": "QsALaTHGmXaf"
      },
      "outputs": [],
      "source": [
        "\n",
        "train_dataset = dsets.MNIST(root='./data', train=True, download=True, transform=composed)"
      ]
    },
    {
      "cell_type": "markdown",
      "metadata": {
        "id": "-HKSIMGwmXaf"
      },
      "source": [
        "Load the testing dataset by setting the parameters train  <code>False</code>.\n"
      ]
    },
    {
      "cell_type": "code",
      "execution_count": 8,
      "metadata": {
        "jupyter": {
          "outputs_hidden": false
        },
        "id": "528rUh16mXaf"
      },
      "outputs": [],
      "source": [
        "# Make the validating \n",
        "\n",
        "validation_dataset = dsets.MNIST(root='./data', train=False, download=True, transform=composed)"
      ]
    },
    {
      "cell_type": "markdown",
      "metadata": {
        "id": "iT3pnGR7mXaf"
      },
      "source": [
        "We can see the data type is long.\n"
      ]
    },
    {
      "cell_type": "code",
      "execution_count": 9,
      "metadata": {
        "jupyter": {
          "outputs_hidden": false
        },
        "colab": {
          "base_uri": "https://localhost:8080/"
        },
        "id": "TmORT6uimXaf",
        "outputId": "103d33c3-998b-4e09-9ba4-f86e3e48eebb"
      },
      "outputs": [
        {
          "output_type": "execute_result",
          "data": {
            "text/plain": [
              "int"
            ]
          },
          "metadata": {},
          "execution_count": 9
        }
      ],
      "source": [
        "# Show the data type for each element in dataset\n",
        "\n",
        "type(train_dataset[0][1])"
      ]
    },
    {
      "cell_type": "markdown",
      "metadata": {
        "id": "1QFESGwumXaf"
      },
      "source": [
        "Each element in the rectangular tensor corresponds to a number representing a pixel intensity as demonstrated by the following image.\n"
      ]
    },
    {
      "cell_type": "markdown",
      "metadata": {
        "id": "Un6fpdBPmXaf"
      },
      "source": [
        "<img src=\"https://s3-api.us-geo.objectstorage.softlayer.net/cf-courses-data/CognitiveClass/DL0110EN/notebook_images%20/chapter%206/6.2.1imagenet.png\" width=\"550\" alt=\"MNIST data image\">\n"
      ]
    },
    {
      "cell_type": "markdown",
      "metadata": {
        "id": "fkm3EIz5mXav"
      },
      "source": [
        "Print out the fourth label\n"
      ]
    },
    {
      "cell_type": "code",
      "execution_count": 10,
      "metadata": {
        "colab": {
          "base_uri": "https://localhost:8080/"
        },
        "id": "Cql_do6pmXaw",
        "outputId": "83fcc71e-a6ca-4262-88ad-f51118904afd"
      },
      "outputs": [
        {
          "output_type": "execute_result",
          "data": {
            "text/plain": [
              "1"
            ]
          },
          "metadata": {},
          "execution_count": 10
        }
      ],
      "source": [
        "# The label for the fourth data element\n",
        "\n",
        "train_dataset[3][1]"
      ]
    },
    {
      "cell_type": "markdown",
      "metadata": {
        "id": "VyEY5s-xmXay"
      },
      "source": [
        "Plot the fourth sample\n"
      ]
    },
    {
      "cell_type": "code",
      "execution_count": 11,
      "metadata": {
        "jupyter": {
          "outputs_hidden": false
        },
        "colab": {
          "base_uri": "https://localhost:8080/",
          "height": 281
        },
        "id": "zNecHOtnmXay",
        "outputId": "b7f22386-cc30-43f4-ff0c-98e3b0f3c7ca"
      },
      "outputs": [
        {
          "output_type": "display_data",
          "data": {
            "text/plain": [
              "<Figure size 432x288 with 1 Axes>"
            ],
            "image/png": "[encoded data removed]"
          },
          "metadata": {
            "needs_background": "light"
          }
        }
      ],
      "source": [
        "# The image for the fourth data element\n",
        "show_data(train_dataset[3])\n"
      ]
    },
    {
      "cell_type": "markdown",
      "metadata": {
        "id": "0PwvNZ1BmXaz"
      },
      "source": [
        "The fourth sample is a \"1\".\n"
      ]
    },
    {
      "cell_type": "markdown",
      "metadata": {
        "id": "4O9ApSQpmXaz"
      },
      "source": [
        "<!--Empty Space for separating topics-->\n"
      ]
    },
    {
      "cell_type": "markdown",
      "metadata": {
        "id": "8rUe6XYgmXaz"
      },
      "source": [
        "<h2 id=\"CNN\">Build a Convolutional Neural Network Class</h2>\n"
      ]
    },
    {
      "cell_type": "markdown",
      "metadata": {
        "id": "3rfSD-VsmXa0"
      },
      "source": [
        "Build a Convolutional Network class with two Convolutional layers and one fully connected layer. Pre-determine the size of the final output matrix. The parameters in the constructor are the number of output channels for the first and second layer.\n"
      ]
    },
    {
      "cell_type": "code",
      "execution_count": 12,
      "metadata": {
        "id": "PShhm4HWmXa0"
      },
      "outputs": [],
      "source": [
        "class CNN(nn.Module):\n",
        "    \n",
        "    # Contructor\n",
        "    def __init__(self, out_1=16, out_2=32):\n",
        "        super(CNN, self).__init__()\n",
        "        self.cnn1 = nn.Conv2d(in_channels=1, out_channels=out_1, kernel_size=5, padding=2)\n",
        "        self.maxpool1=nn.MaxPool2d(kernel_size=2)\n",
        "\n",
        "        self.cnn2 = nn.Conv2d(in_channels=out_1, out_channels=out_2, kernel_size=5, stride=1, padding=2)\n",
        "        self.maxpool2=nn.MaxPool2d(kernel_size=2)\n",
        "        self.fc1 = nn.Linear(out_2 * 4 * 4, 10)\n",
        "    \n",
        "    # Prediction\n",
        "    def forward(self, x):\n",
        "        x = self.cnn1(x)\n",
        "        x = torch.relu(x)\n",
        "        x = self.maxpool1(x)\n",
        "        x = self.cnn2(x)\n",
        "        x = torch.relu(x)\n",
        "        x = self.maxpool2(x)\n",
        "        x = x.view(x.size(0), -1)\n",
        "        x = self.fc1(x)\n",
        "        return x\n",
        "    \n",
        "    # Outputs in each steps\n",
        "    def activations(self, x):\n",
        "        #outputs activation this is not necessary\n",
        "        z1 = self.cnn1(x)\n",
        "        a1 = torch.relu(z1)\n",
        "        out = self.maxpool1(a1)\n",
        "        \n",
        "        z2 = self.cnn2(out)\n",
        "        a2 = torch.relu(z2)\n",
        "        out1 = self.maxpool2(a2)\n",
        "        out = out.view(out.size(0),-1)\n",
        "        return z1, a1, z2, a2, out1,out"
      ]
    },
    {
      "cell_type": "markdown",
      "metadata": {
        "id": "P4VNRdTImXa1"
      },
      "source": [
        "<h2 id=\"Train\">Define the Convolutional Neural Network Classifier, Criterion function, Optimizer and Train the Model</h2> \n"
      ]
    },
    {
      "cell_type": "markdown",
      "metadata": {
        "id": "k4ddRTgOmXa1"
      },
      "source": [
        "There are 16 output channels for the first layer, and 32 output channels for the second layer\n"
      ]
    },
    {
      "cell_type": "code",
      "execution_count": 13,
      "metadata": {
        "jupyter": {
          "outputs_hidden": false
        },
        "id": "U9tBV4bRmXa2"
      },
      "outputs": [],
      "source": [
        "# Create the model object using CNN class\n",
        "\n",
        "model = CNN(out_1=16, out_2=32)"
      ]
    },
    {
      "cell_type": "markdown",
      "metadata": {
        "id": "Yi_yoCwfmXa2"
      },
      "source": [
        "Plot the model parameters for the kernels before training the kernels. The kernels are initialized randomly.\n"
      ]
    },
    {
      "cell_type": "code",
      "execution_count": 14,
      "metadata": {
        "colab": {
          "base_uri": "https://localhost:8080/",
          "height": 562
        },
        "id": "SJrzLxTvmXa2",
        "outputId": "b43b4a54-8ddf-461b-9c86-59c1b169b377"
      },
      "outputs": [
        {
          "output_type": "display_data",
          "data": {
            "text/plain": [
              "<Figure size 432x288 with 16 Axes>"
            ],
            "image/png": "[encoded data removed]"
          },
          "metadata": {}
        },
        {
          "output_type": "display_data",
          "data": {
            "text/plain": [
              "<Figure size 432x288 with 32 Axes>"
            ],
            "image/png": "[encoded data removed]"
          },
          "metadata": {}
        }
      ],
      "source": [
        "# Plot the parameters\n",
        "\n",
        "plot_parameters(model.state_dict()['cnn1.weight'], number_rows=4, name=\"1st layer kernels before training \")\n",
        "plot_parameters(model.state_dict()['cnn2.weight'], number_rows=4, name='2nd layer kernels before training' )"
      ]
    },
    {
      "cell_type": "markdown",
      "metadata": {
        "id": "jMNmSUjSmXa3"
      },
      "source": [
        "Define the loss function, the optimizer and the dataset loader\n"
      ]
    },
    {
      "cell_type": "code",
      "execution_count": 15,
      "metadata": {
        "id": "hgvYrib2mXa3"
      },
      "outputs": [],
      "source": [
        "criterion = nn.CrossEntropyLoss()\n",
        "learning_rate = 0.1\n",
        "optimizer = torch.optim.SGD(model.parameters(), lr = learning_rate)\n",
        "train_loader = torch.utils.data.DataLoader(dataset=train_dataset, batch_size=100)\n",
        "validation_loader = torch.utils.data.DataLoader(dataset=validation_dataset, batch_size=5000)"
      ]
    },
    {
      "cell_type": "markdown",
      "metadata": {
        "id": "19K5tIFRmXa4"
      },
      "source": [
        "Train the model and determine validation accuracy technically test accuracy **(This may take a long time)**\n"
      ]
    },
    {
      "cell_type": "code",
      "execution_count": 16,
      "metadata": {
        "id": "4qtilrV_mXa4"
      },
      "outputs": [],
      "source": [
        "# Train the model\n",
        "\n",
        "n_epochs=3\n",
        "cost_list=[]\n",
        "accuracy_list=[]\n",
        "N_test=len(validation_dataset)\n",
        "COST=0\n",
        "\n",
        "def train_model(n_epochs):\n",
        "    for epoch in range(n_epochs):\n",
        "        COST=0\n",
        "        for x, y in train_loader:\n",
        "            optimizer.zero_grad()\n",
        "            z = model(x)\n",
        "            loss = criterion(z, y)\n",
        "            loss.backward()\n",
        "            optimizer.step()\n",
        "            COST+=loss.data\n",
        "        \n",
        "        cost_list.append(COST)\n",
        "        correct=0\n",
        "        #perform a prediction on the validation  data  \n",
        "        for x_test, y_test in validation_loader:\n",
        "            z = model(x_test)\n",
        "            _, yhat = torch.max(z.data, 1)\n",
        "            correct += (yhat == y_test).sum().item()\n",
        "        accuracy = correct / N_test\n",
        "        accuracy_list.append(accuracy)\n",
        "     \n",
        "train_model(n_epochs)"
      ]
    },
    {
      "cell_type": "markdown",
      "metadata": {
        "id": "ZiUwbiZ9mXa5"
      },
      "source": [
        "<!--Empty Space for separating topics-->\n"
      ]
    },
    {
      "cell_type": "markdown",
      "metadata": {
        "id": "VOpSz98-mXa5"
      },
      "source": [
        "<h2 id=\"Result\">Analyze Results</h2> \n"
      ]
    },
    {
      "cell_type": "markdown",
      "metadata": {
        "id": "T__2gQE7mXa6"
      },
      "source": [
        "Plot the loss and accuracy on the validation data:\n"
      ]
    },
    {
      "cell_type": "code",
      "execution_count": 17,
      "metadata": {
        "colab": {
          "base_uri": "https://localhost:8080/",
          "height": 297
        },
        "id": "8GnxxRMymXa6",
        "outputId": "12260f43-2076-4031-afc1-2a4722931e17"
      },
      "outputs": [
        {
          "output_type": "display_data",
          "data": {
            "text/plain": [
              "<Figure size 432x288 with 2 Axes>"
            ],
            "image/png": "[encoded data removed]"
          },
          "metadata": {
            "needs_background": "light"
          }
        }
      ],
      "source": [
        "# Plot the loss and accuracy\n",
        "\n",
        "fig, ax1 = plt.subplots()\n",
        "color = 'tab:red'\n",
        "ax1.plot(cost_list, color=color)\n",
        "ax1.set_xlabel('epoch', color=color)\n",
        "ax1.set_ylabel('Cost', color=color)\n",
        "ax1.tick_params(axis='y', color=color)\n",
        "    \n",
        "ax2 = ax1.twinx()  \n",
        "color = 'tab:blue'\n",
        "ax2.set_ylabel('accuracy', color=color) \n",
        "ax2.set_xlabel('epoch', color=color)\n",
        "ax2.plot( accuracy_list, color=color)\n",
        "ax2.tick_params(axis='y', color=color)\n",
        "fig.tight_layout()"
      ]
    },
    {
      "cell_type": "code",
      "execution_count": 18,
      "metadata": {
        "colab": {
          "base_uri": "https://localhost:8080/",
          "height": 1000
        },
        "id": "z0-3PwnzmXbK",
        "outputId": "c6fdd17f-b64c-4ec7-8bce-85f8f63ce091"
      },
      "outputs": [
        {
          "output_type": "display_data",
          "data": {
            "text/plain": [
              "<Figure size 432x288 with 1 Axes>"
            ],
            "image/png": "[encoded data removed]"
          },
          "metadata": {
            "needs_background": "light"
          }
        },
        {
          "output_type": "stream",
          "name": "stdout",
          "text": [
            "yhat:  tensor([2])\n"
          ]
        },
        {
          "output_type": "display_data",
          "data": {
            "text/plain": [
              "<Figure size 432x288 with 1 Axes>"
            ],
            "image/png": "[encoded data removed]"
          },
          "metadata": {
            "needs_background": "light"
          }
        },
        {
          "output_type": "stream",
          "name": "stdout",
          "text": [
            "yhat:  tensor([0])\n"
          ]
        },
        {
          "output_type": "display_data",
          "data": {
            "text/plain": [
              "<Figure size 432x288 with 1 Axes>"
            ],
            "image/png": "[encoded data removed]"
          },
          "metadata": {
            "needs_background": "light"
          }
        },
        {
          "output_type": "stream",
          "name": "stdout",
          "text": [
            "yhat:  tensor([3])\n"
          ]
        },
        {
          "output_type": "display_data",
          "data": {
            "text/plain": [
              "<Figure size 432x288 with 1 Axes>"
            ],
            "image/png": "[encoded data removed]"
          },
          "metadata": {
            "needs_background": "light"
          }
        },
        {
          "output_type": "stream",
          "name": "stdout",
          "text": [
            "yhat:  tensor([1])\n"
          ]
        },
        {
          "output_type": "display_data",
          "data": {
            "text/plain": [
              "<Figure size 432x288 with 1 Axes>"
            ],
            "image/png": "[encoded data removed]"
          },
          "metadata": {
            "needs_background": "light"
          }
        },
        {
          "output_type": "stream",
          "name": "stdout",
          "text": [
            "yhat:  tensor([1])\n"
          ]
        }
      ],
      "source": [
        "# Plot the mis-classified samples\n",
        "\n",
        "count = 0\n",
        "for x, y in torch.utils.data.DataLoader(dataset=validation_dataset, batch_size=1):\n",
        "    z = model(x)\n",
        "    _, yhat = torch.max(z, 1)\n",
        "    if yhat != y:\n",
        "        show_data((x, y))\n",
        "        plt.show()\n",
        "        print(\"yhat: \",yhat)\n",
        "        count += 1\n",
        "    if count >= 5:\n",
        "        break  "
      ]
    },
    {
      "cell_type": "markdown",
      "source": [
        ""
      ],
      "metadata": {
        "id": "WqLY2zzVwoIM"
      }
    },
    {
      "cell_type": "markdown",
      "source": [
        "STARTING WITH PLOTING VALIDATION DATA SET IMAGES:  first four images of Validation dataset"
      ],
      "metadata": {
        "id": "oXSWjHhmwoM5"
      }
    },
    {
      "cell_type": "code",
      "source": [
        "# Show the first image of  Validation dataset\n",
        "\n",
        "show_data(validation_dataset[0])"
      ],
      "metadata": {
        "colab": {
          "base_uri": "https://localhost:8080/",
          "height": 281
        },
        "id": "AtgJoOlOwwY5",
        "outputId": "c571881a-9f7c-4737-b801-3fff4acec2d3"
      },
      "execution_count": 19,
      "outputs": [
        {
          "output_type": "display_data",
          "data": {
            "text/plain": [
              "<Figure size 432x288 with 1 Axes>"
            ],
            "image/png": "[encoded data removed]"
          },
          "metadata": {
            "needs_background": "light"
          }
        }
      ]
    },
    {
      "cell_type": "code",
      "source": [
        "# Show the SECOND image of   Validation dataset\n",
        "\n",
        "show_data(validation_dataset[1])"
      ],
      "metadata": {
        "colab": {
          "base_uri": "https://localhost:8080/",
          "height": 281
        },
        "id": "QLI6NmjYwwdH",
        "outputId": "c7a38589-8c97-47c9-e580-afe048ddfe67"
      },
      "execution_count": 20,
      "outputs": [
        {
          "output_type": "display_data",
          "data": {
            "text/plain": [
              "<Figure size 432x288 with 1 Axes>"
            ],
            "image/png": "[encoded data removed]"
          },
          "metadata": {
            "needs_background": "light"
          }
        }
      ]
    },
    {
      "cell_type": "code",
      "source": [
        "# Show the third image of  Validation dataset\n",
        "\n",
        "show_data(validation_dataset[2])"
      ],
      "metadata": {
        "colab": {
          "base_uri": "https://localhost:8080/",
          "height": 281
        },
        "id": "zLypr1YiwwhF",
        "outputId": "60106cc2-0366-42d1-a3fd-36323c4adab5"
      },
      "execution_count": 21,
      "outputs": [
        {
          "output_type": "display_data",
          "data": {
            "text/plain": [
              "<Figure size 432x288 with 1 Axes>"
            ],
            "image/png": "[encoded data removed]"
          },
          "metadata": {
            "needs_background": "light"
          }
        }
      ]
    },
    {
      "cell_type": "code",
      "source": [
        "# Show the FORTH image of  Validation dataset\n",
        "\n",
        "show_data(validation_dataset[3])"
      ],
      "metadata": {
        "colab": {
          "base_uri": "https://localhost:8080/",
          "height": 281
        },
        "id": "znt-kS63xScm",
        "outputId": "cb766a73-9ad5-4431-d816-44e00a218c71"
      },
      "execution_count": 22,
      "outputs": [
        {
          "output_type": "display_data",
          "data": {
            "text/plain": [
              "<Figure size 432x288 with 1 Axes>"
            ],
            "image/png": "[encoded data removed]"
          },
          "metadata": {
            "needs_background": "light"
          }
        }
      ]
    },
    {
      "cell_type": "markdown",
      "metadata": {
        "id": "XLawayrNmXbK"
      },
      "source": [
        "<a href=\"https://dataplatform.cloud.ibm.com/registration/stepone?utm_medium=Exinfluencer&utm_source=Exinfluencer&utm_content=000026UJ&utm_term=10006555&utm_id=NA-SkillsNetwork-Channel-SkillsNetworkCoursesIBMDeveloperSkillsNetworkDL0110ENSkillsNetwork20647811-2022-01-01&context=cpdaas&apps=data_science_experience%2Cwatson_machine_learning\"><img src=\"https://cf-courses-data.s3.us.cloud-object-storage.appdomain.cloud/IBMDeveloperSkillsNetwork-DL0110EN-SkillsNetwork/Template/module%201/images/Watson_Studio.png\"/></a>\n"
      ]
    },
    {
      "cell_type": "markdown",
      "metadata": {
        "id": "5gES9XEqmXbK"
      },
      "source": [
        "<!--Empty Space for separating topics-->\n"
      ]
    },
    {
      "cell_type": "markdown",
      "metadata": {
        "id": "qF4YyPu9mXbK"
      },
      "source": [
        "<h2>About the Authors:</h2> \n",
        "\n",
        "<a href=\"https://www.linkedin.com/in/joseph-s-50398b136/?utm_medium=Exinfluencer&utm_source=Exinfluencer&utm_content=000026UJ&utm_term=10006555&utm_id=NA-SkillsNetwork-Channel-SkillsNetworkCoursesIBMDeveloperSkillsNetworkDL0110ENSkillsNetwork20647811-2022-01-01\">Joseph Santarcangelo</a> has a PhD in Electrical Engineering, his research focused on using machine learning, signal processing, and computer vision to determine how videos impact human cognition. Joseph has been working for IBM since he completed his PhD.\n"
      ]
    },
    {
      "cell_type": "markdown",
      "metadata": {
        "id": "_WjX4eQsmXbK"
      },
      "source": [
        "Other contributors: <a href=\"https://www.linkedin.com/in/michelleccarey/?utm_medium=Exinfluencer&utm_source=Exinfluencer&utm_content=000026UJ&utm_term=10006555&utm_id=NA-SkillsNetwork-Channel-SkillsNetworkCoursesIBMDeveloperSkillsNetworkDL0110ENSkillsNetwork20647811-2022-01-01\">Michelle Carey</a>, <a href=\"https://www.linkedin.com/in/jiahui-mavis-zhou-a4537814a?utm_medium=Exinfluencer&utm_source=Exinfluencer&utm_content=000026UJ&utm_term=10006555&utm_id=NA-SkillsNetwork-Channel-SkillsNetworkCoursesIBMDeveloperSkillsNetworkDL0110ENSkillsNetwork20647811-2022-01-01\">Mavis Zhou</a>\n"
      ]
    },
    {
      "cell_type": "markdown",
      "metadata": {
        "id": "xOBEfHa_mXbK"
      },
      "source": [
        "Thanks to Magnus <a href=\"http://www.hvass-labs.org/?utm_medium=Exinfluencer&utm_source=Exinfluencer&utm_content=000026UJ&utm_term=10006555&utm_id=NA-SkillsNetwork-Channel-SkillsNetworkCoursesIBMDeveloperSkillsNetworkDL0110ENSkillsNetwork20647811-2022-01-01\">Erik Hvass Pedersen</a> whose tutorials helped me understand convolutional Neural Network\n"
      ]
    },
    {
      "cell_type": "markdown",
      "metadata": {
        "id": "OH3sW6rkmXbK"
      },
      "source": [
        "## Change Log\n",
        "\n",
        "| Date (YYYY-MM-DD) | Version | Changed By | Change Description                                          |\n",
        "| ----------------- | ------- | ---------- | ----------------------------------------------------------- |\n",
        "| 2020-09-23        | 2.0     | Srishti    | Migrated Lab to Markdown and added to course repo in GitLab |\n",
        "\n",
        "<hr>\n",
        "\n",
        "## <h3 align=\"center\"> © IBM Corporation 2020. All rights reserved. <h3/>\n"
      ]
    }
  ],
  "metadata": {
    "kernelspec": {
      "display_name": "Python 3",
      "language": "python",
      "name": "python3"
    },
    "language_info": {
      "codemirror_mode": {
        "name": "ipython",
        "version": 3
      },
      "file_extension": ".py",
      "mimetype": "text/x-python",
      "name": "python",
      "nbconvert_exporter": "python",
      "pygments_lexer": "ipython3",
      "version": "3.7.6"
    },
    "colab": {
      "name": "Copy of MNIST-CNN_Small_Image.ipynb",
      "provenance": [],
      "collapsed_sections": [
        "OH3sW6rkmXbK"
      ],
      "include_colab_link": true
    },
    "accelerator": "GPU",
    "gpuClass": "standard"
  },
  "nbformat": 4,
  "nbformat_minor": 0
}