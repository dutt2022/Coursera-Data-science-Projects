{
  "metadata": {
    "kaggle": {
      "accelerator": "gpu",
      "dataSources": [
        {
          "sourceId": 70781,
          "databundleVersionId": 7733789,
          "sourceType": "competition"
        }
      ],
      "dockerImageVersionId": 30665,
      "isInternetEnabled": true,
      "language": "python",
      "sourceType": "notebook",
      "isGpuEnabled": true
    },
    "kernelspec": {
      "display_name": "Python 3",
      "name": "python3"
    },
    "language_info": {
      "codemirror_mode": {
        "name": "ipython",
        "version": 3
      },
      "file_extension": ".py",
      "mimetype": "text/x-python",
      "name": "python",
      "nbconvert_exporter": "python",
      "pygments_lexer": "ipython3",
      "version": "3.10.13"
    },
    "papermill": {
      "default_parameters": {},
      "duration": 96.042567,
      "end_time": "2024-02-22T09:25:17.83608",
      "environment_variables": {},
      "exception": null,
      "input_path": "__notebook__.ipynb",
      "output_path": "__notebook__.ipynb",
      "parameters": {},
      "start_time": "2024-02-22T09:23:41.793513",
      "version": "2.5.0"
    },
    "colab": {
      "name": "rf_forest-9.targets",
      "provenance": [],
      "gpuType": "T4",
      "include_colab_link": true
    },
    "accelerator": "GPU"
  },
  "nbformat_minor": 5,
  "nbformat": 4,
  "cells": [
    {
      "cell_type": "markdown",
      "metadata": {
        "id": "view-in-github",
        "colab_type": "text"
      },
      "source": [
        "<a href=\"https://colab.research.google.com/github/dutt2022/Coursera-Data-science-Projects/blob/main/rf_forest_9_targets.ipynb\" target=\"_parent\"><img src=\"https://colab.research.google.com/assets/colab-badge.svg\" alt=\"Open In Colab\"/></a>"
      ]
    },
    {
      "source": [
        "\n",
        "# IMPORTANT: RUN THIS CELL IN ORDER TO IMPORT YOUR KAGGLE DATA SOURCES\n",
        "# TO THE CORRECT LOCATION (/kaggle/input) IN YOUR NOTEBOOK,\n",
        "# THEN FEEL FREE TO DELETE THIS CELL.\n",
        "# NOTE: THIS NOTEBOOK ENVIRONMENT DIFFERS FROM KAGGLE'S PYTHON\n",
        "# ENVIRONMENT SO THERE MAY BE MISSING LIBRARIES USED BY YOUR\n",
        "# NOTEBOOK.\n",
        "\n",
        "import os\n",
        "import sys\n",
        "from tempfile import NamedTemporaryFile\n",
        "from urllib.request import urlopen\n",
        "from urllib.parse import unquote, urlparse\n",
        "from urllib.error import HTTPError\n",
        "from zipfile import ZipFile\n",
        "import tarfile\n",
        "import shutil\n",
        "\n",
        "CHUNK_SIZE = 40960\n",
        "DATA_SOURCE_MAPPING = 'financial-performance-prediction:https%3A%2F%2Fstorage.googleapis.com%2Fkaggle-competitions-data%2Fkaggle-v2%2F70781%2F7733789%2Fbundle%2Farchive.zip%3FX-Goog-Algorithm%3DGOOG4-RSA-SHA256%26X-Goog-Credential%3Dgcp-kaggle-com%2540kaggle-161607.iam.gserviceaccount.com%252F20240307%252Fauto%252Fstorage%252Fgoog4_request%26X-Goog-Date%3D20240307T124306Z%26X-Goog-Expires%3D259200%26X-Goog-SignedHeaders%3Dhost%26X-Goog-Signature%3D8b61a914e9f2d145fb042e797e08728dd1f2b14642473656b188f1586738c71eddb4403104a5743d570a5f5d04ff7bd4c29f8c97088d6d9253913001eadfdf4654d24d831094cae567e27f74aa76b7cb52f12e6fdd9c0fd650d32baf5a4bcf5dc45d02aabccfeff8cc150b3351b2c2916c1f6777296fc60488e53ca661be590e77bb6ba5eeb953d0882b5d3967c3a6ea1388c4e57414cdea9f60d5975875b5558855e9c312cb1c4cf7749f45700b894ef1f9c96240af00ce6905f125e3df58b00aea78f4fe217a43a7f4f275871c1c309107401a74f2ec32d770768dca6c2812d581ff1d92b2b83155fb76eb6caf63085bfb245a8a31d01edbd0fcc030948857'\n",
        "\n",
        "KAGGLE_INPUT_PATH='/kaggle/input'\n",
        "KAGGLE_WORKING_PATH='/kaggle/working'\n",
        "KAGGLE_SYMLINK='kaggle'\n",
        "\n",
        "!umount /kaggle/input/ 2> /dev/null\n",
        "shutil.rmtree('/kaggle/input', ignore_errors=True)\n",
        "os.makedirs(KAGGLE_INPUT_PATH, 0o777, exist_ok=True)\n",
        "os.makedirs(KAGGLE_WORKING_PATH, 0o777, exist_ok=True)\n",
        "\n",
        "try:\n",
        "  os.symlink(KAGGLE_INPUT_PATH, os.path.join(\"..\", 'input'), target_is_directory=True)\n",
        "except FileExistsError:\n",
        "  pass\n",
        "try:\n",
        "  os.symlink(KAGGLE_WORKING_PATH, os.path.join(\"..\", 'working'), target_is_directory=True)\n",
        "except FileExistsError:\n",
        "  pass\n",
        "\n",
        "for data_source_mapping in DATA_SOURCE_MAPPING.split(','):\n",
        "    directory, download_url_encoded = data_source_mapping.split(':')\n",
        "    download_url = unquote(download_url_encoded)\n",
        "    filename = urlparse(download_url).path\n",
        "    destination_path = os.path.join(KAGGLE_INPUT_PATH, directory)\n",
        "    try:\n",
        "        with urlopen(download_url) as fileres, NamedTemporaryFile() as tfile:\n",
        "            total_length = fileres.headers['content-length']\n",
        "            print(f'Downloading {directory}, {total_length} bytes compressed')\n",
        "            dl = 0\n",
        "            data = fileres.read(CHUNK_SIZE)\n",
        "            while len(data) > 0:\n",
        "                dl += len(data)\n",
        "                tfile.write(data)\n",
        "                done = int(50 * dl / int(total_length))\n",
        "                sys.stdout.write(f\"\\r[{'=' * done}{' ' * (50-done)}] {dl} bytes downloaded\")\n",
        "                sys.stdout.flush()\n",
        "                data = fileres.read(CHUNK_SIZE)\n",
        "            if filename.endswith('.zip'):\n",
        "              with ZipFile(tfile) as zfile:\n",
        "                zfile.extractall(destination_path)\n",
        "            else:\n",
        "              with tarfile.open(tfile.name) as tarfile:\n",
        "                tarfile.extractall(destination_path)\n",
        "            print(f'\\nDownloaded and uncompressed: {directory}')\n",
        "    except HTTPError as e:\n",
        "        print(f'Failed to load (likely expired) {download_url} to path {destination_path}')\n",
        "        continue\n",
        "    except OSError as e:\n",
        "        print(f'Failed to load {download_url} to path {destination_path}')\n",
        "        continue\n",
        "\n",
        "print('Data source import complete.')\n"
      ],
      "metadata": {
        "colab": {
          "base_uri": "https://localhost:8080/"
        },
        "id": "YYbON1aO8Ge2",
        "outputId": "ab51557c-7c25-4e12-842a-91fc4a535e75"
      },
      "cell_type": "code",
      "outputs": [
        {
          "output_type": "stream",
          "name": "stdout",
          "text": [
            "Downloading financial-performance-prediction, 1436515 bytes compressed\n",
            "[==================================================] 1436515 bytes downloaded\n",
            "Downloaded and uncompressed: financial-performance-prediction\n",
            "Data source import complete.\n"
          ]
        }
      ],
      "execution_count": 1,
      "id": "YYbON1aO8Ge2"
    },
    {
      "cell_type": "code",
      "source": [
        "import numpy as np # linear algebra\n",
        "import pandas as pd # data processing, CSV file I/O (e.g. pd.read_csv)\n",
        "import warnings\n",
        "warnings.simplefilter(action='ignore', category=FutureWarning)\n",
        "from sklearn.model_selection import cross_val_score as cvs\n",
        "from xgboost import XGBRegressor\n",
        "\n",
        "import os\n",
        "for dirname, _, filenames in os.walk('/kaggle/input'):\n",
        "    for filename in filenames:\n",
        "        print(os.path.join(dirname, filename))"
      ],
      "metadata": {
        "_cell_guid": "b1076dfc-b9ad-4769-8c92-a6c4dae69d19",
        "_uuid": "8f2839f25d086af736a60e9eeb907d3b93b6e0e5",
        "papermill": {
          "duration": 2.544822,
          "end_time": "2024-02-22T09:23:47.48314",
          "exception": false,
          "start_time": "2024-02-22T09:23:44.938318",
          "status": "completed"
        },
        "tags": [],
        "execution": {
          "iopub.status.busy": "2024-03-07T12:39:57.884411Z",
          "iopub.execute_input": "2024-03-07T12:39:57.884786Z",
          "iopub.status.idle": "2024-03-07T12:39:58.782218Z",
          "shell.execute_reply.started": "2024-03-07T12:39:57.884756Z",
          "shell.execute_reply": "2024-03-07T12:39:58.781322Z"
        },
        "trusted": true,
        "colab": {
          "base_uri": "https://localhost:8080/"
        },
        "id": "iEPKZEpT8Ge_",
        "outputId": "ab9e48cd-f9f9-41c0-85ef-f8849bec2817"
      },
      "execution_count": 2,
      "outputs": [
        {
          "output_type": "stream",
          "name": "stdout",
          "text": [
            "/kaggle/input/financial-performance-prediction/data_dictionary.txt\n",
            "/kaggle/input/financial-performance-prediction/sample_submission.csv\n",
            "/kaggle/input/financial-performance-prediction/test.csv\n",
            "/kaggle/input/financial-performance-prediction/train.csv\n"
          ]
        }
      ],
      "id": "iEPKZEpT8Ge_"
    },
    {
      "cell_type": "code",
      "source": [
        "train = pd.read_csv('/kaggle/input/financial-performance-prediction/train.csv')\n",
        "test = pd.read_csv('/kaggle/input/financial-performance-prediction/test.csv')"
      ],
      "metadata": {
        "papermill": {
          "duration": 0.216004,
          "end_time": "2024-02-22T09:23:47.712913",
          "exception": false,
          "start_time": "2024-02-22T09:23:47.496909",
          "status": "completed"
        },
        "tags": [],
        "execution": {
          "iopub.status.busy": "2024-03-07T12:39:58.784653Z",
          "iopub.execute_input": "2024-03-07T12:39:58.785553Z",
          "iopub.status.idle": "2024-03-07T12:39:58.900182Z",
          "shell.execute_reply.started": "2024-03-07T12:39:58.785513Z",
          "shell.execute_reply": "2024-03-07T12:39:58.899401Z"
        },
        "trusted": true,
        "id": "WEvXd6Dp8GfI"
      },
      "execution_count": 3,
      "outputs": [],
      "id": "WEvXd6Dp8GfI"
    },
    {
      "cell_type": "markdown",
      "source": [
        "## Look at data shape, dtypes and unite train & test into a single DF"
      ],
      "metadata": {
        "papermill": {
          "duration": 0.013307,
          "end_time": "2024-02-22T09:23:47.73998",
          "exception": false,
          "start_time": "2024-02-22T09:23:47.726673",
          "status": "completed"
        },
        "tags": [],
        "id": "Zl8sD3tZ8GfK"
      },
      "id": "Zl8sD3tZ8GfK"
    },
    {
      "cell_type": "code",
      "source": [
        "print(f'Train shape: {train.shape}')\n",
        "print(f'Test shape: {test.shape}')"
      ],
      "metadata": {
        "papermill": {
          "duration": 0.023496,
          "end_time": "2024-02-22T09:23:47.776922",
          "exception": false,
          "start_time": "2024-02-22T09:23:47.753426",
          "status": "completed"
        },
        "tags": [],
        "execution": {
          "iopub.status.busy": "2024-03-07T12:39:58.901276Z",
          "iopub.execute_input": "2024-03-07T12:39:58.901624Z",
          "iopub.status.idle": "2024-03-07T12:39:58.907164Z",
          "shell.execute_reply.started": "2024-03-07T12:39:58.901598Z",
          "shell.execute_reply": "2024-03-07T12:39:58.906162Z"
        },
        "trusted": true,
        "colab": {
          "base_uri": "https://localhost:8080/"
        },
        "id": "xXTEaETH8GfN",
        "outputId": "c9324010-b0cb-4647-9d3e-3d6a66111ee1"
      },
      "execution_count": 4,
      "outputs": [
        {
          "output_type": "stream",
          "name": "stdout",
          "text": [
            "Train shape: (1624, 212)\n",
            "Test shape: (406, 203)\n"
          ]
        }
      ],
      "id": "xXTEaETH8GfN"
    },
    {
      "cell_type": "code",
      "source": [
        "targets_names = [col for col in train if col not in test]\n",
        "print(f'Target columns: {targets_names}')"
      ],
      "metadata": {
        "papermill": {
          "duration": 0.026347,
          "end_time": "2024-02-22T09:23:47.816546",
          "exception": false,
          "start_time": "2024-02-22T09:23:47.790199",
          "status": "completed"
        },
        "tags": [],
        "execution": {
          "iopub.status.busy": "2024-03-07T12:39:58.909174Z",
          "iopub.execute_input": "2024-03-07T12:39:58.909492Z",
          "iopub.status.idle": "2024-03-07T12:39:58.917893Z",
          "shell.execute_reply.started": "2024-03-07T12:39:58.909468Z",
          "shell.execute_reply": "2024-03-07T12:39:58.917134Z"
        },
        "trusted": true,
        "colab": {
          "base_uri": "https://localhost:8080/"
        },
        "id": "z6QiI6Gs8GfP",
        "outputId": "95211b51-f9c9-4a82-da6f-f28284ae2c27"
      },
      "execution_count": 5,
      "outputs": [
        {
          "output_type": "stream",
          "name": "stdout",
          "text": [
            "Target columns: ['Q0_TOTAL_ASSETS', 'Q0_TOTAL_LIABILITIES', 'Q0_TOTAL_STOCKHOLDERS_EQUITY', 'Q0_GROSS_PROFIT', 'Q0_COST_OF_REVENUES', 'Q0_REVENUES', 'Q0_OPERATING_INCOME', 'Q0_OPERATING_EXPENSES', 'Q0_EBITDA']\n"
          ]
        }
      ],
      "id": "z6QiI6Gs8GfP"
    },
    {
      "cell_type": "code",
      "source": [
        "train.dtypes.value_counts()"
      ],
      "metadata": {
        "papermill": {
          "duration": 0.032318,
          "end_time": "2024-02-22T09:23:47.8622",
          "exception": false,
          "start_time": "2024-02-22T09:23:47.829882",
          "status": "completed"
        },
        "tags": [],
        "execution": {
          "iopub.status.busy": "2024-03-07T12:39:58.919041Z",
          "iopub.execute_input": "2024-03-07T12:39:58.919287Z",
          "iopub.status.idle": "2024-03-07T12:39:58.93106Z",
          "shell.execute_reply.started": "2024-03-07T12:39:58.919266Z",
          "shell.execute_reply": "2024-03-07T12:39:58.93025Z"
        },
        "trusted": true,
        "colab": {
          "base_uri": "https://localhost:8080/"
        },
        "id": "g9i1QORh8GfT",
        "outputId": "5cfb1ae1-0a4e-40f3-a31c-9adfd1aa7896"
      },
      "execution_count": 6,
      "outputs": [
        {
          "output_type": "execute_result",
          "data": {
            "text/plain": [
              "float64    207\n",
              "object       4\n",
              "int64        1\n",
              "dtype: int64"
            ]
          },
          "metadata": {},
          "execution_count": 6
        }
      ],
      "id": "g9i1QORh8GfT"
    },
    {
      "cell_type": "code",
      "source": [
        "test.dtypes.value_counts()"
      ],
      "metadata": {
        "papermill": {
          "duration": 0.027912,
          "end_time": "2024-02-22T09:23:47.903646",
          "exception": false,
          "start_time": "2024-02-22T09:23:47.875734",
          "status": "completed"
        },
        "tags": [],
        "execution": {
          "iopub.status.busy": "2024-03-07T12:39:58.932116Z",
          "iopub.execute_input": "2024-03-07T12:39:58.932492Z",
          "iopub.status.idle": "2024-03-07T12:39:58.943419Z",
          "shell.execute_reply.started": "2024-03-07T12:39:58.932464Z",
          "shell.execute_reply": "2024-03-07T12:39:58.942487Z"
        },
        "trusted": true,
        "colab": {
          "base_uri": "https://localhost:8080/"
        },
        "id": "OJUECqax8GfV",
        "outputId": "fbccca6a-118d-4ceb-c69a-79a5ce92c804"
      },
      "execution_count": 7,
      "outputs": [
        {
          "output_type": "execute_result",
          "data": {
            "text/plain": [
              "float64    198\n",
              "object       4\n",
              "int64        1\n",
              "dtype: int64"
            ]
          },
          "metadata": {},
          "execution_count": 7
        }
      ],
      "id": "OJUECqax8GfV"
    },
    {
      "cell_type": "code",
      "source": [
        "# make an easy col to split back the train and test sets\n",
        "train['is_train'] = True\n",
        "test['is_train'] = False\n",
        "df = pd.concat([train, test], axis = 0, ignore_index = True)"
      ],
      "metadata": {
        "papermill": {
          "duration": 0.042288,
          "end_time": "2024-02-22T09:23:47.960277",
          "exception": false,
          "start_time": "2024-02-22T09:23:47.917989",
          "status": "completed"
        },
        "tags": [],
        "execution": {
          "iopub.status.busy": "2024-03-07T12:39:58.944508Z",
          "iopub.execute_input": "2024-03-07T12:39:58.944777Z",
          "iopub.status.idle": "2024-03-07T12:39:58.956741Z",
          "shell.execute_reply.started": "2024-03-07T12:39:58.944752Z",
          "shell.execute_reply": "2024-03-07T12:39:58.955855Z"
        },
        "trusted": true,
        "id": "alTlxzUu8GfW"
      },
      "execution_count": 8,
      "outputs": [],
      "id": "alTlxzUu8GfW"
    },
    {
      "cell_type": "markdown",
      "source": [
        "## Deal with string/categoric columns"
      ],
      "metadata": {
        "papermill": {
          "duration": 0.013575,
          "end_time": "2024-02-22T09:23:47.989331",
          "exception": false,
          "start_time": "2024-02-22T09:23:47.975756",
          "status": "completed"
        },
        "tags": [],
        "id": "PkvZg0KJ8GfX"
      },
      "id": "PkvZg0KJ8GfX"
    },
    {
      "cell_type": "code",
      "source": [
        "df.select_dtypes(include = 'O')"
      ],
      "metadata": {
        "papermill": {
          "duration": 0.040147,
          "end_time": "2024-02-22T09:23:48.043848",
          "exception": false,
          "start_time": "2024-02-22T09:23:48.003701",
          "status": "completed"
        },
        "tags": [],
        "execution": {
          "iopub.status.busy": "2024-03-07T12:39:58.957914Z",
          "iopub.execute_input": "2024-03-07T12:39:58.958263Z",
          "iopub.status.idle": "2024-03-07T12:39:58.973278Z",
          "shell.execute_reply.started": "2024-03-07T12:39:58.958232Z",
          "shell.execute_reply": "2024-03-07T12:39:58.9724Z"
        },
        "trusted": true,
        "colab": {
          "base_uri": "https://localhost:8080/",
          "height": 424
        },
        "id": "s0__CaUe8GfY",
        "outputId": "283abf14-ac72-4947-a93b-4e359a87711a"
      },
      "execution_count": 9,
      "outputs": [
        {
          "output_type": "execute_result",
          "data": {
            "text/plain": [
              "                                      industry              sector  \\\n",
              "0                            Personal Services   Consumer Cyclical   \n",
              "1                Building Products & Equipment         Industrials   \n",
              "2                                          NaN             Unknown   \n",
              "3           Scientific & Technical Instruments          Technology   \n",
              "4     Drug Manufacturers - Specialty & Generic          Healthcare   \n",
              "...                                        ...                 ...   \n",
              "2025                            Packaged Foods  Consumer Defensive   \n",
              "2026                                       NaN             Unknown   \n",
              "2027                           Medical Devices          Healthcare   \n",
              "2028  Drug Manufacturers - Specialty & Generic          Healthcare   \n",
              "2029                       Specialty Chemicals     Basic Materials   \n",
              "\n",
              "     recommendationKey financialCurrency  \n",
              "0           strong_buy               USD  \n",
              "1                  buy               USD  \n",
              "2                  NaN               NaN  \n",
              "3                 hold               USD  \n",
              "4                  buy               USD  \n",
              "...                ...               ...  \n",
              "2025              hold               USD  \n",
              "2026               NaN               NaN  \n",
              "2027               buy               USD  \n",
              "2028               buy               USD  \n",
              "2029               buy               USD  \n",
              "\n",
              "[2030 rows x 4 columns]"
            ],
            "text/html": [
              "\n",
              "  <div id=\"df-42db879e-6ad8-437f-a6b3-c843d79101be\" class=\"colab-df-container\">\n",
              "    <div>\n",
              "<style scoped>\n",
              "    .dataframe tbody tr th:only-of-type {\n",
              "        vertical-align: middle;\n",
              "    }\n",
              "\n",
              "    .dataframe tbody tr th {\n",
              "        vertical-align: top;\n",
              "    }\n",
              "\n",
              "    .dataframe thead th {\n",
              "        text-align: right;\n",
              "    }\n",
              "</style>\n",
              "<table border=\"1\" class=\"dataframe\">\n",
              "  <thead>\n",
              "    <tr style=\"text-align: right;\">\n",
              "      <th></th>\n",
              "      <th>industry</th>\n",
              "      <th>sector</th>\n",
              "      <th>recommendationKey</th>\n",
              "      <th>financialCurrency</th>\n",
              "    </tr>\n",
              "  </thead>\n",
              "  <tbody>\n",
              "    <tr>\n",
              "      <th>0</th>\n",
              "      <td>Personal Services</td>\n",
              "      <td>Consumer Cyclical</td>\n",
              "      <td>strong_buy</td>\n",
              "      <td>USD</td>\n",
              "    </tr>\n",
              "    <tr>\n",
              "      <th>1</th>\n",
              "      <td>Building Products &amp; Equipment</td>\n",
              "      <td>Industrials</td>\n",
              "      <td>buy</td>\n",
              "      <td>USD</td>\n",
              "    </tr>\n",
              "    <tr>\n",
              "      <th>2</th>\n",
              "      <td>NaN</td>\n",
              "      <td>Unknown</td>\n",
              "      <td>NaN</td>\n",
              "      <td>NaN</td>\n",
              "    </tr>\n",
              "    <tr>\n",
              "      <th>3</th>\n",
              "      <td>Scientific &amp; Technical Instruments</td>\n",
              "      <td>Technology</td>\n",
              "      <td>hold</td>\n",
              "      <td>USD</td>\n",
              "    </tr>\n",
              "    <tr>\n",
              "      <th>4</th>\n",
              "      <td>Drug Manufacturers - Specialty &amp; Generic</td>\n",
              "      <td>Healthcare</td>\n",
              "      <td>buy</td>\n",
              "      <td>USD</td>\n",
              "    </tr>\n",
              "    <tr>\n",
              "      <th>...</th>\n",
              "      <td>...</td>\n",
              "      <td>...</td>\n",
              "      <td>...</td>\n",
              "      <td>...</td>\n",
              "    </tr>\n",
              "    <tr>\n",
              "      <th>2025</th>\n",
              "      <td>Packaged Foods</td>\n",
              "      <td>Consumer Defensive</td>\n",
              "      <td>hold</td>\n",
              "      <td>USD</td>\n",
              "    </tr>\n",
              "    <tr>\n",
              "      <th>2026</th>\n",
              "      <td>NaN</td>\n",
              "      <td>Unknown</td>\n",
              "      <td>NaN</td>\n",
              "      <td>NaN</td>\n",
              "    </tr>\n",
              "    <tr>\n",
              "      <th>2027</th>\n",
              "      <td>Medical Devices</td>\n",
              "      <td>Healthcare</td>\n",
              "      <td>buy</td>\n",
              "      <td>USD</td>\n",
              "    </tr>\n",
              "    <tr>\n",
              "      <th>2028</th>\n",
              "      <td>Drug Manufacturers - Specialty &amp; Generic</td>\n",
              "      <td>Healthcare</td>\n",
              "      <td>buy</td>\n",
              "      <td>USD</td>\n",
              "    </tr>\n",
              "    <tr>\n",
              "      <th>2029</th>\n",
              "      <td>Specialty Chemicals</td>\n",
              "      <td>Basic Materials</td>\n",
              "      <td>buy</td>\n",
              "      <td>USD</td>\n",
              "    </tr>\n",
              "  </tbody>\n",
              "</table>\n",
              "<p>2030 rows × 4 columns</p>\n",
              "</div>\n",
              "    <div class=\"colab-df-buttons\">\n",
              "\n",
              "  <div class=\"colab-df-container\">\n",
              "    <button class=\"colab-df-convert\" onclick=\"convertToInteractive('df-42db879e-6ad8-437f-a6b3-c843d79101be')\"\n",
              "            title=\"Convert this dataframe to an interactive table.\"\n",
              "            style=\"display:none;\">\n",
              "\n",
              "  <svg xmlns=\"http://www.w3.org/2000/svg\" height=\"24px\" viewBox=\"0 -960 960 960\">\n",
              "    <path d=\"M120-120v-720h720v720H120Zm60-500h600v-160H180v160Zm220 220h160v-160H400v160Zm0 220h160v-160H400v160ZM180-400h160v-160H180v160Zm440 0h160v-160H620v160ZM180-180h160v-160H180v160Zm440 0h160v-160H620v160Z\"/>\n",
              "  </svg>\n",
              "    </button>\n",
              "\n",
              "  <style>\n",
              "    .colab-df-container {\n",
              "      display:flex;\n",
              "      gap: 12px;\n",
              "    }\n",
              "\n",
              "    .colab-df-convert {\n",
              "      background-color: #E8F0FE;\n",
              "      border: none;\n",
              "      border-radius: 50%;\n",
              "      cursor: pointer;\n",
              "      display: none;\n",
              "      fill: #1967D2;\n",
              "      height: 32px;\n",
              "      padding: 0 0 0 0;\n",
              "      width: 32px;\n",
              "    }\n",
              "\n",
              "    .colab-df-convert:hover {\n",
              "      background-color: #E2EBFA;\n",
              "      box-shadow: 0px 1px 2px rgba(60, 64, 67, 0.3), 0px 1px 3px 1px rgba(60, 64, 67, 0.15);\n",
              "      fill: #174EA6;\n",
              "    }\n",
              "\n",
              "    .colab-df-buttons div {\n",
              "      margin-bottom: 4px;\n",
              "    }\n",
              "\n",
              "    [theme=dark] .colab-df-convert {\n",
              "      background-color: #3B4455;\n",
              "      fill: #D2E3FC;\n",
              "    }\n",
              "\n",
              "    [theme=dark] .colab-df-convert:hover {\n",
              "      background-color: #434B5C;\n",
              "      box-shadow: 0px 1px 3px 1px rgba(0, 0, 0, 0.15);\n",
              "      filter: drop-shadow(0px 1px 2px rgba(0, 0, 0, 0.3));\n",
              "      fill: #FFFFFF;\n",
              "    }\n",
              "  </style>\n",
              "\n",
              "    <script>\n",
              "      const buttonEl =\n",
              "        document.querySelector('#df-42db879e-6ad8-437f-a6b3-c843d79101be button.colab-df-convert');\n",
              "      buttonEl.style.display =\n",
              "        google.colab.kernel.accessAllowed ? 'block' : 'none';\n",
              "\n",
              "      async function convertToInteractive(key) {\n",
              "        const element = document.querySelector('#df-42db879e-6ad8-437f-a6b3-c843d79101be');\n",
              "        const dataTable =\n",
              "          await google.colab.kernel.invokeFunction('convertToInteractive',\n",
              "                                                    [key], {});\n",
              "        if (!dataTable) return;\n",
              "\n",
              "        const docLinkHtml = 'Like what you see? Visit the ' +\n",
              "          '<a target=\"_blank\" href=https://colab.research.google.com/notebooks/data_table.ipynb>data table notebook</a>'\n",
              "          + ' to learn more about interactive tables.';\n",
              "        element.innerHTML = '';\n",
              "        dataTable['output_type'] = 'display_data';\n",
              "        await google.colab.output.renderOutput(dataTable, element);\n",
              "        const docLink = document.createElement('div');\n",
              "        docLink.innerHTML = docLinkHtml;\n",
              "        element.appendChild(docLink);\n",
              "      }\n",
              "    </script>\n",
              "  </div>\n",
              "\n",
              "\n",
              "<div id=\"df-37895d27-63ed-45f6-a79e-88a4fa3e8e9a\">\n",
              "  <button class=\"colab-df-quickchart\" onclick=\"quickchart('df-37895d27-63ed-45f6-a79e-88a4fa3e8e9a')\"\n",
              "            title=\"Suggest charts\"\n",
              "            style=\"display:none;\">\n",
              "\n",
              "<svg xmlns=\"http://www.w3.org/2000/svg\" height=\"24px\"viewBox=\"0 0 24 24\"\n",
              "     width=\"24px\">\n",
              "    <g>\n",
              "        <path d=\"M19 3H5c-1.1 0-2 .9-2 2v14c0 1.1.9 2 2 2h14c1.1 0 2-.9 2-2V5c0-1.1-.9-2-2-2zM9 17H7v-7h2v7zm4 0h-2V7h2v10zm4 0h-2v-4h2v4z\"/>\n",
              "    </g>\n",
              "</svg>\n",
              "  </button>\n",
              "\n",
              "<style>\n",
              "  .colab-df-quickchart {\n",
              "      --bg-color: #E8F0FE;\n",
              "      --fill-color: #1967D2;\n",
              "      --hover-bg-color: #E2EBFA;\n",
              "      --hover-fill-color: #174EA6;\n",
              "      --disabled-fill-color: #AAA;\n",
              "      --disabled-bg-color: #DDD;\n",
              "  }\n",
              "\n",
              "  [theme=dark] .colab-df-quickchart {\n",
              "      --bg-color: #3B4455;\n",
              "      --fill-color: #D2E3FC;\n",
              "      --hover-bg-color: #434B5C;\n",
              "      --hover-fill-color: #FFFFFF;\n",
              "      --disabled-bg-color: #3B4455;\n",
              "      --disabled-fill-color: #666;\n",
              "  }\n",
              "\n",
              "  .colab-df-quickchart {\n",
              "    background-color: var(--bg-color);\n",
              "    border: none;\n",
              "    border-radius: 50%;\n",
              "    cursor: pointer;\n",
              "    display: none;\n",
              "    fill: var(--fill-color);\n",
              "    height: 32px;\n",
              "    padding: 0;\n",
              "    width: 32px;\n",
              "  }\n",
              "\n",
              "  .colab-df-quickchart:hover {\n",
              "    background-color: var(--hover-bg-color);\n",
              "    box-shadow: 0 1px 2px rgba(60, 64, 67, 0.3), 0 1px 3px 1px rgba(60, 64, 67, 0.15);\n",
              "    fill: var(--button-hover-fill-color);\n",
              "  }\n",
              "\n",
              "  .colab-df-quickchart-complete:disabled,\n",
              "  .colab-df-quickchart-complete:disabled:hover {\n",
              "    background-color: var(--disabled-bg-color);\n",
              "    fill: var(--disabled-fill-color);\n",
              "    box-shadow: none;\n",
              "  }\n",
              "\n",
              "  .colab-df-spinner {\n",
              "    border: 2px solid var(--fill-color);\n",
              "    border-color: transparent;\n",
              "    border-bottom-color: var(--fill-color);\n",
              "    animation:\n",
              "      spin 1s steps(1) infinite;\n",
              "  }\n",
              "\n",
              "  @keyframes spin {\n",
              "    0% {\n",
              "      border-color: transparent;\n",
              "      border-bottom-color: var(--fill-color);\n",
              "      border-left-color: var(--fill-color);\n",
              "    }\n",
              "    20% {\n",
              "      border-color: transparent;\n",
              "      border-left-color: var(--fill-color);\n",
              "      border-top-color: var(--fill-color);\n",
              "    }\n",
              "    30% {\n",
              "      border-color: transparent;\n",
              "      border-left-color: var(--fill-color);\n",
              "      border-top-color: var(--fill-color);\n",
              "      border-right-color: var(--fill-color);\n",
              "    }\n",
              "    40% {\n",
              "      border-color: transparent;\n",
              "      border-right-color: var(--fill-color);\n",
              "      border-top-color: var(--fill-color);\n",
              "    }\n",
              "    60% {\n",
              "      border-color: transparent;\n",
              "      border-right-color: var(--fill-color);\n",
              "    }\n",
              "    80% {\n",
              "      border-color: transparent;\n",
              "      border-right-color: var(--fill-color);\n",
              "      border-bottom-color: var(--fill-color);\n",
              "    }\n",
              "    90% {\n",
              "      border-color: transparent;\n",
              "      border-bottom-color: var(--fill-color);\n",
              "    }\n",
              "  }\n",
              "</style>\n",
              "\n",
              "  <script>\n",
              "    async function quickchart(key) {\n",
              "      const quickchartButtonEl =\n",
              "        document.querySelector('#' + key + ' button');\n",
              "      quickchartButtonEl.disabled = true;  // To prevent multiple clicks.\n",
              "      quickchartButtonEl.classList.add('colab-df-spinner');\n",
              "      try {\n",
              "        const charts = await google.colab.kernel.invokeFunction(\n",
              "            'suggestCharts', [key], {});\n",
              "      } catch (error) {\n",
              "        console.error('Error during call to suggestCharts:', error);\n",
              "      }\n",
              "      quickchartButtonEl.classList.remove('colab-df-spinner');\n",
              "      quickchartButtonEl.classList.add('colab-df-quickchart-complete');\n",
              "    }\n",
              "    (() => {\n",
              "      let quickchartButtonEl =\n",
              "        document.querySelector('#df-37895d27-63ed-45f6-a79e-88a4fa3e8e9a button');\n",
              "      quickchartButtonEl.style.display =\n",
              "        google.colab.kernel.accessAllowed ? 'block' : 'none';\n",
              "    })();\n",
              "  </script>\n",
              "</div>\n",
              "\n",
              "    </div>\n",
              "  </div>\n"
            ],
            "application/vnd.google.colaboratory.intrinsic+json": {
              "type": "dataframe",
              "summary": "{\n  \"name\": \"df\",\n  \"rows\": 2030,\n  \"fields\": [\n    {\n      \"column\": \"industry\",\n      \"properties\": {\n        \"dtype\": \"category\",\n        \"num_unique_values\": 113,\n        \"samples\": [\n          \"Security & Protection Services\",\n          \"Tools & Accessories\",\n          \"Utilities - Independent Power Producers\"\n        ],\n        \"semantic_type\": \"\",\n        \"description\": \"\"\n      }\n    },\n    {\n      \"column\": \"sector\",\n      \"properties\": {\n        \"dtype\": \"category\",\n        \"num_unique_values\": 10,\n        \"samples\": [\n          \"Basic Materials\",\n          \"Industrials\",\n          \"Energy\"\n        ],\n        \"semantic_type\": \"\",\n        \"description\": \"\"\n      }\n    },\n    {\n      \"column\": \"recommendationKey\",\n      \"properties\": {\n        \"dtype\": \"category\",\n        \"num_unique_values\": 6,\n        \"samples\": [\n          \"strong_buy\",\n          \"buy\",\n          \"sell\"\n        ],\n        \"semantic_type\": \"\",\n        \"description\": \"\"\n      }\n    },\n    {\n      \"column\": \"financialCurrency\",\n      \"properties\": {\n        \"dtype\": \"category\",\n        \"num_unique_values\": 2,\n        \"samples\": [\n          \"CAD\",\n          \"USD\"\n        ],\n        \"semantic_type\": \"\",\n        \"description\": \"\"\n      }\n    }\n  ]\n}"
            }
          },
          "metadata": {},
          "execution_count": 9
        }
      ],
      "id": "s0__CaUe8GfY"
    },
    {
      "cell_type": "code",
      "source": [
        "for col in df.select_dtypes(include = 'O'):\n",
        "    print(f'{col} unique values num: {df[col].nunique()}')\n",
        "    print('-'*50)"
      ],
      "metadata": {
        "papermill": {
          "duration": 0.031918,
          "end_time": "2024-02-22T09:23:48.08989",
          "exception": false,
          "start_time": "2024-02-22T09:23:48.057972",
          "status": "completed"
        },
        "tags": [],
        "execution": {
          "iopub.status.busy": "2024-03-07T12:39:58.97444Z",
          "iopub.execute_input": "2024-03-07T12:39:58.974764Z",
          "iopub.status.idle": "2024-03-07T12:39:58.9818Z",
          "shell.execute_reply.started": "2024-03-07T12:39:58.97474Z",
          "shell.execute_reply": "2024-03-07T12:39:58.980935Z"
        },
        "trusted": true,
        "colab": {
          "base_uri": "https://localhost:8080/"
        },
        "id": "5ovNg_jn8Gfa",
        "outputId": "b69d129c-8966-44a1-bf1d-0f88c2aec6a5"
      },
      "execution_count": 10,
      "outputs": [
        {
          "output_type": "stream",
          "name": "stdout",
          "text": [
            "industry unique values num: 113\n",
            "--------------------------------------------------\n",
            "sector unique values num: 10\n",
            "--------------------------------------------------\n",
            "recommendationKey unique values num: 6\n",
            "--------------------------------------------------\n",
            "financialCurrency unique values num: 2\n",
            "--------------------------------------------------\n"
          ]
        }
      ],
      "id": "5ovNg_jn8Gfa"
    },
    {
      "cell_type": "markdown",
      "source": [
        "Looks like it is best have to label encode the `industry` with 113 unique categories.\n",
        "`sector` and `recommendationKey` can safely be one-hot-encoded as it will expand the dataset by only 16 columns.\n",
        "And we will just binarize the `financialCurrency` column"
      ],
      "metadata": {
        "execution": {
          "iopub.execute_input": "2024-02-21T11:38:43.966027Z",
          "iopub.status.busy": "2024-02-21T11:38:43.965735Z",
          "iopub.status.idle": "2024-02-21T11:38:43.970975Z",
          "shell.execute_reply": "2024-02-21T11:38:43.969976Z",
          "shell.execute_reply.started": "2024-02-21T11:38:43.966006Z"
        },
        "papermill": {
          "duration": 0.014362,
          "end_time": "2024-02-22T09:23:48.11873",
          "exception": false,
          "start_time": "2024-02-22T09:23:48.104368",
          "status": "completed"
        },
        "tags": [],
        "id": "FYXZGZxA8Gfb"
      },
      "id": "FYXZGZxA8Gfb"
    },
    {
      "cell_type": "code",
      "source": [
        "def binarize(df, col):\n",
        "    uniques = list(df[col].dropna().unique())\n",
        "    df[col] = [1 if val == uniques[0] else 0 for val in df[col]]\n",
        "    return df"
      ],
      "metadata": {
        "papermill": {
          "duration": 0.026863,
          "end_time": "2024-02-22T09:23:48.160784",
          "exception": false,
          "start_time": "2024-02-22T09:23:48.133921",
          "status": "completed"
        },
        "tags": [],
        "execution": {
          "iopub.status.busy": "2024-03-07T12:39:58.986124Z",
          "iopub.execute_input": "2024-03-07T12:39:58.986399Z",
          "iopub.status.idle": "2024-03-07T12:39:58.991611Z",
          "shell.execute_reply.started": "2024-03-07T12:39:58.986344Z",
          "shell.execute_reply": "2024-03-07T12:39:58.990668Z"
        },
        "trusted": true,
        "id": "oYFG11ag8Gfc"
      },
      "execution_count": 11,
      "outputs": [],
      "id": "oYFG11ag8Gfc"
    },
    {
      "cell_type": "code",
      "source": [
        "def one_hot_encode(df, col):\n",
        "    dummies = pd.get_dummies(df[col], prefix = col).astype(int)\n",
        "    df.drop(col, axis = 1, inplace = True)\n",
        "    df = pd.concat([df, dummies], axis = 1)\n",
        "    return df"
      ],
      "metadata": {
        "papermill": {
          "duration": 0.023901,
          "end_time": "2024-02-22T09:23:48.199713",
          "exception": false,
          "start_time": "2024-02-22T09:23:48.175812",
          "status": "completed"
        },
        "tags": [],
        "execution": {
          "iopub.status.busy": "2024-03-07T12:39:58.992715Z",
          "iopub.execute_input": "2024-03-07T12:39:58.992987Z",
          "iopub.status.idle": "2024-03-07T12:39:59.001151Z",
          "shell.execute_reply.started": "2024-03-07T12:39:58.992963Z",
          "shell.execute_reply": "2024-03-07T12:39:59.000261Z"
        },
        "trusted": true,
        "id": "E8wVk7fu8Gfd"
      },
      "execution_count": 12,
      "outputs": [],
      "id": "E8wVk7fu8Gfd"
    },
    {
      "cell_type": "code",
      "source": [
        "def factorize(df, col):\n",
        "    mapping = {name: ix for ix, name in enumerate(df[col].unique())}\n",
        "    df[col] = df[col].map(mapping)\n",
        "    return df"
      ],
      "metadata": {
        "papermill": {
          "duration": 0.025012,
          "end_time": "2024-02-22T09:23:48.238738",
          "exception": false,
          "start_time": "2024-02-22T09:23:48.213726",
          "status": "completed"
        },
        "tags": [],
        "execution": {
          "iopub.status.busy": "2024-03-07T12:39:59.002443Z",
          "iopub.execute_input": "2024-03-07T12:39:59.00278Z",
          "iopub.status.idle": "2024-03-07T12:39:59.009885Z",
          "shell.execute_reply.started": "2024-03-07T12:39:59.00275Z",
          "shell.execute_reply": "2024-03-07T12:39:59.00895Z"
        },
        "trusted": true,
        "id": "bMsBZHoz8Gfd"
      },
      "execution_count": 13,
      "outputs": [],
      "id": "bMsBZHoz8Gfd"
    },
    {
      "cell_type": "code",
      "source": [
        "df = binarize(df, 'financialCurrency')\n",
        "print(df['financialCurrency'].head())"
      ],
      "metadata": {
        "papermill": {
          "duration": 0.029814,
          "end_time": "2024-02-22T09:23:48.283233",
          "exception": false,
          "start_time": "2024-02-22T09:23:48.253419",
          "status": "completed"
        },
        "tags": [],
        "execution": {
          "iopub.status.busy": "2024-03-07T12:39:59.011005Z",
          "iopub.execute_input": "2024-03-07T12:39:59.011958Z",
          "iopub.status.idle": "2024-03-07T12:39:59.02653Z",
          "shell.execute_reply.started": "2024-03-07T12:39:59.011929Z",
          "shell.execute_reply": "2024-03-07T12:39:59.025628Z"
        },
        "trusted": true,
        "colab": {
          "base_uri": "https://localhost:8080/"
        },
        "id": "gsZEpBrB8Gfe",
        "outputId": "a8bec827-9bfa-4d3a-9091-9a6306391796"
      },
      "execution_count": 14,
      "outputs": [
        {
          "output_type": "stream",
          "name": "stdout",
          "text": [
            "0    1\n",
            "1    1\n",
            "2    0\n",
            "3    1\n",
            "4    1\n",
            "Name: financialCurrency, dtype: int64\n"
          ]
        }
      ],
      "id": "gsZEpBrB8Gfe"
    },
    {
      "cell_type": "code",
      "source": [
        "print(df.shape)\n",
        "df = one_hot_encode(df, 'sector')\n",
        "df = one_hot_encode(df, 'recommendationKey')\n",
        "print(df.shape)"
      ],
      "metadata": {
        "papermill": {
          "duration": 0.051345,
          "end_time": "2024-02-22T09:23:48.348876",
          "exception": false,
          "start_time": "2024-02-22T09:23:48.297531",
          "status": "completed"
        },
        "tags": [],
        "execution": {
          "iopub.status.busy": "2024-03-07T12:39:59.027652Z",
          "iopub.execute_input": "2024-03-07T12:39:59.027996Z",
          "iopub.status.idle": "2024-03-07T12:39:59.053595Z",
          "shell.execute_reply.started": "2024-03-07T12:39:59.027917Z",
          "shell.execute_reply": "2024-03-07T12:39:59.052613Z"
        },
        "trusted": true,
        "colab": {
          "base_uri": "https://localhost:8080/"
        },
        "id": "_hrvviVG8Gfk",
        "outputId": "d000262c-5c53-4182-9227-0f0126be2a52"
      },
      "execution_count": 15,
      "outputs": [
        {
          "output_type": "stream",
          "name": "stdout",
          "text": [
            "(2030, 213)\n",
            "(2030, 227)\n"
          ]
        }
      ],
      "id": "_hrvviVG8Gfk"
    },
    {
      "cell_type": "code",
      "source": [
        "df = factorize(df, 'industry')\n",
        "print(df.dtypes.value_counts())"
      ],
      "metadata": {
        "papermill": {
          "duration": 0.028683,
          "end_time": "2024-02-22T09:23:48.391994",
          "exception": false,
          "start_time": "2024-02-22T09:23:48.363311",
          "status": "completed"
        },
        "tags": [],
        "execution": {
          "iopub.status.busy": "2024-03-07T12:39:59.054664Z",
          "iopub.execute_input": "2024-03-07T12:39:59.054946Z",
          "iopub.status.idle": "2024-03-07T12:39:59.062699Z",
          "shell.execute_reply.started": "2024-03-07T12:39:59.054922Z",
          "shell.execute_reply": "2024-03-07T12:39:59.061575Z"
        },
        "trusted": true,
        "colab": {
          "base_uri": "https://localhost:8080/"
        },
        "id": "vViCS_Fh8Gfm",
        "outputId": "23c474cd-4611-4669-c1d0-3038ae81fa89"
      },
      "execution_count": 16,
      "outputs": [
        {
          "output_type": "stream",
          "name": "stdout",
          "text": [
            "float64    207\n",
            "int64       19\n",
            "bool         1\n",
            "dtype: int64\n"
          ]
        }
      ],
      "id": "vViCS_Fh8Gfm"
    },
    {
      "cell_type": "code",
      "source": [
        "import warnings\n",
        "warnings.simplefilter(action='ignore', category=FutureWarning)"
      ],
      "metadata": {
        "papermill": {
          "duration": 0.023799,
          "end_time": "2024-02-22T09:23:48.430584",
          "exception": false,
          "start_time": "2024-02-22T09:23:48.406785",
          "status": "completed"
        },
        "tags": [],
        "execution": {
          "iopub.status.busy": "2024-03-07T12:39:59.063873Z",
          "iopub.execute_input": "2024-03-07T12:39:59.064185Z",
          "iopub.status.idle": "2024-03-07T12:39:59.071919Z",
          "shell.execute_reply.started": "2024-03-07T12:39:59.064161Z",
          "shell.execute_reply": "2024-03-07T12:39:59.070959Z"
        },
        "trusted": true,
        "id": "D-cnpDE08Gfo"
      },
      "execution_count": 17,
      "outputs": [],
      "id": "D-cnpDE08Gfo"
    },
    {
      "cell_type": "markdown",
      "source": [
        "## Deal with missing values"
      ],
      "metadata": {
        "papermill": {
          "duration": 0.01419,
          "end_time": "2024-02-22T09:23:48.459658",
          "exception": false,
          "start_time": "2024-02-22T09:23:48.445468",
          "status": "completed"
        },
        "tags": [],
        "id": "cqP8qh5J8Gfp"
      },
      "id": "cqP8qh5J8Gfp"
    },
    {
      "cell_type": "code",
      "source": [
        "df.isnull().sum()"
      ],
      "metadata": {
        "papermill": {
          "duration": 0.030298,
          "end_time": "2024-02-22T09:23:48.50518",
          "exception": false,
          "start_time": "2024-02-22T09:23:48.474882",
          "status": "completed"
        },
        "tags": [],
        "execution": {
          "iopub.status.busy": "2024-03-07T12:39:59.073264Z",
          "iopub.execute_input": "2024-03-07T12:39:59.073665Z",
          "iopub.status.idle": "2024-03-07T12:39:59.085553Z",
          "shell.execute_reply.started": "2024-03-07T12:39:59.073607Z",
          "shell.execute_reply": "2024-03-07T12:39:59.084408Z"
        },
        "trusted": true,
        "colab": {
          "base_uri": "https://localhost:8080/"
        },
        "id": "g_3-qJzp8Gfp",
        "outputId": "2299ec85-775d-4529-e992-8b4a2556925e"
      },
      "execution_count": 18,
      "outputs": [
        {
          "output_type": "execute_result",
          "data": {
            "text/plain": [
              "Id                                  0\n",
              "industry                            0\n",
              "fullTimeEmployees                 102\n",
              "auditRisk                         625\n",
              "boardRisk                         625\n",
              "                                 ... \n",
              "recommendationKey_hold              0\n",
              "recommendationKey_none              0\n",
              "recommendationKey_sell              0\n",
              "recommendationKey_strong_buy        0\n",
              "recommendationKey_underperform      0\n",
              "Length: 227, dtype: int64"
            ]
          },
          "metadata": {},
          "execution_count": 18
        }
      ],
      "id": "g_3-qJzp8Gfp"
    },
    {
      "cell_type": "code",
      "source": [
        "print('Missing data stats:\\n')\n",
        "under_10_percent = 0\n",
        "ten_to_20_percent = 0\n",
        "twenty_to_50_percent = 0\n",
        "over_50_percent = 0\n",
        "for col in df:\n",
        "    if np.any(df[col].isnull()):\n",
        "        percent_missing = np.round(100*df[col].isnull().sum()/len(df),2)\n",
        "        if percent_missing < 10:\n",
        "            under_10_percent+=1\n",
        "        elif 10 <= percent_missing < 20:\n",
        "            ten_to_20_percent+=1\n",
        "        elif 20 <= percent_missing < 50:\n",
        "            twenty_to_50_percent+=1\n",
        "        else:\n",
        "            over_50_percent+=1\n",
        "\n",
        "print(f'ncols with under 10% missing data:\\t{under_10_percent}')\n",
        "print(f'ncols with 10-20% missing data:\\t\\t{ten_to_20_percent}')\n",
        "print(f'ncols with 20-50% missing data:\\t\\t{twenty_to_50_percent}')\n",
        "print(f'ncols with over 50% missing data:\\t{over_50_percent}')"
      ],
      "metadata": {
        "papermill": {
          "duration": 0.094265,
          "end_time": "2024-02-22T09:23:48.614622",
          "exception": false,
          "start_time": "2024-02-22T09:23:48.520357",
          "status": "completed"
        },
        "tags": [],
        "execution": {
          "iopub.status.busy": "2024-03-07T12:39:59.086786Z",
          "iopub.execute_input": "2024-03-07T12:39:59.087122Z",
          "iopub.status.idle": "2024-03-07T12:39:59.236746Z",
          "shell.execute_reply.started": "2024-03-07T12:39:59.087092Z",
          "shell.execute_reply": "2024-03-07T12:39:59.23577Z"
        },
        "trusted": true,
        "colab": {
          "base_uri": "https://localhost:8080/"
        },
        "id": "66Ppwva68Gfq",
        "outputId": "9ec9b4f5-53f2-4812-9b5a-7aae84977b6c"
      },
      "execution_count": 19,
      "outputs": [
        {
          "output_type": "stream",
          "name": "stdout",
          "text": [
            "Missing data stats:\n",
            "\n",
            "ncols with under 10% missing data:\t134\n",
            "ncols with 10-20% missing data:\t\t44\n",
            "ncols with 20-50% missing data:\t\t16\n",
            "ncols with over 50% missing data:\t1\n"
          ]
        }
      ],
      "id": "66Ppwva68Gfq"
    },
    {
      "cell_type": "markdown",
      "source": [
        "Many columns have missing data, but the majority of cols with NaNs have under 10% missing values. It's safe to fill all missing values by median."
      ],
      "metadata": {
        "papermill": {
          "duration": 0.014673,
          "end_time": "2024-02-22T09:23:48.644595",
          "exception": false,
          "start_time": "2024-02-22T09:23:48.629922",
          "status": "completed"
        },
        "tags": [],
        "id": "ySiWcTsi8Gfr"
      },
      "id": "ySiWcTsi8Gfr"
    },
    {
      "cell_type": "code",
      "source": [
        "# check if there are any inf values in data\n",
        "df[df == np.inf].count().sum()"
      ],
      "metadata": {
        "papermill": {
          "duration": 0.041706,
          "end_time": "2024-02-22T09:23:48.701223",
          "exception": false,
          "start_time": "2024-02-22T09:23:48.659517",
          "status": "completed"
        },
        "tags": [],
        "execution": {
          "iopub.status.busy": "2024-03-07T12:39:59.237965Z",
          "iopub.execute_input": "2024-03-07T12:39:59.238285Z",
          "iopub.status.idle": "2024-03-07T12:39:59.259056Z",
          "shell.execute_reply.started": "2024-03-07T12:39:59.238259Z",
          "shell.execute_reply": "2024-03-07T12:39:59.258129Z"
        },
        "trusted": true,
        "colab": {
          "base_uri": "https://localhost:8080/"
        },
        "id": "jxsODMxl8Gfs",
        "outputId": "20f448ae-c546-45eb-e548-98b6aac6767e"
      },
      "execution_count": 20,
      "outputs": [
        {
          "output_type": "execute_result",
          "data": {
            "text/plain": [
              "17"
            ]
          },
          "metadata": {},
          "execution_count": 20
        }
      ],
      "id": "jxsODMxl8Gfs"
    },
    {
      "cell_type": "code",
      "source": [
        "# check for missing values in the target columns\n",
        "train[targets_names].isnull().sum()"
      ],
      "metadata": {
        "papermill": {
          "duration": 0.028304,
          "end_time": "2024-02-22T09:23:48.744568",
          "exception": false,
          "start_time": "2024-02-22T09:23:48.716264",
          "status": "completed"
        },
        "tags": [],
        "execution": {
          "iopub.status.busy": "2024-03-07T12:39:59.260211Z",
          "iopub.execute_input": "2024-03-07T12:39:59.26055Z",
          "iopub.status.idle": "2024-03-07T12:39:59.269224Z",
          "shell.execute_reply.started": "2024-03-07T12:39:59.260522Z",
          "shell.execute_reply": "2024-03-07T12:39:59.268217Z"
        },
        "trusted": true,
        "colab": {
          "base_uri": "https://localhost:8080/"
        },
        "id": "ZJEAhCDh8Gfs",
        "outputId": "3e4b96b2-c19e-463b-9c56-e18e4eb99340"
      },
      "execution_count": 21,
      "outputs": [
        {
          "output_type": "execute_result",
          "data": {
            "text/plain": [
              "Q0_TOTAL_ASSETS                 0\n",
              "Q0_TOTAL_LIABILITIES            0\n",
              "Q0_TOTAL_STOCKHOLDERS_EQUITY    0\n",
              "Q0_GROSS_PROFIT                 0\n",
              "Q0_COST_OF_REVENUES             0\n",
              "Q0_REVENUES                     0\n",
              "Q0_OPERATING_INCOME             0\n",
              "Q0_OPERATING_EXPENSES           0\n",
              "Q0_EBITDA                       0\n",
              "dtype: int64"
            ]
          },
          "metadata": {},
          "execution_count": 21
        }
      ],
      "id": "ZJEAhCDh8Gfs"
    },
    {
      "cell_type": "code",
      "source": [
        "def impute_missing_by_median(df):\n",
        "    print(f'Missing values before imputation: {sum(df.isnull().sum())}')\n",
        "    # first replace inf and -inf with nan\n",
        "    df.replace([np.inf, -np.inf], np.nan, inplace=True)\n",
        "    # then impute nan by median\n",
        "    for col in df:\n",
        "        if np.any(df[col].isnull()):\n",
        "            df[col].fillna(df[col].median(), inplace = True)\n",
        "    print(f'Missing values after imputation: {sum(df.isnull().sum())}')\n",
        "    return df"
      ],
      "metadata": {
        "papermill": {
          "duration": 0.027342,
          "end_time": "2024-02-22T09:23:48.787209",
          "exception": false,
          "start_time": "2024-02-22T09:23:48.759867",
          "status": "completed"
        },
        "tags": [],
        "execution": {
          "iopub.status.busy": "2024-03-07T12:39:59.270536Z",
          "iopub.execute_input": "2024-03-07T12:39:59.270886Z",
          "iopub.status.idle": "2024-03-07T12:39:59.278442Z",
          "shell.execute_reply.started": "2024-03-07T12:39:59.270847Z",
          "shell.execute_reply": "2024-03-07T12:39:59.277544Z"
        },
        "trusted": true,
        "id": "hJSqTw7i8Gft"
      },
      "execution_count": 22,
      "outputs": [],
      "id": "hJSqTw7i8Gft"
    },
    {
      "cell_type": "code",
      "source": [
        "df = impute_missing_by_median(df)"
      ],
      "metadata": {
        "papermill": {
          "duration": 0.242599,
          "end_time": "2024-02-22T09:23:49.045138",
          "exception": false,
          "start_time": "2024-02-22T09:23:48.802539",
          "status": "completed"
        },
        "tags": [],
        "execution": {
          "iopub.status.busy": "2024-03-07T12:39:59.279595Z",
          "iopub.execute_input": "2024-03-07T12:39:59.279887Z",
          "iopub.status.idle": "2024-03-07T12:39:59.411853Z",
          "shell.execute_reply.started": "2024-03-07T12:39:59.279862Z",
          "shell.execute_reply": "2024-03-07T12:39:59.410696Z"
        },
        "trusted": true,
        "colab": {
          "base_uri": "https://localhost:8080/"
        },
        "id": "M-nqKZSX8Gfu",
        "outputId": "9ec5cc10-3cd6-4b61-c36c-5588fc94915f"
      },
      "execution_count": 23,
      "outputs": [
        {
          "output_type": "stream",
          "name": "stdout",
          "text": [
            "Missing values before imputation: 28653\n",
            "Missing values after imputation: 0\n"
          ]
        }
      ],
      "id": "M-nqKZSX8Gfu"
    },
    {
      "cell_type": "markdown",
      "source": [
        "## Extract train & test without target cols and separate tartgets df with 9 target cols"
      ],
      "metadata": {
        "papermill": {
          "duration": 0.015032,
          "end_time": "2024-02-22T09:23:49.075854",
          "exception": false,
          "start_time": "2024-02-22T09:23:49.060822",
          "status": "completed"
        },
        "tags": [],
        "id": "rp403zxx8Gfv"
      },
      "id": "rp403zxx8Gfv"
    },
    {
      "cell_type": "code",
      "source": [
        "train = df[df['is_train'] == True]\n",
        "test = df[df['is_train'] == False]\n",
        "train.drop('is_train', axis = 1, inplace=True)\n",
        "test.drop('is_train', axis = 1, inplace=True)\n",
        "test.reset_index(drop = True, inplace = True)\n",
        "\n",
        "test.drop(targets_names, axis = 1, inplace = True)\n",
        "targets = train[targets_names].copy()\n",
        "train.drop(targets_names, axis = 1, inplace = True)"
      ],
      "metadata": {
        "papermill": {
          "duration": 0.039554,
          "end_time": "2024-02-22T09:23:49.13061",
          "exception": false,
          "start_time": "2024-02-22T09:23:49.091056",
          "status": "completed"
        },
        "tags": [],
        "execution": {
          "iopub.status.busy": "2024-03-07T12:39:59.413151Z",
          "iopub.execute_input": "2024-03-07T12:39:59.413517Z",
          "iopub.status.idle": "2024-03-07T12:39:59.430338Z",
          "shell.execute_reply.started": "2024-03-07T12:39:59.41349Z",
          "shell.execute_reply": "2024-03-07T12:39:59.429409Z"
        },
        "trusted": true,
        "colab": {
          "base_uri": "https://localhost:8080/"
        },
        "id": "9gEDbDGL8Gfw",
        "outputId": "62b14517-51d3-419a-ef07-f32b415ec676"
      },
      "execution_count": 24,
      "outputs": [
        {
          "output_type": "stream",
          "name": "stderr",
          "text": [
            "<ipython-input-24-996949eefa5f>:3: SettingWithCopyWarning: \n",
            "A value is trying to be set on a copy of a slice from a DataFrame\n",
            "\n",
            "See the caveats in the documentation: https://pandas.pydata.org/pandas-docs/stable/user_guide/indexing.html#returning-a-view-versus-a-copy\n",
            "  train.drop('is_train', axis = 1, inplace=True)\n",
            "<ipython-input-24-996949eefa5f>:4: SettingWithCopyWarning: \n",
            "A value is trying to be set on a copy of a slice from a DataFrame\n",
            "\n",
            "See the caveats in the documentation: https://pandas.pydata.org/pandas-docs/stable/user_guide/indexing.html#returning-a-view-versus-a-copy\n",
            "  test.drop('is_train', axis = 1, inplace=True)\n",
            "<ipython-input-24-996949eefa5f>:7: SettingWithCopyWarning: \n",
            "A value is trying to be set on a copy of a slice from a DataFrame\n",
            "\n",
            "See the caveats in the documentation: https://pandas.pydata.org/pandas-docs/stable/user_guide/indexing.html#returning-a-view-versus-a-copy\n",
            "  test.drop(targets_names, axis = 1, inplace = True)\n",
            "<ipython-input-24-996949eefa5f>:9: SettingWithCopyWarning: \n",
            "A value is trying to be set on a copy of a slice from a DataFrame\n",
            "\n",
            "See the caveats in the documentation: https://pandas.pydata.org/pandas-docs/stable/user_guide/indexing.html#returning-a-view-versus-a-copy\n",
            "  train.drop(targets_names, axis = 1, inplace = True)\n"
          ]
        }
      ],
      "id": "9gEDbDGL8Gfw"
    },
    {
      "cell_type": "markdown",
      "source": [
        "## Validate XGB model on train data\n",
        "### Since we have 9 independent target columns, I will train 9 separate separate models on train features to predict each target."
      ],
      "metadata": {
        "execution": {
          "iopub.execute_input": "2024-02-21T11:22:12.4504Z",
          "iopub.status.busy": "2024-02-21T11:22:12.450098Z",
          "iopub.status.idle": "2024-02-21T11:22:12.454644Z",
          "shell.execute_reply": "2024-02-21T11:22:12.453791Z",
          "shell.execute_reply.started": "2024-02-21T11:22:12.450379Z"
        },
        "papermill": {
          "duration": 0.015517,
          "end_time": "2024-02-22T09:23:49.161625",
          "exception": false,
          "start_time": "2024-02-22T09:23:49.146108",
          "status": "completed"
        },
        "tags": [],
        "id": "5UdXtd8q8Gfx"
      },
      "id": "5UdXtd8q8Gfx"
    },
    {
      "cell_type": "code",
      "source": [
        "targets"
      ],
      "metadata": {
        "papermill": {
          "duration": 0.048259,
          "end_time": "2024-02-22T09:23:49.225403",
          "exception": false,
          "start_time": "2024-02-22T09:23:49.177144",
          "status": "completed"
        },
        "tags": [],
        "execution": {
          "iopub.status.busy": "2024-03-07T12:39:59.431652Z",
          "iopub.execute_input": "2024-03-07T12:39:59.432002Z",
          "iopub.status.idle": "2024-03-07T12:39:59.458327Z",
          "shell.execute_reply.started": "2024-03-07T12:39:59.431961Z",
          "shell.execute_reply": "2024-03-07T12:39:59.457394Z"
        },
        "trusted": true,
        "colab": {
          "base_uri": "https://localhost:8080/",
          "height": 444
        },
        "id": "Zr9xLRz88Gfy",
        "outputId": "fc335be8-e512-4ec6-f9a9-d1085793c801"
      },
      "execution_count": 25,
      "outputs": [
        {
          "output_type": "execute_result",
          "data": {
            "text/plain": [
              "      Q0_TOTAL_ASSETS  Q0_TOTAL_LIABILITIES  Q0_TOTAL_STOCKHOLDERS_EQUITY  \\\n",
              "0        1.192950e+09          1.055816e+09                  1.371340e+08   \n",
              "1        1.219954e+09          8.350460e+08                  3.849080e+08   \n",
              "2       -1.358200e+11         -3.797200e+10                 -9.784800e+10   \n",
              "3        8.329800e+07          1.604000e+07                 -3.163300e+07   \n",
              "4        1.485460e+08          5.655500e+07                  9.199100e+07   \n",
              "...               ...                   ...                           ...   \n",
              "1619     3.539600e+08          1.997590e+08                  1.542010e+08   \n",
              "1620     1.061530e+08          3.949300e+07                  6.811700e+07   \n",
              "1621     5.203150e+08          3.807960e+08                  3.233080e+08   \n",
              "1622     1.997210e+08          2.692100e+07                  1.728000e+08   \n",
              "1623     1.333626e+10          1.504531e+10                 -8.217640e+08   \n",
              "\n",
              "      Q0_GROSS_PROFIT  Q0_COST_OF_REVENUES   Q0_REVENUES  Q0_OPERATING_INCOME  \\\n",
              "0          25598000.0         6.189900e+07  4.299200e+07         1.522200e+07   \n",
              "1         111786000.0         2.177960e+08  3.295820e+08         2.890800e+07   \n",
              "2        -435000000.0         4.445000e+09  4.010000e+09        -1.472000e+09   \n",
              "3            494000.0         3.339000e+06  3.833000e+06        -1.234800e+07   \n",
              "4           1761000.0        -2.375000e+06 -6.140000e+05        -1.009800e+07   \n",
              "...               ...                  ...           ...                  ...   \n",
              "1619       48741000.0         4.569300e+07  9.443400e+07         2.616000e+06   \n",
              "1620        1077000.0         1.690000e+05  1.246000e+06        -6.705000e+06   \n",
              "1621       27808000.0         1.123840e+08  1.401920e+08         7.061000e+06   \n",
              "1622              0.0         0.000000e+00  0.000000e+00        -3.391900e+07   \n",
              "1623      394720000.0         5.777330e+08  9.724530e+08         6.259500e+07   \n",
              "\n",
              "      Q0_OPERATING_EXPENSES    Q0_EBITDA  \n",
              "0                10383000.0   15215000.0  \n",
              "1                85522000.0   26264000.0  \n",
              "2               219000000.0 -654000000.0  \n",
              "3                12842000.0  -12348000.0  \n",
              "4                11859000.0  -10098000.0  \n",
              "...                     ...          ...  \n",
              "1619             46125000.0    2616000.0  \n",
              "1620              7782000.0   -6705000.0  \n",
              "1621              9417000.0   18391000.0  \n",
              "1622             33919000.0  -33919000.0  \n",
              "1623            268445000.0  126275000.0  \n",
              "\n",
              "[1624 rows x 9 columns]"
            ],
            "text/html": [
              "\n",
              "  <div id=\"df-760a443f-0ddf-46fd-998b-150c44fc5b4d\" class=\"colab-df-container\">\n",
              "    <div>\n",
              "<style scoped>\n",
              "    .dataframe tbody tr th:only-of-type {\n",
              "        vertical-align: middle;\n",
              "    }\n",
              "\n",
              "    .dataframe tbody tr th {\n",
              "        vertical-align: top;\n",
              "    }\n",
              "\n",
              "    .dataframe thead th {\n",
              "        text-align: right;\n",
              "    }\n",
              "</style>\n",
              "<table border=\"1\" class=\"dataframe\">\n",
              "  <thead>\n",
              "    <tr style=\"text-align: right;\">\n",
              "      <th></th>\n",
              "      <th>Q0_TOTAL_ASSETS</th>\n",
              "      <th>Q0_TOTAL_LIABILITIES</th>\n",
              "      <th>Q0_TOTAL_STOCKHOLDERS_EQUITY</th>\n",
              "      <th>Q0_GROSS_PROFIT</th>\n",
              "      <th>Q0_COST_OF_REVENUES</th>\n",
              "      <th>Q0_REVENUES</th>\n",
              "      <th>Q0_OPERATING_INCOME</th>\n",
              "      <th>Q0_OPERATING_EXPENSES</th>\n",
              "      <th>Q0_EBITDA</th>\n",
              "    </tr>\n",
              "  </thead>\n",
              "  <tbody>\n",
              "    <tr>\n",
              "      <th>0</th>\n",
              "      <td>1.192950e+09</td>\n",
              "      <td>1.055816e+09</td>\n",
              "      <td>1.371340e+08</td>\n",
              "      <td>25598000.0</td>\n",
              "      <td>6.189900e+07</td>\n",
              "      <td>4.299200e+07</td>\n",
              "      <td>1.522200e+07</td>\n",
              "      <td>10383000.0</td>\n",
              "      <td>15215000.0</td>\n",
              "    </tr>\n",
              "    <tr>\n",
              "      <th>1</th>\n",
              "      <td>1.219954e+09</td>\n",
              "      <td>8.350460e+08</td>\n",
              "      <td>3.849080e+08</td>\n",
              "      <td>111786000.0</td>\n",
              "      <td>2.177960e+08</td>\n",
              "      <td>3.295820e+08</td>\n",
              "      <td>2.890800e+07</td>\n",
              "      <td>85522000.0</td>\n",
              "      <td>26264000.0</td>\n",
              "    </tr>\n",
              "    <tr>\n",
              "      <th>2</th>\n",
              "      <td>-1.358200e+11</td>\n",
              "      <td>-3.797200e+10</td>\n",
              "      <td>-9.784800e+10</td>\n",
              "      <td>-435000000.0</td>\n",
              "      <td>4.445000e+09</td>\n",
              "      <td>4.010000e+09</td>\n",
              "      <td>-1.472000e+09</td>\n",
              "      <td>219000000.0</td>\n",
              "      <td>-654000000.0</td>\n",
              "    </tr>\n",
              "    <tr>\n",
              "      <th>3</th>\n",
              "      <td>8.329800e+07</td>\n",
              "      <td>1.604000e+07</td>\n",
              "      <td>-3.163300e+07</td>\n",
              "      <td>494000.0</td>\n",
              "      <td>3.339000e+06</td>\n",
              "      <td>3.833000e+06</td>\n",
              "      <td>-1.234800e+07</td>\n",
              "      <td>12842000.0</td>\n",
              "      <td>-12348000.0</td>\n",
              "    </tr>\n",
              "    <tr>\n",
              "      <th>4</th>\n",
              "      <td>1.485460e+08</td>\n",
              "      <td>5.655500e+07</td>\n",
              "      <td>9.199100e+07</td>\n",
              "      <td>1761000.0</td>\n",
              "      <td>-2.375000e+06</td>\n",
              "      <td>-6.140000e+05</td>\n",
              "      <td>-1.009800e+07</td>\n",
              "      <td>11859000.0</td>\n",
              "      <td>-10098000.0</td>\n",
              "    </tr>\n",
              "    <tr>\n",
              "      <th>...</th>\n",
              "      <td>...</td>\n",
              "      <td>...</td>\n",
              "      <td>...</td>\n",
              "      <td>...</td>\n",
              "      <td>...</td>\n",
              "      <td>...</td>\n",
              "      <td>...</td>\n",
              "      <td>...</td>\n",
              "      <td>...</td>\n",
              "    </tr>\n",
              "    <tr>\n",
              "      <th>1619</th>\n",
              "      <td>3.539600e+08</td>\n",
              "      <td>1.997590e+08</td>\n",
              "      <td>1.542010e+08</td>\n",
              "      <td>48741000.0</td>\n",
              "      <td>4.569300e+07</td>\n",
              "      <td>9.443400e+07</td>\n",
              "      <td>2.616000e+06</td>\n",
              "      <td>46125000.0</td>\n",
              "      <td>2616000.0</td>\n",
              "    </tr>\n",
              "    <tr>\n",
              "      <th>1620</th>\n",
              "      <td>1.061530e+08</td>\n",
              "      <td>3.949300e+07</td>\n",
              "      <td>6.811700e+07</td>\n",
              "      <td>1077000.0</td>\n",
              "      <td>1.690000e+05</td>\n",
              "      <td>1.246000e+06</td>\n",
              "      <td>-6.705000e+06</td>\n",
              "      <td>7782000.0</td>\n",
              "      <td>-6705000.0</td>\n",
              "    </tr>\n",
              "    <tr>\n",
              "      <th>1621</th>\n",
              "      <td>5.203150e+08</td>\n",
              "      <td>3.807960e+08</td>\n",
              "      <td>3.233080e+08</td>\n",
              "      <td>27808000.0</td>\n",
              "      <td>1.123840e+08</td>\n",
              "      <td>1.401920e+08</td>\n",
              "      <td>7.061000e+06</td>\n",
              "      <td>9417000.0</td>\n",
              "      <td>18391000.0</td>\n",
              "    </tr>\n",
              "    <tr>\n",
              "      <th>1622</th>\n",
              "      <td>1.997210e+08</td>\n",
              "      <td>2.692100e+07</td>\n",
              "      <td>1.728000e+08</td>\n",
              "      <td>0.0</td>\n",
              "      <td>0.000000e+00</td>\n",
              "      <td>0.000000e+00</td>\n",
              "      <td>-3.391900e+07</td>\n",
              "      <td>33919000.0</td>\n",
              "      <td>-33919000.0</td>\n",
              "    </tr>\n",
              "    <tr>\n",
              "      <th>1623</th>\n",
              "      <td>1.333626e+10</td>\n",
              "      <td>1.504531e+10</td>\n",
              "      <td>-8.217640e+08</td>\n",
              "      <td>394720000.0</td>\n",
              "      <td>5.777330e+08</td>\n",
              "      <td>9.724530e+08</td>\n",
              "      <td>6.259500e+07</td>\n",
              "      <td>268445000.0</td>\n",
              "      <td>126275000.0</td>\n",
              "    </tr>\n",
              "  </tbody>\n",
              "</table>\n",
              "<p>1624 rows × 9 columns</p>\n",
              "</div>\n",
              "    <div class=\"colab-df-buttons\">\n",
              "\n",
              "  <div class=\"colab-df-container\">\n",
              "    <button class=\"colab-df-convert\" onclick=\"convertToInteractive('df-760a443f-0ddf-46fd-998b-150c44fc5b4d')\"\n",
              "            title=\"Convert this dataframe to an interactive table.\"\n",
              "            style=\"display:none;\">\n",
              "\n",
              "  <svg xmlns=\"http://www.w3.org/2000/svg\" height=\"24px\" viewBox=\"0 -960 960 960\">\n",
              "    <path d=\"M120-120v-720h720v720H120Zm60-500h600v-160H180v160Zm220 220h160v-160H400v160Zm0 220h160v-160H400v160ZM180-400h160v-160H180v160Zm440 0h160v-160H620v160ZM180-180h160v-160H180v160Zm440 0h160v-160H620v160Z\"/>\n",
              "  </svg>\n",
              "    </button>\n",
              "\n",
              "  <style>\n",
              "    .colab-df-container {\n",
              "      display:flex;\n",
              "      gap: 12px;\n",
              "    }\n",
              "\n",
              "    .colab-df-convert {\n",
              "      background-color: #E8F0FE;\n",
              "      border: none;\n",
              "      border-radius: 50%;\n",
              "      cursor: pointer;\n",
              "      display: none;\n",
              "      fill: #1967D2;\n",
              "      height: 32px;\n",
              "      padding: 0 0 0 0;\n",
              "      width: 32px;\n",
              "    }\n",
              "\n",
              "    .colab-df-convert:hover {\n",
              "      background-color: #E2EBFA;\n",
              "      box-shadow: 0px 1px 2px rgba(60, 64, 67, 0.3), 0px 1px 3px 1px rgba(60, 64, 67, 0.15);\n",
              "      fill: #174EA6;\n",
              "    }\n",
              "\n",
              "    .colab-df-buttons div {\n",
              "      margin-bottom: 4px;\n",
              "    }\n",
              "\n",
              "    [theme=dark] .colab-df-convert {\n",
              "      background-color: #3B4455;\n",
              "      fill: #D2E3FC;\n",
              "    }\n",
              "\n",
              "    [theme=dark] .colab-df-convert:hover {\n",
              "      background-color: #434B5C;\n",
              "      box-shadow: 0px 1px 3px 1px rgba(0, 0, 0, 0.15);\n",
              "      filter: drop-shadow(0px 1px 2px rgba(0, 0, 0, 0.3));\n",
              "      fill: #FFFFFF;\n",
              "    }\n",
              "  </style>\n",
              "\n",
              "    <script>\n",
              "      const buttonEl =\n",
              "        document.querySelector('#df-760a443f-0ddf-46fd-998b-150c44fc5b4d button.colab-df-convert');\n",
              "      buttonEl.style.display =\n",
              "        google.colab.kernel.accessAllowed ? 'block' : 'none';\n",
              "\n",
              "      async function convertToInteractive(key) {\n",
              "        const element = document.querySelector('#df-760a443f-0ddf-46fd-998b-150c44fc5b4d');\n",
              "        const dataTable =\n",
              "          await google.colab.kernel.invokeFunction('convertToInteractive',\n",
              "                                                    [key], {});\n",
              "        if (!dataTable) return;\n",
              "\n",
              "        const docLinkHtml = 'Like what you see? Visit the ' +\n",
              "          '<a target=\"_blank\" href=https://colab.research.google.com/notebooks/data_table.ipynb>data table notebook</a>'\n",
              "          + ' to learn more about interactive tables.';\n",
              "        element.innerHTML = '';\n",
              "        dataTable['output_type'] = 'display_data';\n",
              "        await google.colab.output.renderOutput(dataTable, element);\n",
              "        const docLink = document.createElement('div');\n",
              "        docLink.innerHTML = docLinkHtml;\n",
              "        element.appendChild(docLink);\n",
              "      }\n",
              "    </script>\n",
              "  </div>\n",
              "\n",
              "\n",
              "<div id=\"df-291cbd2a-8fb1-4e65-9c48-2ece5e75b0d2\">\n",
              "  <button class=\"colab-df-quickchart\" onclick=\"quickchart('df-291cbd2a-8fb1-4e65-9c48-2ece5e75b0d2')\"\n",
              "            title=\"Suggest charts\"\n",
              "            style=\"display:none;\">\n",
              "\n",
              "<svg xmlns=\"http://www.w3.org/2000/svg\" height=\"24px\"viewBox=\"0 0 24 24\"\n",
              "     width=\"24px\">\n",
              "    <g>\n",
              "        <path d=\"M19 3H5c-1.1 0-2 .9-2 2v14c0 1.1.9 2 2 2h14c1.1 0 2-.9 2-2V5c0-1.1-.9-2-2-2zM9 17H7v-7h2v7zm4 0h-2V7h2v10zm4 0h-2v-4h2v4z\"/>\n",
              "    </g>\n",
              "</svg>\n",
              "  </button>\n",
              "\n",
              "<style>\n",
              "  .colab-df-quickchart {\n",
              "      --bg-color: #E8F0FE;\n",
              "      --fill-color: #1967D2;\n",
              "      --hover-bg-color: #E2EBFA;\n",
              "      --hover-fill-color: #174EA6;\n",
              "      --disabled-fill-color: #AAA;\n",
              "      --disabled-bg-color: #DDD;\n",
              "  }\n",
              "\n",
              "  [theme=dark] .colab-df-quickchart {\n",
              "      --bg-color: #3B4455;\n",
              "      --fill-color: #D2E3FC;\n",
              "      --hover-bg-color: #434B5C;\n",
              "      --hover-fill-color: #FFFFFF;\n",
              "      --disabled-bg-color: #3B4455;\n",
              "      --disabled-fill-color: #666;\n",
              "  }\n",
              "\n",
              "  .colab-df-quickchart {\n",
              "    background-color: var(--bg-color);\n",
              "    border: none;\n",
              "    border-radius: 50%;\n",
              "    cursor: pointer;\n",
              "    display: none;\n",
              "    fill: var(--fill-color);\n",
              "    height: 32px;\n",
              "    padding: 0;\n",
              "    width: 32px;\n",
              "  }\n",
              "\n",
              "  .colab-df-quickchart:hover {\n",
              "    background-color: var(--hover-bg-color);\n",
              "    box-shadow: 0 1px 2px rgba(60, 64, 67, 0.3), 0 1px 3px 1px rgba(60, 64, 67, 0.15);\n",
              "    fill: var(--button-hover-fill-color);\n",
              "  }\n",
              "\n",
              "  .colab-df-quickchart-complete:disabled,\n",
              "  .colab-df-quickchart-complete:disabled:hover {\n",
              "    background-color: var(--disabled-bg-color);\n",
              "    fill: var(--disabled-fill-color);\n",
              "    box-shadow: none;\n",
              "  }\n",
              "\n",
              "  .colab-df-spinner {\n",
              "    border: 2px solid var(--fill-color);\n",
              "    border-color: transparent;\n",
              "    border-bottom-color: var(--fill-color);\n",
              "    animation:\n",
              "      spin 1s steps(1) infinite;\n",
              "  }\n",
              "\n",
              "  @keyframes spin {\n",
              "    0% {\n",
              "      border-color: transparent;\n",
              "      border-bottom-color: var(--fill-color);\n",
              "      border-left-color: var(--fill-color);\n",
              "    }\n",
              "    20% {\n",
              "      border-color: transparent;\n",
              "      border-left-color: var(--fill-color);\n",
              "      border-top-color: var(--fill-color);\n",
              "    }\n",
              "    30% {\n",
              "      border-color: transparent;\n",
              "      border-left-color: var(--fill-color);\n",
              "      border-top-color: var(--fill-color);\n",
              "      border-right-color: var(--fill-color);\n",
              "    }\n",
              "    40% {\n",
              "      border-color: transparent;\n",
              "      border-right-color: var(--fill-color);\n",
              "      border-top-color: var(--fill-color);\n",
              "    }\n",
              "    60% {\n",
              "      border-color: transparent;\n",
              "      border-right-color: var(--fill-color);\n",
              "    }\n",
              "    80% {\n",
              "      border-color: transparent;\n",
              "      border-right-color: var(--fill-color);\n",
              "      border-bottom-color: var(--fill-color);\n",
              "    }\n",
              "    90% {\n",
              "      border-color: transparent;\n",
              "      border-bottom-color: var(--fill-color);\n",
              "    }\n",
              "  }\n",
              "</style>\n",
              "\n",
              "  <script>\n",
              "    async function quickchart(key) {\n",
              "      const quickchartButtonEl =\n",
              "        document.querySelector('#' + key + ' button');\n",
              "      quickchartButtonEl.disabled = true;  // To prevent multiple clicks.\n",
              "      quickchartButtonEl.classList.add('colab-df-spinner');\n",
              "      try {\n",
              "        const charts = await google.colab.kernel.invokeFunction(\n",
              "            'suggestCharts', [key], {});\n",
              "      } catch (error) {\n",
              "        console.error('Error during call to suggestCharts:', error);\n",
              "      }\n",
              "      quickchartButtonEl.classList.remove('colab-df-spinner');\n",
              "      quickchartButtonEl.classList.add('colab-df-quickchart-complete');\n",
              "    }\n",
              "    (() => {\n",
              "      let quickchartButtonEl =\n",
              "        document.querySelector('#df-291cbd2a-8fb1-4e65-9c48-2ece5e75b0d2 button');\n",
              "      quickchartButtonEl.style.display =\n",
              "        google.colab.kernel.accessAllowed ? 'block' : 'none';\n",
              "    })();\n",
              "  </script>\n",
              "</div>\n",
              "\n",
              "  <div id=\"id_5a6a0ac7-df3a-4a81-b70b-d775eb88a206\">\n",
              "    <style>\n",
              "      .colab-df-generate {\n",
              "        background-color: #E8F0FE;\n",
              "        border: none;\n",
              "        border-radius: 50%;\n",
              "        cursor: pointer;\n",
              "        display: none;\n",
              "        fill: #1967D2;\n",
              "        height: 32px;\n",
              "        padding: 0 0 0 0;\n",
              "        width: 32px;\n",
              "      }\n",
              "\n",
              "      .colab-df-generate:hover {\n",
              "        background-color: #E2EBFA;\n",
              "        box-shadow: 0px 1px 2px rgba(60, 64, 67, 0.3), 0px 1px 3px 1px rgba(60, 64, 67, 0.15);\n",
              "        fill: #174EA6;\n",
              "      }\n",
              "\n",
              "      [theme=dark] .colab-df-generate {\n",
              "        background-color: #3B4455;\n",
              "        fill: #D2E3FC;\n",
              "      }\n",
              "\n",
              "      [theme=dark] .colab-df-generate:hover {\n",
              "        background-color: #434B5C;\n",
              "        box-shadow: 0px 1px 3px 1px rgba(0, 0, 0, 0.15);\n",
              "        filter: drop-shadow(0px 1px 2px rgba(0, 0, 0, 0.3));\n",
              "        fill: #FFFFFF;\n",
              "      }\n",
              "    </style>\n",
              "    <button class=\"colab-df-generate\" onclick=\"generateWithVariable('targets')\"\n",
              "            title=\"Generate code using this dataframe.\"\n",
              "            style=\"display:none;\">\n",
              "\n",
              "  <svg xmlns=\"http://www.w3.org/2000/svg\" height=\"24px\"viewBox=\"0 0 24 24\"\n",
              "       width=\"24px\">\n",
              "    <path d=\"M7,19H8.4L18.45,9,17,7.55,7,17.6ZM5,21V16.75L18.45,3.32a2,2,0,0,1,2.83,0l1.4,1.43a1.91,1.91,0,0,1,.58,1.4,1.91,1.91,0,0,1-.58,1.4L9.25,21ZM18.45,9,17,7.55Zm-12,3A5.31,5.31,0,0,0,4.9,8.1,5.31,5.31,0,0,0,1,6.5,5.31,5.31,0,0,0,4.9,4.9,5.31,5.31,0,0,0,6.5,1,5.31,5.31,0,0,0,8.1,4.9,5.31,5.31,0,0,0,12,6.5,5.46,5.46,0,0,0,6.5,12Z\"/>\n",
              "  </svg>\n",
              "    </button>\n",
              "    <script>\n",
              "      (() => {\n",
              "      const buttonEl =\n",
              "        document.querySelector('#id_5a6a0ac7-df3a-4a81-b70b-d775eb88a206 button.colab-df-generate');\n",
              "      buttonEl.style.display =\n",
              "        google.colab.kernel.accessAllowed ? 'block' : 'none';\n",
              "\n",
              "      buttonEl.onclick = () => {\n",
              "        google.colab.notebook.generateWithVariable('targets');\n",
              "      }\n",
              "      })();\n",
              "    </script>\n",
              "  </div>\n",
              "\n",
              "    </div>\n",
              "  </div>\n"
            ],
            "application/vnd.google.colaboratory.intrinsic+json": {
              "type": "dataframe",
              "variable_name": "targets",
              "summary": "{\n  \"name\": \"targets\",\n  \"rows\": 1624,\n  \"fields\": [\n    {\n      \"column\": \"Q0_TOTAL_ASSETS\",\n      \"properties\": {\n        \"dtype\": \"number\",\n        \"std\": 26366381533.242573,\n        \"min\": -195331000000.0,\n        \"max\": 384830000000.0,\n        \"num_unique_values\": 1605,\n        \"samples\": [\n          104633000.0,\n          123749000000.0,\n          84073.0\n        ],\n        \"semantic_type\": \"\",\n        \"description\": \"\"\n      }\n    },\n    {\n      \"column\": \"Q0_TOTAL_LIABILITIES\",\n      \"properties\": {\n        \"dtype\": \"number\",\n        \"std\": 16243727637.119396,\n        \"min\": -139965000000.0,\n        \"max\": 212717000000.0,\n        \"num_unique_values\": 1605,\n        \"samples\": [\n          213515000.0,\n          77607000000.0,\n          2814055.0\n        ],\n        \"semantic_type\": \"\",\n        \"description\": \"\"\n      }\n    },\n    {\n      \"column\": \"Q0_TOTAL_STOCKHOLDERS_EQUITY\",\n      \"properties\": {\n        \"dtype\": \"number\",\n        \"std\": 11691092662.952324,\n        \"min\": -97848000000.0,\n        \"max\": 180718140097.6792,\n        \"num_unique_values\": 1603,\n        \"samples\": [\n          3852913.0,\n          119471000.0,\n          -2729982.0\n        ],\n        \"semantic_type\": \"\",\n        \"description\": \"\"\n      }\n    },\n    {\n      \"column\": \"Q0_GROSS_PROFIT\",\n      \"properties\": {\n        \"dtype\": \"number\",\n        \"std\": 1817922670.362002,\n        \"min\": -917000000.0,\n        \"max\": 37186000000.0,\n        \"num_unique_values\": 1545,\n        \"samples\": [\n          1264169.0,\n          25259000.0,\n          127287000.0\n        ],\n        \"semantic_type\": \"\",\n        \"description\": \"\"\n      }\n    },\n    {\n      \"column\": \"Q0_COST_OF_REVENUES\",\n      \"properties\": {\n        \"dtype\": \"number\",\n        \"std\": 3085667452.705768,\n        \"min\": -15873000000.0,\n        \"max\": 50749000000.0,\n        \"num_unique_values\": 1397,\n        \"samples\": [\n          464081000.0,\n          24619000.0,\n          1043000000.0\n        ],\n        \"semantic_type\": \"\",\n        \"description\": \"\"\n      }\n    },\n    {\n      \"column\": \"Q0_REVENUES\",\n      \"properties\": {\n        \"dtype\": \"number\",\n        \"std\": 4041766682.6571074,\n        \"min\": -385000000.0,\n        \"max\": 49048000000.0,\n        \"num_unique_values\": 1542,\n        \"samples\": [\n          211369000.0,\n          140000.0,\n          53201000.0\n        ],\n        \"semantic_type\": \"\",\n        \"description\": \"\"\n      }\n    },\n    {\n      \"column\": \"Q0_OPERATING_INCOME\",\n      \"properties\": {\n        \"dtype\": \"number\",\n        \"std\": 631054263.9453919,\n        \"min\": -2654000000.0,\n        \"max\": 13748000000.0,\n        \"num_unique_values\": 1583,\n        \"samples\": [\n          1916394000.0,\n          19006000.0,\n          -1482000.0\n        ],\n        \"semantic_type\": \"\",\n        \"description\": \"\"\n      }\n    },\n    {\n      \"column\": \"Q0_OPERATING_EXPENSES\",\n      \"properties\": {\n        \"dtype\": \"number\",\n        \"std\": 1553039099.421891,\n        \"min\": -24030000.0,\n        \"max\": 41118000000.0,\n        \"num_unique_values\": 1594,\n        \"samples\": [\n          118830000.0,\n          955990.0,\n          17527879.0\n        ],\n        \"semantic_type\": \"\",\n        \"description\": \"\"\n      }\n    },\n    {\n      \"column\": \"Q0_EBITDA\",\n      \"properties\": {\n        \"dtype\": \"number\",\n        \"std\": 1438215965.4134254,\n        \"min\": -32829000000.0,\n        \"max\": 34138000000.0,\n        \"num_unique_values\": 1584,\n        \"samples\": [\n          234800000.0,\n          444977000.0,\n          11983000.0\n        ],\n        \"semantic_type\": \"\",\n        \"description\": \"\"\n      }\n    }\n  ]\n}"
            }
          },
          "metadata": {},
          "execution_count": 25
        }
      ],
      "id": "Zr9xLRz88Gfy"
    },
    {
      "cell_type": "code",
      "source": [
        "model = XGBRegressor()\n",
        "from sklearn.svm import SVC,SVR\n",
        "\n",
        "from sklearn.tree import DecisionTreeClassifier,DecisionTreeRegressor\n",
        "from sklearn.ensemble import RandomForestClassifier,RandomForestRegressor\n",
        "REG_svm = SVR(kernel='rbf',C= 1.0, gamma='auto')\n",
        "\n",
        "rfc=RandomForestClassifier()\n",
        "dfc=DecisionTreeClassifier()\n",
        "d_tree=DecisionTreeRegressor(criterion='squared_error',splitter='random',max_depth=4)\n",
        "rf_forest=RandomForestRegressor(n_estimators=100,criterion='squared_error',max_features='sqrt',max_depth=4)\n",
        "from sklearn.model_selection import StratifiedKFold, cross_val_score, GridSearchCV, RandomizedSearchCV\n",
        "#rfc_param={\"n_estimators\":range(5,150,10),\"max_features\":['sqrt'] ,'max_depth':range(2,50,1) ,\"min_samples_leaf\":range(2,15,1) ,\"min_samples_split\":range(2,25,1)  }\n",
        "#model = XGBRegressor()\n",
        "#reg_tree=RandomizedSearchCV(estimator= d_tree,scoring='r2', param_distributions= rfc_param,cv=2,n_jobs=-1,random_state=42)"
      ],
      "metadata": {
        "papermill": {
          "duration": 0.02542,
          "end_time": "2024-02-22T09:23:49.33112",
          "exception": false,
          "start_time": "2024-02-22T09:23:49.3057",
          "status": "completed"
        },
        "tags": [],
        "execution": {
          "iopub.status.busy": "2024-03-07T12:39:59.459688Z",
          "iopub.execute_input": "2024-03-07T12:39:59.460058Z",
          "iopub.status.idle": "2024-03-07T12:39:59.523312Z",
          "shell.execute_reply.started": "2024-03-07T12:39:59.460025Z",
          "shell.execute_reply": "2024-03-07T12:39:59.522323Z"
        },
        "trusted": true,
        "id": "FMUeib8P8Gf0"
      },
      "execution_count": 26,
      "outputs": [],
      "id": "FMUeib8P8Gf0"
    },
    {
      "cell_type": "code",
      "source": [
        "print('Cross validation R2 scores for each target:\\n')\n",
        "cross_val_score_results = {}\n",
        "for target in targets:\n",
        "    score = np.round(np.mean(cvs(rf_forest, train, targets[target], cv=10, scoring='r2')),2)\n",
        "    cross_val_score_results[target] = score\n",
        "    print(f'{target} -> {score}')\n",
        "print(f'\\nMean R2 score across all targets: {np.mean(list(cross_val_score_results.values()))}')"
      ],
      "metadata": {
        "papermill": {
          "duration": 64.521823,
          "end_time": "2024-02-22T09:24:53.869062",
          "exception": false,
          "start_time": "2024-02-22T09:23:49.347239",
          "status": "completed"
        },
        "tags": [],
        "execution": {
          "iopub.status.busy": "2024-03-07T12:39:59.524554Z",
          "iopub.execute_input": "2024-03-07T12:39:59.524903Z",
          "iopub.status.idle": "2024-03-07T12:40:50.313913Z",
          "shell.execute_reply.started": "2024-03-07T12:39:59.524868Z",
          "shell.execute_reply": "2024-03-07T12:40:50.31285Z"
        },
        "trusted": true,
        "colab": {
          "base_uri": "https://localhost:8080/"
        },
        "id": "_M4lJF-e8Gf1",
        "outputId": "72e99199-3a89-445b-b946-2ea9d86b2e90"
      },
      "execution_count": 27,
      "outputs": [
        {
          "output_type": "stream",
          "name": "stdout",
          "text": [
            "Cross validation R2 scores for each target:\n",
            "\n",
            "Q0_TOTAL_ASSETS -> 0.83\n",
            "Q0_TOTAL_LIABILITIES -> 0.7\n",
            "Q0_TOTAL_STOCKHOLDERS_EQUITY -> 0.77\n",
            "Q0_GROSS_PROFIT -> 0.84\n",
            "Q0_COST_OF_REVENUES -> 0.87\n",
            "Q0_REVENUES -> 0.91\n",
            "Q0_OPERATING_INCOME -> 0.68\n",
            "Q0_OPERATING_EXPENSES -> 0.78\n",
            "Q0_EBITDA -> 0.41\n",
            "\n",
            "Mean R2 score across all targets: 0.7544444444444445\n"
          ]
        }
      ],
      "id": "_M4lJF-e8Gf1"
    },
    {
      "cell_type": "markdown",
      "source": [
        "Arbitrary results. EBITDA R2 is negative, but the rest are not bad. Let's try to upload a first submission."
      ],
      "metadata": {
        "papermill": {
          "duration": 0.017663,
          "end_time": "2024-02-22T09:24:53.905657",
          "exception": false,
          "start_time": "2024-02-22T09:24:53.887994",
          "status": "completed"
        },
        "tags": [],
        "id": "Xd5HomIn8Gf2"
      },
      "id": "Xd5HomIn8Gf2"
    },
    {
      "cell_type": "markdown",
      "source": [
        "## Train same model on the whole trains set, predict on test, save to dictionary"
      ],
      "metadata": {
        "papermill": {
          "duration": 0.017472,
          "end_time": "2024-02-22T09:24:53.940244",
          "exception": false,
          "start_time": "2024-02-22T09:24:53.922772",
          "status": "completed"
        },
        "tags": [],
        "id": "u9O-BtBO8Gf3"
      },
      "id": "u9O-BtBO8Gf3"
    },
    {
      "cell_type": "code",
      "source": [
        "preds = {}\n",
        "for target in targets:\n",
        "    rf_forest.fit(train, targets[target])\n",
        "    pred = rf_forest.predict(test)\n",
        "    preds[target] = pred\n",
        "    print(f'Finished train/predict for: {target}')"
      ],
      "metadata": {
        "papermill": {
          "duration": 22.850306,
          "end_time": "2024-02-22T09:25:16.80756",
          "exception": false,
          "start_time": "2024-02-22T09:24:53.957254",
          "status": "completed"
        },
        "tags": [],
        "execution": {
          "iopub.status.busy": "2024-03-07T12:40:50.315047Z",
          "iopub.execute_input": "2024-03-07T12:40:50.315381Z",
          "iopub.status.idle": "2024-03-07T12:40:55.683956Z",
          "shell.execute_reply.started": "2024-03-07T12:40:50.315341Z",
          "shell.execute_reply": "2024-03-07T12:40:55.682891Z"
        },
        "trusted": true,
        "colab": {
          "base_uri": "https://localhost:8080/"
        },
        "id": "Y5ic6Ubo8Gf3",
        "outputId": "6b632f0e-9fb7-4f12-ea7c-804df237c11a"
      },
      "execution_count": 28,
      "outputs": [
        {
          "output_type": "stream",
          "name": "stdout",
          "text": [
            "Finished train/predict for: Q0_TOTAL_ASSETS\n",
            "Finished train/predict for: Q0_TOTAL_LIABILITIES\n",
            "Finished train/predict for: Q0_TOTAL_STOCKHOLDERS_EQUITY\n",
            "Finished train/predict for: Q0_GROSS_PROFIT\n",
            "Finished train/predict for: Q0_COST_OF_REVENUES\n",
            "Finished train/predict for: Q0_REVENUES\n",
            "Finished train/predict for: Q0_OPERATING_INCOME\n",
            "Finished train/predict for: Q0_OPERATING_EXPENSES\n",
            "Finished train/predict for: Q0_EBITDA\n"
          ]
        }
      ],
      "id": "Y5ic6Ubo8Gf3"
    },
    {
      "cell_type": "markdown",
      "source": [
        "## Make submission"
      ],
      "metadata": {
        "papermill": {
          "duration": 0.017542,
          "end_time": "2024-02-22T09:25:16.844707",
          "exception": false,
          "start_time": "2024-02-22T09:25:16.827165",
          "status": "completed"
        },
        "tags": [],
        "id": "kGFS3Sco8Gf4"
      },
      "id": "kGFS3Sco8Gf4"
    },
    {
      "cell_type": "code",
      "source": [
        "sub = pd.read_csv('/kaggle/input/financial-performance-prediction/sample_submission.csv')"
      ],
      "metadata": {
        "papermill": {
          "duration": 0.03566,
          "end_time": "2024-02-22T09:25:16.898193",
          "exception": false,
          "start_time": "2024-02-22T09:25:16.862533",
          "status": "completed"
        },
        "tags": [],
        "execution": {
          "iopub.status.busy": "2024-03-07T12:40:55.688379Z",
          "iopub.execute_input": "2024-03-07T12:40:55.688677Z",
          "iopub.status.idle": "2024-03-07T12:40:55.695259Z",
          "shell.execute_reply.started": "2024-03-07T12:40:55.688651Z",
          "shell.execute_reply": "2024-03-07T12:40:55.694404Z"
        },
        "trusted": true,
        "id": "dC7gZGz28Gf5"
      },
      "execution_count": 29,
      "outputs": [],
      "id": "dC7gZGz28Gf5"
    },
    {
      "cell_type": "code",
      "source": [
        "# sanity check\n",
        "sub.Id == test.Id"
      ],
      "metadata": {
        "papermill": {
          "duration": 0.031672,
          "end_time": "2024-02-22T09:25:16.948839",
          "exception": false,
          "start_time": "2024-02-22T09:25:16.917167",
          "status": "completed"
        },
        "tags": [],
        "execution": {
          "iopub.status.busy": "2024-03-07T12:40:55.696353Z",
          "iopub.execute_input": "2024-03-07T12:40:55.696658Z",
          "iopub.status.idle": "2024-03-07T12:40:55.713213Z",
          "shell.execute_reply.started": "2024-03-07T12:40:55.696633Z",
          "shell.execute_reply": "2024-03-07T12:40:55.712411Z"
        },
        "trusted": true,
        "colab": {
          "base_uri": "https://localhost:8080/"
        },
        "id": "mWI6eg-28GgC",
        "outputId": "fa1413c6-7706-4f9d-fd44-4c3520c3569e"
      },
      "execution_count": 30,
      "outputs": [
        {
          "output_type": "execute_result",
          "data": {
            "text/plain": [
              "0      True\n",
              "1      True\n",
              "2      True\n",
              "3      True\n",
              "4      True\n",
              "       ... \n",
              "401    True\n",
              "402    True\n",
              "403    True\n",
              "404    True\n",
              "405    True\n",
              "Name: Id, Length: 406, dtype: bool"
            ]
          },
          "metadata": {},
          "execution_count": 30
        }
      ],
      "id": "mWI6eg-28GgC"
    },
    {
      "cell_type": "code",
      "source": [
        "for target in preds:\n",
        "    sub[target] = preds[target]\n",
        "sub.head()"
      ],
      "metadata": {
        "papermill": {
          "duration": 0.044316,
          "end_time": "2024-02-22T09:25:17.010967",
          "exception": false,
          "start_time": "2024-02-22T09:25:16.966651",
          "status": "completed"
        },
        "tags": [],
        "execution": {
          "iopub.status.busy": "2024-03-07T12:40:55.714707Z",
          "iopub.execute_input": "2024-03-07T12:40:55.715102Z",
          "iopub.status.idle": "2024-03-07T12:40:55.735454Z",
          "shell.execute_reply.started": "2024-03-07T12:40:55.715069Z",
          "shell.execute_reply": "2024-03-07T12:40:55.734458Z"
        },
        "trusted": true,
        "colab": {
          "base_uri": "https://localhost:8080/",
          "height": 226
        },
        "id": "g5oqEZGD8GgE",
        "outputId": "10cd8cfc-63f3-4c39-8fb5-65d3cf87c615"
      },
      "execution_count": 31,
      "outputs": [
        {
          "output_type": "execute_result",
          "data": {
            "text/plain": [
              "     Id   Q0_REVENUES  Q0_COST_OF_REVENUES  Q0_GROSS_PROFIT  \\\n",
              "0   480  8.241275e+07         7.165119e+07     4.077679e+07   \n",
              "1   573  7.349296e+08         2.571748e+08     2.351013e+08   \n",
              "2  1967  8.241275e+07         7.165119e+07     4.077679e+07   \n",
              "3    57  5.499801e+08         1.826125e+08     1.927335e+08   \n",
              "4   131  9.934412e+08         6.192011e+08     2.464352e+08   \n",
              "\n",
              "   Q0_OPERATING_EXPENSES     Q0_EBITDA  Q0_OPERATING_INCOME  Q0_TOTAL_ASSETS  \\\n",
              "0           5.617852e+07  1.815882e+07         9.656212e+06     1.612206e+09   \n",
              "1           1.688654e+08  1.815882e+07         1.233766e+07     1.731696e+09   \n",
              "2           5.617852e+07  1.815882e+07         9.656212e+06     1.612206e+09   \n",
              "3           1.485328e+08  1.815882e+07         1.685489e+07     2.589125e+09   \n",
              "4           1.682185e+08  1.815882e+07         2.497256e+07     2.160349e+09   \n",
              "\n",
              "   Q0_TOTAL_LIABILITIES  Q0_TOTAL_STOCKHOLDERS_EQUITY  \n",
              "0          1.002670e+09                  5.247569e+08  \n",
              "1          1.002670e+09                  6.480068e+08  \n",
              "2          1.002670e+09                  5.247569e+08  \n",
              "3          1.524834e+09                  1.619934e+09  \n",
              "4          1.399015e+09                  7.035041e+08  "
            ],
            "text/html": [
              "\n",
              "  <div id=\"df-23cf2949-ff31-450a-aa57-99836057401d\" class=\"colab-df-container\">\n",
              "    <div>\n",
              "<style scoped>\n",
              "    .dataframe tbody tr th:only-of-type {\n",
              "        vertical-align: middle;\n",
              "    }\n",
              "\n",
              "    .dataframe tbody tr th {\n",
              "        vertical-align: top;\n",
              "    }\n",
              "\n",
              "    .dataframe thead th {\n",
              "        text-align: right;\n",
              "    }\n",
              "</style>\n",
              "<table border=\"1\" class=\"dataframe\">\n",
              "  <thead>\n",
              "    <tr style=\"text-align: right;\">\n",
              "      <th></th>\n",
              "      <th>Id</th>\n",
              "      <th>Q0_REVENUES</th>\n",
              "      <th>Q0_COST_OF_REVENUES</th>\n",
              "      <th>Q0_GROSS_PROFIT</th>\n",
              "      <th>Q0_OPERATING_EXPENSES</th>\n",
              "      <th>Q0_EBITDA</th>\n",
              "      <th>Q0_OPERATING_INCOME</th>\n",
              "      <th>Q0_TOTAL_ASSETS</th>\n",
              "      <th>Q0_TOTAL_LIABILITIES</th>\n",
              "      <th>Q0_TOTAL_STOCKHOLDERS_EQUITY</th>\n",
              "    </tr>\n",
              "  </thead>\n",
              "  <tbody>\n",
              "    <tr>\n",
              "      <th>0</th>\n",
              "      <td>480</td>\n",
              "      <td>8.241275e+07</td>\n",
              "      <td>7.165119e+07</td>\n",
              "      <td>4.077679e+07</td>\n",
              "      <td>5.617852e+07</td>\n",
              "      <td>1.815882e+07</td>\n",
              "      <td>9.656212e+06</td>\n",
              "      <td>1.612206e+09</td>\n",
              "      <td>1.002670e+09</td>\n",
              "      <td>5.247569e+08</td>\n",
              "    </tr>\n",
              "    <tr>\n",
              "      <th>1</th>\n",
              "      <td>573</td>\n",
              "      <td>7.349296e+08</td>\n",
              "      <td>2.571748e+08</td>\n",
              "      <td>2.351013e+08</td>\n",
              "      <td>1.688654e+08</td>\n",
              "      <td>1.815882e+07</td>\n",
              "      <td>1.233766e+07</td>\n",
              "      <td>1.731696e+09</td>\n",
              "      <td>1.002670e+09</td>\n",
              "      <td>6.480068e+08</td>\n",
              "    </tr>\n",
              "    <tr>\n",
              "      <th>2</th>\n",
              "      <td>1967</td>\n",
              "      <td>8.241275e+07</td>\n",
              "      <td>7.165119e+07</td>\n",
              "      <td>4.077679e+07</td>\n",
              "      <td>5.617852e+07</td>\n",
              "      <td>1.815882e+07</td>\n",
              "      <td>9.656212e+06</td>\n",
              "      <td>1.612206e+09</td>\n",
              "      <td>1.002670e+09</td>\n",
              "      <td>5.247569e+08</td>\n",
              "    </tr>\n",
              "    <tr>\n",
              "      <th>3</th>\n",
              "      <td>57</td>\n",
              "      <td>5.499801e+08</td>\n",
              "      <td>1.826125e+08</td>\n",
              "      <td>1.927335e+08</td>\n",
              "      <td>1.485328e+08</td>\n",
              "      <td>1.815882e+07</td>\n",
              "      <td>1.685489e+07</td>\n",
              "      <td>2.589125e+09</td>\n",
              "      <td>1.524834e+09</td>\n",
              "      <td>1.619934e+09</td>\n",
              "    </tr>\n",
              "    <tr>\n",
              "      <th>4</th>\n",
              "      <td>131</td>\n",
              "      <td>9.934412e+08</td>\n",
              "      <td>6.192011e+08</td>\n",
              "      <td>2.464352e+08</td>\n",
              "      <td>1.682185e+08</td>\n",
              "      <td>1.815882e+07</td>\n",
              "      <td>2.497256e+07</td>\n",
              "      <td>2.160349e+09</td>\n",
              "      <td>1.399015e+09</td>\n",
              "      <td>7.035041e+08</td>\n",
              "    </tr>\n",
              "  </tbody>\n",
              "</table>\n",
              "</div>\n",
              "    <div class=\"colab-df-buttons\">\n",
              "\n",
              "  <div class=\"colab-df-container\">\n",
              "    <button class=\"colab-df-convert\" onclick=\"convertToInteractive('df-23cf2949-ff31-450a-aa57-99836057401d')\"\n",
              "            title=\"Convert this dataframe to an interactive table.\"\n",
              "            style=\"display:none;\">\n",
              "\n",
              "  <svg xmlns=\"http://www.w3.org/2000/svg\" height=\"24px\" viewBox=\"0 -960 960 960\">\n",
              "    <path d=\"M120-120v-720h720v720H120Zm60-500h600v-160H180v160Zm220 220h160v-160H400v160Zm0 220h160v-160H400v160ZM180-400h160v-160H180v160Zm440 0h160v-160H620v160ZM180-180h160v-160H180v160Zm440 0h160v-160H620v160Z\"/>\n",
              "  </svg>\n",
              "    </button>\n",
              "\n",
              "  <style>\n",
              "    .colab-df-container {\n",
              "      display:flex;\n",
              "      gap: 12px;\n",
              "    }\n",
              "\n",
              "    .colab-df-convert {\n",
              "      background-color: #E8F0FE;\n",
              "      border: none;\n",
              "      border-radius: 50%;\n",
              "      cursor: pointer;\n",
              "      display: none;\n",
              "      fill: #1967D2;\n",
              "      height: 32px;\n",
              "      padding: 0 0 0 0;\n",
              "      width: 32px;\n",
              "    }\n",
              "\n",
              "    .colab-df-convert:hover {\n",
              "      background-color: #E2EBFA;\n",
              "      box-shadow: 0px 1px 2px rgba(60, 64, 67, 0.3), 0px 1px 3px 1px rgba(60, 64, 67, 0.15);\n",
              "      fill: #174EA6;\n",
              "    }\n",
              "\n",
              "    .colab-df-buttons div {\n",
              "      margin-bottom: 4px;\n",
              "    }\n",
              "\n",
              "    [theme=dark] .colab-df-convert {\n",
              "      background-color: #3B4455;\n",
              "      fill: #D2E3FC;\n",
              "    }\n",
              "\n",
              "    [theme=dark] .colab-df-convert:hover {\n",
              "      background-color: #434B5C;\n",
              "      box-shadow: 0px 1px 3px 1px rgba(0, 0, 0, 0.15);\n",
              "      filter: drop-shadow(0px 1px 2px rgba(0, 0, 0, 0.3));\n",
              "      fill: #FFFFFF;\n",
              "    }\n",
              "  </style>\n",
              "\n",
              "    <script>\n",
              "      const buttonEl =\n",
              "        document.querySelector('#df-23cf2949-ff31-450a-aa57-99836057401d button.colab-df-convert');\n",
              "      buttonEl.style.display =\n",
              "        google.colab.kernel.accessAllowed ? 'block' : 'none';\n",
              "\n",
              "      async function convertToInteractive(key) {\n",
              "        const element = document.querySelector('#df-23cf2949-ff31-450a-aa57-99836057401d');\n",
              "        const dataTable =\n",
              "          await google.colab.kernel.invokeFunction('convertToInteractive',\n",
              "                                                    [key], {});\n",
              "        if (!dataTable) return;\n",
              "\n",
              "        const docLinkHtml = 'Like what you see? Visit the ' +\n",
              "          '<a target=\"_blank\" href=https://colab.research.google.com/notebooks/data_table.ipynb>data table notebook</a>'\n",
              "          + ' to learn more about interactive tables.';\n",
              "        element.innerHTML = '';\n",
              "        dataTable['output_type'] = 'display_data';\n",
              "        await google.colab.output.renderOutput(dataTable, element);\n",
              "        const docLink = document.createElement('div');\n",
              "        docLink.innerHTML = docLinkHtml;\n",
              "        element.appendChild(docLink);\n",
              "      }\n",
              "    </script>\n",
              "  </div>\n",
              "\n",
              "\n",
              "<div id=\"df-7741a12a-8da2-44c5-94e7-2be8e2419f88\">\n",
              "  <button class=\"colab-df-quickchart\" onclick=\"quickchart('df-7741a12a-8da2-44c5-94e7-2be8e2419f88')\"\n",
              "            title=\"Suggest charts\"\n",
              "            style=\"display:none;\">\n",
              "\n",
              "<svg xmlns=\"http://www.w3.org/2000/svg\" height=\"24px\"viewBox=\"0 0 24 24\"\n",
              "     width=\"24px\">\n",
              "    <g>\n",
              "        <path d=\"M19 3H5c-1.1 0-2 .9-2 2v14c0 1.1.9 2 2 2h14c1.1 0 2-.9 2-2V5c0-1.1-.9-2-2-2zM9 17H7v-7h2v7zm4 0h-2V7h2v10zm4 0h-2v-4h2v4z\"/>\n",
              "    </g>\n",
              "</svg>\n",
              "  </button>\n",
              "\n",
              "<style>\n",
              "  .colab-df-quickchart {\n",
              "      --bg-color: #E8F0FE;\n",
              "      --fill-color: #1967D2;\n",
              "      --hover-bg-color: #E2EBFA;\n",
              "      --hover-fill-color: #174EA6;\n",
              "      --disabled-fill-color: #AAA;\n",
              "      --disabled-bg-color: #DDD;\n",
              "  }\n",
              "\n",
              "  [theme=dark] .colab-df-quickchart {\n",
              "      --bg-color: #3B4455;\n",
              "      --fill-color: #D2E3FC;\n",
              "      --hover-bg-color: #434B5C;\n",
              "      --hover-fill-color: #FFFFFF;\n",
              "      --disabled-bg-color: #3B4455;\n",
              "      --disabled-fill-color: #666;\n",
              "  }\n",
              "\n",
              "  .colab-df-quickchart {\n",
              "    background-color: var(--bg-color);\n",
              "    border: none;\n",
              "    border-radius: 50%;\n",
              "    cursor: pointer;\n",
              "    display: none;\n",
              "    fill: var(--fill-color);\n",
              "    height: 32px;\n",
              "    padding: 0;\n",
              "    width: 32px;\n",
              "  }\n",
              "\n",
              "  .colab-df-quickchart:hover {\n",
              "    background-color: var(--hover-bg-color);\n",
              "    box-shadow: 0 1px 2px rgba(60, 64, 67, 0.3), 0 1px 3px 1px rgba(60, 64, 67, 0.15);\n",
              "    fill: var(--button-hover-fill-color);\n",
              "  }\n",
              "\n",
              "  .colab-df-quickchart-complete:disabled,\n",
              "  .colab-df-quickchart-complete:disabled:hover {\n",
              "    background-color: var(--disabled-bg-color);\n",
              "    fill: var(--disabled-fill-color);\n",
              "    box-shadow: none;\n",
              "  }\n",
              "\n",
              "  .colab-df-spinner {\n",
              "    border: 2px solid var(--fill-color);\n",
              "    border-color: transparent;\n",
              "    border-bottom-color: var(--fill-color);\n",
              "    animation:\n",
              "      spin 1s steps(1) infinite;\n",
              "  }\n",
              "\n",
              "  @keyframes spin {\n",
              "    0% {\n",
              "      border-color: transparent;\n",
              "      border-bottom-color: var(--fill-color);\n",
              "      border-left-color: var(--fill-color);\n",
              "    }\n",
              "    20% {\n",
              "      border-color: transparent;\n",
              "      border-left-color: var(--fill-color);\n",
              "      border-top-color: var(--fill-color);\n",
              "    }\n",
              "    30% {\n",
              "      border-color: transparent;\n",
              "      border-left-color: var(--fill-color);\n",
              "      border-top-color: var(--fill-color);\n",
              "      border-right-color: var(--fill-color);\n",
              "    }\n",
              "    40% {\n",
              "      border-color: transparent;\n",
              "      border-right-color: var(--fill-color);\n",
              "      border-top-color: var(--fill-color);\n",
              "    }\n",
              "    60% {\n",
              "      border-color: transparent;\n",
              "      border-right-color: var(--fill-color);\n",
              "    }\n",
              "    80% {\n",
              "      border-color: transparent;\n",
              "      border-right-color: var(--fill-color);\n",
              "      border-bottom-color: var(--fill-color);\n",
              "    }\n",
              "    90% {\n",
              "      border-color: transparent;\n",
              "      border-bottom-color: var(--fill-color);\n",
              "    }\n",
              "  }\n",
              "</style>\n",
              "\n",
              "  <script>\n",
              "    async function quickchart(key) {\n",
              "      const quickchartButtonEl =\n",
              "        document.querySelector('#' + key + ' button');\n",
              "      quickchartButtonEl.disabled = true;  // To prevent multiple clicks.\n",
              "      quickchartButtonEl.classList.add('colab-df-spinner');\n",
              "      try {\n",
              "        const charts = await google.colab.kernel.invokeFunction(\n",
              "            'suggestCharts', [key], {});\n",
              "      } catch (error) {\n",
              "        console.error('Error during call to suggestCharts:', error);\n",
              "      }\n",
              "      quickchartButtonEl.classList.remove('colab-df-spinner');\n",
              "      quickchartButtonEl.classList.add('colab-df-quickchart-complete');\n",
              "    }\n",
              "    (() => {\n",
              "      let quickchartButtonEl =\n",
              "        document.querySelector('#df-7741a12a-8da2-44c5-94e7-2be8e2419f88 button');\n",
              "      quickchartButtonEl.style.display =\n",
              "        google.colab.kernel.accessAllowed ? 'block' : 'none';\n",
              "    })();\n",
              "  </script>\n",
              "</div>\n",
              "\n",
              "    </div>\n",
              "  </div>\n"
            ],
            "application/vnd.google.colaboratory.intrinsic+json": {
              "type": "dataframe",
              "variable_name": "sub",
              "summary": "{\n  \"name\": \"sub\",\n  \"rows\": 406,\n  \"fields\": [\n    {\n      \"column\": \"Id\",\n      \"properties\": {\n        \"dtype\": \"number\",\n        \"std\": 590,\n        \"min\": 2,\n        \"max\": 2026,\n        \"num_unique_values\": 406,\n        \"samples\": [\n          1300,\n          1914,\n          519\n        ],\n        \"semantic_type\": \"\",\n        \"description\": \"\"\n      }\n    },\n    {\n      \"column\": \"Q0_REVENUES\",\n      \"properties\": {\n        \"dtype\": \"number\",\n        \"std\": 3763909357.723378,\n        \"min\": 82412751.36451273,\n        \"max\": 40678116140.33189,\n        \"num_unique_values\": 207,\n        \"samples\": [\n          581346436.7544643,\n          4043345934.8855543,\n          2798656762.8751736\n        ],\n        \"semantic_type\": \"\",\n        \"description\": \"\"\n      }\n    },\n    {\n      \"column\": \"Q0_COST_OF_REVENUES\",\n      \"properties\": {\n        \"dtype\": \"number\",\n        \"std\": 2779950240.341263,\n        \"min\": 71651185.44205055,\n        \"max\": 34490126782.46754,\n        \"num_unique_values\": 175,\n        \"samples\": [\n          90789874.85295048,\n          778387724.3343959,\n          117158622.99513958\n        ],\n        \"semantic_type\": \"\",\n        \"description\": \"\"\n      }\n    },\n    {\n      \"column\": \"Q0_GROSS_PROFIT\",\n      \"properties\": {\n        \"dtype\": \"number\",\n        \"std\": 1918843221.3312135,\n        \"min\": 40776793.15238956,\n        \"max\": 25300598484.126987,\n        \"num_unique_values\": 216,\n        \"samples\": [\n          42527289.25554813,\n          636770858.7597136,\n          749732291.8791151\n        ],\n        \"semantic_type\": \"\",\n        \"description\": \"\"\n      }\n    },\n    {\n      \"column\": \"Q0_OPERATING_EXPENSES\",\n      \"properties\": {\n        \"dtype\": \"number\",\n        \"std\": 1500289844.8551521,\n        \"min\": 56178516.76194306,\n        \"max\": 21735123452.792213,\n        \"num_unique_values\": 193,\n        \"samples\": [\n          323108863.9024517,\n          610169870.0283763,\n          68267990.84452228\n        ],\n        \"semantic_type\": \"\",\n        \"description\": \"\"\n      }\n    },\n    {\n      \"column\": \"Q0_EBITDA\",\n      \"properties\": {\n        \"dtype\": \"number\",\n        \"std\": 1041219448.2444867,\n        \"min\": -3824337309.481181,\n        \"max\": 19186168827.67929,\n        \"num_unique_values\": 91,\n        \"samples\": [\n          1657923771.8191671,\n          21988380.61471898,\n          159632722.64645538\n        ],\n        \"semantic_type\": \"\",\n        \"description\": \"\"\n      }\n    },\n    {\n      \"column\": \"Q0_OPERATING_INCOME\",\n      \"properties\": {\n        \"dtype\": \"number\",\n        \"std\": 540728157.6777285,\n        \"min\": -1478842719.2209954,\n        \"max\": 7128362200.306327,\n        \"num_unique_values\": 136,\n        \"samples\": [\n          16925511.506444197,\n          123225381.64084278,\n          434804422.13664174\n        ],\n        \"semantic_type\": \"\",\n        \"description\": \"\"\n      }\n    },\n    {\n      \"column\": \"Q0_TOTAL_ASSETS\",\n      \"properties\": {\n        \"dtype\": \"number\",\n        \"std\": 27440303167.115078,\n        \"min\": -138049061341.26984,\n        \"max\": 253280284214.2857,\n        \"num_unique_values\": 110,\n        \"samples\": [\n          56585515357.75253,\n          9317060882.353012,\n          6543461378.626418\n        ],\n        \"semantic_type\": \"\",\n        \"description\": \"\"\n      }\n    },\n    {\n      \"column\": \"Q0_TOTAL_LIABILITIES\",\n      \"properties\": {\n        \"dtype\": \"number\",\n        \"std\": 17395513186.01239,\n        \"min\": -35227549760.13989,\n        \"max\": 204904224282.02722,\n        \"num_unique_values\": 107,\n        \"samples\": [\n          7506457860.37572,\n          23628685413.90684,\n          4980152588.41813\n        ],\n        \"semantic_type\": \"\",\n        \"description\": \"\"\n      }\n    },\n    {\n      \"column\": \"Q0_TOTAL_STOCKHOLDERS_EQUITY\",\n      \"properties\": {\n        \"dtype\": \"number\",\n        \"std\": 9984641535.019043,\n        \"min\": -97831490909.0909,\n        \"max\": 90117313189.5515,\n        \"num_unique_values\": 151,\n        \"samples\": [\n          624540469.0571495,\n          951784611.3671732,\n          2743376628.133321\n        ],\n        \"semantic_type\": \"\",\n        \"description\": \"\"\n      }\n    }\n  ]\n}"
            }
          },
          "metadata": {},
          "execution_count": 31
        }
      ],
      "id": "g5oqEZGD8GgE"
    },
    {
      "cell_type": "code",
      "source": [
        "sub.to_csv('submission.csv', index = False)"
      ],
      "metadata": {
        "papermill": {
          "duration": 0.036792,
          "end_time": "2024-02-22T09:25:17.066324",
          "exception": false,
          "start_time": "2024-02-22T09:25:17.029532",
          "status": "completed"
        },
        "tags": [],
        "execution": {
          "iopub.status.busy": "2024-03-07T12:40:55.736766Z",
          "iopub.execute_input": "2024-03-07T12:40:55.737213Z",
          "iopub.status.idle": "2024-03-07T12:40:55.755932Z",
          "shell.execute_reply.started": "2024-03-07T12:40:55.737083Z",
          "shell.execute_reply": "2024-03-07T12:40:55.755173Z"
        },
        "trusted": true,
        "id": "4mZrEXTJ8GgG"
      },
      "execution_count": 32,
      "outputs": [],
      "id": "4mZrEXTJ8GgG"
    },
    {
      "cell_type": "code",
      "source": [
        "#ids = np.array(sub.Id)\n",
        "#preds.keys()"
      ],
      "metadata": {
        "papermill": {
          "duration": 0.027094,
          "end_time": "2024-02-22T09:25:17.111951",
          "exception": false,
          "start_time": "2024-02-22T09:25:17.084857",
          "status": "completed"
        },
        "tags": [],
        "execution": {
          "iopub.status.busy": "2024-03-07T12:40:55.757059Z",
          "iopub.execute_input": "2024-03-07T12:40:55.757725Z",
          "iopub.status.idle": "2024-03-07T12:40:55.761573Z",
          "shell.execute_reply.started": "2024-03-07T12:40:55.757689Z",
          "shell.execute_reply": "2024-03-07T12:40:55.760588Z"
        },
        "trusted": true,
        "id": "MgDmwbmS8GgJ"
      },
      "execution_count": 33,
      "outputs": [],
      "id": "MgDmwbmS8GgJ"
    },
    {
      "cell_type": "code",
      "source": [
        "# Write the submission file\n",
        "#np.savetxt(\n",
        "#    'submission.csv',\n",
        "#    np.rec.fromarrays([ids] + [pred for pred in list(preds.values())]),\n",
        "#    fmt=['%s', '%d', '%d', '%d', '%d', '%d', '%d', '%d', '%d', '%d'],\n",
        "#    delimiter=',',\n",
        "#    header='Id,Q0_TOTAL_ASSETS,Q0_TOTAL_LIABILITIES,Q0_TOTAL_STOCKHOLDERS_EQUITY,Q0_GROSS_PROFIT,Q0_COST_OF_REVENUES,Q0_REVENUES,Q0_OPERATING_INCOME,Q0_OPERATING_EXPENSES,Q0_EBITDA',\n",
        "#    comments='submission description from code',\n",
        "#)"
      ],
      "metadata": {
        "papermill": {
          "duration": 0.027425,
          "end_time": "2024-02-22T09:25:17.157558",
          "exception": false,
          "start_time": "2024-02-22T09:25:17.130133",
          "status": "completed"
        },
        "tags": [],
        "execution": {
          "iopub.status.busy": "2024-03-07T12:40:55.762799Z",
          "iopub.execute_input": "2024-03-07T12:40:55.763051Z",
          "iopub.status.idle": "2024-03-07T12:40:55.771874Z",
          "shell.execute_reply.started": "2024-03-07T12:40:55.763028Z",
          "shell.execute_reply": "2024-03-07T12:40:55.771079Z"
        },
        "trusted": true,
        "id": "MprFBMEc8GgK"
      },
      "execution_count": 34,
      "outputs": [],
      "id": "MprFBMEc8GgK"
    },
    {
      "cell_type": "code",
      "source": [],
      "metadata": {
        "papermill": {
          "duration": 0.018005,
          "end_time": "2024-02-22T09:25:17.195709",
          "exception": false,
          "start_time": "2024-02-22T09:25:17.177704",
          "status": "completed"
        },
        "tags": [],
        "id": "4SQYqnPK8GgK"
      },
      "execution_count": 34,
      "outputs": [],
      "id": "4SQYqnPK8GgK"
    }
  ]
}