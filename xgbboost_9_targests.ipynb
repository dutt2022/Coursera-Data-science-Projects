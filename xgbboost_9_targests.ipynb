{
  "metadata": {
    "kaggle": {
      "accelerator": "gpu",
      "dataSources": [
        {
          "sourceId": 70781,
          "databundleVersionId": 7733789,
          "sourceType": "competition"
        }
      ],
      "dockerImageVersionId": 30665,
      "isInternetEnabled": true,
      "language": "python",
      "sourceType": "notebook",
      "isGpuEnabled": true
    },
    "kernelspec": {
      "display_name": "Python 3",
      "language": "python",
      "name": "python3"
    },
    "language_info": {
      "codemirror_mode": {
        "name": "ipython",
        "version": 3
      },
      "file_extension": ".py",
      "mimetype": "text/x-python",
      "name": "python",
      "nbconvert_exporter": "python",
      "pygments_lexer": "ipython3",
      "version": "3.10.13"
    },
    "papermill": {
      "default_parameters": {},
      "duration": 96.042567,
      "end_time": "2024-02-22T09:25:17.83608",
      "environment_variables": {},
      "exception": null,
      "input_path": "__notebook__.ipynb",
      "output_path": "__notebook__.ipynb",
      "parameters": {},
      "start_time": "2024-02-22T09:23:41.793513",
      "version": "2.5.0"
    },
    "colab": {
      "name": "xgbboost_9 targests",
      "provenance": [],
      "include_colab_link": true
    }
  },
  "nbformat_minor": 0,
  "nbformat": 4,
  "cells": [
    {
      "cell_type": "markdown",
      "metadata": {
        "id": "view-in-github",
        "colab_type": "text"
      },
      "source": [
        "<a href=\"https://colab.research.google.com/github/dutt2022/Coursera-Data-science-Projects/blob/main/xgbboost_9_targests.ipynb\" target=\"_parent\"><img src=\"https://colab.research.google.com/assets/colab-badge.svg\" alt=\"Open In Colab\"/></a>"
      ]
    },
    {
      "source": [
        "\n",
        "# IMPORTANT: RUN THIS CELL IN ORDER TO IMPORT YOUR KAGGLE DATA SOURCES\n",
        "# TO THE CORRECT LOCATION (/kaggle/input) IN YOUR NOTEBOOK,\n",
        "# THEN FEEL FREE TO DELETE THIS CELL.\n",
        "# NOTE: THIS NOTEBOOK ENVIRONMENT DIFFERS FROM KAGGLE'S PYTHON\n",
        "# ENVIRONMENT SO THERE MAY BE MISSING LIBRARIES USED BY YOUR\n",
        "# NOTEBOOK.\n",
        "\n",
        "import os\n",
        "import sys\n",
        "from tempfile import NamedTemporaryFile\n",
        "from urllib.request import urlopen\n",
        "from urllib.parse import unquote, urlparse\n",
        "from urllib.error import HTTPError\n",
        "from zipfile import ZipFile\n",
        "import tarfile\n",
        "import shutil\n",
        "\n",
        "CHUNK_SIZE = 40960\n",
        "DATA_SOURCE_MAPPING = 'financial-performance-prediction:https%3A%2F%2Fstorage.googleapis.com%2Fkaggle-competitions-data%2Fkaggle-v2%2F70781%2F7733789%2Fbundle%2Farchive.zip%3FX-Goog-Algorithm%3DGOOG4-RSA-SHA256%26X-Goog-Credential%3Dgcp-kaggle-com%2540kaggle-161607.iam.gserviceaccount.com%252F20240307%252Fauto%252Fstorage%252Fgoog4_request%26X-Goog-Date%3D20240307T112846Z%26X-Goog-Expires%3D259200%26X-Goog-SignedHeaders%3Dhost%26X-Goog-Signature%3D1276e621ede41c3556cfafa0324160b0fdff1c3f6bfd91e89b9629823a7eff58303299e4dca367e489c4d62930755f952b3be91bd5fa926715d2bdfd2a002df4636861397dd62abbb3c437e500d3b8de7ad6725a674c3168f12f80fd1e6a0d66cf0291bf9864dd6f70035c2a7efe4777d6ea06f54f79f44b166085518e79fb0957d7944433e864b9babd87344d6813320947fb6dfdaf43a197261bf95f48b52906145bab5345739b837b0f0ce679fa1c1c54c5d3b7796db098f75bff16c955e59feb5c59f687659c78ba8ada5a591cc96793e485d4ca699d4c73ddeb5d7f5dd89745c1fa9cf1c591ef59bbb7356e4fc3e930eaeaf585c218cb32118163d2d9a8'\n",
        "\n",
        "KAGGLE_INPUT_PATH='/kaggle/input'\n",
        "KAGGLE_WORKING_PATH='/kaggle/working'\n",
        "KAGGLE_SYMLINK='kaggle'\n",
        "\n",
        "!umount /kaggle/input/ 2> /dev/null\n",
        "shutil.rmtree('/kaggle/input', ignore_errors=True)\n",
        "os.makedirs(KAGGLE_INPUT_PATH, 0o777, exist_ok=True)\n",
        "os.makedirs(KAGGLE_WORKING_PATH, 0o777, exist_ok=True)\n",
        "\n",
        "try:\n",
        "  os.symlink(KAGGLE_INPUT_PATH, os.path.join(\"..\", 'input'), target_is_directory=True)\n",
        "except FileExistsError:\n",
        "  pass\n",
        "try:\n",
        "  os.symlink(KAGGLE_WORKING_PATH, os.path.join(\"..\", 'working'), target_is_directory=True)\n",
        "except FileExistsError:\n",
        "  pass\n",
        "\n",
        "for data_source_mapping in DATA_SOURCE_MAPPING.split(','):\n",
        "    directory, download_url_encoded = data_source_mapping.split(':')\n",
        "    download_url = unquote(download_url_encoded)\n",
        "    filename = urlparse(download_url).path\n",
        "    destination_path = os.path.join(KAGGLE_INPUT_PATH, directory)\n",
        "    try:\n",
        "        with urlopen(download_url) as fileres, NamedTemporaryFile() as tfile:\n",
        "            total_length = fileres.headers['content-length']\n",
        "            print(f'Downloading {directory}, {total_length} bytes compressed')\n",
        "            dl = 0\n",
        "            data = fileres.read(CHUNK_SIZE)\n",
        "            while len(data) > 0:\n",
        "                dl += len(data)\n",
        "                tfile.write(data)\n",
        "                done = int(50 * dl / int(total_length))\n",
        "                sys.stdout.write(f\"\\r[{'=' * done}{' ' * (50-done)}] {dl} bytes downloaded\")\n",
        "                sys.stdout.flush()\n",
        "                data = fileres.read(CHUNK_SIZE)\n",
        "            if filename.endswith('.zip'):\n",
        "              with ZipFile(tfile) as zfile:\n",
        "                zfile.extractall(destination_path)\n",
        "            else:\n",
        "              with tarfile.open(tfile.name) as tarfile:\n",
        "                tarfile.extractall(destination_path)\n",
        "            print(f'\\nDownloaded and uncompressed: {directory}')\n",
        "    except HTTPError as e:\n",
        "        print(f'Failed to load (likely expired) {download_url} to path {destination_path}')\n",
        "        continue\n",
        "    except OSError as e:\n",
        "        print(f'Failed to load {download_url} to path {destination_path}')\n",
        "        continue\n",
        "\n",
        "print('Data source import complete.')\n"
      ],
      "metadata": {
        "colab": {
          "base_uri": "https://localhost:8080/"
        },
        "id": "GszukFmSrGSL",
        "outputId": "db500493-9424-4606-c1ac-2982720e11b6"
      },
      "cell_type": "code",
      "outputs": [
        {
          "output_type": "stream",
          "name": "stdout",
          "text": [
            "Downloading financial-performance-prediction, 1436515 bytes compressed\n",
            "[==================================================] 1436515 bytes downloaded\n",
            "Downloaded and uncompressed: financial-performance-prediction\n",
            "Data source import complete.\n"
          ]
        }
      ],
      "execution_count": 1
    },
    {
      "cell_type": "code",
      "source": [
        "import numpy as np # linear algebra\n",
        "import pandas as pd # data processing, CSV file I/O (e.g. pd.read_csv)\n",
        "import warnings\n",
        "warnings.simplefilter(action='ignore', category=FutureWarning)\n",
        "from sklearn.model_selection import cross_val_score as cvs\n",
        "from xgboost import XGBRegressor\n",
        "\n",
        "import os\n",
        "for dirname, _, filenames in os.walk('/kaggle/input'):\n",
        "    for filename in filenames:\n",
        "        print(os.path.join(dirname, filename))"
      ],
      "metadata": {
        "_cell_guid": "b1076dfc-b9ad-4769-8c92-a6c4dae69d19",
        "_uuid": "8f2839f25d086af736a60e9eeb907d3b93b6e0e5",
        "papermill": {
          "duration": 2.544822,
          "end_time": "2024-02-22T09:23:47.48314",
          "exception": false,
          "start_time": "2024-02-22T09:23:44.938318",
          "status": "completed"
        },
        "tags": [],
        "execution": {
          "iopub.status.busy": "2024-03-07T09:29:23.800482Z",
          "iopub.execute_input": "2024-03-07T09:29:23.801098Z",
          "iopub.status.idle": "2024-03-07T09:29:26.174323Z",
          "shell.execute_reply.started": "2024-03-07T09:29:23.801066Z",
          "shell.execute_reply": "2024-03-07T09:29:26.173173Z"
        },
        "trusted": true,
        "colab": {
          "base_uri": "https://localhost:8080/"
        },
        "id": "KfPxDM10rGSW",
        "outputId": "35d5df38-0404-4261-dd00-67c17b57157d"
      },
      "execution_count": 2,
      "outputs": [
        {
          "output_type": "stream",
          "name": "stdout",
          "text": [
            "/kaggle/input/financial-performance-prediction/data_dictionary.txt\n",
            "/kaggle/input/financial-performance-prediction/test.csv\n",
            "/kaggle/input/financial-performance-prediction/sample_submission.csv\n",
            "/kaggle/input/financial-performance-prediction/train.csv\n"
          ]
        }
      ]
    },
    {
      "cell_type": "code",
      "source": [
        "train = pd.read_csv('/kaggle/input/financial-performance-prediction/train.csv')\n",
        "test = pd.read_csv('/kaggle/input/financial-performance-prediction/test.csv')"
      ],
      "metadata": {
        "papermill": {
          "duration": 0.216004,
          "end_time": "2024-02-22T09:23:47.712913",
          "exception": false,
          "start_time": "2024-02-22T09:23:47.496909",
          "status": "completed"
        },
        "tags": [],
        "execution": {
          "iopub.status.busy": "2024-03-07T09:29:26.176499Z",
          "iopub.execute_input": "2024-03-07T09:29:26.177034Z",
          "iopub.status.idle": "2024-03-07T09:29:26.363273Z",
          "shell.execute_reply.started": "2024-03-07T09:29:26.176999Z",
          "shell.execute_reply": "2024-03-07T09:29:26.36231Z"
        },
        "trusted": true,
        "id": "w6IY3Ba4rGSZ"
      },
      "execution_count": 3,
      "outputs": []
    },
    {
      "cell_type": "markdown",
      "source": [
        "## Look at data shape, dtypes and unite train & test into a single DF"
      ],
      "metadata": {
        "papermill": {
          "duration": 0.013307,
          "end_time": "2024-02-22T09:23:47.73998",
          "exception": false,
          "start_time": "2024-02-22T09:23:47.726673",
          "status": "completed"
        },
        "tags": [],
        "id": "fJbTuRI1rGSb"
      }
    },
    {
      "cell_type": "code",
      "source": [
        "print(f'Train shape: {train.shape}')\n",
        "print(f'Test shape: {test.shape}')"
      ],
      "metadata": {
        "papermill": {
          "duration": 0.023496,
          "end_time": "2024-02-22T09:23:47.776922",
          "exception": false,
          "start_time": "2024-02-22T09:23:47.753426",
          "status": "completed"
        },
        "tags": [],
        "execution": {
          "iopub.status.busy": "2024-03-07T09:29:26.364625Z",
          "iopub.execute_input": "2024-03-07T09:29:26.36559Z",
          "iopub.status.idle": "2024-03-07T09:29:26.370844Z",
          "shell.execute_reply.started": "2024-03-07T09:29:26.36556Z",
          "shell.execute_reply": "2024-03-07T09:29:26.369484Z"
        },
        "trusted": true,
        "colab": {
          "base_uri": "https://localhost:8080/"
        },
        "id": "nG4GbNburGSl",
        "outputId": "d2f28ac3-b419-410a-f857-95a34f7bffaa"
      },
      "execution_count": 4,
      "outputs": [
        {
          "output_type": "stream",
          "name": "stdout",
          "text": [
            "Train shape: (1624, 212)\n",
            "Test shape: (406, 203)\n"
          ]
        }
      ]
    },
    {
      "cell_type": "code",
      "source": [
        "targets_names = [col for col in train if col not in test]\n",
        "print(f'Target columns: {targets_names}')"
      ],
      "metadata": {
        "papermill": {
          "duration": 0.026347,
          "end_time": "2024-02-22T09:23:47.816546",
          "exception": false,
          "start_time": "2024-02-22T09:23:47.790199",
          "status": "completed"
        },
        "tags": [],
        "execution": {
          "iopub.status.busy": "2024-03-07T09:29:26.373746Z",
          "iopub.execute_input": "2024-03-07T09:29:26.374111Z",
          "iopub.status.idle": "2024-03-07T09:29:26.384747Z",
          "shell.execute_reply.started": "2024-03-07T09:29:26.374069Z",
          "shell.execute_reply": "2024-03-07T09:29:26.383655Z"
        },
        "trusted": true,
        "colab": {
          "base_uri": "https://localhost:8080/"
        },
        "id": "pg9O8KPwrGSm",
        "outputId": "d03826d1-26ba-4862-870f-0033824d36a3"
      },
      "execution_count": 5,
      "outputs": [
        {
          "output_type": "stream",
          "name": "stdout",
          "text": [
            "Target columns: ['Q0_TOTAL_ASSETS', 'Q0_TOTAL_LIABILITIES', 'Q0_TOTAL_STOCKHOLDERS_EQUITY', 'Q0_GROSS_PROFIT', 'Q0_COST_OF_REVENUES', 'Q0_REVENUES', 'Q0_OPERATING_INCOME', 'Q0_OPERATING_EXPENSES', 'Q0_EBITDA']\n"
          ]
        }
      ]
    },
    {
      "cell_type": "code",
      "source": [
        "train.dtypes.value_counts()"
      ],
      "metadata": {
        "papermill": {
          "duration": 0.032318,
          "end_time": "2024-02-22T09:23:47.8622",
          "exception": false,
          "start_time": "2024-02-22T09:23:47.829882",
          "status": "completed"
        },
        "tags": [],
        "execution": {
          "iopub.status.busy": "2024-03-07T09:29:26.386689Z",
          "iopub.execute_input": "2024-03-07T09:29:26.387075Z",
          "iopub.status.idle": "2024-03-07T09:29:26.403841Z",
          "shell.execute_reply.started": "2024-03-07T09:29:26.387041Z",
          "shell.execute_reply": "2024-03-07T09:29:26.402495Z"
        },
        "trusted": true,
        "colab": {
          "base_uri": "https://localhost:8080/"
        },
        "id": "MpZa05tjrGSn",
        "outputId": "0719c7e4-7f11-4dbe-ab49-1a05ce32ef6b"
      },
      "execution_count": 6,
      "outputs": [
        {
          "output_type": "execute_result",
          "data": {
            "text/plain": [
              "float64    207\n",
              "object       4\n",
              "int64        1\n",
              "dtype: int64"
            ]
          },
          "metadata": {},
          "execution_count": 6
        }
      ]
    },
    {
      "cell_type": "code",
      "source": [
        "test.dtypes.value_counts()"
      ],
      "metadata": {
        "papermill": {
          "duration": 0.027912,
          "end_time": "2024-02-22T09:23:47.903646",
          "exception": false,
          "start_time": "2024-02-22T09:23:47.875734",
          "status": "completed"
        },
        "tags": [],
        "execution": {
          "iopub.status.busy": "2024-03-07T09:29:26.405842Z",
          "iopub.execute_input": "2024-03-07T09:29:26.406241Z",
          "iopub.status.idle": "2024-03-07T09:29:26.418396Z",
          "shell.execute_reply.started": "2024-03-07T09:29:26.406208Z",
          "shell.execute_reply": "2024-03-07T09:29:26.417357Z"
        },
        "trusted": true,
        "colab": {
          "base_uri": "https://localhost:8080/"
        },
        "id": "SmYymNGbrGSv",
        "outputId": "d58e78d0-f6c6-419c-d38a-890e416927f3"
      },
      "execution_count": 7,
      "outputs": [
        {
          "output_type": "execute_result",
          "data": {
            "text/plain": [
              "float64    198\n",
              "object       4\n",
              "int64        1\n",
              "dtype: int64"
            ]
          },
          "metadata": {},
          "execution_count": 7
        }
      ]
    },
    {
      "cell_type": "code",
      "source": [
        "# make an easy col to split back the train and test sets\n",
        "train['is_train'] = True\n",
        "test['is_train'] = False\n",
        "df = pd.concat([train, test], axis = 0, ignore_index = True)"
      ],
      "metadata": {
        "papermill": {
          "duration": 0.042288,
          "end_time": "2024-02-22T09:23:47.960277",
          "exception": false,
          "start_time": "2024-02-22T09:23:47.917989",
          "status": "completed"
        },
        "tags": [],
        "execution": {
          "iopub.status.busy": "2024-03-07T09:29:26.419984Z",
          "iopub.execute_input": "2024-03-07T09:29:26.420362Z",
          "iopub.status.idle": "2024-03-07T09:29:26.438429Z",
          "shell.execute_reply.started": "2024-03-07T09:29:26.420314Z",
          "shell.execute_reply": "2024-03-07T09:29:26.437298Z"
        },
        "trusted": true,
        "id": "-Z5m2uQnrGSx"
      },
      "execution_count": 8,
      "outputs": []
    },
    {
      "cell_type": "markdown",
      "source": [
        "## Deal with string/categoric columns"
      ],
      "metadata": {
        "papermill": {
          "duration": 0.013575,
          "end_time": "2024-02-22T09:23:47.989331",
          "exception": false,
          "start_time": "2024-02-22T09:23:47.975756",
          "status": "completed"
        },
        "tags": [],
        "id": "nJB8GrY-rGSy"
      }
    },
    {
      "cell_type": "code",
      "source": [
        "df.select_dtypes(include = 'O')"
      ],
      "metadata": {
        "papermill": {
          "duration": 0.040147,
          "end_time": "2024-02-22T09:23:48.043848",
          "exception": false,
          "start_time": "2024-02-22T09:23:48.003701",
          "status": "completed"
        },
        "tags": [],
        "execution": {
          "iopub.status.busy": "2024-03-07T09:29:26.440097Z",
          "iopub.execute_input": "2024-03-07T09:29:26.440464Z",
          "iopub.status.idle": "2024-03-07T09:29:26.458203Z",
          "shell.execute_reply.started": "2024-03-07T09:29:26.440434Z",
          "shell.execute_reply": "2024-03-07T09:29:26.457275Z"
        },
        "trusted": true,
        "colab": {
          "base_uri": "https://localhost:8080/",
          "height": 424
        },
        "id": "7FRizSgMrGSz",
        "outputId": "28df954c-0235-4bff-ca47-93257384d377"
      },
      "execution_count": 9,
      "outputs": [
        {
          "output_type": "execute_result",
          "data": {
            "text/plain": [
              "                                      industry              sector  \\\n",
              "0                            Personal Services   Consumer Cyclical   \n",
              "1                Building Products & Equipment         Industrials   \n",
              "2                                          NaN             Unknown   \n",
              "3           Scientific & Technical Instruments          Technology   \n",
              "4     Drug Manufacturers - Specialty & Generic          Healthcare   \n",
              "...                                        ...                 ...   \n",
              "2025                            Packaged Foods  Consumer Defensive   \n",
              "2026                                       NaN             Unknown   \n",
              "2027                           Medical Devices          Healthcare   \n",
              "2028  Drug Manufacturers - Specialty & Generic          Healthcare   \n",
              "2029                       Specialty Chemicals     Basic Materials   \n",
              "\n",
              "     recommendationKey financialCurrency  \n",
              "0           strong_buy               USD  \n",
              "1                  buy               USD  \n",
              "2                  NaN               NaN  \n",
              "3                 hold               USD  \n",
              "4                  buy               USD  \n",
              "...                ...               ...  \n",
              "2025              hold               USD  \n",
              "2026               NaN               NaN  \n",
              "2027               buy               USD  \n",
              "2028               buy               USD  \n",
              "2029               buy               USD  \n",
              "\n",
              "[2030 rows x 4 columns]"
            ],
            "text/html": [
              "\n",
              "  <div id=\"df-227cfbe2-4251-4227-9978-dbf9224444a6\" class=\"colab-df-container\">\n",
              "    <div>\n",
              "<style scoped>\n",
              "    .dataframe tbody tr th:only-of-type {\n",
              "        vertical-align: middle;\n",
              "    }\n",
              "\n",
              "    .dataframe tbody tr th {\n",
              "        vertical-align: top;\n",
              "    }\n",
              "\n",
              "    .dataframe thead th {\n",
              "        text-align: right;\n",
              "    }\n",
              "</style>\n",
              "<table border=\"1\" class=\"dataframe\">\n",
              "  <thead>\n",
              "    <tr style=\"text-align: right;\">\n",
              "      <th></th>\n",
              "      <th>industry</th>\n",
              "      <th>sector</th>\n",
              "      <th>recommendationKey</th>\n",
              "      <th>financialCurrency</th>\n",
              "    </tr>\n",
              "  </thead>\n",
              "  <tbody>\n",
              "    <tr>\n",
              "      <th>0</th>\n",
              "      <td>Personal Services</td>\n",
              "      <td>Consumer Cyclical</td>\n",
              "      <td>strong_buy</td>\n",
              "      <td>USD</td>\n",
              "    </tr>\n",
              "    <tr>\n",
              "      <th>1</th>\n",
              "      <td>Building Products &amp; Equipment</td>\n",
              "      <td>Industrials</td>\n",
              "      <td>buy</td>\n",
              "      <td>USD</td>\n",
              "    </tr>\n",
              "    <tr>\n",
              "      <th>2</th>\n",
              "      <td>NaN</td>\n",
              "      <td>Unknown</td>\n",
              "      <td>NaN</td>\n",
              "      <td>NaN</td>\n",
              "    </tr>\n",
              "    <tr>\n",
              "      <th>3</th>\n",
              "      <td>Scientific &amp; Technical Instruments</td>\n",
              "      <td>Technology</td>\n",
              "      <td>hold</td>\n",
              "      <td>USD</td>\n",
              "    </tr>\n",
              "    <tr>\n",
              "      <th>4</th>\n",
              "      <td>Drug Manufacturers - Specialty &amp; Generic</td>\n",
              "      <td>Healthcare</td>\n",
              "      <td>buy</td>\n",
              "      <td>USD</td>\n",
              "    </tr>\n",
              "    <tr>\n",
              "      <th>...</th>\n",
              "      <td>...</td>\n",
              "      <td>...</td>\n",
              "      <td>...</td>\n",
              "      <td>...</td>\n",
              "    </tr>\n",
              "    <tr>\n",
              "      <th>2025</th>\n",
              "      <td>Packaged Foods</td>\n",
              "      <td>Consumer Defensive</td>\n",
              "      <td>hold</td>\n",
              "      <td>USD</td>\n",
              "    </tr>\n",
              "    <tr>\n",
              "      <th>2026</th>\n",
              "      <td>NaN</td>\n",
              "      <td>Unknown</td>\n",
              "      <td>NaN</td>\n",
              "      <td>NaN</td>\n",
              "    </tr>\n",
              "    <tr>\n",
              "      <th>2027</th>\n",
              "      <td>Medical Devices</td>\n",
              "      <td>Healthcare</td>\n",
              "      <td>buy</td>\n",
              "      <td>USD</td>\n",
              "    </tr>\n",
              "    <tr>\n",
              "      <th>2028</th>\n",
              "      <td>Drug Manufacturers - Specialty &amp; Generic</td>\n",
              "      <td>Healthcare</td>\n",
              "      <td>buy</td>\n",
              "      <td>USD</td>\n",
              "    </tr>\n",
              "    <tr>\n",
              "      <th>2029</th>\n",
              "      <td>Specialty Chemicals</td>\n",
              "      <td>Basic Materials</td>\n",
              "      <td>buy</td>\n",
              "      <td>USD</td>\n",
              "    </tr>\n",
              "  </tbody>\n",
              "</table>\n",
              "<p>2030 rows × 4 columns</p>\n",
              "</div>\n",
              "    <div class=\"colab-df-buttons\">\n",
              "\n",
              "  <div class=\"colab-df-container\">\n",
              "    <button class=\"colab-df-convert\" onclick=\"convertToInteractive('df-227cfbe2-4251-4227-9978-dbf9224444a6')\"\n",
              "            title=\"Convert this dataframe to an interactive table.\"\n",
              "            style=\"display:none;\">\n",
              "\n",
              "  <svg xmlns=\"http://www.w3.org/2000/svg\" height=\"24px\" viewBox=\"0 -960 960 960\">\n",
              "    <path d=\"M120-120v-720h720v720H120Zm60-500h600v-160H180v160Zm220 220h160v-160H400v160Zm0 220h160v-160H400v160ZM180-400h160v-160H180v160Zm440 0h160v-160H620v160ZM180-180h160v-160H180v160Zm440 0h160v-160H620v160Z\"/>\n",
              "  </svg>\n",
              "    </button>\n",
              "\n",
              "  <style>\n",
              "    .colab-df-container {\n",
              "      display:flex;\n",
              "      gap: 12px;\n",
              "    }\n",
              "\n",
              "    .colab-df-convert {\n",
              "      background-color: #E8F0FE;\n",
              "      border: none;\n",
              "      border-radius: 50%;\n",
              "      cursor: pointer;\n",
              "      display: none;\n",
              "      fill: #1967D2;\n",
              "      height: 32px;\n",
              "      padding: 0 0 0 0;\n",
              "      width: 32px;\n",
              "    }\n",
              "\n",
              "    .colab-df-convert:hover {\n",
              "      background-color: #E2EBFA;\n",
              "      box-shadow: 0px 1px 2px rgba(60, 64, 67, 0.3), 0px 1px 3px 1px rgba(60, 64, 67, 0.15);\n",
              "      fill: #174EA6;\n",
              "    }\n",
              "\n",
              "    .colab-df-buttons div {\n",
              "      margin-bottom: 4px;\n",
              "    }\n",
              "\n",
              "    [theme=dark] .colab-df-convert {\n",
              "      background-color: #3B4455;\n",
              "      fill: #D2E3FC;\n",
              "    }\n",
              "\n",
              "    [theme=dark] .colab-df-convert:hover {\n",
              "      background-color: #434B5C;\n",
              "      box-shadow: 0px 1px 3px 1px rgba(0, 0, 0, 0.15);\n",
              "      filter: drop-shadow(0px 1px 2px rgba(0, 0, 0, 0.3));\n",
              "      fill: #FFFFFF;\n",
              "    }\n",
              "  </style>\n",
              "\n",
              "    <script>\n",
              "      const buttonEl =\n",
              "        document.querySelector('#df-227cfbe2-4251-4227-9978-dbf9224444a6 button.colab-df-convert');\n",
              "      buttonEl.style.display =\n",
              "        google.colab.kernel.accessAllowed ? 'block' : 'none';\n",
              "\n",
              "      async function convertToInteractive(key) {\n",
              "        const element = document.querySelector('#df-227cfbe2-4251-4227-9978-dbf9224444a6');\n",
              "        const dataTable =\n",
              "          await google.colab.kernel.invokeFunction('convertToInteractive',\n",
              "                                                    [key], {});\n",
              "        if (!dataTable) return;\n",
              "\n",
              "        const docLinkHtml = 'Like what you see? Visit the ' +\n",
              "          '<a target=\"_blank\" href=https://colab.research.google.com/notebooks/data_table.ipynb>data table notebook</a>'\n",
              "          + ' to learn more about interactive tables.';\n",
              "        element.innerHTML = '';\n",
              "        dataTable['output_type'] = 'display_data';\n",
              "        await google.colab.output.renderOutput(dataTable, element);\n",
              "        const docLink = document.createElement('div');\n",
              "        docLink.innerHTML = docLinkHtml;\n",
              "        element.appendChild(docLink);\n",
              "      }\n",
              "    </script>\n",
              "  </div>\n",
              "\n",
              "\n",
              "<div id=\"df-9b3b057d-aaca-4cd5-9e7b-566638cd78fa\">\n",
              "  <button class=\"colab-df-quickchart\" onclick=\"quickchart('df-9b3b057d-aaca-4cd5-9e7b-566638cd78fa')\"\n",
              "            title=\"Suggest charts\"\n",
              "            style=\"display:none;\">\n",
              "\n",
              "<svg xmlns=\"http://www.w3.org/2000/svg\" height=\"24px\"viewBox=\"0 0 24 24\"\n",
              "     width=\"24px\">\n",
              "    <g>\n",
              "        <path d=\"M19 3H5c-1.1 0-2 .9-2 2v14c0 1.1.9 2 2 2h14c1.1 0 2-.9 2-2V5c0-1.1-.9-2-2-2zM9 17H7v-7h2v7zm4 0h-2V7h2v10zm4 0h-2v-4h2v4z\"/>\n",
              "    </g>\n",
              "</svg>\n",
              "  </button>\n",
              "\n",
              "<style>\n",
              "  .colab-df-quickchart {\n",
              "      --bg-color: #E8F0FE;\n",
              "      --fill-color: #1967D2;\n",
              "      --hover-bg-color: #E2EBFA;\n",
              "      --hover-fill-color: #174EA6;\n",
              "      --disabled-fill-color: #AAA;\n",
              "      --disabled-bg-color: #DDD;\n",
              "  }\n",
              "\n",
              "  [theme=dark] .colab-df-quickchart {\n",
              "      --bg-color: #3B4455;\n",
              "      --fill-color: #D2E3FC;\n",
              "      --hover-bg-color: #434B5C;\n",
              "      --hover-fill-color: #FFFFFF;\n",
              "      --disabled-bg-color: #3B4455;\n",
              "      --disabled-fill-color: #666;\n",
              "  }\n",
              "\n",
              "  .colab-df-quickchart {\n",
              "    background-color: var(--bg-color);\n",
              "    border: none;\n",
              "    border-radius: 50%;\n",
              "    cursor: pointer;\n",
              "    display: none;\n",
              "    fill: var(--fill-color);\n",
              "    height: 32px;\n",
              "    padding: 0;\n",
              "    width: 32px;\n",
              "  }\n",
              "\n",
              "  .colab-df-quickchart:hover {\n",
              "    background-color: var(--hover-bg-color);\n",
              "    box-shadow: 0 1px 2px rgba(60, 64, 67, 0.3), 0 1px 3px 1px rgba(60, 64, 67, 0.15);\n",
              "    fill: var(--button-hover-fill-color);\n",
              "  }\n",
              "\n",
              "  .colab-df-quickchart-complete:disabled,\n",
              "  .colab-df-quickchart-complete:disabled:hover {\n",
              "    background-color: var(--disabled-bg-color);\n",
              "    fill: var(--disabled-fill-color);\n",
              "    box-shadow: none;\n",
              "  }\n",
              "\n",
              "  .colab-df-spinner {\n",
              "    border: 2px solid var(--fill-color);\n",
              "    border-color: transparent;\n",
              "    border-bottom-color: var(--fill-color);\n",
              "    animation:\n",
              "      spin 1s steps(1) infinite;\n",
              "  }\n",
              "\n",
              "  @keyframes spin {\n",
              "    0% {\n",
              "      border-color: transparent;\n",
              "      border-bottom-color: var(--fill-color);\n",
              "      border-left-color: var(--fill-color);\n",
              "    }\n",
              "    20% {\n",
              "      border-color: transparent;\n",
              "      border-left-color: var(--fill-color);\n",
              "      border-top-color: var(--fill-color);\n",
              "    }\n",
              "    30% {\n",
              "      border-color: transparent;\n",
              "      border-left-color: var(--fill-color);\n",
              "      border-top-color: var(--fill-color);\n",
              "      border-right-color: var(--fill-color);\n",
              "    }\n",
              "    40% {\n",
              "      border-color: transparent;\n",
              "      border-right-color: var(--fill-color);\n",
              "      border-top-color: var(--fill-color);\n",
              "    }\n",
              "    60% {\n",
              "      border-color: transparent;\n",
              "      border-right-color: var(--fill-color);\n",
              "    }\n",
              "    80% {\n",
              "      border-color: transparent;\n",
              "      border-right-color: var(--fill-color);\n",
              "      border-bottom-color: var(--fill-color);\n",
              "    }\n",
              "    90% {\n",
              "      border-color: transparent;\n",
              "      border-bottom-color: var(--fill-color);\n",
              "    }\n",
              "  }\n",
              "</style>\n",
              "\n",
              "  <script>\n",
              "    async function quickchart(key) {\n",
              "      const quickchartButtonEl =\n",
              "        document.querySelector('#' + key + ' button');\n",
              "      quickchartButtonEl.disabled = true;  // To prevent multiple clicks.\n",
              "      quickchartButtonEl.classList.add('colab-df-spinner');\n",
              "      try {\n",
              "        const charts = await google.colab.kernel.invokeFunction(\n",
              "            'suggestCharts', [key], {});\n",
              "      } catch (error) {\n",
              "        console.error('Error during call to suggestCharts:', error);\n",
              "      }\n",
              "      quickchartButtonEl.classList.remove('colab-df-spinner');\n",
              "      quickchartButtonEl.classList.add('colab-df-quickchart-complete');\n",
              "    }\n",
              "    (() => {\n",
              "      let quickchartButtonEl =\n",
              "        document.querySelector('#df-9b3b057d-aaca-4cd5-9e7b-566638cd78fa button');\n",
              "      quickchartButtonEl.style.display =\n",
              "        google.colab.kernel.accessAllowed ? 'block' : 'none';\n",
              "    })();\n",
              "  </script>\n",
              "</div>\n",
              "\n",
              "    </div>\n",
              "  </div>\n"
            ],
            "application/vnd.google.colaboratory.intrinsic+json": {
              "type": "dataframe",
              "summary": "{\n  \"name\": \"df\",\n  \"rows\": 2030,\n  \"fields\": [\n    {\n      \"column\": \"industry\",\n      \"properties\": {\n        \"dtype\": \"category\",\n        \"num_unique_values\": 113,\n        \"samples\": [\n          \"Security & Protection Services\",\n          \"Tools & Accessories\",\n          \"Utilities - Independent Power Producers\"\n        ],\n        \"semantic_type\": \"\",\n        \"description\": \"\"\n      }\n    },\n    {\n      \"column\": \"sector\",\n      \"properties\": {\n        \"dtype\": \"category\",\n        \"num_unique_values\": 10,\n        \"samples\": [\n          \"Basic Materials\",\n          \"Industrials\",\n          \"Energy\"\n        ],\n        \"semantic_type\": \"\",\n        \"description\": \"\"\n      }\n    },\n    {\n      \"column\": \"recommendationKey\",\n      \"properties\": {\n        \"dtype\": \"category\",\n        \"num_unique_values\": 6,\n        \"samples\": [\n          \"strong_buy\",\n          \"buy\",\n          \"sell\"\n        ],\n        \"semantic_type\": \"\",\n        \"description\": \"\"\n      }\n    },\n    {\n      \"column\": \"financialCurrency\",\n      \"properties\": {\n        \"dtype\": \"category\",\n        \"num_unique_values\": 2,\n        \"samples\": [\n          \"CAD\",\n          \"USD\"\n        ],\n        \"semantic_type\": \"\",\n        \"description\": \"\"\n      }\n    }\n  ]\n}"
            }
          },
          "metadata": {},
          "execution_count": 9
        }
      ]
    },
    {
      "cell_type": "code",
      "source": [
        "for col in df.select_dtypes(include = 'O'):\n",
        "    print(f'{col} unique values num: {df[col].nunique()}')\n",
        "    print('-'*50)"
      ],
      "metadata": {
        "papermill": {
          "duration": 0.031918,
          "end_time": "2024-02-22T09:23:48.08989",
          "exception": false,
          "start_time": "2024-02-22T09:23:48.057972",
          "status": "completed"
        },
        "tags": [],
        "execution": {
          "iopub.status.busy": "2024-03-07T09:29:26.459553Z",
          "iopub.execute_input": "2024-03-07T09:29:26.459909Z",
          "iopub.status.idle": "2024-03-07T09:29:26.470024Z",
          "shell.execute_reply.started": "2024-03-07T09:29:26.459861Z",
          "shell.execute_reply": "2024-03-07T09:29:26.468914Z"
        },
        "trusted": true,
        "colab": {
          "base_uri": "https://localhost:8080/"
        },
        "id": "8DWNT7vsrGS2",
        "outputId": "db371d7b-235d-44af-f67e-7bd782fd55dd"
      },
      "execution_count": 10,
      "outputs": [
        {
          "output_type": "stream",
          "name": "stdout",
          "text": [
            "industry unique values num: 113\n",
            "--------------------------------------------------\n",
            "sector unique values num: 10\n",
            "--------------------------------------------------\n",
            "recommendationKey unique values num: 6\n",
            "--------------------------------------------------\n",
            "financialCurrency unique values num: 2\n",
            "--------------------------------------------------\n"
          ]
        }
      ]
    },
    {
      "cell_type": "markdown",
      "source": [
        "Looks like it is best have to label encode the `industry` with 113 unique categories.\n",
        "`sector` and `recommendationKey` can safely be one-hot-encoded as it will expand the dataset by only 16 columns.\n",
        "And we will just binarize the `financialCurrency` column"
      ],
      "metadata": {
        "execution": {
          "iopub.execute_input": "2024-02-21T11:38:43.966027Z",
          "iopub.status.busy": "2024-02-21T11:38:43.965735Z",
          "iopub.status.idle": "2024-02-21T11:38:43.970975Z",
          "shell.execute_reply": "2024-02-21T11:38:43.969976Z",
          "shell.execute_reply.started": "2024-02-21T11:38:43.966006Z"
        },
        "papermill": {
          "duration": 0.014362,
          "end_time": "2024-02-22T09:23:48.11873",
          "exception": false,
          "start_time": "2024-02-22T09:23:48.104368",
          "status": "completed"
        },
        "tags": [],
        "id": "e2sOxhocrGS4"
      }
    },
    {
      "cell_type": "code",
      "source": [
        "def binarize(df, col):\n",
        "    uniques = list(df[col].dropna().unique())\n",
        "    df[col] = [1 if val == uniques[0] else 0 for val in df[col]]\n",
        "    return df"
      ],
      "metadata": {
        "papermill": {
          "duration": 0.026863,
          "end_time": "2024-02-22T09:23:48.160784",
          "exception": false,
          "start_time": "2024-02-22T09:23:48.133921",
          "status": "completed"
        },
        "tags": [],
        "execution": {
          "iopub.status.busy": "2024-03-07T09:29:26.475365Z",
          "iopub.execute_input": "2024-03-07T09:29:26.4757Z",
          "iopub.status.idle": "2024-03-07T09:29:26.48146Z",
          "shell.execute_reply.started": "2024-03-07T09:29:26.475665Z",
          "shell.execute_reply": "2024-03-07T09:29:26.480495Z"
        },
        "trusted": true,
        "id": "YLHLIm7-rGS6"
      },
      "execution_count": 11,
      "outputs": []
    },
    {
      "cell_type": "code",
      "source": [
        "def one_hot_encode(df, col):\n",
        "    dummies = pd.get_dummies(df[col], prefix = col).astype(int)\n",
        "    df.drop(col, axis = 1, inplace = True)\n",
        "    df = pd.concat([df, dummies], axis = 1)\n",
        "    return df"
      ],
      "metadata": {
        "papermill": {
          "duration": 0.023901,
          "end_time": "2024-02-22T09:23:48.199713",
          "exception": false,
          "start_time": "2024-02-22T09:23:48.175812",
          "status": "completed"
        },
        "tags": [],
        "execution": {
          "iopub.status.busy": "2024-03-07T09:29:26.482753Z",
          "iopub.execute_input": "2024-03-07T09:29:26.483039Z",
          "iopub.status.idle": "2024-03-07T09:29:26.492878Z",
          "shell.execute_reply.started": "2024-03-07T09:29:26.483015Z",
          "shell.execute_reply": "2024-03-07T09:29:26.491774Z"
        },
        "trusted": true,
        "id": "Wnv6VMcZrGS7"
      },
      "execution_count": 12,
      "outputs": []
    },
    {
      "cell_type": "code",
      "source": [
        "def factorize(df, col):\n",
        "    mapping = {name: ix for ix, name in enumerate(df[col].unique())}\n",
        "    df[col] = df[col].map(mapping)\n",
        "    return df"
      ],
      "metadata": {
        "papermill": {
          "duration": 0.025012,
          "end_time": "2024-02-22T09:23:48.238738",
          "exception": false,
          "start_time": "2024-02-22T09:23:48.213726",
          "status": "completed"
        },
        "tags": [],
        "execution": {
          "iopub.status.busy": "2024-03-07T09:29:26.494373Z",
          "iopub.execute_input": "2024-03-07T09:29:26.494784Z",
          "iopub.status.idle": "2024-03-07T09:29:26.504015Z",
          "shell.execute_reply.started": "2024-03-07T09:29:26.494747Z",
          "shell.execute_reply": "2024-03-07T09:29:26.502889Z"
        },
        "trusted": true,
        "id": "QSo_hmRErGTC"
      },
      "execution_count": 13,
      "outputs": []
    },
    {
      "cell_type": "code",
      "source": [
        "df = binarize(df, 'financialCurrency')\n",
        "print(df['financialCurrency'].head())"
      ],
      "metadata": {
        "papermill": {
          "duration": 0.029814,
          "end_time": "2024-02-22T09:23:48.283233",
          "exception": false,
          "start_time": "2024-02-22T09:23:48.253419",
          "status": "completed"
        },
        "tags": [],
        "execution": {
          "iopub.status.busy": "2024-03-07T09:29:26.505445Z",
          "iopub.execute_input": "2024-03-07T09:29:26.505814Z",
          "iopub.status.idle": "2024-03-07T09:29:26.520329Z",
          "shell.execute_reply.started": "2024-03-07T09:29:26.505787Z",
          "shell.execute_reply": "2024-03-07T09:29:26.519099Z"
        },
        "trusted": true,
        "colab": {
          "base_uri": "https://localhost:8080/"
        },
        "id": "zi7RsOG9rGTD",
        "outputId": "f75cee58-b934-4460-fb1a-f82ce02a87bb"
      },
      "execution_count": 14,
      "outputs": [
        {
          "output_type": "stream",
          "name": "stdout",
          "text": [
            "0    1\n",
            "1    1\n",
            "2    0\n",
            "3    1\n",
            "4    1\n",
            "Name: financialCurrency, dtype: int64\n"
          ]
        }
      ]
    },
    {
      "cell_type": "code",
      "source": [
        "print(df.shape)\n",
        "df = one_hot_encode(df, 'sector')\n",
        "df = one_hot_encode(df, 'recommendationKey')\n",
        "print(df.shape)"
      ],
      "metadata": {
        "papermill": {
          "duration": 0.051345,
          "end_time": "2024-02-22T09:23:48.348876",
          "exception": false,
          "start_time": "2024-02-22T09:23:48.297531",
          "status": "completed"
        },
        "tags": [],
        "execution": {
          "iopub.status.busy": "2024-03-07T09:29:26.52255Z",
          "iopub.execute_input": "2024-03-07T09:29:26.523039Z",
          "iopub.status.idle": "2024-03-07T09:29:26.555359Z",
          "shell.execute_reply.started": "2024-03-07T09:29:26.522997Z",
          "shell.execute_reply": "2024-03-07T09:29:26.554279Z"
        },
        "trusted": true,
        "colab": {
          "base_uri": "https://localhost:8080/"
        },
        "id": "VAX6ZDuqrGTE",
        "outputId": "06456a0d-694d-4010-ef56-ae7c1aa755d1"
      },
      "execution_count": 15,
      "outputs": [
        {
          "output_type": "stream",
          "name": "stdout",
          "text": [
            "(2030, 213)\n",
            "(2030, 227)\n"
          ]
        }
      ]
    },
    {
      "cell_type": "code",
      "source": [
        "df = factorize(df, 'industry')\n",
        "print(df.dtypes.value_counts())"
      ],
      "metadata": {
        "papermill": {
          "duration": 0.028683,
          "end_time": "2024-02-22T09:23:48.391994",
          "exception": false,
          "start_time": "2024-02-22T09:23:48.363311",
          "status": "completed"
        },
        "tags": [],
        "execution": {
          "iopub.status.busy": "2024-03-07T09:29:26.556552Z",
          "iopub.execute_input": "2024-03-07T09:29:26.55683Z",
          "iopub.status.idle": "2024-03-07T09:29:26.564475Z",
          "shell.execute_reply.started": "2024-03-07T09:29:26.556805Z",
          "shell.execute_reply": "2024-03-07T09:29:26.56332Z"
        },
        "trusted": true,
        "colab": {
          "base_uri": "https://localhost:8080/"
        },
        "id": "PQCjIGKzrGTF",
        "outputId": "069b6be9-bfdc-4ba4-babc-1ee5dce4d2f2"
      },
      "execution_count": 16,
      "outputs": [
        {
          "output_type": "stream",
          "name": "stdout",
          "text": [
            "float64    207\n",
            "int64       19\n",
            "bool         1\n",
            "dtype: int64\n"
          ]
        }
      ]
    },
    {
      "cell_type": "code",
      "source": [
        "import warnings\n",
        "warnings.simplefilter(action='ignore', category=FutureWarning)"
      ],
      "metadata": {
        "papermill": {
          "duration": 0.023799,
          "end_time": "2024-02-22T09:23:48.430584",
          "exception": false,
          "start_time": "2024-02-22T09:23:48.406785",
          "status": "completed"
        },
        "tags": [],
        "execution": {
          "iopub.status.busy": "2024-03-07T09:29:26.565748Z",
          "iopub.execute_input": "2024-03-07T09:29:26.566042Z",
          "iopub.status.idle": "2024-03-07T09:29:26.573785Z",
          "shell.execute_reply.started": "2024-03-07T09:29:26.566017Z",
          "shell.execute_reply": "2024-03-07T09:29:26.572821Z"
        },
        "trusted": true,
        "id": "JYrxL1sbrGTG"
      },
      "execution_count": 17,
      "outputs": []
    },
    {
      "cell_type": "markdown",
      "source": [
        "## Deal with missing values"
      ],
      "metadata": {
        "papermill": {
          "duration": 0.01419,
          "end_time": "2024-02-22T09:23:48.459658",
          "exception": false,
          "start_time": "2024-02-22T09:23:48.445468",
          "status": "completed"
        },
        "tags": [],
        "id": "2xFZIaNbrGTH"
      }
    },
    {
      "cell_type": "code",
      "source": [
        "df.isnull().sum()"
      ],
      "metadata": {
        "papermill": {
          "duration": 0.030298,
          "end_time": "2024-02-22T09:23:48.50518",
          "exception": false,
          "start_time": "2024-02-22T09:23:48.474882",
          "status": "completed"
        },
        "tags": [],
        "execution": {
          "iopub.status.busy": "2024-03-07T09:29:26.575005Z",
          "iopub.execute_input": "2024-03-07T09:29:26.575877Z",
          "iopub.status.idle": "2024-03-07T09:29:26.590237Z",
          "shell.execute_reply.started": "2024-03-07T09:29:26.575845Z",
          "shell.execute_reply": "2024-03-07T09:29:26.589116Z"
        },
        "trusted": true,
        "colab": {
          "base_uri": "https://localhost:8080/"
        },
        "id": "a-7zHzEtrGTI",
        "outputId": "c575b7b4-df2f-4d84-9e29-c3fe7be7baff"
      },
      "execution_count": 18,
      "outputs": [
        {
          "output_type": "execute_result",
          "data": {
            "text/plain": [
              "Id                                  0\n",
              "industry                            0\n",
              "fullTimeEmployees                 102\n",
              "auditRisk                         625\n",
              "boardRisk                         625\n",
              "                                 ... \n",
              "recommendationKey_hold              0\n",
              "recommendationKey_none              0\n",
              "recommendationKey_sell              0\n",
              "recommendationKey_strong_buy        0\n",
              "recommendationKey_underperform      0\n",
              "Length: 227, dtype: int64"
            ]
          },
          "metadata": {},
          "execution_count": 18
        }
      ]
    },
    {
      "cell_type": "code",
      "source": [
        "print('Missing data stats:\\n')\n",
        "under_10_percent = 0\n",
        "ten_to_20_percent = 0\n",
        "twenty_to_50_percent = 0\n",
        "over_50_percent = 0\n",
        "for col in df:\n",
        "    if np.any(df[col].isnull()):\n",
        "        percent_missing = np.round(100*df[col].isnull().sum()/len(df),2)\n",
        "        if percent_missing < 10:\n",
        "            under_10_percent+=1\n",
        "        elif 10 <= percent_missing < 20:\n",
        "            ten_to_20_percent+=1\n",
        "        elif 20 <= percent_missing < 50:\n",
        "            twenty_to_50_percent+=1\n",
        "        else:\n",
        "            over_50_percent+=1\n",
        "\n",
        "print(f'ncols with under 10% missing data:\\t{under_10_percent}')\n",
        "print(f'ncols with 10-20% missing data:\\t\\t{ten_to_20_percent}')\n",
        "print(f'ncols with 20-50% missing data:\\t\\t{twenty_to_50_percent}')\n",
        "print(f'ncols with over 50% missing data:\\t{over_50_percent}')"
      ],
      "metadata": {
        "papermill": {
          "duration": 0.094265,
          "end_time": "2024-02-22T09:23:48.614622",
          "exception": false,
          "start_time": "2024-02-22T09:23:48.520357",
          "status": "completed"
        },
        "tags": [],
        "execution": {
          "iopub.status.busy": "2024-03-07T09:29:26.591766Z",
          "iopub.execute_input": "2024-03-07T09:29:26.592074Z",
          "iopub.status.idle": "2024-03-07T09:29:26.734473Z",
          "shell.execute_reply.started": "2024-03-07T09:29:26.592047Z",
          "shell.execute_reply": "2024-03-07T09:29:26.733267Z"
        },
        "trusted": true,
        "colab": {
          "base_uri": "https://localhost:8080/"
        },
        "id": "LTO3N9wYrGTK",
        "outputId": "d2f14ab0-9de5-496d-dd22-e171ea51dd2b"
      },
      "execution_count": 19,
      "outputs": [
        {
          "output_type": "stream",
          "name": "stdout",
          "text": [
            "Missing data stats:\n",
            "\n",
            "ncols with under 10% missing data:\t134\n",
            "ncols with 10-20% missing data:\t\t44\n",
            "ncols with 20-50% missing data:\t\t16\n",
            "ncols with over 50% missing data:\t1\n"
          ]
        }
      ]
    },
    {
      "cell_type": "markdown",
      "source": [
        "Many columns have missing data, but the majority of cols with NaNs have under 10% missing values. It's safe to fill all missing values by median."
      ],
      "metadata": {
        "papermill": {
          "duration": 0.014673,
          "end_time": "2024-02-22T09:23:48.644595",
          "exception": false,
          "start_time": "2024-02-22T09:23:48.629922",
          "status": "completed"
        },
        "tags": [],
        "id": "j4EJg6RRrGTh"
      }
    },
    {
      "cell_type": "code",
      "source": [
        "# check if there are any inf values in data\n",
        "df[df == np.inf].count().sum()"
      ],
      "metadata": {
        "papermill": {
          "duration": 0.041706,
          "end_time": "2024-02-22T09:23:48.701223",
          "exception": false,
          "start_time": "2024-02-22T09:23:48.659517",
          "status": "completed"
        },
        "tags": [],
        "execution": {
          "iopub.status.busy": "2024-03-07T09:29:26.735975Z",
          "iopub.execute_input": "2024-03-07T09:29:26.73642Z",
          "iopub.status.idle": "2024-03-07T09:29:26.763531Z",
          "shell.execute_reply.started": "2024-03-07T09:29:26.736382Z",
          "shell.execute_reply": "2024-03-07T09:29:26.762621Z"
        },
        "trusted": true,
        "colab": {
          "base_uri": "https://localhost:8080/"
        },
        "id": "KR0-Us-1rGTi",
        "outputId": "6b0369fc-e5a1-4825-df7d-694c3dd2601b"
      },
      "execution_count": 20,
      "outputs": [
        {
          "output_type": "execute_result",
          "data": {
            "text/plain": [
              "17"
            ]
          },
          "metadata": {},
          "execution_count": 20
        }
      ]
    },
    {
      "cell_type": "code",
      "source": [
        "# check for missing values in the target columns\n",
        "train[targets_names].isnull().sum()"
      ],
      "metadata": {
        "papermill": {
          "duration": 0.028304,
          "end_time": "2024-02-22T09:23:48.744568",
          "exception": false,
          "start_time": "2024-02-22T09:23:48.716264",
          "status": "completed"
        },
        "tags": [],
        "execution": {
          "iopub.status.busy": "2024-03-07T09:29:26.764703Z",
          "iopub.execute_input": "2024-03-07T09:29:26.764975Z",
          "iopub.status.idle": "2024-03-07T09:29:26.774776Z",
          "shell.execute_reply.started": "2024-03-07T09:29:26.764952Z",
          "shell.execute_reply": "2024-03-07T09:29:26.773615Z"
        },
        "trusted": true,
        "colab": {
          "base_uri": "https://localhost:8080/"
        },
        "id": "k64UWHxDrGTj",
        "outputId": "c85043bd-fba0-40a7-da80-09c59328d2bb"
      },
      "execution_count": 21,
      "outputs": [
        {
          "output_type": "execute_result",
          "data": {
            "text/plain": [
              "Q0_TOTAL_ASSETS                 0\n",
              "Q0_TOTAL_LIABILITIES            0\n",
              "Q0_TOTAL_STOCKHOLDERS_EQUITY    0\n",
              "Q0_GROSS_PROFIT                 0\n",
              "Q0_COST_OF_REVENUES             0\n",
              "Q0_REVENUES                     0\n",
              "Q0_OPERATING_INCOME             0\n",
              "Q0_OPERATING_EXPENSES           0\n",
              "Q0_EBITDA                       0\n",
              "dtype: int64"
            ]
          },
          "metadata": {},
          "execution_count": 21
        }
      ]
    },
    {
      "cell_type": "code",
      "source": [
        "def impute_missing_by_median(df):\n",
        "    print(f'Missing values before imputation: {sum(df.isnull().sum())}')\n",
        "    # first replace inf and -inf with nan\n",
        "    df.replace([np.inf, -np.inf], np.nan, inplace=True)\n",
        "    # then impute nan by median\n",
        "    for col in df:\n",
        "        if np.any(df[col].isnull()):\n",
        "            df[col].fillna(df[col].median(), inplace = True)\n",
        "    print(f'Missing values after imputation: {sum(df.isnull().sum())}')\n",
        "    return df"
      ],
      "metadata": {
        "papermill": {
          "duration": 0.027342,
          "end_time": "2024-02-22T09:23:48.787209",
          "exception": false,
          "start_time": "2024-02-22T09:23:48.759867",
          "status": "completed"
        },
        "tags": [],
        "execution": {
          "iopub.status.busy": "2024-03-07T09:29:26.776327Z",
          "iopub.execute_input": "2024-03-07T09:29:26.776909Z",
          "iopub.status.idle": "2024-03-07T09:29:26.784389Z",
          "shell.execute_reply.started": "2024-03-07T09:29:26.776872Z",
          "shell.execute_reply": "2024-03-07T09:29:26.783397Z"
        },
        "trusted": true,
        "id": "97vLHycHrGTk"
      },
      "execution_count": 22,
      "outputs": []
    },
    {
      "cell_type": "code",
      "source": [
        "df = impute_missing_by_median(df)"
      ],
      "metadata": {
        "papermill": {
          "duration": 0.242599,
          "end_time": "2024-02-22T09:23:49.045138",
          "exception": false,
          "start_time": "2024-02-22T09:23:48.802539",
          "status": "completed"
        },
        "tags": [],
        "execution": {
          "iopub.status.busy": "2024-03-07T09:29:26.787062Z",
          "iopub.execute_input": "2024-03-07T09:29:26.787754Z",
          "iopub.status.idle": "2024-03-07T09:29:26.997131Z",
          "shell.execute_reply.started": "2024-03-07T09:29:26.787727Z",
          "shell.execute_reply": "2024-03-07T09:29:26.996012Z"
        },
        "trusted": true,
        "colab": {
          "base_uri": "https://localhost:8080/"
        },
        "id": "3v35q-kQrGTr",
        "outputId": "3ebe9eeb-87be-4159-d657-9c73375a94b9"
      },
      "execution_count": 23,
      "outputs": [
        {
          "output_type": "stream",
          "name": "stdout",
          "text": [
            "Missing values before imputation: 28653\n",
            "Missing values after imputation: 0\n"
          ]
        }
      ]
    },
    {
      "cell_type": "markdown",
      "source": [
        "## Extract train & test without target cols and separate tartgets df with 9 target cols"
      ],
      "metadata": {
        "papermill": {
          "duration": 0.015032,
          "end_time": "2024-02-22T09:23:49.075854",
          "exception": false,
          "start_time": "2024-02-22T09:23:49.060822",
          "status": "completed"
        },
        "tags": [],
        "id": "ZWbDqK0jrGTt"
      }
    },
    {
      "cell_type": "code",
      "source": [
        "train = df[df['is_train'] == True]\n",
        "test = df[df['is_train'] == False]\n",
        "train.drop('is_train', axis = 1, inplace=True)\n",
        "test.drop('is_train', axis = 1, inplace=True)\n",
        "test.reset_index(drop = True, inplace = True)\n",
        "\n",
        "test.drop(targets_names, axis = 1, inplace = True)\n",
        "targets = train[targets_names].copy()\n",
        "train.drop(targets_names, axis = 1, inplace = True)"
      ],
      "metadata": {
        "papermill": {
          "duration": 0.039554,
          "end_time": "2024-02-22T09:23:49.13061",
          "exception": false,
          "start_time": "2024-02-22T09:23:49.091056",
          "status": "completed"
        },
        "tags": [],
        "execution": {
          "iopub.status.busy": "2024-03-07T09:29:26.998476Z",
          "iopub.execute_input": "2024-03-07T09:29:26.998842Z",
          "iopub.status.idle": "2024-03-07T09:29:27.016423Z",
          "shell.execute_reply.started": "2024-03-07T09:29:26.998808Z",
          "shell.execute_reply": "2024-03-07T09:29:27.015286Z"
        },
        "trusted": true,
        "colab": {
          "base_uri": "https://localhost:8080/"
        },
        "id": "rhcWyhGCrGTv",
        "outputId": "6772e6e3-ae7d-486f-eb8f-b9dac55c2ee7"
      },
      "execution_count": 24,
      "outputs": [
        {
          "output_type": "stream",
          "name": "stderr",
          "text": [
            "<ipython-input-24-996949eefa5f>:3: SettingWithCopyWarning: \n",
            "A value is trying to be set on a copy of a slice from a DataFrame\n",
            "\n",
            "See the caveats in the documentation: https://pandas.pydata.org/pandas-docs/stable/user_guide/indexing.html#returning-a-view-versus-a-copy\n",
            "  train.drop('is_train', axis = 1, inplace=True)\n",
            "<ipython-input-24-996949eefa5f>:4: SettingWithCopyWarning: \n",
            "A value is trying to be set on a copy of a slice from a DataFrame\n",
            "\n",
            "See the caveats in the documentation: https://pandas.pydata.org/pandas-docs/stable/user_guide/indexing.html#returning-a-view-versus-a-copy\n",
            "  test.drop('is_train', axis = 1, inplace=True)\n",
            "<ipython-input-24-996949eefa5f>:7: SettingWithCopyWarning: \n",
            "A value is trying to be set on a copy of a slice from a DataFrame\n",
            "\n",
            "See the caveats in the documentation: https://pandas.pydata.org/pandas-docs/stable/user_guide/indexing.html#returning-a-view-versus-a-copy\n",
            "  test.drop(targets_names, axis = 1, inplace = True)\n",
            "<ipython-input-24-996949eefa5f>:9: SettingWithCopyWarning: \n",
            "A value is trying to be set on a copy of a slice from a DataFrame\n",
            "\n",
            "See the caveats in the documentation: https://pandas.pydata.org/pandas-docs/stable/user_guide/indexing.html#returning-a-view-versus-a-copy\n",
            "  train.drop(targets_names, axis = 1, inplace = True)\n"
          ]
        }
      ]
    },
    {
      "cell_type": "markdown",
      "source": [
        "## Validate XGB model on train data\n",
        "### Since we have 9 independent target columns, I will train 9 separate separate models on train features to predict each target."
      ],
      "metadata": {
        "execution": {
          "iopub.execute_input": "2024-02-21T11:22:12.4504Z",
          "iopub.status.busy": "2024-02-21T11:22:12.450098Z",
          "iopub.status.idle": "2024-02-21T11:22:12.454644Z",
          "shell.execute_reply": "2024-02-21T11:22:12.453791Z",
          "shell.execute_reply.started": "2024-02-21T11:22:12.450379Z"
        },
        "papermill": {
          "duration": 0.015517,
          "end_time": "2024-02-22T09:23:49.161625",
          "exception": false,
          "start_time": "2024-02-22T09:23:49.146108",
          "status": "completed"
        },
        "tags": [],
        "id": "v6SknDFurGT1"
      }
    },
    {
      "cell_type": "code",
      "source": [
        "targets"
      ],
      "metadata": {
        "papermill": {
          "duration": 0.048259,
          "end_time": "2024-02-22T09:23:49.225403",
          "exception": false,
          "start_time": "2024-02-22T09:23:49.177144",
          "status": "completed"
        },
        "tags": [],
        "execution": {
          "iopub.status.busy": "2024-03-07T09:29:27.017759Z",
          "iopub.execute_input": "2024-03-07T09:29:27.018103Z",
          "iopub.status.idle": "2024-03-07T09:29:27.049254Z",
          "shell.execute_reply.started": "2024-03-07T09:29:27.018071Z",
          "shell.execute_reply": "2024-03-07T09:29:27.047899Z"
        },
        "trusted": true,
        "colab": {
          "base_uri": "https://localhost:8080/",
          "height": 444
        },
        "id": "Nv59B5LdrGT3",
        "outputId": "1b496d33-750d-4631-b54c-c12e8a51d357"
      },
      "execution_count": 25,
      "outputs": [
        {
          "output_type": "execute_result",
          "data": {
            "text/plain": [
              "      Q0_TOTAL_ASSETS  Q0_TOTAL_LIABILITIES  Q0_TOTAL_STOCKHOLDERS_EQUITY  \\\n",
              "0        1.192950e+09          1.055816e+09                  1.371340e+08   \n",
              "1        1.219954e+09          8.350460e+08                  3.849080e+08   \n",
              "2       -1.358200e+11         -3.797200e+10                 -9.784800e+10   \n",
              "3        8.329800e+07          1.604000e+07                 -3.163300e+07   \n",
              "4        1.485460e+08          5.655500e+07                  9.199100e+07   \n",
              "...               ...                   ...                           ...   \n",
              "1619     3.539600e+08          1.997590e+08                  1.542010e+08   \n",
              "1620     1.061530e+08          3.949300e+07                  6.811700e+07   \n",
              "1621     5.203150e+08          3.807960e+08                  3.233080e+08   \n",
              "1622     1.997210e+08          2.692100e+07                  1.728000e+08   \n",
              "1623     1.333626e+10          1.504531e+10                 -8.217640e+08   \n",
              "\n",
              "      Q0_GROSS_PROFIT  Q0_COST_OF_REVENUES   Q0_REVENUES  Q0_OPERATING_INCOME  \\\n",
              "0          25598000.0         6.189900e+07  4.299200e+07         1.522200e+07   \n",
              "1         111786000.0         2.177960e+08  3.295820e+08         2.890800e+07   \n",
              "2        -435000000.0         4.445000e+09  4.010000e+09        -1.472000e+09   \n",
              "3            494000.0         3.339000e+06  3.833000e+06        -1.234800e+07   \n",
              "4           1761000.0        -2.375000e+06 -6.140000e+05        -1.009800e+07   \n",
              "...               ...                  ...           ...                  ...   \n",
              "1619       48741000.0         4.569300e+07  9.443400e+07         2.616000e+06   \n",
              "1620        1077000.0         1.690000e+05  1.246000e+06        -6.705000e+06   \n",
              "1621       27808000.0         1.123840e+08  1.401920e+08         7.061000e+06   \n",
              "1622              0.0         0.000000e+00  0.000000e+00        -3.391900e+07   \n",
              "1623      394720000.0         5.777330e+08  9.724530e+08         6.259500e+07   \n",
              "\n",
              "      Q0_OPERATING_EXPENSES    Q0_EBITDA  \n",
              "0                10383000.0   15215000.0  \n",
              "1                85522000.0   26264000.0  \n",
              "2               219000000.0 -654000000.0  \n",
              "3                12842000.0  -12348000.0  \n",
              "4                11859000.0  -10098000.0  \n",
              "...                     ...          ...  \n",
              "1619             46125000.0    2616000.0  \n",
              "1620              7782000.0   -6705000.0  \n",
              "1621              9417000.0   18391000.0  \n",
              "1622             33919000.0  -33919000.0  \n",
              "1623            268445000.0  126275000.0  \n",
              "\n",
              "[1624 rows x 9 columns]"
            ],
            "text/html": [
              "\n",
              "  <div id=\"df-2073a299-94f6-4cd0-bc49-ad98025a691b\" class=\"colab-df-container\">\n",
              "    <div>\n",
              "<style scoped>\n",
              "    .dataframe tbody tr th:only-of-type {\n",
              "        vertical-align: middle;\n",
              "    }\n",
              "\n",
              "    .dataframe tbody tr th {\n",
              "        vertical-align: top;\n",
              "    }\n",
              "\n",
              "    .dataframe thead th {\n",
              "        text-align: right;\n",
              "    }\n",
              "</style>\n",
              "<table border=\"1\" class=\"dataframe\">\n",
              "  <thead>\n",
              "    <tr style=\"text-align: right;\">\n",
              "      <th></th>\n",
              "      <th>Q0_TOTAL_ASSETS</th>\n",
              "      <th>Q0_TOTAL_LIABILITIES</th>\n",
              "      <th>Q0_TOTAL_STOCKHOLDERS_EQUITY</th>\n",
              "      <th>Q0_GROSS_PROFIT</th>\n",
              "      <th>Q0_COST_OF_REVENUES</th>\n",
              "      <th>Q0_REVENUES</th>\n",
              "      <th>Q0_OPERATING_INCOME</th>\n",
              "      <th>Q0_OPERATING_EXPENSES</th>\n",
              "      <th>Q0_EBITDA</th>\n",
              "    </tr>\n",
              "  </thead>\n",
              "  <tbody>\n",
              "    <tr>\n",
              "      <th>0</th>\n",
              "      <td>1.192950e+09</td>\n",
              "      <td>1.055816e+09</td>\n",
              "      <td>1.371340e+08</td>\n",
              "      <td>25598000.0</td>\n",
              "      <td>6.189900e+07</td>\n",
              "      <td>4.299200e+07</td>\n",
              "      <td>1.522200e+07</td>\n",
              "      <td>10383000.0</td>\n",
              "      <td>15215000.0</td>\n",
              "    </tr>\n",
              "    <tr>\n",
              "      <th>1</th>\n",
              "      <td>1.219954e+09</td>\n",
              "      <td>8.350460e+08</td>\n",
              "      <td>3.849080e+08</td>\n",
              "      <td>111786000.0</td>\n",
              "      <td>2.177960e+08</td>\n",
              "      <td>3.295820e+08</td>\n",
              "      <td>2.890800e+07</td>\n",
              "      <td>85522000.0</td>\n",
              "      <td>26264000.0</td>\n",
              "    </tr>\n",
              "    <tr>\n",
              "      <th>2</th>\n",
              "      <td>-1.358200e+11</td>\n",
              "      <td>-3.797200e+10</td>\n",
              "      <td>-9.784800e+10</td>\n",
              "      <td>-435000000.0</td>\n",
              "      <td>4.445000e+09</td>\n",
              "      <td>4.010000e+09</td>\n",
              "      <td>-1.472000e+09</td>\n",
              "      <td>219000000.0</td>\n",
              "      <td>-654000000.0</td>\n",
              "    </tr>\n",
              "    <tr>\n",
              "      <th>3</th>\n",
              "      <td>8.329800e+07</td>\n",
              "      <td>1.604000e+07</td>\n",
              "      <td>-3.163300e+07</td>\n",
              "      <td>494000.0</td>\n",
              "      <td>3.339000e+06</td>\n",
              "      <td>3.833000e+06</td>\n",
              "      <td>-1.234800e+07</td>\n",
              "      <td>12842000.0</td>\n",
              "      <td>-12348000.0</td>\n",
              "    </tr>\n",
              "    <tr>\n",
              "      <th>4</th>\n",
              "      <td>1.485460e+08</td>\n",
              "      <td>5.655500e+07</td>\n",
              "      <td>9.199100e+07</td>\n",
              "      <td>1761000.0</td>\n",
              "      <td>-2.375000e+06</td>\n",
              "      <td>-6.140000e+05</td>\n",
              "      <td>-1.009800e+07</td>\n",
              "      <td>11859000.0</td>\n",
              "      <td>-10098000.0</td>\n",
              "    </tr>\n",
              "    <tr>\n",
              "      <th>...</th>\n",
              "      <td>...</td>\n",
              "      <td>...</td>\n",
              "      <td>...</td>\n",
              "      <td>...</td>\n",
              "      <td>...</td>\n",
              "      <td>...</td>\n",
              "      <td>...</td>\n",
              "      <td>...</td>\n",
              "      <td>...</td>\n",
              "    </tr>\n",
              "    <tr>\n",
              "      <th>1619</th>\n",
              "      <td>3.539600e+08</td>\n",
              "      <td>1.997590e+08</td>\n",
              "      <td>1.542010e+08</td>\n",
              "      <td>48741000.0</td>\n",
              "      <td>4.569300e+07</td>\n",
              "      <td>9.443400e+07</td>\n",
              "      <td>2.616000e+06</td>\n",
              "      <td>46125000.0</td>\n",
              "      <td>2616000.0</td>\n",
              "    </tr>\n",
              "    <tr>\n",
              "      <th>1620</th>\n",
              "      <td>1.061530e+08</td>\n",
              "      <td>3.949300e+07</td>\n",
              "      <td>6.811700e+07</td>\n",
              "      <td>1077000.0</td>\n",
              "      <td>1.690000e+05</td>\n",
              "      <td>1.246000e+06</td>\n",
              "      <td>-6.705000e+06</td>\n",
              "      <td>7782000.0</td>\n",
              "      <td>-6705000.0</td>\n",
              "    </tr>\n",
              "    <tr>\n",
              "      <th>1621</th>\n",
              "      <td>5.203150e+08</td>\n",
              "      <td>3.807960e+08</td>\n",
              "      <td>3.233080e+08</td>\n",
              "      <td>27808000.0</td>\n",
              "      <td>1.123840e+08</td>\n",
              "      <td>1.401920e+08</td>\n",
              "      <td>7.061000e+06</td>\n",
              "      <td>9417000.0</td>\n",
              "      <td>18391000.0</td>\n",
              "    </tr>\n",
              "    <tr>\n",
              "      <th>1622</th>\n",
              "      <td>1.997210e+08</td>\n",
              "      <td>2.692100e+07</td>\n",
              "      <td>1.728000e+08</td>\n",
              "      <td>0.0</td>\n",
              "      <td>0.000000e+00</td>\n",
              "      <td>0.000000e+00</td>\n",
              "      <td>-3.391900e+07</td>\n",
              "      <td>33919000.0</td>\n",
              "      <td>-33919000.0</td>\n",
              "    </tr>\n",
              "    <tr>\n",
              "      <th>1623</th>\n",
              "      <td>1.333626e+10</td>\n",
              "      <td>1.504531e+10</td>\n",
              "      <td>-8.217640e+08</td>\n",
              "      <td>394720000.0</td>\n",
              "      <td>5.777330e+08</td>\n",
              "      <td>9.724530e+08</td>\n",
              "      <td>6.259500e+07</td>\n",
              "      <td>268445000.0</td>\n",
              "      <td>126275000.0</td>\n",
              "    </tr>\n",
              "  </tbody>\n",
              "</table>\n",
              "<p>1624 rows × 9 columns</p>\n",
              "</div>\n",
              "    <div class=\"colab-df-buttons\">\n",
              "\n",
              "  <div class=\"colab-df-container\">\n",
              "    <button class=\"colab-df-convert\" onclick=\"convertToInteractive('df-2073a299-94f6-4cd0-bc49-ad98025a691b')\"\n",
              "            title=\"Convert this dataframe to an interactive table.\"\n",
              "            style=\"display:none;\">\n",
              "\n",
              "  <svg xmlns=\"http://www.w3.org/2000/svg\" height=\"24px\" viewBox=\"0 -960 960 960\">\n",
              "    <path d=\"M120-120v-720h720v720H120Zm60-500h600v-160H180v160Zm220 220h160v-160H400v160Zm0 220h160v-160H400v160ZM180-400h160v-160H180v160Zm440 0h160v-160H620v160ZM180-180h160v-160H180v160Zm440 0h160v-160H620v160Z\"/>\n",
              "  </svg>\n",
              "    </button>\n",
              "\n",
              "  <style>\n",
              "    .colab-df-container {\n",
              "      display:flex;\n",
              "      gap: 12px;\n",
              "    }\n",
              "\n",
              "    .colab-df-convert {\n",
              "      background-color: #E8F0FE;\n",
              "      border: none;\n",
              "      border-radius: 50%;\n",
              "      cursor: pointer;\n",
              "      display: none;\n",
              "      fill: #1967D2;\n",
              "      height: 32px;\n",
              "      padding: 0 0 0 0;\n",
              "      width: 32px;\n",
              "    }\n",
              "\n",
              "    .colab-df-convert:hover {\n",
              "      background-color: #E2EBFA;\n",
              "      box-shadow: 0px 1px 2px rgba(60, 64, 67, 0.3), 0px 1px 3px 1px rgba(60, 64, 67, 0.15);\n",
              "      fill: #174EA6;\n",
              "    }\n",
              "\n",
              "    .colab-df-buttons div {\n",
              "      margin-bottom: 4px;\n",
              "    }\n",
              "\n",
              "    [theme=dark] .colab-df-convert {\n",
              "      background-color: #3B4455;\n",
              "      fill: #D2E3FC;\n",
              "    }\n",
              "\n",
              "    [theme=dark] .colab-df-convert:hover {\n",
              "      background-color: #434B5C;\n",
              "      box-shadow: 0px 1px 3px 1px rgba(0, 0, 0, 0.15);\n",
              "      filter: drop-shadow(0px 1px 2px rgba(0, 0, 0, 0.3));\n",
              "      fill: #FFFFFF;\n",
              "    }\n",
              "  </style>\n",
              "\n",
              "    <script>\n",
              "      const buttonEl =\n",
              "        document.querySelector('#df-2073a299-94f6-4cd0-bc49-ad98025a691b button.colab-df-convert');\n",
              "      buttonEl.style.display =\n",
              "        google.colab.kernel.accessAllowed ? 'block' : 'none';\n",
              "\n",
              "      async function convertToInteractive(key) {\n",
              "        const element = document.querySelector('#df-2073a299-94f6-4cd0-bc49-ad98025a691b');\n",
              "        const dataTable =\n",
              "          await google.colab.kernel.invokeFunction('convertToInteractive',\n",
              "                                                    [key], {});\n",
              "        if (!dataTable) return;\n",
              "\n",
              "        const docLinkHtml = 'Like what you see? Visit the ' +\n",
              "          '<a target=\"_blank\" href=https://colab.research.google.com/notebooks/data_table.ipynb>data table notebook</a>'\n",
              "          + ' to learn more about interactive tables.';\n",
              "        element.innerHTML = '';\n",
              "        dataTable['output_type'] = 'display_data';\n",
              "        await google.colab.output.renderOutput(dataTable, element);\n",
              "        const docLink = document.createElement('div');\n",
              "        docLink.innerHTML = docLinkHtml;\n",
              "        element.appendChild(docLink);\n",
              "      }\n",
              "    </script>\n",
              "  </div>\n",
              "\n",
              "\n",
              "<div id=\"df-06ea2719-06c2-4464-b7f2-83068a9e24e4\">\n",
              "  <button class=\"colab-df-quickchart\" onclick=\"quickchart('df-06ea2719-06c2-4464-b7f2-83068a9e24e4')\"\n",
              "            title=\"Suggest charts\"\n",
              "            style=\"display:none;\">\n",
              "\n",
              "<svg xmlns=\"http://www.w3.org/2000/svg\" height=\"24px\"viewBox=\"0 0 24 24\"\n",
              "     width=\"24px\">\n",
              "    <g>\n",
              "        <path d=\"M19 3H5c-1.1 0-2 .9-2 2v14c0 1.1.9 2 2 2h14c1.1 0 2-.9 2-2V5c0-1.1-.9-2-2-2zM9 17H7v-7h2v7zm4 0h-2V7h2v10zm4 0h-2v-4h2v4z\"/>\n",
              "    </g>\n",
              "</svg>\n",
              "  </button>\n",
              "\n",
              "<style>\n",
              "  .colab-df-quickchart {\n",
              "      --bg-color: #E8F0FE;\n",
              "      --fill-color: #1967D2;\n",
              "      --hover-bg-color: #E2EBFA;\n",
              "      --hover-fill-color: #174EA6;\n",
              "      --disabled-fill-color: #AAA;\n",
              "      --disabled-bg-color: #DDD;\n",
              "  }\n",
              "\n",
              "  [theme=dark] .colab-df-quickchart {\n",
              "      --bg-color: #3B4455;\n",
              "      --fill-color: #D2E3FC;\n",
              "      --hover-bg-color: #434B5C;\n",
              "      --hover-fill-color: #FFFFFF;\n",
              "      --disabled-bg-color: #3B4455;\n",
              "      --disabled-fill-color: #666;\n",
              "  }\n",
              "\n",
              "  .colab-df-quickchart {\n",
              "    background-color: var(--bg-color);\n",
              "    border: none;\n",
              "    border-radius: 50%;\n",
              "    cursor: pointer;\n",
              "    display: none;\n",
              "    fill: var(--fill-color);\n",
              "    height: 32px;\n",
              "    padding: 0;\n",
              "    width: 32px;\n",
              "  }\n",
              "\n",
              "  .colab-df-quickchart:hover {\n",
              "    background-color: var(--hover-bg-color);\n",
              "    box-shadow: 0 1px 2px rgba(60, 64, 67, 0.3), 0 1px 3px 1px rgba(60, 64, 67, 0.15);\n",
              "    fill: var(--button-hover-fill-color);\n",
              "  }\n",
              "\n",
              "  .colab-df-quickchart-complete:disabled,\n",
              "  .colab-df-quickchart-complete:disabled:hover {\n",
              "    background-color: var(--disabled-bg-color);\n",
              "    fill: var(--disabled-fill-color);\n",
              "    box-shadow: none;\n",
              "  }\n",
              "\n",
              "  .colab-df-spinner {\n",
              "    border: 2px solid var(--fill-color);\n",
              "    border-color: transparent;\n",
              "    border-bottom-color: var(--fill-color);\n",
              "    animation:\n",
              "      spin 1s steps(1) infinite;\n",
              "  }\n",
              "\n",
              "  @keyframes spin {\n",
              "    0% {\n",
              "      border-color: transparent;\n",
              "      border-bottom-color: var(--fill-color);\n",
              "      border-left-color: var(--fill-color);\n",
              "    }\n",
              "    20% {\n",
              "      border-color: transparent;\n",
              "      border-left-color: var(--fill-color);\n",
              "      border-top-color: var(--fill-color);\n",
              "    }\n",
              "    30% {\n",
              "      border-color: transparent;\n",
              "      border-left-color: var(--fill-color);\n",
              "      border-top-color: var(--fill-color);\n",
              "      border-right-color: var(--fill-color);\n",
              "    }\n",
              "    40% {\n",
              "      border-color: transparent;\n",
              "      border-right-color: var(--fill-color);\n",
              "      border-top-color: var(--fill-color);\n",
              "    }\n",
              "    60% {\n",
              "      border-color: transparent;\n",
              "      border-right-color: var(--fill-color);\n",
              "    }\n",
              "    80% {\n",
              "      border-color: transparent;\n",
              "      border-right-color: var(--fill-color);\n",
              "      border-bottom-color: var(--fill-color);\n",
              "    }\n",
              "    90% {\n",
              "      border-color: transparent;\n",
              "      border-bottom-color: var(--fill-color);\n",
              "    }\n",
              "  }\n",
              "</style>\n",
              "\n",
              "  <script>\n",
              "    async function quickchart(key) {\n",
              "      const quickchartButtonEl =\n",
              "        document.querySelector('#' + key + ' button');\n",
              "      quickchartButtonEl.disabled = true;  // To prevent multiple clicks.\n",
              "      quickchartButtonEl.classList.add('colab-df-spinner');\n",
              "      try {\n",
              "        const charts = await google.colab.kernel.invokeFunction(\n",
              "            'suggestCharts', [key], {});\n",
              "      } catch (error) {\n",
              "        console.error('Error during call to suggestCharts:', error);\n",
              "      }\n",
              "      quickchartButtonEl.classList.remove('colab-df-spinner');\n",
              "      quickchartButtonEl.classList.add('colab-df-quickchart-complete');\n",
              "    }\n",
              "    (() => {\n",
              "      let quickchartButtonEl =\n",
              "        document.querySelector('#df-06ea2719-06c2-4464-b7f2-83068a9e24e4 button');\n",
              "      quickchartButtonEl.style.display =\n",
              "        google.colab.kernel.accessAllowed ? 'block' : 'none';\n",
              "    })();\n",
              "  </script>\n",
              "</div>\n",
              "\n",
              "  <div id=\"id_6da9e786-ff29-4449-a8af-6105f5c3df7b\">\n",
              "    <style>\n",
              "      .colab-df-generate {\n",
              "        background-color: #E8F0FE;\n",
              "        border: none;\n",
              "        border-radius: 50%;\n",
              "        cursor: pointer;\n",
              "        display: none;\n",
              "        fill: #1967D2;\n",
              "        height: 32px;\n",
              "        padding: 0 0 0 0;\n",
              "        width: 32px;\n",
              "      }\n",
              "\n",
              "      .colab-df-generate:hover {\n",
              "        background-color: #E2EBFA;\n",
              "        box-shadow: 0px 1px 2px rgba(60, 64, 67, 0.3), 0px 1px 3px 1px rgba(60, 64, 67, 0.15);\n",
              "        fill: #174EA6;\n",
              "      }\n",
              "\n",
              "      [theme=dark] .colab-df-generate {\n",
              "        background-color: #3B4455;\n",
              "        fill: #D2E3FC;\n",
              "      }\n",
              "\n",
              "      [theme=dark] .colab-df-generate:hover {\n",
              "        background-color: #434B5C;\n",
              "        box-shadow: 0px 1px 3px 1px rgba(0, 0, 0, 0.15);\n",
              "        filter: drop-shadow(0px 1px 2px rgba(0, 0, 0, 0.3));\n",
              "        fill: #FFFFFF;\n",
              "      }\n",
              "    </style>\n",
              "    <button class=\"colab-df-generate\" onclick=\"generateWithVariable('targets')\"\n",
              "            title=\"Generate code using this dataframe.\"\n",
              "            style=\"display:none;\">\n",
              "\n",
              "  <svg xmlns=\"http://www.w3.org/2000/svg\" height=\"24px\"viewBox=\"0 0 24 24\"\n",
              "       width=\"24px\">\n",
              "    <path d=\"M7,19H8.4L18.45,9,17,7.55,7,17.6ZM5,21V16.75L18.45,3.32a2,2,0,0,1,2.83,0l1.4,1.43a1.91,1.91,0,0,1,.58,1.4,1.91,1.91,0,0,1-.58,1.4L9.25,21ZM18.45,9,17,7.55Zm-12,3A5.31,5.31,0,0,0,4.9,8.1,5.31,5.31,0,0,0,1,6.5,5.31,5.31,0,0,0,4.9,4.9,5.31,5.31,0,0,0,6.5,1,5.31,5.31,0,0,0,8.1,4.9,5.31,5.31,0,0,0,12,6.5,5.46,5.46,0,0,0,6.5,12Z\"/>\n",
              "  </svg>\n",
              "    </button>\n",
              "    <script>\n",
              "      (() => {\n",
              "      const buttonEl =\n",
              "        document.querySelector('#id_6da9e786-ff29-4449-a8af-6105f5c3df7b button.colab-df-generate');\n",
              "      buttonEl.style.display =\n",
              "        google.colab.kernel.accessAllowed ? 'block' : 'none';\n",
              "\n",
              "      buttonEl.onclick = () => {\n",
              "        google.colab.notebook.generateWithVariable('targets');\n",
              "      }\n",
              "      })();\n",
              "    </script>\n",
              "  </div>\n",
              "\n",
              "    </div>\n",
              "  </div>\n"
            ],
            "application/vnd.google.colaboratory.intrinsic+json": {
              "type": "dataframe",
              "variable_name": "targets",
              "summary": "{\n  \"name\": \"targets\",\n  \"rows\": 1624,\n  \"fields\": [\n    {\n      \"column\": \"Q0_TOTAL_ASSETS\",\n      \"properties\": {\n        \"dtype\": \"number\",\n        \"std\": 26366381533.242573,\n        \"min\": -195331000000.0,\n        \"max\": 384830000000.0,\n        \"num_unique_values\": 1605,\n        \"samples\": [\n          104633000.0,\n          123749000000.0,\n          84073.0\n        ],\n        \"semantic_type\": \"\",\n        \"description\": \"\"\n      }\n    },\n    {\n      \"column\": \"Q0_TOTAL_LIABILITIES\",\n      \"properties\": {\n        \"dtype\": \"number\",\n        \"std\": 16243727637.119396,\n        \"min\": -139965000000.0,\n        \"max\": 212717000000.0,\n        \"num_unique_values\": 1605,\n        \"samples\": [\n          213515000.0,\n          77607000000.0,\n          2814055.0\n        ],\n        \"semantic_type\": \"\",\n        \"description\": \"\"\n      }\n    },\n    {\n      \"column\": \"Q0_TOTAL_STOCKHOLDERS_EQUITY\",\n      \"properties\": {\n        \"dtype\": \"number\",\n        \"std\": 11691092662.952324,\n        \"min\": -97848000000.0,\n        \"max\": 180718140097.6792,\n        \"num_unique_values\": 1603,\n        \"samples\": [\n          3852913.0,\n          119471000.0,\n          -2729982.0\n        ],\n        \"semantic_type\": \"\",\n        \"description\": \"\"\n      }\n    },\n    {\n      \"column\": \"Q0_GROSS_PROFIT\",\n      \"properties\": {\n        \"dtype\": \"number\",\n        \"std\": 1817922670.362002,\n        \"min\": -917000000.0,\n        \"max\": 37186000000.0,\n        \"num_unique_values\": 1545,\n        \"samples\": [\n          1264169.0,\n          25259000.0,\n          127287000.0\n        ],\n        \"semantic_type\": \"\",\n        \"description\": \"\"\n      }\n    },\n    {\n      \"column\": \"Q0_COST_OF_REVENUES\",\n      \"properties\": {\n        \"dtype\": \"number\",\n        \"std\": 3085667452.705768,\n        \"min\": -15873000000.0,\n        \"max\": 50749000000.0,\n        \"num_unique_values\": 1397,\n        \"samples\": [\n          464081000.0,\n          24619000.0,\n          1043000000.0\n        ],\n        \"semantic_type\": \"\",\n        \"description\": \"\"\n      }\n    },\n    {\n      \"column\": \"Q0_REVENUES\",\n      \"properties\": {\n        \"dtype\": \"number\",\n        \"std\": 4041766682.6571074,\n        \"min\": -385000000.0,\n        \"max\": 49048000000.0,\n        \"num_unique_values\": 1542,\n        \"samples\": [\n          211369000.0,\n          140000.0,\n          53201000.0\n        ],\n        \"semantic_type\": \"\",\n        \"description\": \"\"\n      }\n    },\n    {\n      \"column\": \"Q0_OPERATING_INCOME\",\n      \"properties\": {\n        \"dtype\": \"number\",\n        \"std\": 631054263.9453919,\n        \"min\": -2654000000.0,\n        \"max\": 13748000000.0,\n        \"num_unique_values\": 1583,\n        \"samples\": [\n          1916394000.0,\n          19006000.0,\n          -1482000.0\n        ],\n        \"semantic_type\": \"\",\n        \"description\": \"\"\n      }\n    },\n    {\n      \"column\": \"Q0_OPERATING_EXPENSES\",\n      \"properties\": {\n        \"dtype\": \"number\",\n        \"std\": 1553039099.421891,\n        \"min\": -24030000.0,\n        \"max\": 41118000000.0,\n        \"num_unique_values\": 1594,\n        \"samples\": [\n          118830000.0,\n          955990.0,\n          17527879.0\n        ],\n        \"semantic_type\": \"\",\n        \"description\": \"\"\n      }\n    },\n    {\n      \"column\": \"Q0_EBITDA\",\n      \"properties\": {\n        \"dtype\": \"number\",\n        \"std\": 1438215965.4134254,\n        \"min\": -32829000000.0,\n        \"max\": 34138000000.0,\n        \"num_unique_values\": 1584,\n        \"samples\": [\n          234800000.0,\n          444977000.0,\n          11983000.0\n        ],\n        \"semantic_type\": \"\",\n        \"description\": \"\"\n      }\n    }\n  ]\n}"
            }
          },
          "metadata": {},
          "execution_count": 25
        }
      ]
    },
    {
      "cell_type": "code",
      "source": [
        "model = XGBRegressor()"
      ],
      "metadata": {
        "papermill": {
          "duration": 0.02542,
          "end_time": "2024-02-22T09:23:49.33112",
          "exception": false,
          "start_time": "2024-02-22T09:23:49.3057",
          "status": "completed"
        },
        "tags": [],
        "execution": {
          "iopub.status.busy": "2024-03-07T09:29:27.050595Z",
          "iopub.execute_input": "2024-03-07T09:29:27.050969Z",
          "iopub.status.idle": "2024-03-07T09:29:27.060017Z",
          "shell.execute_reply.started": "2024-03-07T09:29:27.050937Z",
          "shell.execute_reply": "2024-03-07T09:29:27.058818Z"
        },
        "trusted": true,
        "id": "X8ga1lA4rGT4"
      },
      "execution_count": 26,
      "outputs": []
    },
    {
      "cell_type": "code",
      "source": [
        "print('Cross validation R2 scores for each target:\\n')\n",
        "cross_val_score_results = {}\n",
        "for target in targets:\n",
        "    score = np.round(np.mean(cvs(model, train, targets[target], cv=10, scoring='r2')),2)\n",
        "    cross_val_score_results[target] = score\n",
        "    print(f'{target} -> {score}')\n",
        "print(f'\\nMean R2 score across all targets: {np.mean(list(cross_val_score_results.values()))}')"
      ],
      "metadata": {
        "papermill": {
          "duration": 64.521823,
          "end_time": "2024-02-22T09:24:53.869062",
          "exception": false,
          "start_time": "2024-02-22T09:23:49.347239",
          "status": "completed"
        },
        "tags": [],
        "execution": {
          "iopub.status.busy": "2024-03-07T09:29:27.061312Z",
          "iopub.execute_input": "2024-03-07T09:29:27.061681Z",
          "iopub.status.idle": "2024-03-07T09:32:37.686682Z",
          "shell.execute_reply.started": "2024-03-07T09:29:27.061652Z",
          "shell.execute_reply": "2024-03-07T09:32:37.685855Z"
        },
        "trusted": true,
        "colab": {
          "base_uri": "https://localhost:8080/"
        },
        "id": "A61kZCjcrGT5",
        "outputId": "07021123-784c-42c5-c946-5957ee3b3aa9"
      },
      "execution_count": 27,
      "outputs": [
        {
          "output_type": "stream",
          "name": "stdout",
          "text": [
            "Cross validation R2 scores for each target:\n",
            "\n",
            "Q0_TOTAL_ASSETS -> 0.83\n",
            "Q0_TOTAL_LIABILITIES -> 0.58\n",
            "Q0_TOTAL_STOCKHOLDERS_EQUITY -> 0.9\n",
            "Q0_GROSS_PROFIT -> 0.89\n",
            "Q0_COST_OF_REVENUES -> 0.9\n",
            "Q0_REVENUES -> 0.95\n",
            "Q0_OPERATING_INCOME -> 0.78\n",
            "Q0_OPERATING_EXPENSES -> 0.88\n",
            "Q0_EBITDA -> 0.01\n",
            "\n",
            "Mean R2 score across all targets: 0.7466666666666667\n"
          ]
        }
      ]
    },
    {
      "cell_type": "markdown",
      "source": [
        "Arbitrary results. EBITDA R2 is negative, but the rest are not bad. Let's try to upload a first submission."
      ],
      "metadata": {
        "papermill": {
          "duration": 0.017663,
          "end_time": "2024-02-22T09:24:53.905657",
          "exception": false,
          "start_time": "2024-02-22T09:24:53.887994",
          "status": "completed"
        },
        "tags": [],
        "id": "zoYO1rRArGUA"
      }
    },
    {
      "cell_type": "markdown",
      "source": [
        "## Train same model on the whole trains set, predict on test, save to dictionary"
      ],
      "metadata": {
        "papermill": {
          "duration": 0.017472,
          "end_time": "2024-02-22T09:24:53.940244",
          "exception": false,
          "start_time": "2024-02-22T09:24:53.922772",
          "status": "completed"
        },
        "tags": [],
        "id": "jCociCy4rGUB"
      }
    },
    {
      "cell_type": "code",
      "source": [
        "preds = {}\n",
        "for target in targets:\n",
        "    model.fit(train, targets[target])\n",
        "    pred = model.predict(test)\n",
        "    preds[target] = pred\n",
        "    print(f'Finished train/predict for: {target}')"
      ],
      "metadata": {
        "papermill": {
          "duration": 22.850306,
          "end_time": "2024-02-22T09:25:16.80756",
          "exception": false,
          "start_time": "2024-02-22T09:24:53.957254",
          "status": "completed"
        },
        "tags": [],
        "execution": {
          "iopub.status.busy": "2024-03-07T09:32:37.687972Z",
          "iopub.execute_input": "2024-03-07T09:32:37.688638Z",
          "iopub.status.idle": "2024-03-07T09:32:56.897523Z",
          "shell.execute_reply.started": "2024-03-07T09:32:37.688592Z",
          "shell.execute_reply": "2024-03-07T09:32:56.89676Z"
        },
        "trusted": true,
        "colab": {
          "base_uri": "https://localhost:8080/"
        },
        "id": "7jPY17cirGUC",
        "outputId": "24cc6f53-c57f-4b38-81e1-ecaebaa6920a"
      },
      "execution_count": 28,
      "outputs": [
        {
          "output_type": "stream",
          "name": "stdout",
          "text": [
            "Finished train/predict for: Q0_TOTAL_ASSETS\n",
            "Finished train/predict for: Q0_TOTAL_LIABILITIES\n",
            "Finished train/predict for: Q0_TOTAL_STOCKHOLDERS_EQUITY\n",
            "Finished train/predict for: Q0_GROSS_PROFIT\n",
            "Finished train/predict for: Q0_COST_OF_REVENUES\n",
            "Finished train/predict for: Q0_REVENUES\n",
            "Finished train/predict for: Q0_OPERATING_INCOME\n",
            "Finished train/predict for: Q0_OPERATING_EXPENSES\n",
            "Finished train/predict for: Q0_EBITDA\n"
          ]
        }
      ]
    },
    {
      "cell_type": "markdown",
      "source": [
        "## Make submission"
      ],
      "metadata": {
        "papermill": {
          "duration": 0.017542,
          "end_time": "2024-02-22T09:25:16.844707",
          "exception": false,
          "start_time": "2024-02-22T09:25:16.827165",
          "status": "completed"
        },
        "tags": [],
        "id": "zBFzWIYhrGUD"
      }
    },
    {
      "cell_type": "code",
      "source": [
        "sub = pd.read_csv('/kaggle/input/financial-performance-prediction/sample_submission.csv')"
      ],
      "metadata": {
        "papermill": {
          "duration": 0.03566,
          "end_time": "2024-02-22T09:25:16.898193",
          "exception": false,
          "start_time": "2024-02-22T09:25:16.862533",
          "status": "completed"
        },
        "tags": [],
        "execution": {
          "iopub.status.busy": "2024-03-07T09:32:56.904548Z",
          "iopub.execute_input": "2024-03-07T09:32:56.906674Z",
          "iopub.status.idle": "2024-03-07T09:32:56.916398Z",
          "shell.execute_reply.started": "2024-03-07T09:32:56.906634Z",
          "shell.execute_reply": "2024-03-07T09:32:56.915564Z"
        },
        "trusted": true,
        "id": "5HUZIPmCrGUK"
      },
      "execution_count": 29,
      "outputs": []
    },
    {
      "cell_type": "code",
      "source": [
        "# sanity check\n",
        "sub.Id == test.Id"
      ],
      "metadata": {
        "papermill": {
          "duration": 0.031672,
          "end_time": "2024-02-22T09:25:16.948839",
          "exception": false,
          "start_time": "2024-02-22T09:25:16.917167",
          "status": "completed"
        },
        "tags": [],
        "execution": {
          "iopub.status.busy": "2024-03-07T09:32:56.917539Z",
          "iopub.execute_input": "2024-03-07T09:32:56.917791Z",
          "iopub.status.idle": "2024-03-07T09:32:56.926583Z",
          "shell.execute_reply.started": "2024-03-07T09:32:56.917769Z",
          "shell.execute_reply": "2024-03-07T09:32:56.925609Z"
        },
        "trusted": true,
        "colab": {
          "base_uri": "https://localhost:8080/"
        },
        "id": "ar8X42uYrGUN",
        "outputId": "26bf5368-7fb1-42e9-8bf4-733041bbfb0f"
      },
      "execution_count": 30,
      "outputs": [
        {
          "output_type": "execute_result",
          "data": {
            "text/plain": [
              "0      True\n",
              "1      True\n",
              "2      True\n",
              "3      True\n",
              "4      True\n",
              "       ... \n",
              "401    True\n",
              "402    True\n",
              "403    True\n",
              "404    True\n",
              "405    True\n",
              "Name: Id, Length: 406, dtype: bool"
            ]
          },
          "metadata": {},
          "execution_count": 30
        }
      ]
    },
    {
      "cell_type": "code",
      "source": [
        "for target in preds:\n",
        "    sub[target] = preds[target]\n",
        "sub.head()"
      ],
      "metadata": {
        "papermill": {
          "duration": 0.044316,
          "end_time": "2024-02-22T09:25:17.010967",
          "exception": false,
          "start_time": "2024-02-22T09:25:16.966651",
          "status": "completed"
        },
        "tags": [],
        "execution": {
          "iopub.status.busy": "2024-03-07T09:32:56.927693Z",
          "iopub.execute_input": "2024-03-07T09:32:56.927978Z",
          "iopub.status.idle": "2024-03-07T09:32:56.952936Z",
          "shell.execute_reply.started": "2024-03-07T09:32:56.927941Z",
          "shell.execute_reply": "2024-03-07T09:32:56.951885Z"
        },
        "trusted": true,
        "colab": {
          "base_uri": "https://localhost:8080/",
          "height": 226
        },
        "id": "BM-0hIkSrGUP",
        "outputId": "b33a4ea9-d823-4cc8-eb32-f17d1c686f56"
      },
      "execution_count": 31,
      "outputs": [
        {
          "output_type": "execute_result",
          "data": {
            "text/plain": [
              "     Id   Q0_REVENUES  Q0_COST_OF_REVENUES  Q0_GROSS_PROFIT  \\\n",
              "0   480 -1.211120e+06        -3.895045e+05    -5.017264e+04   \n",
              "1   573  5.949692e+08         3.356995e+08     1.815985e+08   \n",
              "2  1967 -1.272589e+06         1.030028e+07    -6.526061e+05   \n",
              "3    57  4.606910e+08         2.904094e+08     1.891734e+08   \n",
              "4   131  9.713140e+08         8.411632e+08     1.933180e+08   \n",
              "\n",
              "   Q0_OPERATING_EXPENSES     Q0_EBITDA  Q0_OPERATING_INCOME  Q0_TOTAL_ASSETS  \\\n",
              "0          -7.105477e+05 -1.565854e+06        -1.995759e+06    -2.966194e+07   \n",
              "1           1.065167e+08  1.317824e+08         4.421544e+07     3.533268e+09   \n",
              "2           4.120479e+06 -6.113872e+06        -5.567920e+06     5.888865e+07   \n",
              "3           7.999364e+07  6.343608e+07         6.295966e+07     6.022530e+09   \n",
              "4           8.722598e+07  1.275100e+08         1.266720e+08     4.397583e+09   \n",
              "\n",
              "   Q0_TOTAL_LIABILITIES  Q0_TOTAL_STOCKHOLDERS_EQUITY  \n",
              "0         -1.779459e+06                  4.574116e+05  \n",
              "1          1.871350e+09                  5.346400e+08  \n",
              "2          2.424615e+07                  1.971546e+06  \n",
              "3          2.713045e+09                  3.356197e+09  \n",
              "4          2.879660e+09                  1.119394e+09  "
            ],
            "text/html": [
              "\n",
              "  <div id=\"df-06d387e1-2c49-492b-bc07-d7c520b70eac\" class=\"colab-df-container\">\n",
              "    <div>\n",
              "<style scoped>\n",
              "    .dataframe tbody tr th:only-of-type {\n",
              "        vertical-align: middle;\n",
              "    }\n",
              "\n",
              "    .dataframe tbody tr th {\n",
              "        vertical-align: top;\n",
              "    }\n",
              "\n",
              "    .dataframe thead th {\n",
              "        text-align: right;\n",
              "    }\n",
              "</style>\n",
              "<table border=\"1\" class=\"dataframe\">\n",
              "  <thead>\n",
              "    <tr style=\"text-align: right;\">\n",
              "      <th></th>\n",
              "      <th>Id</th>\n",
              "      <th>Q0_REVENUES</th>\n",
              "      <th>Q0_COST_OF_REVENUES</th>\n",
              "      <th>Q0_GROSS_PROFIT</th>\n",
              "      <th>Q0_OPERATING_EXPENSES</th>\n",
              "      <th>Q0_EBITDA</th>\n",
              "      <th>Q0_OPERATING_INCOME</th>\n",
              "      <th>Q0_TOTAL_ASSETS</th>\n",
              "      <th>Q0_TOTAL_LIABILITIES</th>\n",
              "      <th>Q0_TOTAL_STOCKHOLDERS_EQUITY</th>\n",
              "    </tr>\n",
              "  </thead>\n",
              "  <tbody>\n",
              "    <tr>\n",
              "      <th>0</th>\n",
              "      <td>480</td>\n",
              "      <td>-1.211120e+06</td>\n",
              "      <td>-3.895045e+05</td>\n",
              "      <td>-5.017264e+04</td>\n",
              "      <td>-7.105477e+05</td>\n",
              "      <td>-1.565854e+06</td>\n",
              "      <td>-1.995759e+06</td>\n",
              "      <td>-2.966194e+07</td>\n",
              "      <td>-1.779459e+06</td>\n",
              "      <td>4.574116e+05</td>\n",
              "    </tr>\n",
              "    <tr>\n",
              "      <th>1</th>\n",
              "      <td>573</td>\n",
              "      <td>5.949692e+08</td>\n",
              "      <td>3.356995e+08</td>\n",
              "      <td>1.815985e+08</td>\n",
              "      <td>1.065167e+08</td>\n",
              "      <td>1.317824e+08</td>\n",
              "      <td>4.421544e+07</td>\n",
              "      <td>3.533268e+09</td>\n",
              "      <td>1.871350e+09</td>\n",
              "      <td>5.346400e+08</td>\n",
              "    </tr>\n",
              "    <tr>\n",
              "      <th>2</th>\n",
              "      <td>1967</td>\n",
              "      <td>-1.272589e+06</td>\n",
              "      <td>1.030028e+07</td>\n",
              "      <td>-6.526061e+05</td>\n",
              "      <td>4.120479e+06</td>\n",
              "      <td>-6.113872e+06</td>\n",
              "      <td>-5.567920e+06</td>\n",
              "      <td>5.888865e+07</td>\n",
              "      <td>2.424615e+07</td>\n",
              "      <td>1.971546e+06</td>\n",
              "    </tr>\n",
              "    <tr>\n",
              "      <th>3</th>\n",
              "      <td>57</td>\n",
              "      <td>4.606910e+08</td>\n",
              "      <td>2.904094e+08</td>\n",
              "      <td>1.891734e+08</td>\n",
              "      <td>7.999364e+07</td>\n",
              "      <td>6.343608e+07</td>\n",
              "      <td>6.295966e+07</td>\n",
              "      <td>6.022530e+09</td>\n",
              "      <td>2.713045e+09</td>\n",
              "      <td>3.356197e+09</td>\n",
              "    </tr>\n",
              "    <tr>\n",
              "      <th>4</th>\n",
              "      <td>131</td>\n",
              "      <td>9.713140e+08</td>\n",
              "      <td>8.411632e+08</td>\n",
              "      <td>1.933180e+08</td>\n",
              "      <td>8.722598e+07</td>\n",
              "      <td>1.275100e+08</td>\n",
              "      <td>1.266720e+08</td>\n",
              "      <td>4.397583e+09</td>\n",
              "      <td>2.879660e+09</td>\n",
              "      <td>1.119394e+09</td>\n",
              "    </tr>\n",
              "  </tbody>\n",
              "</table>\n",
              "</div>\n",
              "    <div class=\"colab-df-buttons\">\n",
              "\n",
              "  <div class=\"colab-df-container\">\n",
              "    <button class=\"colab-df-convert\" onclick=\"convertToInteractive('df-06d387e1-2c49-492b-bc07-d7c520b70eac')\"\n",
              "            title=\"Convert this dataframe to an interactive table.\"\n",
              "            style=\"display:none;\">\n",
              "\n",
              "  <svg xmlns=\"http://www.w3.org/2000/svg\" height=\"24px\" viewBox=\"0 -960 960 960\">\n",
              "    <path d=\"M120-120v-720h720v720H120Zm60-500h600v-160H180v160Zm220 220h160v-160H400v160Zm0 220h160v-160H400v160ZM180-400h160v-160H180v160Zm440 0h160v-160H620v160ZM180-180h160v-160H180v160Zm440 0h160v-160H620v160Z\"/>\n",
              "  </svg>\n",
              "    </button>\n",
              "\n",
              "  <style>\n",
              "    .colab-df-container {\n",
              "      display:flex;\n",
              "      gap: 12px;\n",
              "    }\n",
              "\n",
              "    .colab-df-convert {\n",
              "      background-color: #E8F0FE;\n",
              "      border: none;\n",
              "      border-radius: 50%;\n",
              "      cursor: pointer;\n",
              "      display: none;\n",
              "      fill: #1967D2;\n",
              "      height: 32px;\n",
              "      padding: 0 0 0 0;\n",
              "      width: 32px;\n",
              "    }\n",
              "\n",
              "    .colab-df-convert:hover {\n",
              "      background-color: #E2EBFA;\n",
              "      box-shadow: 0px 1px 2px rgba(60, 64, 67, 0.3), 0px 1px 3px 1px rgba(60, 64, 67, 0.15);\n",
              "      fill: #174EA6;\n",
              "    }\n",
              "\n",
              "    .colab-df-buttons div {\n",
              "      margin-bottom: 4px;\n",
              "    }\n",
              "\n",
              "    [theme=dark] .colab-df-convert {\n",
              "      background-color: #3B4455;\n",
              "      fill: #D2E3FC;\n",
              "    }\n",
              "\n",
              "    [theme=dark] .colab-df-convert:hover {\n",
              "      background-color: #434B5C;\n",
              "      box-shadow: 0px 1px 3px 1px rgba(0, 0, 0, 0.15);\n",
              "      filter: drop-shadow(0px 1px 2px rgba(0, 0, 0, 0.3));\n",
              "      fill: #FFFFFF;\n",
              "    }\n",
              "  </style>\n",
              "\n",
              "    <script>\n",
              "      const buttonEl =\n",
              "        document.querySelector('#df-06d387e1-2c49-492b-bc07-d7c520b70eac button.colab-df-convert');\n",
              "      buttonEl.style.display =\n",
              "        google.colab.kernel.accessAllowed ? 'block' : 'none';\n",
              "\n",
              "      async function convertToInteractive(key) {\n",
              "        const element = document.querySelector('#df-06d387e1-2c49-492b-bc07-d7c520b70eac');\n",
              "        const dataTable =\n",
              "          await google.colab.kernel.invokeFunction('convertToInteractive',\n",
              "                                                    [key], {});\n",
              "        if (!dataTable) return;\n",
              "\n",
              "        const docLinkHtml = 'Like what you see? Visit the ' +\n",
              "          '<a target=\"_blank\" href=https://colab.research.google.com/notebooks/data_table.ipynb>data table notebook</a>'\n",
              "          + ' to learn more about interactive tables.';\n",
              "        element.innerHTML = '';\n",
              "        dataTable['output_type'] = 'display_data';\n",
              "        await google.colab.output.renderOutput(dataTable, element);\n",
              "        const docLink = document.createElement('div');\n",
              "        docLink.innerHTML = docLinkHtml;\n",
              "        element.appendChild(docLink);\n",
              "      }\n",
              "    </script>\n",
              "  </div>\n",
              "\n",
              "\n",
              "<div id=\"df-a6f12bad-7d71-41df-98b3-706fbbdb30bc\">\n",
              "  <button class=\"colab-df-quickchart\" onclick=\"quickchart('df-a6f12bad-7d71-41df-98b3-706fbbdb30bc')\"\n",
              "            title=\"Suggest charts\"\n",
              "            style=\"display:none;\">\n",
              "\n",
              "<svg xmlns=\"http://www.w3.org/2000/svg\" height=\"24px\"viewBox=\"0 0 24 24\"\n",
              "     width=\"24px\">\n",
              "    <g>\n",
              "        <path d=\"M19 3H5c-1.1 0-2 .9-2 2v14c0 1.1.9 2 2 2h14c1.1 0 2-.9 2-2V5c0-1.1-.9-2-2-2zM9 17H7v-7h2v7zm4 0h-2V7h2v10zm4 0h-2v-4h2v4z\"/>\n",
              "    </g>\n",
              "</svg>\n",
              "  </button>\n",
              "\n",
              "<style>\n",
              "  .colab-df-quickchart {\n",
              "      --bg-color: #E8F0FE;\n",
              "      --fill-color: #1967D2;\n",
              "      --hover-bg-color: #E2EBFA;\n",
              "      --hover-fill-color: #174EA6;\n",
              "      --disabled-fill-color: #AAA;\n",
              "      --disabled-bg-color: #DDD;\n",
              "  }\n",
              "\n",
              "  [theme=dark] .colab-df-quickchart {\n",
              "      --bg-color: #3B4455;\n",
              "      --fill-color: #D2E3FC;\n",
              "      --hover-bg-color: #434B5C;\n",
              "      --hover-fill-color: #FFFFFF;\n",
              "      --disabled-bg-color: #3B4455;\n",
              "      --disabled-fill-color: #666;\n",
              "  }\n",
              "\n",
              "  .colab-df-quickchart {\n",
              "    background-color: var(--bg-color);\n",
              "    border: none;\n",
              "    border-radius: 50%;\n",
              "    cursor: pointer;\n",
              "    display: none;\n",
              "    fill: var(--fill-color);\n",
              "    height: 32px;\n",
              "    padding: 0;\n",
              "    width: 32px;\n",
              "  }\n",
              "\n",
              "  .colab-df-quickchart:hover {\n",
              "    background-color: var(--hover-bg-color);\n",
              "    box-shadow: 0 1px 2px rgba(60, 64, 67, 0.3), 0 1px 3px 1px rgba(60, 64, 67, 0.15);\n",
              "    fill: var(--button-hover-fill-color);\n",
              "  }\n",
              "\n",
              "  .colab-df-quickchart-complete:disabled,\n",
              "  .colab-df-quickchart-complete:disabled:hover {\n",
              "    background-color: var(--disabled-bg-color);\n",
              "    fill: var(--disabled-fill-color);\n",
              "    box-shadow: none;\n",
              "  }\n",
              "\n",
              "  .colab-df-spinner {\n",
              "    border: 2px solid var(--fill-color);\n",
              "    border-color: transparent;\n",
              "    border-bottom-color: var(--fill-color);\n",
              "    animation:\n",
              "      spin 1s steps(1) infinite;\n",
              "  }\n",
              "\n",
              "  @keyframes spin {\n",
              "    0% {\n",
              "      border-color: transparent;\n",
              "      border-bottom-color: var(--fill-color);\n",
              "      border-left-color: var(--fill-color);\n",
              "    }\n",
              "    20% {\n",
              "      border-color: transparent;\n",
              "      border-left-color: var(--fill-color);\n",
              "      border-top-color: var(--fill-color);\n",
              "    }\n",
              "    30% {\n",
              "      border-color: transparent;\n",
              "      border-left-color: var(--fill-color);\n",
              "      border-top-color: var(--fill-color);\n",
              "      border-right-color: var(--fill-color);\n",
              "    }\n",
              "    40% {\n",
              "      border-color: transparent;\n",
              "      border-right-color: var(--fill-color);\n",
              "      border-top-color: var(--fill-color);\n",
              "    }\n",
              "    60% {\n",
              "      border-color: transparent;\n",
              "      border-right-color: var(--fill-color);\n",
              "    }\n",
              "    80% {\n",
              "      border-color: transparent;\n",
              "      border-right-color: var(--fill-color);\n",
              "      border-bottom-color: var(--fill-color);\n",
              "    }\n",
              "    90% {\n",
              "      border-color: transparent;\n",
              "      border-bottom-color: var(--fill-color);\n",
              "    }\n",
              "  }\n",
              "</style>\n",
              "\n",
              "  <script>\n",
              "    async function quickchart(key) {\n",
              "      const quickchartButtonEl =\n",
              "        document.querySelector('#' + key + ' button');\n",
              "      quickchartButtonEl.disabled = true;  // To prevent multiple clicks.\n",
              "      quickchartButtonEl.classList.add('colab-df-spinner');\n",
              "      try {\n",
              "        const charts = await google.colab.kernel.invokeFunction(\n",
              "            'suggestCharts', [key], {});\n",
              "      } catch (error) {\n",
              "        console.error('Error during call to suggestCharts:', error);\n",
              "      }\n",
              "      quickchartButtonEl.classList.remove('colab-df-spinner');\n",
              "      quickchartButtonEl.classList.add('colab-df-quickchart-complete');\n",
              "    }\n",
              "    (() => {\n",
              "      let quickchartButtonEl =\n",
              "        document.querySelector('#df-a6f12bad-7d71-41df-98b3-706fbbdb30bc button');\n",
              "      quickchartButtonEl.style.display =\n",
              "        google.colab.kernel.accessAllowed ? 'block' : 'none';\n",
              "    })();\n",
              "  </script>\n",
              "</div>\n",
              "\n",
              "    </div>\n",
              "  </div>\n"
            ],
            "application/vnd.google.colaboratory.intrinsic+json": {
              "type": "dataframe",
              "variable_name": "sub",
              "summary": "{\n  \"name\": \"sub\",\n  \"rows\": 406,\n  \"fields\": [\n    {\n      \"column\": \"Id\",\n      \"properties\": {\n        \"dtype\": \"number\",\n        \"std\": 590,\n        \"min\": 2,\n        \"max\": 2026,\n        \"num_unique_values\": 406,\n        \"samples\": [\n          1300,\n          1914,\n          519\n        ],\n        \"semantic_type\": \"\",\n        \"description\": \"\"\n      }\n    },\n    {\n      \"column\": \"Q0_REVENUES\",\n      \"properties\": {\n        \"dtype\": \"float32\",\n        \"num_unique_values\": 406,\n        \"samples\": [\n          6100580864.0,\n          233573536.0,\n          74365320.0\n        ],\n        \"semantic_type\": \"\",\n        \"description\": \"\"\n      }\n    },\n    {\n      \"column\": \"Q0_COST_OF_REVENUES\",\n      \"properties\": {\n        \"dtype\": \"float32\",\n        \"num_unique_values\": 405,\n        \"samples\": [\n          -21380866.0,\n          154584576.0,\n          281226304.0\n        ],\n        \"semantic_type\": \"\",\n        \"description\": \"\"\n      }\n    },\n    {\n      \"column\": \"Q0_GROSS_PROFIT\",\n      \"properties\": {\n        \"dtype\": \"float32\",\n        \"num_unique_values\": 404,\n        \"samples\": [\n          6336608768.0,\n          65382988.0,\n          111222840.0\n        ],\n        \"semantic_type\": \"\",\n        \"description\": \"\"\n      }\n    },\n    {\n      \"column\": \"Q0_OPERATING_EXPENSES\",\n      \"properties\": {\n        \"dtype\": \"float32\",\n        \"num_unique_values\": 405,\n        \"samples\": [\n          4094099456.0,\n          36351584.0,\n          87768792.0\n        ],\n        \"semantic_type\": \"\",\n        \"description\": \"\"\n      }\n    },\n    {\n      \"column\": \"Q0_EBITDA\",\n      \"properties\": {\n        \"dtype\": \"float32\",\n        \"num_unique_values\": 405,\n        \"samples\": [\n          2840052224.0,\n          28939454.0,\n          51223976.0\n        ],\n        \"semantic_type\": \"\",\n        \"description\": \"\"\n      }\n    },\n    {\n      \"column\": \"Q0_OPERATING_INCOME\",\n      \"properties\": {\n        \"dtype\": \"float32\",\n        \"num_unique_values\": 406,\n        \"samples\": [\n          2176953856.0,\n          46971032.0,\n          4092405.0\n        ],\n        \"semantic_type\": \"\",\n        \"description\": \"\"\n      }\n    },\n    {\n      \"column\": \"Q0_TOTAL_ASSETS\",\n      \"properties\": {\n        \"dtype\": \"float32\",\n        \"num_unique_values\": 404,\n        \"samples\": [\n          41648668672.0,\n          1474938880.0,\n          2499668224.0\n        ],\n        \"semantic_type\": \"\",\n        \"description\": \"\"\n      }\n    },\n    {\n      \"column\": \"Q0_TOTAL_LIABILITIES\",\n      \"properties\": {\n        \"dtype\": \"float32\",\n        \"num_unique_values\": 405,\n        \"samples\": [\n          21033420800.0,\n          709941504.0,\n          1118835712.0\n        ],\n        \"semantic_type\": \"\",\n        \"description\": \"\"\n      }\n    },\n    {\n      \"column\": \"Q0_TOTAL_STOCKHOLDERS_EQUITY\",\n      \"properties\": {\n        \"dtype\": \"float32\",\n        \"num_unique_values\": 405,\n        \"samples\": [\n          27212879872.0,\n          1168725248.0,\n          1308875648.0\n        ],\n        \"semantic_type\": \"\",\n        \"description\": \"\"\n      }\n    }\n  ]\n}"
            }
          },
          "metadata": {},
          "execution_count": 31
        }
      ]
    },
    {
      "cell_type": "code",
      "source": [
        "sub.to_csv('submission.csv', index = False)"
      ],
      "metadata": {
        "papermill": {
          "duration": 0.036792,
          "end_time": "2024-02-22T09:25:17.066324",
          "exception": false,
          "start_time": "2024-02-22T09:25:17.029532",
          "status": "completed"
        },
        "tags": [],
        "execution": {
          "iopub.status.busy": "2024-03-07T09:32:56.954342Z",
          "iopub.execute_input": "2024-03-07T09:32:56.954828Z",
          "iopub.status.idle": "2024-03-07T09:32:56.969495Z",
          "shell.execute_reply.started": "2024-03-07T09:32:56.954792Z",
          "shell.execute_reply": "2024-03-07T09:32:56.968395Z"
        },
        "trusted": true,
        "id": "DRQGhfiWrGUQ"
      },
      "execution_count": 32,
      "outputs": []
    },
    {
      "cell_type": "code",
      "source": [
        "#ids = np.array(sub.Id)\n",
        "#preds.keys()"
      ],
      "metadata": {
        "papermill": {
          "duration": 0.027094,
          "end_time": "2024-02-22T09:25:17.111951",
          "exception": false,
          "start_time": "2024-02-22T09:25:17.084857",
          "status": "completed"
        },
        "tags": [],
        "execution": {
          "iopub.status.busy": "2024-03-07T09:32:56.970656Z",
          "iopub.execute_input": "2024-03-07T09:32:56.970956Z",
          "iopub.status.idle": "2024-03-07T09:32:56.975059Z",
          "shell.execute_reply.started": "2024-03-07T09:32:56.970932Z",
          "shell.execute_reply": "2024-03-07T09:32:56.974149Z"
        },
        "trusted": true,
        "id": "57j9juWNrGUY"
      },
      "execution_count": 33,
      "outputs": []
    },
    {
      "cell_type": "code",
      "source": [
        "# Write the submission file\n",
        "#np.savetxt(\n",
        "#    'submission.csv',\n",
        "#    np.rec.fromarrays([ids] + [pred for pred in list(preds.values())]),\n",
        "#    fmt=['%s', '%d', '%d', '%d', '%d', '%d', '%d', '%d', '%d', '%d'],\n",
        "#    delimiter=',',\n",
        "#    header='Id,Q0_TOTAL_ASSETS,Q0_TOTAL_LIABILITIES,Q0_TOTAL_STOCKHOLDERS_EQUITY,Q0_GROSS_PROFIT,Q0_COST_OF_REVENUES,Q0_REVENUES,Q0_OPERATING_INCOME,Q0_OPERATING_EXPENSES,Q0_EBITDA',\n",
        "#    comments='submission description from code',\n",
        "#)"
      ],
      "metadata": {
        "papermill": {
          "duration": 0.027425,
          "end_time": "2024-02-22T09:25:17.157558",
          "exception": false,
          "start_time": "2024-02-22T09:25:17.130133",
          "status": "completed"
        },
        "tags": [],
        "execution": {
          "iopub.status.busy": "2024-03-07T09:32:56.97639Z",
          "iopub.execute_input": "2024-03-07T09:32:56.976925Z",
          "iopub.status.idle": "2024-03-07T09:32:56.984942Z",
          "shell.execute_reply.started": "2024-03-07T09:32:56.9769Z",
          "shell.execute_reply": "2024-03-07T09:32:56.98397Z"
        },
        "trusted": true,
        "id": "3rRCjoB_rGUa"
      },
      "execution_count": 34,
      "outputs": []
    },
    {
      "cell_type": "code",
      "source": [],
      "metadata": {
        "papermill": {
          "duration": 0.018005,
          "end_time": "2024-02-22T09:25:17.195709",
          "exception": false,
          "start_time": "2024-02-22T09:25:17.177704",
          "status": "completed"
        },
        "tags": [],
        "id": "pSw6q950rGUb"
      },
      "execution_count": 34,
      "outputs": []
    }
  ]
}