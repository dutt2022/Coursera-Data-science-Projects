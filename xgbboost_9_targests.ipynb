{
  "metadata": {
    "kaggle": {
      "accelerator": "gpu",
      "dataSources": [
        {
          "sourceId": 70781,
          "databundleVersionId": 7733789,
          "sourceType": "competition"
        }
      ],
      "dockerImageVersionId": 30665,
      "isInternetEnabled": true,
      "language": "python",
      "sourceType": "notebook",
      "isGpuEnabled": true
    },
    "kernelspec": {
      "display_name": "Python 3",
      "language": "python",
      "name": "python3"
    },
    "language_info": {
      "codemirror_mode": {
        "name": "ipython",
        "version": 3
      },
      "file_extension": ".py",
      "mimetype": "text/x-python",
      "name": "python",
      "nbconvert_exporter": "python",
      "pygments_lexer": "ipython3",
      "version": "3.10.13"
    },
    "papermill": {
      "default_parameters": {},
      "duration": 96.042567,
      "end_time": "2024-02-22T09:25:17.83608",
      "environment_variables": {},
      "exception": null,
      "input_path": "__notebook__.ipynb",
      "output_path": "__notebook__.ipynb",
      "parameters": {},
      "start_time": "2024-02-22T09:23:41.793513",
      "version": "2.5.0"
    },
    "colab": {
      "name": "xgbboost_9 targests",
      "provenance": [],
      "include_colab_link": true
    }
  },
  "nbformat_minor": 0,
  "nbformat": 4,
  "cells": [
    {
      "cell_type": "markdown",
      "metadata": {
        "id": "view-in-github",
        "colab_type": "text"
      },
      "source": [
        "<a href=\"https://colab.research.google.com/github/dutt2022/Coursera-Data-science-Projects/blob/main/xgbboost_9_targests.ipynb\" target=\"_parent\"><img src=\"https://colab.research.google.com/assets/colab-badge.svg\" alt=\"Open In Colab\"/></a>"
      ]
    },
    {
      "source": [
        "\n",
        "# IMPORTANT: RUN THIS CELL IN ORDER TO IMPORT YOUR KAGGLE DATA SOURCES\n",
        "# TO THE CORRECT LOCATION (/kaggle/input) IN YOUR NOTEBOOK,\n",
        "# THEN FEEL FREE TO DELETE THIS CELL.\n",
        "# NOTE: THIS NOTEBOOK ENVIRONMENT DIFFERS FROM KAGGLE'S PYTHON\n",
        "# ENVIRONMENT SO THERE MAY BE MISSING LIBRARIES USED BY YOUR\n",
        "# NOTEBOOK.\n",
        "\n",
        "import os\n",
        "import sys\n",
        "from tempfile import NamedTemporaryFile\n",
        "from urllib.request import urlopen\n",
        "from urllib.parse import unquote, urlparse\n",
        "from urllib.error import HTTPError\n",
        "from zipfile import ZipFile\n",
        "import tarfile\n",
        "import shutil\n",
        "\n",
        "CHUNK_SIZE = 40960\n",
        "DATA_SOURCE_MAPPING = 'financial-performance-prediction:https%3A%2F%2Fstorage.googleapis.com%2Fkaggle-competitions-data%2Fkaggle-v2%2F70781%2F7733789%2Fbundle%2Farchive.zip%3FX-Goog-Algorithm%3DGOOG4-RSA-SHA256%26X-Goog-Credential%3Dgcp-kaggle-com%2540kaggle-161607.iam.gserviceaccount.com%252F20240307%252Fauto%252Fstorage%252Fgoog4_request%26X-Goog-Date%3D20240307T112846Z%26X-Goog-Expires%3D259200%26X-Goog-SignedHeaders%3Dhost%26X-Goog-Signature%3D1276e621ede41c3556cfafa0324160b0fdff1c3f6bfd91e89b9629823a7eff58303299e4dca367e489c4d62930755f952b3be91bd5fa926715d2bdfd2a002df4636861397dd62abbb3c437e500d3b8de7ad6725a674c3168f12f80fd1e6a0d66cf0291bf9864dd6f70035c2a7efe4777d6ea06f54f79f44b166085518e79fb0957d7944433e864b9babd87344d6813320947fb6dfdaf43a197261bf95f48b52906145bab5345739b837b0f0ce679fa1c1c54c5d3b7796db098f75bff16c955e59feb5c59f687659c78ba8ada5a591cc96793e485d4ca699d4c73ddeb5d7f5dd89745c1fa9cf1c591ef59bbb7356e4fc3e930eaeaf585c218cb32118163d2d9a8'\n",
        "\n",
        "KAGGLE_INPUT_PATH='/kaggle/input'\n",
        "KAGGLE_WORKING_PATH='/kaggle/working'\n",
        "KAGGLE_SYMLINK='kaggle'\n",
        "\n",
        "!umount /kaggle/input/ 2> /dev/null\n",
        "shutil.rmtree('/kaggle/input', ignore_errors=True)\n",
        "os.makedirs(KAGGLE_INPUT_PATH, 0o777, exist_ok=True)\n",
        "os.makedirs(KAGGLE_WORKING_PATH, 0o777, exist_ok=True)\n",
        "\n",
        "try:\n",
        "  os.symlink(KAGGLE_INPUT_PATH, os.path.join(\"..\", 'input'), target_is_directory=True)\n",
        "except FileExistsError:\n",
        "  pass\n",
        "try:\n",
        "  os.symlink(KAGGLE_WORKING_PATH, os.path.join(\"..\", 'working'), target_is_directory=True)\n",
        "except FileExistsError:\n",
        "  pass\n",
        "\n",
        "for data_source_mapping in DATA_SOURCE_MAPPING.split(','):\n",
        "    directory, download_url_encoded = data_source_mapping.split(':')\n",
        "    download_url = unquote(download_url_encoded)\n",
        "    filename = urlparse(download_url).path\n",
        "    destination_path = os.path.join(KAGGLE_INPUT_PATH, directory)\n",
        "    try:\n",
        "        with urlopen(download_url) as fileres, NamedTemporaryFile() as tfile:\n",
        "            total_length = fileres.headers['content-length']\n",
        "            print(f'Downloading {directory}, {total_length} bytes compressed')\n",
        "            dl = 0\n",
        "            data = fileres.read(CHUNK_SIZE)\n",
        "            while len(data) > 0:\n",
        "                dl += len(data)\n",
        "                tfile.write(data)\n",
        "                done = int(50 * dl / int(total_length))\n",
        "                sys.stdout.write(f\"\\r[{'=' * done}{' ' * (50-done)}] {dl} bytes downloaded\")\n",
        "                sys.stdout.flush()\n",
        "                data = fileres.read(CHUNK_SIZE)\n",
        "            if filename.endswith('.zip'):\n",
        "              with ZipFile(tfile) as zfile:\n",
        "                zfile.extractall(destination_path)\n",
        "            else:\n",
        "              with tarfile.open(tfile.name) as tarfile:\n",
        "                tarfile.extractall(destination_path)\n",
        "            print(f'\\nDownloaded and uncompressed: {directory}')\n",
        "    except HTTPError as e:\n",
        "        print(f'Failed to load (likely expired) {download_url} to path {destination_path}')\n",
        "        continue\n",
        "    except OSError as e:\n",
        "        print(f'Failed to load {download_url} to path {destination_path}')\n",
        "        continue\n",
        "\n",
        "print('Data source import complete.')\n"
      ],
      "metadata": {
        "id": "GszukFmSrGSL"
      },
      "cell_type": "code",
      "outputs": [],
      "execution_count": null
    },
    {
      "cell_type": "code",
      "source": [
        "import numpy as np # linear algebra\n",
        "import pandas as pd # data processing, CSV file I/O (e.g. pd.read_csv)\n",
        "import warnings\n",
        "warnings.simplefilter(action='ignore', category=FutureWarning)\n",
        "from sklearn.model_selection import cross_val_score as cvs\n",
        "from xgboost import XGBRegressor\n",
        "\n",
        "import os\n",
        "for dirname, _, filenames in os.walk('/kaggle/input'):\n",
        "    for filename in filenames:\n",
        "        print(os.path.join(dirname, filename))"
      ],
      "metadata": {
        "_cell_guid": "b1076dfc-b9ad-4769-8c92-a6c4dae69d19",
        "_uuid": "8f2839f25d086af736a60e9eeb907d3b93b6e0e5",
        "papermill": {
          "duration": 2.544822,
          "end_time": "2024-02-22T09:23:47.48314",
          "exception": false,
          "start_time": "2024-02-22T09:23:44.938318",
          "status": "completed"
        },
        "tags": [],
        "execution": {
          "iopub.status.busy": "2024-03-07T09:29:23.800482Z",
          "iopub.execute_input": "2024-03-07T09:29:23.801098Z",
          "iopub.status.idle": "2024-03-07T09:29:26.174323Z",
          "shell.execute_reply.started": "2024-03-07T09:29:23.801066Z",
          "shell.execute_reply": "2024-03-07T09:29:26.173173Z"
        },
        "trusted": true,
        "id": "KfPxDM10rGSW"
      },
      "execution_count": null,
      "outputs": []
    },
    {
      "cell_type": "code",
      "source": [
        "train = pd.read_csv('/kaggle/input/financial-performance-prediction/train.csv')\n",
        "test = pd.read_csv('/kaggle/input/financial-performance-prediction/test.csv')"
      ],
      "metadata": {
        "papermill": {
          "duration": 0.216004,
          "end_time": "2024-02-22T09:23:47.712913",
          "exception": false,
          "start_time": "2024-02-22T09:23:47.496909",
          "status": "completed"
        },
        "tags": [],
        "execution": {
          "iopub.status.busy": "2024-03-07T09:29:26.176499Z",
          "iopub.execute_input": "2024-03-07T09:29:26.177034Z",
          "iopub.status.idle": "2024-03-07T09:29:26.363273Z",
          "shell.execute_reply.started": "2024-03-07T09:29:26.176999Z",
          "shell.execute_reply": "2024-03-07T09:29:26.36231Z"
        },
        "trusted": true,
        "id": "w6IY3Ba4rGSZ"
      },
      "execution_count": null,
      "outputs": []
    },
    {
      "cell_type": "markdown",
      "source": [
        "## Look at data shape, dtypes and unite train & test into a single DF"
      ],
      "metadata": {
        "papermill": {
          "duration": 0.013307,
          "end_time": "2024-02-22T09:23:47.73998",
          "exception": false,
          "start_time": "2024-02-22T09:23:47.726673",
          "status": "completed"
        },
        "tags": [],
        "id": "fJbTuRI1rGSb"
      }
    },
    {
      "cell_type": "code",
      "source": [
        "print(f'Train shape: {train.shape}')\n",
        "print(f'Test shape: {test.shape}')"
      ],
      "metadata": {
        "papermill": {
          "duration": 0.023496,
          "end_time": "2024-02-22T09:23:47.776922",
          "exception": false,
          "start_time": "2024-02-22T09:23:47.753426",
          "status": "completed"
        },
        "tags": [],
        "execution": {
          "iopub.status.busy": "2024-03-07T09:29:26.364625Z",
          "iopub.execute_input": "2024-03-07T09:29:26.36559Z",
          "iopub.status.idle": "2024-03-07T09:29:26.370844Z",
          "shell.execute_reply.started": "2024-03-07T09:29:26.36556Z",
          "shell.execute_reply": "2024-03-07T09:29:26.369484Z"
        },
        "trusted": true,
        "id": "nG4GbNburGSl"
      },
      "execution_count": null,
      "outputs": []
    },
    {
      "cell_type": "code",
      "source": [
        "targets_names = [col for col in train if col not in test]\n",
        "print(f'Target columns: {targets_names}')"
      ],
      "metadata": {
        "papermill": {
          "duration": 0.026347,
          "end_time": "2024-02-22T09:23:47.816546",
          "exception": false,
          "start_time": "2024-02-22T09:23:47.790199",
          "status": "completed"
        },
        "tags": [],
        "execution": {
          "iopub.status.busy": "2024-03-07T09:29:26.373746Z",
          "iopub.execute_input": "2024-03-07T09:29:26.374111Z",
          "iopub.status.idle": "2024-03-07T09:29:26.384747Z",
          "shell.execute_reply.started": "2024-03-07T09:29:26.374069Z",
          "shell.execute_reply": "2024-03-07T09:29:26.383655Z"
        },
        "trusted": true,
        "id": "pg9O8KPwrGSm"
      },
      "execution_count": null,
      "outputs": []
    },
    {
      "cell_type": "code",
      "source": [
        "train.dtypes.value_counts()"
      ],
      "metadata": {
        "papermill": {
          "duration": 0.032318,
          "end_time": "2024-02-22T09:23:47.8622",
          "exception": false,
          "start_time": "2024-02-22T09:23:47.829882",
          "status": "completed"
        },
        "tags": [],
        "execution": {
          "iopub.status.busy": "2024-03-07T09:29:26.386689Z",
          "iopub.execute_input": "2024-03-07T09:29:26.387075Z",
          "iopub.status.idle": "2024-03-07T09:29:26.403841Z",
          "shell.execute_reply.started": "2024-03-07T09:29:26.387041Z",
          "shell.execute_reply": "2024-03-07T09:29:26.402495Z"
        },
        "trusted": true,
        "id": "MpZa05tjrGSn"
      },
      "execution_count": null,
      "outputs": []
    },
    {
      "cell_type": "code",
      "source": [
        "test.dtypes.value_counts()"
      ],
      "metadata": {
        "papermill": {
          "duration": 0.027912,
          "end_time": "2024-02-22T09:23:47.903646",
          "exception": false,
          "start_time": "2024-02-22T09:23:47.875734",
          "status": "completed"
        },
        "tags": [],
        "execution": {
          "iopub.status.busy": "2024-03-07T09:29:26.405842Z",
          "iopub.execute_input": "2024-03-07T09:29:26.406241Z",
          "iopub.status.idle": "2024-03-07T09:29:26.418396Z",
          "shell.execute_reply.started": "2024-03-07T09:29:26.406208Z",
          "shell.execute_reply": "2024-03-07T09:29:26.417357Z"
        },
        "trusted": true,
        "id": "SmYymNGbrGSv"
      },
      "execution_count": null,
      "outputs": []
    },
    {
      "cell_type": "code",
      "source": [
        "# make an easy col to split back the train and test sets\n",
        "train['is_train'] = True\n",
        "test['is_train'] = False\n",
        "df = pd.concat([train, test], axis = 0, ignore_index = True)"
      ],
      "metadata": {
        "papermill": {
          "duration": 0.042288,
          "end_time": "2024-02-22T09:23:47.960277",
          "exception": false,
          "start_time": "2024-02-22T09:23:47.917989",
          "status": "completed"
        },
        "tags": [],
        "execution": {
          "iopub.status.busy": "2024-03-07T09:29:26.419984Z",
          "iopub.execute_input": "2024-03-07T09:29:26.420362Z",
          "iopub.status.idle": "2024-03-07T09:29:26.438429Z",
          "shell.execute_reply.started": "2024-03-07T09:29:26.420314Z",
          "shell.execute_reply": "2024-03-07T09:29:26.437298Z"
        },
        "trusted": true,
        "id": "-Z5m2uQnrGSx"
      },
      "execution_count": null,
      "outputs": []
    },
    {
      "cell_type": "markdown",
      "source": [
        "## Deal with string/categoric columns"
      ],
      "metadata": {
        "papermill": {
          "duration": 0.013575,
          "end_time": "2024-02-22T09:23:47.989331",
          "exception": false,
          "start_time": "2024-02-22T09:23:47.975756",
          "status": "completed"
        },
        "tags": [],
        "id": "nJB8GrY-rGSy"
      }
    },
    {
      "cell_type": "code",
      "source": [
        "df.select_dtypes(include = 'O')"
      ],
      "metadata": {
        "papermill": {
          "duration": 0.040147,
          "end_time": "2024-02-22T09:23:48.043848",
          "exception": false,
          "start_time": "2024-02-22T09:23:48.003701",
          "status": "completed"
        },
        "tags": [],
        "execution": {
          "iopub.status.busy": "2024-03-07T09:29:26.440097Z",
          "iopub.execute_input": "2024-03-07T09:29:26.440464Z",
          "iopub.status.idle": "2024-03-07T09:29:26.458203Z",
          "shell.execute_reply.started": "2024-03-07T09:29:26.440434Z",
          "shell.execute_reply": "2024-03-07T09:29:26.457275Z"
        },
        "trusted": true,
        "id": "7FRizSgMrGSz"
      },
      "execution_count": null,
      "outputs": []
    },
    {
      "cell_type": "code",
      "source": [
        "for col in df.select_dtypes(include = 'O'):\n",
        "    print(f'{col} unique values num: {df[col].nunique()}')\n",
        "    print('-'*50)"
      ],
      "metadata": {
        "papermill": {
          "duration": 0.031918,
          "end_time": "2024-02-22T09:23:48.08989",
          "exception": false,
          "start_time": "2024-02-22T09:23:48.057972",
          "status": "completed"
        },
        "tags": [],
        "execution": {
          "iopub.status.busy": "2024-03-07T09:29:26.459553Z",
          "iopub.execute_input": "2024-03-07T09:29:26.459909Z",
          "iopub.status.idle": "2024-03-07T09:29:26.470024Z",
          "shell.execute_reply.started": "2024-03-07T09:29:26.459861Z",
          "shell.execute_reply": "2024-03-07T09:29:26.468914Z"
        },
        "trusted": true,
        "id": "8DWNT7vsrGS2"
      },
      "execution_count": null,
      "outputs": []
    },
    {
      "cell_type": "markdown",
      "source": [
        "Looks like it is best have to label encode the `industry` with 113 unique categories.\n",
        "`sector` and `recommendationKey` can safely be one-hot-encoded as it will expand the dataset by only 16 columns.\n",
        "And we will just binarize the `financialCurrency` column"
      ],
      "metadata": {
        "execution": {
          "iopub.execute_input": "2024-02-21T11:38:43.966027Z",
          "iopub.status.busy": "2024-02-21T11:38:43.965735Z",
          "iopub.status.idle": "2024-02-21T11:38:43.970975Z",
          "shell.execute_reply": "2024-02-21T11:38:43.969976Z",
          "shell.execute_reply.started": "2024-02-21T11:38:43.966006Z"
        },
        "papermill": {
          "duration": 0.014362,
          "end_time": "2024-02-22T09:23:48.11873",
          "exception": false,
          "start_time": "2024-02-22T09:23:48.104368",
          "status": "completed"
        },
        "tags": [],
        "id": "e2sOxhocrGS4"
      }
    },
    {
      "cell_type": "code",
      "source": [
        "def binarize(df, col):\n",
        "    uniques = list(df[col].dropna().unique())\n",
        "    df[col] = [1 if val == uniques[0] else 0 for val in df[col]]\n",
        "    return df"
      ],
      "metadata": {
        "papermill": {
          "duration": 0.026863,
          "end_time": "2024-02-22T09:23:48.160784",
          "exception": false,
          "start_time": "2024-02-22T09:23:48.133921",
          "status": "completed"
        },
        "tags": [],
        "execution": {
          "iopub.status.busy": "2024-03-07T09:29:26.475365Z",
          "iopub.execute_input": "2024-03-07T09:29:26.4757Z",
          "iopub.status.idle": "2024-03-07T09:29:26.48146Z",
          "shell.execute_reply.started": "2024-03-07T09:29:26.475665Z",
          "shell.execute_reply": "2024-03-07T09:29:26.480495Z"
        },
        "trusted": true,
        "id": "YLHLIm7-rGS6"
      },
      "execution_count": null,
      "outputs": []
    },
    {
      "cell_type": "code",
      "source": [
        "def one_hot_encode(df, col):\n",
        "    dummies = pd.get_dummies(df[col], prefix = col).astype(int)\n",
        "    df.drop(col, axis = 1, inplace = True)\n",
        "    df = pd.concat([df, dummies], axis = 1)\n",
        "    return df"
      ],
      "metadata": {
        "papermill": {
          "duration": 0.023901,
          "end_time": "2024-02-22T09:23:48.199713",
          "exception": false,
          "start_time": "2024-02-22T09:23:48.175812",
          "status": "completed"
        },
        "tags": [],
        "execution": {
          "iopub.status.busy": "2024-03-07T09:29:26.482753Z",
          "iopub.execute_input": "2024-03-07T09:29:26.483039Z",
          "iopub.status.idle": "2024-03-07T09:29:26.492878Z",
          "shell.execute_reply.started": "2024-03-07T09:29:26.483015Z",
          "shell.execute_reply": "2024-03-07T09:29:26.491774Z"
        },
        "trusted": true,
        "id": "Wnv6VMcZrGS7"
      },
      "execution_count": null,
      "outputs": []
    },
    {
      "cell_type": "code",
      "source": [
        "def factorize(df, col):\n",
        "    mapping = {name: ix for ix, name in enumerate(df[col].unique())}\n",
        "    df[col] = df[col].map(mapping)\n",
        "    return df"
      ],
      "metadata": {
        "papermill": {
          "duration": 0.025012,
          "end_time": "2024-02-22T09:23:48.238738",
          "exception": false,
          "start_time": "2024-02-22T09:23:48.213726",
          "status": "completed"
        },
        "tags": [],
        "execution": {
          "iopub.status.busy": "2024-03-07T09:29:26.494373Z",
          "iopub.execute_input": "2024-03-07T09:29:26.494784Z",
          "iopub.status.idle": "2024-03-07T09:29:26.504015Z",
          "shell.execute_reply.started": "2024-03-07T09:29:26.494747Z",
          "shell.execute_reply": "2024-03-07T09:29:26.502889Z"
        },
        "trusted": true,
        "id": "QSo_hmRErGTC"
      },
      "execution_count": null,
      "outputs": []
    },
    {
      "cell_type": "code",
      "source": [
        "df = binarize(df, 'financialCurrency')\n",
        "print(df['financialCurrency'].head())"
      ],
      "metadata": {
        "papermill": {
          "duration": 0.029814,
          "end_time": "2024-02-22T09:23:48.283233",
          "exception": false,
          "start_time": "2024-02-22T09:23:48.253419",
          "status": "completed"
        },
        "tags": [],
        "execution": {
          "iopub.status.busy": "2024-03-07T09:29:26.505445Z",
          "iopub.execute_input": "2024-03-07T09:29:26.505814Z",
          "iopub.status.idle": "2024-03-07T09:29:26.520329Z",
          "shell.execute_reply.started": "2024-03-07T09:29:26.505787Z",
          "shell.execute_reply": "2024-03-07T09:29:26.519099Z"
        },
        "trusted": true,
        "id": "zi7RsOG9rGTD"
      },
      "execution_count": null,
      "outputs": []
    },
    {
      "cell_type": "code",
      "source": [
        "print(df.shape)\n",
        "df = one_hot_encode(df, 'sector')\n",
        "df = one_hot_encode(df, 'recommendationKey')\n",
        "print(df.shape)"
      ],
      "metadata": {
        "papermill": {
          "duration": 0.051345,
          "end_time": "2024-02-22T09:23:48.348876",
          "exception": false,
          "start_time": "2024-02-22T09:23:48.297531",
          "status": "completed"
        },
        "tags": [],
        "execution": {
          "iopub.status.busy": "2024-03-07T09:29:26.52255Z",
          "iopub.execute_input": "2024-03-07T09:29:26.523039Z",
          "iopub.status.idle": "2024-03-07T09:29:26.555359Z",
          "shell.execute_reply.started": "2024-03-07T09:29:26.522997Z",
          "shell.execute_reply": "2024-03-07T09:29:26.554279Z"
        },
        "trusted": true,
        "id": "VAX6ZDuqrGTE"
      },
      "execution_count": null,
      "outputs": []
    },
    {
      "cell_type": "code",
      "source": [
        "df = factorize(df, 'industry')\n",
        "print(df.dtypes.value_counts())"
      ],
      "metadata": {
        "papermill": {
          "duration": 0.028683,
          "end_time": "2024-02-22T09:23:48.391994",
          "exception": false,
          "start_time": "2024-02-22T09:23:48.363311",
          "status": "completed"
        },
        "tags": [],
        "execution": {
          "iopub.status.busy": "2024-03-07T09:29:26.556552Z",
          "iopub.execute_input": "2024-03-07T09:29:26.55683Z",
          "iopub.status.idle": "2024-03-07T09:29:26.564475Z",
          "shell.execute_reply.started": "2024-03-07T09:29:26.556805Z",
          "shell.execute_reply": "2024-03-07T09:29:26.56332Z"
        },
        "trusted": true,
        "id": "PQCjIGKzrGTF"
      },
      "execution_count": null,
      "outputs": []
    },
    {
      "cell_type": "code",
      "source": [
        "import warnings\n",
        "warnings.simplefilter(action='ignore', category=FutureWarning)"
      ],
      "metadata": {
        "papermill": {
          "duration": 0.023799,
          "end_time": "2024-02-22T09:23:48.430584",
          "exception": false,
          "start_time": "2024-02-22T09:23:48.406785",
          "status": "completed"
        },
        "tags": [],
        "execution": {
          "iopub.status.busy": "2024-03-07T09:29:26.565748Z",
          "iopub.execute_input": "2024-03-07T09:29:26.566042Z",
          "iopub.status.idle": "2024-03-07T09:29:26.573785Z",
          "shell.execute_reply.started": "2024-03-07T09:29:26.566017Z",
          "shell.execute_reply": "2024-03-07T09:29:26.572821Z"
        },
        "trusted": true,
        "id": "JYrxL1sbrGTG"
      },
      "execution_count": null,
      "outputs": []
    },
    {
      "cell_type": "markdown",
      "source": [
        "## Deal with missing values"
      ],
      "metadata": {
        "papermill": {
          "duration": 0.01419,
          "end_time": "2024-02-22T09:23:48.459658",
          "exception": false,
          "start_time": "2024-02-22T09:23:48.445468",
          "status": "completed"
        },
        "tags": [],
        "id": "2xFZIaNbrGTH"
      }
    },
    {
      "cell_type": "code",
      "source": [
        "df.isnull().sum()"
      ],
      "metadata": {
        "papermill": {
          "duration": 0.030298,
          "end_time": "2024-02-22T09:23:48.50518",
          "exception": false,
          "start_time": "2024-02-22T09:23:48.474882",
          "status": "completed"
        },
        "tags": [],
        "execution": {
          "iopub.status.busy": "2024-03-07T09:29:26.575005Z",
          "iopub.execute_input": "2024-03-07T09:29:26.575877Z",
          "iopub.status.idle": "2024-03-07T09:29:26.590237Z",
          "shell.execute_reply.started": "2024-03-07T09:29:26.575845Z",
          "shell.execute_reply": "2024-03-07T09:29:26.589116Z"
        },
        "trusted": true,
        "id": "a-7zHzEtrGTI"
      },
      "execution_count": null,
      "outputs": []
    },
    {
      "cell_type": "code",
      "source": [
        "print('Missing data stats:\\n')\n",
        "under_10_percent = 0\n",
        "ten_to_20_percent = 0\n",
        "twenty_to_50_percent = 0\n",
        "over_50_percent = 0\n",
        "for col in df:\n",
        "    if np.any(df[col].isnull()):\n",
        "        percent_missing = np.round(100*df[col].isnull().sum()/len(df),2)\n",
        "        if percent_missing < 10:\n",
        "            under_10_percent+=1\n",
        "        elif 10 <= percent_missing < 20:\n",
        "            ten_to_20_percent+=1\n",
        "        elif 20 <= percent_missing < 50:\n",
        "            twenty_to_50_percent+=1\n",
        "        else:\n",
        "            over_50_percent+=1\n",
        "\n",
        "print(f'ncols with under 10% missing data:\\t{under_10_percent}')\n",
        "print(f'ncols with 10-20% missing data:\\t\\t{ten_to_20_percent}')\n",
        "print(f'ncols with 20-50% missing data:\\t\\t{twenty_to_50_percent}')\n",
        "print(f'ncols with over 50% missing data:\\t{over_50_percent}')"
      ],
      "metadata": {
        "papermill": {
          "duration": 0.094265,
          "end_time": "2024-02-22T09:23:48.614622",
          "exception": false,
          "start_time": "2024-02-22T09:23:48.520357",
          "status": "completed"
        },
        "tags": [],
        "execution": {
          "iopub.status.busy": "2024-03-07T09:29:26.591766Z",
          "iopub.execute_input": "2024-03-07T09:29:26.592074Z",
          "iopub.status.idle": "2024-03-07T09:29:26.734473Z",
          "shell.execute_reply.started": "2024-03-07T09:29:26.592047Z",
          "shell.execute_reply": "2024-03-07T09:29:26.733267Z"
        },
        "trusted": true,
        "id": "LTO3N9wYrGTK"
      },
      "execution_count": null,
      "outputs": []
    },
    {
      "cell_type": "markdown",
      "source": [
        "Many columns have missing data, but the majority of cols with NaNs have under 10% missing values. It's safe to fill all missing values by median."
      ],
      "metadata": {
        "papermill": {
          "duration": 0.014673,
          "end_time": "2024-02-22T09:23:48.644595",
          "exception": false,
          "start_time": "2024-02-22T09:23:48.629922",
          "status": "completed"
        },
        "tags": [],
        "id": "j4EJg6RRrGTh"
      }
    },
    {
      "cell_type": "code",
      "source": [
        "# check if there are any inf values in data\n",
        "df[df == np.inf].count().sum()"
      ],
      "metadata": {
        "papermill": {
          "duration": 0.041706,
          "end_time": "2024-02-22T09:23:48.701223",
          "exception": false,
          "start_time": "2024-02-22T09:23:48.659517",
          "status": "completed"
        },
        "tags": [],
        "execution": {
          "iopub.status.busy": "2024-03-07T09:29:26.735975Z",
          "iopub.execute_input": "2024-03-07T09:29:26.73642Z",
          "iopub.status.idle": "2024-03-07T09:29:26.763531Z",
          "shell.execute_reply.started": "2024-03-07T09:29:26.736382Z",
          "shell.execute_reply": "2024-03-07T09:29:26.762621Z"
        },
        "trusted": true,
        "id": "KR0-Us-1rGTi"
      },
      "execution_count": null,
      "outputs": []
    },
    {
      "cell_type": "code",
      "source": [
        "# check for missing values in the target columns\n",
        "train[targets_names].isnull().sum()"
      ],
      "metadata": {
        "papermill": {
          "duration": 0.028304,
          "end_time": "2024-02-22T09:23:48.744568",
          "exception": false,
          "start_time": "2024-02-22T09:23:48.716264",
          "status": "completed"
        },
        "tags": [],
        "execution": {
          "iopub.status.busy": "2024-03-07T09:29:26.764703Z",
          "iopub.execute_input": "2024-03-07T09:29:26.764975Z",
          "iopub.status.idle": "2024-03-07T09:29:26.774776Z",
          "shell.execute_reply.started": "2024-03-07T09:29:26.764952Z",
          "shell.execute_reply": "2024-03-07T09:29:26.773615Z"
        },
        "trusted": true,
        "id": "k64UWHxDrGTj"
      },
      "execution_count": null,
      "outputs": []
    },
    {
      "cell_type": "code",
      "source": [
        "def impute_missing_by_median(df):\n",
        "    print(f'Missing values before imputation: {sum(df.isnull().sum())}')\n",
        "    # first replace inf and -inf with nan\n",
        "    df.replace([np.inf, -np.inf], np.nan, inplace=True)\n",
        "    # then impute nan by median\n",
        "    for col in df:\n",
        "        if np.any(df[col].isnull()):\n",
        "            df[col].fillna(df[col].median(), inplace = True)\n",
        "    print(f'Missing values after imputation: {sum(df.isnull().sum())}')\n",
        "    return df"
      ],
      "metadata": {
        "papermill": {
          "duration": 0.027342,
          "end_time": "2024-02-22T09:23:48.787209",
          "exception": false,
          "start_time": "2024-02-22T09:23:48.759867",
          "status": "completed"
        },
        "tags": [],
        "execution": {
          "iopub.status.busy": "2024-03-07T09:29:26.776327Z",
          "iopub.execute_input": "2024-03-07T09:29:26.776909Z",
          "iopub.status.idle": "2024-03-07T09:29:26.784389Z",
          "shell.execute_reply.started": "2024-03-07T09:29:26.776872Z",
          "shell.execute_reply": "2024-03-07T09:29:26.783397Z"
        },
        "trusted": true,
        "id": "97vLHycHrGTk"
      },
      "execution_count": null,
      "outputs": []
    },
    {
      "cell_type": "code",
      "source": [
        "df = impute_missing_by_median(df)"
      ],
      "metadata": {
        "papermill": {
          "duration": 0.242599,
          "end_time": "2024-02-22T09:23:49.045138",
          "exception": false,
          "start_time": "2024-02-22T09:23:48.802539",
          "status": "completed"
        },
        "tags": [],
        "execution": {
          "iopub.status.busy": "2024-03-07T09:29:26.787062Z",
          "iopub.execute_input": "2024-03-07T09:29:26.787754Z",
          "iopub.status.idle": "2024-03-07T09:29:26.997131Z",
          "shell.execute_reply.started": "2024-03-07T09:29:26.787727Z",
          "shell.execute_reply": "2024-03-07T09:29:26.996012Z"
        },
        "trusted": true,
        "id": "3v35q-kQrGTr"
      },
      "execution_count": null,
      "outputs": []
    },
    {
      "cell_type": "markdown",
      "source": [
        "## Extract train & test without target cols and separate tartgets df with 9 target cols"
      ],
      "metadata": {
        "papermill": {
          "duration": 0.015032,
          "end_time": "2024-02-22T09:23:49.075854",
          "exception": false,
          "start_time": "2024-02-22T09:23:49.060822",
          "status": "completed"
        },
        "tags": [],
        "id": "ZWbDqK0jrGTt"
      }
    },
    {
      "cell_type": "code",
      "source": [
        "train = df[df['is_train'] == True]\n",
        "test = df[df['is_train'] == False]\n",
        "train.drop('is_train', axis = 1, inplace=True)\n",
        "test.drop('is_train', axis = 1, inplace=True)\n",
        "test.reset_index(drop = True, inplace = True)\n",
        "\n",
        "test.drop(targets_names, axis = 1, inplace = True)\n",
        "targets = train[targets_names].copy()\n",
        "train.drop(targets_names, axis = 1, inplace = True)"
      ],
      "metadata": {
        "papermill": {
          "duration": 0.039554,
          "end_time": "2024-02-22T09:23:49.13061",
          "exception": false,
          "start_time": "2024-02-22T09:23:49.091056",
          "status": "completed"
        },
        "tags": [],
        "execution": {
          "iopub.status.busy": "2024-03-07T09:29:26.998476Z",
          "iopub.execute_input": "2024-03-07T09:29:26.998842Z",
          "iopub.status.idle": "2024-03-07T09:29:27.016423Z",
          "shell.execute_reply.started": "2024-03-07T09:29:26.998808Z",
          "shell.execute_reply": "2024-03-07T09:29:27.015286Z"
        },
        "trusted": true,
        "id": "rhcWyhGCrGTv"
      },
      "execution_count": null,
      "outputs": []
    },
    {
      "cell_type": "markdown",
      "source": [
        "## Validate XGB model on train data\n",
        "### Since we have 9 independent target columns, I will train 9 separate separate models on train features to predict each target."
      ],
      "metadata": {
        "execution": {
          "iopub.execute_input": "2024-02-21T11:22:12.4504Z",
          "iopub.status.busy": "2024-02-21T11:22:12.450098Z",
          "iopub.status.idle": "2024-02-21T11:22:12.454644Z",
          "shell.execute_reply": "2024-02-21T11:22:12.453791Z",
          "shell.execute_reply.started": "2024-02-21T11:22:12.450379Z"
        },
        "papermill": {
          "duration": 0.015517,
          "end_time": "2024-02-22T09:23:49.161625",
          "exception": false,
          "start_time": "2024-02-22T09:23:49.146108",
          "status": "completed"
        },
        "tags": [],
        "id": "v6SknDFurGT1"
      }
    },
    {
      "cell_type": "code",
      "source": [
        "targets"
      ],
      "metadata": {
        "papermill": {
          "duration": 0.048259,
          "end_time": "2024-02-22T09:23:49.225403",
          "exception": false,
          "start_time": "2024-02-22T09:23:49.177144",
          "status": "completed"
        },
        "tags": [],
        "execution": {
          "iopub.status.busy": "2024-03-07T09:29:27.017759Z",
          "iopub.execute_input": "2024-03-07T09:29:27.018103Z",
          "iopub.status.idle": "2024-03-07T09:29:27.049254Z",
          "shell.execute_reply.started": "2024-03-07T09:29:27.018071Z",
          "shell.execute_reply": "2024-03-07T09:29:27.047899Z"
        },
        "trusted": true,
        "id": "Nv59B5LdrGT3"
      },
      "execution_count": null,
      "outputs": []
    },
    {
      "cell_type": "code",
      "source": [
        "model = XGBRegressor()"
      ],
      "metadata": {
        "papermill": {
          "duration": 0.02542,
          "end_time": "2024-02-22T09:23:49.33112",
          "exception": false,
          "start_time": "2024-02-22T09:23:49.3057",
          "status": "completed"
        },
        "tags": [],
        "execution": {
          "iopub.status.busy": "2024-03-07T09:29:27.050595Z",
          "iopub.execute_input": "2024-03-07T09:29:27.050969Z",
          "iopub.status.idle": "2024-03-07T09:29:27.060017Z",
          "shell.execute_reply.started": "2024-03-07T09:29:27.050937Z",
          "shell.execute_reply": "2024-03-07T09:29:27.058818Z"
        },
        "trusted": true,
        "id": "X8ga1lA4rGT4"
      },
      "execution_count": null,
      "outputs": []
    },
    {
      "cell_type": "code",
      "source": [
        "print('Cross validation R2 scores for each target:\\n')\n",
        "cross_val_score_results = {}\n",
        "for target in targets:\n",
        "    score = np.round(np.mean(cvs(model, train, targets[target], cv=10, scoring='r2')),2)\n",
        "    cross_val_score_results[target] = score\n",
        "    print(f'{target} -> {score}')\n",
        "print(f'\\nMean R2 score across all targets: {np.mean(list(cross_val_score_results.values()))}')"
      ],
      "metadata": {
        "papermill": {
          "duration": 64.521823,
          "end_time": "2024-02-22T09:24:53.869062",
          "exception": false,
          "start_time": "2024-02-22T09:23:49.347239",
          "status": "completed"
        },
        "tags": [],
        "execution": {
          "iopub.status.busy": "2024-03-07T09:29:27.061312Z",
          "iopub.execute_input": "2024-03-07T09:29:27.061681Z",
          "iopub.status.idle": "2024-03-07T09:32:37.686682Z",
          "shell.execute_reply.started": "2024-03-07T09:29:27.061652Z",
          "shell.execute_reply": "2024-03-07T09:32:37.685855Z"
        },
        "trusted": true,
        "id": "A61kZCjcrGT5"
      },
      "execution_count": null,
      "outputs": []
    },
    {
      "cell_type": "markdown",
      "source": [
        "Arbitrary results. EBITDA R2 is negative, but the rest are not bad. Let's try to upload a first submission."
      ],
      "metadata": {
        "papermill": {
          "duration": 0.017663,
          "end_time": "2024-02-22T09:24:53.905657",
          "exception": false,
          "start_time": "2024-02-22T09:24:53.887994",
          "status": "completed"
        },
        "tags": [],
        "id": "zoYO1rRArGUA"
      }
    },
    {
      "cell_type": "markdown",
      "source": [
        "## Train same model on the whole trains set, predict on test, save to dictionary"
      ],
      "metadata": {
        "papermill": {
          "duration": 0.017472,
          "end_time": "2024-02-22T09:24:53.940244",
          "exception": false,
          "start_time": "2024-02-22T09:24:53.922772",
          "status": "completed"
        },
        "tags": [],
        "id": "jCociCy4rGUB"
      }
    },
    {
      "cell_type": "code",
      "source": [
        "preds = {}\n",
        "for target in targets:\n",
        "    model.fit(train, targets[target])\n",
        "    pred = model.predict(test)\n",
        "    preds[target] = pred\n",
        "    print(f'Finished train/predict for: {target}')"
      ],
      "metadata": {
        "papermill": {
          "duration": 22.850306,
          "end_time": "2024-02-22T09:25:16.80756",
          "exception": false,
          "start_time": "2024-02-22T09:24:53.957254",
          "status": "completed"
        },
        "tags": [],
        "execution": {
          "iopub.status.busy": "2024-03-07T09:32:37.687972Z",
          "iopub.execute_input": "2024-03-07T09:32:37.688638Z",
          "iopub.status.idle": "2024-03-07T09:32:56.897523Z",
          "shell.execute_reply.started": "2024-03-07T09:32:37.688592Z",
          "shell.execute_reply": "2024-03-07T09:32:56.89676Z"
        },
        "trusted": true,
        "id": "7jPY17cirGUC"
      },
      "execution_count": null,
      "outputs": []
    },
    {
      "cell_type": "markdown",
      "source": [
        "## Make submission"
      ],
      "metadata": {
        "papermill": {
          "duration": 0.017542,
          "end_time": "2024-02-22T09:25:16.844707",
          "exception": false,
          "start_time": "2024-02-22T09:25:16.827165",
          "status": "completed"
        },
        "tags": [],
        "id": "zBFzWIYhrGUD"
      }
    },
    {
      "cell_type": "code",
      "source": [
        "sub = pd.read_csv('/kaggle/input/financial-performance-prediction/sample_submission.csv')"
      ],
      "metadata": {
        "papermill": {
          "duration": 0.03566,
          "end_time": "2024-02-22T09:25:16.898193",
          "exception": false,
          "start_time": "2024-02-22T09:25:16.862533",
          "status": "completed"
        },
        "tags": [],
        "execution": {
          "iopub.status.busy": "2024-03-07T09:32:56.904548Z",
          "iopub.execute_input": "2024-03-07T09:32:56.906674Z",
          "iopub.status.idle": "2024-03-07T09:32:56.916398Z",
          "shell.execute_reply.started": "2024-03-07T09:32:56.906634Z",
          "shell.execute_reply": "2024-03-07T09:32:56.915564Z"
        },
        "trusted": true,
        "id": "5HUZIPmCrGUK"
      },
      "execution_count": null,
      "outputs": []
    },
    {
      "cell_type": "code",
      "source": [
        "# sanity check\n",
        "sub.Id == test.Id"
      ],
      "metadata": {
        "papermill": {
          "duration": 0.031672,
          "end_time": "2024-02-22T09:25:16.948839",
          "exception": false,
          "start_time": "2024-02-22T09:25:16.917167",
          "status": "completed"
        },
        "tags": [],
        "execution": {
          "iopub.status.busy": "2024-03-07T09:32:56.917539Z",
          "iopub.execute_input": "2024-03-07T09:32:56.917791Z",
          "iopub.status.idle": "2024-03-07T09:32:56.926583Z",
          "shell.execute_reply.started": "2024-03-07T09:32:56.917769Z",
          "shell.execute_reply": "2024-03-07T09:32:56.925609Z"
        },
        "trusted": true,
        "id": "ar8X42uYrGUN"
      },
      "execution_count": null,
      "outputs": []
    },
    {
      "cell_type": "code",
      "source": [
        "for target in preds:\n",
        "    sub[target] = preds[target]\n",
        "sub.head()"
      ],
      "metadata": {
        "papermill": {
          "duration": 0.044316,
          "end_time": "2024-02-22T09:25:17.010967",
          "exception": false,
          "start_time": "2024-02-22T09:25:16.966651",
          "status": "completed"
        },
        "tags": [],
        "execution": {
          "iopub.status.busy": "2024-03-07T09:32:56.927693Z",
          "iopub.execute_input": "2024-03-07T09:32:56.927978Z",
          "iopub.status.idle": "2024-03-07T09:32:56.952936Z",
          "shell.execute_reply.started": "2024-03-07T09:32:56.927941Z",
          "shell.execute_reply": "2024-03-07T09:32:56.951885Z"
        },
        "trusted": true,
        "id": "BM-0hIkSrGUP"
      },
      "execution_count": null,
      "outputs": []
    },
    {
      "cell_type": "code",
      "source": [
        "sub.to_csv('submission.csv', index = False)"
      ],
      "metadata": {
        "papermill": {
          "duration": 0.036792,
          "end_time": "2024-02-22T09:25:17.066324",
          "exception": false,
          "start_time": "2024-02-22T09:25:17.029532",
          "status": "completed"
        },
        "tags": [],
        "execution": {
          "iopub.status.busy": "2024-03-07T09:32:56.954342Z",
          "iopub.execute_input": "2024-03-07T09:32:56.954828Z",
          "iopub.status.idle": "2024-03-07T09:32:56.969495Z",
          "shell.execute_reply.started": "2024-03-07T09:32:56.954792Z",
          "shell.execute_reply": "2024-03-07T09:32:56.968395Z"
        },
        "trusted": true,
        "id": "DRQGhfiWrGUQ"
      },
      "execution_count": null,
      "outputs": []
    },
    {
      "cell_type": "code",
      "source": [
        "#ids = np.array(sub.Id)\n",
        "#preds.keys()"
      ],
      "metadata": {
        "papermill": {
          "duration": 0.027094,
          "end_time": "2024-02-22T09:25:17.111951",
          "exception": false,
          "start_time": "2024-02-22T09:25:17.084857",
          "status": "completed"
        },
        "tags": [],
        "execution": {
          "iopub.status.busy": "2024-03-07T09:32:56.970656Z",
          "iopub.execute_input": "2024-03-07T09:32:56.970956Z",
          "iopub.status.idle": "2024-03-07T09:32:56.975059Z",
          "shell.execute_reply.started": "2024-03-07T09:32:56.970932Z",
          "shell.execute_reply": "2024-03-07T09:32:56.974149Z"
        },
        "trusted": true,
        "id": "57j9juWNrGUY"
      },
      "execution_count": null,
      "outputs": []
    },
    {
      "cell_type": "code",
      "source": [
        "# Write the submission file\n",
        "#np.savetxt(\n",
        "#    'submission.csv',\n",
        "#    np.rec.fromarrays([ids] + [pred for pred in list(preds.values())]),\n",
        "#    fmt=['%s', '%d', '%d', '%d', '%d', '%d', '%d', '%d', '%d', '%d'],\n",
        "#    delimiter=',',\n",
        "#    header='Id,Q0_TOTAL_ASSETS,Q0_TOTAL_LIABILITIES,Q0_TOTAL_STOCKHOLDERS_EQUITY,Q0_GROSS_PROFIT,Q0_COST_OF_REVENUES,Q0_REVENUES,Q0_OPERATING_INCOME,Q0_OPERATING_EXPENSES,Q0_EBITDA',\n",
        "#    comments='submission description from code',\n",
        "#)"
      ],
      "metadata": {
        "papermill": {
          "duration": 0.027425,
          "end_time": "2024-02-22T09:25:17.157558",
          "exception": false,
          "start_time": "2024-02-22T09:25:17.130133",
          "status": "completed"
        },
        "tags": [],
        "execution": {
          "iopub.status.busy": "2024-03-07T09:32:56.97639Z",
          "iopub.execute_input": "2024-03-07T09:32:56.976925Z",
          "iopub.status.idle": "2024-03-07T09:32:56.984942Z",
          "shell.execute_reply.started": "2024-03-07T09:32:56.9769Z",
          "shell.execute_reply": "2024-03-07T09:32:56.98397Z"
        },
        "trusted": true,
        "id": "3rRCjoB_rGUa"
      },
      "execution_count": null,
      "outputs": []
    },
    {
      "cell_type": "code",
      "source": [],
      "metadata": {
        "papermill": {
          "duration": 0.018005,
          "end_time": "2024-02-22T09:25:17.195709",
          "exception": false,
          "start_time": "2024-02-22T09:25:17.177704",
          "status": "completed"
        },
        "tags": [],
        "id": "pSw6q950rGUb"
      },
      "execution_count": null,
      "outputs": []
    }
  ]
}