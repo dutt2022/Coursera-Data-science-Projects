{
  "nbformat": 4,
  "nbformat_minor": 0,
  "metadata": {
    "colab": {
      "provenance": [],
      "include_colab_link": true
    },
    "kernelspec": {
      "name": "python3",
      "display_name": "Python 3"
    },
    "language_info": {
      "name": "python"
    },
    "accelerator": "GPU",
    "gpuClass": "standard"
  },
  "cells": [
    {
      "cell_type": "markdown",
      "metadata": {
        "id": "view-in-github",
        "colab_type": "text"
      },
      "source": [
        "<a href=\"https://colab.research.google.com/github/dutt2022/Coursera-Data-science-Projects/blob/main/TextRank_Eigen_Vector_Text_Summarization.ipynb\" target=\"_parent\"><img src=\"https://colab.research.google.com/assets/colab-badge.svg\" alt=\"Open In Colab\"/></a>"
      ]
    },
    {
      "cell_type": "code",
      "execution_count": null,
      "metadata": {
        "id": "d7QT-yfA3Hui"
      },
      "outputs": [],
      "source": [
        "import pandas as pd\n",
        "import numpy as np\n",
        "import textwrap\n",
        "import nltk\n",
        "from nltk.corpus import stopwords\n",
        "from nltk import word_tokenize\n",
        "from nltk.stem import WordNetLemmatizer, PorterStemmer\n",
        "from sklearn.feature_extraction.text import TfidfVectorizer\n",
        "from sklearn.metrics.pairwise import cosine_similarity"
      ]
    },
    {
      "cell_type": "code",
      "source": [
        "from google.colab import drive\n",
        "drive.mount('/content/drive/')"
      ],
      "metadata": {
        "id": "gkQT255PAqq-"
      },
      "execution_count": null,
      "outputs": []
    },
    {
      "cell_type": "markdown",
      "source": [],
      "metadata": {
        "id": "4_dI-TEuApZJ"
      }
    },
    {
      "cell_type": "code",
      "source": [],
      "metadata": {
        "id": "C__iWzODAoFh"
      },
      "execution_count": null,
      "outputs": []
    },
    {
      "cell_type": "code",
      "source": [
        "nltk.download('punkt')\n",
        "nltk.download('stopwords')"
      ],
      "metadata": {
        "colab": {
          "base_uri": "https://localhost:8080/"
        },
        "id": "prLsS-NQ5cFu",
        "outputId": "ad4a35e9-8e84-4492-8ccf-5f14d337ab67"
      },
      "execution_count": null,
      "outputs": [
        {
          "output_type": "stream",
          "name": "stderr",
          "text": [
            "[nltk_data] Downloading package punkt to /root/nltk_data...\n",
            "[nltk_data]   Package punkt is already up-to-date!\n",
            "[nltk_data] Downloading package stopwords to /root/nltk_data...\n",
            "[nltk_data]   Package stopwords is already up-to-date!\n"
          ]
        },
        {
          "output_type": "execute_result",
          "data": {
            "text/plain": [
              "True"
            ]
          },
          "metadata": {},
          "execution_count": 2
        }
      ]
    },
    {
      "cell_type": "code",
      "source": [
        "# https://www.kaggle.com/shivamkushwaha/bbc-full-text-document-classification\n",
        "!wget -nc https://lazyprogrammer.me/course_files/nlp/bbc_text_cls.csv"
      ],
      "metadata": {
        "colab": {
          "base_uri": "https://localhost:8080/"
        },
        "id": "zrUGh8t93gi-",
        "outputId": "1ad2451a-3344-4084-dd63-e8d8bbf6e507"
      },
      "execution_count": null,
      "outputs": [
        {
          "output_type": "stream",
          "name": "stdout",
          "text": [
            "File ‘bbc_text_cls.csv’ already there; not retrieving.\n",
            "\n"
          ]
        }
      ]
    },
    {
      "cell_type": "code",
      "source": [
        "df = pd.read_csv('bbc_text_cls.csv')"
      ],
      "metadata": {
        "id": "6p5JqP4s3kgy"
      },
      "execution_count": null,
      "outputs": []
    },
    {
      "cell_type": "code",
      "source": [
        "df"
      ],
      "metadata": {
        "colab": {
          "base_uri": "https://localhost:8080/",
          "height": 423
        },
        "id": "kZYAjDdh3nl7",
        "outputId": "1d6f6a92-dd86-4b39-ad2f-ec5b511cdb37"
      },
      "execution_count": null,
      "outputs": [
        {
          "output_type": "execute_result",
          "data": {
            "text/plain": [
              "                                                   text    labels\n",
              "0     Ad sales boost Time Warner profit\\n\\nQuarterly...  business\n",
              "1     Dollar gains on Greenspan speech\\n\\nThe dollar...  business\n",
              "2     Yukos unit buyer faces loan claim\\n\\nThe owner...  business\n",
              "3     High fuel prices hit BA's profits\\n\\nBritish A...  business\n",
              "4     Pernod takeover talk lifts Domecq\\n\\nShares in...  business\n",
              "...                                                 ...       ...\n",
              "2220  BT program to beat dialler scams\\n\\nBT is intr...      tech\n",
              "2221  Spam e-mails tempt net shoppers\\n\\nComputer us...      tech\n",
              "2222  Be careful how you code\\n\\nA new European dire...      tech\n",
              "2223  US cyber security chief resigns\\n\\nThe man mak...      tech\n",
              "2224  Losing yourself in online gaming\\n\\nOnline rol...      tech\n",
              "\n",
              "[2225 rows x 2 columns]"
            ],
            "text/html": [
              "\n",
              "  <div id=\"df-f37bd4b9-57c4-4973-9596-265235b28dc3\">\n",
              "    <div class=\"colab-df-container\">\n",
              "      <div>\n",
              "<style scoped>\n",
              "    .dataframe tbody tr th:only-of-type {\n",
              "        vertical-align: middle;\n",
              "    }\n",
              "\n",
              "    .dataframe tbody tr th {\n",
              "        vertical-align: top;\n",
              "    }\n",
              "\n",
              "    .dataframe thead th {\n",
              "        text-align: right;\n",
              "    }\n",
              "</style>\n",
              "<table border=\"1\" class=\"dataframe\">\n",
              "  <thead>\n",
              "    <tr style=\"text-align: right;\">\n",
              "      <th></th>\n",
              "      <th>text</th>\n",
              "      <th>labels</th>\n",
              "    </tr>\n",
              "  </thead>\n",
              "  <tbody>\n",
              "    <tr>\n",
              "      <th>0</th>\n",
              "      <td>Ad sales boost Time Warner profit\\n\\nQuarterly...</td>\n",
              "      <td>business</td>\n",
              "    </tr>\n",
              "    <tr>\n",
              "      <th>1</th>\n",
              "      <td>Dollar gains on Greenspan speech\\n\\nThe dollar...</td>\n",
              "      <td>business</td>\n",
              "    </tr>\n",
              "    <tr>\n",
              "      <th>2</th>\n",
              "      <td>Yukos unit buyer faces loan claim\\n\\nThe owner...</td>\n",
              "      <td>business</td>\n",
              "    </tr>\n",
              "    <tr>\n",
              "      <th>3</th>\n",
              "      <td>High fuel prices hit BA's profits\\n\\nBritish A...</td>\n",
              "      <td>business</td>\n",
              "    </tr>\n",
              "    <tr>\n",
              "      <th>4</th>\n",
              "      <td>Pernod takeover talk lifts Domecq\\n\\nShares in...</td>\n",
              "      <td>business</td>\n",
              "    </tr>\n",
              "    <tr>\n",
              "      <th>...</th>\n",
              "      <td>...</td>\n",
              "      <td>...</td>\n",
              "    </tr>\n",
              "    <tr>\n",
              "      <th>2220</th>\n",
              "      <td>BT program to beat dialler scams\\n\\nBT is intr...</td>\n",
              "      <td>tech</td>\n",
              "    </tr>\n",
              "    <tr>\n",
              "      <th>2221</th>\n",
              "      <td>Spam e-mails tempt net shoppers\\n\\nComputer us...</td>\n",
              "      <td>tech</td>\n",
              "    </tr>\n",
              "    <tr>\n",
              "      <th>2222</th>\n",
              "      <td>Be careful how you code\\n\\nA new European dire...</td>\n",
              "      <td>tech</td>\n",
              "    </tr>\n",
              "    <tr>\n",
              "      <th>2223</th>\n",
              "      <td>US cyber security chief resigns\\n\\nThe man mak...</td>\n",
              "      <td>tech</td>\n",
              "    </tr>\n",
              "    <tr>\n",
              "      <th>2224</th>\n",
              "      <td>Losing yourself in online gaming\\n\\nOnline rol...</td>\n",
              "      <td>tech</td>\n",
              "    </tr>\n",
              "  </tbody>\n",
              "</table>\n",
              "<p>2225 rows × 2 columns</p>\n",
              "</div>\n",
              "      <button class=\"colab-df-convert\" onclick=\"convertToInteractive('df-f37bd4b9-57c4-4973-9596-265235b28dc3')\"\n",
              "              title=\"Convert this dataframe to an interactive table.\"\n",
              "              style=\"display:none;\">\n",
              "        \n",
              "  <svg xmlns=\"http://www.w3.org/2000/svg\" height=\"24px\"viewBox=\"0 0 24 24\"\n",
              "       width=\"24px\">\n",
              "    <path d=\"M0 0h24v24H0V0z\" fill=\"none\"/>\n",
              "    <path d=\"M18.56 5.44l.94 2.06.94-2.06 2.06-.94-2.06-.94-.94-2.06-.94 2.06-2.06.94zm-11 1L8.5 8.5l.94-2.06 2.06-.94-2.06-.94L8.5 2.5l-.94 2.06-2.06.94zm10 10l.94 2.06.94-2.06 2.06-.94-2.06-.94-.94-2.06-.94 2.06-2.06.94z\"/><path d=\"M17.41 7.96l-1.37-1.37c-.4-.4-.92-.59-1.43-.59-.52 0-1.04.2-1.43.59L10.3 9.45l-7.72 7.72c-.78.78-.78 2.05 0 2.83L4 21.41c.39.39.9.59 1.41.59.51 0 1.02-.2 1.41-.59l7.78-7.78 2.81-2.81c.8-.78.8-2.07 0-2.86zM5.41 20L4 18.59l7.72-7.72 1.47 1.35L5.41 20z\"/>\n",
              "  </svg>\n",
              "      </button>\n",
              "      \n",
              "  <style>\n",
              "    .colab-df-container {\n",
              "      display:flex;\n",
              "      flex-wrap:wrap;\n",
              "      gap: 12px;\n",
              "    }\n",
              "\n",
              "    .colab-df-convert {\n",
              "      background-color: #E8F0FE;\n",
              "      border: none;\n",
              "      border-radius: 50%;\n",
              "      cursor: pointer;\n",
              "      display: none;\n",
              "      fill: #1967D2;\n",
              "      height: 32px;\n",
              "      padding: 0 0 0 0;\n",
              "      width: 32px;\n",
              "    }\n",
              "\n",
              "    .colab-df-convert:hover {\n",
              "      background-color: #E2EBFA;\n",
              "      box-shadow: 0px 1px 2px rgba(60, 64, 67, 0.3), 0px 1px 3px 1px rgba(60, 64, 67, 0.15);\n",
              "      fill: #174EA6;\n",
              "    }\n",
              "\n",
              "    [theme=dark] .colab-df-convert {\n",
              "      background-color: #3B4455;\n",
              "      fill: #D2E3FC;\n",
              "    }\n",
              "\n",
              "    [theme=dark] .colab-df-convert:hover {\n",
              "      background-color: #434B5C;\n",
              "      box-shadow: 0px 1px 3px 1px rgba(0, 0, 0, 0.15);\n",
              "      filter: drop-shadow(0px 1px 2px rgba(0, 0, 0, 0.3));\n",
              "      fill: #FFFFFF;\n",
              "    }\n",
              "  </style>\n",
              "\n",
              "      <script>\n",
              "        const buttonEl =\n",
              "          document.querySelector('#df-f37bd4b9-57c4-4973-9596-265235b28dc3 button.colab-df-convert');\n",
              "        buttonEl.style.display =\n",
              "          google.colab.kernel.accessAllowed ? 'block' : 'none';\n",
              "\n",
              "        async function convertToInteractive(key) {\n",
              "          const element = document.querySelector('#df-f37bd4b9-57c4-4973-9596-265235b28dc3');\n",
              "          const dataTable =\n",
              "            await google.colab.kernel.invokeFunction('convertToInteractive',\n",
              "                                                     [key], {});\n",
              "          if (!dataTable) return;\n",
              "\n",
              "          const docLinkHtml = 'Like what you see? Visit the ' +\n",
              "            '<a target=\"_blank\" href=https://colab.research.google.com/notebooks/data_table.ipynb>data table notebook</a>'\n",
              "            + ' to learn more about interactive tables.';\n",
              "          element.innerHTML = '';\n",
              "          dataTable['output_type'] = 'display_data';\n",
              "          await google.colab.output.renderOutput(dataTable, element);\n",
              "          const docLink = document.createElement('div');\n",
              "          docLink.innerHTML = docLinkHtml;\n",
              "          element.appendChild(docLink);\n",
              "        }\n",
              "      </script>\n",
              "    </div>\n",
              "  </div>\n",
              "  "
            ]
          },
          "metadata": {},
          "execution_count": 5
        }
      ]
    },
    {
      "cell_type": "code",
      "source": [
        "doc = df[df.labels == 'business']['text'].sample(random_state=42)"
      ],
      "metadata": {
        "id": "dvHA3OW_3sBF"
      },
      "execution_count": null,
      "outputs": []
    },
    {
      "cell_type": "code",
      "source": [
        "def wrap(x):\n",
        "  return textwrap.fill(x, replace_whitespace=False, fix_sentence_endings=True)"
      ],
      "metadata": {
        "id": "wTOu9nq24-pt"
      },
      "execution_count": null,
      "outputs": []
    },
    {
      "cell_type": "code",
      "source": [
        "#print(wrap(doc.iloc[0][1]))"
      ],
      "metadata": {
        "id": "1X5ucG7S4pkg"
      },
      "execution_count": null,
      "outputs": []
    },
    {
      "cell_type": "code",
      "source": [
        "print(wrap(doc.iloc[0]))"
      ],
      "metadata": {
        "colab": {
          "base_uri": "https://localhost:8080/"
        },
        "id": "RCFbdKID3-sH",
        "outputId": "0ba6ebf7-061c-44de-def7-c265d1859068"
      },
      "execution_count": null,
      "outputs": [
        {
          "output_type": "stream",
          "name": "stdout",
          "text": [
            "Christmas sales worst since 1981\n",
            "\n",
            "UK retail sales fell in December,\n",
            "failing to meet expectations and making it by some counts the worst\n",
            "Christmas since 1981.\n",
            "\n",
            "Retail sales dropped by 1% on the month in\n",
            "December, after a 0.6% rise in November, the Office for National\n",
            "Statistics (ONS) said.  The ONS revised the annual 2004 rate of growth\n",
            "down from the 5.9% estimated in November to 3.2%. A number of\n",
            "retailers have already reported poor figures for December.  Clothing\n",
            "retailers and non-specialist stores were the worst hit with only\n",
            "internet retailers showing any significant growth, according to the\n",
            "ONS.\n",
            "\n",
            "The last time retailers endured a tougher Christmas was 23 years\n",
            "previously, when sales plunged 1.7%.\n",
            "\n",
            "The ONS echoed an earlier\n",
            "caution from Bank of England governor Mervyn King not to read too much\n",
            "into the poor December figures.  Some analysts put a positive gloss on\n",
            "the figures, pointing out that the non-seasonally-adjusted figures\n",
            "showed a performance comparable with 2003. The November-December jump\n",
            "last year was roughly comparable with recent averages, although some\n",
            "way below the serious booms seen in the 1990s.  And figures for retail\n",
            "volume outperformed measures of actual spending, an indication that\n",
            "consumers are looking for bargains, and retailers are cutting their\n",
            "prices.\n",
            "\n",
            "However, reports from some High Street retailers highlight\n",
            "the weakness of the sector.  Morrisons, Woolworths, House of Fraser,\n",
            "Marks & Spencer and Big Food all said that the festive period was\n",
            "disappointing.\n",
            "\n",
            "And a British Retail Consortium survey found that\n",
            "Christmas 2004 was the worst for 10 years.  Yet, other retailers -\n",
            "including HMV, Monsoon, Jessops, Body Shop and Tesco - reported that\n",
            "festive sales were well up on last year.  Investec chief economist\n",
            "Philip Shaw said he did not expect the poor retail figures to have any\n",
            "immediate effect on interest rates.  \"The retail sales figures are\n",
            "very weak, but as Bank of England governor Mervyn King indicated last\n",
            "night, you don't really get an accurate impression of Christmas\n",
            "trading until about Easter,\" said Mr Shaw.  \"Our view is the Bank of\n",
            "England will keep its powder dry and wait to see the big picture.\"\n"
          ]
        }
      ]
    },
    {
      "cell_type": "code",
      "source": [
        "print(doc.iloc[0].split(\"\\n\", 1)[1])"
      ],
      "metadata": {
        "colab": {
          "base_uri": "https://localhost:8080/"
        },
        "id": "ow_EreLyR6VP",
        "outputId": "12ddcf29-7d61-4e44-e0ba-165b466a1711"
      },
      "execution_count": null,
      "outputs": [
        {
          "output_type": "stream",
          "name": "stdout",
          "text": [
            "\n",
            "UK retail sales fell in December, failing to meet expectations and making it by some counts the worst Christmas since 1981.\n",
            "\n",
            "Retail sales dropped by 1% on the month in December, after a 0.6% rise in November, the Office for National Statistics (ONS) said. The ONS revised the annual 2004 rate of growth down from the 5.9% estimated in November to 3.2%. A number of retailers have already reported poor figures for December. Clothing retailers and non-specialist stores were the worst hit with only internet retailers showing any significant growth, according to the ONS.\n",
            "\n",
            "The last time retailers endured a tougher Christmas was 23 years previously, when sales plunged 1.7%.\n",
            "\n",
            "The ONS echoed an earlier caution from Bank of England governor Mervyn King not to read too much into the poor December figures. Some analysts put a positive gloss on the figures, pointing out that the non-seasonally-adjusted figures showed a performance comparable with 2003. The November-December jump last year was roughly comparable with recent averages, although some way below the serious booms seen in the 1990s. And figures for retail volume outperformed measures of actual spending, an indication that consumers are looking for bargains, and retailers are cutting their prices.\n",
            "\n",
            "However, reports from some High Street retailers highlight the weakness of the sector. Morrisons, Woolworths, House of Fraser, Marks & Spencer and Big Food all said that the festive period was disappointing.\n",
            "\n",
            "And a British Retail Consortium survey found that Christmas 2004 was the worst for 10 years. Yet, other retailers - including HMV, Monsoon, Jessops, Body Shop and Tesco - reported that festive sales were well up on last year. Investec chief economist Philip Shaw said he did not expect the poor retail figures to have any immediate effect on interest rates. \"The retail sales figures are very weak, but as Bank of England governor Mervyn King indicated last night, you don't really get an accurate impression of Christmas trading until about Easter,\" said Mr Shaw. \"Our view is the Bank of England will keep its powder dry and wait to see the big picture.\"\n"
          ]
        }
      ]
    },
    {
      "cell_type": "code",
      "source": [
        "print(doc.iloc[0].split(\"\\n\", 1)[0])"
      ],
      "metadata": {
        "colab": {
          "base_uri": "https://localhost:8080/"
        },
        "id": "bOfnGt4FyZDV",
        "outputId": "1ecdcbbe-643c-4407-8793-e435e9aacfb1"
      },
      "execution_count": null,
      "outputs": [
        {
          "output_type": "stream",
          "name": "stdout",
          "text": [
            "Christmas sales worst since 1981\n"
          ]
        }
      ]
    },
    {
      "cell_type": "code",
      "source": [
        "doc = df[df.labels == 'business']['text'].sample(random_state=142)"
      ],
      "metadata": {
        "id": "ls6Wj317YdYT"
      },
      "execution_count": null,
      "outputs": []
    },
    {
      "cell_type": "code",
      "source": [
        "print(wrap(doc.iloc[0]))"
      ],
      "metadata": {
        "colab": {
          "base_uri": "https://localhost:8080/"
        },
        "id": "eq7YTMIQYdd4",
        "outputId": "589c8b89-3e99-49af-eab9-7e6d1ba51241"
      },
      "execution_count": null,
      "outputs": [
        {
          "output_type": "stream",
          "name": "stdout",
          "text": [
            "French suitor holds LSE meeting\n",
            "\n",
            "European stock market Euronext has\n",
            "met with the London Stock Exchange (LSE) amid speculation that it may\n",
            "be ready to launch a cash bid.\n",
            "\n",
            "Euronext chief Jean-Francois Theodore\n",
            "held talks with LSE boss Clara Furse the day after rival Deutsche\n",
            "Boerse put forward its own bid case.  The German exchange said it had\n",
            "held \"constructive, professional and friendly\" talks with the LSE. But\n",
            "Euronext declined to comment after the talks ended on Friday.\n",
            "Speculation is mounting that the Germans may raise their bid to\n",
            "£1.5bn.  Deutsche Boerse previously offered £1.3bn, which was rejected\n",
            "by the LSE, while Euronext is rumoured to have facilities in place to\n",
            "fund a £1.4bn cash bid.  So far, however, neither have tabled a formal\n",
            "bid.  But a deal with either bidder would create the biggest stock\n",
            "market operator in Europe and the second biggest in the world after\n",
            "the New York Stock Exchange.\n",
            "\n",
            "There was speculation Euronext would use\n",
            "Friday's meeting as an opportunity to take advantage of growing\n",
            "disquiet over Deutsche Boerse's own plans for dominance over the\n",
            "London market.  Unions for Deutsche Boerse staff in Frankfurt has\n",
            "reportedly expressed fears that up to 300 jobs would be moved to\n",
            "London if the takeover is successful.  \"The works council has\n",
            "expressed concerns that the equities and derivatives trade could be\n",
            "managed from London in the future,\" Reuters news agency reports a\n",
            "union source as saying.  German politicians are also said to be angry\n",
            "over the market operator's promise to move its headquarters to London\n",
            "if a bid were successful.\n",
            "\n",
            "Meanwhile, LSE shareholders fear that\n",
            "Deutsche Boerse's control over its Clearstream unit - the clearing\n",
            "house that processes securities transactions - would create a monopoly\n",
            "situation.  This would weaken the position of shareholders when\n",
            "negotiating lower transaction fees for share dealings.  LSE and\n",
            "Euronext do not have control over their clearing and settlement\n",
            "operations, a situation which critics say is more transparent and\n",
            "competitive.  The German group's ownership of Clearstream has been\n",
            "seen as the main stumbling block to a London-Frankfurt merger.\n",
            "Commentators believe Deutsche Boerse, which has now formally asked\n",
            "German authorities to approve its plan to buy the LSE, may offer to\n",
            "sell Clearstream to gain shareholder approval.  Euronext, so far, has\n",
            "given little away as to what sweeteners it will offer the LSE -\n",
            "Europe's biggest equity market - into a deal.\n"
          ]
        }
      ]
    },
    {
      "cell_type": "code",
      "source": [],
      "metadata": {
        "id": "CcPgmoksYdkz"
      },
      "execution_count": null,
      "outputs": []
    },
    {
      "cell_type": "code",
      "source": [
        "sents = nltk.sent_tokenize(doc.iloc[0].split(\"\\n\", 1)[1])"
      ],
      "metadata": {
        "id": "oL9LyM7E5P9o"
      },
      "execution_count": null,
      "outputs": []
    },
    {
      "cell_type": "code",
      "source": [
        "featurizer = TfidfVectorizer(\n",
        "    stop_words=stopwords.words('english'),\n",
        "    norm='l1')"
      ],
      "metadata": {
        "id": "bzPH86px4KaB"
      },
      "execution_count": null,
      "outputs": []
    },
    {
      "cell_type": "code",
      "source": [
        "X = featurizer.fit_transform(sents)"
      ],
      "metadata": {
        "id": "OvLmUYVu5s98"
      },
      "execution_count": null,
      "outputs": []
    },
    {
      "cell_type": "code",
      "source": [
        "# compute similarity matrix\n",
        "S = cosine_similarity(X)"
      ],
      "metadata": {
        "id": "o4FX3J9-8J0w"
      },
      "execution_count": null,
      "outputs": []
    },
    {
      "cell_type": "code",
      "source": [
        "S.shape"
      ],
      "metadata": {
        "colab": {
          "base_uri": "https://localhost:8080/"
        },
        "id": "uHwX7d4QKW6V",
        "outputId": "67fcb938-04bf-4343-989f-2a5dfb6c758e"
      },
      "execution_count": null,
      "outputs": [
        {
          "output_type": "execute_result",
          "data": {
            "text/plain": [
              "(18, 18)"
            ]
          },
          "metadata": {},
          "execution_count": 18
        }
      ]
    },
    {
      "cell_type": "code",
      "source": [
        "len(sents)"
      ],
      "metadata": {
        "colab": {
          "base_uri": "https://localhost:8080/"
        },
        "id": "D9DQ8uiDKYHq",
        "outputId": "6c095275-37b5-4896-a363-09e3b4b867a5"
      },
      "execution_count": null,
      "outputs": [
        {
          "output_type": "execute_result",
          "data": {
            "text/plain": [
              "18"
            ]
          },
          "metadata": {},
          "execution_count": 19
        }
      ]
    },
    {
      "cell_type": "code",
      "source": [
        "# normalize similarity matrix\n",
        "S /= S.sum(axis=1, keepdims=True)"
      ],
      "metadata": {
        "id": "ONXK1O38KZxn"
      },
      "execution_count": null,
      "outputs": []
    },
    {
      "cell_type": "code",
      "source": [
        "S[0].sum()"
      ],
      "metadata": {
        "colab": {
          "base_uri": "https://localhost:8080/"
        },
        "id": "SPOyefZzLEw1",
        "outputId": "683aae5a-73a4-4b40-8b97-1b574ae07055"
      },
      "execution_count": null,
      "outputs": [
        {
          "output_type": "execute_result",
          "data": {
            "text/plain": [
              "1.0"
            ]
          },
          "metadata": {},
          "execution_count": 21
        }
      ]
    },
    {
      "cell_type": "code",
      "source": [
        "# uniform transition matrix\n",
        "U = np.ones_like(S) / len(S)"
      ],
      "metadata": {
        "id": "6-Sy89A1K1Rp"
      },
      "execution_count": null,
      "outputs": []
    },
    {
      "cell_type": "code",
      "source": [
        "U[0].sum()"
      ],
      "metadata": {
        "colab": {
          "base_uri": "https://localhost:8080/"
        },
        "id": "1vjyvYXILCYF",
        "outputId": "de097df7-9fb5-4053-b913-386191ac0d66"
      },
      "execution_count": null,
      "outputs": [
        {
          "output_type": "execute_result",
          "data": {
            "text/plain": [
              "1.0"
            ]
          },
          "metadata": {},
          "execution_count": 23
        }
      ]
    },
    {
      "cell_type": "code",
      "source": [
        "# smoothed similarity matrix\n",
        "factor = 0.15\n",
        "S = (1 - factor) * S + factor * U"
      ],
      "metadata": {
        "id": "nRGH-CZgKhiP"
      },
      "execution_count": null,
      "outputs": []
    },
    {
      "cell_type": "code",
      "source": [
        "S[0].sum()"
      ],
      "metadata": {
        "colab": {
          "base_uri": "https://localhost:8080/"
        },
        "id": "QDEq8f_PK8xo",
        "outputId": "3cde640c-326f-42fa-fb9c-179beb527dfb"
      },
      "execution_count": null,
      "outputs": [
        {
          "output_type": "execute_result",
          "data": {
            "text/plain": [
              "1.0000000000000002"
            ]
          },
          "metadata": {},
          "execution_count": 25
        }
      ]
    },
    {
      "cell_type": "code",
      "source": [
        "# find the limiting / stationary distribution\n",
        "eigenvals, eigenvecs = np.linalg.eig(S.T)"
      ],
      "metadata": {
        "id": "JibzwDuQLHCR"
      },
      "execution_count": null,
      "outputs": []
    },
    {
      "cell_type": "code",
      "source": [
        "eigenvals"
      ],
      "metadata": {
        "colab": {
          "base_uri": "https://localhost:8080/"
        },
        "id": "rwtJ9dV1Lhyd",
        "outputId": "bb276435-598d-44a2-f035-b825738fa82c"
      },
      "execution_count": null,
      "outputs": [
        {
          "output_type": "execute_result",
          "data": {
            "text/plain": [
              "array([1.        , 0.22594683, 0.72398087, 0.70713284, 0.64317234,\n",
              "       0.31188529, 0.32236711, 0.34534314, 0.3525957 , 0.38432922,\n",
              "       0.41005675, 0.45336931, 0.47507227, 0.48063928, 0.60266083,\n",
              "       0.56721592, 0.55911263, 0.55717777])"
            ]
          },
          "metadata": {},
          "execution_count": 27
        }
      ]
    },
    {
      "cell_type": "code",
      "source": [
        "eigenvecs[:,0]"
      ],
      "metadata": {
        "colab": {
          "base_uri": "https://localhost:8080/"
        },
        "id": "kWY7TYTOL-xH",
        "outputId": "48f327b3-9e58-4f2f-86d9-8b125cd01dc5"
      },
      "execution_count": null,
      "outputs": [
        {
          "output_type": "execute_result",
          "data": {
            "text/plain": [
              "array([0.30183472, 0.25112939, 0.24048703, 0.20962727, 0.20972384,\n",
              "       0.24480488, 0.19892056, 0.24143128, 0.26862991, 0.23959954,\n",
              "       0.19707203, 0.24648145, 0.2580201 , 0.19526784, 0.21555003,\n",
              "       0.21114237, 0.23613698, 0.24821829])"
            ]
          },
          "metadata": {},
          "execution_count": 28
        }
      ]
    },
    {
      "cell_type": "code",
      "source": [
        "eigenvecs[:,0].dot(S)"
      ],
      "metadata": {
        "colab": {
          "base_uri": "https://localhost:8080/"
        },
        "id": "tZynMwgUP20g",
        "outputId": "ee58ba75-0509-440b-8ad2-8ea946243ad4"
      },
      "execution_count": null,
      "outputs": [
        {
          "output_type": "execute_result",
          "data": {
            "text/plain": [
              "array([0.30183472, 0.25112939, 0.24048703, 0.20962727, 0.20972384,\n",
              "       0.24480488, 0.19892056, 0.24143128, 0.26862991, 0.23959954,\n",
              "       0.19707203, 0.24648145, 0.2580201 , 0.19526784, 0.21555003,\n",
              "       0.21114237, 0.23613698, 0.24821829])"
            ]
          },
          "metadata": {},
          "execution_count": 29
        }
      ]
    },
    {
      "cell_type": "code",
      "source": [
        "eigenvecs[:,0] / eigenvecs[:,0].sum()"
      ],
      "metadata": {
        "colab": {
          "base_uri": "https://localhost:8080/"
        },
        "id": "QxvppcSVQR-L",
        "outputId": "9cfadadc-4ff6-47bc-8d4e-93b34924a16a"
      },
      "execution_count": null,
      "outputs": [
        {
          "output_type": "execute_result",
          "data": {
            "text/plain": [
              "array([0.07162534, 0.05959297, 0.05706754, 0.04974452, 0.04976744,\n",
              "       0.05809216, 0.04720382, 0.05729161, 0.06374584, 0.05685694,\n",
              "       0.04676516, 0.05849001, 0.06122813, 0.04633703, 0.05114999,\n",
              "       0.05010405, 0.05603527, 0.05890217])"
            ]
          },
          "metadata": {},
          "execution_count": 30
        }
      ]
    },
    {
      "cell_type": "code",
      "source": [
        "limiting_dist = np.ones(len(S)) / len(S)\n",
        "threshold = 1e-8\n",
        "delta = float('inf')\n",
        "iters = 0\n",
        "while delta > threshold:\n",
        "  iters += 1\n",
        "\n",
        "  # Markov transition\n",
        "  p = limiting_dist.dot(S)\n",
        "\n",
        "  # compute change in limiting distribution\n",
        "  delta = np.abs(p - limiting_dist).sum()\n",
        "\n",
        "  # update limiting distribution\n",
        "  limiting_dist = p\n",
        "\n",
        "print(iters)"
      ],
      "metadata": {
        "colab": {
          "base_uri": "https://localhost:8080/"
        },
        "id": "AoIy2tVWNABO",
        "outputId": "1278b642-d2c8-4531-e92b-ea3f1fbf8b36"
      },
      "execution_count": null,
      "outputs": [
        {
          "output_type": "stream",
          "name": "stdout",
          "text": [
            "43\n"
          ]
        }
      ]
    },
    {
      "cell_type": "code",
      "source": [
        "limiting_dist"
      ],
      "metadata": {
        "colab": {
          "base_uri": "https://localhost:8080/"
        },
        "id": "54MR0CgrN44t",
        "outputId": "4ea727ca-e005-484d-d5c2-282eddefa1da"
      },
      "execution_count": null,
      "outputs": [
        {
          "output_type": "execute_result",
          "data": {
            "text/plain": [
              "array([0.07162534, 0.05959297, 0.05706754, 0.04974452, 0.04976744,\n",
              "       0.05809216, 0.04720382, 0.05729161, 0.06374584, 0.05685694,\n",
              "       0.04676517, 0.05849001, 0.06122813, 0.04633703, 0.05114999,\n",
              "       0.05010405, 0.05603527, 0.05890216])"
            ]
          },
          "metadata": {},
          "execution_count": 32
        }
      ]
    },
    {
      "cell_type": "code",
      "source": [
        "limiting_dist.sum()"
      ],
      "metadata": {
        "colab": {
          "base_uri": "https://localhost:8080/"
        },
        "id": "muOLrUw1OHoA",
        "outputId": "a04cd719-3dd0-4403-8880-c8d5004c9a75"
      },
      "execution_count": null,
      "outputs": [
        {
          "output_type": "execute_result",
          "data": {
            "text/plain": [
              "0.9999999999999998"
            ]
          },
          "metadata": {},
          "execution_count": 33
        }
      ]
    },
    {
      "cell_type": "code",
      "source": [
        "np.abs(eigenvecs[:,0] / eigenvecs[:,0].sum() - limiting_dist).sum()"
      ],
      "metadata": {
        "colab": {
          "base_uri": "https://localhost:8080/"
        },
        "id": "QX9NIKfOQWre",
        "outputId": "e59419d7-04e5-4d14-ac44-795f9c29ab34"
      },
      "execution_count": null,
      "outputs": [
        {
          "output_type": "execute_result",
          "data": {
            "text/plain": [
              "2.1280428391667883e-08"
            ]
          },
          "metadata": {},
          "execution_count": 34
        }
      ]
    },
    {
      "cell_type": "code",
      "source": [
        "scores = limiting_dist"
      ],
      "metadata": {
        "id": "_cS0R7CIOKZi"
      },
      "execution_count": null,
      "outputs": []
    },
    {
      "cell_type": "code",
      "source": [
        "sort_idx = np.argsort(-scores)"
      ],
      "metadata": {
        "id": "gx46Cfy17RiW"
      },
      "execution_count": null,
      "outputs": []
    },
    {
      "cell_type": "code",
      "source": [
        "# Many options for how to choose which sentences to include:\n",
        "\n",
        "# 1) top N sentences\n",
        "# 2) top N words\n",
        "# 3) top X% sentences or top X% words\n",
        "# 4) sentences with scores > average score\n",
        "# 5) sentences with scores > factor * average score\n",
        "\n",
        "# You also don't have to sort. May make more sense in order.\n",
        "\n",
        "print(\"Generated summary:\")\n",
        "for i in sort_idx[:5]:\n",
        "  print(wrap(\"%.2f: %s\" % (scores[i], sents[i])))"
      ],
      "metadata": {
        "colab": {
          "base_uri": "https://localhost:8080/"
        },
        "id": "t9ndj2SV7oUc",
        "outputId": "a203c20a-fbb7-468c-d538-279bfeec6496"
      },
      "execution_count": null,
      "outputs": [
        {
          "output_type": "stream",
          "name": "stdout",
          "text": [
            "Generated summary:\n",
            "0.07: \n",
            "European stock market Euronext has met with the London Stock\n",
            "Exchange (LSE) amid speculation that it may be ready to launch a cash\n",
            "bid.\n",
            "0.06: There was speculation Euronext would use Friday's meeting as an\n",
            "opportunity to take advantage of growing disquiet over Deutsche\n",
            "Boerse's own plans for dominance over the London market.\n",
            "0.06: Meanwhile, LSE shareholders fear that Deutsche Boerse's control\n",
            "over its Clearstream unit - the clearing house that processes\n",
            "securities transactions - would create a monopoly situation.\n",
            "0.06: Euronext chief Jean-Francois Theodore held talks with LSE boss\n",
            "Clara Furse the day after rival Deutsche Boerse put forward its own\n",
            "bid case.\n",
            "0.06: Euronext, so far, has given little away as to what sweeteners it\n",
            "will offer the LSE - Europe's biggest equity market - into a deal.\n"
          ]
        }
      ]
    },
    {
      "cell_type": "code",
      "source": [
        "print(\"Generated summary:\")\n",
        "for i in sort_idx[:10]:\n",
        "  print(wrap(\"%.2f: %s\" % (scores[i], sents[i])))"
      ],
      "metadata": {
        "colab": {
          "base_uri": "https://localhost:8080/"
        },
        "id": "rztD9VGCC3u2",
        "outputId": "af03ce87-9c43-4dc0-d5a0-bd39c3573bc1"
      },
      "execution_count": null,
      "outputs": [
        {
          "output_type": "stream",
          "name": "stdout",
          "text": [
            "Generated summary:\n",
            "0.07: \n",
            "European stock market Euronext has met with the London Stock\n",
            "Exchange (LSE) amid speculation that it may be ready to launch a cash\n",
            "bid.\n",
            "0.06: There was speculation Euronext would use Friday's meeting as an\n",
            "opportunity to take advantage of growing disquiet over Deutsche\n",
            "Boerse's own plans for dominance over the London market.\n",
            "0.06: Meanwhile, LSE shareholders fear that Deutsche Boerse's control\n",
            "over its Clearstream unit - the clearing house that processes\n",
            "securities transactions - would create a monopoly situation.\n",
            "0.06: Euronext chief Jean-Francois Theodore held talks with LSE boss\n",
            "Clara Furse the day after rival Deutsche Boerse put forward its own\n",
            "bid case.\n",
            "0.06: Euronext, so far, has given little away as to what sweeteners it\n",
            "will offer the LSE - Europe's biggest equity market - into a deal.\n",
            "0.06: German politicians are also said to be angry over the market\n",
            "operator's promise to move its headquarters to London if a bid were\n",
            "successful.\n",
            "0.06: Deutsche Boerse previously offered £1.3bn, which was rejected by\n",
            "the LSE, while Euronext is rumoured to have facilities in place to\n",
            "fund a £1.4bn cash bid.\n",
            "0.06: But a deal with either bidder would create the biggest stock\n",
            "market operator in Europe and the second biggest in the world after\n",
            "the New York Stock Exchange.\n",
            "0.06: The German exchange said it had held \"constructive, professional\n",
            "and friendly\" talks with the LSE.\n",
            "0.06: Unions for Deutsche Boerse staff in Frankfurt has reportedly\n",
            "expressed fears that up to 300 jobs would be moved to London if the\n",
            "takeover is successful.\n"
          ]
        }
      ]
    },
    {
      "cell_type": "code",
      "source": [
        "doc.iloc[0].split(\"\\n\")[0]"
      ],
      "metadata": {
        "colab": {
          "base_uri": "https://localhost:8080/",
          "height": 36
        },
        "id": "DyGBB4j7BYmJ",
        "outputId": "e6cf83a2-a3d6-40cc-e729-e1cce2c5b3e8"
      },
      "execution_count": null,
      "outputs": [
        {
          "output_type": "execute_result",
          "data": {
            "text/plain": [
              "'French suitor holds LSE meeting'"
            ],
            "application/vnd.google.colaboratory.intrinsic+json": {
              "type": "string"
            }
          },
          "metadata": {},
          "execution_count": 39
        }
      ]
    },
    {
      "cell_type": "code",
      "source": [
        "def summarize(text, factor = 0.15):\n",
        "  # extract sentences\n",
        "  sents = nltk.sent_tokenize(text)\n",
        "\n",
        "  # perform tf-idf\n",
        "  featurizer = TfidfVectorizer(\n",
        "      stop_words=stopwords.words('english'),\n",
        "      norm='l1')\n",
        "  X = featurizer.fit_transform(sents)\n",
        "\n",
        "  # compute similarity matrix\n",
        "  S = cosine_similarity(X)\n",
        "\n",
        "  # normalize similarity matrix\n",
        "  S /= S.sum(axis=1, keepdims=True)\n",
        "\n",
        "  # uniform transition matrix\n",
        "  U = np.ones_like(S) / len(S)\n",
        "\n",
        "  # smoothed similarity matrix\n",
        "  S = (1 - factor) * S + factor * U\n",
        "\n",
        "  # find the limiting / stationary distribution\n",
        "  eigenvals, eigenvecs = np.linalg.eig(S.T)\n",
        "\n",
        "  # compute scores\n",
        "  scores = eigenvecs[:,0] / eigenvecs[:,0].sum()\n",
        "  \n",
        "  # sort the scores\n",
        "  sort_idx = np.argsort(-scores)\n",
        "\n",
        "  # print summary\n",
        "  \n",
        "  print(\"Generated summary:\")\n",
        "  for i in sort_idx[:15]:\n",
        "    print(wrap(\"%.2f: %s\" % (scores[i], sents[i])))"
      ],
      "metadata": {
        "id": "Tl-6TdGNBeex"
      },
      "execution_count": null,
      "outputs": []
    },
    {
      "cell_type": "code",
      "source": [
        "doc = df[df.labels == 'business']['text'].sample(random_state=123)\n",
        "summarize(doc.iloc[0].split(\"\\n\", 1)[1])"
      ],
      "metadata": {
        "colab": {
          "base_uri": "https://localhost:8080/"
        },
        "id": "eIBDqML_5MmU",
        "outputId": "3f9b96e4-a3bb-4df2-e15f-bc4e622ca49b"
      },
      "execution_count": null,
      "outputs": [
        {
          "output_type": "stream",
          "name": "stdout",
          "text": [
            "Generated summary:\n",
            "0.10: WPP in recent years has also bought firms such as Ogilvy &\n",
            "Mather and Cordiant Communications.\n",
            "0.10: \n",
            "UK advertising giant WPP has posted larger-than-expected annual\n",
            "profits and predicted that it will outperform the market in 2005.\n",
            "0.09: The long-term outlook looks \"very favourable\" because of media\n",
            "and technology developments and the strength of the US economy, WPP\n",
            "said.\n",
            "0.09: During the year WPP bought US rival Grey Global, creating a\n",
            "giant big enough to rival sector leader Omnicom.\n",
            "0.09: Chief Executive Martin Sorrell on Friday told Reuters news\n",
            "agency that WPP had submitted a proposal for United Business Media's\n",
            "NOP World market research unit.\n",
            "0.09: Pre-tax profits rose 15% from a year ago to reach £546m\n",
            "($1.04bn), ahead of average analysts' forecasts of £532m.\n",
            "0.09: Events such as the Olympics helped boost WPP's profits in 2004.\n",
            "0.09: The company said the US Congressional elections and the FIFA\n",
            "World Cup are likely to present advertising opportunities in the near\n",
            "future.\n",
            "0.09: Revenues were £4.3bn while the firm's operating margins were\n",
            "14.1%, which it said could reach 14.8% by 2006.\n",
            "0.09: Analysts say the unit sell could sell for up to £350m.\n",
            "0.09: It also includes the firms Young & Rubicam and J Walter\n",
            "Thompson.\n"
          ]
        }
      ]
    },
    {
      "cell_type": "code",
      "source": [
        "print(doc.iloc[0].split(\"\\n\", 1)[1])"
      ],
      "metadata": {
        "colab": {
          "base_uri": "https://localhost:8080/"
        },
        "id": "k-rfMOfo6BzU",
        "outputId": "af3fc83e-d6e0-46b1-8688-23860decff39"
      },
      "execution_count": null,
      "outputs": [
        {
          "output_type": "stream",
          "name": "stdout",
          "text": [
            "\n",
            "UK advertising giant WPP has posted larger-than-expected annual profits and predicted that it will outperform the market in 2005.\n",
            "\n",
            "Pre-tax profits rose 15% from a year ago to reach £546m ($1.04bn), ahead of average analysts' forecasts of £532m. Revenues were £4.3bn while the firm's operating margins were 14.1%, which it said could reach 14.8% by 2006. During the year WPP bought US rival Grey Global, creating a giant big enough to rival sector leader Omnicom.\n",
            "\n",
            "Chief Executive Martin Sorrell on Friday told Reuters news agency that WPP had submitted a proposal for United Business Media's NOP World market research unit. Analysts say the unit sell could sell for up to £350m. WPP in recent years has also bought firms such as Ogilvy & Mather and Cordiant Communications. It also includes the firms Young & Rubicam and J Walter Thompson. Events such as the Olympics helped boost WPP's profits in 2004. The company said the US Congressional elections and the FIFA World Cup are likely to present advertising opportunities in the near future. The long-term outlook looks \"very favourable\" because of media and technology developments and the strength of the US economy, WPP said.\n"
          ]
        }
      ]
    },
    {
      "cell_type": "code",
      "source": [
        "print(doc.iloc[0])"
      ],
      "metadata": {
        "colab": {
          "base_uri": "https://localhost:8080/"
        },
        "id": "XXeI3woKNDQJ",
        "outputId": "8a888d3a-347b-4f2b-d4a4-f531b2453cdd"
      },
      "execution_count": null,
      "outputs": [
        {
          "output_type": "stream",
          "name": "stdout",
          "text": [
            "Ad firm WPP's profits surge 15%\n",
            "\n",
            "UK advertising giant WPP has posted larger-than-expected annual profits and predicted that it will outperform the market in 2005.\n",
            "\n",
            "Pre-tax profits rose 15% from a year ago to reach £546m ($1.04bn), ahead of average analysts' forecasts of £532m. Revenues were £4.3bn while the firm's operating margins were 14.1%, which it said could reach 14.8% by 2006. During the year WPP bought US rival Grey Global, creating a giant big enough to rival sector leader Omnicom.\n",
            "\n",
            "Chief Executive Martin Sorrell on Friday told Reuters news agency that WPP had submitted a proposal for United Business Media's NOP World market research unit. Analysts say the unit sell could sell for up to £350m. WPP in recent years has also bought firms such as Ogilvy & Mather and Cordiant Communications. It also includes the firms Young & Rubicam and J Walter Thompson. Events such as the Olympics helped boost WPP's profits in 2004. The company said the US Congressional elections and the FIFA World Cup are likely to present advertising opportunities in the near future. The long-term outlook looks \"very favourable\" because of media and technology developments and the strength of the US economy, WPP said.\n"
          ]
        }
      ]
    },
    {
      "cell_type": "code",
      "source": [
        "print(wrap(doc.iloc[0]))"
      ],
      "metadata": {
        "colab": {
          "base_uri": "https://localhost:8080/"
        },
        "id": "DCGqqTtB6Cko",
        "outputId": "010eda06-7ffd-4363-97bc-42f8fe1f2feb"
      },
      "execution_count": null,
      "outputs": [
        {
          "output_type": "stream",
          "name": "stdout",
          "text": [
            "Ad firm WPP's profits surge 15%\n",
            "\n",
            "UK advertising giant WPP has posted\n",
            "larger-than-expected annual profits and predicted that it will\n",
            "outperform the market in 2005.\n",
            "\n",
            "Pre-tax profits rose 15% from a year\n",
            "ago to reach £546m ($1.04bn), ahead of average analysts' forecasts of\n",
            "£532m.  Revenues were £4.3bn while the firm's operating margins were\n",
            "14.1%, which it said could reach 14.8% by 2006. During the year WPP\n",
            "bought US rival Grey Global, creating a giant big enough to rival\n",
            "sector leader Omnicom.\n",
            "\n",
            "Chief Executive Martin Sorrell on Friday told\n",
            "Reuters news agency that WPP had submitted a proposal for United\n",
            "Business Media's NOP World market research unit.  Analysts say the\n",
            "unit sell could sell for up to £350m.  WPP in recent years has also\n",
            "bought firms such as Ogilvy & Mather and Cordiant Communications.  It\n",
            "also includes the firms Young & Rubicam and J Walter Thompson.  Events\n",
            "such as the Olympics helped boost WPP's profits in 2004. The company\n",
            "said the US Congressional elections and the FIFA World Cup are likely\n",
            "to present advertising opportunities in the near future.  The long-\n",
            "term outlook looks \"very favourable\" because of media and technology\n",
            "developments and the strength of the US economy, WPP said.\n"
          ]
        }
      ]
    },
    {
      "cell_type": "code",
      "source": [
        "doc = df[df.labels == 'entertainment']['text'].sample(random_state=123)\n",
        "summarize(doc.iloc[0].split(\"\\n\", 1)[1])"
      ],
      "metadata": {
        "id": "sa7IIQ2SbGH5",
        "colab": {
          "base_uri": "https://localhost:8080/"
        },
        "outputId": "36cd3237-9b72-41bd-abee-b4545ff0ff7c"
      },
      "execution_count": null,
      "outputs": [
        {
          "output_type": "stream",
          "name": "stdout",
          "text": [
            "Generated summary:\n",
            "0.11: Goodrem, Green Day and the Black Eyed Peas took home two awards\n",
            "each.\n",
            "0.10: As well as best female, Goodrem also took home the Pepsi Viewers\n",
            "Choice Award, whilst Green Day bagged the prize for best rock video\n",
            "for American Idiot.\n",
            "0.10: Other winners included Green Day, voted best group, and the\n",
            "Black Eyed Peas.\n",
            "0.10: The Black Eyed Peas won awards for best R 'n' B video and\n",
            "sexiest video, both for Hey Mama.\n",
            "0.10: Local singer and songwriter Missy Higgins took the title of\n",
            "breakthrough artist of the year, with Australian Idol winner Guy\n",
            "Sebastian taking the honours for best pop video.\n",
            "0.10: The 21-year-old singer won the award for best female artist,\n",
            "with Australian Idol runner-up Shannon Noll taking the title of best\n",
            "male at the ceremony.\n",
            "0.09: \n",
            "Pop singer Delta Goodrem has scooped one of the top individual\n",
            "prizes at the first Australian MTV Music Awards.\n",
            "0.08: The ceremony was held at the Luna Park fairground in Sydney\n",
            "Harbour and was hosted by the Osbourne family.\n",
            "0.08: Artists including Carmen Electra, Missy Higgins, Kelly Osbourne,\n",
            "Green Day, Ja Rule and Natalie Imbruglia gave live performances at the\n",
            "event.\n",
            "0.08: The VH1 First Music Award went to Cher honouring her\n",
            "achievements within the music industry.\n",
            "0.08: Goodrem, known in both Britain and Australia for her role as\n",
            "Nina Tucker in TV soap Neighbours, also performed a duet with\n",
            "boyfriend Brian McFadden.\n"
          ]
        }
      ]
    },
    {
      "cell_type": "code",
      "source": [
        "print(doc.iloc[0].split(\"\\n\", 1)[1])"
      ],
      "metadata": {
        "colab": {
          "base_uri": "https://localhost:8080/"
        },
        "id": "N_687TZob0Yz",
        "outputId": "c5c365c9-eeaa-4d3d-cb9f-c128014ab87a"
      },
      "execution_count": null,
      "outputs": [
        {
          "output_type": "stream",
          "name": "stdout",
          "text": [
            "\n",
            "Pop singer Delta Goodrem has scooped one of the top individual prizes at the first Australian MTV Music Awards.\n",
            "\n",
            "The 21-year-old singer won the award for best female artist, with Australian Idol runner-up Shannon Noll taking the title of best male at the ceremony. Goodrem, known in both Britain and Australia for her role as Nina Tucker in TV soap Neighbours, also performed a duet with boyfriend Brian McFadden. Other winners included Green Day, voted best group, and the Black Eyed Peas. Goodrem, Green Day and the Black Eyed Peas took home two awards each. As well as best female, Goodrem also took home the Pepsi Viewers Choice Award, whilst Green Day bagged the prize for best rock video for American Idiot. The Black Eyed Peas won awards for best R 'n' B video and sexiest video, both for Hey Mama. Local singer and songwriter Missy Higgins took the title of breakthrough artist of the year, with Australian Idol winner Guy Sebastian taking the honours for best pop video. The VH1 First Music Award went to Cher honouring her achievements within the music industry. The ceremony was held at the Luna Park fairground in Sydney Harbour and was hosted by the Osbourne family. Artists including Carmen Electra, Missy Higgins, Kelly Osbourne, Green Day, Ja Rule and Natalie Imbruglia gave live performances at the event.\n"
          ]
        }
      ]
    },
    {
      "cell_type": "code",
      "source": [
        "print(doc.iloc[0].split(\"\\n\", 1)[0])"
      ],
      "metadata": {
        "colab": {
          "base_uri": "https://localhost:8080/"
        },
        "id": "mceDphld0euR",
        "outputId": "ff45882d-ad07-4c7a-daa8-dd7d08deb7f9"
      },
      "execution_count": null,
      "outputs": [
        {
          "output_type": "stream",
          "name": "stdout",
          "text": [
            "Goodrem wins top female MTV prize\n"
          ]
        }
      ]
    },
    {
      "cell_type": "code",
      "source": [
        "#print(wrap(doc.iloc[0][0]))"
      ],
      "metadata": {
        "id": "7VgqsjMtSfct"
      },
      "execution_count": null,
      "outputs": []
    },
    {
      "cell_type": "code",
      "source": [
        "print(wrap(doc.iloc[0].split(\"\\n\", 1)[1]))"
      ],
      "metadata": {
        "colab": {
          "base_uri": "https://localhost:8080/"
        },
        "id": "4935VbViyq4o",
        "outputId": "de6b6435-72a6-48fe-b1d1-a6b2ca22d34c"
      },
      "execution_count": null,
      "outputs": [
        {
          "output_type": "stream",
          "name": "stdout",
          "text": [
            "\n",
            "Pop singer Delta Goodrem has scooped one of the top individual prizes\n",
            "at the first Australian MTV Music Awards.\n",
            "\n",
            "The 21-year-old singer won\n",
            "the award for best female artist, with Australian Idol runner-up\n",
            "Shannon Noll taking the title of best male at the ceremony.  Goodrem,\n",
            "known in both Britain and Australia for her role as Nina Tucker in TV\n",
            "soap Neighbours, also performed a duet with boyfriend Brian McFadden.\n",
            "Other winners included Green Day, voted best group, and the Black Eyed\n",
            "Peas.  Goodrem, Green Day and the Black Eyed Peas took home two awards\n",
            "each.  As well as best female, Goodrem also took home the Pepsi\n",
            "Viewers Choice Award, whilst Green Day bagged the prize for best rock\n",
            "video for American Idiot.  The Black Eyed Peas won awards for best R\n",
            "'n' B video and sexiest video, both for Hey Mama.  Local singer and\n",
            "songwriter Missy Higgins took the title of breakthrough artist of the\n",
            "year, with Australian Idol winner Guy Sebastian taking the honours for\n",
            "best pop video.  The VH1 First Music Award went to Cher honouring her\n",
            "achievements within the music industry.  The ceremony was held at the\n",
            "Luna Park fairground in Sydney Harbour and was hosted by the Osbourne\n",
            "family.  Artists including Carmen Electra, Missy Higgins, Kelly\n",
            "Osbourne, Green Day, Ja Rule and Natalie Imbruglia gave live\n",
            "performances at the event.\n"
          ]
        }
      ]
    },
    {
      "cell_type": "code",
      "source": [
        "print(wrap(doc.iloc[0]))"
      ],
      "metadata": {
        "colab": {
          "base_uri": "https://localhost:8080/"
        },
        "id": "qH-6yAZ9RJ1x",
        "outputId": "1b3774ad-edf2-4a91-8097-378b734ebb2c"
      },
      "execution_count": null,
      "outputs": [
        {
          "output_type": "stream",
          "name": "stdout",
          "text": [
            "Goodrem wins top female MTV prize\n",
            "\n",
            "Pop singer Delta Goodrem has\n",
            "scooped one of the top individual prizes at the first Australian MTV\n",
            "Music Awards.\n",
            "\n",
            "The 21-year-old singer won the award for best female\n",
            "artist, with Australian Idol runner-up Shannon Noll taking the title\n",
            "of best male at the ceremony.  Goodrem, known in both Britain and\n",
            "Australia for her role as Nina Tucker in TV soap Neighbours, also\n",
            "performed a duet with boyfriend Brian McFadden.  Other winners\n",
            "included Green Day, voted best group, and the Black Eyed Peas.\n",
            "Goodrem, Green Day and the Black Eyed Peas took home two awards each.\n",
            "As well as best female, Goodrem also took home the Pepsi Viewers\n",
            "Choice Award, whilst Green Day bagged the prize for best rock video\n",
            "for American Idiot.  The Black Eyed Peas won awards for best R 'n' B\n",
            "video and sexiest video, both for Hey Mama.  Local singer and\n",
            "songwriter Missy Higgins took the title of breakthrough artist of the\n",
            "year, with Australian Idol winner Guy Sebastian taking the honours for\n",
            "best pop video.  The VH1 First Music Award went to Cher honouring her\n",
            "achievements within the music industry.  The ceremony was held at the\n",
            "Luna Park fairground in Sydney Harbour and was hosted by the Osbourne\n",
            "family.  Artists including Carmen Electra, Missy Higgins, Kelly\n",
            "Osbourne, Green Day, Ja Rule and Natalie Imbruglia gave live\n",
            "performances at the event.\n"
          ]
        }
      ]
    },
    {
      "cell_type": "code",
      "source": [
        "doc = df[df.labels == 'tech']['text'].sample(random_state=123)\n",
        "summarize(doc.iloc[0].split(\"\\n\", 1)[1])"
      ],
      "metadata": {
        "colab": {
          "base_uri": "https://localhost:8080/"
        },
        "id": "j8axY-OMURou",
        "outputId": "7366bb43-a0ea-4f75-8e00-5e75ca4c94ff"
      },
      "execution_count": null,
      "outputs": [
        {
          "output_type": "stream",
          "name": "stdout",
          "text": [
            "Generated summary:\n",
            "0.07: The Commodore 64 sold more than any other single computer\n",
            "system, even to this day.\n",
            "0.07: In the late 1980s the firm was a great rival to Atari, which\n",
            "produced its own range of home computers and is now a brand of video\n",
            "games, formerly known as Infogrames.\n",
            "0.07: The groundbreaking Commodore 64 computer elicits fond memories\n",
            "for those who owned one back in the 1980s.\n",
            "0.07: The Commodore 64, launched in 1982, was one of the first\n",
            "affordable home PCs.\n",
            "0.07: \n",
            "The once-famous Commodore computer brand could be resurrected\n",
            "after being bought by a US-based digital music distributor.\n",
            "0.07: Commodore International filed for bankruptcy in 1994 and was\n",
            "sold to Dutch firm Tulip Computers.\n",
            "0.07: In the chronology of home computing, Commodore was one of the\n",
            "pioneers.\n",
            "0.07: Commodore 64 enthusiasts have written emulators for Windows PC,\n",
            "Apple Mac and even PDAs so that the original Commodore games can be\n",
            "still run.\n",
            "0.07: Tulip Computers sold several products under the Commodore name,\n",
            "including portable USB storage devices and digital music players.\n",
            "0.07: It was followed a few years later by the Amiga.\n",
            "0.06: It had planned to relaunch the brand, following an upsurge of\n",
            "nostalgia for 1980s-era games.\n",
            "0.06: The brand languished somewhat in the 1990s.\n",
            "0.06: It also plans to develop a \"worldwide entertainment concept\"\n",
            "with the brand, although details are not yet known.\n",
            "0.06: New owner Yeahronimo Media Ventures has not ruled out the\n",
            "possibility of a new breed of Commodore computers.\n",
            "0.06: The sale of Commodore is expected to be complete in three weeks\n",
            "in a deal worth over £17m.\n"
          ]
        }
      ]
    },
    {
      "cell_type": "code",
      "source": [
        "print(wrap(doc.iloc[0]))"
      ],
      "metadata": {
        "colab": {
          "base_uri": "https://localhost:8080/"
        },
        "id": "EVjQwhvHURsa",
        "outputId": "59d4779f-7b01-49ab-99a3-643a4a5c75c2"
      },
      "execution_count": null,
      "outputs": [
        {
          "output_type": "stream",
          "name": "stdout",
          "text": [
            "Commodore finds new lease of life\n",
            "\n",
            "The once-famous Commodore computer\n",
            "brand could be resurrected after being bought by a US-based digital\n",
            "music distributor.\n",
            "\n",
            "New owner Yeahronimo Media Ventures has not ruled\n",
            "out the possibility of a new breed of Commodore computers.  It also\n",
            "plans to develop a \"worldwide entertainment concept\" with the brand,\n",
            "although details are not yet known.  The groundbreaking Commodore 64\n",
            "computer elicits fond memories for those who owned one back in the\n",
            "1980s.\n",
            "\n",
            "In the chronology of home computing, Commodore was one of the\n",
            "pioneers.\n",
            "\n",
            "The Commodore 64, launched in 1982, was one of the first\n",
            "affordable home PCs.  It was followed a few years later by the Amiga.\n",
            "The Commodore 64 sold more than any other single computer system, even\n",
            "to this day.  The brand languished somewhat in the 1990s.  Commodore\n",
            "International filed for bankruptcy in 1994 and was sold to Dutch firm\n",
            "Tulip Computers.  In the late 1980s the firm was a great rival to\n",
            "Atari, which produced its own range of home computers and is now a\n",
            "brand of video games, formerly known as Infogrames.\n",
            "\n",
            "Tulip Computers\n",
            "sold several products under the Commodore name, including portable USB\n",
            "storage devices and digital music players.  It had planned to relaunch\n",
            "the brand, following an upsurge of nostalgia for 1980s-era games.\n",
            "Commodore 64 enthusiasts have written emulators for Windows PC, Apple\n",
            "Mac and even PDAs so that the original Commodore games can be still\n",
            "run.  The sale of Commodore is expected to be complete in three weeks\n",
            "in a deal worth over £17m.\n"
          ]
        }
      ]
    },
    {
      "cell_type": "code",
      "source": [
        "print(wrap(doc.iloc[0].split(\"\\n\",1)[0]))"
      ],
      "metadata": {
        "colab": {
          "base_uri": "https://localhost:8080/"
        },
        "id": "vgWpjHQYURwq",
        "outputId": "9be5087e-561d-4d41-db62-68f7dce73ec6"
      },
      "execution_count": null,
      "outputs": [
        {
          "output_type": "stream",
          "name": "stdout",
          "text": [
            "Commodore finds new lease of life\n"
          ]
        }
      ]
    },
    {
      "cell_type": "code",
      "source": [
        "print(wrap(doc.iloc[0].split(\"\\n\",1)[1]))"
      ],
      "metadata": {
        "colab": {
          "base_uri": "https://localhost:8080/"
        },
        "id": "UaOas4hZUR74",
        "outputId": "5d771450-143c-4f89-9d56-9ac4ba8e1d12"
      },
      "execution_count": null,
      "outputs": [
        {
          "output_type": "stream",
          "name": "stdout",
          "text": [
            "\n",
            "The once-famous Commodore computer brand could be resurrected after\n",
            "being bought by a US-based digital music distributor.\n",
            "\n",
            "New owner\n",
            "Yeahronimo Media Ventures has not ruled out the possibility of a new\n",
            "breed of Commodore computers.  It also plans to develop a \"worldwide\n",
            "entertainment concept\" with the brand, although details are not yet\n",
            "known.  The groundbreaking Commodore 64 computer elicits fond memories\n",
            "for those who owned one back in the 1980s.\n",
            "\n",
            "In the chronology of home\n",
            "computing, Commodore was one of the pioneers.\n",
            "\n",
            "The Commodore 64,\n",
            "launched in 1982, was one of the first affordable home PCs.  It was\n",
            "followed a few years later by the Amiga.  The Commodore 64 sold more\n",
            "than any other single computer system, even to this day.  The brand\n",
            "languished somewhat in the 1990s.  Commodore International filed for\n",
            "bankruptcy in 1994 and was sold to Dutch firm Tulip Computers.  In the\n",
            "late 1980s the firm was a great rival to Atari, which produced its own\n",
            "range of home computers and is now a brand of video games, formerly\n",
            "known as Infogrames.\n",
            "\n",
            "Tulip Computers sold several products under the\n",
            "Commodore name, including portable USB storage devices and digital\n",
            "music players.  It had planned to relaunch the brand, following an\n",
            "upsurge of nostalgia for 1980s-era games.  Commodore 64 enthusiasts\n",
            "have written emulators for Windows PC, Apple Mac and even PDAs so that\n",
            "the original Commodore games can be still run.  The sale of Commodore\n",
            "is expected to be complete in three weeks in a deal worth over £17m.\n"
          ]
        }
      ]
    },
    {
      "cell_type": "markdown",
      "source": [
        "## Libraries for Text Summarization"
      ],
      "metadata": {
        "id": "L3Nq83GTTTvL"
      }
    },
    {
      "cell_type": "code",
      "source": [
        "!pip install sumy"
      ],
      "metadata": {
        "colab": {
          "base_uri": "https://localhost:8080/"
        },
        "id": "Mx73fH1pTVa5",
        "outputId": "fc8eef2d-8f2c-4575-dffd-9402ed4aa58a"
      },
      "execution_count": null,
      "outputs": [
        {
          "output_type": "stream",
          "name": "stdout",
          "text": [
            "Looking in indexes: https://pypi.org/simple, https://us-python.pkg.dev/colab-wheels/public/simple/\n",
            "Requirement already satisfied: sumy in /usr/local/lib/python3.7/dist-packages (0.10.0)\n",
            "Requirement already satisfied: pycountry>=18.2.23 in /usr/local/lib/python3.7/dist-packages (from sumy) (22.3.5)\n",
            "Requirement already satisfied: nltk>=3.0.2 in /usr/local/lib/python3.7/dist-packages (from sumy) (3.7)\n",
            "Requirement already satisfied: docopt<0.7,>=0.6.1 in /usr/local/lib/python3.7/dist-packages (from sumy) (0.6.2)\n",
            "Requirement already satisfied: requests>=2.7.0 in /usr/local/lib/python3.7/dist-packages (from sumy) (2.23.0)\n",
            "Requirement already satisfied: breadability>=0.1.20 in /usr/local/lib/python3.7/dist-packages (from sumy) (0.1.20)\n",
            "Requirement already satisfied: lxml>=2.0 in /usr/local/lib/python3.7/dist-packages (from breadability>=0.1.20->sumy) (4.2.6)\n",
            "Requirement already satisfied: chardet in /usr/local/lib/python3.7/dist-packages (from breadability>=0.1.20->sumy) (3.0.4)\n",
            "Requirement already satisfied: joblib in /usr/local/lib/python3.7/dist-packages (from nltk>=3.0.2->sumy) (1.1.0)\n",
            "Requirement already satisfied: click in /usr/local/lib/python3.7/dist-packages (from nltk>=3.0.2->sumy) (7.1.2)\n",
            "Requirement already satisfied: regex>=2021.8.3 in /usr/local/lib/python3.7/dist-packages (from nltk>=3.0.2->sumy) (2022.6.2)\n",
            "Requirement already satisfied: tqdm in /usr/local/lib/python3.7/dist-packages (from nltk>=3.0.2->sumy) (4.64.0)\n",
            "Requirement already satisfied: setuptools in /usr/local/lib/python3.7/dist-packages (from pycountry>=18.2.23->sumy) (57.4.0)\n",
            "Requirement already satisfied: idna<3,>=2.5 in /usr/local/lib/python3.7/dist-packages (from requests>=2.7.0->sumy) (2.10)\n",
            "Requirement already satisfied: urllib3!=1.25.0,!=1.25.1,<1.26,>=1.21.1 in /usr/local/lib/python3.7/dist-packages (from requests>=2.7.0->sumy) (1.24.3)\n",
            "Requirement already satisfied: certifi>=2017.4.17 in /usr/local/lib/python3.7/dist-packages (from requests>=2.7.0->sumy) (2022.6.15)\n"
          ]
        }
      ]
    },
    {
      "cell_type": "code",
      "source": [
        "from sumy.summarizers.text_rank import TextRankSummarizer\n",
        "from sumy.summarizers.lsa import LsaSummarizer\n",
        "from sumy.parsers.plaintext import PlaintextParser\n",
        "from sumy.nlp.tokenizers import Tokenizer"
      ],
      "metadata": {
        "id": "e8EA7i-Gb2aY"
      },
      "execution_count": null,
      "outputs": []
    },
    {
      "cell_type": "code",
      "source": [
        "summarizer = TextRankSummarizer()\n",
        "parser = PlaintextParser.from_string(\n",
        "    doc.iloc[0].split(\"\\n\", 1)[1],\n",
        "    Tokenizer(\"english\"))\n",
        "summary = summarizer(parser.document, sentences_count=5)"
      ],
      "metadata": {
        "id": "dSFyUQ-MTUtF"
      },
      "execution_count": null,
      "outputs": []
    },
    {
      "cell_type": "code",
      "source": [
        "summary"
      ],
      "metadata": {
        "colab": {
          "base_uri": "https://localhost:8080/"
        },
        "id": "x2-Fdr0DV_1J",
        "outputId": "39d4e134-1c02-4625-d1b8-e4d2cb50f6b3"
      },
      "execution_count": null,
      "outputs": [
        {
          "output_type": "execute_result",
          "data": {
            "text/plain": [
              "(<Sentence: The groundbreaking Commodore 64 computer elicits fond memories for those who owned one back in the 1980s.>,\n",
              " <Sentence: In the chronology of home computing, Commodore was one of the pioneers.>,\n",
              " <Sentence: The Commodore 64, launched in 1982, was one of the first affordable home PCs.>,\n",
              " <Sentence: In the late 1980s the firm was a great rival to Atari, which produced its own range of home computers and is now a brand of video games, formerly known as Infogrames.>,\n",
              " <Sentence: The sale of Commodore is expected to be complete in three weeks in a deal worth over £17m.>)"
            ]
          },
          "metadata": {},
          "execution_count": 58
        }
      ]
    },
    {
      "cell_type": "code",
      "source": [
        "for s in summary:\n",
        "  print(wrap(str(s)))"
      ],
      "metadata": {
        "colab": {
          "base_uri": "https://localhost:8080/"
        },
        "id": "h43RV3JRTfuA",
        "outputId": "25a3a109-ffd8-4771-a6f5-e308c1a8cd1c"
      },
      "execution_count": null,
      "outputs": [
        {
          "output_type": "stream",
          "name": "stdout",
          "text": [
            "The groundbreaking Commodore 64 computer elicits fond memories for\n",
            "those who owned one back in the 1980s.\n",
            "In the chronology of home computing, Commodore was one of the\n",
            "pioneers.\n",
            "The Commodore 64, launched in 1982, was one of the first affordable\n",
            "home PCs.\n",
            "In the late 1980s the firm was a great rival to Atari, which produced\n",
            "its own range of home computers and is now a brand of video games,\n",
            "formerly known as Infogrames.\n",
            "The sale of Commodore is expected to be complete in three weeks in a\n",
            "deal worth over £17m.\n"
          ]
        }
      ]
    },
    {
      "cell_type": "code",
      "source": [
        "summarizer = LsaSummarizer()\n",
        "summary = summarizer(parser.document, sentences_count=5)\n",
        "for s in summary:\n",
        "  print(wrap(str(s)))"
      ],
      "metadata": {
        "colab": {
          "base_uri": "https://localhost:8080/"
        },
        "id": "J0acGEWag53L",
        "outputId": "3463fca5-76eb-4c08-c308-d6d1b14d279e"
      },
      "execution_count": null,
      "outputs": [
        {
          "output_type": "stream",
          "name": "stdout",
          "text": [
            "The once-famous Commodore computer brand could be resurrected after\n",
            "being bought by a US-based digital music distributor.\n",
            "It also plans to develop a \"worldwide entertainment concept\" with the\n",
            "brand, although details are not yet known.\n",
            "The Commodore 64 sold more than any other single computer system, even\n",
            "to this day.\n",
            "Commodore International filed for bankruptcy in 1994 and was sold to\n",
            "Dutch firm Tulip Computers.\n",
            "Tulip Computers sold several products under the Commodore name,\n",
            "including portable USB storage devices and digital music players.\n"
          ]
        }
      ]
    },
    {
      "cell_type": "code",
      "source": [
        "# https://radimrehurek.com/gensim_3.8.3/summarization/summariser.html\n",
        "# https://arxiv.org/abs/1602.03606\n",
        "# Parameters\n",
        "# text (str) – Given text.\n",
        "# ratio (float, optional) – Number between 0 and 1 that determines the\n",
        "#     proportion of the number of sentences of the original text to be\n",
        "#     chosen for the summary.\n",
        "# word_count (int or None, optional) – Determines how many words will the\n",
        "#     output contain. If both parameters are provided, the ratio will be\n",
        "#     ignored.\n",
        "# split (bool, optional) – If True, list of sentences will be returned.\n",
        "#     Otherwise joined strings will bwe returned.\n",
        "from gensim.summarization.summarizer import summarize\n",
        "summary = summarize(doc.iloc[0].split(\"\\n\", 1)[1])\n",
        "print(wrap(summary))"
      ],
      "metadata": {
        "colab": {
          "base_uri": "https://localhost:8080/"
        },
        "id": "ZGBN3SA_Tz3V",
        "outputId": "c210265e-68ce-4da9-dda0-5de0e743689a"
      },
      "execution_count": null,
      "outputs": [
        {
          "output_type": "stream",
          "name": "stdout",
          "text": [
            "In the late 1980s the firm was a great rival to Atari, which produced\n",
            "its own range of home computers and is now a brand of video games,\n",
            "formerly known as Infogrames.\n",
            "Tulip Computers sold several products\n",
            "under the Commodore name, including portable USB storage devices and\n",
            "digital music players.\n"
          ]
        }
      ]
    },
    {
      "cell_type": "code",
      "source": [],
      "metadata": {
        "id": "2O4igpViBcvY"
      },
      "execution_count": null,
      "outputs": []
    }
  ]
}